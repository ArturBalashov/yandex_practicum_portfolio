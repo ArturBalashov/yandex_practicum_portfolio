{
 "cells": [
  {
   "cell_type": "markdown",
   "metadata": {},
   "source": [
    "# Выбор локации для скважины"
   ]
  },
  {
   "cell_type": "markdown",
   "metadata": {},
   "source": [
    "Допустим, вы работаете в добывающей компании «XXX». Нужно решить, где бурить новую скважину.\n",
    "\n",
    "Вам предоставлены пробы нефти в трёх регионах: в каждом 100 000 месторождений, где измерили качество нефти и объём её запасов. Постройте модель машинного обучения, которая поможет определить регион, где добыча принесёт наибольшую прибыль. Проанализируйте возможную прибыль и риски техникой *Bootstrap.*\n",
    "\n",
    "Шаги для выбора локации:\n",
    "\n",
    "- В избранном регионе ищут месторождения, для каждого определяют значения признаков;\n",
    "- Строят модель и оценивают объём запасов;\n",
    "- Выбирают месторождения с самым высокими оценками значений. Количество месторождений зависит от бюджета компании и стоимости разработки одной скважины;\n",
    "- Прибыль равна суммарной прибыли отобранных месторождений."
   ]
  },
  {
   "cell_type": "markdown",
   "metadata": {},
   "source": [
    "## Загрузка и подготовка данных"
   ]
  },
  {
   "cell_type": "code",
   "execution_count": 1,
   "metadata": {},
   "outputs": [],
   "source": [
    "import pandas as pd\n",
    "import numpy as np\n",
    "import matplotlib.pyplot as plt\n",
    "import seaborn as sns\n",
    "\n",
    "from sklearn.metrics import mean_squared_error\n",
    "from sklearn.model_selection import train_test_split\n",
    "from sklearn.pipeline import Pipeline\n",
    "from sklearn.compose import ColumnTransformer\n",
    "from sklearn.neighbors import KNeighborsRegressor\n",
    "from sklearn.tree import DecisionTreeRegressor\n",
    "from sklearn.linear_model import LinearRegression\n",
    "from sklearn.ensemble import RandomForestRegressor\n",
    "from sklearn.model_selection import RandomizedSearchCV\n",
    "\n",
    "from sklearn.preprocessing import (\n",
    "    StandardScaler, \n",
    "    MinMaxScaler,\n",
    "    RobustScaler\n",
    ")"
   ]
  },
  {
   "cell_type": "code",
   "execution_count": 2,
   "metadata": {},
   "outputs": [],
   "source": [
    "RANDOM_STATE = 42\n",
    "TEST_SIZE = 0.25\n",
    "BUDGET = 10_000_000_000\n",
    "RESEARCH_POINTS = 500\n",
    "BEST_POINTS = 200\n",
    "SINGLE_PRODUCT = 450_000\n",
    "BOOTSTRAP_SAMPLES = 1000"
   ]
  },
  {
   "cell_type": "code",
   "execution_count": 3,
   "metadata": {},
   "outputs": [],
   "source": [
    "geo_data_0 = pd.read_csv('/datasets/geo_data_0.csv')"
   ]
  },
  {
   "cell_type": "code",
   "execution_count": 4,
   "metadata": {},
   "outputs": [
    {
     "data": {
      "text/html": [
       "<div>\n",
       "<style scoped>\n",
       "    .dataframe tbody tr th:only-of-type {\n",
       "        vertical-align: middle;\n",
       "    }\n",
       "\n",
       "    .dataframe tbody tr th {\n",
       "        vertical-align: top;\n",
       "    }\n",
       "\n",
       "    .dataframe thead th {\n",
       "        text-align: right;\n",
       "    }\n",
       "</style>\n",
       "<table border=\"1\" class=\"dataframe\">\n",
       "  <thead>\n",
       "    <tr style=\"text-align: right;\">\n",
       "      <th></th>\n",
       "      <th>id</th>\n",
       "      <th>f0</th>\n",
       "      <th>f1</th>\n",
       "      <th>f2</th>\n",
       "      <th>product</th>\n",
       "    </tr>\n",
       "  </thead>\n",
       "  <tbody>\n",
       "    <tr>\n",
       "      <th>0</th>\n",
       "      <td>txEyH</td>\n",
       "      <td>0.705745</td>\n",
       "      <td>-0.497823</td>\n",
       "      <td>1.221170</td>\n",
       "      <td>105.280062</td>\n",
       "    </tr>\n",
       "    <tr>\n",
       "      <th>1</th>\n",
       "      <td>2acmU</td>\n",
       "      <td>1.334711</td>\n",
       "      <td>-0.340164</td>\n",
       "      <td>4.365080</td>\n",
       "      <td>73.037750</td>\n",
       "    </tr>\n",
       "    <tr>\n",
       "      <th>2</th>\n",
       "      <td>409Wp</td>\n",
       "      <td>1.022732</td>\n",
       "      <td>0.151990</td>\n",
       "      <td>1.419926</td>\n",
       "      <td>85.265647</td>\n",
       "    </tr>\n",
       "    <tr>\n",
       "      <th>3</th>\n",
       "      <td>iJLyR</td>\n",
       "      <td>-0.032172</td>\n",
       "      <td>0.139033</td>\n",
       "      <td>2.978566</td>\n",
       "      <td>168.620776</td>\n",
       "    </tr>\n",
       "    <tr>\n",
       "      <th>4</th>\n",
       "      <td>Xdl7t</td>\n",
       "      <td>1.988431</td>\n",
       "      <td>0.155413</td>\n",
       "      <td>4.751769</td>\n",
       "      <td>154.036647</td>\n",
       "    </tr>\n",
       "  </tbody>\n",
       "</table>\n",
       "</div>"
      ],
      "text/plain": [
       "      id        f0        f1        f2     product\n",
       "0  txEyH  0.705745 -0.497823  1.221170  105.280062\n",
       "1  2acmU  1.334711 -0.340164  4.365080   73.037750\n",
       "2  409Wp  1.022732  0.151990  1.419926   85.265647\n",
       "3  iJLyR -0.032172  0.139033  2.978566  168.620776\n",
       "4  Xdl7t  1.988431  0.155413  4.751769  154.036647"
      ]
     },
     "execution_count": 4,
     "metadata": {},
     "output_type": "execute_result"
    }
   ],
   "source": [
    "geo_data_0.head(5)"
   ]
  },
  {
   "cell_type": "code",
   "execution_count": 5,
   "metadata": {},
   "outputs": [
    {
     "name": "stdout",
     "output_type": "stream",
     "text": [
      "<class 'pandas.core.frame.DataFrame'>\n",
      "RangeIndex: 100000 entries, 0 to 99999\n",
      "Data columns (total 5 columns):\n",
      " #   Column   Non-Null Count   Dtype  \n",
      "---  ------   --------------   -----  \n",
      " 0   id       100000 non-null  object \n",
      " 1   f0       100000 non-null  float64\n",
      " 2   f1       100000 non-null  float64\n",
      " 3   f2       100000 non-null  float64\n",
      " 4   product  100000 non-null  float64\n",
      "dtypes: float64(4), object(1)\n",
      "memory usage: 3.8+ MB\n"
     ]
    }
   ],
   "source": [
    "geo_data_0.info()"
   ]
  },
  {
   "cell_type": "code",
   "execution_count": 6,
   "metadata": {},
   "outputs": [
    {
     "data": {
      "text/html": [
       "<div>\n",
       "<style scoped>\n",
       "    .dataframe tbody tr th:only-of-type {\n",
       "        vertical-align: middle;\n",
       "    }\n",
       "\n",
       "    .dataframe tbody tr th {\n",
       "        vertical-align: top;\n",
       "    }\n",
       "\n",
       "    .dataframe thead th {\n",
       "        text-align: right;\n",
       "    }\n",
       "</style>\n",
       "<table border=\"1\" class=\"dataframe\">\n",
       "  <thead>\n",
       "    <tr style=\"text-align: right;\">\n",
       "      <th></th>\n",
       "      <th>f0</th>\n",
       "      <th>f1</th>\n",
       "      <th>f2</th>\n",
       "      <th>product</th>\n",
       "    </tr>\n",
       "  </thead>\n",
       "  <tbody>\n",
       "    <tr>\n",
       "      <th>count</th>\n",
       "      <td>100000.000000</td>\n",
       "      <td>100000.000000</td>\n",
       "      <td>100000.000000</td>\n",
       "      <td>100000.000000</td>\n",
       "    </tr>\n",
       "    <tr>\n",
       "      <th>mean</th>\n",
       "      <td>0.500419</td>\n",
       "      <td>0.250143</td>\n",
       "      <td>2.502647</td>\n",
       "      <td>92.500000</td>\n",
       "    </tr>\n",
       "    <tr>\n",
       "      <th>std</th>\n",
       "      <td>0.871832</td>\n",
       "      <td>0.504433</td>\n",
       "      <td>3.248248</td>\n",
       "      <td>44.288691</td>\n",
       "    </tr>\n",
       "    <tr>\n",
       "      <th>min</th>\n",
       "      <td>-1.408605</td>\n",
       "      <td>-0.848218</td>\n",
       "      <td>-12.088328</td>\n",
       "      <td>0.000000</td>\n",
       "    </tr>\n",
       "    <tr>\n",
       "      <th>25%</th>\n",
       "      <td>-0.072580</td>\n",
       "      <td>-0.200881</td>\n",
       "      <td>0.287748</td>\n",
       "      <td>56.497507</td>\n",
       "    </tr>\n",
       "    <tr>\n",
       "      <th>50%</th>\n",
       "      <td>0.502360</td>\n",
       "      <td>0.250252</td>\n",
       "      <td>2.515969</td>\n",
       "      <td>91.849972</td>\n",
       "    </tr>\n",
       "    <tr>\n",
       "      <th>75%</th>\n",
       "      <td>1.073581</td>\n",
       "      <td>0.700646</td>\n",
       "      <td>4.715088</td>\n",
       "      <td>128.564089</td>\n",
       "    </tr>\n",
       "    <tr>\n",
       "      <th>max</th>\n",
       "      <td>2.362331</td>\n",
       "      <td>1.343769</td>\n",
       "      <td>16.003790</td>\n",
       "      <td>185.364347</td>\n",
       "    </tr>\n",
       "  </tbody>\n",
       "</table>\n",
       "</div>"
      ],
      "text/plain": [
       "                  f0             f1             f2        product\n",
       "count  100000.000000  100000.000000  100000.000000  100000.000000\n",
       "mean        0.500419       0.250143       2.502647      92.500000\n",
       "std         0.871832       0.504433       3.248248      44.288691\n",
       "min        -1.408605      -0.848218     -12.088328       0.000000\n",
       "25%        -0.072580      -0.200881       0.287748      56.497507\n",
       "50%         0.502360       0.250252       2.515969      91.849972\n",
       "75%         1.073581       0.700646       4.715088     128.564089\n",
       "max         2.362331       1.343769      16.003790     185.364347"
      ]
     },
     "execution_count": 6,
     "metadata": {},
     "output_type": "execute_result"
    }
   ],
   "source": [
    "geo_data_0.describe()"
   ]
  },
  {
   "cell_type": "code",
   "execution_count": 7,
   "metadata": {},
   "outputs": [],
   "source": [
    "geo_data_1 = pd.read_csv('/datasets/geo_data_1.csv')"
   ]
  },
  {
   "cell_type": "code",
   "execution_count": 8,
   "metadata": {},
   "outputs": [
    {
     "data": {
      "text/html": [
       "<div>\n",
       "<style scoped>\n",
       "    .dataframe tbody tr th:only-of-type {\n",
       "        vertical-align: middle;\n",
       "    }\n",
       "\n",
       "    .dataframe tbody tr th {\n",
       "        vertical-align: top;\n",
       "    }\n",
       "\n",
       "    .dataframe thead th {\n",
       "        text-align: right;\n",
       "    }\n",
       "</style>\n",
       "<table border=\"1\" class=\"dataframe\">\n",
       "  <thead>\n",
       "    <tr style=\"text-align: right;\">\n",
       "      <th></th>\n",
       "      <th>id</th>\n",
       "      <th>f0</th>\n",
       "      <th>f1</th>\n",
       "      <th>f2</th>\n",
       "      <th>product</th>\n",
       "    </tr>\n",
       "  </thead>\n",
       "  <tbody>\n",
       "    <tr>\n",
       "      <th>0</th>\n",
       "      <td>kBEdx</td>\n",
       "      <td>-15.001348</td>\n",
       "      <td>-8.276000</td>\n",
       "      <td>-0.005876</td>\n",
       "      <td>3.179103</td>\n",
       "    </tr>\n",
       "    <tr>\n",
       "      <th>1</th>\n",
       "      <td>62mP7</td>\n",
       "      <td>14.272088</td>\n",
       "      <td>-3.475083</td>\n",
       "      <td>0.999183</td>\n",
       "      <td>26.953261</td>\n",
       "    </tr>\n",
       "    <tr>\n",
       "      <th>2</th>\n",
       "      <td>vyE1P</td>\n",
       "      <td>6.263187</td>\n",
       "      <td>-5.948386</td>\n",
       "      <td>5.001160</td>\n",
       "      <td>134.766305</td>\n",
       "    </tr>\n",
       "    <tr>\n",
       "      <th>3</th>\n",
       "      <td>KcrkZ</td>\n",
       "      <td>-13.081196</td>\n",
       "      <td>-11.506057</td>\n",
       "      <td>4.999415</td>\n",
       "      <td>137.945408</td>\n",
       "    </tr>\n",
       "    <tr>\n",
       "      <th>4</th>\n",
       "      <td>AHL4O</td>\n",
       "      <td>12.702195</td>\n",
       "      <td>-8.147433</td>\n",
       "      <td>5.004363</td>\n",
       "      <td>134.766305</td>\n",
       "    </tr>\n",
       "  </tbody>\n",
       "</table>\n",
       "</div>"
      ],
      "text/plain": [
       "      id         f0         f1        f2     product\n",
       "0  kBEdx -15.001348  -8.276000 -0.005876    3.179103\n",
       "1  62mP7  14.272088  -3.475083  0.999183   26.953261\n",
       "2  vyE1P   6.263187  -5.948386  5.001160  134.766305\n",
       "3  KcrkZ -13.081196 -11.506057  4.999415  137.945408\n",
       "4  AHL4O  12.702195  -8.147433  5.004363  134.766305"
      ]
     },
     "execution_count": 8,
     "metadata": {},
     "output_type": "execute_result"
    }
   ],
   "source": [
    "geo_data_1.head(5)"
   ]
  },
  {
   "cell_type": "code",
   "execution_count": 9,
   "metadata": {},
   "outputs": [
    {
     "name": "stdout",
     "output_type": "stream",
     "text": [
      "<class 'pandas.core.frame.DataFrame'>\n",
      "RangeIndex: 100000 entries, 0 to 99999\n",
      "Data columns (total 5 columns):\n",
      " #   Column   Non-Null Count   Dtype  \n",
      "---  ------   --------------   -----  \n",
      " 0   id       100000 non-null  object \n",
      " 1   f0       100000 non-null  float64\n",
      " 2   f1       100000 non-null  float64\n",
      " 3   f2       100000 non-null  float64\n",
      " 4   product  100000 non-null  float64\n",
      "dtypes: float64(4), object(1)\n",
      "memory usage: 3.8+ MB\n"
     ]
    }
   ],
   "source": [
    "geo_data_1.info()"
   ]
  },
  {
   "cell_type": "code",
   "execution_count": 10,
   "metadata": {},
   "outputs": [
    {
     "data": {
      "text/html": [
       "<div>\n",
       "<style scoped>\n",
       "    .dataframe tbody tr th:only-of-type {\n",
       "        vertical-align: middle;\n",
       "    }\n",
       "\n",
       "    .dataframe tbody tr th {\n",
       "        vertical-align: top;\n",
       "    }\n",
       "\n",
       "    .dataframe thead th {\n",
       "        text-align: right;\n",
       "    }\n",
       "</style>\n",
       "<table border=\"1\" class=\"dataframe\">\n",
       "  <thead>\n",
       "    <tr style=\"text-align: right;\">\n",
       "      <th></th>\n",
       "      <th>f0</th>\n",
       "      <th>f1</th>\n",
       "      <th>f2</th>\n",
       "      <th>product</th>\n",
       "    </tr>\n",
       "  </thead>\n",
       "  <tbody>\n",
       "    <tr>\n",
       "      <th>count</th>\n",
       "      <td>100000.000000</td>\n",
       "      <td>100000.000000</td>\n",
       "      <td>100000.000000</td>\n",
       "      <td>100000.000000</td>\n",
       "    </tr>\n",
       "    <tr>\n",
       "      <th>mean</th>\n",
       "      <td>1.141296</td>\n",
       "      <td>-4.796579</td>\n",
       "      <td>2.494541</td>\n",
       "      <td>68.825000</td>\n",
       "    </tr>\n",
       "    <tr>\n",
       "      <th>std</th>\n",
       "      <td>8.965932</td>\n",
       "      <td>5.119872</td>\n",
       "      <td>1.703572</td>\n",
       "      <td>45.944423</td>\n",
       "    </tr>\n",
       "    <tr>\n",
       "      <th>min</th>\n",
       "      <td>-31.609576</td>\n",
       "      <td>-26.358598</td>\n",
       "      <td>-0.018144</td>\n",
       "      <td>0.000000</td>\n",
       "    </tr>\n",
       "    <tr>\n",
       "      <th>25%</th>\n",
       "      <td>-6.298551</td>\n",
       "      <td>-8.267985</td>\n",
       "      <td>1.000021</td>\n",
       "      <td>26.953261</td>\n",
       "    </tr>\n",
       "    <tr>\n",
       "      <th>50%</th>\n",
       "      <td>1.153055</td>\n",
       "      <td>-4.813172</td>\n",
       "      <td>2.011479</td>\n",
       "      <td>57.085625</td>\n",
       "    </tr>\n",
       "    <tr>\n",
       "      <th>75%</th>\n",
       "      <td>8.621015</td>\n",
       "      <td>-1.332816</td>\n",
       "      <td>3.999904</td>\n",
       "      <td>107.813044</td>\n",
       "    </tr>\n",
       "    <tr>\n",
       "      <th>max</th>\n",
       "      <td>29.421755</td>\n",
       "      <td>18.734063</td>\n",
       "      <td>5.019721</td>\n",
       "      <td>137.945408</td>\n",
       "    </tr>\n",
       "  </tbody>\n",
       "</table>\n",
       "</div>"
      ],
      "text/plain": [
       "                  f0             f1             f2        product\n",
       "count  100000.000000  100000.000000  100000.000000  100000.000000\n",
       "mean        1.141296      -4.796579       2.494541      68.825000\n",
       "std         8.965932       5.119872       1.703572      45.944423\n",
       "min       -31.609576     -26.358598      -0.018144       0.000000\n",
       "25%        -6.298551      -8.267985       1.000021      26.953261\n",
       "50%         1.153055      -4.813172       2.011479      57.085625\n",
       "75%         8.621015      -1.332816       3.999904     107.813044\n",
       "max        29.421755      18.734063       5.019721     137.945408"
      ]
     },
     "execution_count": 10,
     "metadata": {},
     "output_type": "execute_result"
    }
   ],
   "source": [
    "geo_data_1.describe()"
   ]
  },
  {
   "cell_type": "code",
   "execution_count": 11,
   "metadata": {},
   "outputs": [],
   "source": [
    "geo_data_2 = pd.read_csv('/datasets/geo_data_2.csv')"
   ]
  },
  {
   "cell_type": "code",
   "execution_count": 12,
   "metadata": {},
   "outputs": [
    {
     "data": {
      "text/html": [
       "<div>\n",
       "<style scoped>\n",
       "    .dataframe tbody tr th:only-of-type {\n",
       "        vertical-align: middle;\n",
       "    }\n",
       "\n",
       "    .dataframe tbody tr th {\n",
       "        vertical-align: top;\n",
       "    }\n",
       "\n",
       "    .dataframe thead th {\n",
       "        text-align: right;\n",
       "    }\n",
       "</style>\n",
       "<table border=\"1\" class=\"dataframe\">\n",
       "  <thead>\n",
       "    <tr style=\"text-align: right;\">\n",
       "      <th></th>\n",
       "      <th>id</th>\n",
       "      <th>f0</th>\n",
       "      <th>f1</th>\n",
       "      <th>f2</th>\n",
       "      <th>product</th>\n",
       "    </tr>\n",
       "  </thead>\n",
       "  <tbody>\n",
       "    <tr>\n",
       "      <th>0</th>\n",
       "      <td>fwXo0</td>\n",
       "      <td>-1.146987</td>\n",
       "      <td>0.963328</td>\n",
       "      <td>-0.828965</td>\n",
       "      <td>27.758673</td>\n",
       "    </tr>\n",
       "    <tr>\n",
       "      <th>1</th>\n",
       "      <td>WJtFt</td>\n",
       "      <td>0.262778</td>\n",
       "      <td>0.269839</td>\n",
       "      <td>-2.530187</td>\n",
       "      <td>56.069697</td>\n",
       "    </tr>\n",
       "    <tr>\n",
       "      <th>2</th>\n",
       "      <td>ovLUW</td>\n",
       "      <td>0.194587</td>\n",
       "      <td>0.289035</td>\n",
       "      <td>-5.586433</td>\n",
       "      <td>62.871910</td>\n",
       "    </tr>\n",
       "    <tr>\n",
       "      <th>3</th>\n",
       "      <td>q6cA6</td>\n",
       "      <td>2.236060</td>\n",
       "      <td>-0.553760</td>\n",
       "      <td>0.930038</td>\n",
       "      <td>114.572842</td>\n",
       "    </tr>\n",
       "    <tr>\n",
       "      <th>4</th>\n",
       "      <td>WPMUX</td>\n",
       "      <td>-0.515993</td>\n",
       "      <td>1.716266</td>\n",
       "      <td>5.899011</td>\n",
       "      <td>149.600746</td>\n",
       "    </tr>\n",
       "  </tbody>\n",
       "</table>\n",
       "</div>"
      ],
      "text/plain": [
       "      id        f0        f1        f2     product\n",
       "0  fwXo0 -1.146987  0.963328 -0.828965   27.758673\n",
       "1  WJtFt  0.262778  0.269839 -2.530187   56.069697\n",
       "2  ovLUW  0.194587  0.289035 -5.586433   62.871910\n",
       "3  q6cA6  2.236060 -0.553760  0.930038  114.572842\n",
       "4  WPMUX -0.515993  1.716266  5.899011  149.600746"
      ]
     },
     "execution_count": 12,
     "metadata": {},
     "output_type": "execute_result"
    }
   ],
   "source": [
    "geo_data_2.head(5)"
   ]
  },
  {
   "cell_type": "code",
   "execution_count": 13,
   "metadata": {},
   "outputs": [
    {
     "name": "stdout",
     "output_type": "stream",
     "text": [
      "<class 'pandas.core.frame.DataFrame'>\n",
      "RangeIndex: 100000 entries, 0 to 99999\n",
      "Data columns (total 5 columns):\n",
      " #   Column   Non-Null Count   Dtype  \n",
      "---  ------   --------------   -----  \n",
      " 0   id       100000 non-null  object \n",
      " 1   f0       100000 non-null  float64\n",
      " 2   f1       100000 non-null  float64\n",
      " 3   f2       100000 non-null  float64\n",
      " 4   product  100000 non-null  float64\n",
      "dtypes: float64(4), object(1)\n",
      "memory usage: 3.8+ MB\n"
     ]
    }
   ],
   "source": [
    "geo_data_2.info()"
   ]
  },
  {
   "cell_type": "code",
   "execution_count": 14,
   "metadata": {},
   "outputs": [
    {
     "data": {
      "text/html": [
       "<div>\n",
       "<style scoped>\n",
       "    .dataframe tbody tr th:only-of-type {\n",
       "        vertical-align: middle;\n",
       "    }\n",
       "\n",
       "    .dataframe tbody tr th {\n",
       "        vertical-align: top;\n",
       "    }\n",
       "\n",
       "    .dataframe thead th {\n",
       "        text-align: right;\n",
       "    }\n",
       "</style>\n",
       "<table border=\"1\" class=\"dataframe\">\n",
       "  <thead>\n",
       "    <tr style=\"text-align: right;\">\n",
       "      <th></th>\n",
       "      <th>f0</th>\n",
       "      <th>f1</th>\n",
       "      <th>f2</th>\n",
       "      <th>product</th>\n",
       "    </tr>\n",
       "  </thead>\n",
       "  <tbody>\n",
       "    <tr>\n",
       "      <th>count</th>\n",
       "      <td>100000.000000</td>\n",
       "      <td>100000.000000</td>\n",
       "      <td>100000.000000</td>\n",
       "      <td>100000.000000</td>\n",
       "    </tr>\n",
       "    <tr>\n",
       "      <th>mean</th>\n",
       "      <td>0.002023</td>\n",
       "      <td>-0.002081</td>\n",
       "      <td>2.495128</td>\n",
       "      <td>95.000000</td>\n",
       "    </tr>\n",
       "    <tr>\n",
       "      <th>std</th>\n",
       "      <td>1.732045</td>\n",
       "      <td>1.730417</td>\n",
       "      <td>3.473445</td>\n",
       "      <td>44.749921</td>\n",
       "    </tr>\n",
       "    <tr>\n",
       "      <th>min</th>\n",
       "      <td>-8.760004</td>\n",
       "      <td>-7.084020</td>\n",
       "      <td>-11.970335</td>\n",
       "      <td>0.000000</td>\n",
       "    </tr>\n",
       "    <tr>\n",
       "      <th>25%</th>\n",
       "      <td>-1.162288</td>\n",
       "      <td>-1.174820</td>\n",
       "      <td>0.130359</td>\n",
       "      <td>59.450441</td>\n",
       "    </tr>\n",
       "    <tr>\n",
       "      <th>50%</th>\n",
       "      <td>0.009424</td>\n",
       "      <td>-0.009482</td>\n",
       "      <td>2.484236</td>\n",
       "      <td>94.925613</td>\n",
       "    </tr>\n",
       "    <tr>\n",
       "      <th>75%</th>\n",
       "      <td>1.158535</td>\n",
       "      <td>1.163678</td>\n",
       "      <td>4.858794</td>\n",
       "      <td>130.595027</td>\n",
       "    </tr>\n",
       "    <tr>\n",
       "      <th>max</th>\n",
       "      <td>7.238262</td>\n",
       "      <td>7.844801</td>\n",
       "      <td>16.739402</td>\n",
       "      <td>190.029838</td>\n",
       "    </tr>\n",
       "  </tbody>\n",
       "</table>\n",
       "</div>"
      ],
      "text/plain": [
       "                  f0             f1             f2        product\n",
       "count  100000.000000  100000.000000  100000.000000  100000.000000\n",
       "mean        0.002023      -0.002081       2.495128      95.000000\n",
       "std         1.732045       1.730417       3.473445      44.749921\n",
       "min        -8.760004      -7.084020     -11.970335       0.000000\n",
       "25%        -1.162288      -1.174820       0.130359      59.450441\n",
       "50%         0.009424      -0.009482       2.484236      94.925613\n",
       "75%         1.158535       1.163678       4.858794     130.595027\n",
       "max         7.238262       7.844801      16.739402     190.029838"
      ]
     },
     "execution_count": 14,
     "metadata": {},
     "output_type": "execute_result"
    }
   ],
   "source": [
    "geo_data_2.describe()"
   ]
  },
  {
   "cell_type": "code",
   "execution_count": 15,
   "metadata": {},
   "outputs": [],
   "source": [
    "geo_data_0.set_index('id', inplace=True)\n",
    "geo_data_1.set_index('id', inplace=True)\n",
    "geo_data_2.set_index('id', inplace=True)"
   ]
  },
  {
   "cell_type": "code",
   "execution_count": 16,
   "metadata": {},
   "outputs": [
    {
     "data": {
      "text/plain": [
       "'0'"
      ]
     },
     "metadata": {},
     "output_type": "display_data"
    },
    {
     "data": {
      "text/plain": [
       "f0         0\n",
       "f1         0\n",
       "f2         0\n",
       "product    0\n",
       "dtype: int64"
      ]
     },
     "metadata": {},
     "output_type": "display_data"
    },
    {
     "data": {
      "text/plain": [
       "'1'"
      ]
     },
     "metadata": {},
     "output_type": "display_data"
    },
    {
     "data": {
      "text/plain": [
       "f0         0\n",
       "f1         0\n",
       "f2         0\n",
       "product    0\n",
       "dtype: int64"
      ]
     },
     "metadata": {},
     "output_type": "display_data"
    },
    {
     "data": {
      "text/plain": [
       "'2'"
      ]
     },
     "metadata": {},
     "output_type": "display_data"
    },
    {
     "data": {
      "text/plain": [
       "f0         0\n",
       "f1         0\n",
       "f2         0\n",
       "product    0\n",
       "dtype: int64"
      ]
     },
     "metadata": {},
     "output_type": "display_data"
    }
   ],
   "source": [
    "display(\"0\", geo_data_0.isna().sum())\n",
    "display(\"1\", geo_data_1.isna().sum())\n",
    "display(\"2\", geo_data_2.isna().sum())"
   ]
  },
  {
   "cell_type": "code",
   "execution_count": 17,
   "metadata": {
    "scrolled": true
   },
   "outputs": [
    {
     "data": {
      "text/plain": [
       "'0'"
      ]
     },
     "metadata": {},
     "output_type": "display_data"
    },
    {
     "data": {
      "text/plain": [
       "0"
      ]
     },
     "metadata": {},
     "output_type": "display_data"
    },
    {
     "data": {
      "text/plain": [
       "'1'"
      ]
     },
     "metadata": {},
     "output_type": "display_data"
    },
    {
     "data": {
      "text/plain": [
       "0"
      ]
     },
     "metadata": {},
     "output_type": "display_data"
    },
    {
     "data": {
      "text/plain": [
       "'2'"
      ]
     },
     "metadata": {},
     "output_type": "display_data"
    },
    {
     "data": {
      "text/plain": [
       "0"
      ]
     },
     "metadata": {},
     "output_type": "display_data"
    }
   ],
   "source": [
    "display(\"0\", geo_data_0.duplicated().sum())\n",
    "display(\"1\", geo_data_1.duplicated().sum())\n",
    "display(\"2\", geo_data_2.duplicated().sum())"
   ]
  },
  {
   "cell_type": "code",
   "execution_count": 18,
   "metadata": {},
   "outputs": [
    {
     "data": {
      "text/plain": [
       "'0'"
      ]
     },
     "metadata": {},
     "output_type": "display_data"
    },
    {
     "data": {
      "text/plain": [
       "f0         100000\n",
       "f1         100000\n",
       "f2         100000\n",
       "product    100000\n",
       "dtype: int64"
      ]
     },
     "metadata": {},
     "output_type": "display_data"
    },
    {
     "data": {
      "text/plain": [
       "'1'"
      ]
     },
     "metadata": {},
     "output_type": "display_data"
    },
    {
     "data": {
      "text/plain": [
       "f0         100000\n",
       "f1         100000\n",
       "f2         100000\n",
       "product        12\n",
       "dtype: int64"
      ]
     },
     "metadata": {},
     "output_type": "display_data"
    },
    {
     "data": {
      "text/plain": [
       "'2'"
      ]
     },
     "metadata": {},
     "output_type": "display_data"
    },
    {
     "data": {
      "text/plain": [
       "f0         100000\n",
       "f1         100000\n",
       "f2         100000\n",
       "product    100000\n",
       "dtype: int64"
      ]
     },
     "metadata": {},
     "output_type": "display_data"
    }
   ],
   "source": [
    "display(\"0\", geo_data_0.nunique())\n",
    "display(\"1\", geo_data_1.nunique())\n",
    "display(\"2\", geo_data_2.nunique())"
   ]
  },
  {
   "cell_type": "code",
   "execution_count": 19,
   "metadata": {},
   "outputs": [
    {
     "data": {
      "text/plain": [
       "array([  3.17910258,  26.95326103, 134.76630516, 137.94540774,\n",
       "        84.03888568, 110.99214671,  53.90652206,   0.        ,\n",
       "       107.81304413,  57.08562465,  30.13236361,  80.85978309])"
      ]
     },
     "execution_count": 19,
     "metadata": {},
     "output_type": "execute_result"
    }
   ],
   "source": [
    "geo_data_1['product'].unique()"
   ]
  },
  {
   "cell_type": "code",
   "execution_count": 20,
   "metadata": {},
   "outputs": [
    {
     "data": {
      "image/png": "[encoded data removed]",
      "text/plain": [
       "<Figure size 864x648 with 1 Axes>"
      ]
     },
     "metadata": {
      "needs_background": "light"
     },
     "output_type": "display_data"
    }
   ],
   "source": [
    "plt.figure(figsize=[12,9])\n",
    "\n",
    "plt.hist(geo_data_0['product'], bins=50)\n",
    "\n",
    "plt.xlabel(\"Объем нефти на скважину\")\n",
    "plt.ylabel(\"Количество\")\n",
    "plt.title(\"Гистограмма распределения по объему скважин регион 0\")\n",
    "plt.show()"
   ]
  },
  {
   "cell_type": "code",
   "execution_count": 21,
   "metadata": {},
   "outputs": [
    {
     "data": {
      "image/png": "[encoded data removed]",
      "text/plain": [
       "<Figure size 864x648 with 1 Axes>"
      ]
     },
     "metadata": {
      "needs_background": "light"
     },
     "output_type": "display_data"
    }
   ],
   "source": [
    "plt.figure(figsize=[12,9])\n",
    "\n",
    "plt.hist(geo_data_1['product'], bins=10)\n",
    "\n",
    "plt.xlabel(\"Объем нефти на скважину\")\n",
    "plt.ylabel(\"Количество\")\n",
    "plt.title(\"Гистограмма распределения по объему скважин регион 1\")\n",
    "plt.show()"
   ]
  },
  {
   "cell_type": "code",
   "execution_count": 22,
   "metadata": {},
   "outputs": [
    {
     "data": {
      "image/png": "[encoded data removed]",
      "text/plain": [
       "<Figure size 864x648 with 1 Axes>"
      ]
     },
     "metadata": {
      "needs_background": "light"
     },
     "output_type": "display_data"
    }
   ],
   "source": [
    "plt.figure(figsize=[12,9])\n",
    "\n",
    "plt.hist(geo_data_2['product'], bins=50)\n",
    "\n",
    "plt.xlabel(\"Объем нефти на скважину\")\n",
    "plt.ylabel(\"Количество\")\n",
    "plt.title(\"Гистограмма распределения по объему скважин регион 2\")\n",
    "plt.show()"
   ]
  },
  {
   "cell_type": "markdown",
   "metadata": {},
   "source": [
    "**Вывод:**\n",
    "\n",
    "    - Были выгружены данные 3х разных регионов(0,1,2). Здесь и далее регионы будут обозначаться цифрами 0, 1, 2 соответственно.\n",
    "    - В каждом файле было по 100000 записей.\n",
    "    - Дубликатов и пустых значений не найдено.\n",
    "    - Тем не менее есть нулевые значения, но это вполне себе возможно, что скважина будет пустая - следновательно их исключать нельзя.\n",
    "    - Также было обнаружено, что в регионе 1 всего 12 уникальных значений, тем не менее обогащать их нечем и не откуда, следовательно оставляем как есть.\n",
    "    - Были рассмотрены гистограмы каждого региона у региона 1 распределены данные не нормально(по описанным выше причинам), а в остальных регионах близко к нормальному."
   ]
  },
  {
   "cell_type": "markdown",
   "metadata": {},
   "source": [
    "## Обучение и проверка модели"
   ]
  },
  {
   "cell_type": "code",
   "execution_count": 23,
   "metadata": {},
   "outputs": [],
   "source": [
    "def prepare_data(data):\n",
    "    X = data.drop(columns='product', axis=1)\n",
    "    y = data['product']\n",
    "    \n",
    "    return train_test_split(\n",
    "        X,\n",
    "        y,\n",
    "        test_size = TEST_SIZE,\n",
    "        random_state = RANDOM_STATE\n",
    "    )"
   ]
  },
  {
   "cell_type": "code",
   "execution_count": 24,
   "metadata": {},
   "outputs": [],
   "source": [
    "data_preprocessor = ColumnTransformer([\n",
    "     ('num', MinMaxScaler(), ['f0', 'f1', 'f2'])\n",
    "    ], \n",
    "    remainder='passthrough'\n",
    ")\n",
    "\n",
    "pipe = Pipeline([\n",
    "    ('preprocessor', data_preprocessor),\n",
    "    ('models', LinearRegression())\n",
    "])"
   ]
  },
  {
   "cell_type": "code",
   "execution_count": 25,
   "metadata": {},
   "outputs": [],
   "source": [
    "def train_test_model(pipe, data):\n",
    "    X_train, X_valid, y_train, y_valid = prepare_data(data)\n",
    "    pipe.fit(X_train, y_train)\n",
    "    \n",
    "    predict = pipe.predict(X_valid)\n",
    "    \n",
    "    saved = {\n",
    "        'product' : y_valid,\n",
    "        'predicted' : predict   \n",
    "    }\n",
    "    info = pd.DataFrame(saved, columns = ['product', 'predicted'])\n",
    "    rmse = round(mean_squared_error(y_valid, predict)**0.5, 2)\n",
    "    mean_info = round(info['predicted'].mean(), 2)\n",
    "\n",
    "    print(\"mean:\", mean_info)\n",
    "    print(\"rmse:\", rmse)\n",
    "    \n",
    "    return info, rmse, mean_info"
   ]
  },
  {
   "cell_type": "code",
   "execution_count": 26,
   "metadata": {},
   "outputs": [
    {
     "name": "stdout",
     "output_type": "stream",
     "text": [
      "mean: 92.4\n",
      "rmse: 37.76\n"
     ]
    }
   ],
   "source": [
    "info_0, rmse_0, mean_0 = train_test_model(pipe, geo_data_0)"
   ]
  },
  {
   "cell_type": "code",
   "execution_count": 27,
   "metadata": {},
   "outputs": [
    {
     "name": "stdout",
     "output_type": "stream",
     "text": [
      "mean: 68.71\n",
      "rmse: 0.89\n"
     ]
    }
   ],
   "source": [
    "info_1, rmse_1, mean_1 = train_test_model(pipe, geo_data_1)"
   ]
  },
  {
   "cell_type": "code",
   "execution_count": 28,
   "metadata": {},
   "outputs": [
    {
     "name": "stdout",
     "output_type": "stream",
     "text": [
      "mean: 94.77\n",
      "rmse: 40.15\n"
     ]
    }
   ],
   "source": [
    "info_2, rmse_2, mean_2 = train_test_model(pipe, geo_data_2)"
   ]
  },
  {
   "cell_type": "markdown",
   "metadata": {},
   "source": [
    "**Выводы:**\n",
    "\n",
    "    - LinearRegression показала лучше всего себя и лучше всего на данных 1 региона.\n",
    "    - В среднем предсказано барелей: 0 - 92.4, 1 - 68.71, 2 - 94.77. Наибольшее среднее у 2го региона.\n",
    "    - RMSE по регионам: 0 - 37.76, 1 - 0.89, 2 - 40.15. Лучший у 1 региона.\n",
    "    - Из-за того, что в регионе 1 данные имели всего 12 уникальных значений, мы не можем доверять обученной модели.\n",
    "    - Даже если принимать во внимание качество модели и считать модель 1го региону лучшей, там мы получим в среднем меньше всего бареллей."
   ]
  },
  {
   "cell_type": "markdown",
   "metadata": {},
   "source": [
    "## Подготовка к расчёту прибыли"
   ]
  },
  {
   "cell_type": "code",
   "execution_count": 29,
   "metadata": {},
   "outputs": [
    {
     "name": "stdout",
     "output_type": "stream",
     "text": [
      "Прибыль на лучшую точку: 50000000.0\n"
     ]
    }
   ],
   "source": [
    "profit_point = BUDGET / BEST_POINTS\n",
    "print('Прибыль на лучшую точку:', profit_point)"
   ]
  },
  {
   "cell_type": "code",
   "execution_count": 30,
   "metadata": {},
   "outputs": [
    {
     "name": "stdout",
     "output_type": "stream",
     "text": [
      "Объем лучшей точки: 111.11\n"
     ]
    }
   ],
   "source": [
    "barrel_point = round(profit_point / SINGLE_PRODUCT, 2)\n",
    "print('Объем лучшей точки:', barrel_point)"
   ]
  },
  {
   "cell_type": "code",
   "execution_count": 31,
   "metadata": {},
   "outputs": [
    {
     "name": "stdout",
     "output_type": "stream",
     "text": [
      "Средний запас фактичекой нефти на скважину в регионе 0: 92.33\n",
      "Средний запас фактичекой нефти на скважину в регионе 1: 68.73\n",
      "Средний запас фактичекой нефти на скважину в регионе 2: 95.15\n"
     ]
    }
   ],
   "source": [
    "print('Средний запас фактичекой нефти на скважину в регионе 0:', round(info_0['product'].mean(), 2))\n",
    "print('Средний запас фактичекой нефти на скважину в регионе 1:', round(info_1['product'].mean(), 2))\n",
    "print('Средний запас фактичекой нефти на скважину в регионе 2:', round(info_2['product'].mean(), 2))"
   ]
  },
  {
   "cell_type": "code",
   "execution_count": 32,
   "metadata": {},
   "outputs": [],
   "source": [
    "def profit(target, probabilities, count):\n",
    "    probs_sorted = probabilities.sort_values(ascending=False)\n",
    "    selected = target[probs_sorted.index][:count].sum()\n",
    "    \n",
    "    return SINGLE_PRODUCT * selected - BUDGET"
   ]
  },
  {
   "cell_type": "markdown",
   "metadata": {},
   "source": [
    "**Вывод:**\n",
    "\n",
    "    - Прибыль лучшей точки должна составить 50000000 руб.\n",
    "    - Средний объем лучшей точки должен быть равен 111.11.\n",
    "    - Средний объем каждой точки в регионах равна 0 - 92.33, 1 - 68.73, 2 - 95.15. Каждый регион в среднем меньше, чем требуется, следовательно придется отбирать лучшие точки."
   ]
  },
  {
   "cell_type": "markdown",
   "metadata": {},
   "source": [
    "## Расчёт прибыли и рисков "
   ]
  },
  {
   "cell_type": "code",
   "execution_count": 33,
   "metadata": {},
   "outputs": [],
   "source": [
    "state = np.random.RandomState(12345)"
   ]
  },
  {
   "cell_type": "code",
   "execution_count": 34,
   "metadata": {},
   "outputs": [],
   "source": [
    "def bootstrap_research(data):\n",
    "    values = []\n",
    "    for i in range(BOOTSTRAP_SAMPLES):\n",
    "        target_sub = data['product'].sample(n=RESEARCH_POINTS, replace=True, random_state=state)\n",
    "        prob_sub = data['predicted'][target_sub.index]\n",
    "        \n",
    "        values.append(profit(target_sub, prob_sub, BEST_POINTS))\n",
    "\n",
    "    values = pd.Series(values)\n",
    "    print(\"Средняя выручка:\", round(values.mean(), 2))\n",
    "    print(\"95% интервал: от\", round(values.quantile(0.025), 2), \"до\", round(values.quantile(0.975), 2))\n",
    "    print(\"Риск убытков\", round((values < 0).mean()*100, 2), \"%\")"
   ]
  },
  {
   "cell_type": "code",
   "execution_count": 35,
   "metadata": {},
   "outputs": [
    {
     "name": "stdout",
     "output_type": "stream",
     "text": [
      "Средняя выручка: 435933772.14\n",
      "95% интервал: от -116231612.78 до 966504180.71\n",
      "Риск убытков 6.1 %\n"
     ]
    }
   ],
   "source": [
    "bootstrap_research(info_0)"
   ]
  },
  {
   "cell_type": "code",
   "execution_count": 36,
   "metadata": {},
   "outputs": [
    {
     "name": "stdout",
     "output_type": "stream",
     "text": [
      "Средняя выручка: 498569016.92\n",
      "95% интервал: от 75315573.09 до 911503695.02\n",
      "Риск убытков 1.0 %\n"
     ]
    }
   ],
   "source": [
    "bootstrap_research(info_1)"
   ]
  },
  {
   "cell_type": "code",
   "execution_count": 37,
   "metadata": {},
   "outputs": [
    {
     "name": "stdout",
     "output_type": "stream",
     "text": [
      "Средняя выручка: 412672898.99\n",
      "95% интервал: от -158939515.76 до 978191201.7\n",
      "Риск убытков 7.0 %\n"
     ]
    }
   ],
   "source": [
    "bootstrap_research(info_2)"
   ]
  },
  {
   "cell_type": "markdown",
   "metadata": {},
   "source": [
    "**Вывод:**\n",
    "\n",
    "    - По региону 0 имеем - среднюю выручку 435933772.14 на интервале от -116231612.78 до 966504180.71, с риском убытков 6.1%.\n",
    "    - По региону 1 имеем - среднюю выручку 498569016.92 на интервале от 75315573.09 до 911503695.02, с риском убытков 1%.\n",
    "    - По региону 2 имеем - среднюю выручку 412672898.99 на интервале от -158939515.76 до 978191201.7, с риском убытков 7%.\n",
    "    - По всем текущим выборкам и анализу наиболее подходящий регион 1. Он имеет лучшую среднюю выручку на приятном доверительном интервале и минимальный риск 1%(что удовлетворяет условию задачи).\n",
    "    - Тем не менее, учитывая, что данные в регионе 1 были некорректны(так как имеем только 12 уникальных значений product), то подходящего региона не найдено. Так как остальные регионы имеют риск убытков больше 2.5%."
   ]
  },
  {
   "cell_type": "markdown",
   "metadata": {},
   "source": [
    "## Общий вывод"
   ]
  },
  {
   "cell_type": "markdown",
   "metadata": {},
   "source": [
    "**Описание задачи:**\n",
    "\n",
    "    - Вам предоставлены пробы нефти в трёх регионах: в каждом 100 000 месторождений, где измерили качество нефти и объём её запасов. Постройте модель машинного обучения, которая поможет определить регион, где добыча принесёт наибольшую прибыль. Проанализируйте возможную прибыль и риски техникой Bootstrap.\n",
    "    \n",
    "\n",
    "**Загрузка и подготовка данных:**\n",
    "\n",
    "    - Были выгружены данные 3х разных регионов(0,1,2). Здесь и далее регионы будут обозначаться цифрами 0, 1, 2 соответственно.\n",
    "    - В каждом файле было по 100000 записей.\n",
    "    - Дубликатов и пустых значений не найдено.\n",
    "    - Тем не менее есть нулевые значения, но это вполне себе возможно, что скважина будет пустая - следновательно их исключать нельзя.\n",
    "    - Также было обнаружено, что в регионе 1 всего 12 уникальных значений, тем не менее обогащать их нечем и не откуда, следовательно оставляем как есть.\n",
    "    - Были рассмотрены гистограмы каждого региона у региона 1 распределены данные не нормально(по описанным выше причинам), а в остальных регионах близко к нормальному.\n",
    "    \n",
    "**Обучение и проверка модели:**\n",
    "\n",
    "    - LinearRegression показала лучше всего себя и лучше всего на данных 1 региона.\n",
    "    - В среднем предсказано барелей: 0 - 92.4, 1 - 68.71, 2 - 94.77. Наибольшее среднее у 2го региона.\n",
    "    - RMSE по регионам: 0 - 37.76, 1 - 0.89, 2 - 40.15. Лучший у 1 региона.\n",
    "    - Из-за того, что в регионе 1 данные имели всего 12 уникальных значений, мы не можем доверять обученной модели.\n",
    "    - Даже если принимать во внимание качество модели и считать модель 1го региону лучшей, там мы получим в среднем меньше всего бареллей.\n",
    "    \n",
    "**Подготовка к расчету прибыли:**\n",
    "\n",
    "    - Прибыль лучшей точки должна составить 50000000 руб.\n",
    "    - Средний объем лучшей точки должен быть равен 111.11.\n",
    "    - Средний объем каждой точки в регионах равна 0 - 92.33, 1 - 68.73, 2 - 95.15. Каждый регион в среднем меньше, чем требуется, следовательно придется отбирать лучшие точки.\n",
    "    \n",
    "**Расчет прибыли и рисков:**\n",
    "\n",
    "    - По региону 0 имеем - среднюю выручку 435933772.14 на интервале от -116231612.78 до 966504180.71, с риском убытков 6.1%.\n",
    "    - По региону 1 имеем - среднюю выручку 498569016.92 на интервале от 75315573.09 до 911503695.02, с риском убытков 1%.\n",
    "    - По региону 2 имеем - среднюю выручку 412672898.99 на интервале от -158939515.76 до 978191201.7, с риском убытков 7%.\n",
    "    - По всем текущим выборкам и анализу наиболее подходящий регион 1. Он имеет лучшую среднюю выручку на приятном доверительном интервале и минимальный риск 1%(что удовлетворяет условию задачи).\n",
    "    - Тем не менее, учитывая, что данные в регионе 1 были некорректны(так как имеем только 12 уникальных значений product), то подходящего региона не найдено. Так как остальные регионы имеют риск убытков больше 2.5%."
   ]
  }
 ],
 "metadata": {
  "ExecuteTimeLog": [
   {
    "duration": 12,
    "start_time": "2025-03-28T16:34:30.916Z"
   },
   {
    "duration": 3621,
    "start_time": "2025-07-15T19:46:35.899Z"
   },
   {
    "duration": 7645,
    "start_time": "2025-07-15T19:46:39.523Z"
   },
   {
    "duration": 4598,
    "start_time": "2025-07-15T19:46:47.171Z"
   },
   {
    "duration": 31442,
    "start_time": "2025-07-15T19:46:51.772Z"
   },
   {
    "duration": 17485,
    "start_time": "2025-07-15T19:47:23.217Z"
   },
   {
    "duration": 3667,
    "start_time": "2025-07-15T19:47:40.706Z"
   },
   {
    "duration": 3,
    "start_time": "2025-07-15T19:47:44.375Z"
   },
   {
    "duration": 210,
    "start_time": "2025-07-15T19:47:57.595Z"
   },
   {
    "duration": 18,
    "start_time": "2025-07-15T19:47:58.317Z"
   },
   {
    "duration": 12,
    "start_time": "2025-07-15T19:48:31.455Z"
   },
   {
    "duration": 17,
    "start_time": "2025-07-15T19:48:46.915Z"
   },
   {
    "duration": 35,
    "start_time": "2025-07-15T19:49:05.758Z"
   },
   {
    "duration": 137,
    "start_time": "2025-07-15T19:49:41.098Z"
   },
   {
    "duration": 10,
    "start_time": "2025-07-15T19:49:47.973Z"
   },
   {
    "duration": 13,
    "start_time": "2025-07-15T19:49:56.647Z"
   },
   {
    "duration": 34,
    "start_time": "2025-07-15T19:50:03.485Z"
   },
   {
    "duration": 133,
    "start_time": "2025-07-15T19:50:18.684Z"
   },
   {
    "duration": 10,
    "start_time": "2025-07-15T19:50:28.150Z"
   },
   {
    "duration": 14,
    "start_time": "2025-07-15T19:50:36.142Z"
   },
   {
    "duration": 36,
    "start_time": "2025-07-15T19:50:42.453Z"
   },
   {
    "duration": 11,
    "start_time": "2025-07-15T19:53:33.811Z"
   },
   {
    "duration": 11,
    "start_time": "2025-07-15T19:53:41.020Z"
   },
   {
    "duration": 19,
    "start_time": "2025-07-15T19:53:50.918Z"
   },
   {
    "duration": 34,
    "start_time": "2025-07-15T19:54:00.259Z"
   },
   {
    "duration": 31,
    "start_time": "2025-07-15T19:54:13.800Z"
   },
   {
    "duration": 49,
    "start_time": "2025-07-15T19:54:51.603Z"
   },
   {
    "duration": 142,
    "start_time": "2025-07-15T19:55:01.265Z"
   },
   {
    "duration": 41,
    "start_time": "2025-07-15T19:55:19.819Z"
   },
   {
    "duration": 142,
    "start_time": "2025-07-15T19:55:29.994Z"
   },
   {
    "duration": 8,
    "start_time": "2025-07-15T19:56:09.327Z"
   },
   {
    "duration": 7,
    "start_time": "2025-07-15T19:56:18.374Z"
   },
   {
    "duration": 7,
    "start_time": "2025-07-15T19:56:23.830Z"
   },
   {
    "duration": 185,
    "start_time": "2025-07-15T20:00:09.996Z"
   },
   {
    "duration": 4,
    "start_time": "2025-07-15T20:00:30.569Z"
   },
   {
    "duration": 25,
    "start_time": "2025-07-15T20:00:34.065Z"
   },
   {
    "duration": 17,
    "start_time": "2025-07-15T20:00:46.638Z"
   },
   {
    "duration": 5,
    "start_time": "2025-07-15T20:00:52.973Z"
   },
   {
    "duration": 19,
    "start_time": "2025-07-15T20:00:56.209Z"
   },
   {
    "duration": 104,
    "start_time": "2025-07-15T20:00:57.403Z"
   },
   {
    "duration": 63,
    "start_time": "2025-07-15T20:00:59.512Z"
   },
   {
    "duration": 6,
    "start_time": "2025-07-15T20:01:22.924Z"
   },
   {
    "duration": 16,
    "start_time": "2025-07-15T20:16:30.793Z"
   },
   {
    "duration": 44,
    "start_time": "2025-07-15T20:16:49.788Z"
   },
   {
    "duration": 16,
    "start_time": "2025-07-15T20:16:53.597Z"
   },
   {
    "duration": 14,
    "start_time": "2025-07-15T20:17:09.435Z"
   },
   {
    "duration": 18,
    "start_time": "2025-07-15T20:17:21.345Z"
   },
   {
    "duration": 14,
    "start_time": "2025-07-15T20:17:26.742Z"
   },
   {
    "duration": 22,
    "start_time": "2025-07-15T20:17:29.411Z"
   },
   {
    "duration": 15,
    "start_time": "2025-07-15T20:17:30.917Z"
   },
   {
    "duration": 15,
    "start_time": "2025-07-15T20:17:36.185Z"
   },
   {
    "duration": 24,
    "start_time": "2025-07-15T20:17:42.905Z"
   },
   {
    "duration": 5,
    "start_time": "2025-07-15T20:17:51.898Z"
   },
   {
    "duration": 16,
    "start_time": "2025-07-15T20:17:58.376Z"
   },
   {
    "duration": 15,
    "start_time": "2025-07-15T20:18:01.393Z"
   },
   {
    "duration": 15,
    "start_time": "2025-07-15T20:18:19.598Z"
   },
   {
    "duration": 16,
    "start_time": "2025-07-15T20:18:24.074Z"
   },
   {
    "duration": 18,
    "start_time": "2025-07-15T20:18:26.857Z"
   },
   {
    "duration": 16,
    "start_time": "2025-07-15T20:18:30.571Z"
   },
   {
    "duration": 309,
    "start_time": "2025-07-15T20:29:07.692Z"
   },
   {
    "duration": 427,
    "start_time": "2025-07-15T20:29:24.629Z"
   },
   {
    "duration": 439,
    "start_time": "2025-07-15T20:29:34.999Z"
   },
   {
    "duration": 428,
    "start_time": "2025-07-15T20:29:38.528Z"
   },
   {
    "duration": 414,
    "start_time": "2025-07-15T20:30:11.007Z"
   },
   {
    "duration": 531,
    "start_time": "2025-07-15T20:30:31.812Z"
   },
   {
    "duration": 812,
    "start_time": "2025-07-15T20:30:40.713Z"
   },
   {
    "duration": 799,
    "start_time": "2025-07-15T20:31:10.931Z"
   },
   {
    "duration": 727,
    "start_time": "2025-07-15T20:31:13.787Z"
   },
   {
    "duration": 958,
    "start_time": "2025-07-15T20:31:15.727Z"
   },
   {
    "duration": 477,
    "start_time": "2025-07-15T20:31:24.316Z"
   },
   {
    "duration": 390,
    "start_time": "2025-07-15T20:31:33.511Z"
   },
   {
    "duration": 375,
    "start_time": "2025-07-15T20:31:35.105Z"
   },
   {
    "duration": 418,
    "start_time": "2025-07-15T20:32:22.245Z"
   },
   {
    "duration": 404,
    "start_time": "2025-07-15T20:32:25.273Z"
   },
   {
    "duration": 332,
    "start_time": "2025-07-15T20:32:48.599Z"
   },
   {
    "duration": 295,
    "start_time": "2025-07-15T20:32:50.795Z"
   },
   {
    "duration": 268,
    "start_time": "2025-07-15T20:32:54.847Z"
   },
   {
    "duration": 307,
    "start_time": "2025-07-15T20:32:57.279Z"
   },
   {
    "duration": 485,
    "start_time": "2025-07-15T20:33:01.792Z"
   },
   {
    "duration": 297,
    "start_time": "2025-07-15T20:33:04.532Z"
   },
   {
    "duration": 279,
    "start_time": "2025-07-15T20:33:11.008Z"
   },
   {
    "duration": 231,
    "start_time": "2025-07-15T20:33:20.043Z"
   },
   {
    "duration": 285,
    "start_time": "2025-07-15T20:33:23.161Z"
   },
   {
    "duration": 484,
    "start_time": "2025-07-15T20:33:28.512Z"
   },
   {
    "duration": 355,
    "start_time": "2025-07-15T20:33:30.850Z"
   },
   {
    "duration": 355,
    "start_time": "2025-07-15T20:33:36.364Z"
   },
   {
    "duration": 334,
    "start_time": "2025-07-15T20:34:02.334Z"
   },
   {
    "duration": 304,
    "start_time": "2025-07-15T20:34:04.083Z"
   },
   {
    "duration": 306,
    "start_time": "2025-07-15T20:34:42.808Z"
   },
   {
    "duration": 268,
    "start_time": "2025-07-15T20:34:43.522Z"
   },
   {
    "duration": 532,
    "start_time": "2025-07-15T20:34:44.243Z"
   },
   {
    "duration": 297,
    "start_time": "2025-07-15T20:44:50.753Z"
   },
   {
    "duration": 317,
    "start_time": "2025-07-15T20:44:53.806Z"
   },
   {
    "duration": 3,
    "start_time": "2025-07-15T20:54:37.291Z"
   },
   {
    "duration": 3,
    "start_time": "2025-07-15T21:02:01.613Z"
   },
   {
    "duration": 3,
    "start_time": "2025-07-15T21:02:07.383Z"
   },
   {
    "duration": 4,
    "start_time": "2025-07-15T21:02:39.923Z"
   },
   {
    "duration": 3,
    "start_time": "2025-07-15T21:02:41.157Z"
   },
   {
    "duration": 53,
    "start_time": "2025-07-15T21:03:09.454Z"
   },
   {
    "duration": 3,
    "start_time": "2025-07-15T21:03:47.872Z"
   },
   {
    "duration": 3,
    "start_time": "2025-07-15T21:03:48.072Z"
   },
   {
    "duration": 28,
    "start_time": "2025-07-15T21:03:48.415Z"
   },
   {
    "duration": 53,
    "start_time": "2025-07-15T21:04:18.100Z"
   },
   {
    "duration": 4,
    "start_time": "2025-07-15T21:06:37.350Z"
   },
   {
    "duration": 55,
    "start_time": "2025-07-15T21:06:37.853Z"
   },
   {
    "duration": 4,
    "start_time": "2025-07-15T21:07:34.936Z"
   },
   {
    "duration": 3,
    "start_time": "2025-07-15T21:08:11.469Z"
   },
   {
    "duration": 74,
    "start_time": "2025-07-15T21:08:12.474Z"
   },
   {
    "duration": 3,
    "start_time": "2025-07-15T21:09:25.571Z"
   },
   {
    "duration": 81,
    "start_time": "2025-07-15T21:09:36.555Z"
   },
   {
    "duration": 3,
    "start_time": "2025-07-15T21:10:03.221Z"
   },
   {
    "duration": 153,
    "start_time": "2025-07-15T21:10:03.847Z"
   },
   {
    "duration": 3,
    "start_time": "2025-07-15T21:10:22.987Z"
   },
   {
    "duration": 160,
    "start_time": "2025-07-15T21:10:23.440Z"
   },
   {
    "duration": 3,
    "start_time": "2025-07-15T21:10:54.979Z"
   },
   {
    "duration": 83,
    "start_time": "2025-07-15T21:10:55.392Z"
   },
   {
    "duration": 126,
    "start_time": "2025-07-15T21:11:14.483Z"
   },
   {
    "duration": 4,
    "start_time": "2025-07-15T21:11:22.279Z"
   },
   {
    "duration": 3,
    "start_time": "2025-07-15T21:11:29.857Z"
   },
   {
    "duration": 3,
    "start_time": "2025-07-15T21:11:30.261Z"
   },
   {
    "duration": 4,
    "start_time": "2025-07-15T21:11:31.353Z"
   },
   {
    "duration": 82,
    "start_time": "2025-07-15T21:11:32.015Z"
   },
   {
    "duration": 3,
    "start_time": "2025-07-15T21:12:16.308Z"
   },
   {
    "duration": 72,
    "start_time": "2025-07-15T21:12:16.836Z"
   },
   {
    "duration": 4,
    "start_time": "2025-07-15T21:12:45.791Z"
   },
   {
    "duration": 72,
    "start_time": "2025-07-15T21:12:46.150Z"
   },
   {
    "duration": 3,
    "start_time": "2025-07-15T21:13:04.918Z"
   },
   {
    "duration": 3,
    "start_time": "2025-07-15T21:13:05.266Z"
   },
   {
    "duration": 3,
    "start_time": "2025-07-15T21:13:05.737Z"
   },
   {
    "duration": 39,
    "start_time": "2025-07-15T21:13:06.204Z"
   },
   {
    "duration": 3,
    "start_time": "2025-07-15T21:13:16.024Z"
   },
   {
    "duration": 3,
    "start_time": "2025-07-15T21:13:16.385Z"
   },
   {
    "duration": 4,
    "start_time": "2025-07-15T21:13:16.720Z"
   },
   {
    "duration": 85,
    "start_time": "2025-07-15T21:13:17.070Z"
   },
   {
    "duration": 3,
    "start_time": "2025-07-15T21:13:58.410Z"
   },
   {
    "duration": 100,
    "start_time": "2025-07-15T21:13:58.807Z"
   },
   {
    "duration": 132,
    "start_time": "2025-07-15T21:14:11.568Z"
   },
   {
    "duration": 168,
    "start_time": "2025-07-15T21:14:17.732Z"
   },
   {
    "duration": 4,
    "start_time": "2025-07-15T21:16:08.628Z"
   },
   {
    "duration": 9,
    "start_time": "2025-07-15T21:17:46.774Z"
   },
   {
    "duration": 4,
    "start_time": "2025-07-15T21:17:49.938Z"
   },
   {
    "duration": 74,
    "start_time": "2025-07-15T21:17:51.231Z"
   },
   {
    "duration": 157,
    "start_time": "2025-07-15T21:17:52.643Z"
   },
   {
    "duration": 115,
    "start_time": "2025-07-15T21:17:53.387Z"
   },
   {
    "duration": 4,
    "start_time": "2025-07-15T21:18:23.326Z"
   },
   {
    "duration": 62,
    "start_time": "2025-07-15T21:18:23.999Z"
   },
   {
    "duration": 6,
    "start_time": "2025-07-15T21:18:39.353Z"
   },
   {
    "duration": 3,
    "start_time": "2025-07-15T21:18:40.917Z"
   },
   {
    "duration": 46,
    "start_time": "2025-07-15T21:18:41.407Z"
   },
   {
    "duration": 4,
    "start_time": "2025-07-15T21:20:28.977Z"
   },
   {
    "duration": 9,
    "start_time": "2025-07-15T21:20:32.882Z"
   },
   {
    "duration": 3,
    "start_time": "2025-07-15T21:20:34.887Z"
   },
   {
    "duration": 45,
    "start_time": "2025-07-15T21:20:35.343Z"
   },
   {
    "duration": 6,
    "start_time": "2025-07-15T21:21:04.324Z"
   },
   {
    "duration": 3,
    "start_time": "2025-07-15T21:21:04.767Z"
   },
   {
    "duration": 4,
    "start_time": "2025-07-15T21:21:05.192Z"
   },
   {
    "duration": 47,
    "start_time": "2025-07-15T21:21:05.630Z"
   },
   {
    "duration": 10,
    "start_time": "2025-07-15T21:22:06.131Z"
   },
   {
    "duration": 7,
    "start_time": "2025-07-15T21:22:17.368Z"
   },
   {
    "duration": 2,
    "start_time": "2025-07-15T21:22:18.221Z"
   },
   {
    "duration": 3,
    "start_time": "2025-07-15T21:22:18.377Z"
   },
   {
    "duration": 71,
    "start_time": "2025-07-15T21:22:18.728Z"
   },
   {
    "duration": 44,
    "start_time": "2025-07-15T21:22:46.055Z"
   },
   {
    "duration": 10,
    "start_time": "2025-07-15T21:23:32.609Z"
   },
   {
    "duration": 2,
    "start_time": "2025-07-15T21:23:32.935Z"
   },
   {
    "duration": 4,
    "start_time": "2025-07-15T21:23:33.241Z"
   },
   {
    "duration": 46,
    "start_time": "2025-07-15T21:23:33.519Z"
   },
   {
    "duration": 7,
    "start_time": "2025-07-15T21:25:51.548Z"
   },
   {
    "duration": 3,
    "start_time": "2025-07-15T21:25:51.713Z"
   },
   {
    "duration": 3,
    "start_time": "2025-07-15T21:25:52.209Z"
   },
   {
    "duration": 45269,
    "start_time": "2025-07-15T21:25:52.558Z"
   },
   {
    "duration": 7,
    "start_time": "2025-07-15T21:26:50.516Z"
   },
   {
    "duration": 3,
    "start_time": "2025-07-15T21:26:50.875Z"
   },
   {
    "duration": 3,
    "start_time": "2025-07-15T21:26:51.144Z"
   },
   {
    "duration": 16505,
    "start_time": "2025-07-15T21:26:51.524Z"
   },
   {
    "duration": 7,
    "start_time": "2025-07-15T21:27:08.996Z"
   },
   {
    "duration": 2,
    "start_time": "2025-07-15T21:27:09.268Z"
   },
   {
    "duration": 3,
    "start_time": "2025-07-15T21:27:09.493Z"
   },
   {
    "duration": 14726,
    "start_time": "2025-07-15T21:27:09.801Z"
   },
   {
    "duration": 0,
    "start_time": "2025-07-15T21:27:24.529Z"
   },
   {
    "duration": 0,
    "start_time": "2025-07-15T21:27:24.530Z"
   },
   {
    "duration": 0,
    "start_time": "2025-07-15T21:27:24.531Z"
   },
   {
    "duration": 10276,
    "start_time": "2025-07-15T21:27:24.651Z"
   },
   {
    "duration": 6,
    "start_time": "2025-07-15T21:27:36.248Z"
   },
   {
    "duration": 2,
    "start_time": "2025-07-15T21:27:36.544Z"
   },
   {
    "duration": 3,
    "start_time": "2025-07-15T21:27:36.832Z"
   },
   {
    "duration": 4383,
    "start_time": "2025-07-15T21:27:37.117Z"
   },
   {
    "duration": 6,
    "start_time": "2025-07-15T21:28:11.701Z"
   },
   {
    "duration": 2,
    "start_time": "2025-07-15T21:28:12.863Z"
   },
   {
    "duration": 4,
    "start_time": "2025-07-15T21:28:13.651Z"
   },
   {
    "duration": 4784,
    "start_time": "2025-07-15T21:28:14.064Z"
   },
   {
    "duration": 69,
    "start_time": "2025-07-15T21:28:23.743Z"
   },
   {
    "duration": 4634,
    "start_time": "2025-07-15T21:28:29.099Z"
   },
   {
    "duration": 4645,
    "start_time": "2025-07-15T21:28:33.735Z"
   },
   {
    "duration": 3,
    "start_time": "2025-07-15T21:29:02.355Z"
   },
   {
    "duration": 4692,
    "start_time": "2025-07-15T21:29:02.692Z"
   },
   {
    "duration": 4594,
    "start_time": "2025-07-15T21:29:08.874Z"
   },
   {
    "duration": 4642,
    "start_time": "2025-07-15T21:29:13.470Z"
   },
   {
    "duration": 4,
    "start_time": "2025-07-15T21:31:42.969Z"
   },
   {
    "duration": 4676,
    "start_time": "2025-07-15T21:31:43.276Z"
   },
   {
    "duration": 5,
    "start_time": "2025-07-15T21:32:06.074Z"
   },
   {
    "duration": 4685,
    "start_time": "2025-07-15T21:32:06.566Z"
   },
   {
    "duration": 5,
    "start_time": "2025-07-15T21:33:58.186Z"
   },
   {
    "duration": 4610,
    "start_time": "2025-07-15T21:34:25.917Z"
   },
   {
    "duration": 5,
    "start_time": "2025-07-15T21:34:55.748Z"
   },
   {
    "duration": 4525,
    "start_time": "2025-07-15T21:34:56.155Z"
   },
   {
    "duration": 93,
    "start_time": "2025-07-15T21:35:19.717Z"
   },
   {
    "duration": 4542,
    "start_time": "2025-07-15T21:35:24.458Z"
   },
   {
    "duration": 4583,
    "start_time": "2025-07-15T21:35:35.667Z"
   },
   {
    "duration": 5,
    "start_time": "2025-07-15T21:37:52.215Z"
   },
   {
    "duration": 4659,
    "start_time": "2025-07-15T21:37:52.695Z"
   },
   {
    "duration": 5,
    "start_time": "2025-07-15T21:38:10.016Z"
   },
   {
    "duration": 4982,
    "start_time": "2025-07-15T21:38:10.547Z"
   },
   {
    "duration": 0,
    "start_time": "2025-07-15T21:38:15.530Z"
   },
   {
    "duration": 0,
    "start_time": "2025-07-15T21:38:15.531Z"
   },
   {
    "duration": 4907,
    "start_time": "2025-07-15T21:38:24.896Z"
   },
   {
    "duration": 4657,
    "start_time": "2025-07-15T21:38:29.804Z"
   },
   {
    "duration": 5023,
    "start_time": "2025-07-15T21:38:34.463Z"
   },
   {
    "duration": 88,
    "start_time": "2025-07-15T21:39:06.217Z"
   },
   {
    "duration": 4,
    "start_time": "2025-07-15T21:39:10.890Z"
   },
   {
    "duration": 4866,
    "start_time": "2025-07-15T21:39:11.233Z"
   },
   {
    "duration": 4,
    "start_time": "2025-07-15T21:40:06.540Z"
   },
   {
    "duration": 4891,
    "start_time": "2025-07-15T21:40:06.952Z"
   },
   {
    "duration": 4981,
    "start_time": "2025-07-15T21:40:11.845Z"
   },
   {
    "duration": 4914,
    "start_time": "2025-07-15T21:40:16.828Z"
   },
   {
    "duration": 3475,
    "start_time": "2025-07-16T13:42:47.089Z"
   },
   {
    "duration": 7009,
    "start_time": "2025-07-16T13:42:50.566Z"
   },
   {
    "duration": 4103,
    "start_time": "2025-07-16T13:42:57.577Z"
   },
   {
    "duration": 28897,
    "start_time": "2025-07-16T13:43:01.683Z"
   },
   {
    "duration": 16141,
    "start_time": "2025-07-16T13:43:30.582Z"
   },
   {
    "duration": 2867,
    "start_time": "2025-07-16T13:43:46.727Z"
   },
   {
    "duration": 3,
    "start_time": "2025-07-16T13:43:49.595Z"
   },
   {
    "duration": 305,
    "start_time": "2025-07-16T13:43:49.600Z"
   },
   {
    "duration": 15,
    "start_time": "2025-07-16T13:43:49.907Z"
   },
   {
    "duration": 203,
    "start_time": "2025-07-16T13:43:49.924Z"
   },
   {
    "duration": 91,
    "start_time": "2025-07-16T13:43:50.129Z"
   },
   {
    "duration": 127,
    "start_time": "2025-07-16T13:43:50.222Z"
   },
   {
    "duration": 11,
    "start_time": "2025-07-16T13:43:50.351Z"
   },
   {
    "duration": 13,
    "start_time": "2025-07-16T13:43:50.364Z"
   },
   {
    "duration": 32,
    "start_time": "2025-07-16T13:43:50.378Z"
   },
   {
    "duration": 142,
    "start_time": "2025-07-16T13:43:50.412Z"
   },
   {
    "duration": 9,
    "start_time": "2025-07-16T13:43:50.555Z"
   },
   {
    "duration": 44,
    "start_time": "2025-07-16T13:43:50.566Z"
   },
   {
    "duration": 78,
    "start_time": "2025-07-16T13:43:50.612Z"
   },
   {
    "duration": 10,
    "start_time": "2025-07-16T13:43:50.692Z"
   },
   {
    "duration": 53,
    "start_time": "2025-07-16T13:43:50.703Z"
   },
   {
    "duration": 85,
    "start_time": "2025-07-16T13:43:50.757Z"
   },
   {
    "duration": 67,
    "start_time": "2025-07-16T13:43:50.844Z"
   },
   {
    "duration": 4,
    "start_time": "2025-07-16T13:43:50.913Z"
   },
   {
    "duration": 512,
    "start_time": "2025-07-16T13:43:50.919Z"
   },
   {
    "duration": 297,
    "start_time": "2025-07-16T13:43:51.433Z"
   },
   {
    "duration": 339,
    "start_time": "2025-07-16T13:43:51.732Z"
   },
   {
    "duration": 3,
    "start_time": "2025-07-16T13:43:52.073Z"
   },
   {
    "duration": 415,
    "start_time": "2025-07-16T13:43:52.077Z"
   },
   {
    "duration": 0,
    "start_time": "2025-07-16T13:43:52.493Z"
   },
   {
    "duration": 0,
    "start_time": "2025-07-16T13:43:52.494Z"
   },
   {
    "duration": 0,
    "start_time": "2025-07-16T13:43:52.495Z"
   },
   {
    "duration": 0,
    "start_time": "2025-07-16T13:43:52.496Z"
   },
   {
    "duration": 0,
    "start_time": "2025-07-16T13:43:52.498Z"
   },
   {
    "duration": 3034,
    "start_time": "2025-07-16T13:45:04.757Z"
   },
   {
    "duration": 3027,
    "start_time": "2025-07-16T13:45:07.794Z"
   },
   {
    "duration": 2702,
    "start_time": "2025-07-16T13:45:10.824Z"
   },
   {
    "duration": 5420,
    "start_time": "2025-07-16T13:45:13.528Z"
   },
   {
    "duration": 2820,
    "start_time": "2025-07-16T13:45:18.952Z"
   },
   {
    "duration": 2654,
    "start_time": "2025-07-16T13:45:21.775Z"
   },
   {
    "duration": 3,
    "start_time": "2025-07-16T13:45:24.430Z"
   },
   {
    "duration": 156,
    "start_time": "2025-07-16T13:45:24.435Z"
   },
   {
    "duration": 16,
    "start_time": "2025-07-16T13:45:24.592Z"
   },
   {
    "duration": 41,
    "start_time": "2025-07-16T13:45:24.609Z"
   },
   {
    "duration": 44,
    "start_time": "2025-07-16T13:45:24.652Z"
   },
   {
    "duration": 137,
    "start_time": "2025-07-16T13:45:24.698Z"
   },
   {
    "duration": 9,
    "start_time": "2025-07-16T13:45:24.837Z"
   },
   {
    "duration": 93,
    "start_time": "2025-07-16T13:45:24.861Z"
   },
   {
    "duration": 95,
    "start_time": "2025-07-16T13:45:24.956Z"
   },
   {
    "duration": 271,
    "start_time": "2025-07-16T13:45:25.053Z"
   },
   {
    "duration": 9,
    "start_time": "2025-07-16T13:45:25.326Z"
   },
   {
    "duration": 88,
    "start_time": "2025-07-16T13:45:25.336Z"
   },
   {
    "duration": 71,
    "start_time": "2025-07-16T13:45:25.425Z"
   },
   {
    "duration": 43,
    "start_time": "2025-07-16T13:45:25.498Z"
   },
   {
    "duration": 74,
    "start_time": "2025-07-16T13:45:25.543Z"
   },
   {
    "duration": 193,
    "start_time": "2025-07-16T13:45:25.619Z"
   },
   {
    "duration": 81,
    "start_time": "2025-07-16T13:45:25.813Z"
   },
   {
    "duration": 4,
    "start_time": "2025-07-16T13:45:25.896Z"
   },
   {
    "duration": 597,
    "start_time": "2025-07-16T13:45:25.902Z"
   },
   {
    "duration": 278,
    "start_time": "2025-07-16T13:45:26.500Z"
   },
   {
    "duration": 336,
    "start_time": "2025-07-16T13:45:26.780Z"
   },
   {
    "duration": 3,
    "start_time": "2025-07-16T13:45:27.118Z"
   },
   {
    "duration": 290,
    "start_time": "2025-07-16T13:45:27.123Z"
   },
   {
    "duration": 0,
    "start_time": "2025-07-16T13:45:27.414Z"
   },
   {
    "duration": 0,
    "start_time": "2025-07-16T13:45:27.416Z"
   },
   {
    "duration": 1,
    "start_time": "2025-07-16T13:45:27.416Z"
   },
   {
    "duration": 0,
    "start_time": "2025-07-16T13:45:27.418Z"
   },
   {
    "duration": 0,
    "start_time": "2025-07-16T13:45:27.419Z"
   },
   {
    "duration": 2689,
    "start_time": "2025-07-16T13:45:32.367Z"
   },
   {
    "duration": 3,
    "start_time": "2025-07-16T13:45:35.058Z"
   },
   {
    "duration": 258,
    "start_time": "2025-07-16T13:45:35.063Z"
   },
   {
    "duration": 15,
    "start_time": "2025-07-16T13:45:35.323Z"
   },
   {
    "duration": 354,
    "start_time": "2025-07-16T13:45:35.341Z"
   },
   {
    "duration": 190,
    "start_time": "2025-07-16T13:45:35.697Z"
   },
   {
    "duration": 163,
    "start_time": "2025-07-16T13:45:35.888Z"
   },
   {
    "duration": 162,
    "start_time": "2025-07-16T13:45:36.053Z"
   },
   {
    "duration": 122,
    "start_time": "2025-07-16T13:45:36.216Z"
   },
   {
    "duration": 62,
    "start_time": "2025-07-16T13:45:36.340Z"
   },
   {
    "duration": 167,
    "start_time": "2025-07-16T13:45:36.403Z"
   },
   {
    "duration": 9,
    "start_time": "2025-07-16T13:45:36.571Z"
   },
   {
    "duration": 44,
    "start_time": "2025-07-16T13:45:36.582Z"
   },
   {
    "duration": 68,
    "start_time": "2025-07-16T13:45:36.629Z"
   },
   {
    "duration": 20,
    "start_time": "2025-07-16T13:45:36.698Z"
   },
   {
    "duration": 36,
    "start_time": "2025-07-16T13:45:36.720Z"
   },
   {
    "duration": 98,
    "start_time": "2025-07-16T13:45:36.758Z"
   },
   {
    "duration": 62,
    "start_time": "2025-07-16T13:45:36.860Z"
   },
   {
    "duration": 5,
    "start_time": "2025-07-16T13:45:36.924Z"
   },
   {
    "duration": 728,
    "start_time": "2025-07-16T13:45:36.930Z"
   },
   {
    "duration": 313,
    "start_time": "2025-07-16T13:45:37.660Z"
   },
   {
    "duration": 333,
    "start_time": "2025-07-16T13:45:37.975Z"
   },
   {
    "duration": 3,
    "start_time": "2025-07-16T13:45:38.310Z"
   },
   {
    "duration": 194,
    "start_time": "2025-07-16T13:45:38.315Z"
   },
   {
    "duration": 0,
    "start_time": "2025-07-16T13:45:38.511Z"
   },
   {
    "duration": 0,
    "start_time": "2025-07-16T13:45:38.512Z"
   },
   {
    "duration": 0,
    "start_time": "2025-07-16T13:45:38.513Z"
   },
   {
    "duration": 0,
    "start_time": "2025-07-16T13:45:38.514Z"
   },
   {
    "duration": 0,
    "start_time": "2025-07-16T13:45:38.515Z"
   },
   {
    "duration": 2545,
    "start_time": "2025-07-16T13:46:42.742Z"
   },
   {
    "duration": 3,
    "start_time": "2025-07-16T13:46:45.289Z"
   },
   {
    "duration": 203,
    "start_time": "2025-07-16T13:46:45.294Z"
   },
   {
    "duration": 19,
    "start_time": "2025-07-16T13:46:45.499Z"
   },
   {
    "duration": 29,
    "start_time": "2025-07-16T13:46:45.521Z"
   },
   {
    "duration": 72,
    "start_time": "2025-07-16T13:46:45.552Z"
   },
   {
    "duration": 136,
    "start_time": "2025-07-16T13:46:45.626Z"
   },
   {
    "duration": 11,
    "start_time": "2025-07-16T13:46:45.765Z"
   },
   {
    "duration": 58,
    "start_time": "2025-07-16T13:46:45.777Z"
   },
   {
    "duration": 48,
    "start_time": "2025-07-16T13:46:45.837Z"
   },
   {
    "duration": 145,
    "start_time": "2025-07-16T13:46:45.887Z"
   },
   {
    "duration": 11,
    "start_time": "2025-07-16T13:46:46.034Z"
   },
   {
    "duration": 91,
    "start_time": "2025-07-16T13:46:46.047Z"
   },
   {
    "duration": 52,
    "start_time": "2025-07-16T13:46:46.142Z"
   },
   {
    "duration": 6,
    "start_time": "2025-07-16T13:46:46.196Z"
   },
   {
    "duration": 140,
    "start_time": "2025-07-16T13:46:46.204Z"
   },
   {
    "duration": 108,
    "start_time": "2025-07-16T13:46:46.345Z"
   },
   {
    "duration": 74,
    "start_time": "2025-07-16T13:46:46.462Z"
   },
   {
    "duration": 6,
    "start_time": "2025-07-16T13:46:46.561Z"
   },
   {
    "duration": 399,
    "start_time": "2025-07-16T13:46:46.569Z"
   },
   {
    "duration": 338,
    "start_time": "2025-07-16T13:46:46.969Z"
   },
   {
    "duration": 419,
    "start_time": "2025-07-16T13:46:47.310Z"
   },
   {
    "duration": 4,
    "start_time": "2025-07-16T13:46:47.731Z"
   },
   {
    "duration": 51,
    "start_time": "2025-07-16T13:46:47.737Z"
   },
   {
    "duration": 34,
    "start_time": "2025-07-16T13:46:47.790Z"
   },
   {
    "duration": 43,
    "start_time": "2025-07-16T13:46:47.826Z"
   },
   {
    "duration": 5169,
    "start_time": "2025-07-16T13:46:47.871Z"
   },
   {
    "duration": 5274,
    "start_time": "2025-07-16T13:46:53.043Z"
   },
   {
    "duration": 5243,
    "start_time": "2025-07-16T13:46:58.318Z"
   },
   {
    "duration": 5,
    "start_time": "2025-07-16T13:47:31.325Z"
   },
   {
    "duration": 5151,
    "start_time": "2025-07-16T13:47:31.730Z"
   },
   {
    "duration": 5002,
    "start_time": "2025-07-16T13:47:38.031Z"
   },
   {
    "duration": 4919,
    "start_time": "2025-07-16T13:47:43.035Z"
   },
   {
    "duration": 2465,
    "start_time": "2025-07-16T13:48:05.752Z"
   },
   {
    "duration": 3,
    "start_time": "2025-07-16T13:48:08.220Z"
   },
   {
    "duration": 292,
    "start_time": "2025-07-16T13:48:08.224Z"
   },
   {
    "duration": 16,
    "start_time": "2025-07-16T13:48:08.518Z"
   },
   {
    "duration": 32,
    "start_time": "2025-07-16T13:48:08.537Z"
   },
   {
    "duration": 52,
    "start_time": "2025-07-16T13:48:08.570Z"
   },
   {
    "duration": 140,
    "start_time": "2025-07-16T13:48:08.623Z"
   },
   {
    "duration": 10,
    "start_time": "2025-07-16T13:48:08.765Z"
   },
   {
    "duration": 46,
    "start_time": "2025-07-16T13:48:08.776Z"
   },
   {
    "duration": 52,
    "start_time": "2025-07-16T13:48:08.824Z"
   },
   {
    "duration": 144,
    "start_time": "2025-07-16T13:48:08.877Z"
   },
   {
    "duration": 9,
    "start_time": "2025-07-16T13:48:09.022Z"
   },
   {
    "duration": 20,
    "start_time": "2025-07-16T13:48:09.033Z"
   },
   {
    "duration": 45,
    "start_time": "2025-07-16T13:48:09.060Z"
   },
   {
    "duration": 136,
    "start_time": "2025-07-16T13:48:09.106Z"
   },
   {
    "duration": 24,
    "start_time": "2025-07-16T13:48:09.244Z"
   },
   {
    "duration": 94,
    "start_time": "2025-07-16T13:48:09.270Z"
   },
   {
    "duration": 65,
    "start_time": "2025-07-16T13:48:09.366Z"
   },
   {
    "duration": 30,
    "start_time": "2025-07-16T13:48:09.433Z"
   },
   {
    "duration": 347,
    "start_time": "2025-07-16T13:48:09.465Z"
   },
   {
    "duration": 281,
    "start_time": "2025-07-16T13:48:09.814Z"
   },
   {
    "duration": 367,
    "start_time": "2025-07-16T13:48:10.096Z"
   },
   {
    "duration": 3,
    "start_time": "2025-07-16T13:48:10.465Z"
   },
   {
    "duration": 29,
    "start_time": "2025-07-16T13:48:10.470Z"
   },
   {
    "duration": 41,
    "start_time": "2025-07-16T13:48:10.501Z"
   },
   {
    "duration": 14,
    "start_time": "2025-07-16T13:48:10.544Z"
   },
   {
    "duration": 4957,
    "start_time": "2025-07-16T13:48:10.560Z"
   },
   {
    "duration": 5270,
    "start_time": "2025-07-16T13:48:15.519Z"
   },
   {
    "duration": 5148,
    "start_time": "2025-07-16T13:48:20.790Z"
   },
   {
    "duration": 3,
    "start_time": "2025-07-16T13:49:12.174Z"
   },
   {
    "duration": 3,
    "start_time": "2025-07-16T13:51:50.623Z"
   },
   {
    "duration": 3,
    "start_time": "2025-07-16T13:52:06.535Z"
   },
   {
    "duration": 4,
    "start_time": "2025-07-16T13:52:54.648Z"
   },
   {
    "duration": 3,
    "start_time": "2025-07-16T13:54:28.073Z"
   },
   {
    "duration": 3,
    "start_time": "2025-07-16T14:04:10.507Z"
   },
   {
    "duration": 3,
    "start_time": "2025-07-16T14:05:08.801Z"
   },
   {
    "duration": 3,
    "start_time": "2025-07-16T14:05:09.177Z"
   },
   {
    "duration": 3,
    "start_time": "2025-07-16T14:05:11.994Z"
   },
   {
    "duration": 3,
    "start_time": "2025-07-16T14:05:12.307Z"
   },
   {
    "duration": 3,
    "start_time": "2025-07-16T14:06:52.530Z"
   },
   {
    "duration": 4,
    "start_time": "2025-07-16T14:06:56.256Z"
   },
   {
    "duration": 4,
    "start_time": "2025-07-16T14:07:13.149Z"
   },
   {
    "duration": 3,
    "start_time": "2025-07-16T14:07:18.218Z"
   },
   {
    "duration": 2,
    "start_time": "2025-07-16T14:08:00.691Z"
   },
   {
    "duration": 4,
    "start_time": "2025-07-16T14:08:16.513Z"
   },
   {
    "duration": 4,
    "start_time": "2025-07-16T14:09:49.043Z"
   },
   {
    "duration": 6,
    "start_time": "2025-07-16T14:11:53.274Z"
   },
   {
    "duration": 3,
    "start_time": "2025-07-16T14:12:56.657Z"
   },
   {
    "duration": 148,
    "start_time": "2025-07-16T14:12:57.227Z"
   },
   {
    "duration": 16,
    "start_time": "2025-07-16T14:13:40.220Z"
   },
   {
    "duration": 1700,
    "start_time": "2025-07-16T14:13:55.906Z"
   },
   {
    "duration": 332,
    "start_time": "2025-07-16T14:14:03.152Z"
   },
   {
    "duration": 290,
    "start_time": "2025-07-16T14:14:13.946Z"
   },
   {
    "duration": 255,
    "start_time": "2025-07-16T14:14:17.712Z"
   },
   {
    "duration": 265,
    "start_time": "2025-07-16T14:15:13.520Z"
   },
   {
    "duration": 662,
    "start_time": "2025-07-16T14:15:17.152Z"
   },
   {
    "duration": 508,
    "start_time": "2025-07-16T14:15:29.493Z"
   },
   {
    "duration": 312,
    "start_time": "2025-07-16T14:15:31.831Z"
   },
   {
    "duration": 525,
    "start_time": "2025-07-16T14:15:42.367Z"
   },
   {
    "duration": 1076,
    "start_time": "2025-07-16T14:15:49.104Z"
   },
   {
    "duration": 540,
    "start_time": "2025-07-16T14:15:58.063Z"
   },
   {
    "duration": 541,
    "start_time": "2025-07-16T14:16:08.764Z"
   },
   {
    "duration": 560,
    "start_time": "2025-07-16T14:16:50.309Z"
   },
   {
    "duration": 672,
    "start_time": "2025-07-16T14:16:59.170Z"
   },
   {
    "duration": 280,
    "start_time": "2025-07-16T14:17:02.261Z"
   },
   {
    "duration": 291,
    "start_time": "2025-07-16T14:17:06.237Z"
   },
   {
    "duration": 279,
    "start_time": "2025-07-16T14:17:16.298Z"
   },
   {
    "duration": 301,
    "start_time": "2025-07-16T14:17:22.475Z"
   },
   {
    "duration": 8,
    "start_time": "2025-07-16T14:18:17.533Z"
   },
   {
    "duration": 7,
    "start_time": "2025-07-16T14:18:26.063Z"
   },
   {
    "duration": 8,
    "start_time": "2025-07-16T14:18:46.494Z"
   },
   {
    "duration": 9,
    "start_time": "2025-07-16T14:19:16.187Z"
   },
   {
    "duration": 4,
    "start_time": "2025-07-16T14:19:35.743Z"
   },
   {
    "duration": 8,
    "start_time": "2025-07-16T14:19:37.283Z"
   },
   {
    "duration": 4,
    "start_time": "2025-07-16T14:19:51.569Z"
   },
   {
    "duration": 6,
    "start_time": "2025-07-16T14:19:52.235Z"
   },
   {
    "duration": 4,
    "start_time": "2025-07-16T14:20:44.319Z"
   },
   {
    "duration": 3,
    "start_time": "2025-07-16T14:23:55.830Z"
   },
   {
    "duration": 4,
    "start_time": "2025-07-16T14:25:53.993Z"
   },
   {
    "duration": 4,
    "start_time": "2025-07-16T14:26:02.066Z"
   },
   {
    "duration": 3,
    "start_time": "2025-07-16T14:27:03.322Z"
   },
   {
    "duration": 3,
    "start_time": "2025-07-16T14:28:52.317Z"
   },
   {
    "duration": 4,
    "start_time": "2025-07-16T14:28:52.636Z"
   },
   {
    "duration": 3,
    "start_time": "2025-07-16T14:28:53.109Z"
   },
   {
    "duration": 6,
    "start_time": "2025-07-16T14:28:53.716Z"
   },
   {
    "duration": 3,
    "start_time": "2025-07-16T14:28:54.505Z"
   },
   {
    "duration": 11,
    "start_time": "2025-07-16T14:33:00.115Z"
   },
   {
    "duration": 4,
    "start_time": "2025-07-16T14:33:11.541Z"
   },
   {
    "duration": 3,
    "start_time": "2025-07-16T14:33:15.646Z"
   },
   {
    "duration": 3,
    "start_time": "2025-07-16T14:37:45.746Z"
   },
   {
    "duration": 16,
    "start_time": "2025-07-16T14:40:40.023Z"
   },
   {
    "duration": 1845,
    "start_time": "2025-07-16T14:40:47.226Z"
   },
   {
    "duration": 1773,
    "start_time": "2025-07-16T14:42:28.362Z"
   },
   {
    "duration": 1792,
    "start_time": "2025-07-16T14:42:35.017Z"
   },
   {
    "duration": 89,
    "start_time": "2025-07-16T14:46:21.648Z"
   },
   {
    "duration": 1749,
    "start_time": "2025-07-16T14:46:29.242Z"
   },
   {
    "duration": 4,
    "start_time": "2025-07-16T14:48:47.572Z"
   },
   {
    "duration": 1766,
    "start_time": "2025-07-16T14:49:04.361Z"
   },
   {
    "duration": 4,
    "start_time": "2025-07-16T14:50:57.679Z"
   },
   {
    "duration": 1794,
    "start_time": "2025-07-16T14:51:01.457Z"
   },
   {
    "duration": 5,
    "start_time": "2025-07-16T14:51:16.988Z"
   },
   {
    "duration": 1766,
    "start_time": "2025-07-16T14:51:17.445Z"
   },
   {
    "duration": 4,
    "start_time": "2025-07-16T14:51:23.378Z"
   },
   {
    "duration": 5,
    "start_time": "2025-07-16T14:53:23.987Z"
   },
   {
    "duration": 1727,
    "start_time": "2025-07-16T14:53:24.236Z"
   },
   {
    "duration": 5,
    "start_time": "2025-07-16T14:54:33.106Z"
   },
   {
    "duration": 1756,
    "start_time": "2025-07-16T14:54:33.367Z"
   },
   {
    "duration": 5,
    "start_time": "2025-07-16T14:54:55.202Z"
   },
   {
    "duration": 1733,
    "start_time": "2025-07-16T14:55:04.202Z"
   },
   {
    "duration": 5,
    "start_time": "2025-07-16T14:55:20.081Z"
   },
   {
    "duration": 1741,
    "start_time": "2025-07-16T14:55:30.654Z"
   },
   {
    "duration": 4,
    "start_time": "2025-07-16T14:55:57.032Z"
   },
   {
    "duration": 1706,
    "start_time": "2025-07-16T14:55:57.325Z"
   },
   {
    "duration": 3,
    "start_time": "2025-07-16T14:56:08.190Z"
   },
   {
    "duration": 4,
    "start_time": "2025-07-16T14:56:08.365Z"
   },
   {
    "duration": 45,
    "start_time": "2025-07-16T14:56:08.532Z"
   },
   {
    "duration": 6,
    "start_time": "2025-07-16T14:56:08.887Z"
   },
   {
    "duration": 4,
    "start_time": "2025-07-16T14:56:09.707Z"
   },
   {
    "duration": 3,
    "start_time": "2025-07-16T14:56:10.942Z"
   },
   {
    "duration": 5,
    "start_time": "2025-07-16T14:56:11.261Z"
   },
   {
    "duration": 1788,
    "start_time": "2025-07-16T14:56:13.409Z"
   },
   {
    "duration": 1783,
    "start_time": "2025-07-16T14:58:54.552Z"
   },
   {
    "duration": 1764,
    "start_time": "2025-07-16T14:58:57.473Z"
   },
   {
    "duration": 5,
    "start_time": "2025-07-16T15:21:48.752Z"
   },
   {
    "duration": 1784,
    "start_time": "2025-07-16T15:21:49.126Z"
   },
   {
    "duration": 1782,
    "start_time": "2025-07-16T15:21:50.912Z"
   },
   {
    "duration": 1811,
    "start_time": "2025-07-16T15:21:52.696Z"
   },
   {
    "duration": 2635,
    "start_time": "2025-07-16T15:22:17.481Z"
   },
   {
    "duration": 3,
    "start_time": "2025-07-16T15:22:20.118Z"
   },
   {
    "duration": 390,
    "start_time": "2025-07-16T15:22:20.123Z"
   },
   {
    "duration": 19,
    "start_time": "2025-07-16T15:22:20.515Z"
   },
   {
    "duration": 174,
    "start_time": "2025-07-16T15:22:20.537Z"
   },
   {
    "duration": 117,
    "start_time": "2025-07-16T15:22:20.713Z"
   },
   {
    "duration": 194,
    "start_time": "2025-07-16T15:22:20.832Z"
   },
   {
    "duration": 10,
    "start_time": "2025-07-16T15:22:21.028Z"
   },
   {
    "duration": 257,
    "start_time": "2025-07-16T15:22:21.041Z"
   },
   {
    "duration": 185,
    "start_time": "2025-07-16T15:22:21.300Z"
   },
   {
    "duration": 152,
    "start_time": "2025-07-16T15:22:21.487Z"
   },
   {
    "duration": 9,
    "start_time": "2025-07-16T15:22:21.641Z"
   },
   {
    "duration": 116,
    "start_time": "2025-07-16T15:22:21.652Z"
   },
   {
    "duration": 84,
    "start_time": "2025-07-16T15:22:21.772Z"
   },
   {
    "duration": 45,
    "start_time": "2025-07-16T15:22:21.858Z"
   },
   {
    "duration": 81,
    "start_time": "2025-07-16T15:22:21.905Z"
   },
   {
    "duration": 379,
    "start_time": "2025-07-16T15:22:21.988Z"
   },
   {
    "duration": 68,
    "start_time": "2025-07-16T15:22:22.369Z"
   },
   {
    "duration": 23,
    "start_time": "2025-07-16T15:22:22.439Z"
   },
   {
    "duration": 419,
    "start_time": "2025-07-16T15:22:22.464Z"
   },
   {
    "duration": 289,
    "start_time": "2025-07-16T15:22:22.885Z"
   },
   {
    "duration": 325,
    "start_time": "2025-07-16T15:22:23.176Z"
   },
   {
    "duration": 4,
    "start_time": "2025-07-16T15:22:23.503Z"
   },
   {
    "duration": 28,
    "start_time": "2025-07-16T15:22:23.509Z"
   },
   {
    "duration": 36,
    "start_time": "2025-07-16T15:22:23.539Z"
   },
   {
    "duration": 5351,
    "start_time": "2025-07-16T15:22:23.577Z"
   },
   {
    "duration": 5239,
    "start_time": "2025-07-16T15:22:28.929Z"
   },
   {
    "duration": 5298,
    "start_time": "2025-07-16T15:22:34.170Z"
   },
   {
    "duration": 4,
    "start_time": "2025-07-16T15:22:39.470Z"
   },
   {
    "duration": 41,
    "start_time": "2025-07-16T15:22:39.476Z"
   },
   {
    "duration": 20,
    "start_time": "2025-07-16T15:22:39.519Z"
   },
   {
    "duration": 18,
    "start_time": "2025-07-16T15:22:39.541Z"
   },
   {
    "duration": 21,
    "start_time": "2025-07-16T15:22:39.561Z"
   },
   {
    "duration": 22,
    "start_time": "2025-07-16T15:22:39.584Z"
   },
   {
    "duration": 76,
    "start_time": "2025-07-16T15:22:39.609Z"
   },
   {
    "duration": 1803,
    "start_time": "2025-07-16T15:22:39.686Z"
   },
   {
    "duration": 1738,
    "start_time": "2025-07-16T15:22:41.490Z"
   },
   {
    "duration": 1815,
    "start_time": "2025-07-16T15:22:43.230Z"
   },
   {
    "duration": 2473,
    "start_time": "2025-07-16T15:24:53.688Z"
   },
   {
    "duration": 3,
    "start_time": "2025-07-16T15:24:56.163Z"
   },
   {
    "duration": 355,
    "start_time": "2025-07-16T15:24:56.168Z"
   },
   {
    "duration": 16,
    "start_time": "2025-07-16T15:24:56.525Z"
   },
   {
    "duration": 51,
    "start_time": "2025-07-16T15:24:56.544Z"
   },
   {
    "duration": 293,
    "start_time": "2025-07-16T15:24:56.596Z"
   },
   {
    "duration": 170,
    "start_time": "2025-07-16T15:24:56.891Z"
   },
   {
    "duration": 10,
    "start_time": "2025-07-16T15:24:57.063Z"
   },
   {
    "duration": 21,
    "start_time": "2025-07-16T15:24:57.074Z"
   },
   {
    "duration": 73,
    "start_time": "2025-07-16T15:24:57.097Z"
   },
   {
    "duration": 145,
    "start_time": "2025-07-16T15:24:57.172Z"
   },
   {
    "duration": 9,
    "start_time": "2025-07-16T15:24:57.318Z"
   },
   {
    "duration": 25,
    "start_time": "2025-07-16T15:24:57.329Z"
   },
   {
    "duration": 32,
    "start_time": "2025-07-16T15:24:57.357Z"
   },
   {
    "duration": 4,
    "start_time": "2025-07-16T15:24:57.391Z"
   },
   {
    "duration": 21,
    "start_time": "2025-07-16T15:24:57.397Z"
   },
   {
    "duration": 141,
    "start_time": "2025-07-16T15:24:57.420Z"
   },
   {
    "duration": 69,
    "start_time": "2025-07-16T15:24:57.564Z"
   },
   {
    "duration": 28,
    "start_time": "2025-07-16T15:24:57.634Z"
   },
   {
    "duration": 454,
    "start_time": "2025-07-16T15:24:57.664Z"
   },
   {
    "duration": 319,
    "start_time": "2025-07-16T15:24:58.120Z"
   },
   {
    "duration": 369,
    "start_time": "2025-07-16T15:24:58.441Z"
   },
   {
    "duration": 3,
    "start_time": "2025-07-16T15:24:58.812Z"
   },
   {
    "duration": 209,
    "start_time": "2025-07-16T15:24:58.817Z"
   },
   {
    "duration": 58,
    "start_time": "2025-07-16T15:24:59.028Z"
   },
   {
    "duration": 5329,
    "start_time": "2025-07-16T15:24:59.087Z"
   },
   {
    "duration": 5453,
    "start_time": "2025-07-16T15:25:04.418Z"
   },
   {
    "duration": 5387,
    "start_time": "2025-07-16T15:25:09.873Z"
   },
   {
    "duration": 3,
    "start_time": "2025-07-16T15:25:15.262Z"
   },
   {
    "duration": 66,
    "start_time": "2025-07-16T15:25:15.266Z"
   },
   {
    "duration": 55,
    "start_time": "2025-07-16T15:25:15.334Z"
   },
   {
    "duration": 30,
    "start_time": "2025-07-16T15:25:15.390Z"
   },
   {
    "duration": 104,
    "start_time": "2025-07-16T15:25:15.423Z"
   },
   {
    "duration": 77,
    "start_time": "2025-07-16T15:25:15.529Z"
   },
   {
    "duration": 125,
    "start_time": "2025-07-16T15:25:15.608Z"
   },
   {
    "duration": 1961,
    "start_time": "2025-07-16T15:25:15.735Z"
   },
   {
    "duration": 1829,
    "start_time": "2025-07-16T15:25:17.698Z"
   },
   {
    "duration": 1761,
    "start_time": "2025-07-16T15:25:19.529Z"
   },
   {
    "duration": 1516,
    "start_time": "2025-07-17T10:41:19.281Z"
   },
   {
    "duration": 0,
    "start_time": "2025-07-17T10:41:20.799Z"
   },
   {
    "duration": 0,
    "start_time": "2025-07-17T10:41:20.801Z"
   },
   {
    "duration": 0,
    "start_time": "2025-07-17T10:41:20.802Z"
   },
   {
    "duration": 0,
    "start_time": "2025-07-17T10:41:20.803Z"
   },
   {
    "duration": 0,
    "start_time": "2025-07-17T10:41:20.804Z"
   },
   {
    "duration": 0,
    "start_time": "2025-07-17T10:41:20.805Z"
   },
   {
    "duration": 0,
    "start_time": "2025-07-17T10:41:20.807Z"
   },
   {
    "duration": 0,
    "start_time": "2025-07-17T10:41:20.808Z"
   },
   {
    "duration": 0,
    "start_time": "2025-07-17T10:41:20.809Z"
   },
   {
    "duration": 0,
    "start_time": "2025-07-17T10:41:20.810Z"
   },
   {
    "duration": 0,
    "start_time": "2025-07-17T10:41:20.811Z"
   },
   {
    "duration": 0,
    "start_time": "2025-07-17T10:41:20.812Z"
   },
   {
    "duration": 0,
    "start_time": "2025-07-17T10:41:20.813Z"
   },
   {
    "duration": 0,
    "start_time": "2025-07-17T10:41:20.814Z"
   },
   {
    "duration": 0,
    "start_time": "2025-07-17T10:41:20.815Z"
   },
   {
    "duration": 0,
    "start_time": "2025-07-17T10:41:20.816Z"
   },
   {
    "duration": 0,
    "start_time": "2025-07-17T10:41:20.818Z"
   },
   {
    "duration": 0,
    "start_time": "2025-07-17T10:41:20.818Z"
   },
   {
    "duration": 0,
    "start_time": "2025-07-17T10:41:20.820Z"
   },
   {
    "duration": 0,
    "start_time": "2025-07-17T10:41:20.821Z"
   },
   {
    "duration": 0,
    "start_time": "2025-07-17T10:41:20.822Z"
   },
   {
    "duration": 0,
    "start_time": "2025-07-17T10:41:20.823Z"
   },
   {
    "duration": 0,
    "start_time": "2025-07-17T10:41:20.861Z"
   },
   {
    "duration": 0,
    "start_time": "2025-07-17T10:41:20.863Z"
   },
   {
    "duration": 0,
    "start_time": "2025-07-17T10:41:20.865Z"
   },
   {
    "duration": 0,
    "start_time": "2025-07-17T10:41:20.866Z"
   },
   {
    "duration": 0,
    "start_time": "2025-07-17T10:41:20.867Z"
   },
   {
    "duration": 0,
    "start_time": "2025-07-17T10:41:20.869Z"
   },
   {
    "duration": 0,
    "start_time": "2025-07-17T10:41:20.871Z"
   },
   {
    "duration": 0,
    "start_time": "2025-07-17T10:41:20.872Z"
   },
   {
    "duration": 0,
    "start_time": "2025-07-17T10:41:20.874Z"
   },
   {
    "duration": 0,
    "start_time": "2025-07-17T10:41:20.875Z"
   },
   {
    "duration": 0,
    "start_time": "2025-07-17T10:41:20.876Z"
   },
   {
    "duration": 0,
    "start_time": "2025-07-17T10:41:20.878Z"
   },
   {
    "duration": 0,
    "start_time": "2025-07-17T10:41:20.879Z"
   },
   {
    "duration": 0,
    "start_time": "2025-07-17T10:41:20.881Z"
   },
   {
    "duration": 330,
    "start_time": "2025-07-17T10:42:04.219Z"
   },
   {
    "duration": 1565,
    "start_time": "2025-07-17T10:42:13.144Z"
   },
   {
    "duration": 2,
    "start_time": "2025-07-17T10:42:14.711Z"
   },
   {
    "duration": 174,
    "start_time": "2025-07-17T10:42:14.714Z"
   },
   {
    "duration": 14,
    "start_time": "2025-07-17T10:42:14.889Z"
   },
   {
    "duration": 16,
    "start_time": "2025-07-17T10:42:14.907Z"
   },
   {
    "duration": 56,
    "start_time": "2025-07-17T10:42:14.925Z"
   },
   {
    "duration": 145,
    "start_time": "2025-07-17T10:42:14.983Z"
   },
   {
    "duration": 10,
    "start_time": "2025-07-17T10:42:15.129Z"
   },
   {
    "duration": 129,
    "start_time": "2025-07-17T10:42:15.140Z"
   },
   {
    "duration": 87,
    "start_time": "2025-07-17T10:42:15.271Z"
   },
   {
    "duration": 153,
    "start_time": "2025-07-17T10:42:15.359Z"
   },
   {
    "duration": 10,
    "start_time": "2025-07-17T10:42:15.514Z"
   },
   {
    "duration": 62,
    "start_time": "2025-07-17T10:42:15.526Z"
   },
   {
    "duration": 71,
    "start_time": "2025-07-17T10:42:15.592Z"
   },
   {
    "duration": 11,
    "start_time": "2025-07-17T10:42:15.664Z"
   },
   {
    "duration": 64,
    "start_time": "2025-07-17T10:42:15.676Z"
   },
   {
    "duration": 95,
    "start_time": "2025-07-17T10:42:15.742Z"
   },
   {
    "duration": 102,
    "start_time": "2025-07-17T10:42:15.839Z"
   },
   {
    "duration": 21,
    "start_time": "2025-07-17T10:42:15.943Z"
   },
   {
    "duration": 383,
    "start_time": "2025-07-17T10:42:15.965Z"
   },
   {
    "duration": 199,
    "start_time": "2025-07-17T10:42:16.349Z"
   },
   {
    "duration": 268,
    "start_time": "2025-07-17T10:42:16.549Z"
   },
   {
    "duration": 3,
    "start_time": "2025-07-17T10:42:16.819Z"
   },
   {
    "duration": 218,
    "start_time": "2025-07-17T10:42:16.824Z"
   },
   {
    "duration": 37,
    "start_time": "2025-07-17T10:42:17.044Z"
   },
   {
    "duration": 1285,
    "start_time": "2025-07-17T10:42:17.083Z"
   },
   {
    "duration": 1392,
    "start_time": "2025-07-17T10:42:18.370Z"
   },
   {
    "duration": 1204,
    "start_time": "2025-07-17T10:42:19.764Z"
   },
   {
    "duration": 92,
    "start_time": "2025-07-17T10:42:20.971Z"
   },
   {
    "duration": 46,
    "start_time": "2025-07-17T10:42:21.065Z"
   },
   {
    "duration": 88,
    "start_time": "2025-07-17T10:42:21.113Z"
   },
   {
    "duration": 103,
    "start_time": "2025-07-17T10:42:21.203Z"
   },
   {
    "duration": 22,
    "start_time": "2025-07-17T10:42:21.308Z"
   },
   {
    "duration": 27,
    "start_time": "2025-07-17T10:42:21.332Z"
   },
   {
    "duration": 2037,
    "start_time": "2025-07-17T10:42:21.360Z"
   },
   {
    "duration": 2003,
    "start_time": "2025-07-17T10:42:23.398Z"
   },
   {
    "duration": 2028,
    "start_time": "2025-07-17T10:42:25.403Z"
   },
   {
    "duration": 5,
    "start_time": "2025-07-17T10:57:12.169Z"
   },
   {
    "duration": 6,
    "start_time": "2025-07-17T10:57:12.622Z"
   },
   {
    "duration": 4158,
    "start_time": "2025-07-17T10:57:13.710Z"
   },
   {
    "duration": 3,
    "start_time": "2025-07-17T10:59:20.478Z"
   },
   {
    "duration": 3,
    "start_time": "2025-07-17T10:59:20.904Z"
   },
   {
    "duration": 87,
    "start_time": "2025-07-17T10:59:21.164Z"
   },
   {
    "duration": 4,
    "start_time": "2025-07-17T10:59:26.941Z"
   },
   {
    "duration": 4373,
    "start_time": "2025-07-17T10:59:27.802Z"
   },
   {
    "duration": 5,
    "start_time": "2025-07-17T10:59:41.367Z"
   },
   {
    "duration": 4203,
    "start_time": "2025-07-17T10:59:42.058Z"
   },
   {
    "duration": 3,
    "start_time": "2025-07-17T10:59:49.801Z"
   },
   {
    "duration": 5,
    "start_time": "2025-07-17T10:59:50.243Z"
   },
   {
    "duration": 4191,
    "start_time": "2025-07-17T10:59:50.771Z"
   },
   {
    "duration": 142,
    "start_time": "2025-07-17T10:59:56.520Z"
   },
   {
    "duration": 137,
    "start_time": "2025-07-17T11:00:00.429Z"
   },
   {
    "duration": 112,
    "start_time": "2025-07-17T11:00:02.852Z"
   },
   {
    "duration": 1485,
    "start_time": "2025-07-17T11:00:21.326Z"
   },
   {
    "duration": 3,
    "start_time": "2025-07-17T11:00:22.813Z"
   },
   {
    "duration": 167,
    "start_time": "2025-07-17T11:00:22.817Z"
   },
   {
    "duration": 13,
    "start_time": "2025-07-17T11:00:22.986Z"
   },
   {
    "duration": 26,
    "start_time": "2025-07-17T11:00:23.003Z"
   },
   {
    "duration": 53,
    "start_time": "2025-07-17T11:00:23.031Z"
   },
   {
    "duration": 143,
    "start_time": "2025-07-17T11:00:23.086Z"
   },
   {
    "duration": 9,
    "start_time": "2025-07-17T11:00:23.231Z"
   },
   {
    "duration": 35,
    "start_time": "2025-07-17T11:00:23.242Z"
   },
   {
    "duration": 62,
    "start_time": "2025-07-17T11:00:23.278Z"
   },
   {
    "duration": 142,
    "start_time": "2025-07-17T11:00:23.342Z"
   },
   {
    "duration": 10,
    "start_time": "2025-07-17T11:00:23.486Z"
   },
   {
    "duration": 32,
    "start_time": "2025-07-17T11:00:23.498Z"
   },
   {
    "duration": 42,
    "start_time": "2025-07-17T11:00:23.533Z"
   },
   {
    "duration": 10,
    "start_time": "2025-07-17T11:00:23.577Z"
   },
   {
    "duration": 27,
    "start_time": "2025-07-17T11:00:23.589Z"
   },
   {
    "duration": 109,
    "start_time": "2025-07-17T11:00:23.618Z"
   },
   {
    "duration": 108,
    "start_time": "2025-07-17T11:00:23.728Z"
   },
   {
    "duration": 23,
    "start_time": "2025-07-17T11:00:23.838Z"
   },
   {
    "duration": 280,
    "start_time": "2025-07-17T11:00:23.864Z"
   },
   {
    "duration": 201,
    "start_time": "2025-07-17T11:00:24.146Z"
   },
   {
    "duration": 250,
    "start_time": "2025-07-17T11:00:24.349Z"
   },
   {
    "duration": 3,
    "start_time": "2025-07-17T11:00:24.601Z"
   },
   {
    "duration": 166,
    "start_time": "2025-07-17T11:00:24.606Z"
   },
   {
    "duration": 17,
    "start_time": "2025-07-17T11:00:24.775Z"
   },
   {
    "duration": 268,
    "start_time": "2025-07-17T11:00:24.794Z"
   },
   {
    "duration": 298,
    "start_time": "2025-07-17T11:00:25.064Z"
   },
   {
    "duration": 197,
    "start_time": "2025-07-17T11:00:25.364Z"
   },
   {
    "duration": 4,
    "start_time": "2025-07-17T11:00:25.563Z"
   },
   {
    "duration": 33,
    "start_time": "2025-07-17T11:00:25.569Z"
   },
   {
    "duration": 50,
    "start_time": "2025-07-17T11:00:25.603Z"
   },
   {
    "duration": 67,
    "start_time": "2025-07-17T11:00:25.654Z"
   },
   {
    "duration": 26,
    "start_time": "2025-07-17T11:00:25.722Z"
   },
   {
    "duration": 34,
    "start_time": "2025-07-17T11:00:25.750Z"
   },
   {
    "duration": 2050,
    "start_time": "2025-07-17T11:00:25.786Z"
   },
   {
    "duration": 2045,
    "start_time": "2025-07-17T11:00:27.838Z"
   },
   {
    "duration": 2059,
    "start_time": "2025-07-17T11:00:29.885Z"
   },
   {
    "duration": 1776,
    "start_time": "2025-07-17T11:03:14.460Z"
   },
   {
    "duration": 3,
    "start_time": "2025-07-17T11:03:16.239Z"
   },
   {
    "duration": 210,
    "start_time": "2025-07-17T11:03:16.244Z"
   },
   {
    "duration": 19,
    "start_time": "2025-07-17T11:03:16.455Z"
   },
   {
    "duration": 27,
    "start_time": "2025-07-17T11:03:16.478Z"
   },
   {
    "duration": 46,
    "start_time": "2025-07-17T11:03:16.507Z"
   },
   {
    "duration": 145,
    "start_time": "2025-07-17T11:03:16.555Z"
   },
   {
    "duration": 11,
    "start_time": "2025-07-17T11:03:16.702Z"
   },
   {
    "duration": 39,
    "start_time": "2025-07-17T11:03:16.714Z"
   },
   {
    "duration": 49,
    "start_time": "2025-07-17T11:03:16.755Z"
   },
   {
    "duration": 148,
    "start_time": "2025-07-17T11:03:16.806Z"
   },
   {
    "duration": 11,
    "start_time": "2025-07-17T11:03:16.957Z"
   },
   {
    "duration": 138,
    "start_time": "2025-07-17T11:03:16.969Z"
   },
   {
    "duration": 36,
    "start_time": "2025-07-17T11:03:17.111Z"
   },
   {
    "duration": 11,
    "start_time": "2025-07-17T11:03:17.149Z"
   },
   {
    "duration": 40,
    "start_time": "2025-07-17T11:03:17.162Z"
   },
   {
    "duration": 100,
    "start_time": "2025-07-17T11:03:17.203Z"
   },
   {
    "duration": 105,
    "start_time": "2025-07-17T11:03:17.305Z"
   },
   {
    "duration": 5,
    "start_time": "2025-07-17T11:03:17.412Z"
   },
   {
    "duration": 282,
    "start_time": "2025-07-17T11:03:17.418Z"
   },
   {
    "duration": 208,
    "start_time": "2025-07-17T11:03:17.702Z"
   },
   {
    "duration": 246,
    "start_time": "2025-07-17T11:03:17.911Z"
   },
   {
    "duration": 4,
    "start_time": "2025-07-17T11:03:18.160Z"
   },
   {
    "duration": 126,
    "start_time": "2025-07-17T11:03:18.166Z"
   },
   {
    "duration": 4,
    "start_time": "2025-07-17T11:03:18.294Z"
   },
   {
    "duration": 267,
    "start_time": "2025-07-17T11:03:18.300Z"
   },
   {
    "duration": 292,
    "start_time": "2025-07-17T11:03:18.570Z"
   },
   {
    "duration": 197,
    "start_time": "2025-07-17T11:03:18.864Z"
   },
   {
    "duration": 3,
    "start_time": "2025-07-17T11:03:19.063Z"
   },
   {
    "duration": 16,
    "start_time": "2025-07-17T11:03:19.068Z"
   },
   {
    "duration": 27,
    "start_time": "2025-07-17T11:03:19.086Z"
   },
   {
    "duration": 22,
    "start_time": "2025-07-17T11:03:19.115Z"
   },
   {
    "duration": 16,
    "start_time": "2025-07-17T11:03:19.139Z"
   },
   {
    "duration": 17,
    "start_time": "2025-07-17T11:03:19.157Z"
   },
   {
    "duration": 2002,
    "start_time": "2025-07-17T11:03:19.176Z"
   },
   {
    "duration": 1938,
    "start_time": "2025-07-17T11:03:21.180Z"
   },
   {
    "duration": 1962,
    "start_time": "2025-07-17T11:03:23.120Z"
   },
   {
    "duration": 5,
    "start_time": "2025-07-17T11:04:51.284Z"
   },
   {
    "duration": 2043,
    "start_time": "2025-07-17T11:04:53.221Z"
   },
   {
    "duration": 5,
    "start_time": "2025-07-17T11:05:08.615Z"
   },
   {
    "duration": 2015,
    "start_time": "2025-07-17T11:05:09.242Z"
   },
   {
    "duration": 1501,
    "start_time": "2025-07-17T11:05:16.897Z"
   },
   {
    "duration": 3,
    "start_time": "2025-07-17T11:05:18.400Z"
   },
   {
    "duration": 233,
    "start_time": "2025-07-17T11:05:18.404Z"
   },
   {
    "duration": 14,
    "start_time": "2025-07-17T11:05:18.639Z"
   },
   {
    "duration": 86,
    "start_time": "2025-07-17T11:05:18.655Z"
   },
   {
    "duration": 42,
    "start_time": "2025-07-17T11:05:18.743Z"
   },
   {
    "duration": 141,
    "start_time": "2025-07-17T11:05:18.786Z"
   },
   {
    "duration": 10,
    "start_time": "2025-07-17T11:05:18.929Z"
   },
   {
    "duration": 26,
    "start_time": "2025-07-17T11:05:18.940Z"
   },
   {
    "duration": 36,
    "start_time": "2025-07-17T11:05:18.969Z"
   },
   {
    "duration": 154,
    "start_time": "2025-07-17T11:05:19.007Z"
   },
   {
    "duration": 10,
    "start_time": "2025-07-17T11:05:19.163Z"
   },
   {
    "duration": 21,
    "start_time": "2025-07-17T11:05:19.175Z"
   },
   {
    "duration": 38,
    "start_time": "2025-07-17T11:05:19.197Z"
   },
   {
    "duration": 33,
    "start_time": "2025-07-17T11:05:19.236Z"
   },
   {
    "duration": 31,
    "start_time": "2025-07-17T11:05:19.271Z"
   },
   {
    "duration": 102,
    "start_time": "2025-07-17T11:05:19.304Z"
   },
   {
    "duration": 108,
    "start_time": "2025-07-17T11:05:19.407Z"
   },
   {
    "duration": 5,
    "start_time": "2025-07-17T11:05:19.517Z"
   },
   {
    "duration": 264,
    "start_time": "2025-07-17T11:05:19.523Z"
   },
   {
    "duration": 203,
    "start_time": "2025-07-17T11:05:19.788Z"
   },
   {
    "duration": 242,
    "start_time": "2025-07-17T11:05:19.993Z"
   },
   {
    "duration": 4,
    "start_time": "2025-07-17T11:05:20.237Z"
   },
   {
    "duration": 77,
    "start_time": "2025-07-17T11:05:20.243Z"
   },
   {
    "duration": 14,
    "start_time": "2025-07-17T11:05:20.322Z"
   },
   {
    "duration": 231,
    "start_time": "2025-07-17T11:05:20.337Z"
   },
   {
    "duration": 292,
    "start_time": "2025-07-17T11:05:20.570Z"
   },
   {
    "duration": 198,
    "start_time": "2025-07-17T11:05:20.865Z"
   },
   {
    "duration": 5,
    "start_time": "2025-07-17T11:05:21.064Z"
   },
   {
    "duration": 13,
    "start_time": "2025-07-17T11:05:21.070Z"
   },
   {
    "duration": 14,
    "start_time": "2025-07-17T11:05:21.085Z"
   },
   {
    "duration": 16,
    "start_time": "2025-07-17T11:05:21.100Z"
   },
   {
    "duration": 30,
    "start_time": "2025-07-17T11:05:21.118Z"
   },
   {
    "duration": 14,
    "start_time": "2025-07-17T11:05:21.149Z"
   },
   {
    "duration": 2030,
    "start_time": "2025-07-17T11:05:21.165Z"
   },
   {
    "duration": 2010,
    "start_time": "2025-07-17T11:05:23.197Z"
   },
   {
    "duration": 1989,
    "start_time": "2025-07-17T11:05:25.209Z"
   }
  ],
  "kernelspec": {
   "display_name": "Python 3 (ipykernel)",
   "language": "python",
   "name": "python3"
  },
  "language_info": {
   "codemirror_mode": {
    "name": "ipython",
    "version": 3
   },
   "file_extension": ".py",
   "mimetype": "text/x-python",
   "name": "python",
   "nbconvert_exporter": "python",
   "pygments_lexer": "ipython3",
   "version": "3.9.5"
  },
  "toc": {
   "base_numbering": 1,
   "nav_menu": {
    "height": "197px",
    "width": "300px"
   },
   "number_sections": true,
   "sideBar": true,
   "skip_h1_title": true,
   "title_cell": "Table of Contents",
   "title_sidebar": "Contents",
   "toc_cell": false,
   "toc_position": {},
   "toc_section_display": true,
   "toc_window_display": false
  }
 },
 "nbformat": 4,
 "nbformat_minor": 2
}
