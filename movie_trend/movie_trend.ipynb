{
 "cells": [
  {
   "cell_type": "markdown",
   "metadata": {
    "id": "sIfNaMOxgFyK"
   },
   "source": [
    "## Исследование данных о российском кинопрокате\n",
    "\n"
   ]
  },
  {
   "metadata": {},
   "cell_type": "markdown",
   "source": [
    "**Вам нужно изучить рынок российского кинопроката и выявить текущие тренды.\n",
    "Уделите внимание фильмам, которые получили государственную поддержку.\n",
    "Попробуйте ответить на вопрос, насколько такие фильмы интересны зрителю.**"
   ]
  },
  {
   "cell_type": "markdown",
   "metadata": {
    "id": "3bSlkCsbgFyL"
   },
   "source": "### Шаг 1. Откройте файлы с данными и объедините их в один датафрейм."
  },
  {
   "cell_type": "code",
   "execution_count": 174,
   "metadata": {},
   "outputs": [],
   "source": [
    "import pandas as pd\n",
    "import matplotlib.pyplot as plt\n",
    "import missingno as msno"
   ]
  },
  {
   "cell_type": "code",
   "execution_count": 71,
   "metadata": {
    "id": "dw87FlzMgFyM"
   },
   "outputs": [
    {
     "data": {
      "text/html": [
       "<div>\n",
       "<style scoped>\n",
       "    .dataframe tbody tr th:only-of-type {\n",
       "        vertical-align: middle;\n",
       "    }\n",
       "\n",
       "    .dataframe tbody tr th {\n",
       "        vertical-align: top;\n",
       "    }\n",
       "\n",
       "    .dataframe thead th {\n",
       "        text-align: right;\n",
       "    }\n",
       "</style>\n",
       "<table border=\"1\" class=\"dataframe\">\n",
       "  <thead>\n",
       "    <tr style=\"text-align: right;\">\n",
       "      <th></th>\n",
       "      <th>title</th>\n",
       "      <th>puNumber</th>\n",
       "      <th>show_start_date</th>\n",
       "      <th>type</th>\n",
       "      <th>film_studio</th>\n",
       "      <th>production_country</th>\n",
       "      <th>director</th>\n",
       "      <th>producer</th>\n",
       "      <th>age_restriction</th>\n",
       "      <th>refundable_support</th>\n",
       "      <th>nonrefundable_support</th>\n",
       "      <th>budget</th>\n",
       "      <th>financing_source</th>\n",
       "      <th>ratings</th>\n",
       "      <th>genres</th>\n",
       "    </tr>\n",
       "  </thead>\n",
       "  <tbody>\n",
       "    <tr>\n",
       "      <th>0</th>\n",
       "      <td>Открытый простор</td>\n",
       "      <td>221048915</td>\n",
       "      <td>2015-11-27T12:00:00.000Z</td>\n",
       "      <td>Художественный</td>\n",
       "      <td>Тачстоун Пикчерз, Кобальт Пикчерз, Бикон Пикче...</td>\n",
       "      <td>США</td>\n",
       "      <td>Кевин Костнер</td>\n",
       "      <td>Дэвид Валдес, Кевин Костнер, Джейк Эбертс</td>\n",
       "      <td>«18+» - запрещено для детей</td>\n",
       "      <td>NaN</td>\n",
       "      <td>NaN</td>\n",
       "      <td>NaN</td>\n",
       "      <td>NaN</td>\n",
       "      <td>7.2</td>\n",
       "      <td>боевик,драма,мелодрама</td>\n",
       "    </tr>\n",
       "    <tr>\n",
       "      <th>1</th>\n",
       "      <td>Особо важное задание</td>\n",
       "      <td>111013716</td>\n",
       "      <td>2016-09-13T12:00:00.000Z</td>\n",
       "      <td>Художественный</td>\n",
       "      <td>Киностудия \"Мосфильм\"</td>\n",
       "      <td>СССР</td>\n",
       "      <td>Е.Матвеев</td>\n",
       "      <td>NaN</td>\n",
       "      <td>«6+» - для детей старше 6 лет</td>\n",
       "      <td>NaN</td>\n",
       "      <td>NaN</td>\n",
       "      <td>NaN</td>\n",
       "      <td>NaN</td>\n",
       "      <td>6.6</td>\n",
       "      <td>драма,военный</td>\n",
       "    </tr>\n",
       "    <tr>\n",
       "      <th>2</th>\n",
       "      <td>Особо опасен</td>\n",
       "      <td>221038416</td>\n",
       "      <td>2016-10-10T12:00:00.000Z</td>\n",
       "      <td>Художественный</td>\n",
       "      <td>Юниверсал Пикчерз, Кикстарт Продакшнз, Марк Пл...</td>\n",
       "      <td>США</td>\n",
       "      <td>Тимур Бекмамбетов</td>\n",
       "      <td>Джим Лемли, Джейсон Нетер, Марк Е.Платт, Яйн Смит</td>\n",
       "      <td>«18+» - запрещено для детей</td>\n",
       "      <td>NaN</td>\n",
       "      <td>NaN</td>\n",
       "      <td>NaN</td>\n",
       "      <td>NaN</td>\n",
       "      <td>6.8</td>\n",
       "      <td>фантастика,боевик,триллер</td>\n",
       "    </tr>\n",
       "    <tr>\n",
       "      <th>3</th>\n",
       "      <td>Особо опасен</td>\n",
       "      <td>221026916</td>\n",
       "      <td>2016-06-10T12:00:00.000Z</td>\n",
       "      <td>Художественный</td>\n",
       "      <td>Юниверсал Пикчерз, Кикстарт Продакшнз, Марк Пл...</td>\n",
       "      <td>США</td>\n",
       "      <td>Тимур Бекмамбетов</td>\n",
       "      <td>Джим Лемли, Джейсон Нетер, Марк Е.Платт, Яйн Смит</td>\n",
       "      <td>«18+» - запрещено для детей</td>\n",
       "      <td>NaN</td>\n",
       "      <td>NaN</td>\n",
       "      <td>NaN</td>\n",
       "      <td>NaN</td>\n",
       "      <td>6.8</td>\n",
       "      <td>фантастика,боевик,триллер</td>\n",
       "    </tr>\n",
       "    <tr>\n",
       "      <th>4</th>\n",
       "      <td>Особо опасен</td>\n",
       "      <td>221030815</td>\n",
       "      <td>2015-07-29T12:00:00.000Z</td>\n",
       "      <td>Художественный</td>\n",
       "      <td>Юниверсал Пикчерз, Кикстарт Продакшнз, Марк Пл...</td>\n",
       "      <td>США</td>\n",
       "      <td>Тимур Бекмамбетов</td>\n",
       "      <td>Джим Лемли, Джейсон Нетер, Марк Е.Платт, Яйн Смит</td>\n",
       "      <td>«18+» - запрещено для детей</td>\n",
       "      <td>NaN</td>\n",
       "      <td>NaN</td>\n",
       "      <td>NaN</td>\n",
       "      <td>NaN</td>\n",
       "      <td>6.8</td>\n",
       "      <td>фантастика,боевик,триллер</td>\n",
       "    </tr>\n",
       "    <tr>\n",
       "      <th>5</th>\n",
       "      <td>Остановился поезд</td>\n",
       "      <td>111013816</td>\n",
       "      <td>2016-09-13T12:00:00.000Z</td>\n",
       "      <td>Художественный</td>\n",
       "      <td>Киностудия \"Мосфильм\"</td>\n",
       "      <td>СССР</td>\n",
       "      <td>В.Абдрашитов</td>\n",
       "      <td>NaN</td>\n",
       "      <td>«6+» - для детей старше 6 лет</td>\n",
       "      <td>NaN</td>\n",
       "      <td>NaN</td>\n",
       "      <td>NaN</td>\n",
       "      <td>NaN</td>\n",
       "      <td>7.7</td>\n",
       "      <td>драма</td>\n",
       "    </tr>\n",
       "    <tr>\n",
       "      <th>6</th>\n",
       "      <td>Любовь и голуби</td>\n",
       "      <td>111007013</td>\n",
       "      <td>2013-10-18T12:00:00.000Z</td>\n",
       "      <td>Художественный</td>\n",
       "      <td>Киностудия \"Мосфильм\"</td>\n",
       "      <td>СССР</td>\n",
       "      <td>В.Меньшов</td>\n",
       "      <td>NaN</td>\n",
       "      <td>«12+» - для детей старше 12 лет</td>\n",
       "      <td>NaN</td>\n",
       "      <td>NaN</td>\n",
       "      <td>NaN</td>\n",
       "      <td>NaN</td>\n",
       "      <td>8.3</td>\n",
       "      <td>мелодрама,комедия</td>\n",
       "    </tr>\n",
       "    <tr>\n",
       "      <th>7</th>\n",
       "      <td>Любовь и сигареты</td>\n",
       "      <td>221074614</td>\n",
       "      <td>2014-12-29T12:00:00.000Z</td>\n",
       "      <td>Художественный</td>\n",
       "      <td>Юнайтед Артистс, Грин Стрит Филмз, Айкон Интер...</td>\n",
       "      <td>США</td>\n",
       "      <td>Джон Туртурро</td>\n",
       "      <td>Джон Пенотти, Джон Туртурро</td>\n",
       "      <td>«18+» - запрещено для детей</td>\n",
       "      <td>NaN</td>\n",
       "      <td>NaN</td>\n",
       "      <td>NaN</td>\n",
       "      <td>NaN</td>\n",
       "      <td>6.6</td>\n",
       "      <td>мюзикл,мелодрама,комедия</td>\n",
       "    </tr>\n",
       "    <tr>\n",
       "      <th>8</th>\n",
       "      <td>Отпетые мошенники.</td>\n",
       "      <td>121011416</td>\n",
       "      <td>2016-05-05T12:00:00.000Z</td>\n",
       "      <td>Художественный</td>\n",
       "      <td>Пульсар Продюксьон, ТФ1 Фильм</td>\n",
       "      <td>Франция</td>\n",
       "      <td>Эрик Беснард</td>\n",
       "      <td>Патрис Леду</td>\n",
       "      <td>«18+» - запрещено для детей</td>\n",
       "      <td>NaN</td>\n",
       "      <td>NaN</td>\n",
       "      <td>NaN</td>\n",
       "      <td>NaN</td>\n",
       "      <td>8.0</td>\n",
       "      <td>комедия,криминал</td>\n",
       "    </tr>\n",
       "    <tr>\n",
       "      <th>9</th>\n",
       "      <td>Отпуск за свой счет</td>\n",
       "      <td>111019114</td>\n",
       "      <td>2014-12-01T12:00:00.000Z</td>\n",
       "      <td>Художественный</td>\n",
       "      <td>Киностудия \"Мосфильм\", Телевидение ВНР</td>\n",
       "      <td>СССР, Венгрия</td>\n",
       "      <td>В.Титов</td>\n",
       "      <td>NaN</td>\n",
       "      <td>«12+» - для детей старше 12 лет</td>\n",
       "      <td>NaN</td>\n",
       "      <td>NaN</td>\n",
       "      <td>NaN</td>\n",
       "      <td>NaN</td>\n",
       "      <td>7.8</td>\n",
       "      <td>мелодрама,комедия</td>\n",
       "    </tr>\n",
       "  </tbody>\n",
       "</table>\n",
       "</div>"
      ],
      "text/plain": [
       "                  title   puNumber           show_start_date            type  \\\n",
       "0      Открытый простор  221048915  2015-11-27T12:00:00.000Z  Художественный   \n",
       "1  Особо важное задание  111013716  2016-09-13T12:00:00.000Z  Художественный   \n",
       "2          Особо опасен  221038416  2016-10-10T12:00:00.000Z  Художественный   \n",
       "3          Особо опасен  221026916  2016-06-10T12:00:00.000Z  Художественный   \n",
       "4          Особо опасен  221030815  2015-07-29T12:00:00.000Z  Художественный   \n",
       "5     Остановился поезд  111013816  2016-09-13T12:00:00.000Z  Художественный   \n",
       "6       Любовь и голуби  111007013  2013-10-18T12:00:00.000Z  Художественный   \n",
       "7     Любовь и сигареты  221074614  2014-12-29T12:00:00.000Z  Художественный   \n",
       "8    Отпетые мошенники.  121011416  2016-05-05T12:00:00.000Z  Художественный   \n",
       "9   Отпуск за свой счет  111019114  2014-12-01T12:00:00.000Z  Художественный   \n",
       "\n",
       "                                         film_studio production_country  \\\n",
       "0  Тачстоун Пикчерз, Кобальт Пикчерз, Бикон Пикче...                США   \n",
       "1                              Киностудия \"Мосфильм\"               СССР   \n",
       "2  Юниверсал Пикчерз, Кикстарт Продакшнз, Марк Пл...                США   \n",
       "3  Юниверсал Пикчерз, Кикстарт Продакшнз, Марк Пл...                США   \n",
       "4  Юниверсал Пикчерз, Кикстарт Продакшнз, Марк Пл...                США   \n",
       "5                              Киностудия \"Мосфильм\"               СССР   \n",
       "6                              Киностудия \"Мосфильм\"               СССР   \n",
       "7  Юнайтед Артистс, Грин Стрит Филмз, Айкон Интер...                США   \n",
       "8                     Пульсар Продюксьон, ТФ1 Фильм             Франция   \n",
       "9             Киностудия \"Мосфильм\", Телевидение ВНР      СССР, Венгрия   \n",
       "\n",
       "            director                                           producer  \\\n",
       "0      Кевин Костнер          Дэвид Валдес, Кевин Костнер, Джейк Эбертс   \n",
       "1          Е.Матвеев                                                NaN   \n",
       "2  Тимур Бекмамбетов  Джим Лемли, Джейсон Нетер, Марк Е.Платт, Яйн Смит   \n",
       "3  Тимур Бекмамбетов  Джим Лемли, Джейсон Нетер, Марк Е.Платт, Яйн Смит   \n",
       "4  Тимур Бекмамбетов  Джим Лемли, Джейсон Нетер, Марк Е.Платт, Яйн Смит   \n",
       "5       В.Абдрашитов                                                NaN   \n",
       "6          В.Меньшов                                                NaN   \n",
       "7      Джон Туртурро                        Джон Пенотти, Джон Туртурро   \n",
       "8       Эрик Беснард                                        Патрис Леду   \n",
       "9            В.Титов                                                NaN   \n",
       "\n",
       "                   age_restriction  refundable_support  nonrefundable_support  \\\n",
       "0      «18+» - запрещено для детей                 NaN                    NaN   \n",
       "1    «6+» - для детей старше 6 лет                 NaN                    NaN   \n",
       "2      «18+» - запрещено для детей                 NaN                    NaN   \n",
       "3      «18+» - запрещено для детей                 NaN                    NaN   \n",
       "4      «18+» - запрещено для детей                 NaN                    NaN   \n",
       "5    «6+» - для детей старше 6 лет                 NaN                    NaN   \n",
       "6  «12+» - для детей старше 12 лет                 NaN                    NaN   \n",
       "7      «18+» - запрещено для детей                 NaN                    NaN   \n",
       "8      «18+» - запрещено для детей                 NaN                    NaN   \n",
       "9  «12+» - для детей старше 12 лет                 NaN                    NaN   \n",
       "\n",
       "   budget financing_source ratings                     genres  \n",
       "0     NaN              NaN     7.2     боевик,драма,мелодрама  \n",
       "1     NaN              NaN     6.6              драма,военный  \n",
       "2     NaN              NaN     6.8  фантастика,боевик,триллер  \n",
       "3     NaN              NaN     6.8  фантастика,боевик,триллер  \n",
       "4     NaN              NaN     6.8  фантастика,боевик,триллер  \n",
       "5     NaN              NaN     7.7                      драма  \n",
       "6     NaN              NaN     8.3          мелодрама,комедия  \n",
       "7     NaN              NaN     6.6   мюзикл,мелодрама,комедия  \n",
       "8     NaN              NaN     8.0           комедия,криминал  \n",
       "9     NaN              NaN     7.8          мелодрама,комедия  "
      ]
     },
     "execution_count": 71,
     "metadata": {},
     "output_type": "execute_result"
    }
   ],
   "source": [
    "data_movies = pd.read_csv('/datasets/mkrf_movies.csv')\n",
    "data_shows = pd.read_csv('/datasets/mkrf_shows.csv')\n",
    "\n",
    "data_movies.head(10)"
   ]
  },
  {
   "cell_type": "code",
   "execution_count": 72,
   "metadata": {},
   "outputs": [
    {
     "data": {
      "text/html": [
       "<div>\n",
       "<style scoped>\n",
       "    .dataframe tbody tr th:only-of-type {\n",
       "        vertical-align: middle;\n",
       "    }\n",
       "\n",
       "    .dataframe tbody tr th {\n",
       "        vertical-align: top;\n",
       "    }\n",
       "\n",
       "    .dataframe thead th {\n",
       "        text-align: right;\n",
       "    }\n",
       "</style>\n",
       "<table border=\"1\" class=\"dataframe\">\n",
       "  <thead>\n",
       "    <tr style=\"text-align: right;\">\n",
       "      <th></th>\n",
       "      <th>refundable_support</th>\n",
       "      <th>nonrefundable_support</th>\n",
       "      <th>budget</th>\n",
       "    </tr>\n",
       "  </thead>\n",
       "  <tbody>\n",
       "    <tr>\n",
       "      <th>count</th>\n",
       "      <td>3.320000e+02</td>\n",
       "      <td>3.320000e+02</td>\n",
       "      <td>3.320000e+02</td>\n",
       "    </tr>\n",
       "    <tr>\n",
       "      <th>mean</th>\n",
       "      <td>1.186446e+07</td>\n",
       "      <td>4.898099e+07</td>\n",
       "      <td>1.272297e+08</td>\n",
       "    </tr>\n",
       "    <tr>\n",
       "      <th>std</th>\n",
       "      <td>2.491656e+07</td>\n",
       "      <td>5.998012e+07</td>\n",
       "      <td>1.885883e+08</td>\n",
       "    </tr>\n",
       "    <tr>\n",
       "      <th>min</th>\n",
       "      <td>0.000000e+00</td>\n",
       "      <td>0.000000e+00</td>\n",
       "      <td>0.000000e+00</td>\n",
       "    </tr>\n",
       "    <tr>\n",
       "      <th>25%</th>\n",
       "      <td>0.000000e+00</td>\n",
       "      <td>2.500000e+07</td>\n",
       "      <td>4.200000e+07</td>\n",
       "    </tr>\n",
       "    <tr>\n",
       "      <th>50%</th>\n",
       "      <td>0.000000e+00</td>\n",
       "      <td>3.000000e+07</td>\n",
       "      <td>6.864992e+07</td>\n",
       "    </tr>\n",
       "    <tr>\n",
       "      <th>75%</th>\n",
       "      <td>1.500000e+07</td>\n",
       "      <td>4.037500e+07</td>\n",
       "      <td>1.419853e+08</td>\n",
       "    </tr>\n",
       "    <tr>\n",
       "      <th>max</th>\n",
       "      <td>1.800000e+08</td>\n",
       "      <td>4.000000e+08</td>\n",
       "      <td>2.305074e+09</td>\n",
       "    </tr>\n",
       "  </tbody>\n",
       "</table>\n",
       "</div>"
      ],
      "text/plain": [
       "       refundable_support  nonrefundable_support        budget\n",
       "count        3.320000e+02           3.320000e+02  3.320000e+02\n",
       "mean         1.186446e+07           4.898099e+07  1.272297e+08\n",
       "std          2.491656e+07           5.998012e+07  1.885883e+08\n",
       "min          0.000000e+00           0.000000e+00  0.000000e+00\n",
       "25%          0.000000e+00           2.500000e+07  4.200000e+07\n",
       "50%          0.000000e+00           3.000000e+07  6.864992e+07\n",
       "75%          1.500000e+07           4.037500e+07  1.419853e+08\n",
       "max          1.800000e+08           4.000000e+08  2.305074e+09"
      ]
     },
     "execution_count": 72,
     "metadata": {},
     "output_type": "execute_result"
    }
   ],
   "source": [
    "data_movies.describe()"
   ]
  },
  {
   "cell_type": "code",
   "execution_count": 73,
   "metadata": {},
   "outputs": [
    {
     "data": {
      "text/plain": [
       "title                       0\n",
       "puNumber                    0\n",
       "show_start_date             0\n",
       "type                        0\n",
       "film_studio                18\n",
       "production_country          2\n",
       "director                    9\n",
       "producer                  568\n",
       "age_restriction             0\n",
       "refundable_support       7154\n",
       "nonrefundable_support    7154\n",
       "budget                   7154\n",
       "financing_source         7154\n",
       "ratings                   967\n",
       "genres                    976\n",
       "dtype: int64"
      ]
     },
     "execution_count": 73,
     "metadata": {},
     "output_type": "execute_result"
    }
   ],
   "source": [
    "data_movies.isna().sum()"
   ]
  },
  {
   "cell_type": "code",
   "execution_count": 74,
   "metadata": {},
   "outputs": [
    {
     "name": "stdout",
     "output_type": "stream",
     "text": [
      "<class 'pandas.core.frame.DataFrame'>\n",
      "RangeIndex: 7486 entries, 0 to 7485\n",
      "Data columns (total 15 columns):\n",
      " #   Column                 Non-Null Count  Dtype  \n",
      "---  ------                 --------------  -----  \n",
      " 0   title                  7486 non-null   object \n",
      " 1   puNumber               7486 non-null   object \n",
      " 2   show_start_date        7486 non-null   object \n",
      " 3   type                   7486 non-null   object \n",
      " 4   film_studio            7468 non-null   object \n",
      " 5   production_country     7484 non-null   object \n",
      " 6   director               7477 non-null   object \n",
      " 7   producer               6918 non-null   object \n",
      " 8   age_restriction        7486 non-null   object \n",
      " 9   refundable_support     332 non-null    float64\n",
      " 10  nonrefundable_support  332 non-null    float64\n",
      " 11  budget                 332 non-null    float64\n",
      " 12  financing_source       332 non-null    object \n",
      " 13  ratings                6519 non-null   object \n",
      " 14  genres                 6510 non-null   object \n",
      "dtypes: float64(3), object(12)\n",
      "memory usage: 877.4+ KB\n"
     ]
    }
   ],
   "source": [
    "data_movies.info()"
   ]
  },
  {
   "cell_type": "code",
   "execution_count": 75,
   "metadata": {},
   "outputs": [
    {
     "data": {
      "text/html": [
       "<div>\n",
       "<style scoped>\n",
       "    .dataframe tbody tr th:only-of-type {\n",
       "        vertical-align: middle;\n",
       "    }\n",
       "\n",
       "    .dataframe tbody tr th {\n",
       "        vertical-align: top;\n",
       "    }\n",
       "\n",
       "    .dataframe thead th {\n",
       "        text-align: right;\n",
       "    }\n",
       "</style>\n",
       "<table border=\"1\" class=\"dataframe\">\n",
       "  <thead>\n",
       "    <tr style=\"text-align: right;\">\n",
       "      <th></th>\n",
       "      <th>puNumber</th>\n",
       "      <th>box_office</th>\n",
       "    </tr>\n",
       "  </thead>\n",
       "  <tbody>\n",
       "    <tr>\n",
       "      <th>0</th>\n",
       "      <td>111000113</td>\n",
       "      <td>2.450000e+03</td>\n",
       "    </tr>\n",
       "    <tr>\n",
       "      <th>1</th>\n",
       "      <td>111000115</td>\n",
       "      <td>6.104000e+04</td>\n",
       "    </tr>\n",
       "    <tr>\n",
       "      <th>2</th>\n",
       "      <td>111000116</td>\n",
       "      <td>1.530300e+08</td>\n",
       "    </tr>\n",
       "    <tr>\n",
       "      <th>3</th>\n",
       "      <td>111000117</td>\n",
       "      <td>1.226096e+07</td>\n",
       "    </tr>\n",
       "    <tr>\n",
       "      <th>4</th>\n",
       "      <td>111000118</td>\n",
       "      <td>1.636841e+08</td>\n",
       "    </tr>\n",
       "    <tr>\n",
       "      <th>5</th>\n",
       "      <td>111000119</td>\n",
       "      <td>4.293650e+06</td>\n",
       "    </tr>\n",
       "    <tr>\n",
       "      <th>6</th>\n",
       "      <td>111000212</td>\n",
       "      <td>2.000000e+02</td>\n",
       "    </tr>\n",
       "    <tr>\n",
       "      <th>7</th>\n",
       "      <td>111000216</td>\n",
       "      <td>3.555670e+05</td>\n",
       "    </tr>\n",
       "    <tr>\n",
       "      <th>8</th>\n",
       "      <td>111000313</td>\n",
       "      <td>7.100000e+02</td>\n",
       "    </tr>\n",
       "    <tr>\n",
       "      <th>9</th>\n",
       "      <td>111000314</td>\n",
       "      <td>1.607970e+06</td>\n",
       "    </tr>\n",
       "  </tbody>\n",
       "</table>\n",
       "</div>"
      ],
      "text/plain": [
       "    puNumber    box_office\n",
       "0  111000113  2.450000e+03\n",
       "1  111000115  6.104000e+04\n",
       "2  111000116  1.530300e+08\n",
       "3  111000117  1.226096e+07\n",
       "4  111000118  1.636841e+08\n",
       "5  111000119  4.293650e+06\n",
       "6  111000212  2.000000e+02\n",
       "7  111000216  3.555670e+05\n",
       "8  111000313  7.100000e+02\n",
       "9  111000314  1.607970e+06"
      ]
     },
     "execution_count": 75,
     "metadata": {},
     "output_type": "execute_result"
    }
   ],
   "source": [
    "data_shows.head(10)"
   ]
  },
  {
   "cell_type": "code",
   "execution_count": 76,
   "metadata": {},
   "outputs": [
    {
     "data": {
      "text/html": [
       "<div>\n",
       "<style scoped>\n",
       "    .dataframe tbody tr th:only-of-type {\n",
       "        vertical-align: middle;\n",
       "    }\n",
       "\n",
       "    .dataframe tbody tr th {\n",
       "        vertical-align: top;\n",
       "    }\n",
       "\n",
       "    .dataframe thead th {\n",
       "        text-align: right;\n",
       "    }\n",
       "</style>\n",
       "<table border=\"1\" class=\"dataframe\">\n",
       "  <thead>\n",
       "    <tr style=\"text-align: right;\">\n",
       "      <th></th>\n",
       "      <th>puNumber</th>\n",
       "      <th>box_office</th>\n",
       "    </tr>\n",
       "  </thead>\n",
       "  <tbody>\n",
       "    <tr>\n",
       "      <th>count</th>\n",
       "      <td>3.158000e+03</td>\n",
       "      <td>3.158000e+03</td>\n",
       "    </tr>\n",
       "    <tr>\n",
       "      <th>mean</th>\n",
       "      <td>1.201875e+08</td>\n",
       "      <td>7.647870e+07</td>\n",
       "    </tr>\n",
       "    <tr>\n",
       "      <th>std</th>\n",
       "      <td>1.238394e+07</td>\n",
       "      <td>2.403531e+08</td>\n",
       "    </tr>\n",
       "    <tr>\n",
       "      <th>min</th>\n",
       "      <td>1.110001e+08</td>\n",
       "      <td>0.000000e+00</td>\n",
       "    </tr>\n",
       "    <tr>\n",
       "      <th>25%</th>\n",
       "      <td>1.130002e+08</td>\n",
       "      <td>8.623900e+04</td>\n",
       "    </tr>\n",
       "    <tr>\n",
       "      <th>50%</th>\n",
       "      <td>1.210131e+08</td>\n",
       "      <td>2.327988e+06</td>\n",
       "    </tr>\n",
       "    <tr>\n",
       "      <th>75%</th>\n",
       "      <td>1.210283e+08</td>\n",
       "      <td>2.397967e+07</td>\n",
       "    </tr>\n",
       "    <tr>\n",
       "      <th>max</th>\n",
       "      <td>2.240264e+08</td>\n",
       "      <td>3.073569e+09</td>\n",
       "    </tr>\n",
       "  </tbody>\n",
       "</table>\n",
       "</div>"
      ],
      "text/plain": [
       "           puNumber    box_office\n",
       "count  3.158000e+03  3.158000e+03\n",
       "mean   1.201875e+08  7.647870e+07\n",
       "std    1.238394e+07  2.403531e+08\n",
       "min    1.110001e+08  0.000000e+00\n",
       "25%    1.130002e+08  8.623900e+04\n",
       "50%    1.210131e+08  2.327988e+06\n",
       "75%    1.210283e+08  2.397967e+07\n",
       "max    2.240264e+08  3.073569e+09"
      ]
     },
     "execution_count": 76,
     "metadata": {},
     "output_type": "execute_result"
    }
   ],
   "source": [
    "data_shows.describe()"
   ]
  },
  {
   "cell_type": "code",
   "execution_count": 77,
   "metadata": {},
   "outputs": [
    {
     "data": {
      "text/plain": [
       "puNumber      0\n",
       "box_office    0\n",
       "dtype: int64"
      ]
     },
     "execution_count": 77,
     "metadata": {},
     "output_type": "execute_result"
    }
   ],
   "source": [
    "data_shows.isna().sum()"
   ]
  },
  {
   "cell_type": "code",
   "execution_count": 78,
   "metadata": {},
   "outputs": [
    {
     "name": "stdout",
     "output_type": "stream",
     "text": [
      "<class 'pandas.core.frame.DataFrame'>\n",
      "RangeIndex: 3158 entries, 0 to 3157\n",
      "Data columns (total 2 columns):\n",
      " #   Column      Non-Null Count  Dtype  \n",
      "---  ------      --------------  -----  \n",
      " 0   puNumber    3158 non-null   int64  \n",
      " 1   box_office  3158 non-null   float64\n",
      "dtypes: float64(1), int64(1)\n",
      "memory usage: 49.5 KB\n"
     ]
    }
   ],
   "source": [
    "data_shows.info()"
   ]
  },
  {
   "cell_type": "code",
   "execution_count": 79,
   "metadata": {},
   "outputs": [
    {
     "data": {
      "text/html": [
       "<div>\n",
       "<style scoped>\n",
       "    .dataframe tbody tr th:only-of-type {\n",
       "        vertical-align: middle;\n",
       "    }\n",
       "\n",
       "    .dataframe tbody tr th {\n",
       "        vertical-align: top;\n",
       "    }\n",
       "\n",
       "    .dataframe thead th {\n",
       "        text-align: right;\n",
       "    }\n",
       "</style>\n",
       "<table border=\"1\" class=\"dataframe\">\n",
       "  <thead>\n",
       "    <tr style=\"text-align: right;\">\n",
       "      <th></th>\n",
       "      <th>title</th>\n",
       "      <th>puNumber</th>\n",
       "      <th>show_start_date</th>\n",
       "      <th>type</th>\n",
       "      <th>film_studio</th>\n",
       "      <th>production_country</th>\n",
       "      <th>director</th>\n",
       "      <th>producer</th>\n",
       "      <th>age_restriction</th>\n",
       "      <th>refundable_support</th>\n",
       "      <th>nonrefundable_support</th>\n",
       "      <th>budget</th>\n",
       "      <th>financing_source</th>\n",
       "      <th>ratings</th>\n",
       "      <th>genres</th>\n",
       "    </tr>\n",
       "  </thead>\n",
       "  <tbody>\n",
       "    <tr>\n",
       "      <th>804</th>\n",
       "      <td>Паранормальный Якутск</td>\n",
       "      <td>111004112</td>\n",
       "      <td>2012-08-24T12:00:00.000Z</td>\n",
       "      <td>Художественный</td>\n",
       "      <td>ИП Тимофеев К.П.</td>\n",
       "      <td>Россия</td>\n",
       "      <td>К.Тимофеев</td>\n",
       "      <td>NaN</td>\n",
       "      <td>«16+» - для детей старше 16 лет</td>\n",
       "      <td>NaN</td>\n",
       "      <td>NaN</td>\n",
       "      <td>NaN</td>\n",
       "      <td>NaN</td>\n",
       "      <td>NaN</td>\n",
       "      <td>NaN</td>\n",
       "    </tr>\n",
       "    <tr>\n",
       "      <th>1797</th>\n",
       "      <td>Курбан-роман. (История с жертвой)</td>\n",
       "      <td>нет</td>\n",
       "      <td>2014-05-15T12:00:00.000Z</td>\n",
       "      <td>Художественный</td>\n",
       "      <td>ФОНД \"ИННОВАЦИЯ\"</td>\n",
       "      <td>Россия</td>\n",
       "      <td>С.Юзеев</td>\n",
       "      <td>М.Галицкая</td>\n",
       "      <td>«12+» - для детей старше 12 лет</td>\n",
       "      <td>NaN</td>\n",
       "      <td>NaN</td>\n",
       "      <td>NaN</td>\n",
       "      <td>NaN</td>\n",
       "      <td>NaN</td>\n",
       "      <td>NaN</td>\n",
       "    </tr>\n",
       "  </tbody>\n",
       "</table>\n",
       "</div>"
      ],
      "text/plain": [
       "                                  title    puNumber           show_start_date  \\\n",
       "804               Паранормальный Якутск   111004112  2012-08-24T12:00:00.000Z   \n",
       "1797  Курбан-роман. (История с жертвой)         нет  2014-05-15T12:00:00.000Z   \n",
       "\n",
       "                type       film_studio production_country    director  \\\n",
       "804   Художественный  ИП Тимофеев К.П.             Россия  К.Тимофеев   \n",
       "1797  Художественный  ФОНД \"ИННОВАЦИЯ\"             Россия     С.Юзеев   \n",
       "\n",
       "        producer                  age_restriction  refundable_support  \\\n",
       "804          NaN  «16+» - для детей старше 16 лет                 NaN   \n",
       "1797  М.Галицкая  «12+» - для детей старше 12 лет                 NaN   \n",
       "\n",
       "      nonrefundable_support  budget financing_source ratings genres  \n",
       "804                     NaN     NaN              NaN     NaN    NaN  \n",
       "1797                    NaN     NaN              NaN     NaN    NaN  "
      ]
     },
     "execution_count": 79,
     "metadata": {},
     "output_type": "execute_result"
    }
   ],
   "source": [
    "data_movies[data_movies['puNumber'].str.isdigit() == False]"
   ]
  },
  {
   "cell_type": "code",
   "execution_count": 80,
   "metadata": {},
   "outputs": [
    {
     "name": "stdout",
     "output_type": "stream",
     "text": [
      "<class 'pandas.core.frame.DataFrame'>\n",
      "Int64Index: 7485 entries, 0 to 7485\n",
      "Data columns (total 15 columns):\n",
      " #   Column                 Non-Null Count  Dtype  \n",
      "---  ------                 --------------  -----  \n",
      " 0   title                  7485 non-null   object \n",
      " 1   puNumber               7485 non-null   int64  \n",
      " 2   show_start_date        7485 non-null   object \n",
      " 3   type                   7485 non-null   object \n",
      " 4   film_studio            7467 non-null   object \n",
      " 5   production_country     7483 non-null   object \n",
      " 6   director               7476 non-null   object \n",
      " 7   producer               6917 non-null   object \n",
      " 8   age_restriction        7485 non-null   object \n",
      " 9   refundable_support     332 non-null    float64\n",
      " 10  nonrefundable_support  332 non-null    float64\n",
      " 11  budget                 332 non-null    float64\n",
      " 12  financing_source       332 non-null    object \n",
      " 13  ratings                6519 non-null   object \n",
      " 14  genres                 6510 non-null   object \n",
      "dtypes: float64(3), int64(1), object(11)\n",
      "memory usage: 935.6+ KB\n"
     ]
    }
   ],
   "source": [
    "data_movies['puNumber'] = pd.to_numeric(data_movies['puNumber'], errors='coerce')\n",
    "data_movies = data_movies.dropna(subset=['puNumber'])\n",
    "data_movies['puNumber'] = data_movies['puNumber'].astype('int')\n",
    "data_movies.info()"
   ]
  },
  {
   "cell_type": "code",
   "execution_count": 81,
   "metadata": {},
   "outputs": [
    {
     "name": "stdout",
     "output_type": "stream",
     "text": [
      "OLD:  Index(['title', 'puNumber', 'show_start_date', 'type', 'film_studio',\n",
      "       'production_country', 'director', 'producer', 'age_restriction',\n",
      "       'refundable_support', 'nonrefundable_support', 'budget',\n",
      "       'financing_source', 'ratings', 'genres'],\n",
      "      dtype='object')\n",
      "NEW:  Index(['title', 'puNumber', 'show_start_date', 'type', 'film_studio',\n",
      "       'production_country', 'director', 'producer', 'age_restriction',\n",
      "       'refundable_support', 'nonrefundable_support', 'budget',\n",
      "       'financing_source', 'ratings', 'genres', 'box_office'],\n",
      "      dtype='object')\n"
     ]
    }
   ],
   "source": [
    "print(\"OLD: \", data_movies.columns)\n",
    "data = data_movies.merge(data_shows, on='puNumber', how='outer')\n",
    "print(\"NEW: \", data.columns)"
   ]
  },
  {
   "cell_type": "code",
   "execution_count": 82,
   "metadata": {},
   "outputs": [
    {
     "name": "stdout",
     "output_type": "stream",
     "text": [
      "<class 'pandas.core.frame.DataFrame'>\n",
      "Int64Index: 7485 entries, 0 to 7484\n",
      "Data columns (total 16 columns):\n",
      " #   Column                 Non-Null Count  Dtype  \n",
      "---  ------                 --------------  -----  \n",
      " 0   title                  7485 non-null   object \n",
      " 1   puNumber               7485 non-null   int64  \n",
      " 2   show_start_date        7485 non-null   object \n",
      " 3   type                   7485 non-null   object \n",
      " 4   film_studio            7467 non-null   object \n",
      " 5   production_country     7483 non-null   object \n",
      " 6   director               7476 non-null   object \n",
      " 7   producer               6917 non-null   object \n",
      " 8   age_restriction        7485 non-null   object \n",
      " 9   refundable_support     332 non-null    float64\n",
      " 10  nonrefundable_support  332 non-null    float64\n",
      " 11  budget                 332 non-null    float64\n",
      " 12  financing_source       332 non-null    object \n",
      " 13  ratings                6519 non-null   object \n",
      " 14  genres                 6510 non-null   object \n",
      " 15  box_office             3158 non-null   float64\n",
      "dtypes: float64(4), int64(1), object(11)\n",
      "memory usage: 994.1+ KB\n"
     ]
    }
   ],
   "source": [
    "data.info()"
   ]
  },
  {
   "cell_type": "markdown",
   "metadata": {},
   "source": [
    "Чтобы объединить таблицы по столбцу puNumber, пришлось привести одну строку к типу numeric(int64) и вторую удалить из-за отсутствия значения(номер удостоверения не может быть пустым) в таблице movies. В таблице shows  данных найдено не было. В результате получилась таблица с 7485 записями."
   ]
  },
  {
   "cell_type": "markdown",
   "metadata": {
    "id": "KLDGpPG0gFyM"
   },
   "source": [
    "### Шаг 2. Предобработка данных"
   ]
  },
  {
   "cell_type": "markdown",
   "metadata": {
    "id": "ssWwKXsxgFyO"
   },
   "source": [
    "#### Шаг 2.1. Проверьте типы данных\n",
    "\n",
    "- Проверьте типы данных в датафрейме и преобразуйте их там, где это необходимо."
   ]
  },
  {
   "cell_type": "code",
   "execution_count": 83,
   "metadata": {},
   "outputs": [],
   "source": [
    "data['show_start_date'] = pd.to_datetime(data['show_start_date'])"
   ]
  },
  {
   "cell_type": "code",
   "execution_count": 84,
   "metadata": {},
   "outputs": [
    {
     "data": {
      "text/plain": [
       "array(['7.2', '6.6', '6.8', '7.7', '8.3', '8.0', '7.8', '8.1', '7.1',\n",
       "       '6.0', '7.4', '5.8', '8.7', '6.3', '6.9', '5.0', '4.3', '7.3',\n",
       "       '7.0', '6.4', nan, '8.2', '7.5', '6.7', '7.9', '5.9', '6.2', '5.6',\n",
       "       '6.5', '2.4', '7.6', '6.1', '8.6', '8.5', '8.8', '5.5', '5.1',\n",
       "       '5.7', '5.4', '99%', '4.4', '4.5', '5.3', '4.1', '8.4', '2.6',\n",
       "       '3.8', '4.6', '4.8', '4.0', '3.0', '1.6', '4.2', '5.2', '4.7',\n",
       "       '4.9', '3.9', '2.7', '3.3', '2.9', '28%', '3.7', '1.4', '3.1',\n",
       "       '97%', '3.5', '3.2', '2.8', '1.5', '2.1', '2.5', '9.2', '3.4',\n",
       "       '1.1', '3.6', '83%', '64%', '91%', '94%', '62%', '79%', '90%',\n",
       "       '19%', '88%', '1.0', '89%', '1.3', '1.9', '1.8', '1.2', '1.7',\n",
       "       '9.0', '98%', '8.9', '9.1'], dtype=object)"
      ]
     },
     "execution_count": 84,
     "metadata": {},
     "output_type": "execute_result"
    }
   ],
   "source": [
    "data['ratings'].unique()"
   ]
  },
  {
   "cell_type": "code",
   "execution_count": 85,
   "metadata": {},
   "outputs": [
    {
     "data": {
      "text/plain": [
       "array([ 7.2,  6.6,  6.8,  7.7,  8.3,  8. ,  7.8,  8.1,  7.1,  6. ,  7.4,\n",
       "        5.8,  8.7,  6.3,  6.9,  5. ,  4.3,  7.3,  7. ,  6.4,  nan,  8.2,\n",
       "        7.5,  6.7,  7.9,  5.9,  6.2,  5.6,  6.5,  2.4,  7.6,  6.1,  8.6,\n",
       "        8.5,  8.8,  5.5,  5.1,  5.7,  5.4, 99. ,  4.4,  4.5,  5.3,  4.1,\n",
       "        8.4,  2.6,  3.8,  4.6,  4.8,  4. ,  3. ,  1.6,  4.2,  5.2,  4.7,\n",
       "        4.9,  3.9,  2.7,  3.3,  2.9, 28. ,  3.7,  1.4,  3.1, 97. ,  3.5,\n",
       "        3.2,  2.8,  1.5,  2.1,  2.5,  9.2,  3.4,  1.1,  3.6, 83. , 64. ,\n",
       "       91. , 94. , 62. , 79. , 90. , 19. , 88. ,  1. , 89. ,  1.3,  1.9,\n",
       "        1.8,  1.2,  1.7,  9. , 98. ,  8.9,  9.1])"
      ]
     },
     "execution_count": 85,
     "metadata": {},
     "output_type": "execute_result"
    }
   ],
   "source": [
    "data['ratings'].str.strip().str.replace('%', '').astype('float').unique()"
   ]
  },
  {
   "cell_type": "code",
   "execution_count": 86,
   "metadata": {},
   "outputs": [],
   "source": [
    "data['ratings'] = data['ratings'].str.strip().str.replace('%', '').astype('float')"
   ]
  },
  {
   "cell_type": "code",
   "execution_count": 87,
   "metadata": {},
   "outputs": [],
   "source": [
    "data['ratings'] = data['ratings'].fillna(value=0)"
   ]
  },
  {
   "cell_type": "code",
   "execution_count": 88,
   "metadata": {},
   "outputs": [
    {
     "data": {
      "text/plain": [
       "array([ 7.2,  6.6,  6.8,  7.7,  8.3,  8. ,  7.8,  8.1,  7.1,  6. ,  7.4,\n",
       "        5.8,  8.7,  6.3,  6.9,  5. ,  4.3,  7.3,  7. ,  6.4,  0. ,  8.2,\n",
       "        7.5,  6.7,  7.9,  5.9,  6.2,  5.6,  6.5,  2.4,  7.6,  6.1,  8.6,\n",
       "        8.5,  8.8,  5.5,  5.1,  5.7,  5.4, 99. ,  4.4,  4.5,  5.3,  4.1,\n",
       "        8.4,  2.6,  3.8,  4.6,  4.8,  4. ,  3. ,  1.6,  4.2,  5.2,  4.7,\n",
       "        4.9,  3.9,  2.7,  3.3,  2.9, 28. ,  3.7,  1.4,  3.1, 97. ,  3.5,\n",
       "        3.2,  2.8,  1.5,  2.1,  2.5,  9.2,  3.4,  1.1,  3.6, 83. , 64. ,\n",
       "       91. , 94. , 62. , 79. , 90. , 19. , 88. ,  1. , 89. ,  1.3,  1.9,\n",
       "        1.8,  1.2,  1.7,  9. , 98. ,  8.9,  9.1])"
      ]
     },
     "execution_count": 88,
     "metadata": {},
     "output_type": "execute_result"
    }
   ],
   "source": [
    "data['ratings'].unique()"
   ]
  },
  {
   "cell_type": "code",
   "execution_count": 89,
   "metadata": {},
   "outputs": [
    {
     "data": {
      "text/plain": [
       "array([ 7.2,  6.6,  6.8,  7.7,  8.3,  8. ,  7.8,  8.1,  7.1,  6. ,  7.4,\n",
       "        5.8,  8.7,  6.3,  6.9,  5. ,  4.3,  7.3,  7. ,  6.4,  0. ,  8.2,\n",
       "        7.5,  6.7,  7.9,  5.9,  6.2,  5.6,  6.5,  2.4,  7.6,  6.1,  8.6,\n",
       "        8.5,  8.8,  5.5,  5.1,  5.7,  5.4, 99. ,  4.4,  4.5,  5.3,  4.1,\n",
       "        8.4,  2.6,  3.8,  4.6,  4.8,  4. ,  3. ,  1.6,  4.2,  5.2,  4.7,\n",
       "        4.9,  3.9,  2.7,  3.3,  2.9, 28. ,  3.7,  1.4,  3.1, 97. ,  3.5,\n",
       "        3.2,  2.8,  1.5,  2.1,  2.5,  9.2,  3.4,  1.1,  3.6, 83. , 64. ,\n",
       "       91. , 94. , 62. , 79. , 90. , 19. , 88. ,  1. , 89. ,  1.3,  1.9,\n",
       "        1.8,  1.2,  1.7,  9. , 98. ,  8.9,  9.1])"
      ]
     },
     "execution_count": 89,
     "metadata": {},
     "output_type": "execute_result"
    }
   ],
   "source": [
    "data['ratings'].unique()"
   ]
  },
  {
   "cell_type": "code",
   "execution_count": 90,
   "metadata": {},
   "outputs": [],
   "source": [
    "high_ratings = data.query('ratings > 10')['ratings'] / 10\n",
    "data.loc[data['ratings'] > 10, 'ratings'] = high_ratings"
   ]
  },
  {
   "cell_type": "code",
   "execution_count": 91,
   "metadata": {},
   "outputs": [
    {
     "data": {
      "text/plain": [
       "array([7.2, 6.6, 6.8, 7.7, 8.3, 8. , 7.8, 8.1, 7.1, 6. , 7.4, 5.8, 8.7,\n",
       "       6.3, 6.9, 5. , 4.3, 7.3, 7. , 6.4, 0. , 8.2, 7.5, 6.7, 7.9, 5.9,\n",
       "       6.2, 5.6, 6.5, 2.4, 7.6, 6.1, 8.6, 8.5, 8.8, 5.5, 5.1, 5.7, 5.4,\n",
       "       9.9, 4.4, 4.5, 5.3, 4.1, 8.4, 2.6, 3.8, 4.6, 4.8, 4. , 3. , 1.6,\n",
       "       4.2, 5.2, 4.7, 4.9, 3.9, 2.7, 3.3, 2.9, 2.8, 3.7, 1.4, 3.1, 9.7,\n",
       "       3.5, 3.2, 1.5, 2.1, 2.5, 9.2, 3.4, 1.1, 3.6, 9.1, 9.4, 9. , 1.9,\n",
       "       1. , 8.9, 1.3, 1.8, 1.2, 1.7, 9.8])"
      ]
     },
     "execution_count": 91,
     "metadata": {},
     "output_type": "execute_result"
    }
   ],
   "source": [
    "data['ratings'].unique()"
   ]
  },
  {
   "cell_type": "code",
   "execution_count": 92,
   "metadata": {},
   "outputs": [
    {
     "data": {
      "text/plain": [
       "array(['«18+» - запрещено для детей', '«6+» - для детей старше 6 лет',\n",
       "       '«12+» - для детей старше 12 лет',\n",
       "       '«16+» - для детей старше 16 лет',\n",
       "       '«0+» - для любой зрительской аудитории'], dtype=object)"
      ]
     },
     "execution_count": 92,
     "metadata": {},
     "output_type": "execute_result"
    }
   ],
   "source": [
    "data['age_restriction'].unique()"
   ]
  },
  {
   "cell_type": "markdown",
   "metadata": {},
   "source": [
    "Были найдены поля для приведения к типу даты - show_start_date. Для приведения к типу float - ratings. Также, так как рейтинг фильмов принято рассчитывать от 0 до 10, то поля с показателями выше были преобразованы."
   ]
  },
  {
   "cell_type": "markdown",
   "metadata": {
    "id": "i0MOLbF-gFyP"
   },
   "source": [
    "#### Шаг 2.2. Изучите пропуски в датафрейме\n",
    "\n",
    "- Объясните, почему заполнили пропуски определённым образом или почему не стали этого делать."
   ]
  },
  {
   "cell_type": "code",
   "execution_count": 93,
   "metadata": {},
   "outputs": [
    {
     "data": {
      "text/plain": [
       "<AxesSubplot:>"
      ]
     },
     "execution_count": 93,
     "metadata": {},
     "output_type": "execute_result"
    },
    {
     "data": {
      "image/png": "[encoded data removed]",
      "text/plain": [
       "<Figure size 1800x720 with 3 Axes>"
      ]
     },
     "metadata": {
      "needs_background": "light"
     },
     "output_type": "display_data"
    }
   ],
   "source": [
    "msno.bar(data)"
   ]
  },
  {
   "cell_type": "code",
   "execution_count": 94,
   "metadata": {},
   "outputs": [
    {
     "data": {
      "text/plain": [
       "0"
      ]
     },
     "execution_count": 94,
     "metadata": {},
     "output_type": "execute_result"
    }
   ],
   "source": [
    "data.loc[data['title'].isna()].count()['title']"
   ]
  },
  {
   "cell_type": "code",
   "execution_count": 95,
   "metadata": {},
   "outputs": [
    {
     "data": {
      "text/plain": [
       "0"
      ]
     },
     "execution_count": 95,
     "metadata": {},
     "output_type": "execute_result"
    }
   ],
   "source": [
    "data.loc[data['puNumber'].isna()].count()['title']"
   ]
  },
  {
   "cell_type": "code",
   "execution_count": 96,
   "metadata": {},
   "outputs": [
    {
     "data": {
      "text/plain": [
       "0"
      ]
     },
     "execution_count": 96,
     "metadata": {},
     "output_type": "execute_result"
    }
   ],
   "source": [
    "data.loc[data['show_start_date'].isna()].count()['title']"
   ]
  },
  {
   "cell_type": "code",
   "execution_count": 97,
   "metadata": {},
   "outputs": [
    {
     "data": {
      "text/plain": [
       "0"
      ]
     },
     "execution_count": 97,
     "metadata": {},
     "output_type": "execute_result"
    }
   ],
   "source": [
    "data.loc[data['type'].isna()].count()['title']"
   ]
  },
  {
   "cell_type": "code",
   "execution_count": 98,
   "metadata": {},
   "outputs": [
    {
     "data": {
      "text/plain": [
       "7153"
      ]
     },
     "execution_count": 98,
     "metadata": {},
     "output_type": "execute_result"
    }
   ],
   "source": [
    "data.loc[data['financing_source'].isna()].count()['title']"
   ]
  },
  {
   "cell_type": "code",
   "execution_count": 99,
   "metadata": {},
   "outputs": [
    {
     "data": {
      "text/plain": [
       "18"
      ]
     },
     "execution_count": 99,
     "metadata": {},
     "output_type": "execute_result"
    }
   ],
   "source": [
    "data.loc[data['film_studio'].isna()].count()['title']"
   ]
  },
  {
   "cell_type": "code",
   "execution_count": 100,
   "metadata": {},
   "outputs": [],
   "source": [
    "data['film_studio'] = data['film_studio'].fillna(value='unknown')"
   ]
  },
  {
   "cell_type": "code",
   "execution_count": 101,
   "metadata": {},
   "outputs": [
    {
     "data": {
      "text/plain": [
       "0"
      ]
     },
     "execution_count": 101,
     "metadata": {},
     "output_type": "execute_result"
    }
   ],
   "source": [
    "data.loc[data['film_studio'].isna()].count()['title']"
   ]
  },
  {
   "cell_type": "code",
   "execution_count": 102,
   "metadata": {},
   "outputs": [
    {
     "data": {
      "text/plain": [
       "2"
      ]
     },
     "execution_count": 102,
     "metadata": {},
     "output_type": "execute_result"
    }
   ],
   "source": [
    "data.loc[data['production_country'].isna()].count()['title']"
   ]
  },
  {
   "cell_type": "code",
   "execution_count": 103,
   "metadata": {},
   "outputs": [],
   "source": [
    "data['production_country'] = data['production_country'].fillna(value='unknown')"
   ]
  },
  {
   "cell_type": "code",
   "execution_count": 104,
   "metadata": {},
   "outputs": [
    {
     "data": {
      "text/plain": [
       "0"
      ]
     },
     "execution_count": 104,
     "metadata": {},
     "output_type": "execute_result"
    }
   ],
   "source": [
    "data.loc[data['production_country'].isna()].count()['title']"
   ]
  },
  {
   "cell_type": "code",
   "execution_count": 105,
   "metadata": {},
   "outputs": [
    {
     "data": {
      "text/plain": [
       "7153"
      ]
     },
     "execution_count": 105,
     "metadata": {},
     "output_type": "execute_result"
    }
   ],
   "source": [
    "data.loc[data['financing_source'].isna()].count()['title']"
   ]
  },
  {
   "cell_type": "code",
   "execution_count": 106,
   "metadata": {},
   "outputs": [
    {
     "data": {
      "text/plain": [
       "array([nan, 'Министерство культуры', 'Фонд кино',\n",
       "       'Министерство культуры, Фонд кино'], dtype=object)"
      ]
     },
     "execution_count": 106,
     "metadata": {},
     "output_type": "execute_result"
    }
   ],
   "source": [
    "data['financing_source'].unique()"
   ]
  },
  {
   "cell_type": "code",
   "execution_count": 107,
   "metadata": {},
   "outputs": [],
   "source": [
    "data['financing_source'] = data['financing_source'].fillna(value='Частное')"
   ]
  },
  {
   "cell_type": "code",
   "execution_count": 108,
   "metadata": {},
   "outputs": [
    {
     "data": {
      "text/plain": [
       "0"
      ]
     },
     "execution_count": 108,
     "metadata": {},
     "output_type": "execute_result"
    }
   ],
   "source": [
    "data.loc[data['financing_source'].isna()].count()['title']"
   ]
  },
  {
   "cell_type": "code",
   "execution_count": 109,
   "metadata": {},
   "outputs": [
    {
     "data": {
      "text/plain": [
       "975"
      ]
     },
     "execution_count": 109,
     "metadata": {},
     "output_type": "execute_result"
    }
   ],
   "source": [
    "data.loc[data['genres'].isna()].count()['title']"
   ]
  },
  {
   "cell_type": "code",
   "execution_count": 110,
   "metadata": {},
   "outputs": [
    {
     "data": {
      "text/plain": [
       "array(['боевик,драма,мелодрама', 'драма,военный',\n",
       "       'фантастика,боевик,триллер', 'драма', 'мелодрама,комедия',\n",
       "       'мюзикл,мелодрама,комедия', 'комедия,криминал',\n",
       "       'боевик,триллер,детектив', 'боевик,драма,приключения',\n",
       "       'драма,спорт', 'триллер,драма,мелодрама', 'комедия,мелодрама',\n",
       "       'драма,мелодрама,комедия', 'драма,мелодрама', 'драма,история',\n",
       "       'драма,мелодрама,семейный', 'комедия,мелодрама,криминал',\n",
       "       'комедия', 'боевик,драма,криминал', 'драма,комедия',\n",
       "       'ужасы,фантастика,комедия', 'мультфильм,короткометражка,мелодрама',\n",
       "       'драма,криминал', 'мультфильм,фантастика,фэнтези',\n",
       "       'триллер,драма,криминал', 'драма,мелодрама,биография',\n",
       "       'драма,комедия,военный', 'фантастика,драма,детектив',\n",
       "       'мюзикл,семейный', nan, 'военный,приключения,драма',\n",
       "       'документальный,драма', 'драма,биография,история',\n",
       "       'боевик,триллер,драма', 'фэнтези,боевик',\n",
       "       'боевик,комедия,криминал', 'мюзикл,комедия,детский',\n",
       "       'комедия,мелодрама,драма', 'мультфильм,фэнтези,комедия',\n",
       "       'комедия,история', 'мелодрама', 'драма,биография,музыка',\n",
       "       'фэнтези,драма,мелодрама', 'триллер,военный',\n",
       "       'драма,мелодрама,военный', 'мюзикл,драма,мелодрама',\n",
       "       'мюзикл,комедия', 'мультфильм,приключения,семейный',\n",
       "       'ужасы,триллер', 'боевик,драма,военный', 'драма,боевик',\n",
       "       'мультфильм,драма,комедия', 'триллер,криминал',\n",
       "       'военный,биография,драма', 'комедия,семейный', 'военный',\n",
       "       'драма,семейный,биография', 'фэнтези,приключения,семейный',\n",
       "       'драма,криминал,биография', 'ужасы,триллер,детектив',\n",
       "       'боевик,история,драма', 'ужасы,триллер,драма',\n",
       "       'драма,криминал,спорт', 'документальный,короткометражка',\n",
       "       'триллер,драма', 'криминал,детектив,приключения',\n",
       "       'драма,комедия,криминал', 'драма,комедия,вестерн',\n",
       "       'драма,мелодрама,детектив', 'мелодрама,биография',\n",
       "       'фэнтези,мелодрама,драма', 'драма,мелодрама,история',\n",
       "       'комедия,приключения,история', 'приключения', 'драма,семейный',\n",
       "       'криминал,детектив', 'мультфильм,короткометражка,ужасы',\n",
       "       'фантастика,триллер,драма', 'фэнтези,мелодрама,комедия',\n",
       "       'драма,биография', 'комедия,криминал,история',\n",
       "       'триллер,драма,детектив', 'фантастика,комедия,приключения',\n",
       "       'фэнтези,семейный', 'ужасы,фантастика,боевик',\n",
       "       'мелодрама,криминал', 'комедия,приключения,мелодрама',\n",
       "       'боевик,триллер,приключения', 'боевик,приключения',\n",
       "       'боевик,триллер,криминал', 'документальный,военный,история',\n",
       "       'драма,музыка', 'боевик,драма', 'приключения,боевик',\n",
       "       'драма,военный,биография', 'триллер,драма,приключения',\n",
       "       'аниме,мультфильм,фэнтези', 'триллер,детектив,драма',\n",
       "       'боевик,триллер,мелодрама', 'боевик,история',\n",
       "       'приключения,история', 'драма,комедия,приключения',\n",
       "       'фэнтези,комедия,приключения', 'драма,вестерн',\n",
       "       'документальный,музыка', 'мелодрама,драма',\n",
       "       'триллер,криминал,детектив', 'ужасы', 'боевик,комедия,приключения',\n",
       "       'мультфильм,фэнтези,боевик', 'боевик,фэнтези,драма',\n",
       "       'фэнтези,драма', 'фэнтези,боевик,комедия',\n",
       "       'приключения,детский,комедия', 'документальный',\n",
       "       'боевик,триллер,комедия', 'мелодрама,комедия,криминал',\n",
       "       'драма,детектив', 'мюзикл,ужасы,триллер', 'детектив,триллер,ужасы',\n",
       "       'ужасы,фэнтези', 'ужасы,фэнтези,триллер', 'мультфильм,драма',\n",
       "       'ужасы,боевик,фантастика', 'боевик', 'фантастика,боевик',\n",
       "       'мелодрама,комедия,приключения', 'триллер,детектив',\n",
       "       'мюзикл,мелодрама,фэнтези', 'криминал', 'триллер,комедия,криминал',\n",
       "       'боевик,приключения,триллер', 'триллер,драма,военный',\n",
       "       'комедия,семейный,музыка', 'комедия,фантастика,мелодрама',\n",
       "       'фантастика,триллер,криминал', 'комедия,драма', 'боевик,военный',\n",
       "       'ужасы,фантастика,триллер', 'фантастика,драма,мелодрама',\n",
       "       'фэнтези,драма,детектив', 'боевик,триллер', 'боевик,драма,история',\n",
       "       'мультфильм,мюзикл,фэнтези', 'для взрослых,драма,мелодрама',\n",
       "       'мультфильм,боевик,детектив', 'фантастика,мелодрама,боевик',\n",
       "       'ужасы,фантастика,детектив', 'фантастика,боевик,приключения',\n",
       "       'мелодрама,комедия,спорт', 'комедия,боевик,приключения',\n",
       "       'документальный,приключения', 'мультфильм,короткометражка,детский',\n",
       "       'комедия,приключения', 'ужасы,драма', 'ужасы,фэнтези,боевик',\n",
       "       'мультфильм,фэнтези,детский', 'мюзикл,боевик,драма',\n",
       "       'семейный,комедия,драма', 'концерт,музыка', 'фэнтези,боевик,драма',\n",
       "       'драма,комедия,музыка', 'фантастика,фэнтези,боевик',\n",
       "       'фэнтези,комедия,семейный', 'фэнтези,драма,комедия',\n",
       "       'мультфильм,мюзикл,драма', 'триллер', 'боевик,криминал,триллер',\n",
       "       'мультфильм,приключения,драма', 'мелодрама,музыка',\n",
       "       'документальный,музыка,концерт', 'мультфильм,семейный',\n",
       "       'мультфильм,комедия,приключения', 'мультфильм,комедия,семейный',\n",
       "       'фантастика,драма', 'фэнтези,боевик,приключения',\n",
       "       'мультфильм,приключения', 'драма,военный,история', 'история',\n",
       "       'драма,приключения,военный',\n",
       "       'документальный,короткометражка,семейный',\n",
       "       'мелодрама,история,триллер', 'ужасы,детектив',\n",
       "       'мюзикл,комедия,приключения', 'драма,спорт,биография',\n",
       "       'фантастика,боевик,комедия', 'фантастика,приключения,детектив',\n",
       "       'короткометражка,драма,военный', 'драма,мультфильм',\n",
       "       'приключения,семейный', 'детектив', 'триллер,приключения',\n",
       "       'аниме,мультфильм,боевик', 'драма,комедия,биография',\n",
       "       'драма,комедия,спорт', 'боевик,мелодрама,комедия',\n",
       "       'семейный,комедия', 'фэнтези,боевик,триллер',\n",
       "       'документальный,фэнтези,семейный', 'фантастика,фэнтези,драма',\n",
       "       'ужасы,комедия,фэнтези', 'документальный,биография,музыка',\n",
       "       'фантастика,боевик,фэнтези', 'ужасы,боевик,триллер',\n",
       "       'комедия,криминал,семейный', 'приключения,драма',\n",
       "       'криминал,драма,триллер', 'драма,детектив,криминал',\n",
       "       'фэнтези,приключения,комедия', 'комедия,спорт',\n",
       "       'мюзикл,фэнтези,мелодрама', 'мультфильм,фэнтези,приключения',\n",
       "       'фантастика,фэнтези,приключения', 'фэнтези',\n",
       "       'фэнтези,приключения,боевик', 'фантастика,боевик,драма',\n",
       "       'криминал,драма', 'криминал,триллер,драма',\n",
       "       'драма,мелодрама,приключения', 'детский,комедия',\n",
       "       'фантастика,драма,боевик', 'мультфильм,семейный,фэнтези',\n",
       "       'концерт,музыка,документальный', 'ужасы,комедия,приключения',\n",
       "       'драма,мелодрама,криминал', 'ужасы,фантастика,фэнтези',\n",
       "       'боевик,комедия', 'мультфильм,фантастика,комедия', 'триллер,ужасы',\n",
       "       'мультфильм,мюзикл,комедия', 'мелодрама,фэнтези,триллер',\n",
       "       'детский,приключения,комедия', 'комедия,детектив',\n",
       "       'аниме,мультфильм,мелодрама', 'документальный,драма,семейный',\n",
       "       'документальный,биография,история', 'военный,боевик,драма',\n",
       "       'ужасы,комедия', 'комедия,приключения,семейный',\n",
       "       'приключения,биография,история', 'детский,приключения,семейный',\n",
       "       'спорт,драма,биография', 'аниме,мультфильм,ужасы',\n",
       "       'фантастика,боевик,криминал', 'мюзикл,драма',\n",
       "       'драма,криминал,детектив', 'аниме,мультфильм,драма',\n",
       "       'драма,триллер,приключения', 'триллер,криминал,драма',\n",
       "       'фэнтези,комедия,драма', 'мультфильм,комедия',\n",
       "       'драма,комедия,история', 'комедия,биография,история',\n",
       "       'мультфильм,фантастика,приключения', 'аниме,мультфильм,фантастика',\n",
       "       'мультфильм,фэнтези,семейный', 'мультфильм,боевик,комедия',\n",
       "       'комедия,криминал,спорт', 'документальный,мюзикл',\n",
       "       'мелодрама,комедия,музыка', 'биография',\n",
       "       'триллер,криминал,комедия', 'фантастика,драма,комедия',\n",
       "       'комедия,драма,мелодрама', 'фантастика,приключения,боевик',\n",
       "       'мультфильм,фэнтези,драма', 'триллер,комедия',\n",
       "       'драма,приключения,биография', 'фантастика,комедия',\n",
       "       'мелодрама,драма,комедия', 'боевик,криминал',\n",
       "       'драма,криминал,боевик', 'мультфильм,мюзикл,детский',\n",
       "       'драма,фэнтези', 'документальный,семейный',\n",
       "       'фэнтези,драма,приключения', 'ужасы,комедия,фантастика',\n",
       "       'драма,мелодрама,музыка', 'фэнтези,драма,семейный',\n",
       "       'триллер,мелодрама,драма', 'вестерн,боевик,драма',\n",
       "       'мультфильм,короткометражка,комедия', 'триллер,драма,история',\n",
       "       'ужасы,фантастика', 'ужасы,мелодрама,комедия',\n",
       "       'фэнтези,приключения', 'фантастика,триллер',\n",
       "       'ужасы,боевик,фэнтези', 'мультфильм,комедия,детский',\n",
       "       'триллер,драма,биография', 'мультфильм,ужасы,фэнтези',\n",
       "       'мультфильм,ужасы,фантастика', 'ужасы,боевик,комедия',\n",
       "       'драма,биография,спорт', 'мультфильм', 'мелодрама,комедия,драма',\n",
       "       'приключения,фантастика,семейный', 'комедия,криминал,детектив',\n",
       "       'ужасы,триллер,комедия', 'криминал,комедия,триллер',\n",
       "       'семейный,приключения,комедия', 'мультфильм,драма,приключения',\n",
       "       'ужасы,драма,детектив', 'драма,приключения,фэнтези',\n",
       "       'фантастика,мультфильм,драма', 'драма,триллер,детектив',\n",
       "       'драма,история,музыка', 'детский', 'триллер,боевик,криминал',\n",
       "       'драма,фантастика', 'комедия,драма,семейный',\n",
       "       'боевик,драма,комедия', 'комедия,ужасы',\n",
       "       'драма,фантастика,триллер', 'фантастика,драма,триллер',\n",
       "       'история,спорт,драма', 'документальный,биография',\n",
       "       'биография,история', 'спорт,драма', 'боевик,фэнтези',\n",
       "       'мультфильм,фэнтези', 'документальный,комедия,история',\n",
       "       'криминал,комедия,боевик', 'фэнтези,приключения,драма',\n",
       "       'музыка,концерт', 'триллер,драма,боевик',\n",
       "       'комедия,криминал,боевик', 'комедия,фантастика,боевик',\n",
       "       'вестерн,приключения,боевик', 'аниме,мультфильм,комедия',\n",
       "       'детектив,криминал,триллер', 'мультфильм,комедия,криминал',\n",
       "       'комедия,приключения,детектив', 'мелодрама,фантастика,драма',\n",
       "       'драма,комедия,семейный', 'приключения,фантастика',\n",
       "       'триллер,детектив,ужасы', 'комедия,приключения,фэнтези',\n",
       "       'фэнтези,триллер,драма', 'мелодрама,приключения,боевик',\n",
       "       'детектив,триллер,криминал', 'фэнтези,семейный,мелодрама',\n",
       "       'военный,драма', 'документальный,приключения,семейный',\n",
       "       'криминал,комедия,драма', 'комедия,фантастика',\n",
       "       'история,биография,драма', 'мелодрама,драма,музыка',\n",
       "       'боевик,мелодрама', 'комедия,криминал,триллер',\n",
       "       'детектив,триллер,боевик', 'комедия,боевик,криминал',\n",
       "       'комедия,вестерн', 'детский,мелодрама,семейный',\n",
       "       'короткометражка,мультфильм', 'комедия,фэнтези',\n",
       "       'фантастика,драма,ужасы', 'триллер,драма,ужасы',\n",
       "       'драма,фэнтези,история', 'комедия,драма,короткометражка',\n",
       "       'фэнтези,триллер,приключения', 'семейный',\n",
       "       'комедия,криминал,драма', 'комедия,фэнтези,ужасы',\n",
       "       'короткометражка,комедия,криминал', 'фантастика',\n",
       "       'триллер,ужасы,драма', 'мелодрама,драма,фэнтези',\n",
       "       'фантастика,приключения,драма', 'боевик,детектив',\n",
       "       'военный,драма,боевик', 'комедия,мелодрама,фэнтези',\n",
       "       'вестерн,криминал,триллер', 'драма,история,триллер',\n",
       "       'мультфильм,фантастика,боевик', 'детектив,драма,криминал',\n",
       "       'приключения,история,драма', 'мультфильм,семейный,детский',\n",
       "       'биография,драма,история', 'триллер,криминал,боевик',\n",
       "       'история,мелодрама', 'приключения,детский',\n",
       "       'музыка,приключения,концерт', 'военный,драма,комедия',\n",
       "       'фэнтези,боевик,военный', 'фантастика,детектив,боевик',\n",
       "       'мультфильм,фэнтези,история', 'биография,мелодрама,драма',\n",
       "       'документальный,биография,спорт', 'фантастика,комедия,детектив',\n",
       "       'музыка,концерт,документальный', 'триллер,боевик,приключения',\n",
       "       'триллер,драма,комедия', 'детектив,криминал',\n",
       "       'мультфильм,приключения,фэнтези', 'мелодрама,приключения',\n",
       "       'комедия,музыка', 'мелодрама,комедия,ужасы',\n",
       "       'драма,криминал,приключения', 'приключения,детектив,мелодрама',\n",
       "       'драма,криминал,фантастика', 'фэнтези,драма,биография',\n",
       "       'детектив,фантастика,криминал', 'триллер,драма,фантастика',\n",
       "       'ужасы,комедия,боевик', 'мелодрама,история', 'триллер,боевик',\n",
       "       'фильм-нуар,триллер,детектив', 'комедия,криминал,приключения',\n",
       "       'ужасы,триллер,мелодрама', 'военный,драма,история',\n",
       "       'драма,спорт,история', 'документальный,драма,история',\n",
       "       'триллер,мелодрама,детектив', 'детский,семейный',\n",
       "       'мюзикл,семейный,драма', 'биография,военный,драма',\n",
       "       'мультфильм,детский', 'боевик,криминал,драма',\n",
       "       'детектив,фэнтези,триллер', 'драма,боевик,приключения',\n",
       "       'драма,мелодрама,фэнтези', 'детектив,история,драма',\n",
       "       'фэнтези,боевик,ужасы', 'ужасы,фэнтези,мелодрама',\n",
       "       'ужасы,приключения', 'боевик,фантастика',\n",
       "       'ужасы,мелодрама,детектив', 'фантастика,триллер,приключения',\n",
       "       'боевик,приключения,история', 'приключения,боевик,триллер',\n",
       "       'детектив,ужасы,криминал', 'семейный,фэнтези', 'мюзикл,мелодрама',\n",
       "       'драма,военный,приключения', 'фантастика,драма,приключения',\n",
       "       'приключения,семейный,драма', 'история,драма,боевик',\n",
       "       'мультфильм,приключения,комедия', 'криминал,драма,комедия',\n",
       "       'ужасы,комедия,драма', 'комедия,семейный,приключения',\n",
       "       'мюзикл,фэнтези,драма', 'драма,вестерн,боевик',\n",
       "       'фантастика,триллер,детектив', 'драма,история,детектив',\n",
       "       'короткометражка,биография', 'мультфильм,приключения,фантастика',\n",
       "       'комедия,триллер', 'мультфильм,приключения,детектив',\n",
       "       'драма,триллер', 'ужасы,триллер,криминал',\n",
       "       'документальный,криминал,военный', 'ужасы,фэнтези,драма',\n",
       "       'фэнтези,комедия', 'ужасы,фэнтези,комедия', 'комедия,музыка,драма',\n",
       "       'мультфильм,приключения,военный', 'мюзикл,фэнтези,комедия',\n",
       "       'боевик,фантастика,приключения', 'триллер,ужасы,криминал',\n",
       "       'ужасы,фантастика,драма', 'фантастика,приключения,семейный',\n",
       "       'короткометражка,музыка', 'мелодрама,детектив,комедия',\n",
       "       'документальный,триллер,биография', 'боевик,фантастика,триллер',\n",
       "       'спорт,драма,комедия', 'фэнтези,мелодрама,приключения',\n",
       "       'триллер,детектив,криминал', 'короткометражка,мелодрама',\n",
       "       'мультфильм,семейный,спорт', 'комедия,фэнтези,мелодрама',\n",
       "       'драма,спорт,комедия', 'история,драма,мелодрама',\n",
       "       'драма,боевик,криминал', 'драма,комедия,триллер',\n",
       "       'аниме,мультфильм', 'документальный,ужасы',\n",
       "       'мультфильм,короткометражка', 'драма,история,военный',\n",
       "       'мультфильм,короткометражка,фэнтези', 'комедия,военный,музыка',\n",
       "       'биография,история,драма', 'ужасы,драма,мелодрама',\n",
       "       'драма,комедия,детектив', 'комедия,семейный,фантастика',\n",
       "       'мультфильм,семейный,комедия', 'история,детектив',\n",
       "       'приключения,мелодрама,детектив', 'мюзикл,комедия,мелодрама',\n",
       "       'драма,фантастика,ужасы', 'мультфильм,ужасы,комедия',\n",
       "       'для взрослых,драма,комедия', 'ужасы,комедия,музыка',\n",
       "       'комедия,история,драма', 'семейный,детектив,детский',\n",
       "       'короткометражка,драма', 'документальный,новости,драма',\n",
       "       'триллер,мелодрама', 'ужасы,драма,вестерн',\n",
       "       'мюзикл,фэнтези,семейный', 'вестерн,драма,триллер',\n",
       "       'приключения,вестерн,боевик', 'семейный,комедия,музыка',\n",
       "       'боевик,драма,вестерн', 'ужасы,драма,триллер',\n",
       "       'фантастика,мелодрама', 'комедия,криминал,биография',\n",
       "       'семейный,мультфильм,комедия', 'комедия,драма,криминал',\n",
       "       'фантастика,боевик,военный', 'приключения,биография,драма',\n",
       "       'приключения,триллер,биография', 'криминал,боевик,триллер',\n",
       "       'боевик,вестерн,приключения', 'история,драма',\n",
       "       'фантастика,фэнтези,комедия', 'мультфильм,детский,комедия',\n",
       "       'мелодрама,комедия,триллер', 'документальный,боевик,приключения',\n",
       "       'драма,приключения', 'мелодрама,военный,драма', 'триллер,фэнтези',\n",
       "       'драма,триллер,биография', 'фэнтези,боевик,семейный',\n",
       "       'фантастика,триллер,комедия', 'документальный,фэнтези',\n",
       "       'комедия,мультфильм,фантастика', 'криминал,биография,комедия',\n",
       "       'биография,спорт,драма', 'приключения,военный',\n",
       "       'мультфильм,семейный,драма', 'документальный,фэнтези,драма',\n",
       "       'комедия,боевик,фантастика', 'семейный,приключения,военный',\n",
       "       'триллер,ужасы,детектив', 'короткометражка',\n",
       "       'мелодрама,триллер,история', 'документальный,история',\n",
       "       'мультфильм,приключения,детский', 'драма,комедия,мультфильм',\n",
       "       'военный,детектив', 'семейный,приключения,документальный',\n",
       "       'детский,фэнтези', 'документальный,комедия', 'комедия,биография',\n",
       "       'криминал,комедия', 'спорт,мелодрама,криминал',\n",
       "       'фантастика,комедия,боевик', 'боевик,приключения,детектив',\n",
       "       'детектив,триллер,драма', 'документальный,фантастика',\n",
       "       'мелодрама,комедия,семейный', 'мультфильм,мелодрама,комедия',\n",
       "       'драма,спорт,семейный', 'фантастика,мелодрама,фэнтези',\n",
       "       'мюзикл,комедия,музыка', 'фантастика,триллер,мелодрама',\n",
       "       'приключения,комедия,фэнтези', 'фэнтези,боевик,детектив',\n",
       "       'фэнтези,боевик,мелодрама', 'комедия,военный',\n",
       "       'драма,спорт,боевик', 'мультфильм,боевик,триллер',\n",
       "       'мелодрама,семейный', 'фантастика,боевик,детектив',\n",
       "       'драма,приключения,история', 'документальный,драма,музыка',\n",
       "       'фантастика,триллер,боевик', 'фэнтези,боевик,вестерн',\n",
       "       'драма,комедия,мелодрама', 'ужасы,фэнтези,приключения',\n",
       "       'триллер,фэнтези,драма', 'мультфильм,мюзикл,мелодрама',\n",
       "       'ужасы,триллер,фантастика', 'триллер,мелодрама,комедия',\n",
       "       'ужасы,комедия,семейный', 'комедия,приключения,музыка',\n",
       "       'документальный,комедия,криминал', 'мелодрама,детектив',\n",
       "       'детский,приключения,фантастика', 'короткометражка,боевик,драма',\n",
       "       'боевик,комедия,семейный', 'фантастика,боевик,мелодрама',\n",
       "       'фэнтези,триллер,мелодрама', 'драма,детектив,история',\n",
       "       'боевик,криминал,детектив', 'мультфильм,фэнтези,мелодрама',\n",
       "       'мелодрама,драма,боевик', 'драма,вестерн,приключения',\n",
       "       'драма,приключения,мелодрама', 'фэнтези,боевик,криминал',\n",
       "       'фантастика,комедия,семейный', 'детский,фэнтези,приключения',\n",
       "       'ужасы,боевик', 'фантастика,мелодрама,комедия',\n",
       "       'семейный,спорт,боевик', 'триллер,биография,драма',\n",
       "       'ужасы,драма,комедия', 'мультфильм,фэнтези,триллер', 'мюзикл',\n",
       "       'боевик,спорт,драма', 'комедия,приключения,вестерн',\n",
       "       'документальный,ужасы,боевик', 'фантастика,боевик,семейный',\n",
       "       'военный,история', 'ужасы,боевик,криминал', 'детектив,триллер',\n",
       "       'драма,семейный,комедия', 'драма,детектив,приключения',\n",
       "       'драма,криминал,история', 'приключения,триллер',\n",
       "       'боевик,драма,биография', 'драма,приключения,триллер',\n",
       "       'комедия,фэнтези,приключения', 'фантастика,боевик,ужасы',\n",
       "       'драма,комедия,фантастика', 'детектив,криминал,драма',\n",
       "       'боевик,триллер,фэнтези', 'приключения,детектив,семейный',\n",
       "       'ужасы,комедия,криминал', 'мультфильм,биография,драма',\n",
       "       'история,боевик,фэнтези', 'детектив,криминал,боевик',\n",
       "       'приключения,фэнтези', 'комедия,приключения,спорт',\n",
       "       'драма,биография,мюзикл', 'комедия,семейный,фэнтези',\n",
       "       'детектив,драма,триллер', 'боевик,приключения,семейный',\n",
       "       'биография,спорт,комедия', 'фантастика,приключения,военный',\n",
       "       'документальный,драма,биография', 'детектив,приключения,драма',\n",
       "       'аниме,мультфильм,приключения', 'семейный,приключения',\n",
       "       'ужасы,фэнтези,детектив', 'семейный,документальный',\n",
       "       'драма,приключения,семейный', 'приключения,история,военный',\n",
       "       'фэнтези,мелодрама', 'фэнтези,триллер,детектив',\n",
       "       'документальный,спорт,биография', 'комедия,триллер,драма',\n",
       "       'драма,ужасы', 'биография,музыка,драма', 'фэнтези,ужасы',\n",
       "       'детектив,мелодрама,фэнтези', 'боевик,военный,история',\n",
       "       'биография,драма,криминал', 'триллер,мелодрама,криминал',\n",
       "       'семейный,мелодрама', 'биография,драма', 'военный,история,драма',\n",
       "       'фантастика,детектив,фэнтези', 'детектив,приключения,триллер',\n",
       "       'фантастика,приключения', 'мультфильм,короткометражка,мюзикл',\n",
       "       'мультфильм,детский,семейный', 'документальный,драма,комедия',\n",
       "       'комедия,приключения,криминал', 'документальный,семейный,музыка',\n",
       "       'мелодрама,музыка,драма', 'детектив,фантастика,триллер',\n",
       "       'драма,мелодрама,триллер', 'биография,драма,военный',\n",
       "       'приключения,фантастика,драма', 'детектив,фильм-нуар,комедия',\n",
       "       'документальный,спорт', 'триллер,фантастика,драма',\n",
       "       'биография,документальный', 'ужасы,фантастика,мелодрама',\n",
       "       'детектив,комедия', 'история,биография,военный',\n",
       "       'криминал,мелодрама', 'драма,криминал,вестерн',\n",
       "       'мелодрама,семейный,приключения', 'триллер,ужасы,мелодрама',\n",
       "       'фэнтези,драма,фильм-нуар', 'детектив,мелодрама',\n",
       "       'комедия,драма,биография', 'драма,военный,боевик',\n",
       "       'драма,комедия,ужасы', 'фантастика,драма,криминал',\n",
       "       'документальный,музыка,биография', 'мультфильм,боевик,приключения',\n",
       "       'короткометражка,фантастика', 'мультфильм,мелодрама,драма',\n",
       "       'боевик,военный,драма', 'фэнтези,семейный,приключения',\n",
       "       'детский,мультфильм,приключения', 'семейный,фэнтези,комедия',\n",
       "       'фэнтези,ужасы,триллер', 'ужасы,триллер,приключения',\n",
       "       'драма,боевик,история', 'фэнтези,комедия,детектив',\n",
       "       'история,приключения', 'аниме,мультфильм,короткометражка',\n",
       "       'драма,военный,триллер', 'биография,криминал,триллер',\n",
       "       'фантастика,фэнтези,детектив', 'вестерн,биография,драма',\n",
       "       'биография,музыка,мюзикл', 'драма,история,биография',\n",
       "       'приключения,драма,фантастика', 'комедия,фэнтези,криминал',\n",
       "       'биография,спорт,история', 'драма,криминал,семейный',\n",
       "       'детектив,боевик,история', 'ужасы,комедия,детектив',\n",
       "       'триллер,приключения,драма', 'фэнтези,комедия,криминал',\n",
       "       'триллер,криминал,приключения', 'комедия,детектив,приключения',\n",
       "       'фэнтези,драма,ужасы', 'ужасы,драма,военный', 'реальное ТВ',\n",
       "       'аниме,мультфильм,детектив', 'приключения,фэнтези,семейный',\n",
       "       'драма,биография,комедия', 'триллер,комедия,ужасы',\n",
       "       'музыка,мелодрама,фэнтези', 'мультфильм,история',\n",
       "       'мультфильм,комедия,фантастика', 'биография,криминал,драма',\n",
       "       'комедия,мелодрама,фантастика', 'криминал,боевик,комедия',\n",
       "       'история,криминал', 'детектив,комедия,драма',\n",
       "       'триллер,фантастика,боевик', 'криминал,боевик',\n",
       "       'комедия,драма,военный', 'драма,триллер,криминал',\n",
       "       'мультфильм,мелодрама,приключения', 'фантастика,фэнтези,триллер',\n",
       "       'короткометражка,драма,триллер', 'военный,боевик,история',\n",
       "       'боевик,драма,триллер', 'документальный,военный,драма',\n",
       "       'драма,криминал,фильм-нуар', 'мультфильм,детский,приключения',\n",
       "       'мелодрама,история,драма'], dtype=object)"
      ]
     },
     "execution_count": 110,
     "metadata": {},
     "output_type": "execute_result"
    }
   ],
   "source": [
    "data['genres'].unique()"
   ]
  },
  {
   "cell_type": "code",
   "execution_count": 111,
   "metadata": {},
   "outputs": [],
   "source": [
    "data['genres'] = data['genres'].fillna(value='unknown')"
   ]
  },
  {
   "cell_type": "code",
   "execution_count": 112,
   "metadata": {},
   "outputs": [
    {
     "data": {
      "text/plain": [
       "array(['боевик,драма,мелодрама', 'драма,военный',\n",
       "       'фантастика,боевик,триллер', 'драма', 'мелодрама,комедия',\n",
       "       'мюзикл,мелодрама,комедия', 'комедия,криминал',\n",
       "       'боевик,триллер,детектив', 'боевик,драма,приключения',\n",
       "       'драма,спорт', 'триллер,драма,мелодрама', 'комедия,мелодрама',\n",
       "       'драма,мелодрама,комедия', 'драма,мелодрама', 'драма,история',\n",
       "       'драма,мелодрама,семейный', 'комедия,мелодрама,криминал',\n",
       "       'комедия', 'боевик,драма,криминал', 'драма,комедия',\n",
       "       'ужасы,фантастика,комедия', 'мультфильм,короткометражка,мелодрама',\n",
       "       'драма,криминал', 'мультфильм,фантастика,фэнтези',\n",
       "       'триллер,драма,криминал', 'драма,мелодрама,биография',\n",
       "       'драма,комедия,военный', 'фантастика,драма,детектив',\n",
       "       'мюзикл,семейный', 'unknown', 'военный,приключения,драма',\n",
       "       'документальный,драма', 'драма,биография,история',\n",
       "       'боевик,триллер,драма', 'фэнтези,боевик',\n",
       "       'боевик,комедия,криминал', 'мюзикл,комедия,детский',\n",
       "       'комедия,мелодрама,драма', 'мультфильм,фэнтези,комедия',\n",
       "       'комедия,история', 'мелодрама', 'драма,биография,музыка',\n",
       "       'фэнтези,драма,мелодрама', 'триллер,военный',\n",
       "       'драма,мелодрама,военный', 'мюзикл,драма,мелодрама',\n",
       "       'мюзикл,комедия', 'мультфильм,приключения,семейный',\n",
       "       'ужасы,триллер', 'боевик,драма,военный', 'драма,боевик',\n",
       "       'мультфильм,драма,комедия', 'триллер,криминал',\n",
       "       'военный,биография,драма', 'комедия,семейный', 'военный',\n",
       "       'драма,семейный,биография', 'фэнтези,приключения,семейный',\n",
       "       'драма,криминал,биография', 'ужасы,триллер,детектив',\n",
       "       'боевик,история,драма', 'ужасы,триллер,драма',\n",
       "       'драма,криминал,спорт', 'документальный,короткометражка',\n",
       "       'триллер,драма', 'криминал,детектив,приключения',\n",
       "       'драма,комедия,криминал', 'драма,комедия,вестерн',\n",
       "       'драма,мелодрама,детектив', 'мелодрама,биография',\n",
       "       'фэнтези,мелодрама,драма', 'драма,мелодрама,история',\n",
       "       'комедия,приключения,история', 'приключения', 'драма,семейный',\n",
       "       'криминал,детектив', 'мультфильм,короткометражка,ужасы',\n",
       "       'фантастика,триллер,драма', 'фэнтези,мелодрама,комедия',\n",
       "       'драма,биография', 'комедия,криминал,история',\n",
       "       'триллер,драма,детектив', 'фантастика,комедия,приключения',\n",
       "       'фэнтези,семейный', 'ужасы,фантастика,боевик',\n",
       "       'мелодрама,криминал', 'комедия,приключения,мелодрама',\n",
       "       'боевик,триллер,приключения', 'боевик,приключения',\n",
       "       'боевик,триллер,криминал', 'документальный,военный,история',\n",
       "       'драма,музыка', 'боевик,драма', 'приключения,боевик',\n",
       "       'драма,военный,биография', 'триллер,драма,приключения',\n",
       "       'аниме,мультфильм,фэнтези', 'триллер,детектив,драма',\n",
       "       'боевик,триллер,мелодрама', 'боевик,история',\n",
       "       'приключения,история', 'драма,комедия,приключения',\n",
       "       'фэнтези,комедия,приключения', 'драма,вестерн',\n",
       "       'документальный,музыка', 'мелодрама,драма',\n",
       "       'триллер,криминал,детектив', 'ужасы', 'боевик,комедия,приключения',\n",
       "       'мультфильм,фэнтези,боевик', 'боевик,фэнтези,драма',\n",
       "       'фэнтези,драма', 'фэнтези,боевик,комедия',\n",
       "       'приключения,детский,комедия', 'документальный',\n",
       "       'боевик,триллер,комедия', 'мелодрама,комедия,криминал',\n",
       "       'драма,детектив', 'мюзикл,ужасы,триллер', 'детектив,триллер,ужасы',\n",
       "       'ужасы,фэнтези', 'ужасы,фэнтези,триллер', 'мультфильм,драма',\n",
       "       'ужасы,боевик,фантастика', 'боевик', 'фантастика,боевик',\n",
       "       'мелодрама,комедия,приключения', 'триллер,детектив',\n",
       "       'мюзикл,мелодрама,фэнтези', 'криминал', 'триллер,комедия,криминал',\n",
       "       'боевик,приключения,триллер', 'триллер,драма,военный',\n",
       "       'комедия,семейный,музыка', 'комедия,фантастика,мелодрама',\n",
       "       'фантастика,триллер,криминал', 'комедия,драма', 'боевик,военный',\n",
       "       'ужасы,фантастика,триллер', 'фантастика,драма,мелодрама',\n",
       "       'фэнтези,драма,детектив', 'боевик,триллер', 'боевик,драма,история',\n",
       "       'мультфильм,мюзикл,фэнтези', 'для взрослых,драма,мелодрама',\n",
       "       'мультфильм,боевик,детектив', 'фантастика,мелодрама,боевик',\n",
       "       'ужасы,фантастика,детектив', 'фантастика,боевик,приключения',\n",
       "       'мелодрама,комедия,спорт', 'комедия,боевик,приключения',\n",
       "       'документальный,приключения', 'мультфильм,короткометражка,детский',\n",
       "       'комедия,приключения', 'ужасы,драма', 'ужасы,фэнтези,боевик',\n",
       "       'мультфильм,фэнтези,детский', 'мюзикл,боевик,драма',\n",
       "       'семейный,комедия,драма', 'концерт,музыка', 'фэнтези,боевик,драма',\n",
       "       'драма,комедия,музыка', 'фантастика,фэнтези,боевик',\n",
       "       'фэнтези,комедия,семейный', 'фэнтези,драма,комедия',\n",
       "       'мультфильм,мюзикл,драма', 'триллер', 'боевик,криминал,триллер',\n",
       "       'мультфильм,приключения,драма', 'мелодрама,музыка',\n",
       "       'документальный,музыка,концерт', 'мультфильм,семейный',\n",
       "       'мультфильм,комедия,приключения', 'мультфильм,комедия,семейный',\n",
       "       'фантастика,драма', 'фэнтези,боевик,приключения',\n",
       "       'мультфильм,приключения', 'драма,военный,история', 'история',\n",
       "       'драма,приключения,военный',\n",
       "       'документальный,короткометражка,семейный',\n",
       "       'мелодрама,история,триллер', 'ужасы,детектив',\n",
       "       'мюзикл,комедия,приключения', 'драма,спорт,биография',\n",
       "       'фантастика,боевик,комедия', 'фантастика,приключения,детектив',\n",
       "       'короткометражка,драма,военный', 'драма,мультфильм',\n",
       "       'приключения,семейный', 'детектив', 'триллер,приключения',\n",
       "       'аниме,мультфильм,боевик', 'драма,комедия,биография',\n",
       "       'драма,комедия,спорт', 'боевик,мелодрама,комедия',\n",
       "       'семейный,комедия', 'фэнтези,боевик,триллер',\n",
       "       'документальный,фэнтези,семейный', 'фантастика,фэнтези,драма',\n",
       "       'ужасы,комедия,фэнтези', 'документальный,биография,музыка',\n",
       "       'фантастика,боевик,фэнтези', 'ужасы,боевик,триллер',\n",
       "       'комедия,криминал,семейный', 'приключения,драма',\n",
       "       'криминал,драма,триллер', 'драма,детектив,криминал',\n",
       "       'фэнтези,приключения,комедия', 'комедия,спорт',\n",
       "       'мюзикл,фэнтези,мелодрама', 'мультфильм,фэнтези,приключения',\n",
       "       'фантастика,фэнтези,приключения', 'фэнтези',\n",
       "       'фэнтези,приключения,боевик', 'фантастика,боевик,драма',\n",
       "       'криминал,драма', 'криминал,триллер,драма',\n",
       "       'драма,мелодрама,приключения', 'детский,комедия',\n",
       "       'фантастика,драма,боевик', 'мультфильм,семейный,фэнтези',\n",
       "       'концерт,музыка,документальный', 'ужасы,комедия,приключения',\n",
       "       'драма,мелодрама,криминал', 'ужасы,фантастика,фэнтези',\n",
       "       'боевик,комедия', 'мультфильм,фантастика,комедия', 'триллер,ужасы',\n",
       "       'мультфильм,мюзикл,комедия', 'мелодрама,фэнтези,триллер',\n",
       "       'детский,приключения,комедия', 'комедия,детектив',\n",
       "       'аниме,мультфильм,мелодрама', 'документальный,драма,семейный',\n",
       "       'документальный,биография,история', 'военный,боевик,драма',\n",
       "       'ужасы,комедия', 'комедия,приключения,семейный',\n",
       "       'приключения,биография,история', 'детский,приключения,семейный',\n",
       "       'спорт,драма,биография', 'аниме,мультфильм,ужасы',\n",
       "       'фантастика,боевик,криминал', 'мюзикл,драма',\n",
       "       'драма,криминал,детектив', 'аниме,мультфильм,драма',\n",
       "       'драма,триллер,приключения', 'триллер,криминал,драма',\n",
       "       'фэнтези,комедия,драма', 'мультфильм,комедия',\n",
       "       'драма,комедия,история', 'комедия,биография,история',\n",
       "       'мультфильм,фантастика,приключения', 'аниме,мультфильм,фантастика',\n",
       "       'мультфильм,фэнтези,семейный', 'мультфильм,боевик,комедия',\n",
       "       'комедия,криминал,спорт', 'документальный,мюзикл',\n",
       "       'мелодрама,комедия,музыка', 'биография',\n",
       "       'триллер,криминал,комедия', 'фантастика,драма,комедия',\n",
       "       'комедия,драма,мелодрама', 'фантастика,приключения,боевик',\n",
       "       'мультфильм,фэнтези,драма', 'триллер,комедия',\n",
       "       'драма,приключения,биография', 'фантастика,комедия',\n",
       "       'мелодрама,драма,комедия', 'боевик,криминал',\n",
       "       'драма,криминал,боевик', 'мультфильм,мюзикл,детский',\n",
       "       'драма,фэнтези', 'документальный,семейный',\n",
       "       'фэнтези,драма,приключения', 'ужасы,комедия,фантастика',\n",
       "       'драма,мелодрама,музыка', 'фэнтези,драма,семейный',\n",
       "       'триллер,мелодрама,драма', 'вестерн,боевик,драма',\n",
       "       'мультфильм,короткометражка,комедия', 'триллер,драма,история',\n",
       "       'ужасы,фантастика', 'ужасы,мелодрама,комедия',\n",
       "       'фэнтези,приключения', 'фантастика,триллер',\n",
       "       'ужасы,боевик,фэнтези', 'мультфильм,комедия,детский',\n",
       "       'триллер,драма,биография', 'мультфильм,ужасы,фэнтези',\n",
       "       'мультфильм,ужасы,фантастика', 'ужасы,боевик,комедия',\n",
       "       'драма,биография,спорт', 'мультфильм', 'мелодрама,комедия,драма',\n",
       "       'приключения,фантастика,семейный', 'комедия,криминал,детектив',\n",
       "       'ужасы,триллер,комедия', 'криминал,комедия,триллер',\n",
       "       'семейный,приключения,комедия', 'мультфильм,драма,приключения',\n",
       "       'ужасы,драма,детектив', 'драма,приключения,фэнтези',\n",
       "       'фантастика,мультфильм,драма', 'драма,триллер,детектив',\n",
       "       'драма,история,музыка', 'детский', 'триллер,боевик,криминал',\n",
       "       'драма,фантастика', 'комедия,драма,семейный',\n",
       "       'боевик,драма,комедия', 'комедия,ужасы',\n",
       "       'драма,фантастика,триллер', 'фантастика,драма,триллер',\n",
       "       'история,спорт,драма', 'документальный,биография',\n",
       "       'биография,история', 'спорт,драма', 'боевик,фэнтези',\n",
       "       'мультфильм,фэнтези', 'документальный,комедия,история',\n",
       "       'криминал,комедия,боевик', 'фэнтези,приключения,драма',\n",
       "       'музыка,концерт', 'триллер,драма,боевик',\n",
       "       'комедия,криминал,боевик', 'комедия,фантастика,боевик',\n",
       "       'вестерн,приключения,боевик', 'аниме,мультфильм,комедия',\n",
       "       'детектив,криминал,триллер', 'мультфильм,комедия,криминал',\n",
       "       'комедия,приключения,детектив', 'мелодрама,фантастика,драма',\n",
       "       'драма,комедия,семейный', 'приключения,фантастика',\n",
       "       'триллер,детектив,ужасы', 'комедия,приключения,фэнтези',\n",
       "       'фэнтези,триллер,драма', 'мелодрама,приключения,боевик',\n",
       "       'детектив,триллер,криминал', 'фэнтези,семейный,мелодрама',\n",
       "       'военный,драма', 'документальный,приключения,семейный',\n",
       "       'криминал,комедия,драма', 'комедия,фантастика',\n",
       "       'история,биография,драма', 'мелодрама,драма,музыка',\n",
       "       'боевик,мелодрама', 'комедия,криминал,триллер',\n",
       "       'детектив,триллер,боевик', 'комедия,боевик,криминал',\n",
       "       'комедия,вестерн', 'детский,мелодрама,семейный',\n",
       "       'короткометражка,мультфильм', 'комедия,фэнтези',\n",
       "       'фантастика,драма,ужасы', 'триллер,драма,ужасы',\n",
       "       'драма,фэнтези,история', 'комедия,драма,короткометражка',\n",
       "       'фэнтези,триллер,приключения', 'семейный',\n",
       "       'комедия,криминал,драма', 'комедия,фэнтези,ужасы',\n",
       "       'короткометражка,комедия,криминал', 'фантастика',\n",
       "       'триллер,ужасы,драма', 'мелодрама,драма,фэнтези',\n",
       "       'фантастика,приключения,драма', 'боевик,детектив',\n",
       "       'военный,драма,боевик', 'комедия,мелодрама,фэнтези',\n",
       "       'вестерн,криминал,триллер', 'драма,история,триллер',\n",
       "       'мультфильм,фантастика,боевик', 'детектив,драма,криминал',\n",
       "       'приключения,история,драма', 'мультфильм,семейный,детский',\n",
       "       'биография,драма,история', 'триллер,криминал,боевик',\n",
       "       'история,мелодрама', 'приключения,детский',\n",
       "       'музыка,приключения,концерт', 'военный,драма,комедия',\n",
       "       'фэнтези,боевик,военный', 'фантастика,детектив,боевик',\n",
       "       'мультфильм,фэнтези,история', 'биография,мелодрама,драма',\n",
       "       'документальный,биография,спорт', 'фантастика,комедия,детектив',\n",
       "       'музыка,концерт,документальный', 'триллер,боевик,приключения',\n",
       "       'триллер,драма,комедия', 'детектив,криминал',\n",
       "       'мультфильм,приключения,фэнтези', 'мелодрама,приключения',\n",
       "       'комедия,музыка', 'мелодрама,комедия,ужасы',\n",
       "       'драма,криминал,приключения', 'приключения,детектив,мелодрама',\n",
       "       'драма,криминал,фантастика', 'фэнтези,драма,биография',\n",
       "       'детектив,фантастика,криминал', 'триллер,драма,фантастика',\n",
       "       'ужасы,комедия,боевик', 'мелодрама,история', 'триллер,боевик',\n",
       "       'фильм-нуар,триллер,детектив', 'комедия,криминал,приключения',\n",
       "       'ужасы,триллер,мелодрама', 'военный,драма,история',\n",
       "       'драма,спорт,история', 'документальный,драма,история',\n",
       "       'триллер,мелодрама,детектив', 'детский,семейный',\n",
       "       'мюзикл,семейный,драма', 'биография,военный,драма',\n",
       "       'мультфильм,детский', 'боевик,криминал,драма',\n",
       "       'детектив,фэнтези,триллер', 'драма,боевик,приключения',\n",
       "       'драма,мелодрама,фэнтези', 'детектив,история,драма',\n",
       "       'фэнтези,боевик,ужасы', 'ужасы,фэнтези,мелодрама',\n",
       "       'ужасы,приключения', 'боевик,фантастика',\n",
       "       'ужасы,мелодрама,детектив', 'фантастика,триллер,приключения',\n",
       "       'боевик,приключения,история', 'приключения,боевик,триллер',\n",
       "       'детектив,ужасы,криминал', 'семейный,фэнтези', 'мюзикл,мелодрама',\n",
       "       'драма,военный,приключения', 'фантастика,драма,приключения',\n",
       "       'приключения,семейный,драма', 'история,драма,боевик',\n",
       "       'мультфильм,приключения,комедия', 'криминал,драма,комедия',\n",
       "       'ужасы,комедия,драма', 'комедия,семейный,приключения',\n",
       "       'мюзикл,фэнтези,драма', 'драма,вестерн,боевик',\n",
       "       'фантастика,триллер,детектив', 'драма,история,детектив',\n",
       "       'короткометражка,биография', 'мультфильм,приключения,фантастика',\n",
       "       'комедия,триллер', 'мультфильм,приключения,детектив',\n",
       "       'драма,триллер', 'ужасы,триллер,криминал',\n",
       "       'документальный,криминал,военный', 'ужасы,фэнтези,драма',\n",
       "       'фэнтези,комедия', 'ужасы,фэнтези,комедия', 'комедия,музыка,драма',\n",
       "       'мультфильм,приключения,военный', 'мюзикл,фэнтези,комедия',\n",
       "       'боевик,фантастика,приключения', 'триллер,ужасы,криминал',\n",
       "       'ужасы,фантастика,драма', 'фантастика,приключения,семейный',\n",
       "       'короткометражка,музыка', 'мелодрама,детектив,комедия',\n",
       "       'документальный,триллер,биография', 'боевик,фантастика,триллер',\n",
       "       'спорт,драма,комедия', 'фэнтези,мелодрама,приключения',\n",
       "       'триллер,детектив,криминал', 'короткометражка,мелодрама',\n",
       "       'мультфильм,семейный,спорт', 'комедия,фэнтези,мелодрама',\n",
       "       'драма,спорт,комедия', 'история,драма,мелодрама',\n",
       "       'драма,боевик,криминал', 'драма,комедия,триллер',\n",
       "       'аниме,мультфильм', 'документальный,ужасы',\n",
       "       'мультфильм,короткометражка', 'драма,история,военный',\n",
       "       'мультфильм,короткометражка,фэнтези', 'комедия,военный,музыка',\n",
       "       'биография,история,драма', 'ужасы,драма,мелодрама',\n",
       "       'драма,комедия,детектив', 'комедия,семейный,фантастика',\n",
       "       'мультфильм,семейный,комедия', 'история,детектив',\n",
       "       'приключения,мелодрама,детектив', 'мюзикл,комедия,мелодрама',\n",
       "       'драма,фантастика,ужасы', 'мультфильм,ужасы,комедия',\n",
       "       'для взрослых,драма,комедия', 'ужасы,комедия,музыка',\n",
       "       'комедия,история,драма', 'семейный,детектив,детский',\n",
       "       'короткометражка,драма', 'документальный,новости,драма',\n",
       "       'триллер,мелодрама', 'ужасы,драма,вестерн',\n",
       "       'мюзикл,фэнтези,семейный', 'вестерн,драма,триллер',\n",
       "       'приключения,вестерн,боевик', 'семейный,комедия,музыка',\n",
       "       'боевик,драма,вестерн', 'ужасы,драма,триллер',\n",
       "       'фантастика,мелодрама', 'комедия,криминал,биография',\n",
       "       'семейный,мультфильм,комедия', 'комедия,драма,криминал',\n",
       "       'фантастика,боевик,военный', 'приключения,биография,драма',\n",
       "       'приключения,триллер,биография', 'криминал,боевик,триллер',\n",
       "       'боевик,вестерн,приключения', 'история,драма',\n",
       "       'фантастика,фэнтези,комедия', 'мультфильм,детский,комедия',\n",
       "       'мелодрама,комедия,триллер', 'документальный,боевик,приключения',\n",
       "       'драма,приключения', 'мелодрама,военный,драма', 'триллер,фэнтези',\n",
       "       'драма,триллер,биография', 'фэнтези,боевик,семейный',\n",
       "       'фантастика,триллер,комедия', 'документальный,фэнтези',\n",
       "       'комедия,мультфильм,фантастика', 'криминал,биография,комедия',\n",
       "       'биография,спорт,драма', 'приключения,военный',\n",
       "       'мультфильм,семейный,драма', 'документальный,фэнтези,драма',\n",
       "       'комедия,боевик,фантастика', 'семейный,приключения,военный',\n",
       "       'триллер,ужасы,детектив', 'короткометражка',\n",
       "       'мелодрама,триллер,история', 'документальный,история',\n",
       "       'мультфильм,приключения,детский', 'драма,комедия,мультфильм',\n",
       "       'военный,детектив', 'семейный,приключения,документальный',\n",
       "       'детский,фэнтези', 'документальный,комедия', 'комедия,биография',\n",
       "       'криминал,комедия', 'спорт,мелодрама,криминал',\n",
       "       'фантастика,комедия,боевик', 'боевик,приключения,детектив',\n",
       "       'детектив,триллер,драма', 'документальный,фантастика',\n",
       "       'мелодрама,комедия,семейный', 'мультфильм,мелодрама,комедия',\n",
       "       'драма,спорт,семейный', 'фантастика,мелодрама,фэнтези',\n",
       "       'мюзикл,комедия,музыка', 'фантастика,триллер,мелодрама',\n",
       "       'приключения,комедия,фэнтези', 'фэнтези,боевик,детектив',\n",
       "       'фэнтези,боевик,мелодрама', 'комедия,военный',\n",
       "       'драма,спорт,боевик', 'мультфильм,боевик,триллер',\n",
       "       'мелодрама,семейный', 'фантастика,боевик,детектив',\n",
       "       'драма,приключения,история', 'документальный,драма,музыка',\n",
       "       'фантастика,триллер,боевик', 'фэнтези,боевик,вестерн',\n",
       "       'драма,комедия,мелодрама', 'ужасы,фэнтези,приключения',\n",
       "       'триллер,фэнтези,драма', 'мультфильм,мюзикл,мелодрама',\n",
       "       'ужасы,триллер,фантастика', 'триллер,мелодрама,комедия',\n",
       "       'ужасы,комедия,семейный', 'комедия,приключения,музыка',\n",
       "       'документальный,комедия,криминал', 'мелодрама,детектив',\n",
       "       'детский,приключения,фантастика', 'короткометражка,боевик,драма',\n",
       "       'боевик,комедия,семейный', 'фантастика,боевик,мелодрама',\n",
       "       'фэнтези,триллер,мелодрама', 'драма,детектив,история',\n",
       "       'боевик,криминал,детектив', 'мультфильм,фэнтези,мелодрама',\n",
       "       'мелодрама,драма,боевик', 'драма,вестерн,приключения',\n",
       "       'драма,приключения,мелодрама', 'фэнтези,боевик,криминал',\n",
       "       'фантастика,комедия,семейный', 'детский,фэнтези,приключения',\n",
       "       'ужасы,боевик', 'фантастика,мелодрама,комедия',\n",
       "       'семейный,спорт,боевик', 'триллер,биография,драма',\n",
       "       'ужасы,драма,комедия', 'мультфильм,фэнтези,триллер', 'мюзикл',\n",
       "       'боевик,спорт,драма', 'комедия,приключения,вестерн',\n",
       "       'документальный,ужасы,боевик', 'фантастика,боевик,семейный',\n",
       "       'военный,история', 'ужасы,боевик,криминал', 'детектив,триллер',\n",
       "       'драма,семейный,комедия', 'драма,детектив,приключения',\n",
       "       'драма,криминал,история', 'приключения,триллер',\n",
       "       'боевик,драма,биография', 'драма,приключения,триллер',\n",
       "       'комедия,фэнтези,приключения', 'фантастика,боевик,ужасы',\n",
       "       'драма,комедия,фантастика', 'детектив,криминал,драма',\n",
       "       'боевик,триллер,фэнтези', 'приключения,детектив,семейный',\n",
       "       'ужасы,комедия,криминал', 'мультфильм,биография,драма',\n",
       "       'история,боевик,фэнтези', 'детектив,криминал,боевик',\n",
       "       'приключения,фэнтези', 'комедия,приключения,спорт',\n",
       "       'драма,биография,мюзикл', 'комедия,семейный,фэнтези',\n",
       "       'детектив,драма,триллер', 'боевик,приключения,семейный',\n",
       "       'биография,спорт,комедия', 'фантастика,приключения,военный',\n",
       "       'документальный,драма,биография', 'детектив,приключения,драма',\n",
       "       'аниме,мультфильм,приключения', 'семейный,приключения',\n",
       "       'ужасы,фэнтези,детектив', 'семейный,документальный',\n",
       "       'драма,приключения,семейный', 'приключения,история,военный',\n",
       "       'фэнтези,мелодрама', 'фэнтези,триллер,детектив',\n",
       "       'документальный,спорт,биография', 'комедия,триллер,драма',\n",
       "       'драма,ужасы', 'биография,музыка,драма', 'фэнтези,ужасы',\n",
       "       'детектив,мелодрама,фэнтези', 'боевик,военный,история',\n",
       "       'биография,драма,криминал', 'триллер,мелодрама,криминал',\n",
       "       'семейный,мелодрама', 'биография,драма', 'военный,история,драма',\n",
       "       'фантастика,детектив,фэнтези', 'детектив,приключения,триллер',\n",
       "       'фантастика,приключения', 'мультфильм,короткометражка,мюзикл',\n",
       "       'мультфильм,детский,семейный', 'документальный,драма,комедия',\n",
       "       'комедия,приключения,криминал', 'документальный,семейный,музыка',\n",
       "       'мелодрама,музыка,драма', 'детектив,фантастика,триллер',\n",
       "       'драма,мелодрама,триллер', 'биография,драма,военный',\n",
       "       'приключения,фантастика,драма', 'детектив,фильм-нуар,комедия',\n",
       "       'документальный,спорт', 'триллер,фантастика,драма',\n",
       "       'биография,документальный', 'ужасы,фантастика,мелодрама',\n",
       "       'детектив,комедия', 'история,биография,военный',\n",
       "       'криминал,мелодрама', 'драма,криминал,вестерн',\n",
       "       'мелодрама,семейный,приключения', 'триллер,ужасы,мелодрама',\n",
       "       'фэнтези,драма,фильм-нуар', 'детектив,мелодрама',\n",
       "       'комедия,драма,биография', 'драма,военный,боевик',\n",
       "       'драма,комедия,ужасы', 'фантастика,драма,криминал',\n",
       "       'документальный,музыка,биография', 'мультфильм,боевик,приключения',\n",
       "       'короткометражка,фантастика', 'мультфильм,мелодрама,драма',\n",
       "       'боевик,военный,драма', 'фэнтези,семейный,приключения',\n",
       "       'детский,мультфильм,приключения', 'семейный,фэнтези,комедия',\n",
       "       'фэнтези,ужасы,триллер', 'ужасы,триллер,приключения',\n",
       "       'драма,боевик,история', 'фэнтези,комедия,детектив',\n",
       "       'история,приключения', 'аниме,мультфильм,короткометражка',\n",
       "       'драма,военный,триллер', 'биография,криминал,триллер',\n",
       "       'фантастика,фэнтези,детектив', 'вестерн,биография,драма',\n",
       "       'биография,музыка,мюзикл', 'драма,история,биография',\n",
       "       'приключения,драма,фантастика', 'комедия,фэнтези,криминал',\n",
       "       'биография,спорт,история', 'драма,криминал,семейный',\n",
       "       'детектив,боевик,история', 'ужасы,комедия,детектив',\n",
       "       'триллер,приключения,драма', 'фэнтези,комедия,криминал',\n",
       "       'триллер,криминал,приключения', 'комедия,детектив,приключения',\n",
       "       'фэнтези,драма,ужасы', 'ужасы,драма,военный', 'реальное ТВ',\n",
       "       'аниме,мультфильм,детектив', 'приключения,фэнтези,семейный',\n",
       "       'драма,биография,комедия', 'триллер,комедия,ужасы',\n",
       "       'музыка,мелодрама,фэнтези', 'мультфильм,история',\n",
       "       'мультфильм,комедия,фантастика', 'биография,криминал,драма',\n",
       "       'комедия,мелодрама,фантастика', 'криминал,боевик,комедия',\n",
       "       'история,криминал', 'детектив,комедия,драма',\n",
       "       'триллер,фантастика,боевик', 'криминал,боевик',\n",
       "       'комедия,драма,военный', 'драма,триллер,криминал',\n",
       "       'мультфильм,мелодрама,приключения', 'фантастика,фэнтези,триллер',\n",
       "       'короткометражка,драма,триллер', 'военный,боевик,история',\n",
       "       'боевик,драма,триллер', 'документальный,военный,драма',\n",
       "       'драма,криминал,фильм-нуар', 'мультфильм,детский,приключения',\n",
       "       'мелодрама,история,драма'], dtype=object)"
      ]
     },
     "execution_count": 112,
     "metadata": {},
     "output_type": "execute_result"
    }
   ],
   "source": [
    "data['genres'].unique()"
   ]
  },
  {
   "cell_type": "code",
   "execution_count": 113,
   "metadata": {},
   "outputs": [
    {
     "data": {
      "text/plain": [
       "9"
      ]
     },
     "execution_count": 113,
     "metadata": {},
     "output_type": "execute_result"
    }
   ],
   "source": [
    "data['director'].isna().sum()"
   ]
  },
  {
   "cell_type": "code",
   "execution_count": 114,
   "metadata": {},
   "outputs": [
    {
     "data": {
      "text/plain": [
       "568"
      ]
     },
     "execution_count": 114,
     "metadata": {},
     "output_type": "execute_result"
    }
   ],
   "source": [
    "data['producer'].isna().sum()"
   ]
  },
  {
   "cell_type": "code",
   "execution_count": 115,
   "metadata": {},
   "outputs": [],
   "source": [
    "data = data.dropna(subset=['producer'])"
   ]
  },
  {
   "cell_type": "code",
   "execution_count": 116,
   "metadata": {},
   "outputs": [
    {
     "data": {
      "text/plain": [
       "0"
      ]
     },
     "execution_count": 116,
     "metadata": {},
     "output_type": "execute_result"
    }
   ],
   "source": [
    "data['producer'].isna().sum()"
   ]
  },
  {
   "cell_type": "code",
   "execution_count": 117,
   "metadata": {},
   "outputs": [],
   "source": [
    "data = data.dropna(subset=['director'])"
   ]
  },
  {
   "cell_type": "code",
   "execution_count": 118,
   "metadata": {},
   "outputs": [
    {
     "data": {
      "text/plain": [
       "0"
      ]
     },
     "execution_count": 118,
     "metadata": {},
     "output_type": "execute_result"
    }
   ],
   "source": [
    "data['director'].isna().sum()"
   ]
  },
  {
   "cell_type": "code",
   "execution_count": 119,
   "metadata": {},
   "outputs": [
    {
     "name": "stdout",
     "output_type": "stream",
     "text": [
      "<class 'pandas.core.frame.DataFrame'>\n",
      "Int64Index: 6912 entries, 0 to 7484\n",
      "Data columns (total 16 columns):\n",
      " #   Column                 Non-Null Count  Dtype              \n",
      "---  ------                 --------------  -----              \n",
      " 0   title                  6912 non-null   object             \n",
      " 1   puNumber               6912 non-null   int64              \n",
      " 2   show_start_date        6912 non-null   datetime64[ns, UTC]\n",
      " 3   type                   6912 non-null   object             \n",
      " 4   film_studio            6912 non-null   object             \n",
      " 5   production_country     6912 non-null   object             \n",
      " 6   director               6912 non-null   object             \n",
      " 7   producer               6912 non-null   object             \n",
      " 8   age_restriction        6912 non-null   object             \n",
      " 9   refundable_support     330 non-null    float64            \n",
      " 10  nonrefundable_support  330 non-null    float64            \n",
      " 11  budget                 330 non-null    float64            \n",
      " 12  financing_source       6912 non-null   object             \n",
      " 13  ratings                6912 non-null   float64            \n",
      " 14  genres                 6912 non-null   object             \n",
      " 15  box_office             3041 non-null   float64            \n",
      "dtypes: datetime64[ns, UTC](1), float64(5), int64(1), object(9)\n",
      "memory usage: 918.0+ KB\n"
     ]
    }
   ],
   "source": [
    "data.info()"
   ]
  },
  {
   "cell_type": "code",
   "execution_count": 120,
   "metadata": {
    "id": "kVGSplJOgFyO"
   },
   "outputs": [
    {
     "data": {
      "text/plain": [
       "6582"
      ]
     },
     "execution_count": 120,
     "metadata": {},
     "output_type": "execute_result"
    }
   ],
   "source": [
    "data.loc[data['refundable_support'].isna()].count()['title']"
   ]
  },
  {
   "cell_type": "code",
   "execution_count": 121,
   "metadata": {
    "id": "8MJD_lkngFyP"
   },
   "outputs": [],
   "source": [
    "data['refundable_support'] = data['refundable_support'].fillna(value=0)"
   ]
  },
  {
   "cell_type": "code",
   "execution_count": 122,
   "metadata": {},
   "outputs": [
    {
     "data": {
      "text/plain": [
       "0"
      ]
     },
     "execution_count": 122,
     "metadata": {},
     "output_type": "execute_result"
    }
   ],
   "source": [
    "data.loc[data['refundable_support'].isna()].count()['title']"
   ]
  },
  {
   "cell_type": "code",
   "execution_count": 123,
   "metadata": {},
   "outputs": [
    {
     "data": {
      "text/plain": [
       "6582"
      ]
     },
     "execution_count": 123,
     "metadata": {},
     "output_type": "execute_result"
    }
   ],
   "source": [
    "data.loc[data['nonrefundable_support'].isna()].count()['title']"
   ]
  },
  {
   "cell_type": "code",
   "execution_count": 124,
   "metadata": {},
   "outputs": [],
   "source": [
    "data['nonrefundable_support'] = data['nonrefundable_support'].fillna(value=0)"
   ]
  },
  {
   "cell_type": "code",
   "execution_count": 125,
   "metadata": {},
   "outputs": [
    {
     "data": {
      "text/plain": [
       "0"
      ]
     },
     "execution_count": 125,
     "metadata": {},
     "output_type": "execute_result"
    }
   ],
   "source": [
    "data.loc[data['nonrefundable_support'].isna()].count()['title']"
   ]
  },
  {
   "cell_type": "code",
   "execution_count": 126,
   "metadata": {},
   "outputs": [
    {
     "data": {
      "text/plain": [
       "6582"
      ]
     },
     "execution_count": 126,
     "metadata": {},
     "output_type": "execute_result"
    }
   ],
   "source": [
    "data.loc[data['budget'].isna()].count()['title']"
   ]
  },
  {
   "cell_type": "code",
   "execution_count": 127,
   "metadata": {},
   "outputs": [],
   "source": [
    "data['budget'] = data['budget'].fillna(value=0)"
   ]
  },
  {
   "cell_type": "code",
   "execution_count": 128,
   "metadata": {},
   "outputs": [
    {
     "data": {
      "text/plain": [
       "0"
      ]
     },
     "execution_count": 128,
     "metadata": {},
     "output_type": "execute_result"
    }
   ],
   "source": [
    "data.loc[data['budget'].isna()].count()['title']"
   ]
  },
  {
   "cell_type": "code",
   "execution_count": 129,
   "metadata": {},
   "outputs": [
    {
     "data": {
      "text/plain": [
       "3871"
      ]
     },
     "execution_count": 129,
     "metadata": {},
     "output_type": "execute_result"
    }
   ],
   "source": [
    "data.loc[data['box_office'].isna()].count()['title']"
   ]
  },
  {
   "cell_type": "code",
   "execution_count": 130,
   "metadata": {},
   "outputs": [],
   "source": [
    "data['box_office'] = data['box_office'].fillna(value=0)"
   ]
  },
  {
   "cell_type": "code",
   "execution_count": 131,
   "metadata": {},
   "outputs": [
    {
     "data": {
      "text/plain": [
       "0"
      ]
     },
     "execution_count": 131,
     "metadata": {},
     "output_type": "execute_result"
    }
   ],
   "source": [
    "data.loc[data['box_office'].isna()].count()['title']"
   ]
  },
  {
   "cell_type": "markdown",
   "metadata": {},
   "source": [
    "Были найдены и заполнены пропуски в полях - _film_studio, production_country, financing_source, genres, refundable_support, nonrefundable_support, budget, box_office_. Поля с типом строк были заполнены значением 'unknown', а поля с численными типами были заполнены значением 0(так как если они были, то составляли большую часть от всех данных).\n",
    "Также были удалены пропуски из полей - _director, producer_, так как они составляют малую долю от всех данных."
   ]
  },
  {
   "cell_type": "markdown",
   "metadata": {},
   "source": [
    "Причины появления пропусков: поле producer, director и production_country, genres могли попросту забыть заполнить при заполнении данных(человеческий фактор), либо где-то они были некорректно преобразованы из байт в строку и обратно, в ходе обработки, в связи с чем не записаны в БД.\n",
    "Поля refundable_support, nonrefundable_support являются поддержкой от государства, а так как в выборке большая часть данных - это частные фильмы, то вполне логичен пропуск в этих полях.\n",
    "Поле budget могли не заполнить в связи с человеческим фактором(при ручном добавлении бюджета, человек забыл заполнить поле, возможно оно не проверялось как обязательное) или, так как поле представляет с собой денежный тип, а с ним очень тяжело работать из-за артефактов при преобразовании из/во float, где то могла быть выполнена неудачная конвертация числа с плавающей точкой(техническая причина).\n",
    "box_office были взяты при присоединении второй таблицы, которая представляет собой показы в кинотеатрах и отсносится только к ним. Так как в первой таблицы был прокат, то при присоединении это поле автоматически заполнилось пустым значением."
   ]
  },
  {
   "cell_type": "markdown",
   "metadata": {
    "id": "4c6k1t9ygFyQ"
   },
   "source": [
    "#### Шаг 2.3. Изучите дубликаты в датафрейме\n",
    "- Проверьте, есть ли в данных дубликаты. Опишите причины, которые могли повлиять на появление дублей."
   ]
  },
  {
   "cell_type": "code",
   "execution_count": 63,
   "metadata": {},
   "outputs": [
    {
     "data": {
      "text/plain": [
       "0"
      ]
     },
     "execution_count": 63,
     "metadata": {},
     "output_type": "execute_result"
    }
   ],
   "source": [
    "data.duplicated().sum()"
   ]
  },
  {
   "cell_type": "code",
   "execution_count": 305,
   "metadata": {},
   "outputs": [
    {
     "data": {
      "text/plain": [
       "2"
      ]
     },
     "execution_count": 305,
     "metadata": {},
     "output_type": "execute_result"
    }
   ],
   "source": [
    "data.loc[data['puNumber'].duplicated()].count()['title']"
   ]
  },
  {
   "cell_type": "code",
   "execution_count": 306,
   "metadata": {
    "id": "aKck8RIdgFyQ"
   },
   "outputs": [
    {
     "data": {
      "text/plain": [
       "0"
      ]
     },
     "execution_count": 306,
     "metadata": {},
     "output_type": "execute_result"
    }
   ],
   "source": [
    "data = data.drop(data.loc[data['puNumber'].duplicated()].index)\n",
    "data.loc[data['puNumber'].duplicated()].count()['title']"
   ]
  },
  {
   "cell_type": "markdown",
   "metadata": {},
   "source": [
    "    Явных дубликатов найдено не было.\n",
    "    Поле _puNumber_ принято уникальным, так как является удостоверением кино и не может повторяться. По этому полю было найдено 2 дубликата и принято их удалить, так как 2 значения никак не повлияют на дальнейший анализ данных."
   ]
  },
  {
   "cell_type": "markdown",
   "metadata": {},
   "source": [
    "    Остальные поля не были рассмотрены как неявные дубликаты, так как они могут повторяться и это будет релевантно в случае, если у них разные номера puNumber. К примеру, если встретились два одинаковых фильма, но с разными удостоверениями, то они могли выдаваться для показа в кинотеатрах и на продажу или кинопрокат в онлайн сервисах и на какой либо частный показ."
   ]
  },
  {
   "cell_type": "markdown",
   "metadata": {
    "id": "52fOPrEBgFyQ"
   },
   "source": [
    "#### Шаг 2.4. Изучите категориальные значения\n",
    "\n",
    "- Посмотрите, какая общая проблема встречается почти во всех категориальных столбцах;\n",
    "- Исправьте проблемные значения в поле `type`.\n"
   ]
  },
  {
   "cell_type": "code",
   "execution_count": 132,
   "metadata": {
    "scrolled": false
   },
   "outputs": [
    {
     "data": {
      "text/plain": [
       "array(['Художественный', 'Анимационный', 'Прочие', 'Документальный',\n",
       "       'Научно-популярный', ' Художественный', ' Анимационный',\n",
       "       'Музыкально-развлекательный'], dtype=object)"
      ]
     },
     "execution_count": 132,
     "metadata": {},
     "output_type": "execute_result"
    }
   ],
   "source": [
    "data['type'].unique()"
   ]
  },
  {
   "cell_type": "code",
   "execution_count": 133,
   "metadata": {},
   "outputs": [
    {
     "data": {
      "text/plain": [
       "array(['Художественный', 'Анимационный', 'Прочие', 'Документальный',\n",
       "       'Научно-популярный', 'Музыкально-развлекательный'], dtype=object)"
      ]
     },
     "execution_count": 133,
     "metadata": {},
     "output_type": "execute_result"
    }
   ],
   "source": [
    "data['type'].str.strip().unique()"
   ]
  },
  {
   "cell_type": "code",
   "execution_count": 134,
   "metadata": {},
   "outputs": [],
   "source": [
    "data['type'] = data['type'].str.strip()"
   ]
  },
  {
   "cell_type": "code",
   "execution_count": 135,
   "metadata": {
    "id": "PnXKIVdFgFyR"
   },
   "outputs": [
    {
     "name": "stdout",
     "output_type": "stream",
     "text": [
      "WITHOUT strip:  720\n",
      "WITH strip:  720\n"
     ]
    }
   ],
   "source": [
    "print(\"WITHOUT strip: \", len(data['genres'].unique()))\n",
    "print(\"WITH strip: \", len(data['genres'].str.strip().unique()))"
   ]
  },
  {
   "cell_type": "code",
   "execution_count": 136,
   "metadata": {},
   "outputs": [
    {
     "name": "stdout",
     "output_type": "stream",
     "text": [
      "WITHOUT strip:  909\n",
      "WITH strip:  901\n"
     ]
    }
   ],
   "source": [
    "print(\"WITHOUT strip: \", len(data['production_country'].unique()))\n",
    "print(\"WITH strip: \", len(data['production_country'].str.strip().unique()))\n",
    "data['production_country'] = data['production_country'].str.strip()"
   ]
  },
  {
   "cell_type": "code",
   "execution_count": 137,
   "metadata": {},
   "outputs": [
    {
     "data": {
      "text/plain": [
       "title                    22\n",
       "puNumber                 22\n",
       "show_start_date          22\n",
       "type                     22\n",
       "film_studio              22\n",
       "production_country       22\n",
       "director                 22\n",
       "producer                 22\n",
       "age_restriction          22\n",
       "refundable_support       22\n",
       "nonrefundable_support    22\n",
       "budget                   22\n",
       "financing_source         22\n",
       "ratings                  22\n",
       "genres                   22\n",
       "box_office               22\n",
       "dtype: int64"
      ]
     },
     "execution_count": 137,
     "metadata": {},
     "output_type": "execute_result"
    }
   ],
   "source": [
    "data.loc[data['financing_source'] == 'Министерство культуры, Фонд кино'].count()"
   ]
  },
  {
   "cell_type": "code",
   "execution_count": 138,
   "metadata": {},
   "outputs": [
    {
     "data": {
      "text/plain": [
       "array(['Частное', 'Министерство культуры', 'Фонд кино'], dtype=object)"
      ]
     },
     "execution_count": 138,
     "metadata": {},
     "output_type": "execute_result"
    }
   ],
   "source": [
    "data = data.drop(data.loc[data['financing_source'] == 'Министерство культуры, Фонд кино'].index)\n",
    "data['financing_source'].unique()"
   ]
  },
  {
   "cell_type": "code",
   "execution_count": 139,
   "metadata": {},
   "outputs": [
    {
     "name": "stdout",
     "output_type": "stream",
     "text": [
      "<class 'pandas.core.frame.DataFrame'>\n",
      "Int64Index: 6890 entries, 0 to 7484\n",
      "Data columns (total 16 columns):\n",
      " #   Column                 Non-Null Count  Dtype              \n",
      "---  ------                 --------------  -----              \n",
      " 0   title                  6890 non-null   object             \n",
      " 1   puNumber               6890 non-null   int64              \n",
      " 2   show_start_date        6890 non-null   datetime64[ns, UTC]\n",
      " 3   type                   6890 non-null   object             \n",
      " 4   film_studio            6890 non-null   object             \n",
      " 5   production_country     6890 non-null   object             \n",
      " 6   director               6890 non-null   object             \n",
      " 7   producer               6890 non-null   object             \n",
      " 8   age_restriction        6890 non-null   object             \n",
      " 9   refundable_support     6890 non-null   float64            \n",
      " 10  nonrefundable_support  6890 non-null   float64            \n",
      " 11  budget                 6890 non-null   float64            \n",
      " 12  financing_source       6890 non-null   object             \n",
      " 13  ratings                6890 non-null   float64            \n",
      " 14  genres                 6890 non-null   object             \n",
      " 15  box_office             6890 non-null   float64            \n",
      "dtypes: datetime64[ns, UTC](1), float64(5), int64(1), object(9)\n",
      "memory usage: 915.1+ KB\n"
     ]
    }
   ],
   "source": [
    "data.info()"
   ]
  },
  {
   "cell_type": "markdown",
   "metadata": {},
   "source": [
    "Основная проблема в категориальных данных заключалась в лишних пробелах, после удаления которых, данные приводились к нужной категории. Тем не менее было найдено 22 значения поля _financing_source_ со значением **'Министерство культуры, Фонд кино'**. Действительно финансировать фильм могли сразу два ведомства, но для дальнейшего анализа такое количество значений могут только помешать в виде выбросов или прочих аномалий, что спутает выводы. Следовательно такие значения решено было убрать из данных без вреда для общей картины."
   ]
  },
  {
   "cell_type": "markdown",
   "metadata": {
    "id": "XFSN5lrEgFyR"
   },
   "source": [
    "#### Шаг 2.5. Проверьте количественные значения\n",
    "\n",
    "- Проверьте, обнаружились ли в таких столбцах подозрительные данные. Как с такими данными лучше поступить?"
   ]
  },
  {
   "cell_type": "code",
   "execution_count": 140,
   "metadata": {
    "id": "YbzClBxagFyS"
   },
   "outputs": [
    {
     "data": {
      "text/plain": [
       "16"
      ]
     },
     "execution_count": 140,
     "metadata": {},
     "output_type": "execute_result"
    }
   ],
   "source": [
    "wrong_budget = data[data['budget'] < (data['refundable_support'] + data['nonrefundable_support'])]\n",
    "wrong_budget.count()['title']"
   ]
  },
  {
   "cell_type": "code",
   "execution_count": 141,
   "metadata": {},
   "outputs": [],
   "source": [
    "data = data.drop(wrong_budget.index)"
   ]
  },
  {
   "cell_type": "code",
   "execution_count": 142,
   "metadata": {},
   "outputs": [
    {
     "data": {
      "text/plain": [
       "0"
      ]
     },
     "execution_count": 142,
     "metadata": {},
     "output_type": "execute_result"
    }
   ],
   "source": [
    "data[data['budget'] < (data['refundable_support'] + data['nonrefundable_support'])].count()['title']"
   ]
  },
  {
   "cell_type": "markdown",
   "metadata": {},
   "source": [
    "В количественных значениях было найдено 16 подозрительных значений, где бюджет фильма был меньше, чем выделенные на него средства, что невозможно. Так как таких строк всего 16, то их можно безболезненно удалить, что и было предпринято."
   ]
  },
  {
   "cell_type": "markdown",
   "metadata": {
    "id": "Eu6oWp2CgFyS"
   },
   "source": [
    "#### Шаг 2.6. Добавьте новые столбцы\n",
    "\n",
    "\n",
    "\n"
   ]
  },
  {
   "cell_type": "markdown",
   "metadata": {
    "id": "7GgW-UpAgFyS"
   },
   "source": [
    "- Создайте столбец с информацией о годе проката. Выделите год из даты премьеры фильма."
   ]
  },
  {
   "cell_type": "code",
   "execution_count": 143,
   "metadata": {
    "id": "I-yd1DkWgFyT"
   },
   "outputs": [],
   "source": [
    "data['show_start_year'] = data['show_start_date'].dt.year"
   ]
  },
  {
   "cell_type": "markdown",
   "metadata": {
    "id": "nFTDLDYOgFyT"
   },
   "source": "- Создайте два столбца: с именем и фамилией главного режиссёра и основным жанром фильма. В столбцы войдут первые значения из списка режиссёров и жанров соответственно."
  },
  {
   "cell_type": "code",
   "execution_count": 144,
   "metadata": {
    "id": "LSbRZKbMgFyU"
   },
   "outputs": [],
   "source": [
    "def add_string_info(data):\n",
    "    data = data.replace(';', ',')\n",
    "    return data.split(',')[0]\n",
    "\n",
    "\n",
    "data['main_director'] = data['director'].apply(add_string_info)"
   ]
  },
  {
   "cell_type": "code",
   "execution_count": 145,
   "metadata": {},
   "outputs": [],
   "source": [
    "data['main_genre'] = data['genres'].apply(add_string_info)"
   ]
  },
  {
   "cell_type": "code",
   "execution_count": 146,
   "metadata": {},
   "outputs": [
    {
     "data": {
      "text/html": [
       "<div>\n",
       "<style scoped>\n",
       "    .dataframe tbody tr th:only-of-type {\n",
       "        vertical-align: middle;\n",
       "    }\n",
       "\n",
       "    .dataframe tbody tr th {\n",
       "        vertical-align: top;\n",
       "    }\n",
       "\n",
       "    .dataframe thead th {\n",
       "        text-align: right;\n",
       "    }\n",
       "</style>\n",
       "<table border=\"1\" class=\"dataframe\">\n",
       "  <thead>\n",
       "    <tr style=\"text-align: right;\">\n",
       "      <th></th>\n",
       "      <th>title</th>\n",
       "      <th>puNumber</th>\n",
       "      <th>show_start_date</th>\n",
       "      <th>type</th>\n",
       "      <th>film_studio</th>\n",
       "      <th>production_country</th>\n",
       "      <th>director</th>\n",
       "      <th>producer</th>\n",
       "      <th>age_restriction</th>\n",
       "      <th>refundable_support</th>\n",
       "      <th>nonrefundable_support</th>\n",
       "      <th>budget</th>\n",
       "      <th>financing_source</th>\n",
       "      <th>ratings</th>\n",
       "      <th>genres</th>\n",
       "      <th>box_office</th>\n",
       "      <th>show_start_year</th>\n",
       "      <th>main_director</th>\n",
       "      <th>main_genre</th>\n",
       "    </tr>\n",
       "  </thead>\n",
       "  <tbody>\n",
       "    <tr>\n",
       "      <th>0</th>\n",
       "      <td>Открытый простор</td>\n",
       "      <td>221048915</td>\n",
       "      <td>2015-11-27 12:00:00+00:00</td>\n",
       "      <td>Художественный</td>\n",
       "      <td>Тачстоун Пикчерз, Кобальт Пикчерз, Бикон Пикче...</td>\n",
       "      <td>США</td>\n",
       "      <td>Кевин Костнер</td>\n",
       "      <td>Дэвид Валдес, Кевин Костнер, Джейк Эбертс</td>\n",
       "      <td>«18+» - запрещено для детей</td>\n",
       "      <td>0.0</td>\n",
       "      <td>0.0</td>\n",
       "      <td>0.0</td>\n",
       "      <td>Частное</td>\n",
       "      <td>7.2</td>\n",
       "      <td>боевик,драма,мелодрама</td>\n",
       "      <td>0.0</td>\n",
       "      <td>2015</td>\n",
       "      <td>Кевин Костнер</td>\n",
       "      <td>боевик</td>\n",
       "    </tr>\n",
       "    <tr>\n",
       "      <th>2</th>\n",
       "      <td>Особо опасен</td>\n",
       "      <td>221038416</td>\n",
       "      <td>2016-10-10 12:00:00+00:00</td>\n",
       "      <td>Художественный</td>\n",
       "      <td>Юниверсал Пикчерз, Кикстарт Продакшнз, Марк Пл...</td>\n",
       "      <td>США</td>\n",
       "      <td>Тимур Бекмамбетов</td>\n",
       "      <td>Джим Лемли, Джейсон Нетер, Марк Е.Платт, Яйн Смит</td>\n",
       "      <td>«18+» - запрещено для детей</td>\n",
       "      <td>0.0</td>\n",
       "      <td>0.0</td>\n",
       "      <td>0.0</td>\n",
       "      <td>Частное</td>\n",
       "      <td>6.8</td>\n",
       "      <td>фантастика,боевик,триллер</td>\n",
       "      <td>0.0</td>\n",
       "      <td>2016</td>\n",
       "      <td>Тимур Бекмамбетов</td>\n",
       "      <td>фантастика</td>\n",
       "    </tr>\n",
       "    <tr>\n",
       "      <th>3</th>\n",
       "      <td>Особо опасен</td>\n",
       "      <td>221026916</td>\n",
       "      <td>2016-06-10 12:00:00+00:00</td>\n",
       "      <td>Художественный</td>\n",
       "      <td>Юниверсал Пикчерз, Кикстарт Продакшнз, Марк Пл...</td>\n",
       "      <td>США</td>\n",
       "      <td>Тимур Бекмамбетов</td>\n",
       "      <td>Джим Лемли, Джейсон Нетер, Марк Е.Платт, Яйн Смит</td>\n",
       "      <td>«18+» - запрещено для детей</td>\n",
       "      <td>0.0</td>\n",
       "      <td>0.0</td>\n",
       "      <td>0.0</td>\n",
       "      <td>Частное</td>\n",
       "      <td>6.8</td>\n",
       "      <td>фантастика,боевик,триллер</td>\n",
       "      <td>0.0</td>\n",
       "      <td>2016</td>\n",
       "      <td>Тимур Бекмамбетов</td>\n",
       "      <td>фантастика</td>\n",
       "    </tr>\n",
       "    <tr>\n",
       "      <th>4</th>\n",
       "      <td>Особо опасен</td>\n",
       "      <td>221030815</td>\n",
       "      <td>2015-07-29 12:00:00+00:00</td>\n",
       "      <td>Художественный</td>\n",
       "      <td>Юниверсал Пикчерз, Кикстарт Продакшнз, Марк Пл...</td>\n",
       "      <td>США</td>\n",
       "      <td>Тимур Бекмамбетов</td>\n",
       "      <td>Джим Лемли, Джейсон Нетер, Марк Е.Платт, Яйн Смит</td>\n",
       "      <td>«18+» - запрещено для детей</td>\n",
       "      <td>0.0</td>\n",
       "      <td>0.0</td>\n",
       "      <td>0.0</td>\n",
       "      <td>Частное</td>\n",
       "      <td>6.8</td>\n",
       "      <td>фантастика,боевик,триллер</td>\n",
       "      <td>0.0</td>\n",
       "      <td>2015</td>\n",
       "      <td>Тимур Бекмамбетов</td>\n",
       "      <td>фантастика</td>\n",
       "    </tr>\n",
       "    <tr>\n",
       "      <th>7</th>\n",
       "      <td>Любовь и сигареты</td>\n",
       "      <td>221074614</td>\n",
       "      <td>2014-12-29 12:00:00+00:00</td>\n",
       "      <td>Художественный</td>\n",
       "      <td>Юнайтед Артистс, Грин Стрит Филмз, Айкон Интер...</td>\n",
       "      <td>США</td>\n",
       "      <td>Джон Туртурро</td>\n",
       "      <td>Джон Пенотти, Джон Туртурро</td>\n",
       "      <td>«18+» - запрещено для детей</td>\n",
       "      <td>0.0</td>\n",
       "      <td>0.0</td>\n",
       "      <td>0.0</td>\n",
       "      <td>Частное</td>\n",
       "      <td>6.6</td>\n",
       "      <td>мюзикл,мелодрама,комедия</td>\n",
       "      <td>0.0</td>\n",
       "      <td>2014</td>\n",
       "      <td>Джон Туртурро</td>\n",
       "      <td>мюзикл</td>\n",
       "    </tr>\n",
       "  </tbody>\n",
       "</table>\n",
       "</div>"
      ],
      "text/plain": [
       "               title   puNumber           show_start_date            type  \\\n",
       "0   Открытый простор  221048915 2015-11-27 12:00:00+00:00  Художественный   \n",
       "2       Особо опасен  221038416 2016-10-10 12:00:00+00:00  Художественный   \n",
       "3       Особо опасен  221026916 2016-06-10 12:00:00+00:00  Художественный   \n",
       "4       Особо опасен  221030815 2015-07-29 12:00:00+00:00  Художественный   \n",
       "7  Любовь и сигареты  221074614 2014-12-29 12:00:00+00:00  Художественный   \n",
       "\n",
       "                                         film_studio production_country  \\\n",
       "0  Тачстоун Пикчерз, Кобальт Пикчерз, Бикон Пикче...                США   \n",
       "2  Юниверсал Пикчерз, Кикстарт Продакшнз, Марк Пл...                США   \n",
       "3  Юниверсал Пикчерз, Кикстарт Продакшнз, Марк Пл...                США   \n",
       "4  Юниверсал Пикчерз, Кикстарт Продакшнз, Марк Пл...                США   \n",
       "7  Юнайтед Артистс, Грин Стрит Филмз, Айкон Интер...                США   \n",
       "\n",
       "            director                                           producer  \\\n",
       "0      Кевин Костнер          Дэвид Валдес, Кевин Костнер, Джейк Эбертс   \n",
       "2  Тимур Бекмамбетов  Джим Лемли, Джейсон Нетер, Марк Е.Платт, Яйн Смит   \n",
       "3  Тимур Бекмамбетов  Джим Лемли, Джейсон Нетер, Марк Е.Платт, Яйн Смит   \n",
       "4  Тимур Бекмамбетов  Джим Лемли, Джейсон Нетер, Марк Е.Платт, Яйн Смит   \n",
       "7      Джон Туртурро                        Джон Пенотти, Джон Туртурро   \n",
       "\n",
       "               age_restriction  refundable_support  nonrefundable_support  \\\n",
       "0  «18+» - запрещено для детей                 0.0                    0.0   \n",
       "2  «18+» - запрещено для детей                 0.0                    0.0   \n",
       "3  «18+» - запрещено для детей                 0.0                    0.0   \n",
       "4  «18+» - запрещено для детей                 0.0                    0.0   \n",
       "7  «18+» - запрещено для детей                 0.0                    0.0   \n",
       "\n",
       "   budget financing_source  ratings                     genres  box_office  \\\n",
       "0     0.0          Частное      7.2     боевик,драма,мелодрама         0.0   \n",
       "2     0.0          Частное      6.8  фантастика,боевик,триллер         0.0   \n",
       "3     0.0          Частное      6.8  фантастика,боевик,триллер         0.0   \n",
       "4     0.0          Частное      6.8  фантастика,боевик,триллер         0.0   \n",
       "7     0.0          Частное      6.6   мюзикл,мелодрама,комедия         0.0   \n",
       "\n",
       "   show_start_year      main_director  main_genre  \n",
       "0             2015      Кевин Костнер      боевик  \n",
       "2             2016  Тимур Бекмамбетов  фантастика  \n",
       "3             2016  Тимур Бекмамбетов  фантастика  \n",
       "4             2015  Тимур Бекмамбетов  фантастика  \n",
       "7             2014      Джон Туртурро      мюзикл  "
      ]
     },
     "execution_count": 146,
     "metadata": {},
     "output_type": "execute_result"
    }
   ],
   "source": [
    "data.head(5)"
   ]
  },
  {
   "cell_type": "markdown",
   "metadata": {
    "id": "1FsCXHwdgFyU"
   },
   "source": [
    "- Посчитайте, какую долю от общего бюджета фильма составляет государственная поддержка."
   ]
  },
  {
   "cell_type": "code",
   "execution_count": 147,
   "metadata": {
    "id": "LV6qFuZLgFyV"
   },
   "outputs": [
    {
     "data": {
      "text/html": [
       "<div>\n",
       "<style scoped>\n",
       "    .dataframe tbody tr th:only-of-type {\n",
       "        vertical-align: middle;\n",
       "    }\n",
       "\n",
       "    .dataframe tbody tr th {\n",
       "        vertical-align: top;\n",
       "    }\n",
       "\n",
       "    .dataframe thead th {\n",
       "        text-align: right;\n",
       "    }\n",
       "</style>\n",
       "<table border=\"1\" class=\"dataframe\">\n",
       "  <thead>\n",
       "    <tr style=\"text-align: right;\">\n",
       "      <th></th>\n",
       "      <th>title</th>\n",
       "      <th>puNumber</th>\n",
       "      <th>show_start_date</th>\n",
       "      <th>type</th>\n",
       "      <th>film_studio</th>\n",
       "      <th>production_country</th>\n",
       "      <th>director</th>\n",
       "      <th>producer</th>\n",
       "      <th>age_restriction</th>\n",
       "      <th>refundable_support</th>\n",
       "      <th>nonrefundable_support</th>\n",
       "      <th>budget</th>\n",
       "      <th>financing_source</th>\n",
       "      <th>ratings</th>\n",
       "      <th>genres</th>\n",
       "      <th>box_office</th>\n",
       "      <th>show_start_year</th>\n",
       "      <th>main_director</th>\n",
       "      <th>main_genre</th>\n",
       "      <th>support</th>\n",
       "    </tr>\n",
       "  </thead>\n",
       "  <tbody>\n",
       "    <tr>\n",
       "      <th>1281</th>\n",
       "      <td>Пока еще жива</td>\n",
       "      <td>111005313</td>\n",
       "      <td>2013-10-11 12:00:00+00:00</td>\n",
       "      <td>Художественный</td>\n",
       "      <td>АНО содействия развитию кинематографии \"Ангел-...</td>\n",
       "      <td>Россия</td>\n",
       "      <td>А.Атанесян</td>\n",
       "      <td>А.Атанесян, М.Бабаханов, Р.Бутко</td>\n",
       "      <td>«16+» - для детей старше 16 лет</td>\n",
       "      <td>0.0</td>\n",
       "      <td>26500000.0</td>\n",
       "      <td>79411900.0</td>\n",
       "      <td>Министерство культуры</td>\n",
       "      <td>8.1</td>\n",
       "      <td>драма,мелодрама</td>\n",
       "      <td>365353.6</td>\n",
       "      <td>2013</td>\n",
       "      <td>А.Атанесян</td>\n",
       "      <td>драма</td>\n",
       "      <td>33.37</td>\n",
       "    </tr>\n",
       "    <tr>\n",
       "      <th>1448</th>\n",
       "      <td>Бесславные придурки</td>\n",
       "      <td>111003314</td>\n",
       "      <td>2014-03-28 12:00:00+00:00</td>\n",
       "      <td>Художественный</td>\n",
       "      <td>ООО \"Компания \"АТК-Студио\"</td>\n",
       "      <td>Россия</td>\n",
       "      <td>А.Якимчук</td>\n",
       "      <td>А.Тютрюмов</td>\n",
       "      <td>«12+» - для детей старше 12 лет</td>\n",
       "      <td>0.0</td>\n",
       "      <td>26000000.0</td>\n",
       "      <td>37142857.0</td>\n",
       "      <td>Министерство культуры</td>\n",
       "      <td>0.0</td>\n",
       "      <td>unknown</td>\n",
       "      <td>28140.0</td>\n",
       "      <td>2014</td>\n",
       "      <td>А.Якимчук</td>\n",
       "      <td>unknown</td>\n",
       "      <td>70.00</td>\n",
       "    </tr>\n",
       "    <tr>\n",
       "      <th>1498</th>\n",
       "      <td>Невидимки</td>\n",
       "      <td>111004213</td>\n",
       "      <td>2013-09-10 12:00:00+00:00</td>\n",
       "      <td>Художественный</td>\n",
       "      <td>ООО \"Компания \"РЕАЛ-ДАКОТА\"</td>\n",
       "      <td>Россия</td>\n",
       "      <td>Р.Давлетьяров, С.Комаров</td>\n",
       "      <td>Р.Давлетьяров, А.Котелевский, А.Олейников</td>\n",
       "      <td>«12+» - для детей старше 12 лет</td>\n",
       "      <td>0.0</td>\n",
       "      <td>107847945.0</td>\n",
       "      <td>176023490.0</td>\n",
       "      <td>Фонд кино</td>\n",
       "      <td>5.3</td>\n",
       "      <td>комедия,фантастика</td>\n",
       "      <td>19957031.5</td>\n",
       "      <td>2013</td>\n",
       "      <td>Р.Давлетьяров</td>\n",
       "      <td>комедия</td>\n",
       "      <td>61.27</td>\n",
       "    </tr>\n",
       "    <tr>\n",
       "      <th>1524</th>\n",
       "      <td>БЕРЦЫ</td>\n",
       "      <td>111004314</td>\n",
       "      <td>2014-05-05 12:00:00+00:00</td>\n",
       "      <td>Художественный</td>\n",
       "      <td>ООО \"Студия \"Пассажир\"</td>\n",
       "      <td>Россия</td>\n",
       "      <td>Е.Миндадзе (псевдоним Катя Шагалова)</td>\n",
       "      <td>Л.Антонова</td>\n",
       "      <td>«16+» - для детей старше 16 лет</td>\n",
       "      <td>0.0</td>\n",
       "      <td>28000000.0</td>\n",
       "      <td>40574140.0</td>\n",
       "      <td>Министерство культуры</td>\n",
       "      <td>4.2</td>\n",
       "      <td>драма</td>\n",
       "      <td>55917.5</td>\n",
       "      <td>2014</td>\n",
       "      <td>Е.Миндадзе (псевдоним Катя Шагалова)</td>\n",
       "      <td>драма</td>\n",
       "      <td>69.01</td>\n",
       "    </tr>\n",
       "    <tr>\n",
       "      <th>1792</th>\n",
       "      <td>Братья Ч</td>\n",
       "      <td>111004414</td>\n",
       "      <td>2014-04-23 12:00:00+00:00</td>\n",
       "      <td>Художественный</td>\n",
       "      <td>ООО \"Студия \"Пассажир\"</td>\n",
       "      <td>Россия</td>\n",
       "      <td>М.Угаров</td>\n",
       "      <td>А.Миндадзе, Л.Антонова</td>\n",
       "      <td>«16+» - для детей старше 16 лет</td>\n",
       "      <td>0.0</td>\n",
       "      <td>25000000.0</td>\n",
       "      <td>40015122.0</td>\n",
       "      <td>Министерство культуры</td>\n",
       "      <td>6.4</td>\n",
       "      <td>драма</td>\n",
       "      <td>232100.0</td>\n",
       "      <td>2014</td>\n",
       "      <td>М.Угаров</td>\n",
       "      <td>драма</td>\n",
       "      <td>62.48</td>\n",
       "    </tr>\n",
       "  </tbody>\n",
       "</table>\n",
       "</div>"
      ],
      "text/plain": [
       "                    title   puNumber           show_start_date  \\\n",
       "1281        Пока еще жива  111005313 2013-10-11 12:00:00+00:00   \n",
       "1448  Бесславные придурки  111003314 2014-03-28 12:00:00+00:00   \n",
       "1498            Невидимки  111004213 2013-09-10 12:00:00+00:00   \n",
       "1524                БЕРЦЫ  111004314 2014-05-05 12:00:00+00:00   \n",
       "1792             Братья Ч  111004414 2014-04-23 12:00:00+00:00   \n",
       "\n",
       "                type                                        film_studio  \\\n",
       "1281  Художественный  АНО содействия развитию кинематографии \"Ангел-...   \n",
       "1448  Художественный                         ООО \"Компания \"АТК-Студио\"   \n",
       "1498  Художественный                        ООО \"Компания \"РЕАЛ-ДАКОТА\"   \n",
       "1524  Художественный                             ООО \"Студия \"Пассажир\"   \n",
       "1792  Художественный                             ООО \"Студия \"Пассажир\"   \n",
       "\n",
       "     production_country                              director  \\\n",
       "1281             Россия                            А.Атанесян   \n",
       "1448             Россия                             А.Якимчук   \n",
       "1498             Россия              Р.Давлетьяров, С.Комаров   \n",
       "1524             Россия  Е.Миндадзе (псевдоним Катя Шагалова)   \n",
       "1792             Россия                              М.Угаров   \n",
       "\n",
       "                                       producer  \\\n",
       "1281           А.Атанесян, М.Бабаханов, Р.Бутко   \n",
       "1448                                 А.Тютрюмов   \n",
       "1498  Р.Давлетьяров, А.Котелевский, А.Олейников   \n",
       "1524                                 Л.Антонова   \n",
       "1792                     А.Миндадзе, Л.Антонова   \n",
       "\n",
       "                      age_restriction  refundable_support  \\\n",
       "1281  «16+» - для детей старше 16 лет                 0.0   \n",
       "1448  «12+» - для детей старше 12 лет                 0.0   \n",
       "1498  «12+» - для детей старше 12 лет                 0.0   \n",
       "1524  «16+» - для детей старше 16 лет                 0.0   \n",
       "1792  «16+» - для детей старше 16 лет                 0.0   \n",
       "\n",
       "      nonrefundable_support       budget       financing_source  ratings  \\\n",
       "1281             26500000.0   79411900.0  Министерство культуры      8.1   \n",
       "1448             26000000.0   37142857.0  Министерство культуры      0.0   \n",
       "1498            107847945.0  176023490.0              Фонд кино      5.3   \n",
       "1524             28000000.0   40574140.0  Министерство культуры      4.2   \n",
       "1792             25000000.0   40015122.0  Министерство культуры      6.4   \n",
       "\n",
       "                  genres  box_office  show_start_year  \\\n",
       "1281     драма,мелодрама    365353.6             2013   \n",
       "1448             unknown     28140.0             2014   \n",
       "1498  комедия,фантастика  19957031.5             2013   \n",
       "1524               драма     55917.5             2014   \n",
       "1792               драма    232100.0             2014   \n",
       "\n",
       "                             main_director main_genre  support  \n",
       "1281                            А.Атанесян      драма    33.37  \n",
       "1448                             А.Якимчук    unknown    70.00  \n",
       "1498                         Р.Давлетьяров    комедия    61.27  \n",
       "1524  Е.Миндадзе (псевдоним Катя Шагалова)      драма    69.01  \n",
       "1792                              М.Угаров      драма    62.48  "
      ]
     },
     "execution_count": 147,
     "metadata": {},
     "output_type": "execute_result"
    }
   ],
   "source": [
    "data['support'] = round(((data['refundable_support'] + data['nonrefundable_support']) / data['budget']) * 100, 2).fillna(value=0)\n",
    "data.query('support > 0').head(5)"
   ]
  },
  {
   "cell_type": "markdown",
   "metadata": {},
   "source": [
    "Было добавлено 3 новых поля - _main_director, main_genre, support_"
   ]
  },
  {
   "cell_type": "markdown",
   "metadata": {},
   "source": [
    "**Вывод:** \n",
    "    \n",
    "   - Были найдены поля для приведения к типу даты - show_start_date. Для приведения к типу float - ratings. Также, так как рейтинг фильмов принято рассчитывать от 0 до 10, то поля с показателями выше были преобразованы.\n",
    "   - Были найдены и заполнены пропуски в полях - _film_studio, production_country, financing_source, genres, refundable_support, nonrefundable_support, budget, box_office_. Поля с типом строк были заполнены значением 'unknown', а поля с численными типами были заполнены значением 0(так как если они были, то составляли большую часть от всех данных). Также были удалены пропуски из полей - _director, producer_, так как они составляют малую долю от всех данных.\n",
    "   - Явных дубликатов найдено не было. Поле _puNumber_ принято уникальным, так как является удостоверением кино и не может повторяться. По этому полю было найдено 2 дубликата и принято их удалить, так как 2 значения никак не повлияют на дальнейший анализ данных.\n",
    "   - Основная проблема в категориальных данных заключалась в лишних пробелах, после удаления которых, данные приводились к нужной категории. Тем не менее было найдено 22 значения поля _financing_source_ со значением **'Министерство культуры, Фонд кино'**. Действительно финансировать фильм могли сразу два ведомства, но для дальнейшего анализа такое количество значений могут только помешать в виде выбросов или прочих аномалий, что спутает выводы. Следовательно такие значения решено было убрать из данных без вреда для общей картины.\n",
    "   - В количественных значениях было найдено 16 подозрительных значений, где бюджет фильма был меньше, чем выделенные на него средства, что невозможно. Так как таких строк всего 16, то их можно безболезненно удалить, что и было предпринято.\n",
    "   \n",
    "    И были добавлены новые поля:\n",
    "   - show_start_year - с информацией о годе проката\n",
    "   - main_director - с именем и фамилией главного режиссёра\n",
    "   - main_genre - с основным жанром фильма\n",
    "   - support - какую долю от общего бюджета фильма составляет государственная поддержка"
   ]
  },
  {
   "cell_type": "markdown",
   "metadata": {
    "id": "6t4EukPLgFyV"
   },
   "source": [
    "### Шаг 3. Проведите исследовательский анализ данных\n"
   ]
  },
  {
   "cell_type": "markdown",
   "metadata": {
    "id": "vAH8WCzugFyV"
   },
   "source": [
    "- Посмотрите, сколько фильмов выходило в прокат каждый год. Обратите внимание, что данные о прокате в кинотеатрах известны не для всех фильмов. Посчитайте, какую долю составляют фильмы с указанной информацией о прокате в кинотеатрах. Проанализируйте, как эта доля менялась по годам. Сделайте вывод о том, какой период полнее всего представлен в данных."
   ]
  },
  {
   "cell_type": "code",
   "execution_count": 149,
   "metadata": {
    "id": "ABeV47y7gFyW"
   },
   "outputs": [
    {
     "data": {
      "image/png": "[encoded data removed]",
      "text/plain": [
       "<Figure size 720x360 with 1 Axes>"
      ]
     },
     "metadata": {
      "needs_background": "light"
     },
     "output_type": "display_data"
    }
   ],
   "source": [
    "data.query('box_office > 0').pivot_table(index='show_start_year', values='box_office', aggfunc=['count']).plot(kind='bar', y='count', figsize=(10, 5), grid=True)\n",
    "plt.title('Количество ежегодного проката')\n",
    "plt.ylabel('Количество фильмов')\n",
    "plt.xlabel('Год выхода')\n",
    "plt.show()"
   ]
  },
  {
   "cell_type": "code",
   "execution_count": 150,
   "metadata": {},
   "outputs": [
    {
     "data": {
      "text/plain": [
       "43.4"
      ]
     },
     "execution_count": 150,
     "metadata": {},
     "output_type": "execute_result"
    }
   ],
   "source": [
    "round(data.query('box_office > 0')['box_office'].count() / data['box_office'].count() * 100, 2)"
   ]
  },
  {
   "cell_type": "markdown",
   "metadata": {},
   "source": [
    "**Вывод:** Доля фильмов показанных в кинотеатрах составляет 43.41 процентов от общего количества. Начиная с 2014 был заметен рост количества фильмов, которые были показаны в кинотеатре. Больше всего фильмов было показано в 2016 году, затем наблюдается спад и снова плавный рост к 2019му году."
   ]
  },
  {
   "cell_type": "markdown",
   "metadata": {
    "id": "BEOdcIrIgFyW"
   },
   "source": [
    "- Изучите, как менялась динамика проката по годам. В каком году сумма сборов была минимальной? А максимальной?"
   ]
  },
  {
   "cell_type": "code",
   "execution_count": 151,
   "metadata": {
    "id": "tfEhofYvgFyX"
   },
   "outputs": [
    {
     "data": {
      "image/png": "[encoded data removed]",
      "text/plain": [
       "<Figure size 720x360 with 1 Axes>"
      ]
     },
     "metadata": {
      "needs_background": "light"
     },
     "output_type": "display_data"
    }
   ],
   "source": [
    "data.query('box_office > 0').pivot_table(index='show_start_year', values='box_office', aggfunc=['sum']).plot(kind='bar', y='sum', figsize=(10, 5), grid=True)\n",
    "plt.title('Годовая динамика проката')\n",
    "plt.ylabel('Общая сумма сборов')\n",
    "plt.xlabel('Год выхода')\n",
    "plt.show()"
   ]
  },
  {
   "cell_type": "markdown",
   "metadata": {},
   "source": [
    "**Вывод:** Сумма сборов резко увеличилась начиная с 2015 года. Такой рост можно связать с количеством показанных фильмов. Тем не менее, последующий спад не отразился на сборах. Минимальная сумма сборов была в 2014 году, максимальная в 2018."
   ]
  },
  {
   "cell_type": "markdown",
   "metadata": {
    "id": "G-7qS-N-gFyY"
   },
   "source": [
    "- С помощью сводной таблицы посчитайте среднюю и медианную сумму сборов для каждого года."
   ]
  },
  {
   "cell_type": "code",
   "execution_count": 152,
   "metadata": {
    "id": "jmp-rgg9gFyY"
   },
   "outputs": [
    {
     "data": {
      "text/html": [
       "<div>\n",
       "<style scoped>\n",
       "    .dataframe tbody tr th:only-of-type {\n",
       "        vertical-align: middle;\n",
       "    }\n",
       "\n",
       "    .dataframe tbody tr th {\n",
       "        vertical-align: top;\n",
       "    }\n",
       "\n",
       "    .dataframe thead th {\n",
       "        text-align: right;\n",
       "    }\n",
       "</style>\n",
       "<table border=\"1\" class=\"dataframe\">\n",
       "  <thead>\n",
       "    <tr style=\"text-align: right;\">\n",
       "      <th></th>\n",
       "      <th>Среднее</th>\n",
       "      <th>Медиана</th>\n",
       "    </tr>\n",
       "    <tr>\n",
       "      <th>show_start_year</th>\n",
       "      <th></th>\n",
       "      <th></th>\n",
       "    </tr>\n",
       "  </thead>\n",
       "  <tbody>\n",
       "    <tr>\n",
       "      <th>2010</th>\n",
       "      <td>2.425499e+04</td>\n",
       "      <td>1705.000</td>\n",
       "    </tr>\n",
       "    <tr>\n",
       "      <th>2011</th>\n",
       "      <td>1.317376e+05</td>\n",
       "      <td>3000.000</td>\n",
       "    </tr>\n",
       "    <tr>\n",
       "      <th>2012</th>\n",
       "      <td>5.745244e+04</td>\n",
       "      <td>6110.000</td>\n",
       "    </tr>\n",
       "    <tr>\n",
       "      <th>2013</th>\n",
       "      <td>1.956263e+05</td>\n",
       "      <td>4827.000</td>\n",
       "    </tr>\n",
       "    <tr>\n",
       "      <th>2014</th>\n",
       "      <td>3.148501e+07</td>\n",
       "      <td>76360.000</td>\n",
       "    </tr>\n",
       "    <tr>\n",
       "      <th>2015</th>\n",
       "      <td>8.701268e+07</td>\n",
       "      <td>5244391.500</td>\n",
       "    </tr>\n",
       "    <tr>\n",
       "      <th>2016</th>\n",
       "      <td>9.175475e+07</td>\n",
       "      <td>4002836.250</td>\n",
       "    </tr>\n",
       "    <tr>\n",
       "      <th>2017</th>\n",
       "      <td>1.376251e+08</td>\n",
       "      <td>9943877.500</td>\n",
       "    </tr>\n",
       "    <tr>\n",
       "      <th>2018</th>\n",
       "      <td>1.060299e+08</td>\n",
       "      <td>8821498.980</td>\n",
       "    </tr>\n",
       "    <tr>\n",
       "      <th>2019</th>\n",
       "      <td>9.366043e+07</td>\n",
       "      <td>4627798.345</td>\n",
       "    </tr>\n",
       "  </tbody>\n",
       "</table>\n",
       "</div>"
      ],
      "text/plain": [
       "                      Среднее      Медиана\n",
       "show_start_year                           \n",
       "2010             2.425499e+04     1705.000\n",
       "2011             1.317376e+05     3000.000\n",
       "2012             5.745244e+04     6110.000\n",
       "2013             1.956263e+05     4827.000\n",
       "2014             3.148501e+07    76360.000\n",
       "2015             8.701268e+07  5244391.500\n",
       "2016             9.175475e+07  4002836.250\n",
       "2017             1.376251e+08  9943877.500\n",
       "2018             1.060299e+08  8821498.980\n",
       "2019             9.366043e+07  4627798.345"
      ]
     },
     "execution_count": 152,
     "metadata": {},
     "output_type": "execute_result"
    }
   ],
   "source": [
    "pivot_table = data.query('box_office > 0').pivot_table(index='show_start_year', values='box_office', aggfunc=['mean', 'median'])\n",
    "pivot_table.columns = ['Среднее', 'Медиана']\n",
    "pivot_table"
   ]
  },
  {
   "cell_type": "markdown",
   "metadata": {
    "id": "Ok89WFwJgFyZ"
   },
   "source": [
    "- Определите, влияет ли возрастное ограничение аудитории («6+», «12+», «16+», «18+» и т. д.) на сборы фильма в прокате в период с 2015 по 2019 год? Фильмы с каким возрастным ограничением собрали больше всего денег в прокате? Меняется ли картина в зависимости от года? Если да, предположите, с чем это может быть связано."
   ]
  },
  {
   "cell_type": "code",
   "execution_count": 153,
   "metadata": {
    "id": "jsSbEqfjgFya"
   },
   "outputs": [
    {
     "data": {
      "image/png": "[encoded data removed]",
      "text/plain": [
       "<Figure size 936x864 with 1 Axes>"
      ]
     },
     "metadata": {
      "needs_background": "light"
     },
     "output_type": "display_data"
    }
   ],
   "source": [
    "ages_pivot = data.query('box_office > 0 and show_start_year >= 2015').pivot_table(index='show_start_year', columns='age_restriction', values='box_office', aggfunc=['sum'])\n",
    "ages_pivot.columns = ['0+', '12+', '16+', '18+', '6+']\n",
    "ages_pivot.plot(kind='bar', figsize=(13, 12), grid=True)\n",
    "plt.title('Влияние возрастного ограничения на прокат')\n",
    "plt.ylabel('Общая сумма сборов')\n",
    "plt.xlabel('Год выхода')\n",
    "plt.show()"
   ]
  },
  {
   "cell_type": "code",
   "execution_count": 154,
   "metadata": {},
   "outputs": [
    {
     "data": {
      "text/plain": [
       "0+       809,073,985.970\n",
       "12+   58,446,857,225.420\n",
       "16+   75,029,022,295.860\n",
       "18+   40,732,563,969.530\n",
       "6+    55,140,743,120.700\n",
       "dtype: float64"
      ]
     },
     "execution_count": 154,
     "metadata": {},
     "output_type": "execute_result"
    }
   ],
   "source": [
    "pd.options.display.float_format ='{:,.3f}'.format\n",
    "round(ages_pivot.sum(), 2)"
   ]
  },
  {
   "cell_type": "markdown",
   "metadata": {},
   "source": [
    "**Вывод:** В 2015 году наибольшую прибыль показали фильмы с рейтингом 12+. В последующие же 3 года самыми прибыльными являлись фильмы с  рейтингом 16+. Самые низкие показатели у фильмов с рейтингом 0+. В 2019 году картина выровнилась и все рейтинги стали примерно равны, кроме рейтинга 18+. В период с 2016 по 2018 год рейтинг 16+ уверенно держал лидерство по сравнению с другими рейтингами. Наиболее нестабильные показатели у фильмов 12+ из года в год. Возможные причины изменения суммы сборов от года в год - трендовые изменения, либо перенасыщение рынка определенной категорией. Тем не менее фильмы с рейтингом 16+ самый надежный рейтинг для стабильного показа в кино, однако в 2019 году показатели сравнялись. Самый невостребованный показатель у рейтинга 0+, вероятно люди реже ходят в кино с детьми, чем без них и предпочитают показывать такие фильмы детям дома."
   ]
  },
  {
   "cell_type": "markdown",
   "metadata": {
    "id": "l_Kg6Ku4gFya"
   },
   "source": [
    "### Шаг 4. Исследуйте фильмы, которые получили государственную поддержку\n",
    "\n",
    "На этом этапе нет конкретных инструкций и заданий — поищите интересные закономерности в данных. Посмотрите, сколько выделяют средств на поддержку кино. Проверьте, хорошо ли окупаются такие фильмы, какой у них рейтинг."
   ]
  },
  {
   "cell_type": "code",
   "execution_count": 155,
   "metadata": {
    "id": "W9QKpjUdgFyb"
   },
   "outputs": [
    {
     "data": {
      "text/plain": [
       "292"
      ]
     },
     "execution_count": 155,
     "metadata": {},
     "output_type": "execute_result"
    }
   ],
   "source": [
    "gov_data = data.query('financing_source != \"Частное\"')\n",
    "gov_data.count()['title']"
   ]
  },
  {
   "cell_type": "code",
   "execution_count": 156,
   "metadata": {},
   "outputs": [
    {
     "data": {
      "text/plain": [
       "131150357.53318495"
      ]
     },
     "execution_count": 156,
     "metadata": {},
     "output_type": "execute_result"
    }
   ],
   "source": [
    "gov_data['box_office'].mean()"
   ]
  },
  {
   "cell_type": "code",
   "execution_count": 157,
   "metadata": {},
   "outputs": [
    {
     "data": {
      "text/plain": [
       "11480734.55"
      ]
     },
     "execution_count": 157,
     "metadata": {},
     "output_type": "execute_result"
    }
   ],
   "source": [
    "gov_data['box_office'].median()"
   ]
  },
  {
   "cell_type": "code",
   "execution_count": 158,
   "metadata": {},
   "outputs": [
    {
     "data": {
      "text/plain": [
       "38295904399.69"
      ]
     },
     "execution_count": 158,
     "metadata": {},
     "output_type": "execute_result"
    }
   ],
   "source": [
    "gov_data['box_office'].sum()"
   ]
  },
  {
   "cell_type": "code",
   "execution_count": 159,
   "metadata": {},
   "outputs": [
    {
     "data": {
      "text/plain": [
       "0.0"
      ]
     },
     "execution_count": 159,
     "metadata": {},
     "output_type": "execute_result"
    }
   ],
   "source": [
    "gov_data['box_office'].min()"
   ]
  },
  {
   "cell_type": "code",
   "execution_count": 160,
   "metadata": {},
   "outputs": [
    {
     "data": {
      "text/plain": [
       "3073568690.79"
      ]
     },
     "execution_count": 160,
     "metadata": {},
     "output_type": "execute_result"
    }
   ],
   "source": [
    "gov_data['box_office'].max()"
   ]
  },
  {
   "cell_type": "code",
   "execution_count": 164,
   "metadata": {},
   "outputs": [
    {
     "data": {
      "text/plain": [
       "Text(0.5, 1.0, 'Гистограмма государственных сборов фильмов')"
      ]
     },
     "execution_count": 164,
     "metadata": {},
     "output_type": "execute_result"
    },
    {
     "data": {
      "image/png": "[encoded data removed]",
      "text/plain": [
       "<Figure size 432x288 with 1 Axes>"
      ]
     },
     "metadata": {
      "needs_background": "light"
     },
     "output_type": "display_data"
    }
   ],
   "source": [
    "gov_data['box_office'].hist(bins=15)\n",
    "plt.title('Гистограмма государственных сборов фильмов')"
   ]
  },
  {
   "cell_type": "code",
   "execution_count": 165,
   "metadata": {},
   "outputs": [
    {
     "data": {
      "image/png": "[encoded data removed]",
      "text/plain": [
       "<Figure size 1080x504 with 1 Axes>"
      ]
     },
     "metadata": {
      "needs_background": "light"
     },
     "output_type": "display_data"
    }
   ],
   "source": [
    "year_pivot = gov_data.pivot_table(index='show_start_year', columns='financing_source', values='box_office', aggfunc=['sum'])\n",
    "year_pivot.columns = ['Министерство культуры', 'Фонд кино']\n",
    "year_pivot.plot(kind='bar', figsize=(15, 7), grid=True)\n",
    "plt.title('Годовая сумма сборов по финансирующим фондам')\n",
    "plt.ylabel('Общая сумма сборов')\n",
    "plt.xlabel('Год выхода')\n",
    "plt.show()"
   ]
  },
  {
   "cell_type": "markdown",
   "metadata": {},
   "source": [
    "\"Фонд кино\" ежегодно лидирует по сборам перед \"Министерство культуры\"."
   ]
  },
  {
   "cell_type": "code",
   "execution_count": 167,
   "metadata": {},
   "outputs": [
    {
     "data": {
      "image/png": "[encoded data removed]",
      "text/plain": [
       "<Figure size 1080x504 with 1 Axes>"
      ]
     },
     "metadata": {
      "needs_background": "light"
     },
     "output_type": "display_data"
    }
   ],
   "source": [
    "type_pivot = gov_data.pivot_table(index='type', columns='financing_source', values='box_office', aggfunc=['sum'])\n",
    "type_pivot.columns = ['Министерство культуры', 'Фонд кино']\n",
    "type_pivot.plot(kind='bar', figsize=(15, 7), grid=True)\n",
    "plt.title('Сборы по типам фильмов')\n",
    "plt.ylabel('Общая сумма сборов')\n",
    "plt.xlabel('Год выхода')\n",
    "plt.show()"
   ]
  },
  {
   "cell_type": "markdown",
   "metadata": {},
   "source": [
    "Самые прибыльные типы фильмов для обоих ведомств - \"Художественные\"."
   ]
  },
  {
   "cell_type": "code",
   "execution_count": 168,
   "metadata": {},
   "outputs": [
    {
     "name": "stdout",
     "output_type": "stream",
     "text": [
      "146\n"
     ]
    }
   ],
   "source": [
    "median = gov_data['box_office'].median()\n",
    "print(gov_data.query('box_office < @median').count()['title'])"
   ]
  },
  {
   "cell_type": "code",
   "execution_count": 169,
   "metadata": {},
   "outputs": [
    {
     "data": {
      "image/png": "[encoded data removed]",
      "text/plain": [
       "<Figure size 1080x504 with 1 Axes>"
      ]
     },
     "metadata": {
      "needs_background": "light"
     },
     "output_type": "display_data"
    }
   ],
   "source": [
    "age_pivot = gov_data.pivot_table(index='age_restriction', columns='financing_source', values='box_office', aggfunc=['sum'])\n",
    "age_pivot.columns = ['Министерство культуры', 'Фонд кино']\n",
    "age_pivot.plot(kind='bar', figsize=(15, 7), grid=True)\n",
    "plt.title('Возрастные ограничения по фондам')\n",
    "plt.ylabel('Общая сумма сборов')\n",
    "plt.xlabel('Год выхода')\n",
    "plt.show()"
   ]
  },
  {
   "cell_type": "markdown",
   "metadata": {},
   "source": [
    "\"Фонд кино\" имеет лучшие сборы по рейтингу 12+ и 6+, тем временем как \"Министерство культуры\" имеет лучшие сборы по 16+."
   ]
  },
  {
   "cell_type": "code",
   "execution_count": 170,
   "metadata": {},
   "outputs": [
    {
     "data": {
      "image/png": "[encoded data removed]",
      "text/plain": [
       "<Figure size 1080x504 with 1 Axes>"
      ]
     },
     "metadata": {
      "needs_background": "light"
     },
     "output_type": "display_data"
    }
   ],
   "source": [
    "count_pivot = gov_data.pivot_table(index='show_start_year', columns='financing_source', values='box_office', aggfunc=['count'])\n",
    "count_pivot.columns = ['Министерство культуры', 'Фонд кино']\n",
    "count_pivot.plot(kind='bar', figsize=(15, 7), grid=True)\n",
    "plt.title('Ежегодное количество фильмов')\n",
    "plt.ylabel('Количество фильмов')\n",
    "plt.xlabel('Год выхода')\n",
    "plt.show()"
   ]
  },
  {
   "cell_type": "markdown",
   "metadata": {},
   "source": [
    "По количеству фильмов \"Фонд кино\" с 2015 года выпускает примерно одинаковое количество фильмов, в то время как \"Министерство культуры\" выпустило фильмы волнами и наибольшее количество пришлось на 2015 год и 2019."
   ]
  },
  {
   "cell_type": "code",
   "execution_count": 171,
   "metadata": {},
   "outputs": [
    {
     "data": {
      "image/png": "[encoded data removed]",
      "text/plain": [
       "<Figure size 1080x504 with 1 Axes>"
      ]
     },
     "metadata": {
      "needs_background": "light"
     },
     "output_type": "display_data"
    }
   ],
   "source": [
    "profit_data = (\n",
    "    gov_data.query('budget > box_office and box_office > 0').\n",
    "        pivot_table(index='show_start_year', columns='financing_source', values='budget', aggfunc=['count'])\n",
    ")\n",
    "profit_data.columns = ['Министерство культуры', 'Фонд кино']\n",
    "profit_data.plot(kind='bar', figsize=(15, 7), grid=True)\n",
    "plt.title('Ежегодный показатель прибыльных фильмов')\n",
    "plt.ylabel('Количество прибыльных фильмов')\n",
    "plt.xlabel('Год выхода')\n",
    "plt.show()"
   ]
  },
  {
   "cell_type": "markdown",
   "metadata": {},
   "source": [
    "\"Министерство культуры\" имеет больше всего прибыльных фильмов из года в год. В 2015 году был скачок прибыльных фильмов, который связан с увеличенным общим числом."
   ]
  },
  {
   "cell_type": "code",
   "execution_count": 172,
   "metadata": {},
   "outputs": [
    {
     "data": {
      "image/png": "[encoded data removed]",
      "text/plain": [
       "<Figure size 1080x504 with 1 Axes>"
      ]
     },
     "metadata": {
      "needs_background": "light"
     },
     "output_type": "display_data"
    }
   ],
   "source": [
    "not_profit_data = (\n",
    "    gov_data.query('budget < box_office and box_office > 0').\n",
    "        pivot_table(index='show_start_year', columns='financing_source', values='budget', aggfunc=['count'])\n",
    ")\n",
    "not_profit_data.columns = ['Министерство культуры', 'Фонд кино']\n",
    "not_profit_data.plot(kind='bar', figsize=(15, 7), grid=True)\n",
    "plt.title('Убыточный показатель фильмов')\n",
    "plt.ylabel('Количество убыточных фильмов')\n",
    "plt.xlabel('Год выхода')\n",
    "plt.show()"
   ]
  },
  {
   "cell_type": "markdown",
   "metadata": {},
   "source": [
    "\"Фонд кино\" имеет больше убыточных фильмов по сравнению с \"Министерство культуры\", максимально 12 в 2017 году."
   ]
  },
  {
   "cell_type": "code",
   "execution_count": 173,
   "metadata": {},
   "outputs": [
    {
     "data": {
      "image/png": "[encoded data removed]",
      "text/plain": [
       "<Figure size 1080x504 with 1 Axes>"
      ]
     },
     "metadata": {
      "needs_background": "light"
     },
     "output_type": "display_data"
    }
   ],
   "source": [
    "rating_pivot = gov_data.query('ratings > 7').pivot_table(index='main_genre', columns='financing_source', values='ratings', aggfunc=['count'])\n",
    "rating_pivot.columns = ['Министерство культуры', 'Фонд кино']\n",
    "rating_pivot.plot(kind='bar', figsize=(15, 7), grid=True)\n",
    "plt.title('Положительный рейтинг жанров')\n",
    "plt.ylabel('Количество фильмов с хорошим рейтингом')\n",
    "plt.xlabel('Жанр')\n",
    "plt.show()"
   ]
  },
  {
   "cell_type": "markdown",
   "metadata": {},
   "source": [
    "**Вывод:** \n",
    "- По сборам больше всего было фильмов до 250 тысяч, то есть крупные сборы - редкое явление. _\"Фонд кино\"_ ежегодно лидирует по сборам перед _\"Министерство культуры\"_. Самые прибыльные типы фильмов для обоих ведомств - _\"Художественные\"_. \n",
    "- _\"Фонд кино\"_ имеет лучшие сборы по рейтингу 12+ и 6+, тем временем как _\"Министерство культуры\"_ имеет лучшие сборы по 16+.\n",
    "- По количеству фильмов \"Фонд кино\" с 2015 года выпускает примерно одинаковое количество фильмов, в то время как _\"Министерство культуры\"_ выпустило фильмы волнами и наибольшее количество пришлось на 2015 год и 2019. \n",
    "- _\"Министерство культуры\"_ имеет больше всего прибыльных фильмов из года в год. В 2015 году был скачок прибыльных фильмов, который связан с увеличенным общим числом.\n",
    "- _\"Фонд кино\"_ имеет больше убыточных фильмов по сравнению с _\"Министерство культуры\"_, максимально 12 в 2017 году.\n",
    "- Оценивая рейтинги, посчитаем, что рейтинг выше 7 является лучшим - самые лучшие фильмы в жанре \"драма\" для обоих ведомств. Тем не менее _\"Министерство культуры\"_ успеешнее спонсирует фильмы жанра _\"фантастика\"_ и _\"фэнтези\"_. Но мультфильмы лидируют у _\"Фонд кино\"_.\n",
    "\n",
    "_Можно сказать, что оба ведомства финансируют, преимущественно, разные фильмы по жанрам и возрастному рейтингу. В разрезе спонсируемых государственными ведомствами фильмов можно сказать, что художественные фильмы являются самыми выгодными для финансирования. Так же ведомство \"Министерство культуры\" \"Фонд кино\" по сравнению с \"Фонд кино\" является наиболее успешным по количеству прибыльных фильмов._"
   ]
  },
  {
   "cell_type": "markdown",
   "metadata": {
    "id": "V2gYwMcPgFyd"
   },
   "source": [
    "### Шаг 5. Напишите общий вывод"
   ]
  },
  {
   "cell_type": "markdown",
   "metadata": {
    "id": "AYRg3dzXgFye"
   },
   "source": [
    "В процессе исследования рынка российского кинопроката были выполнены следующие этапы и сделаны выводы:\n",
    "\n",
    "**Изучили общую информацию о данных**\n",
    "\n",
    "    Чтобы объединить таблицы по столбцу puNumber, пришлось привести одну строку к типу numeric(int64) и вторую удалить из-за отсутствия значения(номер удостоверения не может быть пустым) в таблице movies. В таблице shows данных найдено не было. В результате получилась таблица с 7485 записями.\n",
    "\n",
    "**Выполнена предобработка данных**\n",
    "\n",
    "   - Были найдены поля для приведения к типу даты - show_start_date. Для приведения к типу float - ratings. Также, так как рейтинг фильмов принято рассчитывать от 0 до 10, то поля с показателями выше были преобразованы.\n",
    "   - Были найдены и заполнены пропуски в полях - _film_studio, production_country, financing_source, genres, refundable_support, nonrefundable_support, budget, box_office_. Поля с типом строк были заполнены значением 'unknown', а поля с численными типами были заполнены значением 0(так как если они были, то составляли большую часть от всех данных). Также были удалены пропуски из полей - _director, producer_, так как они составляют малую долю от всех данных.\n",
    "   - Явных дубликатов найдено не было. Поле _puNumber_ принято уникальным, так как является удостоверением кино и не может повторяться. По этому полю было найдено 2 дубликата и принято их удалить, так как 2 значения никак не повлияют на дальнейший анализ данных.\n",
    "   - Основная проблема в категориальных данных заключалась в лишних пробелах, после удаления которых, данные приводились к нужной категории. Тем не менее было найдено 22 значения поля _financing_source_ со значением **'Министерство культуры, Фонд кино'**. Действительно финансировать фильм могли сразу два ведомства, но для дальнейшего анализа такое количество значений могут только помешать в виде выбросов или прочих аномалий, что спутает выводы. Следовательно такие значения решено было убрать из данных без вреда для общей картины.\n",
    "   - В количественных значениях было найдено 16 подозрительных значений, где бюджет фильма был меньше, чем выделенные на него средства, что невозможно. Так как таких строк всего 16, то их можно безболезненно удалить, что и было предпринято.\n",
    "   \n",
    "**Добавлены новые столбцы в таблицу**\n",
    "\n",
    "   - show_start_year - с информацией о годе проката\n",
    "   - main_director - с именем и фамилией главного режиссёра\n",
    "   - main_genre - с основным жанром фильма\n",
    "   - support - какую долю от общего бюджета фильма составляет государственная поддержка\n",
    " \n",
    "**Проведен исследовательский анализ данных**\n",
    "\n",
    "    Сумма сборов резко увеличилась начиная с 2015 года. Такой рост можно связать с количеством показанных фильмов. Тем не менее, последующий спад не отразился на сборах. Минимальная сумма сборов была в 2014 году, максимальная в 2018.\n",
    "    \n",
    "    В 2015 году наибольшую прибыль показали фильмы с рейтингом 12+. В последующие же 3 года самыми прибыльными являлись фильмы с рейтингом 16+. Самые низкие показатели у фильмов с рейтингом 0+. В 2019 году картина выровнилась и все рейтинги стали примерно равны, кроме рейтинга 18+. В период с 2016 по 2018 год рейтинг 16+ уверенно держал лидерство по сравнению с другими рейтингами. Наиболее нестабильные показатели у фильмов 12+ из года в год. Возможные причины изменения суммы сборов от года в год - трендовые изменения, либо перенасыщение рынка определенной категорией. Тем не менее фильмы с рейтингом 16+ самый надежный рейтинг для стабильного показа в кино, однако в 2019 году показатели сравнялись. Самый невостребованный показатель у рейтинга 0+, вероятно люди реже ходят в кино с детьми, чем без них и предпочитают показывать такие фильмы детям дома.\n",
    "    \n",
    "**Проведен исследовательский анализ данных с государственной поддержкой**\n",
    "\n",
    "   - По сборам больше всего было фильмов до 250 тысяч, то есть крупные сборы - редкое явление. _\"Фонд кино\"_ ежегодно лидирует по сборам перед _\"Министерство культуры\"_. Самые прибыльные типы фильмов для обоих ведомств - _\"Художественные\"_. \n",
    "   - _\"Фонд кино\"_ имеет лучшие сборы по рейтингу 12+ и 6+, тем временем как _\"Министерство культуры\"_ имеет лучшие сборы по 16+.\n",
    "   - По количеству фильмов \"Фонд кино\" с 2015 года выпускает примерно одинаковое количество фильмов, в то время как _\"Министерство культуры\"_ выпустило фильмы волнами и наибольшее количество пришлось на 2015 год и 2019. \n",
    "   - _\"Министерство культуры\"_ имеет больше всего прибыльных фильмов из года в год. В 2015 году был скачок прибыльных фильмов, который связан с увеличенным общим числом.\n",
    "   - _\"Фонд кино\"_ имеет больше убыточных фильмов по сравнению с _\"Министерство культуры\"_, максимально 12 в 2017 году.\n",
    "   - Оценивая рейтинги, посчитаем, что рейтинг выше 7 является лучшим - самые лучшие фильмы в жанре \"драма\" для обоих ведомств. Тем не менее _\"Министерство культуры\"_ успеешнее спонсирует фильмы жанра _\"фантастика\"_ и _\"фэнтези\"_. Но мультфильмы лидируют у _\"Фонд кино\"_.\n",
    "\n",
    "_Можно сказать, что оба ведомства финансируют, преимущественно, разные фильмы по жанрам и возрастному рейтингу. В разрезе спонсируемых государственными ведомствами фильмов можно сказать, что художественные фильмы являются самыми выгодными для финансирования. Так же ведомство \"Министерство культуры\" \"Фонд кино\" по сравнению с \"Фонд кино\" является наиболее успешным по количеству прибыльных фильмов._"
   ]
  }
 ],
 "metadata": {
  "ExecuteTimeLog": [
   {
    "duration": 537,
    "start_time": "2021-07-07T10:12:08.634Z"
   },
   {
    "duration": 206,
    "start_time": "2021-07-07T10:12:30.191Z"
   },
   {
    "duration": 227,
    "start_time": "2021-07-07T10:12:33.078Z"
   },
   {
    "duration": 153,
    "start_time": "2021-07-07T10:13:42.146Z"
   },
   {
    "duration": 233,
    "start_time": "2021-07-07T10:30:09.252Z"
   },
   {
    "duration": 19,
    "start_time": "2021-07-07T10:30:15.577Z"
   },
   {
    "duration": 18,
    "start_time": "2021-07-07T10:30:57.348Z"
   },
   {
    "duration": 19,
    "start_time": "2021-07-07T10:31:17.452Z"
   },
   {
    "duration": 21,
    "start_time": "2021-07-07T10:31:32.227Z"
   },
   {
    "duration": 27,
    "start_time": "2021-07-07T10:32:06.588Z"
   },
   {
    "duration": 23,
    "start_time": "2021-07-07T10:32:43.645Z"
   },
   {
    "duration": 24,
    "start_time": "2021-07-07T10:33:06.948Z"
   },
   {
    "duration": 7,
    "start_time": "2021-07-07T10:33:28.558Z"
   },
   {
    "duration": 23,
    "start_time": "2021-07-07T10:33:43.761Z"
   },
   {
    "duration": 28,
    "start_time": "2021-07-07T10:34:13.466Z"
   },
   {
    "duration": 23,
    "start_time": "2021-07-07T10:35:56.187Z"
   },
   {
    "duration": 6,
    "start_time": "2021-07-07T10:36:48.182Z"
   },
   {
    "duration": 14,
    "start_time": "2021-07-07T10:37:49.641Z"
   },
   {
    "duration": 6,
    "start_time": "2021-07-07T10:38:06.694Z"
   },
   {
    "duration": 6,
    "start_time": "2021-07-07T10:38:13.493Z"
   },
   {
    "duration": 19,
    "start_time": "2021-07-07T10:38:44.056Z"
   },
   {
    "duration": 186,
    "start_time": "2021-07-07T10:48:35.618Z"
   },
   {
    "duration": 24,
    "start_time": "2021-07-07T10:48:51.498Z"
   },
   {
    "duration": 20,
    "start_time": "2021-07-07T10:48:59.415Z"
   },
   {
    "duration": 20,
    "start_time": "2021-07-07T10:53:02.195Z"
   },
   {
    "duration": 188,
    "start_time": "2021-07-07T10:54:40.486Z"
   },
   {
    "duration": 115,
    "start_time": "2021-07-07T10:54:52.552Z"
   },
   {
    "duration": 214,
    "start_time": "2021-07-07T10:54:56.354Z"
   },
   {
    "duration": 47,
    "start_time": "2021-07-07T10:54:58.282Z"
   },
   {
    "duration": 217,
    "start_time": "2021-07-07T10:59:16.075Z"
   },
   {
    "duration": 51,
    "start_time": "2021-07-07T10:59:16.243Z"
   },
   {
    "duration": 578,
    "start_time": "2021-07-07T10:59:18.774Z"
   },
   {
    "duration": 161,
    "start_time": "2021-07-07T10:59:21.238Z"
   },
   {
    "duration": 59,
    "start_time": "2021-07-07T10:59:21.453Z"
   },
   {
    "duration": 3,
    "start_time": "2021-07-07T11:02:10.786Z"
   },
   {
    "duration": 13,
    "start_time": "2021-07-07T11:07:07.722Z"
   },
   {
    "duration": 26,
    "start_time": "2021-07-07T11:07:17.958Z"
   },
   {
    "duration": 22,
    "start_time": "2021-07-07T11:08:17.939Z"
   },
   {
    "duration": 212,
    "start_time": "2021-07-07T11:08:19.665Z"
   },
   {
    "duration": 21,
    "start_time": "2021-07-07T11:08:29.945Z"
   },
   {
    "duration": 31,
    "start_time": "2021-07-07T11:08:38.899Z"
   },
   {
    "duration": 23,
    "start_time": "2021-07-07T11:08:54.527Z"
   },
   {
    "duration": 8,
    "start_time": "2021-07-07T11:18:55.974Z"
   },
   {
    "duration": 7,
    "start_time": "2021-07-07T11:19:03.639Z"
   },
   {
    "duration": 7,
    "start_time": "2021-07-07T11:19:06.444Z"
   },
   {
    "duration": 578,
    "start_time": "2021-07-07T12:09:59.576Z"
   },
   {
    "duration": 195,
    "start_time": "2021-07-07T12:10:00.156Z"
   },
   {
    "duration": 115,
    "start_time": "2021-07-07T12:10:00.353Z"
   },
   {
    "duration": 3,
    "start_time": "2021-07-07T12:10:00.470Z"
   },
   {
    "duration": 32,
    "start_time": "2021-07-07T12:10:00.474Z"
   },
   {
    "duration": 23,
    "start_time": "2021-07-07T12:10:00.508Z"
   },
   {
    "duration": 19,
    "start_time": "2021-07-07T12:10:00.533Z"
   },
   {
    "duration": 44,
    "start_time": "2021-07-07T12:10:00.553Z"
   },
   {
    "duration": 7,
    "start_time": "2021-07-07T12:10:00.600Z"
   },
   {
    "duration": 7,
    "start_time": "2021-07-07T12:19:45.761Z"
   },
   {
    "duration": 21,
    "start_time": "2021-07-07T12:21:35.482Z"
   },
   {
    "duration": 21,
    "start_time": "2021-07-07T12:29:23.569Z"
   },
   {
    "duration": 525,
    "start_time": "2021-07-07T12:29:44.542Z"
   },
   {
    "duration": 214,
    "start_time": "2021-07-07T12:29:45.069Z"
   },
   {
    "duration": 92,
    "start_time": "2021-07-07T12:29:45.285Z"
   },
   {
    "duration": 3,
    "start_time": "2021-07-07T12:29:45.379Z"
   },
   {
    "duration": 28,
    "start_time": "2021-07-07T12:29:45.384Z"
   },
   {
    "duration": 23,
    "start_time": "2021-07-07T12:29:45.413Z"
   },
   {
    "duration": 21,
    "start_time": "2021-07-07T12:29:45.437Z"
   },
   {
    "duration": 41,
    "start_time": "2021-07-07T12:29:45.460Z"
   },
   {
    "duration": 7,
    "start_time": "2021-07-07T12:29:45.502Z"
   },
   {
    "duration": 20,
    "start_time": "2021-07-07T12:29:45.511Z"
   },
   {
    "duration": 12,
    "start_time": "2021-07-07T12:34:02.800Z"
   },
   {
    "duration": 7,
    "start_time": "2021-07-07T12:35:10.479Z"
   },
   {
    "duration": 8,
    "start_time": "2021-07-07T12:35:22.440Z"
   },
   {
    "duration": 6,
    "start_time": "2021-07-07T12:35:35.649Z"
   },
   {
    "duration": 6,
    "start_time": "2021-07-07T12:35:43.107Z"
   },
   {
    "duration": 22,
    "start_time": "2021-07-07T12:38:03.029Z"
   },
   {
    "duration": 10,
    "start_time": "2021-07-07T12:38:06.592Z"
   },
   {
    "duration": 563,
    "start_time": "2021-07-07T12:38:46.493Z"
   },
   {
    "duration": 265,
    "start_time": "2021-07-07T12:38:47.058Z"
   },
   {
    "duration": 94,
    "start_time": "2021-07-07T12:38:47.325Z"
   },
   {
    "duration": 3,
    "start_time": "2021-07-07T12:38:47.422Z"
   },
   {
    "duration": 30,
    "start_time": "2021-07-07T12:38:47.427Z"
   },
   {
    "duration": 16,
    "start_time": "2021-07-07T12:38:53.305Z"
   },
   {
    "duration": 10,
    "start_time": "2021-07-07T12:38:53.499Z"
   },
   {
    "duration": 8,
    "start_time": "2021-07-07T12:39:48.161Z"
   },
   {
    "duration": 27,
    "start_time": "2021-07-07T12:41:17.629Z"
   },
   {
    "duration": 17,
    "start_time": "2021-07-07T12:41:17.867Z"
   },
   {
    "duration": 21,
    "start_time": "2021-07-07T12:41:19.310Z"
   },
   {
    "duration": 7,
    "start_time": "2021-07-07T12:41:19.544Z"
   },
   {
    "duration": 20,
    "start_time": "2021-07-07T12:41:20.504Z"
   },
   {
    "duration": 554,
    "start_time": "2021-07-07T12:56:23.696Z"
   },
   {
    "duration": 200,
    "start_time": "2021-07-07T12:56:25.234Z"
   },
   {
    "duration": 119,
    "start_time": "2021-07-07T12:56:25.480Z"
   },
   {
    "duration": 4,
    "start_time": "2021-07-07T12:56:25.762Z"
   },
   {
    "duration": 26,
    "start_time": "2021-07-07T12:56:27.172Z"
   },
   {
    "duration": 12,
    "start_time": "2021-07-07T12:56:29.051Z"
   },
   {
    "duration": 10,
    "start_time": "2021-07-07T12:56:29.291Z"
   },
   {
    "duration": 8,
    "start_time": "2021-07-07T12:56:29.623Z"
   },
   {
    "duration": 28,
    "start_time": "2021-07-07T12:56:32.137Z"
   },
   {
    "duration": 19,
    "start_time": "2021-07-07T12:56:39.785Z"
   },
   {
    "duration": 20,
    "start_time": "2021-07-07T12:56:44.297Z"
   },
   {
    "duration": 7,
    "start_time": "2021-07-07T12:56:45.392Z"
   },
   {
    "duration": 23,
    "start_time": "2021-07-07T12:56:46.615Z"
   },
   {
    "duration": 4,
    "start_time": "2021-07-07T12:57:06.625Z"
   },
   {
    "duration": 32,
    "start_time": "2021-07-07T12:57:36.690Z"
   },
   {
    "duration": 18,
    "start_time": "2021-07-07T12:58:00.149Z"
   },
   {
    "duration": 15,
    "start_time": "2021-07-07T12:59:16.793Z"
   },
   {
    "duration": 7,
    "start_time": "2021-07-07T13:19:22.624Z"
   },
   {
    "duration": 6,
    "start_time": "2021-07-07T14:17:33.527Z"
   },
   {
    "duration": 9,
    "start_time": "2021-07-07T14:17:48.409Z"
   },
   {
    "duration": 8,
    "start_time": "2021-07-07T14:20:13.060Z"
   },
   {
    "duration": 8,
    "start_time": "2021-07-07T14:20:37.957Z"
   },
   {
    "duration": 8,
    "start_time": "2021-07-07T14:20:47.470Z"
   },
   {
    "duration": 9,
    "start_time": "2021-07-07T14:20:54.503Z"
   },
   {
    "duration": 10,
    "start_time": "2021-07-07T14:28:57.763Z"
   },
   {
    "duration": 3,
    "start_time": "2021-07-07T14:30:23.377Z"
   },
   {
    "duration": 3,
    "start_time": "2021-07-07T14:30:36.489Z"
   },
   {
    "duration": 103,
    "start_time": "2021-07-07T14:30:52.351Z"
   },
   {
    "duration": 8,
    "start_time": "2021-07-07T14:30:54.763Z"
   },
   {
    "duration": 8,
    "start_time": "2021-07-07T14:31:29.301Z"
   },
   {
    "duration": 13,
    "start_time": "2021-07-07T14:31:44.516Z"
   },
   {
    "duration": 7,
    "start_time": "2021-07-07T14:33:10.972Z"
   },
   {
    "duration": 11,
    "start_time": "2021-07-07T14:33:27.780Z"
   },
   {
    "duration": 8,
    "start_time": "2021-07-07T14:34:44.588Z"
   },
   {
    "duration": 57,
    "start_time": "2021-07-07T14:35:59.042Z"
   },
   {
    "duration": 3,
    "start_time": "2021-07-07T14:36:28.168Z"
   },
   {
    "duration": 5,
    "start_time": "2021-07-07T14:36:46.254Z"
   },
   {
    "duration": 4,
    "start_time": "2021-07-07T14:36:52.714Z"
   },
   {
    "duration": 3,
    "start_time": "2021-07-07T14:36:56.612Z"
   },
   {
    "duration": 4,
    "start_time": "2021-07-07T14:36:57.049Z"
   },
   {
    "duration": 3,
    "start_time": "2021-07-07T14:39:21.214Z"
   },
   {
    "duration": 7,
    "start_time": "2021-07-07T14:39:52.406Z"
   },
   {
    "duration": 11,
    "start_time": "2021-07-07T14:39:58.576Z"
   },
   {
    "duration": 9,
    "start_time": "2021-07-07T14:40:26.301Z"
   },
   {
    "duration": 10,
    "start_time": "2021-07-07T14:40:31.704Z"
   },
   {
    "duration": 11,
    "start_time": "2021-07-07T14:40:36.249Z"
   },
   {
    "duration": 10,
    "start_time": "2021-07-07T14:40:39.783Z"
   },
   {
    "duration": 9,
    "start_time": "2021-07-07T14:40:48.558Z"
   },
   {
    "duration": 10,
    "start_time": "2021-07-07T14:40:57.143Z"
   },
   {
    "duration": 9,
    "start_time": "2021-07-07T14:41:06.074Z"
   },
   {
    "duration": 4324,
    "start_time": "2021-07-07T14:41:22.004Z"
   },
   {
    "duration": 11,
    "start_time": "2021-07-07T14:41:33.392Z"
   },
   {
    "duration": 9,
    "start_time": "2021-07-07T14:41:39.288Z"
   },
   {
    "duration": 569,
    "start_time": "2021-07-07T14:42:14.387Z"
   },
   {
    "duration": 197,
    "start_time": "2021-07-07T14:42:14.959Z"
   },
   {
    "duration": 84,
    "start_time": "2021-07-07T14:42:16.052Z"
   },
   {
    "duration": 4,
    "start_time": "2021-07-07T14:42:16.900Z"
   },
   {
    "duration": 27,
    "start_time": "2021-07-07T14:42:19.898Z"
   },
   {
    "duration": 12,
    "start_time": "2021-07-07T14:42:21.577Z"
   },
   {
    "duration": 9,
    "start_time": "2021-07-07T14:42:21.813Z"
   },
   {
    "duration": 9,
    "start_time": "2021-07-07T14:42:22.569Z"
   },
   {
    "duration": 29,
    "start_time": "2021-07-07T14:42:25.837Z"
   },
   {
    "duration": 20,
    "start_time": "2021-07-07T14:42:27.003Z"
   },
   {
    "duration": 21,
    "start_time": "2021-07-07T14:42:28.767Z"
   },
   {
    "duration": 7,
    "start_time": "2021-07-07T14:42:29.838Z"
   },
   {
    "duration": 4,
    "start_time": "2021-07-07T14:43:25.493Z"
   },
   {
    "duration": 7,
    "start_time": "2021-07-07T14:43:26.573Z"
   },
   {
    "duration": 10,
    "start_time": "2021-07-07T14:43:31.639Z"
   },
   {
    "duration": 9,
    "start_time": "2021-07-07T14:43:32.046Z"
   },
   {
    "duration": 10,
    "start_time": "2021-07-07T14:43:33.301Z"
   },
   {
    "duration": 12,
    "start_time": "2021-07-07T14:43:33.658Z"
   },
   {
    "duration": 8,
    "start_time": "2021-07-07T14:43:34.552Z"
   },
   {
    "duration": 9,
    "start_time": "2021-07-07T14:43:35.058Z"
   },
   {
    "duration": 12,
    "start_time": "2021-07-07T14:43:35.914Z"
   },
   {
    "duration": 17,
    "start_time": "2021-07-07T14:45:34.368Z"
   },
   {
    "duration": 512,
    "start_time": "2021-07-07T14:51:58.236Z"
   },
   {
    "duration": 223,
    "start_time": "2021-07-07T14:51:58.750Z"
   },
   {
    "duration": 93,
    "start_time": "2021-07-07T14:51:58.977Z"
   },
   {
    "duration": 4,
    "start_time": "2021-07-07T14:51:59.071Z"
   },
   {
    "duration": 37,
    "start_time": "2021-07-07T14:51:59.077Z"
   },
   {
    "duration": 18,
    "start_time": "2021-07-07T14:51:59.116Z"
   },
   {
    "duration": 10,
    "start_time": "2021-07-07T14:51:59.137Z"
   },
   {
    "duration": 8,
    "start_time": "2021-07-07T14:51:59.149Z"
   },
   {
    "duration": 54,
    "start_time": "2021-07-07T14:51:59.158Z"
   },
   {
    "duration": 18,
    "start_time": "2021-07-07T14:51:59.213Z"
   },
   {
    "duration": 22,
    "start_time": "2021-07-07T14:51:59.232Z"
   },
   {
    "duration": 36,
    "start_time": "2021-07-07T14:51:59.255Z"
   },
   {
    "duration": 7,
    "start_time": "2021-07-07T14:51:59.293Z"
   },
   {
    "duration": 10,
    "start_time": "2021-07-07T14:51:59.302Z"
   },
   {
    "duration": 9,
    "start_time": "2021-07-07T14:51:59.313Z"
   },
   {
    "duration": 11,
    "start_time": "2021-07-07T14:51:59.324Z"
   },
   {
    "duration": 8,
    "start_time": "2021-07-07T14:51:59.337Z"
   },
   {
    "duration": 46,
    "start_time": "2021-07-07T14:51:59.347Z"
   },
   {
    "duration": 22,
    "start_time": "2021-07-07T14:51:59.395Z"
   },
   {
    "duration": 24,
    "start_time": "2021-07-07T14:57:32.911Z"
   },
   {
    "duration": 7,
    "start_time": "2021-07-07T14:58:22.070Z"
   },
   {
    "duration": 4,
    "start_time": "2021-07-07T14:59:11.239Z"
   },
   {
    "duration": 25,
    "start_time": "2021-07-07T15:07:22.208Z"
   },
   {
    "duration": 16,
    "start_time": "2021-07-07T15:08:25.560Z"
   },
   {
    "duration": 15,
    "start_time": "2021-07-07T15:08:40.647Z"
   },
   {
    "duration": 14,
    "start_time": "2021-07-07T15:08:46.669Z"
   },
   {
    "duration": 533,
    "start_time": "2021-07-07T15:18:07.440Z"
   },
   {
    "duration": 173,
    "start_time": "2021-07-07T15:18:07.974Z"
   },
   {
    "duration": 84,
    "start_time": "2021-07-07T15:18:08.149Z"
   },
   {
    "duration": 3,
    "start_time": "2021-07-07T15:18:08.235Z"
   },
   {
    "duration": 30,
    "start_time": "2021-07-07T15:18:08.240Z"
   },
   {
    "duration": 22,
    "start_time": "2021-07-07T15:18:08.272Z"
   },
   {
    "duration": 11,
    "start_time": "2021-07-07T15:18:08.295Z"
   },
   {
    "duration": 11,
    "start_time": "2021-07-07T15:18:08.309Z"
   },
   {
    "duration": 40,
    "start_time": "2021-07-07T15:18:08.322Z"
   },
   {
    "duration": 42,
    "start_time": "2021-07-07T15:18:08.364Z"
   },
   {
    "duration": 22,
    "start_time": "2021-07-07T15:18:08.408Z"
   },
   {
    "duration": 5,
    "start_time": "2021-07-07T15:18:08.432Z"
   },
   {
    "duration": 13,
    "start_time": "2021-07-07T15:18:08.439Z"
   },
   {
    "duration": 9,
    "start_time": "2021-07-07T15:18:08.454Z"
   },
   {
    "duration": 32,
    "start_time": "2021-07-07T15:18:08.465Z"
   },
   {
    "duration": 10,
    "start_time": "2021-07-07T15:18:08.501Z"
   },
   {
    "duration": 7,
    "start_time": "2021-07-07T15:18:08.513Z"
   },
   {
    "duration": 11,
    "start_time": "2021-07-07T15:18:08.521Z"
   },
   {
    "duration": 17,
    "start_time": "2021-07-07T15:18:08.534Z"
   },
   {
    "duration": 44,
    "start_time": "2021-07-07T15:18:08.553Z"
   },
   {
    "duration": 22,
    "start_time": "2021-07-07T15:18:08.599Z"
   },
   {
    "duration": 61,
    "start_time": "2021-07-07T15:18:08.622Z"
   },
   {
    "duration": 7,
    "start_time": "2021-07-07T15:18:39.457Z"
   },
   {
    "duration": 5,
    "start_time": "2021-07-07T16:05:17.020Z"
   },
   {
    "duration": 5,
    "start_time": "2021-07-07T16:51:28.794Z"
   },
   {
    "duration": 546,
    "start_time": "2021-07-07T16:52:26.306Z"
   },
   {
    "duration": 203,
    "start_time": "2021-07-07T16:52:27.523Z"
   },
   {
    "duration": 85,
    "start_time": "2021-07-07T16:52:27.736Z"
   },
   {
    "duration": 4,
    "start_time": "2021-07-07T16:52:27.899Z"
   },
   {
    "duration": 25,
    "start_time": "2021-07-07T16:52:28.674Z"
   },
   {
    "duration": 8,
    "start_time": "2021-07-07T16:52:32.956Z"
   },
   {
    "duration": 18,
    "start_time": "2021-07-07T16:52:35.616Z"
   },
   {
    "duration": 6,
    "start_time": "2021-07-07T16:52:36.913Z"
   },
   {
    "duration": 11,
    "start_time": "2021-07-07T16:52:40.258Z"
   },
   {
    "duration": 10,
    "start_time": "2021-07-07T16:52:46.251Z"
   },
   {
    "duration": 8,
    "start_time": "2021-07-07T16:52:47.182Z"
   },
   {
    "duration": 27,
    "start_time": "2021-07-07T16:53:20.391Z"
   },
   {
    "duration": 20,
    "start_time": "2021-07-07T16:53:22.022Z"
   },
   {
    "duration": 23,
    "start_time": "2021-07-07T16:53:23.690Z"
   },
   {
    "duration": 8,
    "start_time": "2021-07-07T16:53:24.261Z"
   },
   {
    "duration": 4,
    "start_time": "2021-07-07T16:53:38.733Z"
   },
   {
    "duration": 7,
    "start_time": "2021-07-07T16:53:40.445Z"
   },
   {
    "duration": 11,
    "start_time": "2021-07-07T16:53:41.348Z"
   },
   {
    "duration": 13,
    "start_time": "2021-07-07T16:53:45.250Z"
   },
   {
    "duration": 12,
    "start_time": "2021-07-07T16:53:45.467Z"
   },
   {
    "duration": 4,
    "start_time": "2021-07-07T16:55:32.704Z"
   },
   {
    "duration": 12,
    "start_time": "2021-07-07T16:55:49.012Z"
   },
   {
    "duration": 18,
    "start_time": "2021-07-07T16:55:49.547Z"
   },
   {
    "duration": 611,
    "start_time": "2021-07-07T16:58:35.156Z"
   },
   {
    "duration": 200,
    "start_time": "2021-07-07T16:58:35.770Z"
   },
   {
    "duration": 86,
    "start_time": "2021-07-07T16:58:35.972Z"
   },
   {
    "duration": 3,
    "start_time": "2021-07-07T16:58:36.060Z"
   },
   {
    "duration": 27,
    "start_time": "2021-07-07T16:58:36.065Z"
   },
   {
    "duration": 8,
    "start_time": "2021-07-07T16:58:36.094Z"
   },
   {
    "duration": 17,
    "start_time": "2021-07-07T16:58:36.103Z"
   },
   {
    "duration": 5,
    "start_time": "2021-07-07T16:58:36.123Z"
   },
   {
    "duration": 11,
    "start_time": "2021-07-07T16:58:36.130Z"
   },
   {
    "duration": 7,
    "start_time": "2021-07-07T16:58:36.143Z"
   },
   {
    "duration": 37,
    "start_time": "2021-07-07T16:58:36.152Z"
   },
   {
    "duration": 27,
    "start_time": "2021-07-07T16:58:36.191Z"
   },
   {
    "duration": 19,
    "start_time": "2021-07-07T16:58:36.219Z"
   },
   {
    "duration": 49,
    "start_time": "2021-07-07T16:58:36.240Z"
   },
   {
    "duration": 6,
    "start_time": "2021-07-07T16:58:36.291Z"
   },
   {
    "duration": 3,
    "start_time": "2021-07-07T16:58:36.299Z"
   },
   {
    "duration": 13,
    "start_time": "2021-07-07T16:58:36.304Z"
   },
   {
    "duration": 10,
    "start_time": "2021-07-07T16:58:36.319Z"
   },
   {
    "duration": 10,
    "start_time": "2021-07-07T16:58:36.331Z"
   },
   {
    "duration": 44,
    "start_time": "2021-07-07T16:58:36.343Z"
   },
   {
    "duration": 4,
    "start_time": "2021-07-07T16:58:36.388Z"
   },
   {
    "duration": 13,
    "start_time": "2021-07-07T16:58:36.394Z"
   },
   {
    "duration": 16,
    "start_time": "2021-07-07T16:58:36.410Z"
   },
   {
    "duration": 8,
    "start_time": "2021-07-07T17:02:31.629Z"
   },
   {
    "duration": 8,
    "start_time": "2021-07-07T17:02:34.308Z"
   },
   {
    "duration": 6,
    "start_time": "2021-07-07T17:05:13.483Z"
   },
   {
    "duration": 17,
    "start_time": "2021-07-07T17:05:20.606Z"
   },
   {
    "duration": 7,
    "start_time": "2021-07-07T17:05:34.638Z"
   },
   {
    "duration": 3,
    "start_time": "2021-07-07T17:06:31.883Z"
   },
   {
    "duration": 570,
    "start_time": "2021-07-07T17:06:37.165Z"
   },
   {
    "duration": 174,
    "start_time": "2021-07-07T17:06:37.737Z"
   },
   {
    "duration": 47,
    "start_time": "2021-07-07T17:06:37.913Z"
   },
   {
    "duration": 3,
    "start_time": "2021-07-07T17:06:37.962Z"
   },
   {
    "duration": 27,
    "start_time": "2021-07-07T17:06:37.967Z"
   },
   {
    "duration": 7,
    "start_time": "2021-07-07T17:06:37.996Z"
   },
   {
    "duration": 16,
    "start_time": "2021-07-07T17:06:38.005Z"
   },
   {
    "duration": 6,
    "start_time": "2021-07-07T17:06:38.024Z"
   },
   {
    "duration": 12,
    "start_time": "2021-07-07T17:06:38.031Z"
   },
   {
    "duration": 41,
    "start_time": "2021-07-07T17:06:38.045Z"
   },
   {
    "duration": 8,
    "start_time": "2021-07-07T17:06:38.088Z"
   },
   {
    "duration": 26,
    "start_time": "2021-07-07T17:06:38.098Z"
   },
   {
    "duration": 17,
    "start_time": "2021-07-07T17:06:38.126Z"
   },
   {
    "duration": 43,
    "start_time": "2021-07-07T17:06:38.144Z"
   },
   {
    "duration": 6,
    "start_time": "2021-07-07T17:06:38.188Z"
   },
   {
    "duration": 5,
    "start_time": "2021-07-07T17:06:38.195Z"
   },
   {
    "duration": 9,
    "start_time": "2021-07-07T17:06:38.201Z"
   },
   {
    "duration": 12,
    "start_time": "2021-07-07T17:06:38.212Z"
   },
   {
    "duration": 11,
    "start_time": "2021-07-07T17:06:38.226Z"
   },
   {
    "duration": 47,
    "start_time": "2021-07-07T17:06:38.239Z"
   },
   {
    "duration": 4,
    "start_time": "2021-07-07T17:06:38.288Z"
   },
   {
    "duration": 13,
    "start_time": "2021-07-07T17:06:38.293Z"
   },
   {
    "duration": 5,
    "start_time": "2021-07-07T17:06:38.309Z"
   },
   {
    "duration": 18,
    "start_time": "2021-07-07T17:06:38.325Z"
   },
   {
    "duration": 20,
    "start_time": "2021-07-07T17:07:02.805Z"
   },
   {
    "duration": 19,
    "start_time": "2021-07-07T17:07:08.527Z"
   },
   {
    "duration": 19,
    "start_time": "2021-07-07T17:07:12.758Z"
   },
   {
    "duration": 22,
    "start_time": "2021-07-07T17:07:17.497Z"
   },
   {
    "duration": 19,
    "start_time": "2021-07-07T17:07:19.645Z"
   },
   {
    "duration": 10,
    "start_time": "2021-07-07T17:07:34.239Z"
   },
   {
    "duration": 17,
    "start_time": "2021-07-07T17:07:54.144Z"
   },
   {
    "duration": 14,
    "start_time": "2021-07-07T17:08:14.357Z"
   },
   {
    "duration": 616,
    "start_time": "2021-07-07T17:08:45.254Z"
   },
   {
    "duration": 178,
    "start_time": "2021-07-07T17:08:45.872Z"
   },
   {
    "duration": 60,
    "start_time": "2021-07-07T17:08:46.054Z"
   },
   {
    "duration": 3,
    "start_time": "2021-07-07T17:08:46.116Z"
   },
   {
    "duration": 26,
    "start_time": "2021-07-07T17:08:46.121Z"
   },
   {
    "duration": 7,
    "start_time": "2021-07-07T17:08:46.149Z"
   },
   {
    "duration": 17,
    "start_time": "2021-07-07T17:08:46.158Z"
   },
   {
    "duration": 14,
    "start_time": "2021-07-07T17:08:46.176Z"
   },
   {
    "duration": 17,
    "start_time": "2021-07-07T17:08:46.193Z"
   },
   {
    "duration": 9,
    "start_time": "2021-07-07T17:08:46.211Z"
   },
   {
    "duration": 21,
    "start_time": "2021-07-07T17:08:46.221Z"
   },
   {
    "duration": 49,
    "start_time": "2021-07-07T17:08:46.244Z"
   },
   {
    "duration": 24,
    "start_time": "2021-07-07T17:08:46.295Z"
   },
   {
    "duration": 22,
    "start_time": "2021-07-07T17:08:46.321Z"
   },
   {
    "duration": 6,
    "start_time": "2021-07-07T17:08:46.345Z"
   },
   {
    "duration": 5,
    "start_time": "2021-07-07T17:08:46.353Z"
   },
   {
    "duration": 13,
    "start_time": "2021-07-07T17:08:46.386Z"
   },
   {
    "duration": 12,
    "start_time": "2021-07-07T17:08:46.402Z"
   },
   {
    "duration": 10,
    "start_time": "2021-07-07T17:08:46.415Z"
   },
   {
    "duration": 7,
    "start_time": "2021-07-07T17:08:46.427Z"
   },
   {
    "duration": 8,
    "start_time": "2021-07-07T17:08:46.435Z"
   },
   {
    "duration": 68,
    "start_time": "2021-07-07T17:08:46.446Z"
   },
   {
    "duration": 13,
    "start_time": "2021-07-07T17:08:46.516Z"
   },
   {
    "duration": 78,
    "start_time": "2021-07-07T17:08:46.530Z"
   },
   {
    "duration": 40,
    "start_time": "2021-07-07T17:09:08.185Z"
   },
   {
    "duration": 16,
    "start_time": "2021-07-07T17:09:19.324Z"
   },
   {
    "duration": 21,
    "start_time": "2021-07-07T17:09:23.290Z"
   },
   {
    "duration": 13,
    "start_time": "2021-07-07T17:09:54.812Z"
   },
   {
    "duration": 13,
    "start_time": "2021-07-07T17:10:02.039Z"
   },
   {
    "duration": 10,
    "start_time": "2021-07-07T17:10:29.632Z"
   },
   {
    "duration": 13,
    "start_time": "2021-07-07T17:10:52.372Z"
   },
   {
    "duration": 13,
    "start_time": "2021-07-07T17:11:17.270Z"
   },
   {
    "duration": 13,
    "start_time": "2021-07-07T17:14:59.284Z"
   },
   {
    "duration": 547,
    "start_time": "2021-07-07T17:18:52.403Z"
   },
   {
    "duration": 163,
    "start_time": "2021-07-07T17:18:52.952Z"
   },
   {
    "duration": 44,
    "start_time": "2021-07-07T17:18:53.117Z"
   },
   {
    "duration": 3,
    "start_time": "2021-07-07T17:18:53.162Z"
   },
   {
    "duration": 26,
    "start_time": "2021-07-07T17:18:53.167Z"
   },
   {
    "duration": 6,
    "start_time": "2021-07-07T17:18:53.195Z"
   },
   {
    "duration": 15,
    "start_time": "2021-07-07T17:18:53.203Z"
   },
   {
    "duration": 5,
    "start_time": "2021-07-07T17:18:53.220Z"
   },
   {
    "duration": 11,
    "start_time": "2021-07-07T17:18:53.228Z"
   },
   {
    "duration": 9,
    "start_time": "2021-07-07T17:18:53.241Z"
   },
   {
    "duration": 41,
    "start_time": "2021-07-07T17:18:53.252Z"
   },
   {
    "duration": 33,
    "start_time": "2021-07-07T17:18:53.295Z"
   },
   {
    "duration": 19,
    "start_time": "2021-07-07T17:18:53.330Z"
   },
   {
    "duration": 49,
    "start_time": "2021-07-07T17:18:53.350Z"
   },
   {
    "duration": 5,
    "start_time": "2021-07-07T17:18:53.401Z"
   },
   {
    "duration": 5,
    "start_time": "2021-07-07T17:18:53.408Z"
   },
   {
    "duration": 11,
    "start_time": "2021-07-07T17:18:53.414Z"
   },
   {
    "duration": 9,
    "start_time": "2021-07-07T17:18:53.427Z"
   },
   {
    "duration": 10,
    "start_time": "2021-07-07T17:18:53.437Z"
   },
   {
    "duration": 39,
    "start_time": "2021-07-07T17:18:53.448Z"
   },
   {
    "duration": 26,
    "start_time": "2021-07-07T17:18:55.799Z"
   },
   {
    "duration": 598,
    "start_time": "2021-07-07T17:20:17.862Z"
   },
   {
    "duration": 161,
    "start_time": "2021-07-07T17:20:18.462Z"
   },
   {
    "duration": 45,
    "start_time": "2021-07-07T17:20:18.626Z"
   },
   {
    "duration": 4,
    "start_time": "2021-07-07T17:20:18.673Z"
   },
   {
    "duration": 38,
    "start_time": "2021-07-07T17:20:26.877Z"
   },
   {
    "duration": 7,
    "start_time": "2021-07-07T17:20:37.405Z"
   },
   {
    "duration": 19,
    "start_time": "2021-07-07T17:20:51.534Z"
   },
   {
    "duration": 5,
    "start_time": "2021-07-07T17:20:57.228Z"
   },
   {
    "duration": 7,
    "start_time": "2021-07-07T17:21:08.235Z"
   },
   {
    "duration": 19,
    "start_time": "2021-07-07T17:21:42.158Z"
   },
   {
    "duration": 14,
    "start_time": "2021-07-07T17:21:50.225Z"
   },
   {
    "duration": 22,
    "start_time": "2021-07-07T17:22:54.104Z"
   },
   {
    "duration": 5,
    "start_time": "2021-07-07T17:22:56.371Z"
   },
   {
    "duration": 14,
    "start_time": "2021-07-07T17:22:58.316Z"
   },
   {
    "duration": 5,
    "start_time": "2021-07-07T17:22:58.493Z"
   },
   {
    "duration": 35,
    "start_time": "2021-07-07T17:22:59.666Z"
   },
   {
    "duration": 6,
    "start_time": "2021-07-07T17:23:02.410Z"
   },
   {
    "duration": 611,
    "start_time": "2021-07-07T17:24:59.664Z"
   },
   {
    "duration": 178,
    "start_time": "2021-07-07T17:25:01.945Z"
   },
   {
    "duration": 47,
    "start_time": "2021-07-07T17:25:02.125Z"
   },
   {
    "duration": 2,
    "start_time": "2021-07-07T17:25:07.903Z"
   },
   {
    "duration": 254,
    "start_time": "2021-07-07T17:25:08.232Z"
   },
   {
    "duration": 182,
    "start_time": "2021-07-07T17:25:08.671Z"
   },
   {
    "duration": 6,
    "start_time": "2021-07-07T17:25:13.104Z"
   },
   {
    "duration": 36,
    "start_time": "2021-07-07T17:25:13.662Z"
   },
   {
    "duration": 7,
    "start_time": "2021-07-07T17:25:14.528Z"
   },
   {
    "duration": 24,
    "start_time": "2021-07-07T17:25:27.982Z"
   },
   {
    "duration": 3,
    "start_time": "2021-07-07T17:25:48.982Z"
   },
   {
    "duration": 165,
    "start_time": "2021-07-07T17:25:48.987Z"
   },
   {
    "duration": 50,
    "start_time": "2021-07-07T17:25:49.154Z"
   },
   {
    "duration": 4,
    "start_time": "2021-07-07T17:25:49.206Z"
   },
   {
    "duration": 26,
    "start_time": "2021-07-07T17:25:49.212Z"
   },
   {
    "duration": 7,
    "start_time": "2021-07-07T17:25:49.240Z"
   },
   {
    "duration": 16,
    "start_time": "2021-07-07T17:25:49.249Z"
   },
   {
    "duration": 22,
    "start_time": "2021-07-07T17:25:49.266Z"
   },
   {
    "duration": 16,
    "start_time": "2021-07-07T17:25:49.291Z"
   },
   {
    "duration": 9,
    "start_time": "2021-07-07T17:25:49.309Z"
   },
   {
    "duration": 7,
    "start_time": "2021-07-07T17:25:49.319Z"
   },
   {
    "duration": 28,
    "start_time": "2021-07-07T17:25:49.328Z"
   },
   {
    "duration": 44,
    "start_time": "2021-07-07T17:25:49.357Z"
   },
   {
    "duration": 22,
    "start_time": "2021-07-07T17:25:49.403Z"
   },
   {
    "duration": 7,
    "start_time": "2021-07-07T17:25:49.427Z"
   },
   {
    "duration": 3,
    "start_time": "2021-07-07T17:25:49.436Z"
   },
   {
    "duration": 44,
    "start_time": "2021-07-07T17:25:49.441Z"
   },
   {
    "duration": 12,
    "start_time": "2021-07-07T17:25:49.488Z"
   },
   {
    "duration": 13,
    "start_time": "2021-07-07T17:25:49.502Z"
   },
   {
    "duration": 10,
    "start_time": "2021-07-07T17:25:49.516Z"
   },
   {
    "duration": 62,
    "start_time": "2021-07-07T17:25:49.527Z"
   },
   {
    "duration": 26,
    "start_time": "2021-07-07T17:26:51.809Z"
   },
   {
    "duration": 26,
    "start_time": "2021-07-07T17:26:55.759Z"
   },
   {
    "duration": 26,
    "start_time": "2021-07-07T17:27:04.501Z"
   },
   {
    "duration": 25,
    "start_time": "2021-07-07T17:28:24.859Z"
   },
   {
    "duration": 21,
    "start_time": "2021-07-07T17:28:55.250Z"
   },
   {
    "duration": 21,
    "start_time": "2021-07-07T17:28:58.885Z"
   },
   {
    "duration": 7,
    "start_time": "2021-07-07T17:45:40.972Z"
   },
   {
    "duration": 13,
    "start_time": "2021-07-07T17:45:42.529Z"
   },
   {
    "duration": 27,
    "start_time": "2021-07-07T17:45:51.026Z"
   },
   {
    "duration": 518,
    "start_time": "2021-07-07T17:46:15.532Z"
   },
   {
    "duration": 235,
    "start_time": "2021-07-07T17:46:16.053Z"
   },
   {
    "duration": 80,
    "start_time": "2021-07-07T17:46:16.292Z"
   },
   {
    "duration": 5,
    "start_time": "2021-07-07T17:46:16.373Z"
   },
   {
    "duration": 26,
    "start_time": "2021-07-07T17:46:16.380Z"
   },
   {
    "duration": 7,
    "start_time": "2021-07-07T17:46:16.408Z"
   },
   {
    "duration": 16,
    "start_time": "2021-07-07T17:46:16.418Z"
   },
   {
    "duration": 5,
    "start_time": "2021-07-07T17:46:16.436Z"
   },
   {
    "duration": 13,
    "start_time": "2021-07-07T17:46:16.442Z"
   },
   {
    "duration": 35,
    "start_time": "2021-07-07T17:46:16.456Z"
   },
   {
    "duration": 8,
    "start_time": "2021-07-07T17:46:16.493Z"
   },
   {
    "duration": 28,
    "start_time": "2021-07-07T17:46:16.502Z"
   },
   {
    "duration": 17,
    "start_time": "2021-07-07T17:46:16.532Z"
   },
   {
    "duration": 44,
    "start_time": "2021-07-07T17:46:16.551Z"
   },
   {
    "duration": 6,
    "start_time": "2021-07-07T17:46:16.597Z"
   },
   {
    "duration": 4,
    "start_time": "2021-07-07T17:46:16.605Z"
   },
   {
    "duration": 9,
    "start_time": "2021-07-07T17:46:16.610Z"
   },
   {
    "duration": 9,
    "start_time": "2021-07-07T17:46:16.621Z"
   },
   {
    "duration": 10,
    "start_time": "2021-07-07T17:46:16.632Z"
   },
   {
    "duration": 43,
    "start_time": "2021-07-07T17:46:16.644Z"
   },
   {
    "duration": 26,
    "start_time": "2021-07-07T17:46:16.689Z"
   },
   {
    "duration": 19,
    "start_time": "2021-07-07T17:46:16.718Z"
   },
   {
    "duration": 8,
    "start_time": "2021-07-07T17:46:16.738Z"
   },
   {
    "duration": 43,
    "start_time": "2021-07-07T17:46:16.747Z"
   },
   {
    "duration": 19,
    "start_time": "2021-07-07T17:46:16.791Z"
   },
   {
    "duration": 9,
    "start_time": "2021-07-07T17:46:16.812Z"
   },
   {
    "duration": 60,
    "start_time": "2021-07-07T17:46:16.822Z"
   },
   {
    "duration": -8,
    "start_time": "2021-07-07T17:46:16.892Z"
   },
   {
    "duration": 12,
    "start_time": "2021-07-07T17:48:47.707Z"
   },
   {
    "duration": 553,
    "start_time": "2021-07-07T18:10:09.350Z"
   },
   {
    "duration": 230,
    "start_time": "2021-07-07T18:10:09.905Z"
   },
   {
    "duration": 97,
    "start_time": "2021-07-07T18:10:10.137Z"
   },
   {
    "duration": 5,
    "start_time": "2021-07-07T18:10:10.236Z"
   },
   {
    "duration": 29,
    "start_time": "2021-07-07T18:10:10.242Z"
   },
   {
    "duration": 7,
    "start_time": "2021-07-07T18:10:10.272Z"
   },
   {
    "duration": 15,
    "start_time": "2021-07-07T18:10:10.281Z"
   },
   {
    "duration": 4,
    "start_time": "2021-07-07T18:10:10.299Z"
   },
   {
    "duration": 14,
    "start_time": "2021-07-07T18:10:10.305Z"
   },
   {
    "duration": 8,
    "start_time": "2021-07-07T18:10:10.321Z"
   },
   {
    "duration": 8,
    "start_time": "2021-07-07T18:10:10.331Z"
   },
   {
    "duration": 56,
    "start_time": "2021-07-07T18:10:10.341Z"
   },
   {
    "duration": 19,
    "start_time": "2021-07-07T18:10:10.399Z"
   },
   {
    "duration": 23,
    "start_time": "2021-07-07T18:10:10.419Z"
   },
   {
    "duration": 6,
    "start_time": "2021-07-07T18:10:10.444Z"
   },
   {
    "duration": 9,
    "start_time": "2021-07-07T18:10:10.451Z"
   },
   {
    "duration": 30,
    "start_time": "2021-07-07T18:10:10.462Z"
   },
   {
    "duration": 9,
    "start_time": "2021-07-07T18:10:10.494Z"
   },
   {
    "duration": 14,
    "start_time": "2021-07-07T18:10:10.505Z"
   },
   {
    "duration": 7,
    "start_time": "2021-07-07T18:10:10.521Z"
   },
   {
    "duration": 26,
    "start_time": "2021-07-07T18:10:10.530Z"
   },
   {
    "duration": 44,
    "start_time": "2021-07-07T18:10:10.558Z"
   },
   {
    "duration": 7,
    "start_time": "2021-07-07T18:10:10.605Z"
   },
   {
    "duration": 11,
    "start_time": "2021-07-07T18:10:10.614Z"
   },
   {
    "duration": 19,
    "start_time": "2021-07-07T18:10:10.626Z"
   },
   {
    "duration": 44,
    "start_time": "2021-07-07T18:10:10.646Z"
   },
   {
    "duration": 516,
    "start_time": "2021-07-07T18:14:00.826Z"
   },
   {
    "duration": 230,
    "start_time": "2021-07-07T18:14:01.344Z"
   },
   {
    "duration": 105,
    "start_time": "2021-07-07T18:14:01.576Z"
   },
   {
    "duration": 5,
    "start_time": "2021-07-07T18:14:01.683Z"
   },
   {
    "duration": 46,
    "start_time": "2021-07-07T18:14:01.690Z"
   },
   {
    "duration": 7,
    "start_time": "2021-07-07T18:14:01.738Z"
   },
   {
    "duration": 20,
    "start_time": "2021-07-07T18:14:01.747Z"
   },
   {
    "duration": 16,
    "start_time": "2021-07-07T18:14:01.769Z"
   },
   {
    "duration": 14,
    "start_time": "2021-07-07T18:14:01.787Z"
   },
   {
    "duration": 15,
    "start_time": "2021-07-07T18:14:01.803Z"
   },
   {
    "duration": 12,
    "start_time": "2021-07-07T18:14:01.820Z"
   },
   {
    "duration": 35,
    "start_time": "2021-07-07T18:14:01.833Z"
   },
   {
    "duration": 31,
    "start_time": "2021-07-07T18:14:01.869Z"
   },
   {
    "duration": 37,
    "start_time": "2021-07-07T18:14:01.902Z"
   },
   {
    "duration": 8,
    "start_time": "2021-07-07T18:14:01.942Z"
   },
   {
    "duration": 16,
    "start_time": "2021-07-07T18:14:01.952Z"
   },
   {
    "duration": 13,
    "start_time": "2021-07-07T18:14:01.970Z"
   },
   {
    "duration": 32,
    "start_time": "2021-07-07T18:14:01.985Z"
   },
   {
    "duration": 11,
    "start_time": "2021-07-07T18:14:02.019Z"
   },
   {
    "duration": 22,
    "start_time": "2021-07-07T18:14:02.031Z"
   },
   {
    "duration": 27,
    "start_time": "2021-07-07T18:14:02.055Z"
   },
   {
    "duration": 18,
    "start_time": "2021-07-07T18:14:02.084Z"
   },
   {
    "duration": 18,
    "start_time": "2021-07-07T18:14:02.106Z"
   },
   {
    "duration": 11,
    "start_time": "2021-07-07T18:14:02.126Z"
   },
   {
    "duration": 21,
    "start_time": "2021-07-07T18:14:02.138Z"
   },
   {
    "duration": 32,
    "start_time": "2021-07-07T18:14:02.161Z"
   },
   {
    "duration": 28,
    "start_time": "2021-07-07T18:14:44.295Z"
   },
   {
    "duration": 6,
    "start_time": "2021-07-07T18:15:05.834Z"
   },
   {
    "duration": 511,
    "start_time": "2021-07-07T18:15:41.541Z"
   },
   {
    "duration": 183,
    "start_time": "2021-07-07T18:15:42.054Z"
   },
   {
    "duration": 50,
    "start_time": "2021-07-07T18:15:42.239Z"
   },
   {
    "duration": 5,
    "start_time": "2021-07-07T18:15:42.291Z"
   },
   {
    "duration": 48,
    "start_time": "2021-07-07T18:15:42.297Z"
   },
   {
    "duration": 8,
    "start_time": "2021-07-07T18:15:42.346Z"
   },
   {
    "duration": 17,
    "start_time": "2021-07-07T18:15:42.356Z"
   },
   {
    "duration": 15,
    "start_time": "2021-07-07T18:15:42.375Z"
   },
   {
    "duration": 12,
    "start_time": "2021-07-07T18:15:42.392Z"
   },
   {
    "duration": 7,
    "start_time": "2021-07-07T18:15:42.406Z"
   },
   {
    "duration": 7,
    "start_time": "2021-07-07T18:15:42.415Z"
   },
   {
    "duration": 29,
    "start_time": "2021-07-07T18:15:42.423Z"
   },
   {
    "duration": 43,
    "start_time": "2021-07-07T18:15:42.453Z"
   },
   {
    "duration": 18,
    "start_time": "2021-07-07T18:15:42.497Z"
   },
   {
    "duration": 6,
    "start_time": "2021-07-07T18:15:42.516Z"
   },
   {
    "duration": 3,
    "start_time": "2021-07-07T18:15:42.523Z"
   },
   {
    "duration": 18,
    "start_time": "2021-07-07T18:15:42.528Z"
   },
   {
    "duration": 10,
    "start_time": "2021-07-07T18:15:42.547Z"
   },
   {
    "duration": 36,
    "start_time": "2021-07-07T18:15:42.559Z"
   },
   {
    "duration": 8,
    "start_time": "2021-07-07T18:15:42.597Z"
   },
   {
    "duration": 28,
    "start_time": "2021-07-07T18:15:42.606Z"
   },
   {
    "duration": 52,
    "start_time": "2021-07-07T18:15:42.635Z"
   },
   {
    "duration": 7,
    "start_time": "2021-07-07T18:15:42.690Z"
   },
   {
    "duration": 10,
    "start_time": "2021-07-07T18:15:42.699Z"
   },
   {
    "duration": 19,
    "start_time": "2021-07-07T18:15:42.711Z"
   },
   {
    "duration": 9,
    "start_time": "2021-07-07T18:15:42.732Z"
   },
   {
    "duration": 5,
    "start_time": "2021-07-07T18:15:42.743Z"
   },
   {
    "duration": 1450,
    "start_time": "2021-07-07T18:15:51.984Z"
   },
   {
    "duration": 161,
    "start_time": "2021-07-07T18:15:53.435Z"
   },
   {
    "duration": 124,
    "start_time": "2021-07-07T18:15:53.598Z"
   },
   {
    "duration": 5,
    "start_time": "2021-07-07T18:15:53.724Z"
   },
   {
    "duration": 34,
    "start_time": "2021-07-07T18:15:53.730Z"
   },
   {
    "duration": 7,
    "start_time": "2021-07-07T18:15:53.765Z"
   },
   {
    "duration": 15,
    "start_time": "2021-07-07T18:15:53.773Z"
   },
   {
    "duration": 5,
    "start_time": "2021-07-07T18:15:53.791Z"
   },
   {
    "duration": 19,
    "start_time": "2021-07-07T18:15:53.798Z"
   },
   {
    "duration": 9,
    "start_time": "2021-07-07T18:15:53.818Z"
   },
   {
    "duration": 19,
    "start_time": "2021-07-07T18:15:53.828Z"
   },
   {
    "duration": 27,
    "start_time": "2021-07-07T18:15:53.848Z"
   },
   {
    "duration": 16,
    "start_time": "2021-07-07T18:15:53.884Z"
   },
   {
    "duration": 29,
    "start_time": "2021-07-07T18:15:53.901Z"
   },
   {
    "duration": 5,
    "start_time": "2021-07-07T18:15:53.932Z"
   },
   {
    "duration": 15,
    "start_time": "2021-07-07T18:15:53.939Z"
   },
   {
    "duration": 13,
    "start_time": "2021-07-07T18:15:53.956Z"
   },
   {
    "duration": 20,
    "start_time": "2021-07-07T18:15:53.971Z"
   },
   {
    "duration": 14,
    "start_time": "2021-07-07T18:15:53.992Z"
   },
   {
    "duration": 9,
    "start_time": "2021-07-07T18:15:54.009Z"
   },
   {
    "duration": 28,
    "start_time": "2021-07-07T18:15:54.020Z"
   },
   {
    "duration": 50,
    "start_time": "2021-07-07T18:15:54.051Z"
   },
   {
    "duration": 8,
    "start_time": "2021-07-07T18:15:54.105Z"
   },
   {
    "duration": 11,
    "start_time": "2021-07-07T18:15:54.115Z"
   },
   {
    "duration": 20,
    "start_time": "2021-07-07T18:15:54.128Z"
   },
   {
    "duration": 13,
    "start_time": "2021-07-07T18:15:54.184Z"
   },
   {
    "duration": 7,
    "start_time": "2021-07-07T18:15:54.199Z"
   },
   {
    "duration": 7,
    "start_time": "2021-07-07T18:17:08.042Z"
   },
   {
    "duration": 8,
    "start_time": "2021-07-07T18:17:21.008Z"
   },
   {
    "duration": 7,
    "start_time": "2021-07-07T18:17:29.003Z"
   },
   {
    "duration": 8,
    "start_time": "2021-07-07T18:17:32.492Z"
   },
   {
    "duration": 9,
    "start_time": "2021-07-07T18:17:41.758Z"
   },
   {
    "duration": 255,
    "start_time": "2021-07-07T18:20:20.897Z"
   },
   {
    "duration": 173,
    "start_time": "2021-07-07T18:20:26.636Z"
   },
   {
    "duration": 7,
    "start_time": "2021-07-07T18:21:47.164Z"
   },
   {
    "duration": 254,
    "start_time": "2021-07-07T18:23:08.703Z"
   },
   {
    "duration": 21,
    "start_time": "2021-07-07T18:23:22.506Z"
   },
   {
    "duration": 315,
    "start_time": "2021-07-07T18:25:54.801Z"
   },
   {
    "duration": 34,
    "start_time": "2021-07-07T18:26:51.817Z"
   },
   {
    "duration": 327,
    "start_time": "2021-07-07T18:26:56.147Z"
   },
   {
    "duration": 342,
    "start_time": "2021-07-07T18:27:15.887Z"
   },
   {
    "duration": 302,
    "start_time": "2021-07-07T18:28:18.569Z"
   },
   {
    "duration": 226,
    "start_time": "2021-07-07T18:29:20.879Z"
   },
   {
    "duration": 207,
    "start_time": "2021-07-07T18:29:58.114Z"
   },
   {
    "duration": 140,
    "start_time": "2021-07-07T18:32:04.372Z"
   },
   {
    "duration": 158,
    "start_time": "2021-07-07T18:32:32.508Z"
   },
   {
    "duration": 145,
    "start_time": "2021-07-07T18:32:41.365Z"
   },
   {
    "duration": 132,
    "start_time": "2021-07-07T18:32:45.199Z"
   },
   {
    "duration": 11,
    "start_time": "2021-07-07T18:35:24.679Z"
   },
   {
    "duration": 268,
    "start_time": "2021-07-07T18:36:16.145Z"
   },
   {
    "duration": 227,
    "start_time": "2021-07-07T18:37:04.918Z"
   },
   {
    "duration": 3,
    "start_time": "2021-07-07T18:37:33.012Z"
   },
   {
    "duration": 671,
    "start_time": "2021-07-07T18:37:38.295Z"
   },
   {
    "duration": 54,
    "start_time": "2021-07-07T18:37:53.406Z"
   },
   {
    "duration": 631,
    "start_time": "2021-07-07T18:37:56.463Z"
   },
   {
    "duration": 19,
    "start_time": "2021-07-07T18:39:40.535Z"
   },
   {
    "duration": 20,
    "start_time": "2021-07-07T18:40:12.236Z"
   },
   {
    "duration": 633,
    "start_time": "2021-07-07T18:42:00.398Z"
   },
   {
    "duration": 218,
    "start_time": "2021-07-07T18:42:01.033Z"
   },
   {
    "duration": 49,
    "start_time": "2021-07-07T18:42:01.253Z"
   },
   {
    "duration": 5,
    "start_time": "2021-07-07T18:42:01.303Z"
   },
   {
    "duration": 27,
    "start_time": "2021-07-07T18:42:01.310Z"
   },
   {
    "duration": 8,
    "start_time": "2021-07-07T18:42:01.339Z"
   },
   {
    "duration": 20,
    "start_time": "2021-07-07T18:42:01.348Z"
   },
   {
    "duration": 6,
    "start_time": "2021-07-07T18:42:01.386Z"
   },
   {
    "duration": 16,
    "start_time": "2021-07-07T18:42:01.394Z"
   },
   {
    "duration": 9,
    "start_time": "2021-07-07T18:42:01.411Z"
   },
   {
    "duration": 11,
    "start_time": "2021-07-07T18:42:01.421Z"
   },
   {
    "duration": 31,
    "start_time": "2021-07-07T18:42:01.434Z"
   },
   {
    "duration": 18,
    "start_time": "2021-07-07T18:42:01.485Z"
   },
   {
    "duration": 23,
    "start_time": "2021-07-07T18:42:01.505Z"
   },
   {
    "duration": 6,
    "start_time": "2021-07-07T18:42:01.530Z"
   },
   {
    "duration": 10,
    "start_time": "2021-07-07T18:42:01.538Z"
   },
   {
    "duration": 13,
    "start_time": "2021-07-07T18:42:01.550Z"
   },
   {
    "duration": 24,
    "start_time": "2021-07-07T18:42:01.564Z"
   },
   {
    "duration": 20,
    "start_time": "2021-07-07T18:42:01.590Z"
   },
   {
    "duration": 8,
    "start_time": "2021-07-07T18:42:01.611Z"
   },
   {
    "duration": 31,
    "start_time": "2021-07-07T18:42:01.620Z"
   },
   {
    "duration": 39,
    "start_time": "2021-07-07T18:42:01.653Z"
   },
   {
    "duration": 8,
    "start_time": "2021-07-07T18:42:01.696Z"
   },
   {
    "duration": 13,
    "start_time": "2021-07-07T18:42:01.705Z"
   },
   {
    "duration": 20,
    "start_time": "2021-07-07T18:42:01.720Z"
   },
   {
    "duration": 12,
    "start_time": "2021-07-07T18:42:01.741Z"
   },
   {
    "duration": 35,
    "start_time": "2021-07-07T18:42:01.755Z"
   },
   {
    "duration": 14,
    "start_time": "2021-07-07T18:42:01.792Z"
   },
   {
    "duration": 188,
    "start_time": "2021-07-07T18:42:01.808Z"
   },
   {
    "duration": 19,
    "start_time": "2021-07-07T18:42:01.998Z"
   },
   {
    "duration": 175,
    "start_time": "2021-07-07T18:42:02.019Z"
   },
   {
    "duration": 134,
    "start_time": "2021-07-07T18:42:02.196Z"
   },
   {
    "duration": 10,
    "start_time": "2021-07-07T18:42:02.331Z"
   },
   {
    "duration": 19,
    "start_time": "2021-07-07T18:42:02.343Z"
   },
   {
    "duration": 628,
    "start_time": "2021-07-07T18:46:30.701Z"
   },
   {
    "duration": 183,
    "start_time": "2021-07-07T18:46:31.331Z"
   },
   {
    "duration": 48,
    "start_time": "2021-07-07T18:46:31.516Z"
   },
   {
    "duration": 5,
    "start_time": "2021-07-07T18:46:31.566Z"
   },
   {
    "duration": 28,
    "start_time": "2021-07-07T18:46:31.572Z"
   },
   {
    "duration": 8,
    "start_time": "2021-07-07T18:46:31.602Z"
   },
   {
    "duration": 19,
    "start_time": "2021-07-07T18:46:31.611Z"
   },
   {
    "duration": 6,
    "start_time": "2021-07-07T18:46:31.633Z"
   },
   {
    "duration": 17,
    "start_time": "2021-07-07T18:46:31.642Z"
   },
   {
    "duration": 10,
    "start_time": "2021-07-07T18:46:31.684Z"
   },
   {
    "duration": 9,
    "start_time": "2021-07-07T18:46:31.695Z"
   },
   {
    "duration": 28,
    "start_time": "2021-07-07T18:46:31.705Z"
   },
   {
    "duration": 18,
    "start_time": "2021-07-07T18:46:31.735Z"
   },
   {
    "duration": 48,
    "start_time": "2021-07-07T18:46:31.755Z"
   },
   {
    "duration": 6,
    "start_time": "2021-07-07T18:46:31.804Z"
   },
   {
    "duration": 4,
    "start_time": "2021-07-07T18:46:31.812Z"
   },
   {
    "duration": 9,
    "start_time": "2021-07-07T18:46:31.817Z"
   },
   {
    "duration": 10,
    "start_time": "2021-07-07T18:46:31.827Z"
   },
   {
    "duration": 12,
    "start_time": "2021-07-07T18:46:31.838Z"
   },
   {
    "duration": 39,
    "start_time": "2021-07-07T18:46:31.851Z"
   },
   {
    "duration": 24,
    "start_time": "2021-07-07T18:46:31.892Z"
   },
   {
    "duration": 15,
    "start_time": "2021-07-07T18:46:31.918Z"
   },
   {
    "duration": 7,
    "start_time": "2021-07-07T18:46:31.936Z"
   },
   {
    "duration": 8,
    "start_time": "2021-07-07T18:46:31.944Z"
   },
   {
    "duration": 19,
    "start_time": "2021-07-07T18:46:31.984Z"
   },
   {
    "duration": 10,
    "start_time": "2021-07-07T18:46:32.004Z"
   },
   {
    "duration": 5,
    "start_time": "2021-07-07T18:46:32.016Z"
   },
   {
    "duration": 9,
    "start_time": "2021-07-07T18:46:32.023Z"
   },
   {
    "duration": 199,
    "start_time": "2021-07-07T18:46:32.033Z"
   },
   {
    "duration": 19,
    "start_time": "2021-07-07T18:46:32.234Z"
   },
   {
    "duration": 159,
    "start_time": "2021-07-07T18:46:32.255Z"
   },
   {
    "duration": 134,
    "start_time": "2021-07-07T18:46:32.416Z"
   },
   {
    "duration": 10,
    "start_time": "2021-07-07T18:46:32.552Z"
   },
   {
    "duration": 34,
    "start_time": "2021-07-07T18:46:32.563Z"
   },
   {
    "duration": 1039,
    "start_time": "2021-07-08T08:41:09.419Z"
   },
   {
    "duration": 333,
    "start_time": "2021-07-08T08:41:10.459Z"
   },
   {
    "duration": 173,
    "start_time": "2021-07-08T08:41:10.794Z"
   },
   {
    "duration": 5,
    "start_time": "2021-07-08T08:41:10.968Z"
   },
   {
    "duration": 25,
    "start_time": "2021-07-08T08:41:10.975Z"
   },
   {
    "duration": 9,
    "start_time": "2021-07-08T08:41:11.002Z"
   },
   {
    "duration": 18,
    "start_time": "2021-07-08T08:41:11.013Z"
   },
   {
    "duration": 6,
    "start_time": "2021-07-08T08:41:11.033Z"
   },
   {
    "duration": 44,
    "start_time": "2021-07-08T08:41:11.042Z"
   },
   {
    "duration": 10,
    "start_time": "2021-07-08T08:41:11.088Z"
   },
   {
    "duration": 9,
    "start_time": "2021-07-08T08:41:11.100Z"
   },
   {
    "duration": 27,
    "start_time": "2021-07-08T08:41:11.111Z"
   },
   {
    "duration": 46,
    "start_time": "2021-07-08T08:41:11.140Z"
   },
   {
    "duration": 17,
    "start_time": "2021-07-08T08:41:11.187Z"
   },
   {
    "duration": 6,
    "start_time": "2021-07-08T08:41:11.206Z"
   },
   {
    "duration": 5,
    "start_time": "2021-07-08T08:41:11.213Z"
   },
   {
    "duration": 10,
    "start_time": "2021-07-08T08:41:11.219Z"
   },
   {
    "duration": 9,
    "start_time": "2021-07-08T08:41:11.230Z"
   },
   {
    "duration": 45,
    "start_time": "2021-07-08T08:41:11.241Z"
   },
   {
    "duration": 7,
    "start_time": "2021-07-08T08:41:11.287Z"
   },
   {
    "duration": 24,
    "start_time": "2021-07-08T08:41:11.296Z"
   },
   {
    "duration": 16,
    "start_time": "2021-07-08T08:41:11.322Z"
   },
   {
    "duration": 7,
    "start_time": "2021-07-08T08:41:11.341Z"
   },
   {
    "duration": 41,
    "start_time": "2021-07-08T08:41:11.349Z"
   },
   {
    "duration": 17,
    "start_time": "2021-07-08T08:41:11.391Z"
   },
   {
    "duration": 9,
    "start_time": "2021-07-08T08:41:11.410Z"
   },
   {
    "duration": 5,
    "start_time": "2021-07-08T08:41:11.421Z"
   },
   {
    "duration": 6,
    "start_time": "2021-07-08T08:41:11.428Z"
   },
   {
    "duration": 198,
    "start_time": "2021-07-08T08:41:11.435Z"
   },
   {
    "duration": 18,
    "start_time": "2021-07-08T08:41:11.635Z"
   },
   {
    "duration": 155,
    "start_time": "2021-07-08T08:41:11.655Z"
   },
   {
    "duration": 138,
    "start_time": "2021-07-08T08:41:11.811Z"
   },
   {
    "duration": 10,
    "start_time": "2021-07-08T08:41:11.950Z"
   },
   {
    "duration": 29,
    "start_time": "2021-07-08T08:41:11.961Z"
   },
   {
    "duration": 171,
    "start_time": "2021-07-08T08:47:44.522Z"
   },
   {
    "duration": 124,
    "start_time": "2021-07-08T08:47:46.872Z"
   },
   {
    "duration": 191,
    "start_time": "2021-07-08T08:47:58.148Z"
   },
   {
    "duration": 191,
    "start_time": "2021-07-08T08:48:07.412Z"
   },
   {
    "duration": 261,
    "start_time": "2021-07-08T08:48:10.385Z"
   },
   {
    "duration": 255,
    "start_time": "2021-07-08T08:48:14.494Z"
   },
   {
    "duration": 219,
    "start_time": "2021-07-08T08:48:22.752Z"
   },
   {
    "duration": 173,
    "start_time": "2021-07-08T08:49:06.395Z"
   },
   {
    "duration": 180,
    "start_time": "2021-07-08T08:49:21.011Z"
   },
   {
    "duration": 6,
    "start_time": "2021-07-08T08:50:31.697Z"
   },
   {
    "duration": 10,
    "start_time": "2021-07-08T08:50:47.394Z"
   },
   {
    "duration": 11,
    "start_time": "2021-07-08T08:53:49.332Z"
   },
   {
    "duration": 171,
    "start_time": "2021-07-08T08:54:28.408Z"
   },
   {
    "duration": 636,
    "start_time": "2021-07-08T09:02:48.385Z"
   },
   {
    "duration": 227,
    "start_time": "2021-07-08T09:02:49.023Z"
   },
   {
    "duration": 104,
    "start_time": "2021-07-08T09:02:49.252Z"
   },
   {
    "duration": 5,
    "start_time": "2021-07-08T09:02:49.358Z"
   },
   {
    "duration": 27,
    "start_time": "2021-07-08T09:02:49.365Z"
   },
   {
    "duration": 8,
    "start_time": "2021-07-08T09:02:49.394Z"
   },
   {
    "duration": 18,
    "start_time": "2021-07-08T09:02:49.404Z"
   },
   {
    "duration": 6,
    "start_time": "2021-07-08T09:02:49.424Z"
   },
   {
    "duration": 11,
    "start_time": "2021-07-08T09:02:49.433Z"
   },
   {
    "duration": 13,
    "start_time": "2021-07-08T09:02:49.485Z"
   },
   {
    "duration": 9,
    "start_time": "2021-07-08T09:02:49.500Z"
   },
   {
    "duration": 38,
    "start_time": "2021-07-08T09:02:49.511Z"
   },
   {
    "duration": 42,
    "start_time": "2021-07-08T09:02:49.551Z"
   },
   {
    "duration": 21,
    "start_time": "2021-07-08T09:02:49.594Z"
   },
   {
    "duration": 6,
    "start_time": "2021-07-08T09:02:49.616Z"
   },
   {
    "duration": 3,
    "start_time": "2021-07-08T09:02:49.623Z"
   },
   {
    "duration": 9,
    "start_time": "2021-07-08T09:02:49.628Z"
   },
   {
    "duration": 52,
    "start_time": "2021-07-08T09:02:49.638Z"
   },
   {
    "duration": 11,
    "start_time": "2021-07-08T09:02:49.692Z"
   },
   {
    "duration": 8,
    "start_time": "2021-07-08T09:02:49.704Z"
   },
   {
    "duration": 27,
    "start_time": "2021-07-08T09:02:49.713Z"
   },
   {
    "duration": 59,
    "start_time": "2021-07-08T09:02:49.741Z"
   },
   {
    "duration": 8,
    "start_time": "2021-07-08T09:02:49.803Z"
   },
   {
    "duration": 14,
    "start_time": "2021-07-08T09:02:49.813Z"
   },
   {
    "duration": 20,
    "start_time": "2021-07-08T09:02:49.829Z"
   },
   {
    "duration": 44,
    "start_time": "2021-07-08T09:02:49.851Z"
   },
   {
    "duration": 14,
    "start_time": "2021-07-08T09:02:49.896Z"
   },
   {
    "duration": 221,
    "start_time": "2021-07-08T09:02:49.912Z"
   },
   {
    "duration": 6,
    "start_time": "2021-07-08T09:02:50.134Z"
   },
   {
    "duration": 206,
    "start_time": "2021-07-08T09:02:50.142Z"
   },
   {
    "duration": 19,
    "start_time": "2021-07-08T09:02:50.350Z"
   },
   {
    "duration": 21,
    "start_time": "2021-07-08T09:02:50.370Z"
   },
   {
    "duration": 20,
    "start_time": "2021-07-08T09:02:50.393Z"
   },
   {
    "duration": 5,
    "start_time": "2021-07-08T09:02:50.414Z"
   },
   {
    "duration": 5,
    "start_time": "2021-07-08T09:03:34.173Z"
   },
   {
    "duration": 6,
    "start_time": "2021-07-08T09:04:49.062Z"
   },
   {
    "duration": 9,
    "start_time": "2021-07-08T09:04:50.118Z"
   },
   {
    "duration": 14,
    "start_time": "2021-07-08T09:04:58.512Z"
   },
   {
    "duration": 9,
    "start_time": "2021-07-08T09:05:10.988Z"
   },
   {
    "duration": 11,
    "start_time": "2021-07-08T09:05:11.743Z"
   },
   {
    "duration": 7,
    "start_time": "2021-07-08T09:05:25.677Z"
   },
   {
    "duration": 13,
    "start_time": "2021-07-08T09:05:47.189Z"
   },
   {
    "duration": 13,
    "start_time": "2021-07-08T09:05:54.755Z"
   },
   {
    "duration": 4,
    "start_time": "2021-07-08T09:06:29.189Z"
   },
   {
    "duration": 244,
    "start_time": "2021-07-08T09:06:29.195Z"
   },
   {
    "duration": 91,
    "start_time": "2021-07-08T09:06:29.441Z"
   },
   {
    "duration": 4,
    "start_time": "2021-07-08T09:06:29.534Z"
   },
   {
    "duration": 28,
    "start_time": "2021-07-08T09:06:29.540Z"
   },
   {
    "duration": 6,
    "start_time": "2021-07-08T09:06:29.570Z"
   },
   {
    "duration": 18,
    "start_time": "2021-07-08T09:06:29.578Z"
   },
   {
    "duration": 5,
    "start_time": "2021-07-08T09:06:29.597Z"
   },
   {
    "duration": 13,
    "start_time": "2021-07-08T09:06:29.605Z"
   },
   {
    "duration": 8,
    "start_time": "2021-07-08T09:06:29.620Z"
   },
   {
    "duration": 7,
    "start_time": "2021-07-08T09:06:29.630Z"
   },
   {
    "duration": 63,
    "start_time": "2021-07-08T09:06:29.639Z"
   },
   {
    "duration": 17,
    "start_time": "2021-07-08T09:06:29.704Z"
   },
   {
    "duration": 20,
    "start_time": "2021-07-08T09:06:29.723Z"
   },
   {
    "duration": 6,
    "start_time": "2021-07-08T09:06:29.745Z"
   },
   {
    "duration": 3,
    "start_time": "2021-07-08T09:06:29.752Z"
   },
   {
    "duration": 7,
    "start_time": "2021-07-08T09:06:29.785Z"
   },
   {
    "duration": 11,
    "start_time": "2021-07-08T09:06:29.794Z"
   },
   {
    "duration": 15,
    "start_time": "2021-07-08T09:06:29.807Z"
   },
   {
    "duration": 8,
    "start_time": "2021-07-08T09:06:29.823Z"
   },
   {
    "duration": 70,
    "start_time": "2021-07-08T09:06:29.832Z"
   },
   {
    "duration": 17,
    "start_time": "2021-07-08T09:06:29.903Z"
   },
   {
    "duration": 9,
    "start_time": "2021-07-08T09:06:29.921Z"
   },
   {
    "duration": 9,
    "start_time": "2021-07-08T09:06:29.932Z"
   },
   {
    "duration": 57,
    "start_time": "2021-07-08T09:06:29.942Z"
   },
   {
    "duration": 11,
    "start_time": "2021-07-08T09:06:30.001Z"
   },
   {
    "duration": 19,
    "start_time": "2021-07-08T09:06:30.016Z"
   },
   {
    "duration": 217,
    "start_time": "2021-07-08T09:06:30.037Z"
   },
   {
    "duration": 6,
    "start_time": "2021-07-08T09:06:30.255Z"
   },
   {
    "duration": 205,
    "start_time": "2021-07-08T09:06:30.263Z"
   },
   {
    "duration": 27,
    "start_time": "2021-07-08T09:06:30.470Z"
   },
   {
    "duration": 11,
    "start_time": "2021-07-08T09:06:30.500Z"
   },
   {
    "duration": 31,
    "start_time": "2021-07-08T09:06:30.513Z"
   },
   {
    "duration": 18,
    "start_time": "2021-07-08T09:06:30.546Z"
   },
   {
    "duration": 11,
    "start_time": "2021-07-08T09:06:30.566Z"
   },
   {
    "duration": 19,
    "start_time": "2021-07-08T09:06:30.579Z"
   },
   {
    "duration": 20,
    "start_time": "2021-07-08T09:06:49.466Z"
   },
   {
    "duration": 9,
    "start_time": "2021-07-08T09:06:51.994Z"
   },
   {
    "duration": 20,
    "start_time": "2021-07-08T09:06:52.273Z"
   },
   {
    "duration": 246,
    "start_time": "2021-07-08T09:10:21.272Z"
   },
   {
    "duration": 84,
    "start_time": "2021-07-08T09:10:21.436Z"
   },
   {
    "duration": 7,
    "start_time": "2021-07-08T09:10:37.608Z"
   },
   {
    "duration": 189,
    "start_time": "2021-07-08T09:10:38.573Z"
   },
   {
    "duration": 185,
    "start_time": "2021-07-08T09:10:53.181Z"
   },
   {
    "duration": 11,
    "start_time": "2021-07-08T09:10:59.549Z"
   },
   {
    "duration": 42,
    "start_time": "2021-07-08T09:10:59.709Z"
   },
   {
    "duration": 12,
    "start_time": "2021-07-08T09:11:02.857Z"
   },
   {
    "duration": 28,
    "start_time": "2021-07-08T09:11:10.062Z"
   },
   {
    "duration": 249,
    "start_time": "2021-07-08T09:11:37.388Z"
   },
   {
    "duration": 232,
    "start_time": "2021-07-08T09:11:49.485Z"
   },
   {
    "duration": 453,
    "start_time": "2021-07-08T09:12:01.546Z"
   },
   {
    "duration": 440,
    "start_time": "2021-07-08T09:12:12.347Z"
   },
   {
    "duration": 213,
    "start_time": "2021-07-08T09:13:32.196Z"
   },
   {
    "duration": 172,
    "start_time": "2021-07-08T09:14:07.400Z"
   },
   {
    "duration": 185,
    "start_time": "2021-07-08T09:14:14.905Z"
   },
   {
    "duration": 209,
    "start_time": "2021-07-08T09:14:40.109Z"
   },
   {
    "duration": 201,
    "start_time": "2021-07-08T09:14:54.506Z"
   },
   {
    "duration": 622,
    "start_time": "2021-07-08T09:18:14.497Z"
   },
   {
    "duration": 220,
    "start_time": "2021-07-08T09:18:15.121Z"
   },
   {
    "duration": 79,
    "start_time": "2021-07-08T09:18:15.343Z"
   },
   {
    "duration": 4,
    "start_time": "2021-07-08T09:18:15.425Z"
   },
   {
    "duration": 24,
    "start_time": "2021-07-08T09:18:15.431Z"
   },
   {
    "duration": 8,
    "start_time": "2021-07-08T09:18:15.457Z"
   },
   {
    "duration": 16,
    "start_time": "2021-07-08T09:18:15.466Z"
   },
   {
    "duration": 5,
    "start_time": "2021-07-08T09:18:15.484Z"
   },
   {
    "duration": 10,
    "start_time": "2021-07-08T09:18:15.493Z"
   },
   {
    "duration": 8,
    "start_time": "2021-07-08T09:18:15.504Z"
   },
   {
    "duration": 7,
    "start_time": "2021-07-08T09:18:15.513Z"
   },
   {
    "duration": 26,
    "start_time": "2021-07-08T09:18:15.522Z"
   },
   {
    "duration": 49,
    "start_time": "2021-07-08T09:18:15.550Z"
   },
   {
    "duration": 21,
    "start_time": "2021-07-08T09:18:15.601Z"
   },
   {
    "duration": 8,
    "start_time": "2021-07-08T09:18:15.624Z"
   },
   {
    "duration": 3,
    "start_time": "2021-07-08T09:18:15.634Z"
   },
   {
    "duration": 8,
    "start_time": "2021-07-08T09:18:15.639Z"
   },
   {
    "duration": 45,
    "start_time": "2021-07-08T09:18:15.649Z"
   },
   {
    "duration": 13,
    "start_time": "2021-07-08T09:18:15.696Z"
   },
   {
    "duration": 10,
    "start_time": "2021-07-08T09:18:15.711Z"
   },
   {
    "duration": 64,
    "start_time": "2021-07-08T09:18:15.722Z"
   },
   {
    "duration": 19,
    "start_time": "2021-07-08T09:18:15.788Z"
   },
   {
    "duration": 9,
    "start_time": "2021-07-08T09:18:15.809Z"
   },
   {
    "duration": 9,
    "start_time": "2021-07-08T09:18:15.820Z"
   },
   {
    "duration": 18,
    "start_time": "2021-07-08T09:18:15.831Z"
   },
   {
    "duration": 43,
    "start_time": "2021-07-08T09:18:15.851Z"
   },
   {
    "duration": 12,
    "start_time": "2021-07-08T09:18:15.897Z"
   },
   {
    "duration": 219,
    "start_time": "2021-07-08T09:18:15.911Z"
   },
   {
    "duration": 8,
    "start_time": "2021-07-08T09:18:16.132Z"
   },
   {
    "duration": 199,
    "start_time": "2021-07-08T09:18:16.141Z"
   },
   {
    "duration": 18,
    "start_time": "2021-07-08T09:18:16.341Z"
   },
   {
    "duration": 24,
    "start_time": "2021-07-08T09:18:16.361Z"
   },
   {
    "duration": 24,
    "start_time": "2021-07-08T09:18:16.387Z"
   },
   {
    "duration": 211,
    "start_time": "2021-07-08T09:18:16.413Z"
   },
   {
    "duration": 18,
    "start_time": "2021-07-08T09:18:16.626Z"
   },
   {
    "duration": 596,
    "start_time": "2021-07-08T10:06:33.623Z"
   },
   {
    "duration": 181,
    "start_time": "2021-07-08T10:06:34.221Z"
   },
   {
    "duration": 176,
    "start_time": "2021-07-08T10:06:34.635Z"
   },
   {
    "duration": 239,
    "start_time": "2021-07-08T10:06:55.572Z"
   },
   {
    "duration": 6,
    "start_time": "2021-07-08T10:06:57.687Z"
   },
   {
    "duration": 4,
    "start_time": "2021-07-08T10:07:03.956Z"
   },
   {
    "duration": 4,
    "start_time": "2021-07-08T10:07:10.376Z"
   },
   {
    "duration": 4,
    "start_time": "2021-07-08T10:17:19.889Z"
   },
   {
    "duration": 3,
    "start_time": "2021-07-08T10:19:19.407Z"
   },
   {
    "duration": 197,
    "start_time": "2021-07-08T10:19:19.412Z"
   },
   {
    "duration": 127,
    "start_time": "2021-07-08T10:19:19.611Z"
   },
   {
    "duration": 4,
    "start_time": "2021-07-08T10:19:19.740Z"
   },
   {
    "duration": 27,
    "start_time": "2021-07-08T10:19:19.746Z"
   },
   {
    "duration": 7,
    "start_time": "2021-07-08T10:19:19.775Z"
   },
   {
    "duration": 30,
    "start_time": "2021-07-08T10:19:19.784Z"
   },
   {
    "duration": 7,
    "start_time": "2021-07-08T10:19:19.817Z"
   },
   {
    "duration": 26,
    "start_time": "2021-07-08T10:19:19.826Z"
   },
   {
    "duration": 18,
    "start_time": "2021-07-08T10:19:19.854Z"
   },
   {
    "duration": 14,
    "start_time": "2021-07-08T10:19:19.874Z"
   },
   {
    "duration": 48,
    "start_time": "2021-07-08T10:19:19.890Z"
   },
   {
    "duration": 17,
    "start_time": "2021-07-08T10:19:19.940Z"
   },
   {
    "duration": 38,
    "start_time": "2021-07-08T10:19:19.959Z"
   },
   {
    "duration": 8,
    "start_time": "2021-07-08T10:19:19.999Z"
   },
   {
    "duration": 15,
    "start_time": "2021-07-08T10:19:20.009Z"
   },
   {
    "duration": 22,
    "start_time": "2021-07-08T10:19:20.026Z"
   },
   {
    "duration": 10,
    "start_time": "2021-07-08T10:19:20.050Z"
   },
   {
    "duration": 10,
    "start_time": "2021-07-08T10:19:20.062Z"
   },
   {
    "duration": 20,
    "start_time": "2021-07-08T10:19:20.073Z"
   },
   {
    "duration": 29,
    "start_time": "2021-07-08T10:19:20.095Z"
   },
   {
    "duration": 17,
    "start_time": "2021-07-08T10:19:20.126Z"
   },
   {
    "duration": 40,
    "start_time": "2021-07-08T10:19:20.146Z"
   },
   {
    "duration": 15,
    "start_time": "2021-07-08T10:19:20.189Z"
   },
   {
    "duration": 19,
    "start_time": "2021-07-08T10:19:20.206Z"
   },
   {
    "duration": 10,
    "start_time": "2021-07-08T10:19:20.226Z"
   },
   {
    "duration": 11,
    "start_time": "2021-07-08T10:19:20.238Z"
   },
   {
    "duration": 297,
    "start_time": "2021-07-08T10:19:20.250Z"
   },
   {
    "duration": 6,
    "start_time": "2021-07-08T10:19:20.549Z"
   },
   {
    "duration": 191,
    "start_time": "2021-07-08T10:19:20.557Z"
   },
   {
    "duration": 19,
    "start_time": "2021-07-08T10:19:20.750Z"
   },
   {
    "duration": 20,
    "start_time": "2021-07-08T10:19:20.771Z"
   },
   {
    "duration": 15,
    "start_time": "2021-07-08T10:19:20.793Z"
   },
   {
    "duration": 222,
    "start_time": "2021-07-08T10:19:20.809Z"
   },
   {
    "duration": 20,
    "start_time": "2021-07-08T10:19:21.033Z"
   },
   {
    "duration": 27,
    "start_time": "2021-07-08T10:45:04.055Z"
   },
   {
    "duration": 8,
    "start_time": "2021-07-08T10:45:08.478Z"
   },
   {
    "duration": 8,
    "start_time": "2021-07-08T10:45:31.982Z"
   },
   {
    "duration": 10,
    "start_time": "2021-07-08T10:46:01.221Z"
   },
   {
    "duration": 17,
    "start_time": "2021-07-08T10:46:40.011Z"
   },
   {
    "duration": 193,
    "start_time": "2021-07-08T10:48:19.471Z"
   },
   {
    "duration": 225,
    "start_time": "2021-07-08T10:49:26.480Z"
   },
   {
    "duration": 204,
    "start_time": "2021-07-08T10:49:59.992Z"
   },
   {
    "duration": 435,
    "start_time": "2021-07-08T10:50:06.779Z"
   },
   {
    "duration": 199,
    "start_time": "2021-07-08T10:50:14.891Z"
   },
   {
    "duration": 204,
    "start_time": "2021-07-08T10:50:18.501Z"
   },
   {
    "duration": 244,
    "start_time": "2021-07-08T10:50:23.359Z"
   },
   {
    "duration": 192,
    "start_time": "2021-07-08T10:50:29.135Z"
   },
   {
    "duration": 218,
    "start_time": "2021-07-08T10:50:33.092Z"
   },
   {
    "duration": 207,
    "start_time": "2021-07-08T10:52:45.381Z"
   },
   {
    "duration": 5,
    "start_time": "2021-07-08T10:53:34.641Z"
   },
   {
    "duration": 196,
    "start_time": "2021-07-08T10:53:41.478Z"
   },
   {
    "duration": 43,
    "start_time": "2021-07-08T10:53:50.335Z"
   },
   {
    "duration": 32,
    "start_time": "2021-07-08T10:53:55.294Z"
   },
   {
    "duration": 55,
    "start_time": "2021-07-08T10:54:09.675Z"
   },
   {
    "duration": 16,
    "start_time": "2021-07-08T10:54:12.260Z"
   },
   {
    "duration": 15,
    "start_time": "2021-07-08T10:54:49.150Z"
   },
   {
    "duration": 20,
    "start_time": "2021-07-08T10:56:07.596Z"
   },
   {
    "duration": 16,
    "start_time": "2021-07-08T10:58:26.276Z"
   },
   {
    "duration": 22,
    "start_time": "2021-07-08T10:59:00.486Z"
   },
   {
    "duration": 18,
    "start_time": "2021-07-08T11:02:09.653Z"
   },
   {
    "duration": 10,
    "start_time": "2021-07-08T11:03:44.331Z"
   },
   {
    "duration": 10,
    "start_time": "2021-07-08T11:03:54.055Z"
   },
   {
    "duration": 12,
    "start_time": "2021-07-08T11:04:41.967Z"
   },
   {
    "duration": 24,
    "start_time": "2021-07-08T11:07:30.732Z"
   },
   {
    "duration": 6,
    "start_time": "2021-07-08T11:07:37.364Z"
   },
   {
    "duration": 16,
    "start_time": "2021-07-08T11:08:01.819Z"
   },
   {
    "duration": 17,
    "start_time": "2021-07-08T11:09:47.488Z"
   },
   {
    "duration": 246,
    "start_time": "2021-07-08T11:10:00.830Z"
   },
   {
    "duration": 18,
    "start_time": "2021-07-08T11:13:55.195Z"
   },
   {
    "duration": 204,
    "start_time": "2021-07-08T11:14:04.951Z"
   },
   {
    "duration": 19,
    "start_time": "2021-07-08T11:15:10.613Z"
   },
   {
    "duration": 680,
    "start_time": "2021-07-08T11:16:25.793Z"
   },
   {
    "duration": 451,
    "start_time": "2021-07-08T11:16:40.313Z"
   },
   {
    "duration": 469,
    "start_time": "2021-07-08T11:17:21.286Z"
   },
   {
    "duration": 20,
    "start_time": "2021-07-08T11:19:12.554Z"
   },
   {
    "duration": 35,
    "start_time": "2021-07-08T11:20:05.484Z"
   },
   {
    "duration": 53,
    "start_time": "2021-07-08T11:21:40.050Z"
   },
   {
    "duration": 13,
    "start_time": "2021-07-08T11:22:26.059Z"
   },
   {
    "duration": 19,
    "start_time": "2021-07-08T11:22:47.419Z"
   },
   {
    "duration": 25,
    "start_time": "2021-07-08T11:23:19.958Z"
   },
   {
    "duration": 29,
    "start_time": "2021-07-08T11:23:25.415Z"
   },
   {
    "duration": 10,
    "start_time": "2021-07-08T11:24:45.138Z"
   },
   {
    "duration": 19,
    "start_time": "2021-07-08T11:24:54.498Z"
   },
   {
    "duration": 12,
    "start_time": "2021-07-08T11:25:32.225Z"
   },
   {
    "duration": 19,
    "start_time": "2021-07-08T11:25:37.092Z"
   },
   {
    "duration": 17,
    "start_time": "2021-07-08T11:25:58.116Z"
   },
   {
    "duration": 15,
    "start_time": "2021-07-08T11:26:02.258Z"
   },
   {
    "duration": 8,
    "start_time": "2021-07-08T11:26:59.682Z"
   },
   {
    "duration": 184,
    "start_time": "2021-07-08T11:27:21.894Z"
   },
   {
    "duration": 8,
    "start_time": "2021-07-08T11:27:23.824Z"
   },
   {
    "duration": 202,
    "start_time": "2021-07-08T11:27:23.962Z"
   },
   {
    "duration": 360,
    "start_time": "2021-07-08T11:28:33.215Z"
   },
   {
    "duration": 231,
    "start_time": "2021-07-08T11:32:05.542Z"
   },
   {
    "duration": 607,
    "start_time": "2021-07-08T11:36:27.854Z"
   },
   {
    "duration": 241,
    "start_time": "2021-07-08T11:36:28.463Z"
   },
   {
    "duration": 67,
    "start_time": "2021-07-08T11:36:28.709Z"
   },
   {
    "duration": 5,
    "start_time": "2021-07-08T11:36:28.778Z"
   },
   {
    "duration": 32,
    "start_time": "2021-07-08T11:36:28.784Z"
   },
   {
    "duration": 11,
    "start_time": "2021-07-08T11:36:28.819Z"
   },
   {
    "duration": 20,
    "start_time": "2021-07-08T11:36:28.834Z"
   },
   {
    "duration": 36,
    "start_time": "2021-07-08T11:36:28.857Z"
   },
   {
    "duration": 16,
    "start_time": "2021-07-08T11:36:28.895Z"
   },
   {
    "duration": 14,
    "start_time": "2021-07-08T11:36:28.913Z"
   },
   {
    "duration": 9,
    "start_time": "2021-07-08T11:36:28.930Z"
   },
   {
    "duration": 55,
    "start_time": "2021-07-08T11:36:28.941Z"
   },
   {
    "duration": 27,
    "start_time": "2021-07-08T11:36:28.999Z"
   },
   {
    "duration": 30,
    "start_time": "2021-07-08T11:36:29.028Z"
   },
   {
    "duration": 31,
    "start_time": "2021-07-08T11:36:29.060Z"
   },
   {
    "duration": 3,
    "start_time": "2021-07-08T11:36:29.093Z"
   },
   {
    "duration": 12,
    "start_time": "2021-07-08T11:36:29.099Z"
   },
   {
    "duration": 11,
    "start_time": "2021-07-08T11:36:29.112Z"
   },
   {
    "duration": 12,
    "start_time": "2021-07-08T11:36:29.125Z"
   },
   {
    "duration": 9,
    "start_time": "2021-07-08T11:36:29.139Z"
   },
   {
    "duration": 31,
    "start_time": "2021-07-08T11:36:29.191Z"
   },
   {
    "duration": 17,
    "start_time": "2021-07-08T11:36:29.226Z"
   },
   {
    "duration": 7,
    "start_time": "2021-07-08T11:36:29.245Z"
   },
   {
    "duration": 10,
    "start_time": "2021-07-08T11:36:29.254Z"
   },
   {
    "duration": 30,
    "start_time": "2021-07-08T11:36:29.292Z"
   },
   {
    "duration": 11,
    "start_time": "2021-07-08T11:36:29.324Z"
   },
   {
    "duration": 11,
    "start_time": "2021-07-08T11:36:29.337Z"
   },
   {
    "duration": 230,
    "start_time": "2021-07-08T11:36:29.349Z"
   },
   {
    "duration": 13,
    "start_time": "2021-07-08T11:36:29.588Z"
   },
   {
    "duration": 205,
    "start_time": "2021-07-08T11:36:29.603Z"
   },
   {
    "duration": 20,
    "start_time": "2021-07-08T11:36:29.810Z"
   },
   {
    "duration": 9,
    "start_time": "2021-07-08T11:36:29.832Z"
   },
   {
    "duration": 16,
    "start_time": "2021-07-08T11:36:29.843Z"
   },
   {
    "duration": 283,
    "start_time": "2021-07-08T11:36:29.861Z"
   },
   {
    "duration": 50,
    "start_time": "2021-07-08T11:36:30.146Z"
   },
   {
    "duration": 14,
    "start_time": "2021-07-08T11:36:30.198Z"
   },
   {
    "duration": 11,
    "start_time": "2021-07-08T11:36:30.214Z"
   },
   {
    "duration": 245,
    "start_time": "2021-07-08T11:36:30.227Z"
   },
   {
    "duration": 439,
    "start_time": "2021-07-08T11:36:30.474Z"
   },
   {
    "duration": 210,
    "start_time": "2021-07-08T11:36:30.915Z"
   },
   {
    "duration": 15,
    "start_time": "2021-07-08T11:36:31.127Z"
   },
   {
    "duration": 17,
    "start_time": "2021-07-08T11:38:20.451Z"
   },
   {
    "duration": 642,
    "start_time": "2021-07-08T11:46:17.881Z"
   },
   {
    "duration": 210,
    "start_time": "2021-07-08T11:46:18.525Z"
   },
   {
    "duration": 104,
    "start_time": "2021-07-08T11:46:18.741Z"
   },
   {
    "duration": 8,
    "start_time": "2021-07-08T11:46:18.847Z"
   },
   {
    "duration": 25,
    "start_time": "2021-07-08T11:46:18.857Z"
   },
   {
    "duration": 14,
    "start_time": "2021-07-08T11:46:18.884Z"
   },
   {
    "duration": 22,
    "start_time": "2021-07-08T11:46:18.900Z"
   },
   {
    "duration": 5,
    "start_time": "2021-07-08T11:46:18.924Z"
   },
   {
    "duration": 13,
    "start_time": "2021-07-08T11:46:18.931Z"
   },
   {
    "duration": 45,
    "start_time": "2021-07-08T11:46:18.946Z"
   },
   {
    "duration": 12,
    "start_time": "2021-07-08T11:46:18.993Z"
   },
   {
    "duration": 38,
    "start_time": "2021-07-08T11:46:19.006Z"
   },
   {
    "duration": 50,
    "start_time": "2021-07-08T11:46:19.046Z"
   },
   {
    "duration": 29,
    "start_time": "2021-07-08T11:46:19.099Z"
   },
   {
    "duration": 7,
    "start_time": "2021-07-08T11:46:19.130Z"
   },
   {
    "duration": 3,
    "start_time": "2021-07-08T11:46:19.139Z"
   },
   {
    "duration": 11,
    "start_time": "2021-07-08T11:46:19.144Z"
   },
   {
    "duration": 40,
    "start_time": "2021-07-08T11:46:19.157Z"
   },
   {
    "duration": 15,
    "start_time": "2021-07-08T11:46:19.199Z"
   },
   {
    "duration": 10,
    "start_time": "2021-07-08T11:46:19.217Z"
   },
   {
    "duration": 68,
    "start_time": "2021-07-08T11:46:19.230Z"
   },
   {
    "duration": 17,
    "start_time": "2021-07-08T11:46:19.301Z"
   },
   {
    "duration": 7,
    "start_time": "2021-07-08T11:46:19.321Z"
   },
   {
    "duration": 11,
    "start_time": "2021-07-08T11:46:19.330Z"
   },
   {
    "duration": 59,
    "start_time": "2021-07-08T11:46:19.343Z"
   },
   {
    "duration": 17,
    "start_time": "2021-07-08T11:46:19.405Z"
   },
   {
    "duration": 16,
    "start_time": "2021-07-08T11:46:19.424Z"
   },
   {
    "duration": 252,
    "start_time": "2021-07-08T11:46:19.443Z"
   },
   {
    "duration": 9,
    "start_time": "2021-07-08T11:46:19.697Z"
   },
   {
    "duration": 224,
    "start_time": "2021-07-08T11:46:19.708Z"
   },
   {
    "duration": 21,
    "start_time": "2021-07-08T11:46:19.934Z"
   },
   {
    "duration": 9,
    "start_time": "2021-07-08T11:46:19.956Z"
   },
   {
    "duration": 32,
    "start_time": "2021-07-08T11:46:19.967Z"
   },
   {
    "duration": 288,
    "start_time": "2021-07-08T11:46:20.004Z"
   },
   {
    "duration": 23,
    "start_time": "2021-07-08T11:46:20.300Z"
   },
   {
    "duration": 11,
    "start_time": "2021-07-08T11:46:20.325Z"
   },
   {
    "duration": 11,
    "start_time": "2021-07-08T11:46:20.339Z"
   },
   {
    "duration": 259,
    "start_time": "2021-07-08T11:46:20.352Z"
   },
   {
    "duration": 438,
    "start_time": "2021-07-08T11:46:20.613Z"
   },
   {
    "duration": 207,
    "start_time": "2021-07-08T11:46:21.054Z"
   },
   {
    "duration": 27,
    "start_time": "2021-07-08T11:46:21.262Z"
   },
   {
    "duration": 19,
    "start_time": "2021-07-08T11:46:21.291Z"
   },
   {
    "duration": 820,
    "start_time": "2021-07-08T11:49:01.655Z"
   },
   {
    "duration": 372,
    "start_time": "2021-07-08T11:49:02.478Z"
   },
   {
    "duration": 98,
    "start_time": "2021-07-08T11:49:02.853Z"
   },
   {
    "duration": 6,
    "start_time": "2021-07-08T11:49:02.953Z"
   },
   {
    "duration": 39,
    "start_time": "2021-07-08T11:49:02.960Z"
   },
   {
    "duration": 9,
    "start_time": "2021-07-08T11:49:03.003Z"
   },
   {
    "duration": 23,
    "start_time": "2021-07-08T11:49:03.014Z"
   },
   {
    "duration": 6,
    "start_time": "2021-07-08T11:49:03.041Z"
   },
   {
    "duration": 20,
    "start_time": "2021-07-08T11:49:03.049Z"
   },
   {
    "duration": 18,
    "start_time": "2021-07-08T11:49:03.084Z"
   },
   {
    "duration": 14,
    "start_time": "2021-07-08T11:49:03.104Z"
   },
   {
    "duration": 39,
    "start_time": "2021-07-08T11:49:03.119Z"
   },
   {
    "duration": 38,
    "start_time": "2021-07-08T11:49:03.160Z"
   },
   {
    "duration": 26,
    "start_time": "2021-07-08T11:49:03.200Z"
   },
   {
    "duration": 7,
    "start_time": "2021-07-08T11:49:03.227Z"
   },
   {
    "duration": 4,
    "start_time": "2021-07-08T11:49:03.236Z"
   },
   {
    "duration": 15,
    "start_time": "2021-07-08T11:49:03.243Z"
   },
   {
    "duration": 21,
    "start_time": "2021-07-08T11:49:03.285Z"
   },
   {
    "duration": 17,
    "start_time": "2021-07-08T11:49:03.309Z"
   },
   {
    "duration": 10,
    "start_time": "2021-07-08T11:49:03.328Z"
   },
   {
    "duration": 65,
    "start_time": "2021-07-08T11:49:03.340Z"
   },
   {
    "duration": 18,
    "start_time": "2021-07-08T11:49:03.407Z"
   },
   {
    "duration": 8,
    "start_time": "2021-07-08T11:49:03.428Z"
   },
   {
    "duration": 15,
    "start_time": "2021-07-08T11:49:03.438Z"
   },
   {
    "duration": 40,
    "start_time": "2021-07-08T11:49:03.455Z"
   },
   {
    "duration": 12,
    "start_time": "2021-07-08T11:49:03.497Z"
   },
   {
    "duration": 29,
    "start_time": "2021-07-08T11:49:03.511Z"
   },
   {
    "duration": 285,
    "start_time": "2021-07-08T11:49:03.542Z"
   },
   {
    "duration": 8,
    "start_time": "2021-07-08T11:49:03.829Z"
   },
   {
    "duration": 227,
    "start_time": "2021-07-08T11:49:03.838Z"
   },
   {
    "duration": 40,
    "start_time": "2021-07-08T11:49:04.066Z"
   },
   {
    "duration": 10,
    "start_time": "2021-07-08T11:49:04.108Z"
   },
   {
    "duration": 26,
    "start_time": "2021-07-08T11:49:04.121Z"
   },
   {
    "duration": 290,
    "start_time": "2021-07-08T11:49:04.149Z"
   },
   {
    "duration": 26,
    "start_time": "2021-07-08T11:49:04.441Z"
   },
   {
    "duration": 31,
    "start_time": "2021-07-08T11:49:04.470Z"
   },
   {
    "duration": 14,
    "start_time": "2021-07-08T11:49:04.503Z"
   },
   {
    "duration": 259,
    "start_time": "2021-07-08T11:49:04.521Z"
   },
   {
    "duration": 480,
    "start_time": "2021-07-08T11:49:04.782Z"
   },
   {
    "duration": 225,
    "start_time": "2021-07-08T11:49:05.264Z"
   },
   {
    "duration": 22,
    "start_time": "2021-07-08T11:49:05.491Z"
   },
   {
    "duration": 24,
    "start_time": "2021-07-08T11:49:05.515Z"
   },
   {
    "duration": 634,
    "start_time": "2021-07-08T11:52:24.960Z"
   },
   {
    "duration": 199,
    "start_time": "2021-07-08T11:52:25.599Z"
   },
   {
    "duration": 106,
    "start_time": "2021-07-08T11:52:25.803Z"
   },
   {
    "duration": 7,
    "start_time": "2021-07-08T11:52:25.911Z"
   },
   {
    "duration": 29,
    "start_time": "2021-07-08T11:52:25.920Z"
   },
   {
    "duration": 7,
    "start_time": "2021-07-08T11:52:25.951Z"
   },
   {
    "duration": 26,
    "start_time": "2021-07-08T11:52:25.961Z"
   },
   {
    "duration": 11,
    "start_time": "2021-07-08T11:52:25.990Z"
   },
   {
    "duration": 29,
    "start_time": "2021-07-08T11:52:26.005Z"
   },
   {
    "duration": 9,
    "start_time": "2021-07-08T11:52:26.036Z"
   },
   {
    "duration": 8,
    "start_time": "2021-07-08T11:52:26.047Z"
   },
   {
    "duration": 63,
    "start_time": "2021-07-08T11:52:26.057Z"
   },
   {
    "duration": 17,
    "start_time": "2021-07-08T11:52:26.122Z"
   },
   {
    "duration": 43,
    "start_time": "2021-07-08T11:52:26.142Z"
   },
   {
    "duration": 17,
    "start_time": "2021-07-08T11:52:26.187Z"
   },
   {
    "duration": 5,
    "start_time": "2021-07-08T11:52:26.206Z"
   },
   {
    "duration": 12,
    "start_time": "2021-07-08T11:52:26.212Z"
   },
   {
    "duration": 11,
    "start_time": "2021-07-08T11:52:26.226Z"
   },
   {
    "duration": 12,
    "start_time": "2021-07-08T11:52:26.238Z"
   },
   {
    "duration": 38,
    "start_time": "2021-07-08T11:52:26.252Z"
   },
   {
    "duration": 40,
    "start_time": "2021-07-08T11:52:26.292Z"
   },
   {
    "duration": 17,
    "start_time": "2021-07-08T11:52:26.336Z"
   },
   {
    "duration": 39,
    "start_time": "2021-07-08T11:52:26.355Z"
   },
   {
    "duration": 11,
    "start_time": "2021-07-08T11:52:26.395Z"
   },
   {
    "duration": 23,
    "start_time": "2021-07-08T11:52:26.408Z"
   },
   {
    "duration": 12,
    "start_time": "2021-07-08T11:52:26.432Z"
   },
   {
    "duration": 41,
    "start_time": "2021-07-08T11:52:26.446Z"
   },
   {
    "duration": 215,
    "start_time": "2021-07-08T11:52:26.493Z"
   },
   {
    "duration": 8,
    "start_time": "2021-07-08T11:52:26.710Z"
   },
   {
    "duration": 228,
    "start_time": "2021-07-08T11:52:26.720Z"
   },
   {
    "duration": 18,
    "start_time": "2021-07-08T11:52:26.950Z"
   },
   {
    "duration": 35,
    "start_time": "2021-07-08T11:52:26.969Z"
   },
   {
    "duration": 23,
    "start_time": "2021-07-08T11:52:27.006Z"
   },
   {
    "duration": 258,
    "start_time": "2021-07-08T11:52:27.030Z"
   },
   {
    "duration": 24,
    "start_time": "2021-07-08T11:52:27.290Z"
   },
   {
    "duration": 12,
    "start_time": "2021-07-08T11:52:27.316Z"
   },
   {
    "duration": 10,
    "start_time": "2021-07-08T11:52:27.329Z"
   },
   {
    "duration": 298,
    "start_time": "2021-07-08T11:52:27.341Z"
   },
   {
    "duration": 436,
    "start_time": "2021-07-08T11:52:27.641Z"
   },
   {
    "duration": 216,
    "start_time": "2021-07-08T11:52:28.079Z"
   },
   {
    "duration": 20,
    "start_time": "2021-07-08T11:52:28.297Z"
   },
   {
    "duration": 17,
    "start_time": "2021-07-08T11:52:28.319Z"
   },
   {
    "duration": 174,
    "start_time": "2025-03-18T17:17:22.541Z"
   },
   {
    "duration": 508,
    "start_time": "2025-03-18T17:20:32.427Z"
   },
   {
    "duration": 127,
    "start_time": "2025-03-18T17:23:00.455Z"
   },
   {
    "duration": 101,
    "start_time": "2025-03-18T17:23:16.603Z"
   },
   {
    "duration": 158,
    "start_time": "2025-03-18T17:23:28.459Z"
   },
   {
    "duration": 135,
    "start_time": "2025-03-18T17:23:39.664Z"
   },
   {
    "duration": 17,
    "start_time": "2025-03-18T17:23:57.623Z"
   },
   {
    "duration": 10,
    "start_time": "2025-03-18T17:24:07.970Z"
   },
   {
    "duration": 15,
    "start_time": "2025-03-18T17:24:17.396Z"
   },
   {
    "duration": 14,
    "start_time": "2025-03-18T17:24:27.495Z"
   },
   {
    "duration": 14,
    "start_time": "2025-03-18T17:24:29.162Z"
   },
   {
    "duration": 8,
    "start_time": "2025-03-18T17:24:39.008Z"
   },
   {
    "duration": 14,
    "start_time": "2025-03-18T17:24:53.862Z"
   },
   {
    "duration": 7,
    "start_time": "2025-03-18T17:25:05.037Z"
   },
   {
    "duration": 10,
    "start_time": "2025-03-18T17:25:18.851Z"
   },
   {
    "duration": 17,
    "start_time": "2025-03-18T17:26:01.300Z"
   },
   {
    "duration": 67,
    "start_time": "2025-03-18T17:26:22.197Z"
   },
   {
    "duration": 16,
    "start_time": "2025-03-18T17:26:26.774Z"
   },
   {
    "duration": 8,
    "start_time": "2025-03-18T17:26:35.425Z"
   },
   {
    "duration": 14,
    "start_time": "2025-03-18T17:26:38.376Z"
   },
   {
    "duration": 8,
    "start_time": "2025-03-18T17:27:05.593Z"
   },
   {
    "duration": 14,
    "start_time": "2025-03-18T17:27:54.678Z"
   },
   {
    "duration": 16,
    "start_time": "2025-03-18T17:29:07.688Z"
   },
   {
    "duration": 16,
    "start_time": "2025-03-18T17:29:13.098Z"
   },
   {
    "duration": 8,
    "start_time": "2025-03-18T17:29:22.363Z"
   },
   {
    "duration": 17,
    "start_time": "2025-03-18T17:29:35.785Z"
   },
   {
    "duration": 14,
    "start_time": "2025-03-18T17:29:39.895Z"
   },
   {
    "duration": 13,
    "start_time": "2025-03-18T17:30:14.429Z"
   },
   {
    "duration": 19,
    "start_time": "2025-03-18T17:31:08.280Z"
   },
   {
    "duration": 18,
    "start_time": "2025-03-18T17:31:16.350Z"
   },
   {
    "duration": 13,
    "start_time": "2025-03-18T17:32:20.139Z"
   },
   {
    "duration": 17,
    "start_time": "2025-03-18T17:32:32.527Z"
   },
   {
    "duration": 7,
    "start_time": "2025-03-18T17:47:00.872Z"
   },
   {
    "duration": 9,
    "start_time": "2025-03-18T17:47:19.811Z"
   },
   {
    "duration": 64,
    "start_time": "2025-03-18T17:47:25.363Z"
   },
   {
    "duration": 9,
    "start_time": "2025-03-18T17:47:29.941Z"
   },
   {
    "duration": 6,
    "start_time": "2025-03-18T17:47:35.339Z"
   },
   {
    "duration": 4,
    "start_time": "2025-03-18T17:47:38.467Z"
   },
   {
    "duration": 6,
    "start_time": "2025-03-18T17:47:42.895Z"
   },
   {
    "duration": 7,
    "start_time": "2025-03-18T17:48:02.095Z"
   },
   {
    "duration": 27,
    "start_time": "2025-03-18T17:48:07.069Z"
   },
   {
    "duration": 15,
    "start_time": "2025-03-18T17:48:19.581Z"
   },
   {
    "duration": 11,
    "start_time": "2025-03-18T17:48:27.274Z"
   },
   {
    "duration": 9,
    "start_time": "2025-03-18T17:48:32.412Z"
   },
   {
    "duration": 16,
    "start_time": "2025-03-18T17:48:57.121Z"
   },
   {
    "duration": 19,
    "start_time": "2025-03-18T17:49:02.266Z"
   },
   {
    "duration": 28,
    "start_time": "2025-03-18T17:49:42.964Z"
   },
   {
    "duration": 16,
    "start_time": "2025-03-18T17:49:47.955Z"
   },
   {
    "duration": 50,
    "start_time": "2025-03-18T17:50:24.597Z"
   },
   {
    "duration": 15,
    "start_time": "2025-03-18T17:50:52.192Z"
   },
   {
    "duration": 4,
    "start_time": "2025-03-18T17:53:32.164Z"
   },
   {
    "duration": 7,
    "start_time": "2025-03-18T17:54:11.083Z"
   },
   {
    "duration": 7,
    "start_time": "2025-03-18T17:54:18.143Z"
   },
   {
    "duration": 7,
    "start_time": "2025-03-18T17:54:25.174Z"
   },
   {
    "duration": 5,
    "start_time": "2025-03-18T17:54:27.397Z"
   },
   {
    "duration": 5,
    "start_time": "2025-03-18T17:54:54.946Z"
   },
   {
    "duration": 8,
    "start_time": "2025-03-18T17:56:02.648Z"
   },
   {
    "duration": 29,
    "start_time": "2025-03-18T17:56:05.368Z"
   },
   {
    "duration": 4,
    "start_time": "2025-03-18T17:56:25.822Z"
   },
   {
    "duration": 5,
    "start_time": "2025-03-18T17:57:57.313Z"
   },
   {
    "duration": 12,
    "start_time": "2025-03-18T17:58:27.871Z"
   },
   {
    "duration": 8,
    "start_time": "2025-03-18T17:58:48.880Z"
   },
   {
    "duration": 9,
    "start_time": "2025-03-18T17:58:52.168Z"
   },
   {
    "duration": 10,
    "start_time": "2025-03-18T17:59:18.488Z"
   },
   {
    "duration": 10,
    "start_time": "2025-03-18T17:59:49.377Z"
   },
   {
    "duration": 8,
    "start_time": "2025-03-18T17:59:56.810Z"
   },
   {
    "duration": 11,
    "start_time": "2025-03-18T18:00:04.084Z"
   },
   {
    "duration": 12,
    "start_time": "2025-03-18T18:00:29.730Z"
   },
   {
    "duration": 6,
    "start_time": "2025-03-18T18:00:33.139Z"
   },
   {
    "duration": 12,
    "start_time": "2025-03-18T18:00:45.737Z"
   },
   {
    "duration": 15,
    "start_time": "2025-03-18T18:01:05.449Z"
   },
   {
    "duration": 7,
    "start_time": "2025-03-18T18:01:55.750Z"
   },
   {
    "duration": 6,
    "start_time": "2025-03-18T18:02:00.387Z"
   },
   {
    "duration": 5,
    "start_time": "2025-03-18T18:02:13.513Z"
   },
   {
    "duration": 32,
    "start_time": "2025-03-18T18:04:33.547Z"
   },
   {
    "duration": 10,
    "start_time": "2025-03-18T18:04:38.953Z"
   },
   {
    "duration": 10,
    "start_time": "2025-03-18T18:05:04.747Z"
   },
   {
    "duration": 115,
    "start_time": "2025-03-18T18:05:11.473Z"
   },
   {
    "duration": 30,
    "start_time": "2025-03-18T18:05:24.251Z"
   },
   {
    "duration": 10,
    "start_time": "2025-03-18T18:05:28.847Z"
   },
   {
    "duration": 5,
    "start_time": "2025-03-18T18:06:16.047Z"
   },
   {
    "duration": 5,
    "start_time": "2025-03-18T18:06:20.844Z"
   },
   {
    "duration": 31,
    "start_time": "2025-03-18T18:06:29.726Z"
   },
   {
    "duration": 9,
    "start_time": "2025-03-18T18:06:35.709Z"
   },
   {
    "duration": 21,
    "start_time": "2025-03-18T18:06:52.022Z"
   },
   {
    "duration": 9,
    "start_time": "2025-03-18T18:06:57.847Z"
   },
   {
    "duration": 9,
    "start_time": "2025-03-18T18:07:02.648Z"
   },
   {
    "duration": 9,
    "start_time": "2025-03-18T18:07:04.912Z"
   },
   {
    "duration": 8,
    "start_time": "2025-03-18T18:07:12.564Z"
   },
   {
    "duration": 7,
    "start_time": "2025-03-18T18:07:16.520Z"
   },
   {
    "duration": 9,
    "start_time": "2025-03-18T18:07:30.532Z"
   },
   {
    "duration": 9,
    "start_time": "2025-03-18T18:07:36.647Z"
   },
   {
    "duration": 128,
    "start_time": "2025-03-18T18:07:43.400Z"
   },
   {
    "duration": 20,
    "start_time": "2025-03-18T18:07:43.738Z"
   },
   {
    "duration": 11,
    "start_time": "2025-03-18T18:07:44.151Z"
   },
   {
    "duration": 15,
    "start_time": "2025-03-18T18:07:44.424Z"
   },
   {
    "duration": 7,
    "start_time": "2025-03-18T18:07:44.684Z"
   },
   {
    "duration": 15,
    "start_time": "2025-03-18T18:07:44.920Z"
   },
   {
    "duration": 6,
    "start_time": "2025-03-18T18:07:45.151Z"
   },
   {
    "duration": 10,
    "start_time": "2025-03-18T18:07:45.375Z"
   },
   {
    "duration": 16,
    "start_time": "2025-03-18T18:07:45.613Z"
   },
   {
    "duration": 23,
    "start_time": "2025-03-18T18:07:45.837Z"
   },
   {
    "duration": 14,
    "start_time": "2025-03-18T18:07:46.054Z"
   },
   {
    "duration": 16,
    "start_time": "2025-03-18T18:07:46.274Z"
   },
   {
    "duration": 4,
    "start_time": "2025-03-18T18:07:47.196Z"
   },
   {
    "duration": 8,
    "start_time": "2025-03-18T18:07:47.605Z"
   },
   {
    "duration": 5,
    "start_time": "2025-03-18T18:07:47.877Z"
   },
   {
    "duration": 5,
    "start_time": "2025-03-18T18:07:48.125Z"
   },
   {
    "duration": 5,
    "start_time": "2025-03-18T18:07:48.515Z"
   },
   {
    "duration": 11,
    "start_time": "2025-03-18T18:07:51.767Z"
   },
   {
    "duration": 9,
    "start_time": "2025-03-18T18:07:53.713Z"
   },
   {
    "duration": 7,
    "start_time": "2025-03-18T18:07:55.747Z"
   },
   {
    "duration": 4,
    "start_time": "2025-03-18T18:07:57.249Z"
   },
   {
    "duration": 6,
    "start_time": "2025-03-18T18:07:58.480Z"
   },
   {
    "duration": 13,
    "start_time": "2025-03-18T18:08:06.012Z"
   },
   {
    "duration": 14,
    "start_time": "2025-03-18T18:08:52.239Z"
   },
   {
    "duration": 9,
    "start_time": "2025-03-18T18:09:21.684Z"
   },
   {
    "duration": 9,
    "start_time": "2025-03-18T18:09:56.985Z"
   },
   {
    "duration": 910,
    "start_time": "2025-03-18T18:10:00.614Z"
   },
   {
    "duration": 8,
    "start_time": "2025-03-18T18:10:08.970Z"
   },
   {
    "duration": 9,
    "start_time": "2025-03-18T18:10:13.269Z"
   },
   {
    "duration": 12,
    "start_time": "2025-03-18T18:10:17.035Z"
   },
   {
    "duration": 129,
    "start_time": "2025-03-18T18:10:31.303Z"
   },
   {
    "duration": 18,
    "start_time": "2025-03-18T18:10:31.503Z"
   },
   {
    "duration": 10,
    "start_time": "2025-03-18T18:10:31.692Z"
   },
   {
    "duration": 14,
    "start_time": "2025-03-18T18:10:31.965Z"
   },
   {
    "duration": 8,
    "start_time": "2025-03-18T18:10:32.243Z"
   },
   {
    "duration": 15,
    "start_time": "2025-03-18T18:10:32.515Z"
   },
   {
    "duration": 6,
    "start_time": "2025-03-18T18:10:32.763Z"
   },
   {
    "duration": 10,
    "start_time": "2025-03-18T18:10:33.023Z"
   },
   {
    "duration": 16,
    "start_time": "2025-03-18T18:10:33.260Z"
   },
   {
    "duration": 22,
    "start_time": "2025-03-18T18:10:33.513Z"
   },
   {
    "duration": 13,
    "start_time": "2025-03-18T18:10:33.821Z"
   },
   {
    "duration": 16,
    "start_time": "2025-03-18T18:10:34.248Z"
   },
   {
    "duration": 5,
    "start_time": "2025-03-18T18:10:35.579Z"
   },
   {
    "duration": 8,
    "start_time": "2025-03-18T18:10:36.044Z"
   },
   {
    "duration": 5,
    "start_time": "2025-03-18T18:10:36.365Z"
   },
   {
    "duration": 4,
    "start_time": "2025-03-18T18:10:36.637Z"
   },
   {
    "duration": 4,
    "start_time": "2025-03-18T18:10:36.985Z"
   },
   {
    "duration": 11,
    "start_time": "2025-03-18T18:10:37.334Z"
   },
   {
    "duration": 9,
    "start_time": "2025-03-18T18:10:37.753Z"
   },
   {
    "duration": 5,
    "start_time": "2025-03-18T18:10:38.073Z"
   },
   {
    "duration": 3,
    "start_time": "2025-03-18T18:10:38.469Z"
   },
   {
    "duration": 5,
    "start_time": "2025-03-18T18:10:38.795Z"
   },
   {
    "duration": 11,
    "start_time": "2025-03-18T18:10:39.505Z"
   },
   {
    "duration": 88,
    "start_time": "2025-03-18T18:10:57.763Z"
   },
   {
    "duration": 8,
    "start_time": "2025-03-18T18:11:04.918Z"
   },
   {
    "duration": 9,
    "start_time": "2025-03-18T18:11:12.166Z"
   },
   {
    "duration": 8,
    "start_time": "2025-03-18T18:11:15.265Z"
   },
   {
    "duration": 8,
    "start_time": "2025-03-18T18:11:18.712Z"
   },
   {
    "duration": 8,
    "start_time": "2025-03-18T18:11:24.979Z"
   },
   {
    "duration": 126,
    "start_time": "2025-03-18T18:11:36.068Z"
   },
   {
    "duration": 17,
    "start_time": "2025-03-18T18:11:36.226Z"
   },
   {
    "duration": 11,
    "start_time": "2025-03-18T18:11:36.356Z"
   },
   {
    "duration": 15,
    "start_time": "2025-03-18T18:11:36.487Z"
   },
   {
    "duration": 8,
    "start_time": "2025-03-18T18:11:36.617Z"
   },
   {
    "duration": 15,
    "start_time": "2025-03-18T18:11:36.753Z"
   },
   {
    "duration": 6,
    "start_time": "2025-03-18T18:11:36.877Z"
   },
   {
    "duration": 14,
    "start_time": "2025-03-18T18:11:37.002Z"
   },
   {
    "duration": 23,
    "start_time": "2025-03-18T18:11:37.131Z"
   },
   {
    "duration": 33,
    "start_time": "2025-03-18T18:11:37.267Z"
   },
   {
    "duration": 18,
    "start_time": "2025-03-18T18:11:37.402Z"
   },
   {
    "duration": 16,
    "start_time": "2025-03-18T18:11:37.532Z"
   },
   {
    "duration": 6,
    "start_time": "2025-03-18T18:11:38.355Z"
   },
   {
    "duration": 8,
    "start_time": "2025-03-18T18:11:38.870Z"
   },
   {
    "duration": 5,
    "start_time": "2025-03-18T18:11:39.230Z"
   },
   {
    "duration": 4,
    "start_time": "2025-03-18T18:11:39.496Z"
   },
   {
    "duration": 5,
    "start_time": "2025-03-18T18:11:39.709Z"
   },
   {
    "duration": 12,
    "start_time": "2025-03-18T18:11:40.036Z"
   },
   {
    "duration": 10,
    "start_time": "2025-03-18T18:11:40.371Z"
   },
   {
    "duration": 5,
    "start_time": "2025-03-18T18:11:41.149Z"
   },
   {
    "duration": 3,
    "start_time": "2025-03-18T18:11:41.354Z"
   },
   {
    "duration": 5,
    "start_time": "2025-03-18T18:11:41.548Z"
   },
   {
    "duration": 10,
    "start_time": "2025-03-18T18:11:42.186Z"
   },
   {
    "duration": 5,
    "start_time": "2025-03-18T18:11:42.706Z"
   },
   {
    "duration": 5,
    "start_time": "2025-03-18T18:11:45.379Z"
   },
   {
    "duration": 5,
    "start_time": "2025-03-18T18:11:47.644Z"
   },
   {
    "duration": 5,
    "start_time": "2025-03-18T18:11:51.565Z"
   },
   {
    "duration": 4,
    "start_time": "2025-03-18T18:11:52.860Z"
   },
   {
    "duration": 4,
    "start_time": "2025-03-18T18:12:00.659Z"
   },
   {
    "duration": 7,
    "start_time": "2025-03-18T18:12:05.797Z"
   },
   {
    "duration": 130,
    "start_time": "2025-03-18T18:12:25.534Z"
   },
   {
    "duration": 25,
    "start_time": "2025-03-18T18:12:25.753Z"
   },
   {
    "duration": 11,
    "start_time": "2025-03-18T18:12:25.996Z"
   },
   {
    "duration": 15,
    "start_time": "2025-03-18T18:12:26.273Z"
   },
   {
    "duration": 8,
    "start_time": "2025-03-18T18:12:26.575Z"
   },
   {
    "duration": 16,
    "start_time": "2025-03-18T18:12:26.977Z"
   },
   {
    "duration": 6,
    "start_time": "2025-03-18T18:12:27.332Z"
   },
   {
    "duration": 10,
    "start_time": "2025-03-18T18:12:27.686Z"
   },
   {
    "duration": 16,
    "start_time": "2025-03-18T18:12:28.118Z"
   },
   {
    "duration": 24,
    "start_time": "2025-03-18T18:12:28.355Z"
   },
   {
    "duration": 13,
    "start_time": "2025-03-18T18:12:28.538Z"
   },
   {
    "duration": 17,
    "start_time": "2025-03-18T18:12:28.905Z"
   },
   {
    "duration": 5,
    "start_time": "2025-03-18T18:12:29.917Z"
   },
   {
    "duration": 7,
    "start_time": "2025-03-18T18:12:30.347Z"
   },
   {
    "duration": 5,
    "start_time": "2025-03-18T18:12:30.596Z"
   },
   {
    "duration": 5,
    "start_time": "2025-03-18T18:12:30.843Z"
   },
   {
    "duration": 4,
    "start_time": "2025-03-18T18:12:31.146Z"
   },
   {
    "duration": 11,
    "start_time": "2025-03-18T18:12:31.601Z"
   },
   {
    "duration": 8,
    "start_time": "2025-03-18T18:12:33.676Z"
   },
   {
    "duration": 5,
    "start_time": "2025-03-18T18:12:34.002Z"
   },
   {
    "duration": 3,
    "start_time": "2025-03-18T18:12:34.345Z"
   },
   {
    "duration": 6,
    "start_time": "2025-03-18T18:12:34.756Z"
   },
   {
    "duration": 87,
    "start_time": "2025-03-18T18:12:54.975Z"
   },
   {
    "duration": 11,
    "start_time": "2025-03-18T18:13:01.857Z"
   },
   {
    "duration": 9,
    "start_time": "2025-03-18T18:13:17.817Z"
   },
   {
    "duration": 7,
    "start_time": "2025-03-18T18:13:45.305Z"
   },
   {
    "duration": 6,
    "start_time": "2025-03-18T18:13:46.771Z"
   },
   {
    "duration": 8,
    "start_time": "2025-03-18T18:13:49.243Z"
   },
   {
    "duration": 7,
    "start_time": "2025-03-18T18:14:38.455Z"
   },
   {
    "duration": 14,
    "start_time": "2025-03-18T18:14:44.209Z"
   },
   {
    "duration": 12,
    "start_time": "2025-03-18T18:14:55.638Z"
   },
   {
    "duration": 20,
    "start_time": "2025-03-18T18:16:06.868Z"
   },
   {
    "duration": 9,
    "start_time": "2025-03-18T18:16:12.988Z"
   },
   {
    "duration": 6,
    "start_time": "2025-03-18T18:16:21.892Z"
   },
   {
    "duration": 6,
    "start_time": "2025-03-18T18:16:26.844Z"
   },
   {
    "duration": 7,
    "start_time": "2025-03-18T18:16:31.533Z"
   },
   {
    "duration": 9,
    "start_time": "2025-03-18T18:16:35.491Z"
   },
   {
    "duration": 7,
    "start_time": "2025-03-18T18:16:46.856Z"
   },
   {
    "duration": 5,
    "start_time": "2025-03-18T18:17:19.643Z"
   },
   {
    "duration": 6,
    "start_time": "2025-03-18T18:17:22.172Z"
   },
   {
    "duration": 8,
    "start_time": "2025-03-18T18:17:48.768Z"
   },
   {
    "duration": 4,
    "start_time": "2025-03-18T18:18:17.635Z"
   },
   {
    "duration": 6,
    "start_time": "2025-03-18T18:18:18.433Z"
   },
   {
    "duration": 11,
    "start_time": "2025-03-18T18:18:35.220Z"
   },
   {
    "duration": 6,
    "start_time": "2025-03-18T18:19:07.119Z"
   },
   {
    "duration": 4,
    "start_time": "2025-03-18T18:19:55.995Z"
   },
   {
    "duration": 6,
    "start_time": "2025-03-18T18:20:05.714Z"
   },
   {
    "duration": 8,
    "start_time": "2025-03-18T18:20:28.910Z"
   },
   {
    "duration": 8,
    "start_time": "2025-03-18T18:20:38.808Z"
   },
   {
    "duration": 7,
    "start_time": "2025-03-18T18:21:09.290Z"
   },
   {
    "duration": 6,
    "start_time": "2025-03-18T18:21:13.782Z"
   },
   {
    "duration": 7,
    "start_time": "2025-03-18T18:21:16.337Z"
   },
   {
    "duration": 4,
    "start_time": "2025-03-18T18:21:42.790Z"
   },
   {
    "duration": 8,
    "start_time": "2025-03-18T18:21:46.273Z"
   },
   {
    "duration": 6,
    "start_time": "2025-03-18T18:22:18.274Z"
   },
   {
    "duration": 6,
    "start_time": "2025-03-18T18:22:24.227Z"
   },
   {
    "duration": 5,
    "start_time": "2025-03-18T18:22:31.464Z"
   },
   {
    "duration": 6,
    "start_time": "2025-03-18T18:22:44.626Z"
   },
   {
    "duration": 5,
    "start_time": "2025-03-18T18:22:47.594Z"
   },
   {
    "duration": 5,
    "start_time": "2025-03-18T18:22:57.268Z"
   },
   {
    "duration": 7,
    "start_time": "2025-03-18T18:23:12.235Z"
   },
   {
    "duration": 5,
    "start_time": "2025-03-18T18:23:21.392Z"
   },
   {
    "duration": 5,
    "start_time": "2025-03-18T18:23:26.702Z"
   },
   {
    "duration": 7,
    "start_time": "2025-03-18T18:24:24.026Z"
   },
   {
    "duration": 6,
    "start_time": "2025-03-18T18:24:35.373Z"
   },
   {
    "duration": 5,
    "start_time": "2025-03-18T18:24:46.519Z"
   },
   {
    "duration": 5,
    "start_time": "2025-03-18T18:24:47.950Z"
   },
   {
    "duration": 7,
    "start_time": "2025-03-18T18:25:25.000Z"
   },
   {
    "duration": 28,
    "start_time": "2025-03-18T18:25:33.549Z"
   },
   {
    "duration": 8,
    "start_time": "2025-03-18T18:25:40.870Z"
   },
   {
    "duration": 6,
    "start_time": "2025-03-18T18:25:42.135Z"
   },
   {
    "duration": 7,
    "start_time": "2025-03-18T18:25:58.835Z"
   },
   {
    "duration": 6,
    "start_time": "2025-03-18T18:26:00.080Z"
   },
   {
    "duration": 15,
    "start_time": "2025-03-18T18:26:08.306Z"
   },
   {
    "duration": 28,
    "start_time": "2025-03-18T18:26:20.989Z"
   },
   {
    "duration": 15,
    "start_time": "2025-03-18T18:26:42.168Z"
   },
   {
    "duration": 12,
    "start_time": "2025-03-18T18:40:12.781Z"
   },
   {
    "duration": 14,
    "start_time": "2025-03-18T18:40:23.695Z"
   },
   {
    "duration": 10,
    "start_time": "2025-03-18T18:40:32.647Z"
   },
   {
    "duration": 12,
    "start_time": "2025-03-18T18:40:39.996Z"
   },
   {
    "duration": 5,
    "start_time": "2025-03-18T18:40:48.346Z"
   },
   {
    "duration": 4,
    "start_time": "2025-03-18T18:41:22.752Z"
   },
   {
    "duration": 5,
    "start_time": "2025-03-18T18:41:23.225Z"
   },
   {
    "duration": 12,
    "start_time": "2025-03-18T18:41:38.409Z"
   },
   {
    "duration": 4,
    "start_time": "2025-03-18T18:41:48.278Z"
   },
   {
    "duration": 5,
    "start_time": "2025-03-18T18:41:48.663Z"
   },
   {
    "duration": 12,
    "start_time": "2025-03-18T18:41:59.714Z"
   },
   {
    "duration": 4,
    "start_time": "2025-03-18T18:42:12.214Z"
   },
   {
    "duration": 5,
    "start_time": "2025-03-18T18:42:12.889Z"
   },
   {
    "duration": 10,
    "start_time": "2025-03-18T18:43:35.217Z"
   },
   {
    "duration": 4,
    "start_time": "2025-03-18T18:43:47.243Z"
   },
   {
    "duration": 5,
    "start_time": "2025-03-18T18:43:47.711Z"
   },
   {
    "duration": 14,
    "start_time": "2025-03-18T18:44:03.078Z"
   },
   {
    "duration": 18,
    "start_time": "2025-03-18T18:44:08.690Z"
   },
   {
    "duration": 18,
    "start_time": "2025-03-18T18:44:11.055Z"
   },
   {
    "duration": 16,
    "start_time": "2025-03-18T18:44:12.994Z"
   },
   {
    "duration": 6,
    "start_time": "2025-03-18T18:46:39.453Z"
   },
   {
    "duration": 15,
    "start_time": "2025-03-18T18:46:47.733Z"
   },
   {
    "duration": 5,
    "start_time": "2025-03-18T18:47:05.182Z"
   },
   {
    "duration": 13,
    "start_time": "2025-03-18T18:47:09.651Z"
   },
   {
    "duration": 5,
    "start_time": "2025-03-18T18:47:23.286Z"
   },
   {
    "duration": 14,
    "start_time": "2025-03-18T18:47:29.631Z"
   },
   {
    "duration": 5,
    "start_time": "2025-03-18T18:47:36.218Z"
   },
   {
    "duration": 13,
    "start_time": "2025-03-18T18:47:39.813Z"
   },
   {
    "duration": 6,
    "start_time": "2025-03-18T18:48:59.091Z"
   },
   {
    "duration": 6,
    "start_time": "2025-03-18T18:49:04.341Z"
   },
   {
    "duration": 14,
    "start_time": "2025-03-18T18:49:07.977Z"
   },
   {
    "duration": 16,
    "start_time": "2025-03-18T18:56:38.538Z"
   },
   {
    "duration": 18,
    "start_time": "2025-03-18T18:56:49.211Z"
   },
   {
    "duration": 16,
    "start_time": "2025-03-18T18:57:20.649Z"
   },
   {
    "duration": 12,
    "start_time": "2025-03-18T18:58:18.310Z"
   },
   {
    "duration": 38,
    "start_time": "2025-03-18T18:58:51.128Z"
   },
   {
    "duration": 27,
    "start_time": "2025-03-18T18:59:00.433Z"
   },
   {
    "duration": 27,
    "start_time": "2025-03-18T18:59:06.298Z"
   },
   {
    "duration": 7,
    "start_time": "2025-03-18T18:59:18.928Z"
   },
   {
    "duration": 84,
    "start_time": "2025-03-18T18:59:21.115Z"
   },
   {
    "duration": 15,
    "start_time": "2025-03-18T18:59:24.833Z"
   },
   {
    "duration": 19,
    "start_time": "2025-03-18T19:00:37.785Z"
   },
   {
    "duration": 83,
    "start_time": "2025-03-18T19:00:41.723Z"
   },
   {
    "duration": 9,
    "start_time": "2025-03-18T19:00:44.455Z"
   },
   {
    "duration": 6,
    "start_time": "2025-03-18T19:00:49.167Z"
   },
   {
    "duration": 6,
    "start_time": "2025-03-18T19:00:53.076Z"
   },
   {
    "duration": 8,
    "start_time": "2025-03-18T19:00:56.838Z"
   },
   {
    "duration": 10,
    "start_time": "2025-03-18T19:04:26.499Z"
   },
   {
    "duration": 10,
    "start_time": "2025-03-18T19:04:31.241Z"
   },
   {
    "duration": 8,
    "start_time": "2025-03-18T19:04:35.054Z"
   },
   {
    "duration": 9,
    "start_time": "2025-03-18T19:04:37.922Z"
   },
   {
    "duration": 7,
    "start_time": "2025-03-18T19:04:42.553Z"
   },
   {
    "duration": 10,
    "start_time": "2025-03-18T19:04:59.866Z"
   },
   {
    "duration": 7,
    "start_time": "2025-03-18T19:05:06.943Z"
   },
   {
    "duration": 9,
    "start_time": "2025-03-18T19:05:20.608Z"
   },
   {
    "duration": 7,
    "start_time": "2025-03-18T19:05:28.555Z"
   },
   {
    "duration": 6,
    "start_time": "2025-03-18T19:05:32.671Z"
   },
   {
    "duration": 7,
    "start_time": "2025-03-18T19:06:23.954Z"
   },
   {
    "duration": 7,
    "start_time": "2025-03-18T19:06:34.756Z"
   },
   {
    "duration": 7,
    "start_time": "2025-03-18T19:06:41.119Z"
   },
   {
    "duration": 14,
    "start_time": "2025-03-18T19:07:14.243Z"
   },
   {
    "duration": 9,
    "start_time": "2025-03-18T19:07:36.852Z"
   },
   {
    "duration": 8,
    "start_time": "2025-03-18T19:08:00.645Z"
   },
   {
    "duration": 14,
    "start_time": "2025-03-18T19:08:42.283Z"
   },
   {
    "duration": 11,
    "start_time": "2025-03-18T19:09:12.415Z"
   },
   {
    "duration": 16,
    "start_time": "2025-03-18T19:09:19.901Z"
   },
   {
    "duration": 7,
    "start_time": "2025-03-18T19:09:38.834Z"
   },
   {
    "duration": 4,
    "start_time": "2025-03-18T19:09:42.140Z"
   },
   {
    "duration": 27,
    "start_time": "2025-03-18T19:10:00.935Z"
   },
   {
    "duration": 8,
    "start_time": "2025-03-18T19:10:07.084Z"
   },
   {
    "duration": 14,
    "start_time": "2025-03-18T19:10:43.160Z"
   },
   {
    "duration": 7,
    "start_time": "2025-03-18T19:10:50.514Z"
   },
   {
    "duration": 10,
    "start_time": "2025-03-18T19:11:30.591Z"
   },
   {
    "duration": 11,
    "start_time": "2025-03-18T19:11:45.787Z"
   },
   {
    "duration": 22,
    "start_time": "2025-03-18T19:11:55.791Z"
   },
   {
    "duration": 11,
    "start_time": "2025-03-18T19:17:49.592Z"
   },
   {
    "duration": 24,
    "start_time": "2025-03-18T19:18:00.532Z"
   },
   {
    "duration": 11,
    "start_time": "2025-03-18T19:21:19.372Z"
   },
   {
    "duration": 36,
    "start_time": "2025-03-18T19:21:24.970Z"
   },
   {
    "duration": 32,
    "start_time": "2025-03-18T19:22:41.101Z"
   },
   {
    "duration": 9,
    "start_time": "2025-03-18T19:22:46.835Z"
   },
   {
    "duration": 8,
    "start_time": "2025-03-18T19:22:49.897Z"
   },
   {
    "duration": 13,
    "start_time": "2025-03-18T19:23:15.980Z"
   },
   {
    "duration": 5,
    "start_time": "2025-03-18T19:23:39.182Z"
   },
   {
    "duration": 33,
    "start_time": "2025-03-18T19:23:43.079Z"
   },
   {
    "duration": 27,
    "start_time": "2025-03-18T19:24:15.322Z"
   },
   {
    "duration": 13,
    "start_time": "2025-03-18T19:24:20.674Z"
   },
   {
    "duration": 11,
    "start_time": "2025-03-18T19:24:31.855Z"
   },
   {
    "duration": 10,
    "start_time": "2025-03-18T19:24:37.550Z"
   },
   {
    "duration": 1309,
    "start_time": "2025-03-18T19:24:48.707Z"
   },
   {
    "duration": 4,
    "start_time": "2025-03-18T19:25:19.330Z"
   },
   {
    "duration": 8,
    "start_time": "2025-03-18T19:25:45.229Z"
   },
   {
    "duration": 12,
    "start_time": "2025-03-18T19:25:56.463Z"
   },
   {
    "duration": 1568,
    "start_time": "2025-03-18T19:26:01.791Z"
   },
   {
    "duration": 136,
    "start_time": "2025-03-18T19:26:28.471Z"
   },
   {
    "duration": 17,
    "start_time": "2025-03-18T19:26:28.849Z"
   },
   {
    "duration": 10,
    "start_time": "2025-03-18T19:26:29.245Z"
   },
   {
    "duration": 16,
    "start_time": "2025-03-18T19:26:29.499Z"
   },
   {
    "duration": 8,
    "start_time": "2025-03-18T19:26:29.689Z"
   },
   {
    "duration": 15,
    "start_time": "2025-03-18T19:26:29.832Z"
   },
   {
    "duration": 6,
    "start_time": "2025-03-18T19:26:29.966Z"
   },
   {
    "duration": 59,
    "start_time": "2025-03-18T19:26:30.097Z"
   },
   {
    "duration": 17,
    "start_time": "2025-03-18T19:26:30.233Z"
   },
   {
    "duration": 23,
    "start_time": "2025-03-18T19:26:30.356Z"
   },
   {
    "duration": 13,
    "start_time": "2025-03-18T19:26:30.482Z"
   },
   {
    "duration": 15,
    "start_time": "2025-03-18T19:26:30.611Z"
   },
   {
    "duration": 7,
    "start_time": "2025-03-18T19:26:31.126Z"
   },
   {
    "duration": 5,
    "start_time": "2025-03-18T19:26:31.244Z"
   },
   {
    "duration": 11,
    "start_time": "2025-03-18T19:26:31.368Z"
   },
   {
    "duration": 9,
    "start_time": "2025-03-18T19:26:31.492Z"
   },
   {
    "duration": 4,
    "start_time": "2025-03-18T19:26:31.615Z"
   },
   {
    "duration": 21,
    "start_time": "2025-03-18T19:26:31.741Z"
   },
   {
    "duration": 5,
    "start_time": "2025-03-18T19:26:31.853Z"
   },
   {
    "duration": 10,
    "start_time": "2025-03-18T19:26:32.356Z"
   },
   {
    "duration": 5,
    "start_time": "2025-03-18T19:26:32.387Z"
   },
   {
    "duration": 5,
    "start_time": "2025-03-18T19:26:32.419Z"
   },
   {
    "duration": 7,
    "start_time": "2025-03-18T19:26:32.528Z"
   },
   {
    "duration": 6,
    "start_time": "2025-03-18T19:26:32.560Z"
   },
   {
    "duration": 99,
    "start_time": "2025-03-18T19:26:32.592Z"
   },
   {
    "duration": 12,
    "start_time": "2025-03-18T19:26:32.693Z"
   },
   {
    "duration": 15,
    "start_time": "2025-03-18T19:26:32.706Z"
   },
   {
    "duration": 6,
    "start_time": "2025-03-18T19:26:32.723Z"
   },
   {
    "duration": 5,
    "start_time": "2025-03-18T19:26:32.730Z"
   },
   {
    "duration": 6,
    "start_time": "2025-03-18T19:26:32.763Z"
   },
   {
    "duration": 7,
    "start_time": "2025-03-18T19:26:32.795Z"
   },
   {
    "duration": 14,
    "start_time": "2025-03-18T19:26:32.826Z"
   },
   {
    "duration": 89,
    "start_time": "2025-03-18T19:26:32.858Z"
   },
   {
    "duration": 12,
    "start_time": "2025-03-18T19:26:33.337Z"
   },
   {
    "duration": 6,
    "start_time": "2025-03-18T19:26:33.466Z"
   },
   {
    "duration": 4,
    "start_time": "2025-03-18T19:26:33.977Z"
   },
   {
    "duration": 143,
    "start_time": "2025-03-18T19:26:34.008Z"
   },
   {
    "duration": 31,
    "start_time": "2025-03-18T19:26:34.153Z"
   },
   {
    "duration": 16,
    "start_time": "2025-03-18T19:26:34.186Z"
   },
   {
    "duration": 5,
    "start_time": "2025-03-18T19:26:34.204Z"
   },
   {
    "duration": 9,
    "start_time": "2025-03-18T19:26:34.210Z"
   },
   {
    "duration": 21,
    "start_time": "2025-03-18T19:26:34.220Z"
   },
   {
    "duration": 6,
    "start_time": "2025-03-18T19:26:34.243Z"
   },
   {
    "duration": 35,
    "start_time": "2025-03-18T19:26:34.250Z"
   },
   {
    "duration": 14,
    "start_time": "2025-03-18T19:26:34.287Z"
   },
   {
    "duration": 7,
    "start_time": "2025-03-18T19:26:34.303Z"
   },
   {
    "duration": 5,
    "start_time": "2025-03-18T19:26:34.334Z"
   },
   {
    "duration": 14,
    "start_time": "2025-03-18T19:26:34.827Z"
   },
   {
    "duration": 11,
    "start_time": "2025-03-18T19:26:34.976Z"
   },
   {
    "duration": 4,
    "start_time": "2025-03-18T19:26:35.117Z"
   },
   {
    "duration": 6,
    "start_time": "2025-03-18T19:26:35.355Z"
   },
   {
    "duration": 11,
    "start_time": "2025-03-18T19:26:35.531Z"
   },
   {
    "duration": 5,
    "start_time": "2025-03-18T19:26:35.685Z"
   },
   {
    "duration": 6,
    "start_time": "2025-03-18T19:26:35.827Z"
   },
   {
    "duration": 11,
    "start_time": "2025-03-18T19:26:35.976Z"
   },
   {
    "duration": 60,
    "start_time": "2025-03-18T19:26:36.151Z"
   },
   {
    "duration": 6,
    "start_time": "2025-03-18T19:26:36.657Z"
   },
   {
    "duration": 29,
    "start_time": "2025-03-18T19:26:36.687Z"
   },
   {
    "duration": 21,
    "start_time": "2025-03-18T19:26:36.718Z"
   },
   {
    "duration": 14,
    "start_time": "2025-03-18T19:26:36.765Z"
   },
   {
    "duration": 23,
    "start_time": "2025-03-18T19:26:36.857Z"
   },
   {
    "duration": 58,
    "start_time": "2025-03-18T19:26:36.889Z"
   },
   {
    "duration": 14,
    "start_time": "2025-03-18T19:26:36.949Z"
   },
   {
    "duration": 4,
    "start_time": "2025-03-18T19:26:37.030Z"
   },
   {
    "duration": 8,
    "start_time": "2025-03-18T19:26:37.554Z"
   },
   {
    "duration": 6,
    "start_time": "2025-03-18T19:26:38.065Z"
   },
   {
    "duration": 7,
    "start_time": "2025-03-18T19:26:38.098Z"
   },
   {
    "duration": 12,
    "start_time": "2025-03-18T19:26:38.127Z"
   },
   {
    "duration": 8,
    "start_time": "2025-03-18T19:26:38.475Z"
   },
   {
    "duration": 9,
    "start_time": "2025-03-18T19:26:38.690Z"
   },
   {
    "duration": 15,
    "start_time": "2025-03-18T19:26:40.173Z"
   },
   {
    "duration": 8,
    "start_time": "2025-03-18T19:26:41.673Z"
   },
   {
    "duration": 27,
    "start_time": "2025-03-18T19:26:49.007Z"
   },
   {
    "duration": 6,
    "start_time": "2025-03-18T19:26:51.976Z"
   },
   {
    "duration": 14,
    "start_time": "2025-03-18T19:26:53.388Z"
   },
   {
    "duration": 14,
    "start_time": "2025-03-18T19:26:58.711Z"
   },
   {
    "duration": 9,
    "start_time": "2025-03-18T19:27:02.104Z"
   },
   {
    "duration": 7,
    "start_time": "2025-03-18T19:27:05.075Z"
   },
   {
    "duration": 5,
    "start_time": "2025-03-18T19:30:24.149Z"
   },
   {
    "duration": 4,
    "start_time": "2025-03-18T19:30:41.298Z"
   },
   {
    "duration": 5,
    "start_time": "2025-03-18T19:30:44.530Z"
   },
   {
    "duration": 6,
    "start_time": "2025-03-18T19:30:55.079Z"
   },
   {
    "duration": 5,
    "start_time": "2025-03-18T19:31:05.125Z"
   },
   {
    "duration": 4,
    "start_time": "2025-03-18T19:31:11.789Z"
   },
   {
    "duration": 6,
    "start_time": "2025-03-18T19:31:18.428Z"
   },
   {
    "duration": 309,
    "start_time": "2025-03-18T19:38:17.028Z"
   },
   {
    "duration": 355,
    "start_time": "2025-03-18T19:38:28.180Z"
   },
   {
    "duration": 397,
    "start_time": "2025-03-18T19:38:34.513Z"
   },
   {
    "duration": 372,
    "start_time": "2025-03-18T19:38:51.447Z"
   },
   {
    "duration": 309,
    "start_time": "2025-03-18T19:39:14.300Z"
   },
   {
    "duration": 833,
    "start_time": "2025-03-18T19:39:19.656Z"
   },
   {
    "duration": 13,
    "start_time": "2025-03-18T19:40:25.728Z"
   },
   {
    "duration": 9,
    "start_time": "2025-03-18T19:40:29.860Z"
   },
   {
    "duration": 7,
    "start_time": "2025-03-18T19:40:42.662Z"
   },
   {
    "duration": 8,
    "start_time": "2025-03-18T19:40:51.548Z"
   },
   {
    "duration": 846,
    "start_time": "2025-03-18T19:40:59.217Z"
   },
   {
    "duration": 7,
    "start_time": "2025-03-18T19:41:47.272Z"
   },
   {
    "duration": 907,
    "start_time": "2025-03-18T19:42:01.255Z"
   },
   {
    "duration": 84,
    "start_time": "2025-03-18T19:42:42.363Z"
   },
   {
    "duration": 8,
    "start_time": "2025-03-18T19:42:46.874Z"
   },
   {
    "duration": 9,
    "start_time": "2025-03-18T19:43:05.593Z"
   },
   {
    "duration": 8,
    "start_time": "2025-03-18T19:43:38.563Z"
   },
   {
    "duration": 9,
    "start_time": "2025-03-18T19:44:01.457Z"
   },
   {
    "duration": 8,
    "start_time": "2025-03-18T19:44:04.821Z"
   },
   {
    "duration": 7,
    "start_time": "2025-03-18T19:44:41.753Z"
   },
   {
    "duration": 20,
    "start_time": "2025-03-18T19:44:53.946Z"
   },
   {
    "duration": 7,
    "start_time": "2025-03-18T19:48:17.595Z"
   },
   {
    "duration": 7,
    "start_time": "2025-03-18T19:48:25.716Z"
   },
   {
    "duration": 6,
    "start_time": "2025-03-18T19:48:36.398Z"
   },
   {
    "duration": 5,
    "start_time": "2025-03-18T19:48:39.727Z"
   },
   {
    "duration": 5,
    "start_time": "2025-03-18T19:48:47.119Z"
   },
   {
    "duration": 6,
    "start_time": "2025-03-18T19:48:50.165Z"
   },
   {
    "duration": 5,
    "start_time": "2025-03-18T19:48:52.323Z"
   },
   {
    "duration": 6,
    "start_time": "2025-03-18T19:49:44.524Z"
   },
   {
    "duration": 6,
    "start_time": "2025-03-18T19:49:48.291Z"
   },
   {
    "duration": 6,
    "start_time": "2025-03-18T19:50:03.238Z"
   },
   {
    "duration": 6,
    "start_time": "2025-03-18T19:50:10.618Z"
   },
   {
    "duration": 5,
    "start_time": "2025-03-18T19:50:28.411Z"
   },
   {
    "duration": 6,
    "start_time": "2025-03-18T19:50:39.657Z"
   },
   {
    "duration": 5,
    "start_time": "2025-03-18T19:51:07.814Z"
   },
   {
    "duration": 6,
    "start_time": "2025-03-18T19:51:14.799Z"
   },
   {
    "duration": 7,
    "start_time": "2025-03-18T19:51:18.865Z"
   },
   {
    "duration": 7,
    "start_time": "2025-03-18T19:52:08.976Z"
   },
   {
    "duration": 8,
    "start_time": "2025-03-18T19:52:26.123Z"
   },
   {
    "duration": 8,
    "start_time": "2025-03-18T19:52:42.148Z"
   },
   {
    "duration": 7,
    "start_time": "2025-03-18T19:52:46.371Z"
   },
   {
    "duration": 22,
    "start_time": "2025-03-18T19:53:17.505Z"
   },
   {
    "duration": 26,
    "start_time": "2025-03-18T19:53:37.174Z"
   },
   {
    "duration": 33,
    "start_time": "2025-03-18T20:00:37.658Z"
   },
   {
    "duration": 35,
    "start_time": "2025-03-18T20:01:08.010Z"
   },
   {
    "duration": 47,
    "start_time": "2025-03-18T20:01:16.110Z"
   },
   {
    "duration": 52,
    "start_time": "2025-03-18T20:01:34.335Z"
   },
   {
    "duration": 29,
    "start_time": "2025-03-18T20:01:44.810Z"
   },
   {
    "duration": 24,
    "start_time": "2025-03-18T20:02:28.774Z"
   },
   {
    "duration": 34,
    "start_time": "2025-03-18T20:04:05.180Z"
   },
   {
    "duration": 31,
    "start_time": "2025-03-18T20:05:32.110Z"
   },
   {
    "duration": 15,
    "start_time": "2025-03-18T20:06:33.704Z"
   },
   {
    "duration": 0,
    "start_time": "2025-03-18T20:06:59.695Z"
   },
   {
    "duration": 342,
    "start_time": "2025-03-18T20:07:21.101Z"
   },
   {
    "duration": 98,
    "start_time": "2025-03-18T20:07:35.615Z"
   },
   {
    "duration": 1427,
    "start_time": "2025-03-18T20:08:06.433Z"
   },
   {
    "duration": 1427,
    "start_time": "2025-03-18T20:08:45.464Z"
   },
   {
    "duration": 16,
    "start_time": "2025-03-18T20:09:03.706Z"
   },
   {
    "duration": 1597,
    "start_time": "2025-03-18T20:09:08.748Z"
   },
   {
    "duration": 345,
    "start_time": "2025-03-18T20:09:19.344Z"
   },
   {
    "duration": 3,
    "start_time": "2025-03-18T20:10:30.553Z"
   },
   {
    "duration": 174,
    "start_time": "2025-03-18T20:10:42.424Z"
   },
   {
    "duration": 176,
    "start_time": "2025-03-18T20:10:51.211Z"
   },
   {
    "duration": 153,
    "start_time": "2025-03-18T20:10:56.255Z"
   },
   {
    "duration": 175,
    "start_time": "2025-03-18T20:11:01.831Z"
   },
   {
    "duration": 165,
    "start_time": "2025-03-18T20:11:06.419Z"
   },
   {
    "duration": 166,
    "start_time": "2025-03-18T20:11:22.111Z"
   },
   {
    "duration": 7,
    "start_time": "2025-03-18T20:13:48.739Z"
   },
   {
    "duration": 7,
    "start_time": "2025-03-18T20:21:19.913Z"
   },
   {
    "duration": 7,
    "start_time": "2025-03-18T20:21:23.131Z"
   },
   {
    "duration": 8,
    "start_time": "2025-03-18T20:25:58.976Z"
   },
   {
    "duration": 8,
    "start_time": "2025-03-18T20:26:01.708Z"
   },
   {
    "duration": 36,
    "start_time": "2025-03-18T20:26:19.689Z"
   },
   {
    "duration": 12,
    "start_time": "2025-03-18T20:26:25.231Z"
   },
   {
    "duration": 11,
    "start_time": "2025-03-18T20:26:56.462Z"
   },
   {
    "duration": 9,
    "start_time": "2025-03-18T20:27:00.089Z"
   },
   {
    "duration": 192,
    "start_time": "2025-03-18T20:28:51.684Z"
   },
   {
    "duration": 211,
    "start_time": "2025-03-18T20:29:19.509Z"
   },
   {
    "duration": 169,
    "start_time": "2025-03-18T20:29:54.851Z"
   },
   {
    "duration": 22,
    "start_time": "2025-03-18T20:33:42.822Z"
   },
   {
    "duration": 26,
    "start_time": "2025-03-18T20:35:10.891Z"
   },
   {
    "duration": 30,
    "start_time": "2025-03-18T20:35:15.716Z"
   },
   {
    "duration": 23,
    "start_time": "2025-03-18T20:35:17.703Z"
   },
   {
    "duration": 1495,
    "start_time": "2025-03-18T20:35:31.982Z"
   },
   {
    "duration": 24,
    "start_time": "2025-03-18T20:35:40.414Z"
   },
   {
    "duration": 20,
    "start_time": "2025-03-18T20:36:14.338Z"
   },
   {
    "duration": 21,
    "start_time": "2025-03-18T20:36:25.902Z"
   },
   {
    "duration": 16,
    "start_time": "2025-03-18T20:36:53.658Z"
   },
   {
    "duration": 20,
    "start_time": "2025-03-18T20:36:59.553Z"
   },
   {
    "duration": 1277,
    "start_time": "2025-03-18T20:37:50.811Z"
   },
   {
    "duration": 166,
    "start_time": "2025-03-18T20:37:53.850Z"
   },
   {
    "duration": 31,
    "start_time": "2025-03-18T20:38:17.490Z"
   },
   {
    "duration": 26,
    "start_time": "2025-03-18T20:38:38.569Z"
   },
   {
    "duration": 22,
    "start_time": "2025-03-18T20:38:57.395Z"
   },
   {
    "duration": 815,
    "start_time": "2025-03-18T20:39:45.397Z"
   },
   {
    "duration": 911,
    "start_time": "2025-03-18T20:40:46.162Z"
   },
   {
    "duration": 21,
    "start_time": "2025-03-18T20:40:55.983Z"
   },
   {
    "duration": 1443,
    "start_time": "2025-03-18T20:41:01.701Z"
   },
   {
    "duration": 726,
    "start_time": "2025-03-18T20:41:05.568Z"
   },
   {
    "duration": 95,
    "start_time": "2025-03-18T20:41:10.080Z"
   },
   {
    "duration": 104,
    "start_time": "2025-03-18T20:41:14.437Z"
   },
   {
    "duration": 25,
    "start_time": "2025-03-18T20:41:19.890Z"
   },
   {
    "duration": 23,
    "start_time": "2025-03-18T20:41:28.547Z"
   },
   {
    "duration": 21,
    "start_time": "2025-03-18T20:42:20.201Z"
   },
   {
    "duration": 23,
    "start_time": "2025-03-18T20:42:24.240Z"
   },
   {
    "duration": 17,
    "start_time": "2025-03-18T20:42:47.797Z"
   },
   {
    "duration": 25,
    "start_time": "2025-03-18T20:42:52.547Z"
   },
   {
    "duration": 21,
    "start_time": "2025-03-18T20:43:13.712Z"
   },
   {
    "duration": 1885,
    "start_time": "2025-03-18T20:43:19.601Z"
   },
   {
    "duration": 25,
    "start_time": "2025-03-18T20:43:40.598Z"
   },
   {
    "duration": 22,
    "start_time": "2025-03-18T20:43:48.918Z"
   },
   {
    "duration": 22,
    "start_time": "2025-03-18T20:43:51.655Z"
   },
   {
    "duration": 224,
    "start_time": "2025-03-18T20:43:55.883Z"
   },
   {
    "duration": 261,
    "start_time": "2025-03-18T20:44:03.652Z"
   },
   {
    "duration": 250,
    "start_time": "2025-03-18T20:44:06.715Z"
   },
   {
    "duration": 262,
    "start_time": "2025-03-18T20:44:18.600Z"
   },
   {
    "duration": 23,
    "start_time": "2025-03-18T20:44:24.845Z"
   },
   {
    "duration": 651,
    "start_time": "2025-03-18T20:44:34.417Z"
   },
   {
    "duration": 23,
    "start_time": "2025-03-18T20:44:42.913Z"
   },
   {
    "duration": 245,
    "start_time": "2025-03-18T20:44:45.237Z"
   },
   {
    "duration": 24,
    "start_time": "2025-03-18T20:45:20.879Z"
   },
   {
    "duration": 248,
    "start_time": "2025-03-18T20:45:24.037Z"
   },
   {
    "duration": 252,
    "start_time": "2025-03-18T20:46:04.279Z"
   },
   {
    "duration": 255,
    "start_time": "2025-03-18T20:46:24.791Z"
   },
   {
    "duration": 1522,
    "start_time": "2025-03-18T20:46:35.918Z"
   },
   {
    "duration": 1564,
    "start_time": "2025-03-18T20:46:42.027Z"
   },
   {
    "duration": 1607,
    "start_time": "2025-03-18T20:46:48.076Z"
   },
   {
    "duration": 254,
    "start_time": "2025-03-18T20:46:51.908Z"
   },
   {
    "duration": 95,
    "start_time": "2025-03-18T20:47:04.639Z"
   },
   {
    "duration": 25,
    "start_time": "2025-03-18T20:47:07.983Z"
   },
   {
    "duration": 340,
    "start_time": "2025-03-18T20:47:16.924Z"
   },
   {
    "duration": 227,
    "start_time": "2025-03-18T20:47:47.973Z"
   },
   {
    "duration": 218,
    "start_time": "2025-03-18T20:47:53.816Z"
   },
   {
    "duration": 278,
    "start_time": "2025-03-18T20:47:57.398Z"
   },
   {
    "duration": 249,
    "start_time": "2025-03-18T20:48:29.977Z"
   },
   {
    "duration": 222,
    "start_time": "2025-03-18T20:48:41.093Z"
   },
   {
    "duration": 11,
    "start_time": "2025-03-18T20:59:22.109Z"
   },
   {
    "duration": 6,
    "start_time": "2025-03-18T20:59:49.035Z"
   },
   {
    "duration": 6,
    "start_time": "2025-03-18T20:59:52.861Z"
   },
   {
    "duration": 6,
    "start_time": "2025-03-18T21:00:30.501Z"
   },
   {
    "duration": 6,
    "start_time": "2025-03-18T21:00:41.884Z"
   },
   {
    "duration": 5,
    "start_time": "2025-03-18T21:01:02.921Z"
   },
   {
    "duration": 99,
    "start_time": "2025-03-18T21:01:13.357Z"
   },
   {
    "duration": 90,
    "start_time": "2025-03-18T21:01:25.892Z"
   },
   {
    "duration": 6,
    "start_time": "2025-03-18T21:01:32.809Z"
   },
   {
    "duration": 6,
    "start_time": "2025-03-18T21:02:10.604Z"
   },
   {
    "duration": 5,
    "start_time": "2025-03-18T21:02:16.233Z"
   },
   {
    "duration": 16,
    "start_time": "2025-03-18T21:02:21.442Z"
   },
   {
    "duration": 16,
    "start_time": "2025-03-18T21:02:23.907Z"
   },
   {
    "duration": 6,
    "start_time": "2025-03-18T21:02:26.408Z"
   },
   {
    "duration": 7,
    "start_time": "2025-03-18T21:02:32.208Z"
   },
   {
    "duration": 49,
    "start_time": "2025-03-19T16:41:11.962Z"
   },
   {
    "duration": 847,
    "start_time": "2025-03-19T16:41:22.636Z"
   },
   {
    "duration": 131,
    "start_time": "2025-03-19T16:41:23.485Z"
   },
   {
    "duration": 18,
    "start_time": "2025-03-19T16:41:23.617Z"
   },
   {
    "duration": 9,
    "start_time": "2025-03-19T16:41:23.636Z"
   },
   {
    "duration": 25,
    "start_time": "2025-03-19T16:41:23.647Z"
   },
   {
    "duration": 6,
    "start_time": "2025-03-19T16:41:23.674Z"
   },
   {
    "duration": 20,
    "start_time": "2025-03-19T16:41:23.681Z"
   },
   {
    "duration": 8,
    "start_time": "2025-03-19T16:41:23.703Z"
   },
   {
    "duration": 24,
    "start_time": "2025-03-19T16:41:23.712Z"
   },
   {
    "duration": 18,
    "start_time": "2025-03-19T16:41:23.739Z"
   },
   {
    "duration": 23,
    "start_time": "2025-03-19T16:41:23.758Z"
   },
   {
    "duration": 11,
    "start_time": "2025-03-19T16:41:23.783Z"
   },
   {
    "duration": 14,
    "start_time": "2025-03-19T16:41:23.796Z"
   },
   {
    "duration": 7,
    "start_time": "2025-03-19T16:41:23.812Z"
   },
   {
    "duration": 37,
    "start_time": "2025-03-19T16:41:23.820Z"
   },
   {
    "duration": 12,
    "start_time": "2025-03-19T16:41:23.858Z"
   },
   {
    "duration": 10,
    "start_time": "2025-03-19T16:41:23.873Z"
   },
   {
    "duration": 3,
    "start_time": "2025-03-19T16:41:23.884Z"
   },
   {
    "duration": 8,
    "start_time": "2025-03-19T16:41:23.889Z"
   },
   {
    "duration": 5,
    "start_time": "2025-03-19T16:41:23.899Z"
   },
   {
    "duration": 11,
    "start_time": "2025-03-19T16:41:23.905Z"
   },
   {
    "duration": 41,
    "start_time": "2025-03-19T16:41:23.918Z"
   },
   {
    "duration": 12,
    "start_time": "2025-03-19T16:41:23.960Z"
   },
   {
    "duration": 5,
    "start_time": "2025-03-19T16:41:24.034Z"
   },
   {
    "duration": 5,
    "start_time": "2025-03-19T16:41:24.066Z"
   },
   {
    "duration": 5,
    "start_time": "2025-03-19T16:41:24.098Z"
   },
   {
    "duration": 6,
    "start_time": "2025-03-19T16:41:24.129Z"
   },
   {
    "duration": 10,
    "start_time": "2025-03-19T16:41:24.160Z"
   },
   {
    "duration": 7,
    "start_time": "2025-03-19T16:41:24.206Z"
   },
   {
    "duration": 4,
    "start_time": "2025-03-19T16:41:24.236Z"
   },
   {
    "duration": 6,
    "start_time": "2025-03-19T16:41:24.266Z"
   },
   {
    "duration": 7,
    "start_time": "2025-03-19T16:41:24.297Z"
   },
   {
    "duration": 4,
    "start_time": "2025-03-19T16:41:24.329Z"
   },
   {
    "duration": 5,
    "start_time": "2025-03-19T16:41:24.360Z"
   },
   {
    "duration": 11,
    "start_time": "2025-03-19T16:41:24.391Z"
   },
   {
    "duration": 5,
    "start_time": "2025-03-19T16:41:24.423Z"
   },
   {
    "duration": 4,
    "start_time": "2025-03-19T16:41:24.471Z"
   },
   {
    "duration": 5,
    "start_time": "2025-03-19T16:41:24.501Z"
   },
   {
    "duration": 8,
    "start_time": "2025-03-19T16:41:24.533Z"
   },
   {
    "duration": 7,
    "start_time": "2025-03-19T16:41:24.563Z"
   },
   {
    "duration": 3,
    "start_time": "2025-03-19T16:41:24.595Z"
   },
   {
    "duration": 7,
    "start_time": "2025-03-19T16:41:24.625Z"
   },
   {
    "duration": 5,
    "start_time": "2025-03-19T16:41:24.655Z"
   },
   {
    "duration": 4,
    "start_time": "2025-03-19T16:41:24.702Z"
   },
   {
    "duration": 7,
    "start_time": "2025-03-19T16:41:24.731Z"
   },
   {
    "duration": 7,
    "start_time": "2025-03-19T16:41:24.760Z"
   },
   {
    "duration": 7,
    "start_time": "2025-03-19T16:41:24.791Z"
   },
   {
    "duration": 4,
    "start_time": "2025-03-19T16:41:24.823Z"
   },
   {
    "duration": 14,
    "start_time": "2025-03-19T16:41:24.854Z"
   },
   {
    "duration": 11,
    "start_time": "2025-03-19T16:41:24.885Z"
   },
   {
    "duration": 3,
    "start_time": "2025-03-19T16:41:24.933Z"
   },
   {
    "duration": 5,
    "start_time": "2025-03-19T16:41:24.963Z"
   },
   {
    "duration": 11,
    "start_time": "2025-03-19T16:41:24.993Z"
   },
   {
    "duration": 3,
    "start_time": "2025-03-19T16:41:25.023Z"
   },
   {
    "duration": 5,
    "start_time": "2025-03-19T16:41:25.057Z"
   },
   {
    "duration": 11,
    "start_time": "2025-03-19T16:41:25.086Z"
   },
   {
    "duration": 3,
    "start_time": "2025-03-19T16:41:25.116Z"
   },
   {
    "duration": 5,
    "start_time": "2025-03-19T16:41:25.149Z"
   },
   {
    "duration": 10,
    "start_time": "2025-03-19T16:41:25.197Z"
   },
   {
    "duration": 25,
    "start_time": "2025-03-19T16:41:25.226Z"
   },
   {
    "duration": 6,
    "start_time": "2025-03-19T16:41:25.257Z"
   },
   {
    "duration": 21,
    "start_time": "2025-03-19T16:41:25.352Z"
   },
   {
    "duration": 26,
    "start_time": "2025-03-19T16:41:25.383Z"
   },
   {
    "duration": 9,
    "start_time": "2025-03-19T16:41:25.413Z"
   },
   {
    "duration": 6,
    "start_time": "2025-03-19T16:41:25.523Z"
   },
   {
    "duration": 7,
    "start_time": "2025-03-19T16:41:25.554Z"
   },
   {
    "duration": 4,
    "start_time": "2025-03-19T16:41:25.586Z"
   },
   {
    "duration": 8,
    "start_time": "2025-03-19T16:41:25.614Z"
   },
   {
    "duration": 10,
    "start_time": "2025-03-19T16:41:25.646Z"
   },
   {
    "duration": 8,
    "start_time": "2025-03-19T16:41:25.678Z"
   },
   {
    "duration": 8,
    "start_time": "2025-03-19T16:41:25.714Z"
   },
   {
    "duration": 15,
    "start_time": "2025-03-19T16:41:25.757Z"
   },
   {
    "duration": 9,
    "start_time": "2025-03-19T16:41:25.848Z"
   },
   {
    "duration": 6,
    "start_time": "2025-03-19T16:41:25.879Z"
   },
   {
    "duration": 7,
    "start_time": "2025-03-19T16:41:25.909Z"
   },
   {
    "duration": 4,
    "start_time": "2025-03-19T16:41:26.048Z"
   },
   {
    "duration": 39,
    "start_time": "2025-03-19T16:41:26.109Z"
   },
   {
    "duration": 0,
    "start_time": "2025-03-19T16:41:26.150Z"
   },
   {
    "duration": 18,
    "start_time": "2025-03-19T16:41:26.172Z"
   },
   {
    "duration": 24,
    "start_time": "2025-03-19T16:41:26.252Z"
   },
   {
    "duration": 186,
    "start_time": "2025-03-19T16:41:26.378Z"
   },
   {
    "duration": 8,
    "start_time": "2025-03-19T16:41:26.566Z"
   },
   {
    "duration": 174,
    "start_time": "2025-03-19T16:41:26.575Z"
   },
   {
    "duration": 21,
    "start_time": "2025-03-19T16:41:26.756Z"
   },
   {
    "duration": 251,
    "start_time": "2025-03-19T16:41:26.778Z"
   },
   {
    "duration": 6,
    "start_time": "2025-03-19T16:41:27.030Z"
   },
   {
    "duration": 7,
    "start_time": "2025-03-19T16:41:29.015Z"
   },
   {
    "duration": 4,
    "start_time": "2025-03-19T16:41:35.670Z"
   },
   {
    "duration": 9,
    "start_time": "2025-03-19T16:41:55.536Z"
   },
   {
    "duration": 9,
    "start_time": "2025-03-19T16:41:59.022Z"
   },
   {
    "duration": 8,
    "start_time": "2025-03-19T16:42:37.806Z"
   },
   {
    "duration": 11,
    "start_time": "2025-03-19T16:42:52.407Z"
   },
   {
    "duration": 4,
    "start_time": "2025-03-19T16:43:02.765Z"
   },
   {
    "duration": 6,
    "start_time": "2025-03-19T16:43:12.560Z"
   },
   {
    "duration": 4,
    "start_time": "2025-03-19T16:43:21.978Z"
   },
   {
    "duration": 4,
    "start_time": "2025-03-19T16:43:42.893Z"
   },
   {
    "duration": 4,
    "start_time": "2025-03-19T16:43:45.750Z"
   },
   {
    "duration": 169,
    "start_time": "2025-03-19T16:44:05.259Z"
   },
   {
    "duration": 226,
    "start_time": "2025-03-19T16:44:08.633Z"
   },
   {
    "duration": 115,
    "start_time": "2025-03-19T16:44:12.062Z"
   },
   {
    "duration": 132,
    "start_time": "2025-03-19T16:44:16.816Z"
   },
   {
    "duration": 115,
    "start_time": "2025-03-19T16:44:22.029Z"
   },
   {
    "duration": 12,
    "start_time": "2025-03-19T16:46:01.247Z"
   },
   {
    "duration": 30,
    "start_time": "2025-03-19T16:46:09.725Z"
   },
   {
    "duration": 13,
    "start_time": "2025-03-19T16:46:12.459Z"
   },
   {
    "duration": 7,
    "start_time": "2025-03-19T16:46:16.916Z"
   },
   {
    "duration": 25,
    "start_time": "2025-03-19T16:46:24.032Z"
   },
   {
    "duration": 7,
    "start_time": "2025-03-19T16:46:32.965Z"
   },
   {
    "duration": 9,
    "start_time": "2025-03-19T16:46:44.243Z"
   },
   {
    "duration": 8,
    "start_time": "2025-03-19T16:46:55.321Z"
   },
   {
    "duration": 9,
    "start_time": "2025-03-19T16:47:46.356Z"
   },
   {
    "duration": 8,
    "start_time": "2025-03-19T16:48:04.265Z"
   },
   {
    "duration": 7,
    "start_time": "2025-03-19T16:48:04.465Z"
   },
   {
    "duration": 10,
    "start_time": "2025-03-19T16:48:06.207Z"
   },
   {
    "duration": 4,
    "start_time": "2025-03-19T16:48:07.122Z"
   },
   {
    "duration": 4,
    "start_time": "2025-03-19T16:48:07.642Z"
   },
   {
    "duration": 4,
    "start_time": "2025-03-19T16:48:08.026Z"
   },
   {
    "duration": 4,
    "start_time": "2025-03-19T16:48:08.427Z"
   },
   {
    "duration": 6,
    "start_time": "2025-03-19T16:48:08.829Z"
   },
   {
    "duration": 124,
    "start_time": "2025-03-19T16:48:09.254Z"
   },
   {
    "duration": 8,
    "start_time": "2025-03-19T16:54:28.019Z"
   },
   {
    "duration": 19,
    "start_time": "2025-03-19T16:54:31.107Z"
   },
   {
    "duration": 1880,
    "start_time": "2025-03-19T17:19:04.580Z"
   },
   {
    "duration": 20,
    "start_time": "2025-03-19T17:19:13.672Z"
   },
   {
    "duration": 20,
    "start_time": "2025-03-19T17:19:15.750Z"
   },
   {
    "duration": 1899,
    "start_time": "2025-03-19T17:19:26.758Z"
   },
   {
    "duration": 19,
    "start_time": "2025-03-19T17:19:44.111Z"
   },
   {
    "duration": 315,
    "start_time": "2025-03-19T17:20:33.078Z"
   },
   {
    "duration": 290,
    "start_time": "2025-03-19T17:20:41.274Z"
   },
   {
    "duration": 286,
    "start_time": "2025-03-19T17:21:15.621Z"
   },
   {
    "duration": 289,
    "start_time": "2025-03-19T17:21:38.316Z"
   },
   {
    "duration": 293,
    "start_time": "2025-03-19T17:21:59.509Z"
   },
   {
    "duration": 388,
    "start_time": "2025-03-19T17:22:19.005Z"
   },
   {
    "duration": 305,
    "start_time": "2025-03-19T17:22:22.879Z"
   },
   {
    "duration": 287,
    "start_time": "2025-03-19T17:22:25.956Z"
   },
   {
    "duration": 318,
    "start_time": "2025-03-19T17:22:50.282Z"
   },
   {
    "duration": 274,
    "start_time": "2025-03-19T17:22:54.676Z"
   },
   {
    "duration": 275,
    "start_time": "2025-03-19T17:22:58.992Z"
   },
   {
    "duration": 22,
    "start_time": "2025-03-19T17:23:08.545Z"
   },
   {
    "duration": 14,
    "start_time": "2025-03-19T17:23:35.949Z"
   },
   {
    "duration": 18,
    "start_time": "2025-03-19T17:23:48.454Z"
   },
   {
    "duration": 18,
    "start_time": "2025-03-19T17:23:59.347Z"
   },
   {
    "duration": 203,
    "start_time": "2025-03-19T17:24:05.914Z"
   },
   {
    "duration": 18,
    "start_time": "2025-03-19T17:24:12.173Z"
   },
   {
    "duration": 395,
    "start_time": "2025-03-19T17:24:20.268Z"
   },
   {
    "duration": 391,
    "start_time": "2025-03-19T17:24:31.882Z"
   },
   {
    "duration": 294,
    "start_time": "2025-03-19T17:24:43.030Z"
   },
   {
    "duration": 198,
    "start_time": "2025-03-19T17:24:46.378Z"
   },
   {
    "duration": 18,
    "start_time": "2025-03-19T17:25:19.302Z"
   },
   {
    "duration": 206,
    "start_time": "2025-03-19T17:25:22.001Z"
   },
   {
    "duration": 172,
    "start_time": "2025-03-19T17:25:27.097Z"
   },
   {
    "duration": 202,
    "start_time": "2025-03-19T17:25:36.797Z"
   },
   {
    "duration": 199,
    "start_time": "2025-03-19T17:26:09.073Z"
   },
   {
    "duration": 175,
    "start_time": "2025-03-19T17:26:34.368Z"
   },
   {
    "duration": 166,
    "start_time": "2025-03-19T17:26:53.665Z"
   },
   {
    "duration": 134,
    "start_time": "2025-03-19T17:30:29.819Z"
   },
   {
    "duration": 28,
    "start_time": "2025-03-19T17:30:34.872Z"
   },
   {
    "duration": 10,
    "start_time": "2025-03-19T17:30:40.588Z"
   },
   {
    "duration": 8,
    "start_time": "2025-03-19T17:31:01.130Z"
   },
   {
    "duration": 10,
    "start_time": "2025-03-19T17:31:44.180Z"
   },
   {
    "duration": 207,
    "start_time": "2025-03-19T17:31:54.489Z"
   },
   {
    "duration": 21,
    "start_time": "2025-03-19T17:32:02.195Z"
   },
   {
    "duration": 213,
    "start_time": "2025-03-19T17:32:06.364Z"
   },
   {
    "duration": 295,
    "start_time": "2025-03-19T17:32:52.059Z"
   },
   {
    "duration": 290,
    "start_time": "2025-03-19T17:33:06.236Z"
   },
   {
    "duration": 210,
    "start_time": "2025-03-19T17:33:43.973Z"
   },
   {
    "duration": 202,
    "start_time": "2025-03-19T17:34:02.383Z"
   },
   {
    "duration": 203,
    "start_time": "2025-03-19T17:34:23.090Z"
   },
   {
    "duration": 184,
    "start_time": "2025-03-19T17:34:36.753Z"
   },
   {
    "duration": 232,
    "start_time": "2025-03-19T17:35:59.936Z"
   },
   {
    "duration": 201,
    "start_time": "2025-03-19T17:36:09.656Z"
   },
   {
    "duration": 202,
    "start_time": "2025-03-19T17:36:35.913Z"
   },
   {
    "duration": 317,
    "start_time": "2025-03-19T17:37:05.229Z"
   },
   {
    "duration": 506,
    "start_time": "2025-03-19T17:37:19.642Z"
   },
   {
    "duration": 312,
    "start_time": "2025-03-19T17:37:24.949Z"
   },
   {
    "duration": 211,
    "start_time": "2025-03-19T17:37:28.143Z"
   },
   {
    "duration": 18,
    "start_time": "2025-03-19T17:38:00.289Z"
   },
   {
    "duration": 19,
    "start_time": "2025-03-19T17:38:18.451Z"
   },
   {
    "duration": 3,
    "start_time": "2025-03-19T17:38:44.489Z"
   },
   {
    "duration": 137,
    "start_time": "2025-03-19T17:38:44.867Z"
   },
   {
    "duration": 16,
    "start_time": "2025-03-19T17:38:47.819Z"
   },
   {
    "duration": 11,
    "start_time": "2025-03-19T17:38:48.263Z"
   },
   {
    "duration": 14,
    "start_time": "2025-03-19T17:38:49.496Z"
   },
   {
    "duration": 7,
    "start_time": "2025-03-19T17:38:52.656Z"
   },
   {
    "duration": 14,
    "start_time": "2025-03-19T17:38:52.798Z"
   },
   {
    "duration": 6,
    "start_time": "2025-03-19T17:38:54.940Z"
   },
   {
    "duration": 9,
    "start_time": "2025-03-19T17:38:55.071Z"
   },
   {
    "duration": 23,
    "start_time": "2025-03-19T17:38:58.832Z"
   },
   {
    "duration": 22,
    "start_time": "2025-03-19T17:38:59.770Z"
   },
   {
    "duration": 12,
    "start_time": "2025-03-19T17:39:01.335Z"
   },
   {
    "duration": 17,
    "start_time": "2025-03-19T17:39:03.490Z"
   },
   {
    "duration": 27,
    "start_time": "2025-03-19T17:39:10.264Z"
   },
   {
    "duration": 6,
    "start_time": "2025-03-19T17:39:28.101Z"
   },
   {
    "duration": 5,
    "start_time": "2025-03-19T17:39:28.265Z"
   },
   {
    "duration": 11,
    "start_time": "2025-03-19T17:39:30.014Z"
   },
   {
    "duration": 10,
    "start_time": "2025-03-19T17:39:30.331Z"
   },
   {
    "duration": 4,
    "start_time": "2025-03-19T17:39:30.645Z"
   },
   {
    "duration": 5,
    "start_time": "2025-03-19T17:39:30.958Z"
   },
   {
    "duration": 5,
    "start_time": "2025-03-19T17:39:31.627Z"
   },
   {
    "duration": 8,
    "start_time": "2025-03-19T17:39:32.168Z"
   },
   {
    "duration": 5,
    "start_time": "2025-03-19T17:39:32.860Z"
   },
   {
    "duration": 5,
    "start_time": "2025-03-19T17:39:33.096Z"
   },
   {
    "duration": 6,
    "start_time": "2025-03-19T17:39:41.941Z"
   },
   {
    "duration": 6,
    "start_time": "2025-03-19T17:39:42.112Z"
   },
   {
    "duration": 5,
    "start_time": "2025-03-19T17:39:42.255Z"
   },
   {
    "duration": 5,
    "start_time": "2025-03-19T17:39:42.378Z"
   },
   {
    "duration": 18,
    "start_time": "2025-03-19T17:39:42.514Z"
   },
   {
    "duration": 7,
    "start_time": "2025-03-19T17:39:42.639Z"
   },
   {
    "duration": 4,
    "start_time": "2025-03-19T17:39:42.779Z"
   },
   {
    "duration": 6,
    "start_time": "2025-03-19T17:39:42.903Z"
   },
   {
    "duration": 8,
    "start_time": "2025-03-19T17:39:43.051Z"
   },
   {
    "duration": 4,
    "start_time": "2025-03-19T17:39:43.170Z"
   },
   {
    "duration": 6,
    "start_time": "2025-03-19T17:39:43.306Z"
   },
   {
    "duration": 13,
    "start_time": "2025-03-19T17:39:43.422Z"
   },
   {
    "duration": 5,
    "start_time": "2025-03-19T17:39:43.553Z"
   },
   {
    "duration": 4,
    "start_time": "2025-03-19T17:39:43.683Z"
   },
   {
    "duration": 6,
    "start_time": "2025-03-19T17:39:43.808Z"
   },
   {
    "duration": 8,
    "start_time": "2025-03-19T17:39:44.267Z"
   },
   {
    "duration": 7,
    "start_time": "2025-03-19T17:39:44.546Z"
   },
   {
    "duration": 4,
    "start_time": "2025-03-19T17:39:45.302Z"
   },
   {
    "duration": 7,
    "start_time": "2025-03-19T17:39:45.556Z"
   },
   {
    "duration": 5,
    "start_time": "2025-03-19T17:39:46.059Z"
   },
   {
    "duration": 4,
    "start_time": "2025-03-19T17:39:46.090Z"
   },
   {
    "duration": 7,
    "start_time": "2025-03-19T17:39:46.134Z"
   },
   {
    "duration": 5,
    "start_time": "2025-03-19T17:39:46.167Z"
   },
   {
    "duration": 7,
    "start_time": "2025-03-19T17:39:46.198Z"
   },
   {
    "duration": 4,
    "start_time": "2025-03-19T17:39:46.231Z"
   },
   {
    "duration": 14,
    "start_time": "2025-03-19T17:39:48.301Z"
   },
   {
    "duration": 22,
    "start_time": "2025-03-19T17:39:53.178Z"
   },
   {
    "duration": 13,
    "start_time": "2025-03-19T17:40:00.157Z"
   },
   {
    "duration": 3,
    "start_time": "2025-03-19T17:40:00.596Z"
   },
   {
    "duration": 5,
    "start_time": "2025-03-19T17:40:00.914Z"
   },
   {
    "duration": 12,
    "start_time": "2025-03-19T17:40:01.250Z"
   },
   {
    "duration": 4,
    "start_time": "2025-03-19T17:40:01.529Z"
   },
   {
    "duration": 6,
    "start_time": "2025-03-19T17:40:01.787Z"
   },
   {
    "duration": 11,
    "start_time": "2025-03-19T17:40:02.071Z"
   },
   {
    "duration": 3,
    "start_time": "2025-03-19T17:40:02.673Z"
   },
   {
    "duration": 5,
    "start_time": "2025-03-19T17:40:04.013Z"
   },
   {
    "duration": 10,
    "start_time": "2025-03-19T17:40:04.586Z"
   },
   {
    "duration": 3,
    "start_time": "2025-03-19T17:40:04.893Z"
   },
   {
    "duration": 6,
    "start_time": "2025-03-19T17:40:05.512Z"
   },
   {
    "duration": 28,
    "start_time": "2025-03-19T17:40:08.837Z"
   },
   {
    "duration": 3,
    "start_time": "2025-03-19T17:40:45.846Z"
   },
   {
    "duration": 132,
    "start_time": "2025-03-19T17:40:46.352Z"
   },
   {
    "duration": 15,
    "start_time": "2025-03-19T17:40:46.486Z"
   },
   {
    "duration": 14,
    "start_time": "2025-03-19T17:40:46.502Z"
   },
   {
    "duration": 13,
    "start_time": "2025-03-19T17:40:46.518Z"
   },
   {
    "duration": 19,
    "start_time": "2025-03-19T17:40:46.532Z"
   },
   {
    "duration": 35,
    "start_time": "2025-03-19T17:40:46.552Z"
   },
   {
    "duration": 19,
    "start_time": "2025-03-19T17:40:46.588Z"
   },
   {
    "duration": 25,
    "start_time": "2025-03-19T17:40:46.608Z"
   },
   {
    "duration": 40,
    "start_time": "2025-03-19T17:40:46.635Z"
   },
   {
    "duration": 28,
    "start_time": "2025-03-19T17:40:46.676Z"
   },
   {
    "duration": 12,
    "start_time": "2025-03-19T17:40:46.706Z"
   },
   {
    "duration": 14,
    "start_time": "2025-03-19T17:40:46.724Z"
   },
   {
    "duration": 6,
    "start_time": "2025-03-19T17:40:46.847Z"
   },
   {
    "duration": 20,
    "start_time": "2025-03-19T17:40:46.878Z"
   },
   {
    "duration": 11,
    "start_time": "2025-03-19T17:40:46.908Z"
   },
   {
    "duration": 9,
    "start_time": "2025-03-19T17:40:47.570Z"
   },
   {
    "duration": 3,
    "start_time": "2025-03-19T17:40:48.072Z"
   },
   {
    "duration": 6,
    "start_time": "2025-03-19T17:40:48.104Z"
   },
   {
    "duration": 6,
    "start_time": "2025-03-19T17:40:48.148Z"
   },
   {
    "duration": 11,
    "start_time": "2025-03-19T17:40:48.598Z"
   },
   {
    "duration": 5,
    "start_time": "2025-03-19T17:40:48.787Z"
   },
   {
    "duration": 5,
    "start_time": "2025-03-19T17:40:48.970Z"
   },
   {
    "duration": 6,
    "start_time": "2025-03-19T17:40:49.802Z"
   },
   {
    "duration": 5,
    "start_time": "2025-03-19T17:40:50.283Z"
   },
   {
    "duration": 16,
    "start_time": "2025-03-19T17:40:50.305Z"
   },
   {
    "duration": 5,
    "start_time": "2025-03-19T17:40:50.351Z"
   },
   {
    "duration": 12,
    "start_time": "2025-03-19T17:40:50.366Z"
   },
   {
    "duration": 7,
    "start_time": "2025-03-19T17:40:50.421Z"
   },
   {
    "duration": 23,
    "start_time": "2025-03-19T17:40:50.431Z"
   },
   {
    "duration": 6,
    "start_time": "2025-03-19T17:40:50.488Z"
   },
   {
    "duration": 7,
    "start_time": "2025-03-19T17:40:52.540Z"
   },
   {
    "duration": 3,
    "start_time": "2025-03-19T17:40:52.678Z"
   },
   {
    "duration": 6,
    "start_time": "2025-03-19T17:40:52.815Z"
   },
   {
    "duration": 11,
    "start_time": "2025-03-19T17:40:52.979Z"
   },
   {
    "duration": 4,
    "start_time": "2025-03-19T17:40:53.282Z"
   },
   {
    "duration": 3,
    "start_time": "2025-03-19T17:40:53.411Z"
   },
   {
    "duration": 5,
    "start_time": "2025-03-19T17:40:53.559Z"
   },
   {
    "duration": 9,
    "start_time": "2025-03-19T17:40:53.741Z"
   },
   {
    "duration": 7,
    "start_time": "2025-03-19T17:40:54.245Z"
   },
   {
    "duration": 4,
    "start_time": "2025-03-19T17:40:54.276Z"
   },
   {
    "duration": 7,
    "start_time": "2025-03-19T17:40:54.309Z"
   },
   {
    "duration": 4,
    "start_time": "2025-03-19T17:40:54.340Z"
   },
   {
    "duration": 5,
    "start_time": "2025-03-19T17:40:54.387Z"
   },
   {
    "duration": 7,
    "start_time": "2025-03-19T17:40:54.418Z"
   },
   {
    "duration": 5,
    "start_time": "2025-03-19T17:40:54.449Z"
   },
   {
    "duration": 6,
    "start_time": "2025-03-19T17:40:54.481Z"
   },
   {
    "duration": 4,
    "start_time": "2025-03-19T17:40:54.513Z"
   },
   {
    "duration": 13,
    "start_time": "2025-03-19T17:40:54.544Z"
   },
   {
    "duration": 10,
    "start_time": "2025-03-19T17:40:54.575Z"
   },
   {
    "duration": 4,
    "start_time": "2025-03-19T17:40:56.689Z"
   },
   {
    "duration": 5,
    "start_time": "2025-03-19T17:40:57.159Z"
   },
   {
    "duration": 10,
    "start_time": "2025-03-19T17:40:57.304Z"
   },
   {
    "duration": 5,
    "start_time": "2025-03-19T17:40:57.316Z"
   },
   {
    "duration": 5,
    "start_time": "2025-03-19T17:41:02.823Z"
   },
   {
    "duration": 11,
    "start_time": "2025-03-19T17:41:04.270Z"
   },
   {
    "duration": 3,
    "start_time": "2025-03-19T17:41:04.418Z"
   },
   {
    "duration": 6,
    "start_time": "2025-03-19T17:41:05.769Z"
   },
   {
    "duration": 9,
    "start_time": "2025-03-19T17:41:06.556Z"
   },
   {
    "duration": 4,
    "start_time": "2025-03-19T17:41:07.848Z"
   },
   {
    "duration": 5,
    "start_time": "2025-03-19T17:41:07.978Z"
   },
   {
    "duration": 18,
    "start_time": "2025-03-19T17:41:13.429Z"
   },
   {
    "duration": 8,
    "start_time": "2025-03-19T17:41:20.182Z"
   },
   {
    "duration": 9,
    "start_time": "2025-03-19T17:41:20.342Z"
   },
   {
    "duration": 4,
    "start_time": "2025-03-19T17:41:22.675Z"
   },
   {
    "duration": 7,
    "start_time": "2025-03-19T17:41:22.888Z"
   },
   {
    "duration": 5,
    "start_time": "2025-03-19T17:41:25.184Z"
   },
   {
    "duration": 7,
    "start_time": "2025-03-19T17:41:27.558Z"
   },
   {
    "duration": 11,
    "start_time": "2025-03-19T17:41:28.112Z"
   },
   {
    "duration": 12,
    "start_time": "2025-03-19T17:41:28.804Z"
   },
   {
    "duration": 9,
    "start_time": "2025-03-19T17:41:31.727Z"
   },
   {
    "duration": 16,
    "start_time": "2025-03-19T17:41:32.688Z"
   },
   {
    "duration": 7,
    "start_time": "2025-03-19T17:41:36.840Z"
   },
   {
    "duration": 5,
    "start_time": "2025-03-19T17:41:37.555Z"
   },
   {
    "duration": 6,
    "start_time": "2025-03-19T17:41:40.053Z"
   },
   {
    "duration": 19,
    "start_time": "2025-03-19T17:41:46.783Z"
   },
   {
    "duration": 4,
    "start_time": "2025-03-19T17:41:54.619Z"
   },
   {
    "duration": 8,
    "start_time": "2025-03-19T17:41:57.990Z"
   },
   {
    "duration": 8,
    "start_time": "2025-03-19T17:42:07.096Z"
   },
   {
    "duration": 7,
    "start_time": "2025-03-19T17:42:09.458Z"
   },
   {
    "duration": 6,
    "start_time": "2025-03-19T17:42:12.930Z"
   },
   {
    "duration": 16,
    "start_time": "2025-03-19T17:42:13.980Z"
   },
   {
    "duration": 21,
    "start_time": "2025-03-19T17:42:17.848Z"
   },
   {
    "duration": 166,
    "start_time": "2025-03-19T17:42:21.821Z"
   },
   {
    "duration": 9,
    "start_time": "2025-03-19T17:42:25.240Z"
   },
   {
    "duration": 448,
    "start_time": "2025-03-19T17:42:53.257Z"
   },
   {
    "duration": 21,
    "start_time": "2025-03-19T17:43:31.849Z"
   },
   {
    "duration": 255,
    "start_time": "2025-03-19T17:43:43.854Z"
   },
   {
    "duration": 6,
    "start_time": "2025-03-19T17:43:47.850Z"
   },
   {
    "duration": 9,
    "start_time": "2025-03-19T17:50:45.976Z"
   },
   {
    "duration": 4,
    "start_time": "2025-03-19T17:50:46.336Z"
   },
   {
    "duration": 5,
    "start_time": "2025-03-19T17:50:47.280Z"
   },
   {
    "duration": 5,
    "start_time": "2025-03-19T17:50:48.213Z"
   },
   {
    "duration": 5,
    "start_time": "2025-03-19T17:50:48.946Z"
   },
   {
    "duration": 4,
    "start_time": "2025-03-19T17:50:51.155Z"
   },
   {
    "duration": 128,
    "start_time": "2025-03-19T17:50:57.591Z"
   },
   {
    "duration": 192,
    "start_time": "2025-03-19T17:51:00.178Z"
   },
   {
    "duration": 185,
    "start_time": "2025-03-19T17:51:04.623Z"
   },
   {
    "duration": 9,
    "start_time": "2025-03-19T17:51:09.380Z"
   },
   {
    "duration": 9,
    "start_time": "2025-03-19T17:51:13.335Z"
   },
   {
    "duration": 220,
    "start_time": "2025-03-19T17:51:13.346Z"
   },
   {
    "duration": 187,
    "start_time": "2025-03-19T17:51:21.421Z"
   },
   {
    "duration": 181,
    "start_time": "2025-03-19T17:51:26.199Z"
   },
   {
    "duration": 20,
    "start_time": "2025-03-19T17:51:30.438Z"
   },
   {
    "duration": 20,
    "start_time": "2025-03-19T17:51:58.034Z"
   },
   {
    "duration": 387,
    "start_time": "2025-03-19T17:52:18.982Z"
   },
   {
    "duration": 234,
    "start_time": "2025-03-19T17:52:23.741Z"
   },
   {
    "duration": 376,
    "start_time": "2025-03-19T17:53:00.997Z"
   },
   {
    "duration": 399,
    "start_time": "2025-03-19T17:53:04.280Z"
   },
   {
    "duration": 368,
    "start_time": "2025-03-19T17:53:26.829Z"
   },
   {
    "duration": 277,
    "start_time": "2025-03-19T17:53:32.633Z"
   },
   {
    "duration": 369,
    "start_time": "2025-03-19T17:53:38.279Z"
   },
   {
    "duration": 373,
    "start_time": "2025-03-19T17:53:51.948Z"
   },
   {
    "duration": 588,
    "start_time": "2025-03-19T17:54:01.585Z"
   },
   {
    "duration": 408,
    "start_time": "2025-03-19T17:54:11.545Z"
   },
   {
    "duration": 462,
    "start_time": "2025-03-19T17:54:14.599Z"
   },
   {
    "duration": 355,
    "start_time": "2025-03-19T17:54:22.656Z"
   },
   {
    "duration": 370,
    "start_time": "2025-03-19T17:54:28.083Z"
   },
   {
    "duration": 408,
    "start_time": "2025-03-19T17:54:32.765Z"
   },
   {
    "duration": 30,
    "start_time": "2025-03-19T17:55:25.460Z"
   },
   {
    "duration": 10,
    "start_time": "2025-03-19T17:55:39.491Z"
   },
   {
    "duration": 14,
    "start_time": "2025-03-19T17:59:12.225Z"
   },
   {
    "duration": 9,
    "start_time": "2025-03-19T17:59:15.114Z"
   },
   {
    "duration": 10,
    "start_time": "2025-03-19T18:00:28.281Z"
   },
   {
    "duration": 12,
    "start_time": "2025-03-19T18:01:14.848Z"
   },
   {
    "duration": 12,
    "start_time": "2025-03-19T18:01:21.692Z"
   },
   {
    "duration": 146,
    "start_time": "2025-03-19T18:02:27.956Z"
   },
   {
    "duration": 94,
    "start_time": "2025-03-19T18:02:42.878Z"
   },
   {
    "duration": 10,
    "start_time": "2025-03-19T18:02:52.472Z"
   },
   {
    "duration": 104,
    "start_time": "2025-03-19T18:03:01.471Z"
   },
   {
    "duration": 109,
    "start_time": "2025-03-19T18:03:12.022Z"
   },
   {
    "duration": 113,
    "start_time": "2025-03-19T18:03:17.579Z"
   },
   {
    "duration": 11,
    "start_time": "2025-03-19T18:03:19.295Z"
   },
   {
    "duration": 10,
    "start_time": "2025-03-19T18:03:25.750Z"
   },
   {
    "duration": 10,
    "start_time": "2025-03-19T18:03:29.092Z"
   },
   {
    "duration": 10,
    "start_time": "2025-03-19T18:03:32.209Z"
   },
   {
    "duration": 10,
    "start_time": "2025-03-19T18:03:35.522Z"
   },
   {
    "duration": 11,
    "start_time": "2025-03-19T18:03:41.595Z"
   },
   {
    "duration": 11,
    "start_time": "2025-03-19T18:03:49.227Z"
   },
   {
    "duration": 15,
    "start_time": "2025-03-19T18:03:52.762Z"
   },
   {
    "duration": 107,
    "start_time": "2025-03-19T18:03:59.470Z"
   },
   {
    "duration": 98,
    "start_time": "2025-03-19T18:04:29.370Z"
   },
   {
    "duration": 9,
    "start_time": "2025-03-19T18:04:35.051Z"
   },
   {
    "duration": 10,
    "start_time": "2025-03-19T18:04:44.332Z"
   },
   {
    "duration": 9,
    "start_time": "2025-03-19T18:04:56.100Z"
   },
   {
    "duration": 9,
    "start_time": "2025-03-19T18:05:05.564Z"
   },
   {
    "duration": 8,
    "start_time": "2025-03-19T18:05:23.082Z"
   },
   {
    "duration": 8,
    "start_time": "2025-03-19T18:05:31.768Z"
   },
   {
    "duration": 9,
    "start_time": "2025-03-19T18:06:10.431Z"
   },
   {
    "duration": 9,
    "start_time": "2025-03-19T18:06:15.599Z"
   },
   {
    "duration": 9,
    "start_time": "2025-03-19T18:06:21.046Z"
   },
   {
    "duration": 10,
    "start_time": "2025-03-19T18:07:06.824Z"
   },
   {
    "duration": 8,
    "start_time": "2025-03-19T18:07:19.176Z"
   },
   {
    "duration": 8,
    "start_time": "2025-03-19T18:07:23.333Z"
   },
   {
    "duration": 9,
    "start_time": "2025-03-19T18:07:30.466Z"
   },
   {
    "duration": 12,
    "start_time": "2025-03-19T18:10:59.913Z"
   },
   {
    "duration": 12,
    "start_time": "2025-03-19T18:11:09.893Z"
   },
   {
    "duration": 18,
    "start_time": "2025-03-19T18:11:15.283Z"
   },
   {
    "duration": 19,
    "start_time": "2025-03-19T18:11:21.737Z"
   },
   {
    "duration": 205,
    "start_time": "2025-03-19T18:11:49.116Z"
   },
   {
    "duration": 198,
    "start_time": "2025-03-19T18:12:10.426Z"
   },
   {
    "duration": 191,
    "start_time": "2025-03-19T18:12:19.329Z"
   },
   {
    "duration": 173,
    "start_time": "2025-03-19T18:12:56.701Z"
   },
   {
    "duration": 198,
    "start_time": "2025-03-19T18:13:32.652Z"
   },
   {
    "duration": 19,
    "start_time": "2025-03-19T18:13:46.938Z"
   },
   {
    "duration": 502,
    "start_time": "2025-03-19T18:13:53.960Z"
   },
   {
    "duration": 19,
    "start_time": "2025-03-19T18:13:59.126Z"
   },
   {
    "duration": 18,
    "start_time": "2025-03-19T18:14:19.774Z"
   },
   {
    "duration": 207,
    "start_time": "2025-03-19T18:14:25.520Z"
   },
   {
    "duration": 204,
    "start_time": "2025-03-19T18:14:59.223Z"
   },
   {
    "duration": 181,
    "start_time": "2025-03-19T18:15:23.501Z"
   },
   {
    "duration": 208,
    "start_time": "2025-03-19T18:16:02.276Z"
   },
   {
    "duration": 206,
    "start_time": "2025-03-19T18:16:03.917Z"
   },
   {
    "duration": 865,
    "start_time": "2025-03-19T18:16:24.465Z"
   },
   {
    "duration": 880,
    "start_time": "2025-03-19T18:16:40.920Z"
   },
   {
    "duration": 870,
    "start_time": "2025-03-19T18:17:06.228Z"
   },
   {
    "duration": 292,
    "start_time": "2025-03-19T18:17:31.730Z"
   },
   {
    "duration": 891,
    "start_time": "2025-03-19T18:17:42.847Z"
   },
   {
    "duration": 170,
    "start_time": "2025-03-19T18:22:48.282Z"
   },
   {
    "duration": 857,
    "start_time": "2025-03-19T18:23:00.103Z"
   },
   {
    "duration": 876,
    "start_time": "2025-03-19T18:23:09.853Z"
   },
   {
    "duration": 1203,
    "start_time": "2025-03-19T18:23:14.728Z"
   },
   {
    "duration": 18,
    "start_time": "2025-03-19T18:23:19.982Z"
   },
   {
    "duration": 16,
    "start_time": "2025-03-19T18:23:43.618Z"
   },
   {
    "duration": 206,
    "start_time": "2025-03-19T18:24:25.457Z"
   },
   {
    "duration": 16,
    "start_time": "2025-03-19T18:24:27.452Z"
   },
   {
    "duration": 405,
    "start_time": "2025-03-19T18:25:23.242Z"
   },
   {
    "duration": 316,
    "start_time": "2025-03-19T18:25:46.731Z"
   },
   {
    "duration": 287,
    "start_time": "2025-03-19T18:26:14.130Z"
   },
   {
    "duration": 281,
    "start_time": "2025-03-19T18:26:31.715Z"
   },
   {
    "duration": 295,
    "start_time": "2025-03-19T18:26:36.350Z"
   },
   {
    "duration": 364,
    "start_time": "2025-03-19T18:26:40.329Z"
   },
   {
    "duration": 304,
    "start_time": "2025-03-19T18:28:52.389Z"
   },
   {
    "duration": 17,
    "start_time": "2025-03-19T18:29:45.693Z"
   },
   {
    "duration": 355,
    "start_time": "2025-03-19T18:29:58.954Z"
   },
   {
    "duration": 302,
    "start_time": "2025-03-19T18:30:04.737Z"
   },
   {
    "duration": 308,
    "start_time": "2025-03-19T18:30:24.751Z"
   },
   {
    "duration": 300,
    "start_time": "2025-03-19T18:30:30.637Z"
   },
   {
    "duration": 304,
    "start_time": "2025-03-19T18:30:53.123Z"
   },
   {
    "duration": 296,
    "start_time": "2025-03-19T18:31:05.375Z"
   },
   {
    "duration": 333,
    "start_time": "2025-03-19T18:31:08.657Z"
   },
   {
    "duration": 274,
    "start_time": "2025-03-19T18:31:16.817Z"
   },
   {
    "duration": 273,
    "start_time": "2025-03-19T18:31:28.945Z"
   },
   {
    "duration": 265,
    "start_time": "2025-03-19T18:31:33.503Z"
   },
   {
    "duration": 747,
    "start_time": "2025-03-19T21:04:20.293Z"
   },
   {
    "duration": 116,
    "start_time": "2025-03-19T21:04:21.131Z"
   },
   {
    "duration": 3269,
    "start_time": "2025-03-19T21:04:34.227Z"
   },
   {
    "duration": 420,
    "start_time": "2025-03-19T21:04:37.499Z"
   },
   {
    "duration": 3,
    "start_time": "2025-03-19T21:04:59.994Z"
   },
   {
    "duration": 3,
    "start_time": "2025-03-19T21:05:03.666Z"
   },
   {
    "duration": 3,
    "start_time": "2025-03-19T21:05:07.947Z"
   },
   {
    "duration": 113,
    "start_time": "2025-03-19T21:05:08.314Z"
   },
   {
    "duration": 16,
    "start_time": "2025-03-19T21:05:09.607Z"
   },
   {
    "duration": 8,
    "start_time": "2025-03-19T21:05:09.962Z"
   },
   {
    "duration": 13,
    "start_time": "2025-03-19T21:05:10.516Z"
   },
   {
    "duration": 7,
    "start_time": "2025-03-19T21:05:10.883Z"
   },
   {
    "duration": 12,
    "start_time": "2025-03-19T21:05:11.331Z"
   },
   {
    "duration": 5,
    "start_time": "2025-03-19T21:05:12.034Z"
   },
   {
    "duration": 8,
    "start_time": "2025-03-19T21:05:12.495Z"
   },
   {
    "duration": 15,
    "start_time": "2025-03-19T21:05:14.650Z"
   },
   {
    "duration": 19,
    "start_time": "2025-03-19T21:05:15.017Z"
   },
   {
    "duration": 11,
    "start_time": "2025-03-19T21:05:15.754Z"
   },
   {
    "duration": 13,
    "start_time": "2025-03-19T21:05:16.013Z"
   },
   {
    "duration": 7,
    "start_time": "2025-03-19T21:05:18.841Z"
   },
   {
    "duration": 4,
    "start_time": "2025-03-19T21:05:19.073Z"
   },
   {
    "duration": 9,
    "start_time": "2025-03-19T21:05:19.296Z"
   },
   {
    "duration": 8,
    "start_time": "2025-03-19T21:05:19.526Z"
   },
   {
    "duration": 3,
    "start_time": "2025-03-19T21:05:20.100Z"
   },
   {
    "duration": 5,
    "start_time": "2025-03-19T21:05:20.341Z"
   },
   {
    "duration": 4,
    "start_time": "2025-03-19T21:05:20.643Z"
   },
   {
    "duration": 8,
    "start_time": "2025-03-19T21:05:20.998Z"
   },
   {
    "duration": 4,
    "start_time": "2025-03-19T21:05:21.665Z"
   },
   {
    "duration": 4,
    "start_time": "2025-03-19T21:05:21.972Z"
   },
   {
    "duration": 5,
    "start_time": "2025-03-19T21:05:23.337Z"
   },
   {
    "duration": 5,
    "start_time": "2025-03-19T21:05:23.790Z"
   },
   {
    "duration": 6,
    "start_time": "2025-03-19T21:05:23.967Z"
   },
   {
    "duration": 7,
    "start_time": "2025-03-19T21:05:24.097Z"
   },
   {
    "duration": 11,
    "start_time": "2025-03-19T21:05:24.234Z"
   },
   {
    "duration": 7,
    "start_time": "2025-03-19T21:05:24.369Z"
   },
   {
    "duration": 4,
    "start_time": "2025-03-19T21:05:24.504Z"
   },
   {
    "duration": 6,
    "start_time": "2025-03-19T21:05:24.653Z"
   },
   {
    "duration": 6,
    "start_time": "2025-03-19T21:05:26.400Z"
   },
   {
    "duration": 3,
    "start_time": "2025-03-19T21:05:26.542Z"
   },
   {
    "duration": 4,
    "start_time": "2025-03-19T21:05:26.826Z"
   },
   {
    "duration": 1112,
    "start_time": "2025-03-19T21:05:44.280Z"
   },
   {
    "duration": 944,
    "start_time": "2025-03-19T21:06:04.302Z"
   },
   {
    "duration": 8,
    "start_time": "2025-03-19T21:06:10.749Z"
   },
   {
    "duration": 4,
    "start_time": "2025-03-19T21:06:11.659Z"
   },
   {
    "duration": 3,
    "start_time": "2025-03-19T21:06:12.788Z"
   },
   {
    "duration": 5,
    "start_time": "2025-03-19T21:06:13.017Z"
   },
   {
    "duration": 7,
    "start_time": "2025-03-19T21:06:13.353Z"
   },
   {
    "duration": 6,
    "start_time": "2025-03-19T21:06:13.767Z"
   },
   {
    "duration": 5,
    "start_time": "2025-03-19T21:06:15.367Z"
   },
   {
    "duration": 6,
    "start_time": "2025-03-19T21:06:16.997Z"
   },
   {
    "duration": 5,
    "start_time": "2025-03-19T21:06:19.229Z"
   },
   {
    "duration": 5,
    "start_time": "2025-03-19T21:06:19.607Z"
   },
   {
    "duration": 6,
    "start_time": "2025-03-19T21:06:19.996Z"
   },
   {
    "duration": 4,
    "start_time": "2025-03-19T21:06:20.304Z"
   },
   {
    "duration": 6,
    "start_time": "2025-03-19T21:06:20.688Z"
   },
   {
    "duration": 5,
    "start_time": "2025-03-19T21:06:21.000Z"
   },
   {
    "duration": 16,
    "start_time": "2025-03-19T21:06:21.609Z"
   },
   {
    "duration": 12,
    "start_time": "2025-03-19T21:06:23.226Z"
   },
   {
    "duration": 3,
    "start_time": "2025-03-19T21:06:23.421Z"
   },
   {
    "duration": 5,
    "start_time": "2025-03-19T21:06:23.575Z"
   },
   {
    "duration": 12,
    "start_time": "2025-03-19T21:06:23.729Z"
   },
   {
    "duration": 3,
    "start_time": "2025-03-19T21:06:23.989Z"
   },
   {
    "duration": 6,
    "start_time": "2025-03-19T21:06:24.318Z"
   },
   {
    "duration": 14,
    "start_time": "2025-03-19T21:06:24.602Z"
   },
   {
    "duration": 4,
    "start_time": "2025-03-19T21:06:26.456Z"
   },
   {
    "duration": 5,
    "start_time": "2025-03-19T21:06:26.669Z"
   },
   {
    "duration": 8,
    "start_time": "2025-03-19T21:06:26.982Z"
   },
   {
    "duration": 4,
    "start_time": "2025-03-19T21:06:27.283Z"
   },
   {
    "duration": 5,
    "start_time": "2025-03-19T21:06:27.997Z"
   },
   {
    "duration": 3,
    "start_time": "2025-03-19T21:07:17.100Z"
   },
   {
    "duration": 113,
    "start_time": "2025-03-19T21:07:17.348Z"
   },
   {
    "duration": 15,
    "start_time": "2025-03-19T21:07:17.609Z"
   },
   {
    "duration": 14,
    "start_time": "2025-03-19T21:07:18.194Z"
   },
   {
    "duration": 11,
    "start_time": "2025-03-19T21:07:18.558Z"
   },
   {
    "duration": 6,
    "start_time": "2025-03-19T21:07:19.073Z"
   },
   {
    "duration": 12,
    "start_time": "2025-03-19T21:07:19.475Z"
   },
   {
    "duration": 6,
    "start_time": "2025-03-19T21:07:20.099Z"
   },
   {
    "duration": 11,
    "start_time": "2025-03-19T21:07:20.359Z"
   },
   {
    "duration": 14,
    "start_time": "2025-03-19T21:07:20.899Z"
   },
   {
    "duration": 28,
    "start_time": "2025-03-19T21:07:20.929Z"
   },
   {
    "duration": 13,
    "start_time": "2025-03-19T21:07:20.960Z"
   },
   {
    "duration": 16,
    "start_time": "2025-03-19T21:07:20.991Z"
   },
   {
    "duration": 7,
    "start_time": "2025-03-19T21:07:21.164Z"
   },
   {
    "duration": 74,
    "start_time": "2025-03-19T21:07:21.194Z"
   },
   {
    "duration": 10,
    "start_time": "2025-03-19T21:07:21.582Z"
   },
   {
    "duration": 13,
    "start_time": "2025-03-19T21:07:22.096Z"
   },
   {
    "duration": 4,
    "start_time": "2025-03-19T21:07:22.158Z"
   },
   {
    "duration": 51,
    "start_time": "2025-03-19T21:07:22.187Z"
   },
   {
    "duration": 23,
    "start_time": "2025-03-19T21:07:22.240Z"
   },
   {
    "duration": 10,
    "start_time": "2025-03-19T21:07:22.485Z"
   },
   {
    "duration": 5,
    "start_time": "2025-03-19T21:07:22.965Z"
   },
   {
    "duration": 5,
    "start_time": "2025-03-19T21:07:23.164Z"
   },
   {
    "duration": 1003,
    "start_time": "2025-03-19T21:07:24.221Z"
   },
   {
    "duration": 5,
    "start_time": "2025-03-19T21:08:28.581Z"
   },
   {
    "duration": 5,
    "start_time": "2025-03-19T21:08:28.771Z"
   },
   {
    "duration": 4,
    "start_time": "2025-03-19T21:08:28.918Z"
   },
   {
    "duration": 5,
    "start_time": "2025-03-19T21:08:29.082Z"
   },
   {
    "duration": 9,
    "start_time": "2025-03-19T21:08:29.249Z"
   },
   {
    "duration": 6,
    "start_time": "2025-03-19T21:08:29.419Z"
   },
   {
    "duration": 3,
    "start_time": "2025-03-19T21:08:29.579Z"
   },
   {
    "duration": 5,
    "start_time": "2025-03-19T21:08:29.733Z"
   },
   {
    "duration": 6,
    "start_time": "2025-03-19T21:08:29.886Z"
   },
   {
    "duration": 4,
    "start_time": "2025-03-19T21:08:30.164Z"
   },
   {
    "duration": 5,
    "start_time": "2025-03-19T21:08:32.769Z"
   },
   {
    "duration": 9,
    "start_time": "2025-03-19T21:08:33.009Z"
   },
   {
    "duration": 4,
    "start_time": "2025-03-19T21:08:35.372Z"
   },
   {
    "duration": 3,
    "start_time": "2025-03-19T21:08:35.703Z"
   },
   {
    "duration": 5,
    "start_time": "2025-03-19T21:08:35.897Z"
   },
   {
    "duration": 7,
    "start_time": "2025-03-19T21:08:36.069Z"
   },
   {
    "duration": 6,
    "start_time": "2025-03-19T21:08:36.233Z"
   },
   {
    "duration": 3,
    "start_time": "2025-03-19T21:08:36.807Z"
   },
   {
    "duration": 7,
    "start_time": "2025-03-19T21:08:37.427Z"
   },
   {
    "duration": 4,
    "start_time": "2025-03-19T21:08:37.585Z"
   },
   {
    "duration": 4,
    "start_time": "2025-03-19T21:08:37.716Z"
   },
   {
    "duration": 7,
    "start_time": "2025-03-19T21:08:37.867Z"
   },
   {
    "duration": 4,
    "start_time": "2025-03-19T21:08:37.987Z"
   },
   {
    "duration": 7,
    "start_time": "2025-03-19T21:08:38.117Z"
   },
   {
    "duration": 6,
    "start_time": "2025-03-19T21:08:38.242Z"
   },
   {
    "duration": 10,
    "start_time": "2025-03-19T21:08:38.369Z"
   },
   {
    "duration": 9,
    "start_time": "2025-03-19T21:08:38.933Z"
   },
   {
    "duration": 3,
    "start_time": "2025-03-19T21:08:39.068Z"
   },
   {
    "duration": 5,
    "start_time": "2025-03-19T21:08:39.203Z"
   },
   {
    "duration": 9,
    "start_time": "2025-03-19T21:08:39.535Z"
   },
   {
    "duration": 3,
    "start_time": "2025-03-19T21:08:41.721Z"
   },
   {
    "duration": 7,
    "start_time": "2025-03-19T21:08:41.868Z"
   },
   {
    "duration": 13,
    "start_time": "2025-03-19T21:08:42.003Z"
   },
   {
    "duration": 4,
    "start_time": "2025-03-19T21:08:42.168Z"
   },
   {
    "duration": 4,
    "start_time": "2025-03-19T21:08:42.299Z"
   },
   {
    "duration": 7,
    "start_time": "2025-03-19T21:08:42.440Z"
   },
   {
    "duration": 3,
    "start_time": "2025-03-19T21:08:42.806Z"
   },
   {
    "duration": 5,
    "start_time": "2025-03-19T21:08:43.078Z"
   },
   {
    "duration": 4,
    "start_time": "2025-03-19T21:26:25.404Z"
   },
   {
    "duration": 9,
    "start_time": "2025-03-19T21:26:25.611Z"
   },
   {
    "duration": 7,
    "start_time": "2025-03-19T21:26:25.823Z"
   },
   {
    "duration": 10,
    "start_time": "2025-03-19T21:26:26.124Z"
   },
   {
    "duration": 13,
    "start_time": "2025-03-19T21:26:26.343Z"
   },
   {
    "duration": 10,
    "start_time": "2025-03-19T21:26:26.645Z"
   },
   {
    "duration": 7,
    "start_time": "2025-03-19T21:26:28.244Z"
   },
   {
    "duration": 12,
    "start_time": "2025-03-19T21:26:28.386Z"
   },
   {
    "duration": 7,
    "start_time": "2025-03-19T21:26:39.533Z"
   },
   {
    "duration": 4,
    "start_time": "2025-03-19T21:26:39.982Z"
   },
   {
    "duration": 5,
    "start_time": "2025-03-19T21:26:40.378Z"
   },
   {
    "duration": 3,
    "start_time": "2025-03-19T21:26:42.629Z"
   },
   {
    "duration": 6,
    "start_time": "2025-03-19T21:26:43.159Z"
   },
   {
    "duration": 7,
    "start_time": "2025-03-19T21:26:43.389Z"
   },
   {
    "duration": 14,
    "start_time": "2025-03-19T21:26:43.644Z"
   },
   {
    "duration": 32,
    "start_time": "2025-03-19T21:26:45.894Z"
   },
   {
    "duration": 180,
    "start_time": "2025-03-19T21:30:46.022Z"
   },
   {
    "duration": 147,
    "start_time": "2025-03-19T21:30:50.410Z"
   },
   {
    "duration": 9,
    "start_time": "2025-03-19T21:30:56.644Z"
   },
   {
    "duration": 193,
    "start_time": "2025-03-19T21:31:22.896Z"
   },
   {
    "duration": 25,
    "start_time": "2025-03-19T21:31:27.939Z"
   },
   {
    "duration": 217,
    "start_time": "2025-03-19T21:32:10.592Z"
   },
   {
    "duration": 6,
    "start_time": "2025-03-19T21:32:13.556Z"
   },
   {
    "duration": 8,
    "start_time": "2025-03-19T21:32:15.711Z"
   },
   {
    "duration": 4,
    "start_time": "2025-03-19T21:32:15.858Z"
   },
   {
    "duration": 4,
    "start_time": "2025-03-19T21:32:16.024Z"
   },
   {
    "duration": 4,
    "start_time": "2025-03-19T21:32:16.195Z"
   },
   {
    "duration": 4,
    "start_time": "2025-03-19T21:32:16.360Z"
   },
   {
    "duration": 5,
    "start_time": "2025-03-19T21:32:16.716Z"
   },
   {
    "duration": 111,
    "start_time": "2025-03-19T21:32:27.072Z"
   },
   {
    "duration": 116,
    "start_time": "2025-03-19T21:32:31.653Z"
   },
   {
    "duration": 108,
    "start_time": "2025-03-19T21:34:18.064Z"
   },
   {
    "duration": 112,
    "start_time": "2025-03-19T21:35:50.081Z"
   },
   {
    "duration": 175,
    "start_time": "2025-03-19T21:36:55.782Z"
   },
   {
    "duration": 170,
    "start_time": "2025-03-19T21:38:12.633Z"
   },
   {
    "duration": 160,
    "start_time": "2025-03-19T21:38:20.018Z"
   },
   {
    "duration": 8,
    "start_time": "2025-03-19T21:38:34.773Z"
   },
   {
    "duration": 215,
    "start_time": "2025-03-19T21:38:58.043Z"
   },
   {
    "duration": 162,
    "start_time": "2025-03-19T21:39:35.100Z"
   },
   {
    "duration": 242,
    "start_time": "2025-03-19T21:40:30.886Z"
   },
   {
    "duration": 167,
    "start_time": "2025-03-19T21:40:59.233Z"
   },
   {
    "duration": 244,
    "start_time": "2025-03-19T21:41:36.532Z"
   },
   {
    "duration": 2,
    "start_time": "2025-03-19T21:42:56.419Z"
   }
  ],
  "colab": {
   "name": "DA+. Сборный проект 1. Шаблон (1).ipynb",
   "provenance": []
  },
  "kernelspec": {
   "display_name": "Python 3 (ipykernel)",
   "language": "python",
   "name": "python3"
  },
  "language_info": {
   "codemirror_mode": {
    "name": "ipython",
    "version": 3
   },
   "file_extension": ".py",
   "mimetype": "text/x-python",
   "name": "python",
   "nbconvert_exporter": "python",
   "pygments_lexer": "ipython3",
   "version": "3.9.5"
  },
  "toc": {
   "base_numbering": 1,
   "nav_menu": {},
   "number_sections": true,
   "sideBar": true,
   "skip_h1_title": true,
   "title_cell": "Table of Contents",
   "title_sidebar": "Contents",
   "toc_cell": false,
   "toc_position": {
    "height": "calc(100% - 180px)",
    "left": "10px",
    "top": "150px",
    "width": "375.391px"
   },
   "toc_section_display": true,
   "toc_window_display": false
  }
 },
 "nbformat": 4,
 "nbformat_minor": 1
}
