{
 "cells": [
  {
   "cell_type": "markdown",
   "id": "5d17b50d",
   "metadata": {},
   "source": [
    "# Исследование популярного сервиса аренды самокатов XXX.\n",
    "\n",
    "Вы аналитик популярного сервиса аренды самокатов XXX. Вам передали данные о некоторых пользователях из нескольких городов, а также об их поездках. Проанализируйте данные и проверьте некоторые гипотезы, которые могут помочь бизнесу вырасти.\n",
    "\n",
    "Чтобы совершать поездки по городу, пользователи сервиса XXX пользуются мобильным приложением. Сервисом можно пользоваться:\n",
    "\n",
    "    без подписки\n",
    "      \n",
    "        абонентская плата отсутствует;\n",
    "        стоимость одной минуты поездки — 88 рублей;\n",
    "        стоимость старта (начала поездки) — 5050 рублей;\n",
    "    с подпиской Ultra\n",
    "      \n",
    "        абонентская плата — 199199 рублей в месяц;\n",
    "        стоимость одной минуты поездки — 66 рублей;\n",
    "        стоимость старта — бесплатно.\n",
    "**Цель исследования:**\n",
    "\n",
    "    1. Посчитать помесячную и общую выручку из предоставленных данных.\n",
    "    2. Провести сравнение пользователей с подпиской и без подписки.\n",
    "    \n",
    "**Ход исследования:**\n",
    "\n",
    "    Данные располагаются в трех файлах '/datasets/users_go.csv', '/datasets/rides_go.csv', '/datasets/subscriptions_go.csv'. Достану их и изучу общую информацию.\n",
    "    \n",
    "    Выполню предобработку данных, приведя столбец date к типу datetime, создав из него столбец месяца, а затем проверю данные на дубли. Далее, объединю таблицы в одну, создам из них необходимые таблицы, и приступлю к проведению анализа.\n",
    "    \n",
    "    Таким образом, мое исследование пройдет в семь этапов(включая дополнительеный):\n",
    "        - Загрузка данных\n",
    "        - Предобработка данных\n",
    "        - Исследовательский анализ данных\n",
    "        - Объединение данных\n",
    "        - Подсчёт выручки\n",
    "        - Проверка гипотез\n",
    "        - Распределения"
   ]
  },
  {
   "cell_type": "code",
   "execution_count": 1,
   "id": "72576667",
   "metadata": {},
   "outputs": [],
   "source": [
    "import pandas as pd\n",
    "import matplotlib.pyplot as plt\n",
    "import numpy as np\n",
    "from scipy import stats as st"
   ]
  },
  {
   "cell_type": "markdown",
   "id": "c42cbe00",
   "metadata": {},
   "source": [
    "#### Шаг 1. Загрузка данных"
   ]
  },
  {
   "cell_type": "code",
   "execution_count": 2,
   "id": "ae7b2cdc",
   "metadata": {},
   "outputs": [],
   "source": [
    "users = pd.read_csv('/datasets/users_go.csv')"
   ]
  },
  {
   "cell_type": "code",
   "execution_count": 3,
   "id": "05f38b87",
   "metadata": {},
   "outputs": [
    {
     "data": {
      "text/html": [
       "<div>\n",
       "<style scoped>\n",
       "    .dataframe tbody tr th:only-of-type {\n",
       "        vertical-align: middle;\n",
       "    }\n",
       "\n",
       "    .dataframe tbody tr th {\n",
       "        vertical-align: top;\n",
       "    }\n",
       "\n",
       "    .dataframe thead th {\n",
       "        text-align: right;\n",
       "    }\n",
       "</style>\n",
       "<table border=\"1\" class=\"dataframe\">\n",
       "  <thead>\n",
       "    <tr style=\"text-align: right;\">\n",
       "      <th></th>\n",
       "      <th>user_id</th>\n",
       "      <th>name</th>\n",
       "      <th>age</th>\n",
       "      <th>city</th>\n",
       "      <th>subscription_type</th>\n",
       "    </tr>\n",
       "  </thead>\n",
       "  <tbody>\n",
       "    <tr>\n",
       "      <th>0</th>\n",
       "      <td>1</td>\n",
       "      <td>Кира</td>\n",
       "      <td>22</td>\n",
       "      <td>Тюмень</td>\n",
       "      <td>ultra</td>\n",
       "    </tr>\n",
       "    <tr>\n",
       "      <th>1</th>\n",
       "      <td>2</td>\n",
       "      <td>Станислав</td>\n",
       "      <td>31</td>\n",
       "      <td>Омск</td>\n",
       "      <td>ultra</td>\n",
       "    </tr>\n",
       "    <tr>\n",
       "      <th>2</th>\n",
       "      <td>3</td>\n",
       "      <td>Алексей</td>\n",
       "      <td>20</td>\n",
       "      <td>Москва</td>\n",
       "      <td>ultra</td>\n",
       "    </tr>\n",
       "    <tr>\n",
       "      <th>3</th>\n",
       "      <td>4</td>\n",
       "      <td>Константин</td>\n",
       "      <td>26</td>\n",
       "      <td>Ростов-на-Дону</td>\n",
       "      <td>ultra</td>\n",
       "    </tr>\n",
       "    <tr>\n",
       "      <th>4</th>\n",
       "      <td>5</td>\n",
       "      <td>Адель</td>\n",
       "      <td>28</td>\n",
       "      <td>Омск</td>\n",
       "      <td>ultra</td>\n",
       "    </tr>\n",
       "    <tr>\n",
       "      <th>5</th>\n",
       "      <td>6</td>\n",
       "      <td>Регина</td>\n",
       "      <td>25</td>\n",
       "      <td>Краснодар</td>\n",
       "      <td>ultra</td>\n",
       "    </tr>\n",
       "    <tr>\n",
       "      <th>6</th>\n",
       "      <td>7</td>\n",
       "      <td>Игорь</td>\n",
       "      <td>23</td>\n",
       "      <td>Омск</td>\n",
       "      <td>ultra</td>\n",
       "    </tr>\n",
       "    <tr>\n",
       "      <th>7</th>\n",
       "      <td>8</td>\n",
       "      <td>Юрий</td>\n",
       "      <td>23</td>\n",
       "      <td>Краснодар</td>\n",
       "      <td>ultra</td>\n",
       "    </tr>\n",
       "    <tr>\n",
       "      <th>8</th>\n",
       "      <td>9</td>\n",
       "      <td>Ян</td>\n",
       "      <td>21</td>\n",
       "      <td>Пятигорск</td>\n",
       "      <td>ultra</td>\n",
       "    </tr>\n",
       "    <tr>\n",
       "      <th>9</th>\n",
       "      <td>10</td>\n",
       "      <td>Валерий</td>\n",
       "      <td>18</td>\n",
       "      <td>Екатеринбург</td>\n",
       "      <td>ultra</td>\n",
       "    </tr>\n",
       "  </tbody>\n",
       "</table>\n",
       "</div>"
      ],
      "text/plain": [
       "   user_id        name  age            city subscription_type\n",
       "0        1        Кира   22          Тюмень             ultra\n",
       "1        2   Станислав   31            Омск             ultra\n",
       "2        3     Алексей   20          Москва             ultra\n",
       "3        4  Константин   26  Ростов-на-Дону             ultra\n",
       "4        5       Адель   28            Омск             ultra\n",
       "5        6      Регина   25       Краснодар             ultra\n",
       "6        7       Игорь   23            Омск             ultra\n",
       "7        8        Юрий   23       Краснодар             ultra\n",
       "8        9          Ян   21       Пятигорск             ultra\n",
       "9       10     Валерий   18    Екатеринбург             ultra"
      ]
     },
     "metadata": {},
     "output_type": "display_data"
    },
    {
     "name": "stdout",
     "output_type": "stream",
     "text": [
      "<class 'pandas.core.frame.DataFrame'>\n",
      "RangeIndex: 1565 entries, 0 to 1564\n",
      "Data columns (total 5 columns):\n",
      " #   Column             Non-Null Count  Dtype \n",
      "---  ------             --------------  ----- \n",
      " 0   user_id            1565 non-null   int64 \n",
      " 1   name               1565 non-null   object\n",
      " 2   age                1565 non-null   int64 \n",
      " 3   city               1565 non-null   object\n",
      " 4   subscription_type  1565 non-null   object\n",
      "dtypes: int64(2), object(3)\n",
      "memory usage: 61.3+ KB\n"
     ]
    }
   ],
   "source": [
    "display(users.head(10))\n",
    "users.info()"
   ]
  },
  {
   "cell_type": "code",
   "execution_count": 4,
   "id": "a9414396",
   "metadata": {},
   "outputs": [],
   "source": [
    "rides = pd.read_csv('/datasets/rides_go.csv')"
   ]
  },
  {
   "cell_type": "code",
   "execution_count": 5,
   "id": "9de4d59f",
   "metadata": {},
   "outputs": [
    {
     "data": {
      "text/html": [
       "<div>\n",
       "<style scoped>\n",
       "    .dataframe tbody tr th:only-of-type {\n",
       "        vertical-align: middle;\n",
       "    }\n",
       "\n",
       "    .dataframe tbody tr th {\n",
       "        vertical-align: top;\n",
       "    }\n",
       "\n",
       "    .dataframe thead th {\n",
       "        text-align: right;\n",
       "    }\n",
       "</style>\n",
       "<table border=\"1\" class=\"dataframe\">\n",
       "  <thead>\n",
       "    <tr style=\"text-align: right;\">\n",
       "      <th></th>\n",
       "      <th>user_id</th>\n",
       "      <th>distance</th>\n",
       "      <th>duration</th>\n",
       "      <th>date</th>\n",
       "    </tr>\n",
       "  </thead>\n",
       "  <tbody>\n",
       "    <tr>\n",
       "      <th>0</th>\n",
       "      <td>1</td>\n",
       "      <td>4409.919140</td>\n",
       "      <td>25.599769</td>\n",
       "      <td>2021-01-01</td>\n",
       "    </tr>\n",
       "    <tr>\n",
       "      <th>1</th>\n",
       "      <td>1</td>\n",
       "      <td>2617.592153</td>\n",
       "      <td>15.816871</td>\n",
       "      <td>2021-01-18</td>\n",
       "    </tr>\n",
       "    <tr>\n",
       "      <th>2</th>\n",
       "      <td>1</td>\n",
       "      <td>754.159807</td>\n",
       "      <td>6.232113</td>\n",
       "      <td>2021-04-20</td>\n",
       "    </tr>\n",
       "    <tr>\n",
       "      <th>3</th>\n",
       "      <td>1</td>\n",
       "      <td>2694.783254</td>\n",
       "      <td>18.511000</td>\n",
       "      <td>2021-08-11</td>\n",
       "    </tr>\n",
       "    <tr>\n",
       "      <th>4</th>\n",
       "      <td>1</td>\n",
       "      <td>4028.687306</td>\n",
       "      <td>26.265803</td>\n",
       "      <td>2021-08-28</td>\n",
       "    </tr>\n",
       "    <tr>\n",
       "      <th>5</th>\n",
       "      <td>1</td>\n",
       "      <td>2770.890808</td>\n",
       "      <td>16.650138</td>\n",
       "      <td>2021-10-09</td>\n",
       "    </tr>\n",
       "    <tr>\n",
       "      <th>6</th>\n",
       "      <td>1</td>\n",
       "      <td>3039.020292</td>\n",
       "      <td>14.927879</td>\n",
       "      <td>2021-10-19</td>\n",
       "    </tr>\n",
       "    <tr>\n",
       "      <th>7</th>\n",
       "      <td>1</td>\n",
       "      <td>2842.118050</td>\n",
       "      <td>23.117468</td>\n",
       "      <td>2021-11-06</td>\n",
       "    </tr>\n",
       "    <tr>\n",
       "      <th>8</th>\n",
       "      <td>1</td>\n",
       "      <td>3412.690668</td>\n",
       "      <td>15.238072</td>\n",
       "      <td>2021-11-14</td>\n",
       "    </tr>\n",
       "    <tr>\n",
       "      <th>9</th>\n",
       "      <td>1</td>\n",
       "      <td>748.690645</td>\n",
       "      <td>15.041884</td>\n",
       "      <td>2021-11-22</td>\n",
       "    </tr>\n",
       "  </tbody>\n",
       "</table>\n",
       "</div>"
      ],
      "text/plain": [
       "   user_id     distance   duration        date\n",
       "0        1  4409.919140  25.599769  2021-01-01\n",
       "1        1  2617.592153  15.816871  2021-01-18\n",
       "2        1   754.159807   6.232113  2021-04-20\n",
       "3        1  2694.783254  18.511000  2021-08-11\n",
       "4        1  4028.687306  26.265803  2021-08-28\n",
       "5        1  2770.890808  16.650138  2021-10-09\n",
       "6        1  3039.020292  14.927879  2021-10-19\n",
       "7        1  2842.118050  23.117468  2021-11-06\n",
       "8        1  3412.690668  15.238072  2021-11-14\n",
       "9        1   748.690645  15.041884  2021-11-22"
      ]
     },
     "metadata": {},
     "output_type": "display_data"
    },
    {
     "name": "stdout",
     "output_type": "stream",
     "text": [
      "<class 'pandas.core.frame.DataFrame'>\n",
      "RangeIndex: 18068 entries, 0 to 18067\n",
      "Data columns (total 4 columns):\n",
      " #   Column    Non-Null Count  Dtype  \n",
      "---  ------    --------------  -----  \n",
      " 0   user_id   18068 non-null  int64  \n",
      " 1   distance  18068 non-null  float64\n",
      " 2   duration  18068 non-null  float64\n",
      " 3   date      18068 non-null  object \n",
      "dtypes: float64(2), int64(1), object(1)\n",
      "memory usage: 564.8+ KB\n"
     ]
    }
   ],
   "source": [
    "display(rides.head(10))\n",
    "rides.info()"
   ]
  },
  {
   "cell_type": "code",
   "execution_count": 6,
   "id": "215520aa",
   "metadata": {},
   "outputs": [],
   "source": [
    "subscriptions = pd.read_csv('/datasets/subscriptions_go.csv')"
   ]
  },
  {
   "cell_type": "code",
   "execution_count": 7,
   "id": "0ac4391b",
   "metadata": {},
   "outputs": [
    {
     "data": {
      "text/html": [
       "<div>\n",
       "<style scoped>\n",
       "    .dataframe tbody tr th:only-of-type {\n",
       "        vertical-align: middle;\n",
       "    }\n",
       "\n",
       "    .dataframe tbody tr th {\n",
       "        vertical-align: top;\n",
       "    }\n",
       "\n",
       "    .dataframe thead th {\n",
       "        text-align: right;\n",
       "    }\n",
       "</style>\n",
       "<table border=\"1\" class=\"dataframe\">\n",
       "  <thead>\n",
       "    <tr style=\"text-align: right;\">\n",
       "      <th></th>\n",
       "      <th>subscription_type</th>\n",
       "      <th>minute_price</th>\n",
       "      <th>start_ride_price</th>\n",
       "      <th>subscription_fee</th>\n",
       "    </tr>\n",
       "  </thead>\n",
       "  <tbody>\n",
       "    <tr>\n",
       "      <th>0</th>\n",
       "      <td>free</td>\n",
       "      <td>8</td>\n",
       "      <td>50</td>\n",
       "      <td>0</td>\n",
       "    </tr>\n",
       "    <tr>\n",
       "      <th>1</th>\n",
       "      <td>ultra</td>\n",
       "      <td>6</td>\n",
       "      <td>0</td>\n",
       "      <td>199</td>\n",
       "    </tr>\n",
       "  </tbody>\n",
       "</table>\n",
       "</div>"
      ],
      "text/plain": [
       "  subscription_type  minute_price  start_ride_price  subscription_fee\n",
       "0              free             8                50                 0\n",
       "1             ultra             6                 0               199"
      ]
     },
     "metadata": {},
     "output_type": "display_data"
    },
    {
     "name": "stdout",
     "output_type": "stream",
     "text": [
      "<class 'pandas.core.frame.DataFrame'>\n",
      "RangeIndex: 2 entries, 0 to 1\n",
      "Data columns (total 4 columns):\n",
      " #   Column             Non-Null Count  Dtype \n",
      "---  ------             --------------  ----- \n",
      " 0   subscription_type  2 non-null      object\n",
      " 1   minute_price       2 non-null      int64 \n",
      " 2   start_ride_price   2 non-null      int64 \n",
      " 3   subscription_fee   2 non-null      int64 \n",
      "dtypes: int64(3), object(1)\n",
      "memory usage: 192.0+ bytes\n"
     ]
    }
   ],
   "source": [
    "display(subscriptions.head(10))\n",
    "subscriptions.info()"
   ]
  },
  {
   "cell_type": "markdown",
   "id": "5b452e46",
   "metadata": {},
   "source": [
    "**Вывод:**\n",
    "\n",
    "    - Были выгружены данные из трех разных файлов в три переменные.\n",
    "    - В таблице users 1565 записей с колонками идентификатора пользователя, именем, возрастом, городом, типом подписки.\n",
    "    - В таблице rides 18068 записей с колонками идентификатора пользователя, дистанцией, продолжительностью и датой поездки.\n",
    "    - В таблице subscriptions 2 записи с колонками типа подписки, цену за минуту, цену за старт поездки и цену за подписку."
   ]
  },
  {
   "cell_type": "markdown",
   "id": "e95ebca7",
   "metadata": {},
   "source": [
    "#### Шаг 2. Предобработка данных"
   ]
  },
  {
   "cell_type": "code",
   "execution_count": 8,
   "id": "af6d202c",
   "metadata": {},
   "outputs": [
    {
     "name": "stdout",
     "output_type": "stream",
     "text": [
      "====USERS: \n",
      " user_id              0\n",
      "name                 0\n",
      "age                  0\n",
      "city                 0\n",
      "subscription_type    0\n",
      "dtype: int64\n",
      "====RIDES: \n",
      " user_id     0\n",
      "distance    0\n",
      "duration    0\n",
      "date        0\n",
      "dtype: int64\n",
      "====SUBS: \n",
      " subscription_type    0\n",
      "minute_price         0\n",
      "start_ride_price     0\n",
      "subscription_fee     0\n",
      "dtype: int64\n"
     ]
    }
   ],
   "source": [
    "print(\"====USERS: \\n\", users.isna().sum())\n",
    "print(\"====RIDES: \\n\", rides.isna().sum())\n",
    "print(\"====SUBS: \\n\", subscriptions.isna().sum())"
   ]
  },
  {
   "cell_type": "code",
   "execution_count": 9,
   "id": "c8fb2457",
   "metadata": {},
   "outputs": [
    {
     "name": "stdout",
     "output_type": "stream",
     "text": [
      "<class 'pandas.core.frame.DataFrame'>\n",
      "RangeIndex: 18068 entries, 0 to 18067\n",
      "Data columns (total 4 columns):\n",
      " #   Column    Non-Null Count  Dtype         \n",
      "---  ------    --------------  -----         \n",
      " 0   user_id   18068 non-null  int64         \n",
      " 1   distance  18068 non-null  float64       \n",
      " 2   duration  18068 non-null  float64       \n",
      " 3   date      18068 non-null  datetime64[ns]\n",
      "dtypes: datetime64[ns](1), float64(2), int64(1)\n",
      "memory usage: 564.8 KB\n"
     ]
    }
   ],
   "source": [
    "try:\n",
    "    rides['date'] = pd.to_datetime(rides['date'])\n",
    "except:\n",
    "    print(\"Can't convert date to datetime type\")\n",
    "rides.info()"
   ]
  },
  {
   "cell_type": "code",
   "execution_count": 10,
   "id": "82a3db04",
   "metadata": {},
   "outputs": [
    {
     "data": {
      "text/plain": [
       "array(['ultra', 'free'], dtype=object)"
      ]
     },
     "execution_count": 10,
     "metadata": {},
     "output_type": "execute_result"
    }
   ],
   "source": [
    "users['subscription_type'].unique()"
   ]
  },
  {
   "cell_type": "code",
   "execution_count": 11,
   "id": "19aa6f6d",
   "metadata": {},
   "outputs": [
    {
     "data": {
      "text/plain": [
       "array([ 1,  2,  3,  4,  5,  6,  7,  8,  9, 10, 11, 12, 13, 14, 15, 16, 17,\n",
       "       18, 19, 20, 21, 22, 23, 24, 25, 26, 27, 28, 29, 30, 31])"
      ]
     },
     "execution_count": 11,
     "metadata": {},
     "output_type": "execute_result"
    }
   ],
   "source": [
    "rides['date'].dt.year.unique()\n",
    "rides['date'].dt.month.sort_values().unique()\n",
    "rides['date'].dt.day.sort_values().unique()"
   ]
  },
  {
   "cell_type": "code",
   "execution_count": 12,
   "id": "ecde4c64",
   "metadata": {},
   "outputs": [
    {
     "name": "stdout",
     "output_type": "stream",
     "text": [
      "<class 'pandas.core.frame.DataFrame'>\n",
      "RangeIndex: 18068 entries, 0 to 18067\n",
      "Data columns (total 5 columns):\n",
      " #   Column    Non-Null Count  Dtype         \n",
      "---  ------    --------------  -----         \n",
      " 0   user_id   18068 non-null  int64         \n",
      " 1   distance  18068 non-null  float64       \n",
      " 2   duration  18068 non-null  float64       \n",
      " 3   date      18068 non-null  datetime64[ns]\n",
      " 4   month     18068 non-null  int64         \n",
      "dtypes: datetime64[ns](1), float64(2), int64(2)\n",
      "memory usage: 705.9 KB\n"
     ]
    }
   ],
   "source": [
    "rides['month'] = rides['date'].dt.month\n",
    "rides.info()"
   ]
  },
  {
   "cell_type": "code",
   "execution_count": 13,
   "id": "1d4cafc2",
   "metadata": {},
   "outputs": [
    {
     "name": "stdout",
     "output_type": "stream",
     "text": [
      "USERS(DUBL):  31\n",
      "RIDES(DUBL):  0\n",
      "SUBS(DUBL):  0\n"
     ]
    }
   ],
   "source": [
    "print(\"USERS(DUBL): \", users.duplicated().sum())\n",
    "print(\"RIDES(DUBL): \", rides.duplicated().sum())\n",
    "print(\"SUBS(DUBL): \",subscriptions.duplicated().sum())"
   ]
  },
  {
   "cell_type": "code",
   "execution_count": 14,
   "id": "cd61327a",
   "metadata": {},
   "outputs": [],
   "source": [
    "users = users.drop_duplicates()"
   ]
  },
  {
   "cell_type": "code",
   "execution_count": 15,
   "id": "10d1df62",
   "metadata": {},
   "outputs": [
    {
     "data": {
      "text/plain": [
       "0"
      ]
     },
     "execution_count": 15,
     "metadata": {},
     "output_type": "execute_result"
    }
   ],
   "source": [
    "users.duplicated().sum()"
   ]
  },
  {
   "cell_type": "code",
   "execution_count": 16,
   "id": "b24a2bd4",
   "metadata": {},
   "outputs": [
    {
     "data": {
      "text/plain": [
       "user_id              1534\n",
       "name                  194\n",
       "age                    29\n",
       "city                    8\n",
       "subscription_type       2\n",
       "dtype: int64"
      ]
     },
     "execution_count": 16,
     "metadata": {},
     "output_type": "execute_result"
    }
   ],
   "source": [
    "users.nunique()"
   ]
  },
  {
   "cell_type": "code",
   "execution_count": 17,
   "id": "2479e128",
   "metadata": {},
   "outputs": [
    {
     "data": {
      "text/plain": [
       "user_id      1534\n",
       "distance    18068\n",
       "duration    17974\n",
       "date          364\n",
       "month          12\n",
       "dtype: int64"
      ]
     },
     "execution_count": 17,
     "metadata": {},
     "output_type": "execute_result"
    }
   ],
   "source": [
    "rides.nunique()"
   ]
  },
  {
   "cell_type": "code",
   "execution_count": 18,
   "id": "97bdb4fe",
   "metadata": {},
   "outputs": [
    {
     "data": {
      "text/html": [
       "<div>\n",
       "<style scoped>\n",
       "    .dataframe tbody tr th:only-of-type {\n",
       "        vertical-align: middle;\n",
       "    }\n",
       "\n",
       "    .dataframe tbody tr th {\n",
       "        vertical-align: top;\n",
       "    }\n",
       "\n",
       "    .dataframe thead th {\n",
       "        text-align: right;\n",
       "    }\n",
       "</style>\n",
       "<table border=\"1\" class=\"dataframe\">\n",
       "  <thead>\n",
       "    <tr style=\"text-align: right;\">\n",
       "      <th></th>\n",
       "      <th>subscription_type</th>\n",
       "      <th>minute_price</th>\n",
       "      <th>start_ride_price</th>\n",
       "      <th>subscription_fee</th>\n",
       "    </tr>\n",
       "  </thead>\n",
       "  <tbody>\n",
       "    <tr>\n",
       "      <th>0</th>\n",
       "      <td>free</td>\n",
       "      <td>8</td>\n",
       "      <td>50</td>\n",
       "      <td>0</td>\n",
       "    </tr>\n",
       "    <tr>\n",
       "      <th>1</th>\n",
       "      <td>ultra</td>\n",
       "      <td>6</td>\n",
       "      <td>0</td>\n",
       "      <td>199</td>\n",
       "    </tr>\n",
       "  </tbody>\n",
       "</table>\n",
       "</div>"
      ],
      "text/plain": [
       "  subscription_type  minute_price  start_ride_price  subscription_fee\n",
       "0              free             8                50                 0\n",
       "1             ultra             6                 0               199"
      ]
     },
     "execution_count": 18,
     "metadata": {},
     "output_type": "execute_result"
    }
   ],
   "source": [
    "subscriptions"
   ]
  },
  {
   "cell_type": "code",
   "execution_count": 19,
   "id": "051b856a",
   "metadata": {},
   "outputs": [
    {
     "data": {
      "text/plain": [
       "array(['Агата', 'Аделина', 'Адель', 'Айдар', 'Александр', 'Александра',\n",
       "       'Алексей', 'Алина', 'Алиса', 'Алия', 'Алла', 'Альберт', 'Альбина',\n",
       "       'Алёна', 'Амалия', 'Амина', 'Амир', 'Анастасия', 'Анатолий',\n",
       "       'Ангелина', 'Андрей', 'Анжелика', 'Анна', 'Антон', 'Антонина',\n",
       "       'Ариана', 'Арина', 'Арсен', 'Арсений', 'Артемий', 'Артур', 'Артём',\n",
       "       'Богдан', 'Борис', 'Вадим', 'Валентина', 'Валерий', 'Валерия',\n",
       "       'Варвара', 'Василий', 'Василина', 'Василиса', 'Вера', 'Вероника',\n",
       "       'Виктор', 'Виктория', 'Виолетта', 'Виталий', 'Виталина', 'Влад',\n",
       "       'Влада', 'Владимир', 'Владислав', 'Владислава', 'Всеволод',\n",
       "       'Вячеслав', 'Галина', 'Георгий', 'Герман', 'Глеб', 'Гордей',\n",
       "       'Григорий', 'Давид', 'Дамир', 'Даниил', 'Данил', 'Данила',\n",
       "       'Даниэль', 'Дарина', 'Дарья', 'Демид', 'Денис', 'Диана', 'Дмитрий',\n",
       "       'Ева', 'Евгений', 'Евгения', 'Егор', 'Екатерина', 'Елена',\n",
       "       'Елизавета', 'Елисей', 'Есения', 'Жанна', 'Зарина', 'Захар',\n",
       "       'Злата', 'Иван', 'Игнат', 'Игорь', 'Ильдар', 'Илья', 'Инна',\n",
       "       'Ирина', 'Камилла', 'Карина', 'Каролина', 'Кира', 'Кирилл',\n",
       "       'Константин', 'Кристина', 'Ксения', 'Лариса', 'Лев', 'Леонид',\n",
       "       'Лиана', 'Лидия', 'Лилия', 'Любовь', 'Людмила', 'Мадина', 'Майя',\n",
       "       'Макар', 'Максим', 'Марат', 'Маргарита', 'Марина', 'Мария', 'Марк',\n",
       "       'Марсель', 'Матвей', 'Мелания', 'Милана', 'Милена', 'Мирон',\n",
       "       'Мирослав', 'Мирослава', 'Михаил', 'Назар', 'Наталия', 'Наталья',\n",
       "       'Наташа', 'Нелли', 'Ника', 'Никита', 'Николай', 'Нина', 'Одиссей',\n",
       "       'Оксана', 'Олег', 'Олеся', 'Ольга', 'Павел', 'Петр', 'Платон',\n",
       "       'Полина', 'Радмир', 'Рамиль', 'Регина', 'Роберт', 'Родион',\n",
       "       'Роман', 'Ростислав', 'Руслан', 'Рустам', 'Савелий', 'Самир',\n",
       "       'Самира', 'Светлана', 'Святогор', 'Святослав', 'Семен', 'Сергей',\n",
       "       'Снежана', 'София', 'Софья', 'Станислав', 'Степан', 'Стефания',\n",
       "       'Таисия', 'Тамара', 'Тамерлан', 'Татьяна', 'Тимофей', 'Тимур',\n",
       "       'Тихон', 'Ульяна', 'Федор', 'Эвелина', 'Эдуард', 'Элина',\n",
       "       'Эльвира', 'Эльмира', 'Эмилия', 'Эмиль', 'Юлиана', 'Юлия', 'Юрий',\n",
       "       'Ян', 'Яна', 'Яромир', 'Ярослав', 'Ярослава', 'Ясмина'],\n",
       "      dtype=object)"
      ]
     },
     "execution_count": 19,
     "metadata": {},
     "output_type": "execute_result"
    }
   ],
   "source": [
    "users['name'].sort_values().unique()"
   ]
  },
  {
   "cell_type": "code",
   "execution_count": 20,
   "id": "e40ea266",
   "metadata": {},
   "outputs": [
    {
     "data": {
      "text/plain": [
       "array(['Тюмень', 'Омск', 'Москва', 'Ростов-на-Дону', 'Краснодар',\n",
       "       'Пятигорск', 'Екатеринбург', 'Сочи'], dtype=object)"
      ]
     },
     "execution_count": 20,
     "metadata": {},
     "output_type": "execute_result"
    }
   ],
   "source": [
    "users['city'].unique()"
   ]
  },
  {
   "cell_type": "markdown",
   "id": "64989ded",
   "metadata": {},
   "source": [
    "**Вывод:**\n",
    "\n",
    "    - Был приведен тип date к datetime\n",
    "    - Дубликаты нашлись только в таблице users и были упразднены\n",
    "    - Был выделен столбец с месяцев из даты\n",
    "    - Остальные значения в таблицах были признаны без аномалий"
   ]
  },
  {
   "cell_type": "markdown",
   "id": "212593c7",
   "metadata": {},
   "source": [
    "#### Шаг 3. Исследовательский анализ данных"
   ]
  },
  {
   "cell_type": "markdown",
   "id": "14e7ba56",
   "metadata": {},
   "source": [
    "**Частота встречаемости городов:**"
   ]
  },
  {
   "cell_type": "code",
   "execution_count": 21,
   "id": "e3a4274c",
   "metadata": {},
   "outputs": [
    {
     "data": {
      "image/png": "[encoded data removed]",
      "text/plain": [
       "<Figure size 720x360 with 1 Axes>"
      ]
     },
     "metadata": {
      "needs_background": "light"
     },
     "output_type": "display_data"
    }
   ],
   "source": [
    "cities = users.pivot_table(index='city', values='user_id', aggfunc=['count'])\n",
    "cities.columns = ['count']\n",
    "cities.sort_values('count').plot(kind='barh', y='count', figsize=(10, 5), grid=True)\n",
    "\n",
    "plt.title('Частота встречаемости городов')\n",
    "plt.legend()\n",
    "plt.xlabel('Количество пользователей')\n",
    "plt.ylabel('Название города')\n",
    "plt.show()"
   ]
  },
  {
   "cell_type": "markdown",
   "id": "c61ee9bd",
   "metadata": {},
   "source": [
    "Как видно по графику, чаще всего встречается город Пятигорск, то есть в нем больше всего пользователей(>200). Меньше же всего пользователей в Москве(что необычно для сервиса самокатов, вероятно в столице большая часть пользователей у конкурентов)."
   ]
  },
  {
   "cell_type": "markdown",
   "id": "89691629",
   "metadata": {},
   "source": [
    "**Cоотношение пользователей с подпиской и без подписки:**"
   ]
  },
  {
   "cell_type": "code",
   "execution_count": 22,
   "id": "cc4438d1",
   "metadata": {},
   "outputs": [
    {
     "data": {
      "image/png": "[encoded data removed]",
      "text/plain": [
       "<Figure size 720x504 with 1 Axes>"
      ]
     },
     "metadata": {},
     "output_type": "display_data"
    }
   ],
   "source": [
    "pivot = users.pivot_table(index='subscription_type', values='user_id', aggfunc=['count'])\n",
    "pivot.columns = ['count']\n",
    "\n",
    "# Вычисляем доли\n",
    "total = pivot['count'].sum()\n",
    "pivot['Количество пользователей'] = pivot['count'] / total\n",
    "\n",
    "# Строим круговую диаграмму\n",
    "pivot['Количество пользователей'].plot(kind='pie', autopct='%.1f%%', figsize=(10, 7), startangle=90)\n",
    "plt.title('Пользователи с подпиской и без подписки')\n",
    "plt.legend()\n",
    "plt.show()"
   ]
  },
  {
   "cell_type": "markdown",
   "id": "3b60cbcf",
   "metadata": {},
   "source": [
    "Больше всего пользователей без подписки."
   ]
  },
  {
   "cell_type": "markdown",
   "id": "25bc7486",
   "metadata": {},
   "source": [
    "**Возраст пользователей:**"
   ]
  },
  {
   "cell_type": "code",
   "execution_count": 23,
   "id": "3bb5ac04",
   "metadata": {},
   "outputs": [
    {
     "data": {
      "image/png": "[encoded data removed]",
      "text/plain": [
       "<Figure size 1080x504 with 1 Axes>"
      ]
     },
     "metadata": {
      "needs_background": "light"
     },
     "output_type": "display_data"
    }
   ],
   "source": [
    "users.pivot_table(index='age', values='user_id', aggfunc=['count']).plot(kind='bar', y='count', figsize=(15, 7), grid=True)\n",
    "plt.title('Возраст пользователей')\n",
    "plt.legend()\n",
    "plt.ylabel('Количество пользователей')\n",
    "plt.xlabel('Возраст пользователей')\n",
    "plt.show()"
   ]
  },
  {
   "cell_type": "markdown",
   "id": "3e5eb40f",
   "metadata": {},
   "source": [
    "Как видно, возраст пользователей начинается от 12, заканчивается 43 и распределен нормально."
   ]
  },
  {
   "cell_type": "markdown",
   "id": "a8eb2b62",
   "metadata": {},
   "source": [
    "**Расстояние, которое пользователь преодолел за одну поездку:**"
   ]
  },
  {
   "cell_type": "code",
   "execution_count": 24,
   "id": "6033026b",
   "metadata": {
    "scrolled": false
   },
   "outputs": [
    {
     "data": {
      "image/png": "[encoded data removed]",
      "text/plain": [
       "<Figure size 432x288 with 1 Axes>"
      ]
     },
     "metadata": {
      "needs_background": "light"
     },
     "output_type": "display_data"
    }
   ],
   "source": [
    "#rides.pivot_table(index='user_id', values='distance', aggfunc='median').hist(bins=50)\n",
    "plt.hist(rides['distance'], bins=100)\n",
    "plt.grid(True)\n",
    "plt.title('Медианное растояние каждой поездки')\n",
    "plt.xlabel('Расстояние')\n",
    "plt.ylabel('Количество поездок')\n",
    "plt.show()"
   ]
  },
  {
   "cell_type": "code",
   "execution_count": 25,
   "id": "cfaf5b09",
   "metadata": {},
   "outputs": [
    {
     "name": "stdout",
     "output_type": "stream",
     "text": [
      "3133.6099936787664\n"
     ]
    },
    {
     "data": {
      "image/png": "[encoded data removed]",
      "text/plain": [
       "<Figure size 432x288 with 1 Axes>"
      ]
     },
     "metadata": {
      "needs_background": "light"
     },
     "output_type": "display_data"
    }
   ],
   "source": [
    "#print(rides.pivot_table(index='user_id', values='distance', aggfunc='median').mean())\n",
    "#rides.pivot_table(index='user_id', values='distance', aggfunc='median').boxplot()\n",
    "print(rides['distance'].median())\n",
    "plt.boxplot(rides['distance'])\n",
    "plt.grid(True)"
   ]
  },
  {
   "cell_type": "markdown",
   "id": "720aae66",
   "metadata": {},
   "source": [
    "По медиане дистанции каждого пользователя, он проезжает 3.1км. По графикам видно, что минимальные значения располагаются около 2900 метров, а максимальные около 3300. Также имеется множество выбросов, сверху и снизу ящика с усами. По гистограмме видно нормальное распределение."
   ]
  },
  {
   "cell_type": "markdown",
   "id": "6f3496c8",
   "metadata": {},
   "source": [
    "**Продолжительность поездок:**"
   ]
  },
  {
   "cell_type": "code",
   "execution_count": 26,
   "id": "74338237",
   "metadata": {
    "scrolled": false
   },
   "outputs": [
    {
     "data": {
      "image/png": "[encoded data removed]",
      "text/plain": [
       "<Figure size 432x288 with 1 Axes>"
      ]
     },
     "metadata": {
      "needs_background": "light"
     },
     "output_type": "display_data"
    }
   ],
   "source": [
    "#rides.pivot_table(index='duration', values='user_id', aggfunc='median').sort_values(by='duration').plot(kind='bar', figsize=(15,10), grid=True)\n",
    "plt.hist(rides['duration'], bins=50)\n",
    "plt.title('Медианная продолжительность каждой поездки')\n",
    "plt.grid(True)\n",
    "plt.xlabel('Продолжительность поездки')\n",
    "plt.ylabel('Количество поездок')\n",
    "plt.show()"
   ]
  },
  {
   "cell_type": "code",
   "execution_count": 27,
   "id": "7a558b1c",
   "metadata": {},
   "outputs": [
    {
     "name": "stdout",
     "output_type": "stream",
     "text": [
      "17.678394530393803\n"
     ]
    },
    {
     "data": {
      "image/png": "[encoded data removed]",
      "text/plain": [
       "<Figure size 432x288 with 1 Axes>"
      ]
     },
     "metadata": {
      "needs_background": "light"
     },
     "output_type": "display_data"
    }
   ],
   "source": [
    "#rides.pivot_table(index='user_id', values='duration', aggfunc='median').boxplot()\n",
    "print(rides['duration'].median())\n",
    "plt.boxplot(rides['duration'])\n",
    "plt.grid(True)"
   ]
  },
  {
   "cell_type": "markdown",
   "id": "d19e793b",
   "metadata": {},
   "source": [
    "Медиана продолжительности поездки пользователя 17.6 минут. Графики показывают, что минимальное значение продолжительностии лежит около 14 минут, а максимальная около 22. Также имеется несколько выбросов, как сверху, так и снизу графика ящика с усами. По гистограмме видим нормальное распределение."
   ]
  },
  {
   "cell_type": "markdown",
   "id": "8eb39ed9",
   "metadata": {},
   "source": [
    "**Вывод:**\n",
    "    \n",
    "    - Чаще всего встречается город Пятигорск, то есть в нем больше всего пользователей(>200). Меньше же всего пользователей в Москве(что необычно для сервиса самокатов, вероятно в столице большая часть пользователей у конкурентов).\n",
    "    - Больше всего пользователей без подписки.\n",
    "    - Как видно, возраст пользователей начинается от 12, заканчивается 43 и распределен нормально.\n",
    "    - По медиане дистанции каждого пользователя, он проезжает 3.1км. По графикам видно, что минимальные значения располагаются около 2900 метров, а максимальные около 3300. Также имеется множество выбросов, сверху и снизу ящика с усами. По гистограмме видно нормальное распределение.\n",
    "    - Медиана продолжительности поездки пользователя 17.6 минут. Графики показывают, что минимальное значение продолжительностии лежит около 14 минут, а максимальная около 22. Также имеется несколько выбросов, как сверху, так и снизу графика ящика с усами. По гистограмме видим нормальное распределение."
   ]
  },
  {
   "cell_type": "markdown",
   "id": "4ef51331",
   "metadata": {},
   "source": [
    "#### Шаг 4. Объединение данных"
   ]
  },
  {
   "cell_type": "code",
   "execution_count": 28,
   "id": "6bf288b5",
   "metadata": {},
   "outputs": [
    {
     "name": "stdout",
     "output_type": "stream",
     "text": [
      "RIDES:  18068 FINALIZE TABLE:  18068\n"
     ]
    }
   ],
   "source": [
    "users_rides = users.merge(rides, on='user_id')\n",
    "users_rides = users_rides.merge(subscriptions, on='subscription_type')\n",
    "print(\"RIDES: \", rides['user_id'].count(), \"FINALIZE TABLE: \", users_rides['user_id'].count())"
   ]
  },
  {
   "cell_type": "code",
   "execution_count": 29,
   "id": "f83b0f8b",
   "metadata": {},
   "outputs": [
    {
     "name": "stdout",
     "output_type": "stream",
     "text": [
      "SUBS:  6500 UNSUBS:  11568 SUM:  18068\n",
      "USERS_RIDES:  18068\n"
     ]
    },
    {
     "data": {
      "text/plain": [
       "'USER_RIDES: '"
      ]
     },
     "metadata": {},
     "output_type": "display_data"
    },
    {
     "data": {
      "text/html": [
       "<div>\n",
       "<style scoped>\n",
       "    .dataframe tbody tr th:only-of-type {\n",
       "        vertical-align: middle;\n",
       "    }\n",
       "\n",
       "    .dataframe tbody tr th {\n",
       "        vertical-align: top;\n",
       "    }\n",
       "\n",
       "    .dataframe thead th {\n",
       "        text-align: right;\n",
       "    }\n",
       "</style>\n",
       "<table border=\"1\" class=\"dataframe\">\n",
       "  <thead>\n",
       "    <tr style=\"text-align: right;\">\n",
       "      <th></th>\n",
       "      <th>user_id</th>\n",
       "      <th>name</th>\n",
       "      <th>age</th>\n",
       "      <th>city</th>\n",
       "      <th>subscription_type</th>\n",
       "      <th>distance</th>\n",
       "      <th>duration</th>\n",
       "      <th>date</th>\n",
       "      <th>month</th>\n",
       "      <th>minute_price</th>\n",
       "      <th>start_ride_price</th>\n",
       "      <th>subscription_fee</th>\n",
       "    </tr>\n",
       "  </thead>\n",
       "  <tbody>\n",
       "    <tr>\n",
       "      <th>0</th>\n",
       "      <td>1</td>\n",
       "      <td>Кира</td>\n",
       "      <td>22</td>\n",
       "      <td>Тюмень</td>\n",
       "      <td>ultra</td>\n",
       "      <td>4409.919140</td>\n",
       "      <td>25.599769</td>\n",
       "      <td>2021-01-01</td>\n",
       "      <td>1</td>\n",
       "      <td>6</td>\n",
       "      <td>0</td>\n",
       "      <td>199</td>\n",
       "    </tr>\n",
       "    <tr>\n",
       "      <th>1</th>\n",
       "      <td>1</td>\n",
       "      <td>Кира</td>\n",
       "      <td>22</td>\n",
       "      <td>Тюмень</td>\n",
       "      <td>ultra</td>\n",
       "      <td>2617.592153</td>\n",
       "      <td>15.816871</td>\n",
       "      <td>2021-01-18</td>\n",
       "      <td>1</td>\n",
       "      <td>6</td>\n",
       "      <td>0</td>\n",
       "      <td>199</td>\n",
       "    </tr>\n",
       "    <tr>\n",
       "      <th>2</th>\n",
       "      <td>1</td>\n",
       "      <td>Кира</td>\n",
       "      <td>22</td>\n",
       "      <td>Тюмень</td>\n",
       "      <td>ultra</td>\n",
       "      <td>754.159807</td>\n",
       "      <td>6.232113</td>\n",
       "      <td>2021-04-20</td>\n",
       "      <td>4</td>\n",
       "      <td>6</td>\n",
       "      <td>0</td>\n",
       "      <td>199</td>\n",
       "    </tr>\n",
       "    <tr>\n",
       "      <th>3</th>\n",
       "      <td>1</td>\n",
       "      <td>Кира</td>\n",
       "      <td>22</td>\n",
       "      <td>Тюмень</td>\n",
       "      <td>ultra</td>\n",
       "      <td>2694.783254</td>\n",
       "      <td>18.511000</td>\n",
       "      <td>2021-08-11</td>\n",
       "      <td>8</td>\n",
       "      <td>6</td>\n",
       "      <td>0</td>\n",
       "      <td>199</td>\n",
       "    </tr>\n",
       "    <tr>\n",
       "      <th>4</th>\n",
       "      <td>1</td>\n",
       "      <td>Кира</td>\n",
       "      <td>22</td>\n",
       "      <td>Тюмень</td>\n",
       "      <td>ultra</td>\n",
       "      <td>4028.687306</td>\n",
       "      <td>26.265803</td>\n",
       "      <td>2021-08-28</td>\n",
       "      <td>8</td>\n",
       "      <td>6</td>\n",
       "      <td>0</td>\n",
       "      <td>199</td>\n",
       "    </tr>\n",
       "  </tbody>\n",
       "</table>\n",
       "</div>"
      ],
      "text/plain": [
       "   user_id  name  age    city subscription_type     distance   duration  \\\n",
       "0        1  Кира   22  Тюмень             ultra  4409.919140  25.599769   \n",
       "1        1  Кира   22  Тюмень             ultra  2617.592153  15.816871   \n",
       "2        1  Кира   22  Тюмень             ultra   754.159807   6.232113   \n",
       "3        1  Кира   22  Тюмень             ultra  2694.783254  18.511000   \n",
       "4        1  Кира   22  Тюмень             ultra  4028.687306  26.265803   \n",
       "\n",
       "        date  month  minute_price  start_ride_price  subscription_fee  \n",
       "0 2021-01-01      1             6                 0               199  \n",
       "1 2021-01-18      1             6                 0               199  \n",
       "2 2021-04-20      4             6                 0               199  \n",
       "3 2021-08-11      8             6                 0               199  \n",
       "4 2021-08-28      8             6                 0               199  "
      ]
     },
     "metadata": {},
     "output_type": "display_data"
    },
    {
     "data": {
      "text/plain": [
       "'SUBS: '"
      ]
     },
     "metadata": {},
     "output_type": "display_data"
    },
    {
     "data": {
      "text/html": [
       "<div>\n",
       "<style scoped>\n",
       "    .dataframe tbody tr th:only-of-type {\n",
       "        vertical-align: middle;\n",
       "    }\n",
       "\n",
       "    .dataframe tbody tr th {\n",
       "        vertical-align: top;\n",
       "    }\n",
       "\n",
       "    .dataframe thead th {\n",
       "        text-align: right;\n",
       "    }\n",
       "</style>\n",
       "<table border=\"1\" class=\"dataframe\">\n",
       "  <thead>\n",
       "    <tr style=\"text-align: right;\">\n",
       "      <th></th>\n",
       "      <th>user_id</th>\n",
       "      <th>name</th>\n",
       "      <th>age</th>\n",
       "      <th>city</th>\n",
       "      <th>subscription_type</th>\n",
       "      <th>distance</th>\n",
       "      <th>duration</th>\n",
       "      <th>date</th>\n",
       "      <th>month</th>\n",
       "      <th>minute_price</th>\n",
       "      <th>start_ride_price</th>\n",
       "      <th>subscription_fee</th>\n",
       "    </tr>\n",
       "  </thead>\n",
       "  <tbody>\n",
       "    <tr>\n",
       "      <th>0</th>\n",
       "      <td>1</td>\n",
       "      <td>Кира</td>\n",
       "      <td>22</td>\n",
       "      <td>Тюмень</td>\n",
       "      <td>ultra</td>\n",
       "      <td>4409.919140</td>\n",
       "      <td>25.599769</td>\n",
       "      <td>2021-01-01</td>\n",
       "      <td>1</td>\n",
       "      <td>6</td>\n",
       "      <td>0</td>\n",
       "      <td>199</td>\n",
       "    </tr>\n",
       "    <tr>\n",
       "      <th>1</th>\n",
       "      <td>1</td>\n",
       "      <td>Кира</td>\n",
       "      <td>22</td>\n",
       "      <td>Тюмень</td>\n",
       "      <td>ultra</td>\n",
       "      <td>2617.592153</td>\n",
       "      <td>15.816871</td>\n",
       "      <td>2021-01-18</td>\n",
       "      <td>1</td>\n",
       "      <td>6</td>\n",
       "      <td>0</td>\n",
       "      <td>199</td>\n",
       "    </tr>\n",
       "    <tr>\n",
       "      <th>2</th>\n",
       "      <td>1</td>\n",
       "      <td>Кира</td>\n",
       "      <td>22</td>\n",
       "      <td>Тюмень</td>\n",
       "      <td>ultra</td>\n",
       "      <td>754.159807</td>\n",
       "      <td>6.232113</td>\n",
       "      <td>2021-04-20</td>\n",
       "      <td>4</td>\n",
       "      <td>6</td>\n",
       "      <td>0</td>\n",
       "      <td>199</td>\n",
       "    </tr>\n",
       "    <tr>\n",
       "      <th>3</th>\n",
       "      <td>1</td>\n",
       "      <td>Кира</td>\n",
       "      <td>22</td>\n",
       "      <td>Тюмень</td>\n",
       "      <td>ultra</td>\n",
       "      <td>2694.783254</td>\n",
       "      <td>18.511000</td>\n",
       "      <td>2021-08-11</td>\n",
       "      <td>8</td>\n",
       "      <td>6</td>\n",
       "      <td>0</td>\n",
       "      <td>199</td>\n",
       "    </tr>\n",
       "    <tr>\n",
       "      <th>4</th>\n",
       "      <td>1</td>\n",
       "      <td>Кира</td>\n",
       "      <td>22</td>\n",
       "      <td>Тюмень</td>\n",
       "      <td>ultra</td>\n",
       "      <td>4028.687306</td>\n",
       "      <td>26.265803</td>\n",
       "      <td>2021-08-28</td>\n",
       "      <td>8</td>\n",
       "      <td>6</td>\n",
       "      <td>0</td>\n",
       "      <td>199</td>\n",
       "    </tr>\n",
       "  </tbody>\n",
       "</table>\n",
       "</div>"
      ],
      "text/plain": [
       "   user_id  name  age    city subscription_type     distance   duration  \\\n",
       "0        1  Кира   22  Тюмень             ultra  4409.919140  25.599769   \n",
       "1        1  Кира   22  Тюмень             ultra  2617.592153  15.816871   \n",
       "2        1  Кира   22  Тюмень             ultra   754.159807   6.232113   \n",
       "3        1  Кира   22  Тюмень             ultra  2694.783254  18.511000   \n",
       "4        1  Кира   22  Тюмень             ultra  4028.687306  26.265803   \n",
       "\n",
       "        date  month  minute_price  start_ride_price  subscription_fee  \n",
       "0 2021-01-01      1             6                 0               199  \n",
       "1 2021-01-18      1             6                 0               199  \n",
       "2 2021-04-20      4             6                 0               199  \n",
       "3 2021-08-11      8             6                 0               199  \n",
       "4 2021-08-28      8             6                 0               199  "
      ]
     },
     "metadata": {},
     "output_type": "display_data"
    },
    {
     "data": {
      "text/plain": [
       "'UNSUBS: '"
      ]
     },
     "metadata": {},
     "output_type": "display_data"
    },
    {
     "data": {
      "text/html": [
       "<div>\n",
       "<style scoped>\n",
       "    .dataframe tbody tr th:only-of-type {\n",
       "        vertical-align: middle;\n",
       "    }\n",
       "\n",
       "    .dataframe tbody tr th {\n",
       "        vertical-align: top;\n",
       "    }\n",
       "\n",
       "    .dataframe thead th {\n",
       "        text-align: right;\n",
       "    }\n",
       "</style>\n",
       "<table border=\"1\" class=\"dataframe\">\n",
       "  <thead>\n",
       "    <tr style=\"text-align: right;\">\n",
       "      <th></th>\n",
       "      <th>user_id</th>\n",
       "      <th>name</th>\n",
       "      <th>age</th>\n",
       "      <th>city</th>\n",
       "      <th>subscription_type</th>\n",
       "      <th>distance</th>\n",
       "      <th>duration</th>\n",
       "      <th>date</th>\n",
       "      <th>month</th>\n",
       "      <th>minute_price</th>\n",
       "      <th>start_ride_price</th>\n",
       "      <th>subscription_fee</th>\n",
       "    </tr>\n",
       "  </thead>\n",
       "  <tbody>\n",
       "    <tr>\n",
       "      <th>6500</th>\n",
       "      <td>700</td>\n",
       "      <td>Айдар</td>\n",
       "      <td>22</td>\n",
       "      <td>Омск</td>\n",
       "      <td>free</td>\n",
       "      <td>2515.690719</td>\n",
       "      <td>14.944286</td>\n",
       "      <td>2021-01-02</td>\n",
       "      <td>1</td>\n",
       "      <td>8</td>\n",
       "      <td>50</td>\n",
       "      <td>0</td>\n",
       "    </tr>\n",
       "    <tr>\n",
       "      <th>6501</th>\n",
       "      <td>700</td>\n",
       "      <td>Айдар</td>\n",
       "      <td>22</td>\n",
       "      <td>Омск</td>\n",
       "      <td>free</td>\n",
       "      <td>846.932642</td>\n",
       "      <td>16.234663</td>\n",
       "      <td>2021-02-01</td>\n",
       "      <td>2</td>\n",
       "      <td>8</td>\n",
       "      <td>50</td>\n",
       "      <td>0</td>\n",
       "    </tr>\n",
       "    <tr>\n",
       "      <th>6502</th>\n",
       "      <td>700</td>\n",
       "      <td>Айдар</td>\n",
       "      <td>22</td>\n",
       "      <td>Омск</td>\n",
       "      <td>free</td>\n",
       "      <td>4004.434142</td>\n",
       "      <td>20.016628</td>\n",
       "      <td>2021-02-04</td>\n",
       "      <td>2</td>\n",
       "      <td>8</td>\n",
       "      <td>50</td>\n",
       "      <td>0</td>\n",
       "    </tr>\n",
       "    <tr>\n",
       "      <th>6503</th>\n",
       "      <td>700</td>\n",
       "      <td>Айдар</td>\n",
       "      <td>22</td>\n",
       "      <td>Омск</td>\n",
       "      <td>free</td>\n",
       "      <td>1205.911290</td>\n",
       "      <td>9.782872</td>\n",
       "      <td>2021-02-10</td>\n",
       "      <td>2</td>\n",
       "      <td>8</td>\n",
       "      <td>50</td>\n",
       "      <td>0</td>\n",
       "    </tr>\n",
       "    <tr>\n",
       "      <th>6504</th>\n",
       "      <td>700</td>\n",
       "      <td>Айдар</td>\n",
       "      <td>22</td>\n",
       "      <td>Омск</td>\n",
       "      <td>free</td>\n",
       "      <td>3047.379435</td>\n",
       "      <td>17.427673</td>\n",
       "      <td>2021-02-14</td>\n",
       "      <td>2</td>\n",
       "      <td>8</td>\n",
       "      <td>50</td>\n",
       "      <td>0</td>\n",
       "    </tr>\n",
       "  </tbody>\n",
       "</table>\n",
       "</div>"
      ],
      "text/plain": [
       "      user_id   name  age  city subscription_type     distance   duration  \\\n",
       "6500      700  Айдар   22  Омск              free  2515.690719  14.944286   \n",
       "6501      700  Айдар   22  Омск              free   846.932642  16.234663   \n",
       "6502      700  Айдар   22  Омск              free  4004.434142  20.016628   \n",
       "6503      700  Айдар   22  Омск              free  1205.911290   9.782872   \n",
       "6504      700  Айдар   22  Омск              free  3047.379435  17.427673   \n",
       "\n",
       "           date  month  minute_price  start_ride_price  subscription_fee  \n",
       "6500 2021-01-02      1             8                50                 0  \n",
       "6501 2021-02-01      2             8                50                 0  \n",
       "6502 2021-02-04      2             8                50                 0  \n",
       "6503 2021-02-10      2             8                50                 0  \n",
       "6504 2021-02-14      2             8                50                 0  "
      ]
     },
     "metadata": {},
     "output_type": "display_data"
    }
   ],
   "source": [
    "subs = users_rides.query('subscription_type == \"ultra\"')\n",
    "unsubs = users_rides.query('subscription_type == \"free\"')\n",
    "print(\"SUBS: \", subs['user_id'].count(), \"UNSUBS: \", unsubs['user_id'].count(), \"SUM: \", subs['user_id'].count()+unsubs['user_id'].count())\n",
    "print(\"USERS_RIDES: \", users_rides['user_id'].count())\n",
    "\n",
    "display(\"USER_RIDES: \", users_rides.head(5))\n",
    "display(\"SUBS: \", subs.head(5))\n",
    "display(\"UNSUBS: \", unsubs.head(5))"
   ]
  },
  {
   "cell_type": "markdown",
   "id": "f0237cbf",
   "metadata": {},
   "source": [
    "Данные были объединены по полю user_id и subscription_type."
   ]
  },
  {
   "cell_type": "code",
   "execution_count": 30,
   "id": "f29de345",
   "metadata": {},
   "outputs": [
    {
     "data": {
      "image/png": "[encoded data removed]",
      "text/plain": [
       "<Figure size 432x288 with 1 Axes>"
      ]
     },
     "metadata": {
      "needs_background": "light"
     },
     "output_type": "display_data"
    },
    {
     "data": {
      "text/plain": [
       "3148.6372291760854"
      ]
     },
     "execution_count": 30,
     "metadata": {},
     "output_type": "execute_result"
    },
    {
     "data": {
      "image/png": "[encoded data removed]",
      "text/plain": [
       "<Figure size 432x288 with 1 Axes>"
      ]
     },
     "metadata": {
      "needs_background": "light"
     },
     "output_type": "display_data"
    }
   ],
   "source": [
    "#subs.pivot_table(index='month', values='distance', aggfunc='median').sort_values(by='distance').plot(kind='bar', figsize=(15, 7), grid=True)\n",
    "plt.hist(subs['distance'], bins=100)\n",
    "plt.title('Медианное растояние каждой поездки с подпиской')\n",
    "plt.grid(True)\n",
    "plt.ylabel('Расстояние')\n",
    "plt.xlabel('Количество')\n",
    "plt.show()\n",
    "\n",
    "#subs.pivot_table(index='month', values='distance', aggfunc='median').boxplot()\n",
    "plt.boxplot(subs['distance'])\n",
    "plt.grid(True)\n",
    "subs['distance'].median()"
   ]
  },
  {
   "cell_type": "code",
   "execution_count": 31,
   "id": "39c2cca2",
   "metadata": {},
   "outputs": [
    {
     "data": {
      "image/png": "[encoded data removed]",
      "text/plain": [
       "<Figure size 432x288 with 1 Axes>"
      ]
     },
     "metadata": {
      "needs_background": "light"
     },
     "output_type": "display_data"
    },
    {
     "data": {
      "text/plain": [
       "18.17815320055055"
      ]
     },
     "execution_count": 31,
     "metadata": {},
     "output_type": "execute_result"
    },
    {
     "data": {
      "image/png": "[encoded data removed]",
      "text/plain": [
       "<Figure size 432x288 with 1 Axes>"
      ]
     },
     "metadata": {
      "needs_background": "light"
     },
     "output_type": "display_data"
    }
   ],
   "source": [
    "#subs.pivot_table(index='month', values='duration', aggfunc='median').sort_values(by='duration').plot(kind='bar', figsize=(15,7), grid=True)\n",
    "plt.hist(subs['duration'], bins=50)\n",
    "plt.title('Медианная продолжительность каждой поездки с подпиской')\n",
    "plt.grid(True)\n",
    "plt.ylabel('Продолжительность поездки')\n",
    "plt.xlabel('Количество')\n",
    "plt.show()\n",
    "\n",
    "#subs.pivot_table(index='month', values='duration', aggfunc='median').boxplot()\n",
    "plt.boxplot(subs['duration'])\n",
    "plt.grid(True)\n",
    "subs['duration'].median()"
   ]
  },
  {
   "cell_type": "code",
   "execution_count": 32,
   "id": "4bf43475",
   "metadata": {},
   "outputs": [
    {
     "data": {
      "image/png": "[encoded data removed]",
      "text/plain": [
       "<Figure size 432x288 with 1 Axes>"
      ]
     },
     "metadata": {
      "needs_background": "light"
     },
     "output_type": "display_data"
    },
    {
     "data": {
      "text/plain": [
       "3114.648464847295"
      ]
     },
     "execution_count": 32,
     "metadata": {},
     "output_type": "execute_result"
    },
    {
     "data": {
      "image/png": "[encoded data removed]",
      "text/plain": [
       "<Figure size 432x288 with 1 Axes>"
      ]
     },
     "metadata": {
      "needs_background": "light"
     },
     "output_type": "display_data"
    }
   ],
   "source": [
    "#unsubs.pivot_table(index='month', values='distance', aggfunc='median').sort_values(by='distance').plot(kind='bar', figsize=(15, 7), grid=True)\n",
    "plt.hist(unsubs['distance'], bins=100)\n",
    "plt.title('Медианное растояние каждой поездки с подпиской')\n",
    "plt.grid(True)\n",
    "plt.ylabel('Расстояние')\n",
    "plt.xlabel('Количество')\n",
    "plt.show()\n",
    "\n",
    "plt.boxplot(unsubs['distance'])\n",
    "plt.grid(True)\n",
    "unsubs['distance'].median()"
   ]
  },
  {
   "cell_type": "code",
   "execution_count": 33,
   "id": "5e2f5f63",
   "metadata": {},
   "outputs": [
    {
     "data": {
      "image/png": "[encoded data removed]",
      "text/plain": [
       "<Figure size 432x288 with 1 Axes>"
      ]
     },
     "metadata": {
      "needs_background": "light"
     },
     "output_type": "display_data"
    },
    {
     "data": {
      "text/plain": [
       "17.326890226082043"
      ]
     },
     "execution_count": 33,
     "metadata": {},
     "output_type": "execute_result"
    },
    {
     "data": {
      "image/png": "[encoded data removed]",
      "text/plain": [
       "<Figure size 432x288 with 1 Axes>"
      ]
     },
     "metadata": {
      "needs_background": "light"
     },
     "output_type": "display_data"
    }
   ],
   "source": [
    "plt.hist(unsubs['duration'], bins=50)\n",
    "plt.title('Медианная продолжительность каждой поездки с подпиской')\n",
    "plt.grid(True)\n",
    "plt.ylabel('Продолжительность поездки')\n",
    "plt.xlabel('Количество')\n",
    "plt.show()\n",
    "\n",
    "plt.boxplot(unsubs['duration'])\n",
    "plt.grid(True)\n",
    "unsubs['duration'].median()"
   ]
  },
  {
   "cell_type": "markdown",
   "id": "9265a8a9",
   "metadata": {},
   "source": [
    "**Вывод:**\n",
    "    \n",
    "    - Данные были объединены по полю user_id и subscription_type.\n",
    "    - По графикам видно, что пользователи c подпиской проезжают большее расстояние(медиана с подпиской = 3148, без 3114) и дольше по продолжительности(18.1 в среднем с подпиской и 17.3 без) в поездке."
   ]
  },
  {
   "cell_type": "markdown",
   "id": "402d620f",
   "metadata": {},
   "source": [
    "#### Шаг 5. Подсчёт выручки"
   ]
  },
  {
   "cell_type": "code",
   "execution_count": 34,
   "id": "c6bc2263",
   "metadata": {},
   "outputs": [],
   "source": [
    "#users_rides.isna().sum()"
   ]
  },
  {
   "cell_type": "code",
   "execution_count": 35,
   "id": "53049e0a",
   "metadata": {},
   "outputs": [],
   "source": [
    "users_rides['duration'] = np.ceil(users_rides['duration']) # добавил округление\n",
    "\n",
    "user_ride_months = users_rides.pivot_table(\n",
    "    index=('user_id', 'month'), \n",
    "    values=[\n",
    "        'user_id', 'name', 'age', \n",
    "        'city', 'subscription_type', 'distance',\n",
    "       'duration', 'date', 'month', \n",
    "        'minute_price', 'start_ride_price', 'subscription_fee'\n",
    "    ], \n",
    "    aggfunc={\n",
    "        'distance':{'count', 'sum'}, \n",
    "        'duration':'sum', \n",
    "        'minute_price': 'mean',\n",
    "        'start_ride_price':'mean',\n",
    "        'subscription_fee':'mean',\n",
    "    }\n",
    ")\n",
    "user_ride_months.columns = ['count', 'distance', 'duration', 'minute_price', 'start_ride_price', 'subscription_fee']"
   ]
  },
  {
   "cell_type": "code",
   "execution_count": 36,
   "id": "4dda6a29",
   "metadata": {},
   "outputs": [
    {
     "data": {
      "text/plain": [
       "count               0\n",
       "distance            0\n",
       "duration            0\n",
       "minute_price        0\n",
       "start_ride_price    0\n",
       "subscription_fee    0\n",
       "dtype: int64"
      ]
     },
     "metadata": {},
     "output_type": "display_data"
    }
   ],
   "source": [
    "display(user_ride_months.isna().sum())"
   ]
  },
  {
   "cell_type": "code",
   "execution_count": 37,
   "id": "849ce60a",
   "metadata": {},
   "outputs": [
    {
     "name": "stdout",
     "output_type": "stream",
     "text": [
      "3878641.0\n"
     ]
    },
    {
     "data": {
      "text/html": [
       "<div>\n",
       "<style scoped>\n",
       "    .dataframe tbody tr th:only-of-type {\n",
       "        vertical-align: middle;\n",
       "    }\n",
       "\n",
       "    .dataframe tbody tr th {\n",
       "        vertical-align: top;\n",
       "    }\n",
       "\n",
       "    .dataframe thead th {\n",
       "        text-align: right;\n",
       "    }\n",
       "</style>\n",
       "<table border=\"1\" class=\"dataframe\">\n",
       "  <thead>\n",
       "    <tr style=\"text-align: right;\">\n",
       "      <th></th>\n",
       "      <th></th>\n",
       "      <th>count</th>\n",
       "      <th>distance</th>\n",
       "      <th>duration</th>\n",
       "      <th>minute_price</th>\n",
       "      <th>start_ride_price</th>\n",
       "      <th>subscription_fee</th>\n",
       "      <th>revenue</th>\n",
       "    </tr>\n",
       "    <tr>\n",
       "      <th>user_id</th>\n",
       "      <th>month</th>\n",
       "      <th></th>\n",
       "      <th></th>\n",
       "      <th></th>\n",
       "      <th></th>\n",
       "      <th></th>\n",
       "      <th></th>\n",
       "      <th></th>\n",
       "    </tr>\n",
       "  </thead>\n",
       "  <tbody>\n",
       "    <tr>\n",
       "      <th rowspan=\"5\" valign=\"top\">1</th>\n",
       "      <th>1</th>\n",
       "      <td>2</td>\n",
       "      <td>7027.511294</td>\n",
       "      <td>42.0</td>\n",
       "      <td>6</td>\n",
       "      <td>0</td>\n",
       "      <td>199</td>\n",
       "      <td>451.0</td>\n",
       "    </tr>\n",
       "    <tr>\n",
       "      <th>4</th>\n",
       "      <td>1</td>\n",
       "      <td>754.159807</td>\n",
       "      <td>7.0</td>\n",
       "      <td>6</td>\n",
       "      <td>0</td>\n",
       "      <td>199</td>\n",
       "      <td>241.0</td>\n",
       "    </tr>\n",
       "    <tr>\n",
       "      <th>8</th>\n",
       "      <td>2</td>\n",
       "      <td>6723.470560</td>\n",
       "      <td>46.0</td>\n",
       "      <td>6</td>\n",
       "      <td>0</td>\n",
       "      <td>199</td>\n",
       "      <td>475.0</td>\n",
       "    </tr>\n",
       "    <tr>\n",
       "      <th>10</th>\n",
       "      <td>2</td>\n",
       "      <td>5809.911100</td>\n",
       "      <td>32.0</td>\n",
       "      <td>6</td>\n",
       "      <td>0</td>\n",
       "      <td>199</td>\n",
       "      <td>391.0</td>\n",
       "    </tr>\n",
       "    <tr>\n",
       "      <th>11</th>\n",
       "      <td>3</td>\n",
       "      <td>7003.499363</td>\n",
       "      <td>56.0</td>\n",
       "      <td>6</td>\n",
       "      <td>0</td>\n",
       "      <td>199</td>\n",
       "      <td>535.0</td>\n",
       "    </tr>\n",
       "    <tr>\n",
       "      <th>...</th>\n",
       "      <th>...</th>\n",
       "      <td>...</td>\n",
       "      <td>...</td>\n",
       "      <td>...</td>\n",
       "      <td>...</td>\n",
       "      <td>...</td>\n",
       "      <td>...</td>\n",
       "      <td>...</td>\n",
       "    </tr>\n",
       "    <tr>\n",
       "      <th rowspan=\"5\" valign=\"top\">1534</th>\n",
       "      <th>6</th>\n",
       "      <td>2</td>\n",
       "      <td>3409.468534</td>\n",
       "      <td>26.0</td>\n",
       "      <td>8</td>\n",
       "      <td>50</td>\n",
       "      <td>0</td>\n",
       "      <td>308.0</td>\n",
       "    </tr>\n",
       "    <tr>\n",
       "      <th>8</th>\n",
       "      <td>2</td>\n",
       "      <td>7622.453034</td>\n",
       "      <td>48.0</td>\n",
       "      <td>8</td>\n",
       "      <td>50</td>\n",
       "      <td>0</td>\n",
       "      <td>484.0</td>\n",
       "    </tr>\n",
       "    <tr>\n",
       "      <th>9</th>\n",
       "      <td>1</td>\n",
       "      <td>4928.173852</td>\n",
       "      <td>23.0</td>\n",
       "      <td>8</td>\n",
       "      <td>50</td>\n",
       "      <td>0</td>\n",
       "      <td>234.0</td>\n",
       "    </tr>\n",
       "    <tr>\n",
       "      <th>11</th>\n",
       "      <td>4</td>\n",
       "      <td>13350.015305</td>\n",
       "      <td>78.0</td>\n",
       "      <td>8</td>\n",
       "      <td>50</td>\n",
       "      <td>0</td>\n",
       "      <td>824.0</td>\n",
       "    </tr>\n",
       "    <tr>\n",
       "      <th>12</th>\n",
       "      <td>1</td>\n",
       "      <td>2371.711192</td>\n",
       "      <td>16.0</td>\n",
       "      <td>8</td>\n",
       "      <td>50</td>\n",
       "      <td>0</td>\n",
       "      <td>178.0</td>\n",
       "    </tr>\n",
       "  </tbody>\n",
       "</table>\n",
       "<p>11331 rows × 7 columns</p>\n",
       "</div>"
      ],
      "text/plain": [
       "               count      distance  duration  minute_price  start_ride_price  \\\n",
       "user_id month                                                                  \n",
       "1       1          2   7027.511294      42.0             6                 0   \n",
       "        4          1    754.159807       7.0             6                 0   \n",
       "        8          2   6723.470560      46.0             6                 0   \n",
       "        10         2   5809.911100      32.0             6                 0   \n",
       "        11         3   7003.499363      56.0             6                 0   \n",
       "...              ...           ...       ...           ...               ...   \n",
       "1534    6          2   3409.468534      26.0             8                50   \n",
       "        8          2   7622.453034      48.0             8                50   \n",
       "        9          1   4928.173852      23.0             8                50   \n",
       "        11         4  13350.015305      78.0             8                50   \n",
       "        12         1   2371.711192      16.0             8                50   \n",
       "\n",
       "               subscription_fee  revenue  \n",
       "user_id month                             \n",
       "1       1                   199    451.0  \n",
       "        4                   199    241.0  \n",
       "        8                   199    475.0  \n",
       "        10                  199    391.0  \n",
       "        11                  199    535.0  \n",
       "...                         ...      ...  \n",
       "1534    6                     0    308.0  \n",
       "        8                     0    484.0  \n",
       "        9                     0    234.0  \n",
       "        11                    0    824.0  \n",
       "        12                    0    178.0  \n",
       "\n",
       "[11331 rows x 7 columns]"
      ]
     },
     "execution_count": 37,
     "metadata": {},
     "output_type": "execute_result"
    }
   ],
   "source": [
    "user_ride_months['revenue'] = np.ceil(\n",
    "    user_ride_months['start_ride_price']*user_ride_months['count']+\n",
    "    user_ride_months['minute_price']*user_ride_months['duration']+\n",
    "    user_ride_months['subscription_fee']\n",
    ")\n",
    "print(user_ride_months['revenue'].sum())\n",
    "user_ride_months"
   ]
  },
  {
   "cell_type": "markdown",
   "id": "cbf9eb85",
   "metadata": {},
   "source": [
    "**Вывод:**\n",
    "    \n",
    "    - Была сформирована новая таблица с суммарным расстоянием, количеством поездок и суммарным времем для каждого пользователя за каждый месяц.\n",
    "    - Был посчитан столбец для выручки по формуле - стоимость старта поездки ×  количество поездок + стоимость одной минуты поездки × общая продолжительность всех поездок в минутах + стоимость подписки.\n",
    "    - Общая выручка составила 3878641.0"
   ]
  },
  {
   "cell_type": "markdown",
   "id": "41545ac0",
   "metadata": {},
   "source": [
    "#### Шаг 6. Проверка гипотез"
   ]
  },
  {
   "cell_type": "markdown",
   "id": "188c44a9",
   "metadata": {},
   "source": [
    "**Тратят ли пользователи с подпиской больше времени на поездки:**"
   ]
  },
  {
   "cell_type": "markdown",
   "id": "5e8aa5a4",
   "metadata": {},
   "source": [
    "H₀ - средняя продолжительность поездок пользователей с подпиской и без равны\n",
    "\n",
    "H1 - средняя продолжительность поездок пользователей с подпиской больше чем пользователей без подписки"
   ]
  },
  {
   "cell_type": "code",
   "execution_count": 38,
   "id": "3892018c",
   "metadata": {},
   "outputs": [
    {
     "name": "stdout",
     "output_type": "stream",
     "text": [
      "mean sub:  18.54198516280583\n",
      "mean unsub:  17.39090929866399\n",
      "p-value:  1.2804098316645618e-34\n",
      "Отвергаем нулевую гипотезу о том, что пользователи с подпиской тратят больше времени на поездки\n"
     ]
    }
   ],
   "source": [
    "duration_sub = subs['duration']\n",
    "duration_unsub = unsubs['duration']\n",
    "\n",
    "print(\"mean sub: \", duration_sub.mean())\n",
    "print(\"mean unsub: \", duration_unsub.mean())\n",
    "\n",
    "alpha = 0.05\n",
    "\n",
    "duration_results = st.ttest_ind(\n",
    "    duration_sub,\n",
    "    duration_unsub,\n",
    "    equal_var=True,\n",
    "    alternative='greater'\n",
    ")\n",
    "\n",
    "print(\"p-value: \", duration_results.pvalue)\n",
    "\n",
    "if duration_results.pvalue < alpha:\n",
    "    print(\"Отвергаем нулевую гипотезу о том, что пользователи с подпиской тратят больше времени на поездки\")\n",
    "else:\n",
    "    print(\"Не получилось отвергуть нулевую гипотезу\")"
   ]
  },
  {
   "cell_type": "markdown",
   "id": "4915b9fb",
   "metadata": {},
   "source": [
    "Гипотезу о том, что пользователи с подпиской тратят времени на поездки больше, чем пользователи без подписки отвергаем."
   ]
  },
  {
   "cell_type": "markdown",
   "id": "c7d1893d",
   "metadata": {},
   "source": [
    "**Расстояние одной поездки в 3130 метров — оптимальное с точки зрения износа самоката. Можно ли сказать, что среднее расстояние, которое проезжают пользователи с подпиской за одну поездку, не превышает 3130 метров:**"
   ]
  },
  {
   "cell_type": "markdown",
   "id": "78a129b5",
   "metadata": {},
   "source": [
    "H₀ - средняя дистанция поездок пользователей с подпиской равна 3130 метров\n",
    "\n",
    "H1 - средняя дистанция поездок пользователей с подпиской больше 3130 метров"
   ]
  },
  {
   "cell_type": "code",
   "execution_count": 39,
   "id": "f4cff850",
   "metadata": {},
   "outputs": [
    {
     "name": "stdout",
     "output_type": "stream",
     "text": [
      "mean sub:  3115.4453880370247\n",
      "p-value:  0.9195368847849785\n",
      "Не получилось отвергуть нулевую гипотезу\n"
     ]
    }
   ],
   "source": [
    "distance_sub = subs['distance']\n",
    "\n",
    "print(\"mean sub: \", distance_sub.mean())\n",
    "\n",
    "distance_value = 3130\n",
    "alpha = 0.05\n",
    "\n",
    "distance_results = st.ttest_1samp(\n",
    "    distance_sub,\n",
    "    distance_value,\n",
    "    alternative='greater'\n",
    ")\n",
    "\n",
    "print(\"p-value: \", distance_results.pvalue)\n",
    "\n",
    "if distance_results.pvalue < alpha:\n",
    "    print(\"Отвергаем нулевую гипотезу\")\n",
    "else:\n",
    "    print(\"Не получилось отвергуть нулевую гипотезу\")"
   ]
  },
  {
   "cell_type": "markdown",
   "id": "799cd2ae",
   "metadata": {},
   "source": [
    "Отвергнуть гипотезу о том, что расстояние одной поездки пользователя с подпиской не превышает 3130 метров, не удалось."
   ]
  },
  {
   "cell_type": "markdown",
   "id": "b43ced1d",
   "metadata": {},
   "source": [
    "**Будет ли помесячная выручка от пользователей с подпиской по месяцам выше, чем выручка от пользователей без подписки:**"
   ]
  },
  {
   "cell_type": "markdown",
   "id": "5d75ad34",
   "metadata": {},
   "source": [
    "H₀ - средняя помесячная выручка поездок пользователей с подпиской равна средней помесячной выручке поездок пользователей без подписки\n",
    "\n",
    "H1 - средняя помесячная выручка поездок пользователей с подпиской больше средней помесячной выручке поездок пользователей без подписки."
   ]
  },
  {
   "cell_type": "code",
   "execution_count": 40,
   "id": "1f02675c",
   "metadata": {},
   "outputs": [
    {
     "name": "stdout",
     "output_type": "stream",
     "text": [
      "mean sub:  362.7921906022502\n",
      "mean unsub:  328.6413651073845\n",
      "p-value:  1.8850394384715216e-31\n",
      "Отвергаем нулевую гипотезу\n"
     ]
    }
   ],
   "source": [
    "revenue_sub = user_ride_months.loc[user_ride_months['subscription_fee'] > 0, 'revenue']\n",
    "revenue_unsub = user_ride_months.loc[user_ride_months['subscription_fee'] == 0]['revenue']\n",
    "\n",
    "print(\"mean sub: \", revenue_sub.mean())\n",
    "print(\"mean unsub: \", revenue_unsub.mean())\n",
    "\n",
    "alpha = 0.05\n",
    "\n",
    "revenue_results = st.ttest_ind(\n",
    "    revenue_sub,\n",
    "    revenue_unsub,\n",
    "    equal_var=True,\n",
    "    alternative='greater'\n",
    ")\n",
    "\n",
    "print(\"p-value: \", revenue_results.pvalue)\n",
    "\n",
    "if revenue_results.pvalue < alpha:\n",
    "    print(\"Отвергаем нулевую гипотезу\")\n",
    "else:\n",
    "    print(\"Не получилось отвергуть нулевую гипотезу\")"
   ]
  },
  {
   "cell_type": "markdown",
   "id": "577697e5",
   "metadata": {},
   "source": [
    "Гипотеза о том, что помесячная выручка от пользователей с подпиской по месяцам выше, чем от пользователей без подписки, отвергнута."
   ]
  },
  {
   "cell_type": "markdown",
   "id": "14e734e3",
   "metadata": {},
   "source": [
    "**Представим такую ситуацию: техническая команда сервиса обновила сервера, с которыми взаимодействует мобильное приложение. Она надеется, что из-за этого количество обращений в техподдержку значимо снизилось. Некоторый файл содержит для каждого пользователя данные о количестве обращений до обновления и после него.**"
   ]
  },
  {
   "cell_type": "markdown",
   "id": "8663b9af",
   "metadata": {},
   "source": [
    "Для подобной ситуации мы имеем два набора данных, которые зависят друг от друга(один был до события, другой после). То есть две зависимые выборки. Для этой ситуации нам подойдет t-тест для зависимых выборок - _st.ttest_rel_ с параметрами: первый _выборка до события(обновление сервера)_, второй _выборка после события_ и третий _alternative='less'_(так как мы хотим узнать, что обращения снизились)."
   ]
  },
  {
   "cell_type": "markdown",
   "id": "6dfa3d01",
   "metadata": {},
   "source": [
    "**Вывод:**\n",
    "\n",
    "    - Гипотезу о том, что пользователи с подпиской тратят времени на поездки больше, чем пользователи без подписки отвергаем.\n",
    "    - Отвергнуть гипотезу о том, что расстояние одной поездки пользователя с подпиской не превышает 3130 метров, не удалось.\n",
    "    - Гипотеза о том, что помесячная выручка от пользователей с подпиской по месяцам выше, чем от пользователей без подписки, отвергнута.\n",
    "    - Была разобрана гипотетическая ситуация в которой мы имеем два набора данных, которые зависят друг от друга(один был до события, другой после). То есть две зависимые выборки. Для этой ситуации нам подойдет t-тест для зависимых выборок - st.ttest_rel с параметрами: первый выборка до события(обновление сервера), второй выборка после события и третий alternative='less'(так как мы хотим узнать, что обращения снизились)."
   ]
  },
  {
   "cell_type": "markdown",
   "id": "61213c5e",
   "metadata": {},
   "source": [
    "#### Шаг 7. Распределения"
   ]
  },
  {
   "cell_type": "markdown",
   "id": "fadb158c",
   "metadata": {},
   "source": [
    "**Отделу маркетинга GoFast поставили задачу: нужно провести акцию с раздачей промокодов на один бесплатный месяц подписки, в рамках которой как минимум 100 существующих клиентов должны продлить эту подписку. То есть по завершении периода действия подписки пользователь может либо отказаться от неё, либо продлить, совершив соответствующий платёж. \n",
    "Эта акция уже проводилась ранее и по итогу выяснилось, что после бесплатного пробного периода подписку продлевают 10 % пользователей. \n",
    "Необходимо выяснить, какое минимальное количество промокодов нужно разослать, чтобы вероятность не выполнить план была примерно 5 %.**"
   ]
  },
  {
   "cell_type": "code",
   "execution_count": 41,
   "id": "dd9def9f",
   "metadata": {},
   "outputs": [
    {
     "name": "stdout",
     "output_type": "stream",
     "text": [
      "0.049600981640267626 1118 95\n"
     ]
    },
    {
     "data": {
      "text/plain": [
       "<BarContainer object of 1119 artists>"
      ]
     },
     "execution_count": 41,
     "metadata": {},
     "output_type": "execute_result"
    },
    {
     "data": {
      "image/png": "[encoded data removed]",
      "text/plain": [
       "<Figure size 432x288 with 1 Axes>"
      ]
     },
     "metadata": {
      "needs_background": "light"
     },
     "output_type": "display_data"
    }
   ],
   "source": [
    "from scipy.stats import binom, norm\n",
    "\n",
    "n = 0\n",
    "p = 0.1 # подписку продлевают 10% пользователей\n",
    "k = 95 # 5% не выполнение плана, значит 95 на его выполнение\n",
    "\n",
    "distr = []\n",
    "\n",
    "prob = binom.cdf(k, n, p)\n",
    "distr.append(prob)\n",
    "\n",
    "while prob > 0.05: # 5% на невыполнение плана\n",
    "    n+=1\n",
    "    \n",
    "    prob = binom.cdf(k, n, p)\n",
    "    distr.append(prob)\n",
    "\n",
    "print(prob, n, k)\n",
    "\n",
    "plt.bar(range(0, len(distr)), distr)"
   ]
  },
  {
   "cell_type": "markdown",
   "id": "73d4b0b9",
   "metadata": {},
   "source": [
    "Итого были выбраны параметры p = 0.1 так как подписку продлевают 10% пользователей, а k = 95 так как мы должны с таким шансом выполнить план с такой вероятностью. Итого получается, что при 1118 разосланных бесплатных подписок есть вероятность 95% выполнение плана."
   ]
  },
  {
   "cell_type": "markdown",
   "id": "8f8bec1f",
   "metadata": {},
   "source": [
    "**Отдел маркетинга рассылает клиентам push-уведомления в мобильном приложении. Клиенты могут открыть его или не открывать. Известно, что уведомления открывают около 40 % получивших клиентов. Отдел планирует разослать 11 млн уведомлений. С помощью аппроксимации постройте примерный график распределения и оцените вероятность того, что уведомление откроют не более 399,5 тыс. пользователей.**"
   ]
  },
  {
   "cell_type": "code",
   "execution_count": 42,
   "id": "2a9ba9e5",
   "metadata": {},
   "outputs": [],
   "source": [
    "# зададим функцию, которая выдаёт <num> чисел,\n",
    "# равномерно распределённых от <start> до <stop>\n",
    "# (понадобится для визуализации нормального распределения)\n",
    "def linspace(start, stop, num):\n",
    "    step = (stop - start) / (num - 1)\n",
    "    result = []\n",
    "    for i in range(num):\n",
    "        result.append(start + step * i)\n",
    "    return result"
   ]
  },
  {
   "cell_type": "code",
   "execution_count": 43,
   "id": "bbf1f31b",
   "metadata": {},
   "outputs": [
    {
     "name": "stdout",
     "output_type": "stream",
     "text": [
      "Условие выполняется\n"
     ]
    },
    {
     "data": {
      "image/png": "[encoded data removed]",
      "text/plain": [
       "<Figure size 432x288 with 1 Axes>"
      ]
     },
     "metadata": {
      "needs_background": "light"
     },
     "output_type": "display_data"
    }
   ],
   "source": [
    "from math import sqrt\n",
    "\n",
    "n = 11000000\n",
    "p = 0.4\n",
    "k = 399500\n",
    "mu = n * p\n",
    "sigma = sqrt(n * p * (1 - p))\n",
    "\n",
    "left = int(n * p - 3 * sqrt(n * p * (1 - p)))\n",
    "right = int(n * p + 3 * sqrt(n * p * (1 - p)))\n",
    "\n",
    "x = list(range(max(0, left), right))\n",
    "\n",
    "ax = plt.subplot()\n",
    "\n",
    "ax.plot(x, binom.pmf(x, n, p), 'bo', ms=5, label='вероятности биномиального распределения')\n",
    "\n",
    "if (mu - (3 * sigma) >= 0) and ((mu + (3 * sigma) <= n)):\n",
    "    print('Условие выполняется')\n",
    "else:\n",
    "    print('Условие не выполняется')"
   ]
  },
  {
   "cell_type": "markdown",
   "id": "7ad12e81",
   "metadata": {},
   "source": [
    "Условие того, что уведомление откроют не более 399,5 тыс. пользователей выполняется."
   ]
  },
  {
   "cell_type": "markdown",
   "id": "37c77dcd",
   "metadata": {},
   "source": [
    "**Вывод:**\n",
    "\n",
    "    - При 1118 разосланных бесплатных подписок есть вероятность 95% выполнение плана.\n",
    "    - Условие того, что уведомление откроют не более 399,5 тыс. пользователей выполняется."
   ]
  },
  {
   "cell_type": "markdown",
   "id": "33aa6468",
   "metadata": {},
   "source": [
    "В процессе исследования сервиса аренды самокатов GoFast были выполнены следующие этапы и сделаны выводы:\n",
    "\n",
    "**Выполнена предобработка данных:**\n",
    "\n",
    "    - Был приведен тип date к datetime\n",
    "    - Дубликаты нашлись только в таблице users и были упразднены\n",
    "    - Был выделен столбец с месяцев из даты\n",
    "    - Остальные значения в таблицах были признаны без аномалий\n",
    "    \n",
    "**Проведен исследовательский анализ данных:**\n",
    "\n",
    "    - Чаще всего встречается город Пятигорск, то есть в нем больше всего пользователей(>200). Меньше же всего пользователей в Москве(что необычно для сервиса самокатов, вероятно в столице большая часть пользователей у конкурентов).\n",
    "    - Больше всего пользователей без подписки.\n",
    "    - Как видно, возраст пользователей начинается от 12, заканчивается 43 и распределен нормально.\n",
    "    - По медиане дистанции каждого пользователя, он проезжает 3.1км. По графикам видно, что минимальные значения располагаются около 2900 метров, а максимальные около 3300. Также имеется множество выбросов, сверху и снизу ящика с усами. По гистограмме видно нормальное распределение.\n",
    "    - Медиана продолжительности поездки пользователя 17.6 минут. Графики показывают, что минимальное значение продолжительностии лежит около 14 минут, а максимальная около 22. Также имеется несколько выбросов, как сверху, так и снизу графика ящика с усами. По гистограмме видим нормальное распределение.\n",
    "    \n",
    "**Объединение данных:**\n",
    "\n",
    "    - Данные были объединены по полю user_id и subscription_type.\n",
    "    - По графикам видно, что пользователи c подпиской проезжают большее расстояние(медиана с подпиской = 3148, без 3114) и дольше по продолжительности(18.1 в среднем с подпиской и 17.3 без) в поездке.\n",
    "    \n",
    "**Подсчёт выручки:**\n",
    "\n",
    "    - Была сформирована новая таблица с суммарным расстоянием, количеством поездок и суммарным времем для каждого пользователя за каждый месяц.\n",
    "    - Был посчитан столбец для выручки по формуле - стоимость старта поездки ×  количество поездок + стоимость одной минуты поездки × общая продолжительность всех поездок в минутах + стоимость подписки.\n",
    "    - Общая выручка составила 3878641.0\n",
    "    \n",
    "**Проверка гипотез:**\n",
    "\n",
    "    - Гипотезу о том, что пользователи с подпиской тратят времени на поездки больше, чем пользователи без подписки отвергаем.\n",
    "    - Отвергнуть гипотезу о том, что расстояние одной поездки пользователя с подпиской не превышает 3130 метров, не удалось.\n",
    "    - Гипотеза о том, что помесячная выручка от пользователей с подпиской по месяцам выше, чем от пользователей без подписки, отвергнута.\n",
    "    - Была разобрана гипотетическая ситуация в которой мы имеем два набора данных, которые зависят друг от друга(один был до события, другой после). То есть две зависимые выборки. Для этой ситуации нам подойдет t-тест для зависимых выборок - st.ttest_rel с параметрами: первый выборка до события(обновление сервера), второй выборка после события и третий alternative='less'(так как мы хотим узнать, что обращения снизились).\n",
    "    \n",
    "**Распределения:**\n",
    "\n",
    "    - При 1118 разосланных бесплатных подписок есть вероятность 95% выполнение плана.\n",
    "    - Условие того, что уведомление откроют не более 399,5 тыс. пользователей выполняется.\n",
    "  \n",
    "**Рекомендации:**\n",
    "\n",
    "    - Пользователи с подпиской действительно приносят больше дохода, чем пользователи без нее. Советую принять меры по привлечению пользователей к подписке. Например привлечение пользователей через бесплатный месяц подписки."
   ]
  }
 ],
 "metadata": {
  "ExecuteTimeLog": [
   {
    "duration": 403,
    "start_time": "2025-04-14T16:11:35.873Z"
   },
   {
    "duration": 80,
    "start_time": "2025-04-14T16:11:36.711Z"
   },
   {
    "duration": 84,
    "start_time": "2025-04-14T16:11:55.302Z"
   },
   {
    "duration": 82,
    "start_time": "2025-04-14T16:12:49.850Z"
   },
   {
    "duration": 89,
    "start_time": "2025-04-14T16:13:07.311Z"
   },
   {
    "duration": 86,
    "start_time": "2025-04-14T16:13:29.535Z"
   },
   {
    "duration": 138,
    "start_time": "2025-04-14T16:16:07.834Z"
   },
   {
    "duration": 121,
    "start_time": "2025-04-14T16:16:16.868Z"
   },
   {
    "duration": 111,
    "start_time": "2025-04-14T16:16:43.910Z"
   },
   {
    "duration": 140,
    "start_time": "2025-04-14T16:17:01.613Z"
   },
   {
    "duration": 86,
    "start_time": "2025-04-14T16:17:32.972Z"
   },
   {
    "duration": 6,
    "start_time": "2025-04-14T16:18:02.358Z"
   },
   {
    "duration": 11,
    "start_time": "2025-04-14T16:18:17.728Z"
   },
   {
    "duration": 13,
    "start_time": "2025-04-14T16:18:26.490Z"
   },
   {
    "duration": 12,
    "start_time": "2025-04-14T16:18:33.549Z"
   },
   {
    "duration": 19,
    "start_time": "2025-04-14T16:18:37.334Z"
   },
   {
    "duration": 14,
    "start_time": "2025-04-14T16:19:01.006Z"
   },
   {
    "duration": 10,
    "start_time": "2025-04-14T16:19:08.347Z"
   },
   {
    "duration": 13,
    "start_time": "2025-04-14T16:19:26.658Z"
   },
   {
    "duration": 12,
    "start_time": "2025-04-14T16:20:35.269Z"
   },
   {
    "duration": 20,
    "start_time": "2025-04-14T16:21:05.122Z"
   },
   {
    "duration": 72,
    "start_time": "2025-04-14T16:21:44.143Z"
   },
   {
    "duration": 4,
    "start_time": "2025-04-14T16:22:12.852Z"
   },
   {
    "duration": 11,
    "start_time": "2025-04-14T16:24:19.478Z"
   },
   {
    "duration": 8,
    "start_time": "2025-04-14T16:24:25.824Z"
   },
   {
    "duration": 5,
    "start_time": "2025-04-14T16:24:34.586Z"
   },
   {
    "duration": 13,
    "start_time": "2025-04-14T16:24:39.362Z"
   },
   {
    "duration": 9,
    "start_time": "2025-04-14T16:25:12.289Z"
   },
   {
    "duration": 6,
    "start_time": "2025-04-14T16:25:15.326Z"
   },
   {
    "duration": 10,
    "start_time": "2025-04-14T16:25:41.379Z"
   },
   {
    "duration": 12,
    "start_time": "2025-04-14T16:25:53.563Z"
   },
   {
    "duration": 15,
    "start_time": "2025-04-14T16:26:13.236Z"
   },
   {
    "duration": 16,
    "start_time": "2025-04-14T16:26:45.433Z"
   },
   {
    "duration": 7,
    "start_time": "2025-04-14T16:27:37.250Z"
   },
   {
    "duration": 62,
    "start_time": "2025-04-14T16:28:20.142Z"
   },
   {
    "duration": 13,
    "start_time": "2025-04-14T16:28:22.025Z"
   },
   {
    "duration": 14,
    "start_time": "2025-04-14T16:28:29.736Z"
   },
   {
    "duration": 8,
    "start_time": "2025-04-14T16:28:40.000Z"
   },
   {
    "duration": 5,
    "start_time": "2025-04-14T16:28:43.403Z"
   },
   {
    "duration": 10,
    "start_time": "2025-04-14T16:29:00.623Z"
   },
   {
    "duration": 22,
    "start_time": "2025-04-14T16:29:10.245Z"
   },
   {
    "duration": 14,
    "start_time": "2025-04-14T16:29:24.773Z"
   },
   {
    "duration": 9,
    "start_time": "2025-04-14T16:29:28.552Z"
   },
   {
    "duration": 8,
    "start_time": "2025-04-14T16:29:32.847Z"
   },
   {
    "duration": 7,
    "start_time": "2025-04-14T16:29:37.206Z"
   },
   {
    "duration": 9,
    "start_time": "2025-04-14T16:29:44.012Z"
   },
   {
    "duration": 13,
    "start_time": "2025-04-14T16:29:56.605Z"
   },
   {
    "duration": 17,
    "start_time": "2025-04-14T16:30:01.505Z"
   },
   {
    "duration": 16,
    "start_time": "2025-04-14T16:30:30.033Z"
   },
   {
    "duration": 8,
    "start_time": "2025-04-14T16:30:42.891Z"
   },
   {
    "duration": 20,
    "start_time": "2025-04-14T16:31:27.586Z"
   },
   {
    "duration": 8,
    "start_time": "2025-04-14T16:31:43.524Z"
   },
   {
    "duration": 5,
    "start_time": "2025-04-14T16:31:49.624Z"
   },
   {
    "duration": 8,
    "start_time": "2025-04-14T16:31:52.785Z"
   },
   {
    "duration": 6,
    "start_time": "2025-04-14T16:32:12.480Z"
   },
   {
    "duration": 7,
    "start_time": "2025-04-14T16:32:41.494Z"
   },
   {
    "duration": 5,
    "start_time": "2025-04-14T16:33:12.416Z"
   },
   {
    "duration": 6,
    "start_time": "2025-04-14T16:42:55.014Z"
   },
   {
    "duration": 13,
    "start_time": "2025-04-14T16:43:08.345Z"
   },
   {
    "duration": 13,
    "start_time": "2025-04-14T16:43:35.441Z"
   },
   {
    "duration": 6,
    "start_time": "2025-04-14T16:43:42.706Z"
   },
   {
    "duration": 19,
    "start_time": "2025-04-14T16:43:54.740Z"
   },
   {
    "duration": 6,
    "start_time": "2025-04-14T16:44:23.569Z"
   },
   {
    "duration": 6,
    "start_time": "2025-04-14T16:44:33.618Z"
   },
   {
    "duration": 20,
    "start_time": "2025-04-14T16:53:12.924Z"
   },
   {
    "duration": 32,
    "start_time": "2025-04-14T16:53:16.541Z"
   },
   {
    "duration": 17,
    "start_time": "2025-04-14T17:04:05.935Z"
   },
   {
    "duration": 13,
    "start_time": "2025-04-14T17:04:37.673Z"
   },
   {
    "duration": 4,
    "start_time": "2025-04-14T17:04:46.674Z"
   },
   {
    "duration": 9,
    "start_time": "2025-04-14T17:04:59.235Z"
   },
   {
    "duration": 12,
    "start_time": "2025-04-14T17:05:22.263Z"
   },
   {
    "duration": 10,
    "start_time": "2025-04-14T17:05:55.366Z"
   },
   {
    "duration": 9,
    "start_time": "2025-04-14T17:06:30.885Z"
   },
   {
    "duration": 12,
    "start_time": "2025-04-14T17:06:35.153Z"
   },
   {
    "duration": 427,
    "start_time": "2025-04-14T17:06:37.143Z"
   },
   {
    "duration": 14,
    "start_time": "2025-04-14T17:06:48.962Z"
   },
   {
    "duration": 14,
    "start_time": "2025-04-14T17:07:00.095Z"
   },
   {
    "duration": 16,
    "start_time": "2025-04-14T17:07:07.611Z"
   },
   {
    "duration": 13,
    "start_time": "2025-04-14T17:07:39.910Z"
   },
   {
    "duration": 32,
    "start_time": "2025-04-14T17:07:42.427Z"
   },
   {
    "duration": 12,
    "start_time": "2025-04-14T17:08:20.287Z"
   },
   {
    "duration": 31,
    "start_time": "2025-04-14T17:09:11.625Z"
   },
   {
    "duration": 184,
    "start_time": "2025-04-14T17:09:43.888Z"
   },
   {
    "duration": 326,
    "start_time": "2025-04-14T17:10:28.975Z"
   },
   {
    "duration": 3,
    "start_time": "2025-04-14T17:10:50.673Z"
   },
   {
    "duration": 186,
    "start_time": "2025-04-14T17:10:54.804Z"
   },
   {
    "duration": 179,
    "start_time": "2025-04-14T17:11:24.482Z"
   },
   {
    "duration": 187,
    "start_time": "2025-04-14T17:11:28.223Z"
   },
   {
    "duration": 205,
    "start_time": "2025-04-14T17:11:33.275Z"
   },
   {
    "duration": 201,
    "start_time": "2025-04-14T17:11:40.117Z"
   },
   {
    "duration": 180,
    "start_time": "2025-04-14T17:11:44.808Z"
   },
   {
    "duration": 204,
    "start_time": "2025-04-14T17:11:52.961Z"
   },
   {
    "duration": 223,
    "start_time": "2025-04-14T17:12:13.687Z"
   },
   {
    "duration": 9,
    "start_time": "2025-04-14T17:12:26.661Z"
   },
   {
    "duration": 209,
    "start_time": "2025-04-14T17:12:34.053Z"
   },
   {
    "duration": 200,
    "start_time": "2025-04-14T17:12:40.101Z"
   },
   {
    "duration": 13,
    "start_time": "2025-04-14T17:13:50.497Z"
   },
   {
    "duration": 5,
    "start_time": "2025-04-14T17:13:58.562Z"
   },
   {
    "duration": 10,
    "start_time": "2025-04-14T17:14:00.939Z"
   },
   {
    "duration": 12,
    "start_time": "2025-04-14T17:14:13.677Z"
   },
   {
    "duration": 152,
    "start_time": "2025-04-14T17:14:44.169Z"
   },
   {
    "duration": 146,
    "start_time": "2025-04-14T17:14:55.030Z"
   },
   {
    "duration": 95,
    "start_time": "2025-04-14T17:15:01.872Z"
   },
   {
    "duration": 149,
    "start_time": "2025-04-14T17:15:05.525Z"
   },
   {
    "duration": 143,
    "start_time": "2025-04-14T17:15:22.961Z"
   },
   {
    "duration": 6,
    "start_time": "2025-04-14T17:15:45.746Z"
   },
   {
    "duration": 5,
    "start_time": "2025-04-14T17:15:47.885Z"
   },
   {
    "duration": 294,
    "start_time": "2025-04-14T17:16:21.017Z"
   },
   {
    "duration": 313,
    "start_time": "2025-04-14T17:16:35.863Z"
   },
   {
    "duration": 308,
    "start_time": "2025-04-14T17:16:41.706Z"
   },
   {
    "duration": 340,
    "start_time": "2025-04-14T17:16:44.826Z"
   },
   {
    "duration": 587,
    "start_time": "2025-04-14T17:17:09.089Z"
   },
   {
    "duration": 162,
    "start_time": "2025-04-14T17:18:00.040Z"
   },
   {
    "duration": 368,
    "start_time": "2025-04-14T17:18:13.013Z"
   },
   {
    "duration": 21,
    "start_time": "2025-04-14T17:18:43.576Z"
   },
   {
    "duration": 27,
    "start_time": "2025-04-14T17:18:52.442Z"
   },
   {
    "duration": 206,
    "start_time": "2025-04-14T17:19:04.608Z"
   },
   {
    "duration": 19,
    "start_time": "2025-04-14T17:24:27.805Z"
   },
   {
    "duration": 15,
    "start_time": "2025-04-14T17:24:40.709Z"
   },
   {
    "duration": 669,
    "start_time": "2025-04-14T17:27:26.673Z"
   },
   {
    "duration": 112,
    "start_time": "2025-04-14T17:27:27.344Z"
   },
   {
    "duration": 16,
    "start_time": "2025-04-14T17:27:27.459Z"
   },
   {
    "duration": 20,
    "start_time": "2025-04-14T17:27:27.477Z"
   },
   {
    "duration": 7,
    "start_time": "2025-04-14T17:27:27.500Z"
   },
   {
    "duration": 47,
    "start_time": "2025-04-14T17:27:27.509Z"
   },
   {
    "duration": 18,
    "start_time": "2025-04-14T17:27:27.562Z"
   },
   {
    "duration": 6,
    "start_time": "2025-04-14T17:27:27.581Z"
   },
   {
    "duration": 6,
    "start_time": "2025-04-14T17:27:27.589Z"
   },
   {
    "duration": 12,
    "start_time": "2025-04-14T17:27:27.596Z"
   },
   {
    "duration": 13,
    "start_time": "2025-04-14T17:27:27.610Z"
   },
   {
    "duration": 32,
    "start_time": "2025-04-14T17:27:27.640Z"
   },
   {
    "duration": 5,
    "start_time": "2025-04-14T17:27:27.675Z"
   },
   {
    "duration": 4,
    "start_time": "2025-04-14T17:27:27.683Z"
   },
   {
    "duration": 216,
    "start_time": "2025-04-14T17:27:27.688Z"
   },
   {
    "duration": 177,
    "start_time": "2025-04-14T17:27:27.905Z"
   },
   {
    "duration": 384,
    "start_time": "2025-04-14T17:27:28.084Z"
   },
   {
    "duration": 11,
    "start_time": "2025-04-14T17:27:28.472Z"
   },
   {
    "duration": 14,
    "start_time": "2025-04-14T17:27:33.585Z"
   },
   {
    "duration": 643,
    "start_time": "2025-04-14T17:28:20.155Z"
   },
   {
    "duration": 285,
    "start_time": "2025-04-14T17:28:28.239Z"
   },
   {
    "duration": 7,
    "start_time": "2025-04-14T17:29:48.920Z"
   },
   {
    "duration": 6,
    "start_time": "2025-04-14T17:30:23.260Z"
   },
   {
    "duration": 5,
    "start_time": "2025-04-14T17:30:25.797Z"
   },
   {
    "duration": 25,
    "start_time": "2025-04-14T17:30:59.162Z"
   },
   {
    "duration": 195,
    "start_time": "2025-04-14T17:31:08.675Z"
   },
   {
    "duration": 0,
    "start_time": "2025-04-14T17:31:36.882Z"
   },
   {
    "duration": 742,
    "start_time": "2025-04-14T17:31:40.347Z"
   },
   {
    "duration": 125,
    "start_time": "2025-04-14T17:31:41.091Z"
   },
   {
    "duration": 12,
    "start_time": "2025-04-14T17:31:41.218Z"
   },
   {
    "duration": 22,
    "start_time": "2025-04-14T17:31:41.232Z"
   },
   {
    "duration": 16,
    "start_time": "2025-04-14T17:31:41.259Z"
   },
   {
    "duration": 17,
    "start_time": "2025-04-14T17:31:41.277Z"
   },
   {
    "duration": 16,
    "start_time": "2025-04-14T17:31:41.296Z"
   },
   {
    "duration": 19,
    "start_time": "2025-04-14T17:31:41.335Z"
   },
   {
    "duration": 17,
    "start_time": "2025-04-14T17:31:41.359Z"
   },
   {
    "duration": 16,
    "start_time": "2025-04-14T17:31:41.379Z"
   },
   {
    "duration": 20,
    "start_time": "2025-04-14T17:31:41.397Z"
   },
   {
    "duration": 10,
    "start_time": "2025-04-14T17:31:41.419Z"
   },
   {
    "duration": 17,
    "start_time": "2025-04-14T17:31:41.431Z"
   },
   {
    "duration": 6,
    "start_time": "2025-04-14T17:31:41.451Z"
   },
   {
    "duration": 228,
    "start_time": "2025-04-14T17:31:41.458Z"
   },
   {
    "duration": 178,
    "start_time": "2025-04-14T17:31:41.688Z"
   },
   {
    "duration": 383,
    "start_time": "2025-04-14T17:31:41.867Z"
   },
   {
    "duration": 252,
    "start_time": "2025-04-14T17:31:42.252Z"
   },
   {
    "duration": 181,
    "start_time": "2025-04-14T17:32:19.732Z"
   },
   {
    "duration": 179,
    "start_time": "2025-04-14T17:32:39.486Z"
   },
   {
    "duration": 171,
    "start_time": "2025-04-14T17:32:51.375Z"
   },
   {
    "duration": 201,
    "start_time": "2025-04-14T17:32:56.427Z"
   },
   {
    "duration": 291,
    "start_time": "2025-04-14T17:33:30.989Z"
   },
   {
    "duration": 277,
    "start_time": "2025-04-14T17:34:36.635Z"
   },
   {
    "duration": 289,
    "start_time": "2025-04-14T17:34:44.300Z"
   },
   {
    "duration": 259,
    "start_time": "2025-04-14T17:34:46.256Z"
   },
   {
    "duration": 6,
    "start_time": "2025-04-14T17:35:03.486Z"
   },
   {
    "duration": 9,
    "start_time": "2025-04-14T17:35:12.640Z"
   },
   {
    "duration": 5,
    "start_time": "2025-04-14T17:35:17.975Z"
   },
   {
    "duration": 24,
    "start_time": "2025-04-14T17:35:33.548Z"
   },
   {
    "duration": 12,
    "start_time": "2025-04-14T17:35:47.804Z"
   },
   {
    "duration": 13,
    "start_time": "2025-04-14T17:35:54.381Z"
   },
   {
    "duration": 16,
    "start_time": "2025-04-14T17:35:56.780Z"
   },
   {
    "duration": 24,
    "start_time": "2025-04-14T17:36:05.059Z"
   },
   {
    "duration": 62,
    "start_time": "2025-04-14T17:38:57.962Z"
   },
   {
    "duration": 24,
    "start_time": "2025-04-14T17:39:47.034Z"
   },
   {
    "duration": 20,
    "start_time": "2025-04-14T17:40:02.364Z"
   },
   {
    "duration": 281,
    "start_time": "2025-04-14T17:40:48.634Z"
   },
   {
    "duration": 13,
    "start_time": "2025-04-14T17:42:06.784Z"
   },
   {
    "duration": 267,
    "start_time": "2025-04-14T17:42:18.076Z"
   },
   {
    "duration": 16,
    "start_time": "2025-04-14T17:42:26.625Z"
   },
   {
    "duration": 94,
    "start_time": "2025-04-14T17:43:07.293Z"
   },
   {
    "duration": 12,
    "start_time": "2025-04-14T17:43:09.421Z"
   },
   {
    "duration": 9,
    "start_time": "2025-04-14T17:53:51.815Z"
   },
   {
    "duration": 19,
    "start_time": "2025-04-14T17:53:58.764Z"
   },
   {
    "duration": 28,
    "start_time": "2025-04-14T17:54:33.547Z"
   },
   {
    "duration": 13,
    "start_time": "2025-04-14T17:54:58.973Z"
   },
   {
    "duration": 21,
    "start_time": "2025-04-14T17:56:07.364Z"
   },
   {
    "duration": 26,
    "start_time": "2025-04-14T17:56:12.825Z"
   },
   {
    "duration": 71,
    "start_time": "2025-04-14T17:56:23.253Z"
   },
   {
    "duration": 16,
    "start_time": "2025-04-14T17:56:29.471Z"
   },
   {
    "duration": 30,
    "start_time": "2025-04-14T17:56:52.154Z"
   },
   {
    "duration": 97,
    "start_time": "2025-04-14T17:57:29.574Z"
   },
   {
    "duration": 22,
    "start_time": "2025-04-14T17:57:48.167Z"
   },
   {
    "duration": 16,
    "start_time": "2025-04-14T17:57:58.993Z"
   },
   {
    "duration": 7,
    "start_time": "2025-04-14T18:01:22.297Z"
   },
   {
    "duration": 8,
    "start_time": "2025-04-14T18:01:25.995Z"
   },
   {
    "duration": 19,
    "start_time": "2025-04-14T18:01:28.915Z"
   },
   {
    "duration": 4,
    "start_time": "2025-04-14T18:01:39.379Z"
   },
   {
    "duration": 8,
    "start_time": "2025-04-14T18:01:41.608Z"
   },
   {
    "duration": 10,
    "start_time": "2025-04-14T18:02:09.675Z"
   },
   {
    "duration": 10,
    "start_time": "2025-04-14T18:02:30.221Z"
   },
   {
    "duration": 11,
    "start_time": "2025-04-14T18:02:53.410Z"
   },
   {
    "duration": 196,
    "start_time": "2025-04-14T18:09:36.098Z"
   },
   {
    "duration": 275,
    "start_time": "2025-04-14T18:10:35.479Z"
   },
   {
    "duration": 215,
    "start_time": "2025-04-14T18:10:58.933Z"
   },
   {
    "duration": 267,
    "start_time": "2025-04-14T18:11:21.446Z"
   },
   {
    "duration": 21,
    "start_time": "2025-04-14T18:22:26.446Z"
   },
   {
    "duration": 16,
    "start_time": "2025-04-14T18:24:44.295Z"
   },
   {
    "duration": 21,
    "start_time": "2025-04-14T18:25:05.863Z"
   },
   {
    "duration": 17,
    "start_time": "2025-04-14T18:26:36.673Z"
   },
   {
    "duration": 17,
    "start_time": "2025-04-14T18:26:51.541Z"
   },
   {
    "duration": 17,
    "start_time": "2025-04-14T18:27:05.268Z"
   },
   {
    "duration": 23,
    "start_time": "2025-04-14T18:27:11.744Z"
   },
   {
    "duration": 16,
    "start_time": "2025-04-14T18:27:21.121Z"
   },
   {
    "duration": 22,
    "start_time": "2025-04-14T18:27:25.554Z"
   },
   {
    "duration": 31,
    "start_time": "2025-04-14T18:30:40.762Z"
   },
   {
    "duration": 39,
    "start_time": "2025-04-14T18:31:38.340Z"
   },
   {
    "duration": 23,
    "start_time": "2025-04-14T18:31:42.683Z"
   },
   {
    "duration": 61,
    "start_time": "2025-04-14T18:32:02.443Z"
   },
   {
    "duration": 7585,
    "start_time": "2025-04-14T18:32:07.667Z"
   },
   {
    "duration": 47,
    "start_time": "2025-04-14T18:32:39.252Z"
   },
   {
    "duration": 34,
    "start_time": "2025-04-14T18:33:19.031Z"
   },
   {
    "duration": 28,
    "start_time": "2025-04-14T18:34:26.667Z"
   },
   {
    "duration": 19,
    "start_time": "2025-04-14T18:34:52.986Z"
   },
   {
    "duration": 29,
    "start_time": "2025-04-14T18:35:44.638Z"
   },
   {
    "duration": 25,
    "start_time": "2025-04-14T18:38:32.847Z"
   },
   {
    "duration": 80,
    "start_time": "2025-04-14T18:39:15.970Z"
   },
   {
    "duration": 52,
    "start_time": "2025-04-14T18:39:46.427Z"
   },
   {
    "duration": 53,
    "start_time": "2025-04-14T18:40:05.200Z"
   },
   {
    "duration": 1070,
    "start_time": "2025-04-14T18:58:11.243Z"
   },
   {
    "duration": 1244,
    "start_time": "2025-04-14T18:58:25.489Z"
   },
   {
    "duration": 54,
    "start_time": "2025-04-14T18:58:30.783Z"
   },
   {
    "duration": 48,
    "start_time": "2025-04-14T18:59:30.224Z"
   },
   {
    "duration": 43,
    "start_time": "2025-04-14T18:59:46.230Z"
   },
   {
    "duration": 36,
    "start_time": "2025-04-14T19:00:02.233Z"
   },
   {
    "duration": 52,
    "start_time": "2025-04-14T19:00:05.228Z"
   },
   {
    "duration": 39,
    "start_time": "2025-04-14T19:00:31.378Z"
   },
   {
    "duration": 3,
    "start_time": "2025-04-14T19:00:43.501Z"
   },
   {
    "duration": 50,
    "start_time": "2025-04-14T19:00:47.674Z"
   },
   {
    "duration": 6,
    "start_time": "2025-04-14T19:06:18.123Z"
   },
   {
    "duration": 3,
    "start_time": "2025-04-14T19:06:44.395Z"
   },
   {
    "duration": 488,
    "start_time": "2025-04-14T19:07:13.740Z"
   },
   {
    "duration": 5,
    "start_time": "2025-04-14T19:08:21.134Z"
   },
   {
    "duration": 8,
    "start_time": "2025-04-14T19:09:04.264Z"
   },
   {
    "duration": 7,
    "start_time": "2025-04-14T19:09:26.104Z"
   },
   {
    "duration": 7,
    "start_time": "2025-04-14T19:10:04.005Z"
   },
   {
    "duration": 7,
    "start_time": "2025-04-14T19:11:11.825Z"
   },
   {
    "duration": 9,
    "start_time": "2025-04-14T19:11:37.706Z"
   },
   {
    "duration": 9,
    "start_time": "2025-04-14T19:12:24.388Z"
   },
   {
    "duration": 7,
    "start_time": "2025-04-14T19:12:36.767Z"
   },
   {
    "duration": 7,
    "start_time": "2025-04-14T19:13:14.006Z"
   },
   {
    "duration": 7,
    "start_time": "2025-04-14T19:15:15.262Z"
   },
   {
    "duration": 7,
    "start_time": "2025-04-14T19:24:32.769Z"
   },
   {
    "duration": 55,
    "start_time": "2025-04-14T19:26:31.803Z"
   },
   {
    "duration": 6,
    "start_time": "2025-04-14T19:26:35.850Z"
   },
   {
    "duration": 9,
    "start_time": "2025-04-14T19:32:05.130Z"
   },
   {
    "duration": 8,
    "start_time": "2025-04-14T19:32:23.307Z"
   },
   {
    "duration": 16,
    "start_time": "2025-04-14T19:32:39.125Z"
   },
   {
    "duration": 15,
    "start_time": "2025-04-14T19:33:39.534Z"
   },
   {
    "duration": 9,
    "start_time": "2025-04-14T19:33:44.428Z"
   },
   {
    "duration": 8,
    "start_time": "2025-04-14T19:34:09.020Z"
   },
   {
    "duration": 218,
    "start_time": "2025-04-14T19:54:35.419Z"
   },
   {
    "duration": 247,
    "start_time": "2025-04-14T19:54:47.348Z"
   },
   {
    "duration": 231,
    "start_time": "2025-04-14T19:56:28.181Z"
   },
   {
    "duration": 225,
    "start_time": "2025-04-14T19:56:43.321Z"
   },
   {
    "duration": 1504,
    "start_time": "2025-04-14T19:58:09.309Z"
   },
   {
    "duration": 227,
    "start_time": "2025-04-14T19:58:18.168Z"
   },
   {
    "duration": 1667,
    "start_time": "2025-04-14T19:58:57.358Z"
   },
   {
    "duration": 266,
    "start_time": "2025-04-14T19:59:51.243Z"
   },
   {
    "duration": 233,
    "start_time": "2025-04-14T20:00:05.584Z"
   },
   {
    "duration": 109,
    "start_time": "2025-04-14T20:00:08.687Z"
   },
   {
    "duration": 178,
    "start_time": "2025-04-14T20:00:15.630Z"
   },
   {
    "duration": 362,
    "start_time": "2025-04-14T20:00:18.719Z"
   },
   {
    "duration": 137,
    "start_time": "2025-04-14T20:00:22.266Z"
   },
   {
    "duration": 213,
    "start_time": "2025-04-14T20:00:25.887Z"
   },
   {
    "duration": 218,
    "start_time": "2025-04-14T20:00:29.103Z"
   },
   {
    "duration": 340,
    "start_time": "2025-04-14T20:00:53.477Z"
   },
   {
    "duration": 236,
    "start_time": "2025-04-14T20:00:59.533Z"
   },
   {
    "duration": 248,
    "start_time": "2025-04-14T20:01:04.120Z"
   },
   {
    "duration": 361,
    "start_time": "2025-04-14T20:01:06.491Z"
   },
   {
    "duration": 325,
    "start_time": "2025-04-14T20:01:09.414Z"
   },
   {
    "duration": 346,
    "start_time": "2025-04-14T20:01:22.124Z"
   },
   {
    "duration": 190,
    "start_time": "2025-04-14T20:01:35.185Z"
   },
   {
    "duration": 216,
    "start_time": "2025-04-14T20:02:23.627Z"
   },
   {
    "duration": 235,
    "start_time": "2025-04-14T20:03:07.041Z"
   },
   {
    "duration": 200,
    "start_time": "2025-04-14T20:03:12.123Z"
   },
   {
    "duration": 222,
    "start_time": "2025-04-14T20:03:44.943Z"
   },
   {
    "duration": 60,
    "start_time": "2025-04-14T20:04:19.753Z"
   },
   {
    "duration": 71,
    "start_time": "2025-04-14T20:04:28.131Z"
   },
   {
    "duration": 70,
    "start_time": "2025-04-14T20:05:34.716Z"
   },
   {
    "duration": 62,
    "start_time": "2025-04-14T20:05:38.911Z"
   },
   {
    "duration": 179,
    "start_time": "2025-04-14T20:05:41.483Z"
   },
   {
    "duration": 439,
    "start_time": "2025-04-14T20:06:04.126Z"
   },
   {
    "duration": 4,
    "start_time": "2025-04-14T20:06:09.539Z"
   },
   {
    "duration": 995,
    "start_time": "2025-04-14T20:06:39.285Z"
   },
   {
    "duration": 84,
    "start_time": "2025-04-14T20:06:40.282Z"
   },
   {
    "duration": 10,
    "start_time": "2025-04-14T20:06:40.367Z"
   },
   {
    "duration": 13,
    "start_time": "2025-04-14T20:06:40.379Z"
   },
   {
    "duration": 5,
    "start_time": "2025-04-14T20:06:40.395Z"
   },
   {
    "duration": 33,
    "start_time": "2025-04-14T20:06:40.402Z"
   },
   {
    "duration": 11,
    "start_time": "2025-04-14T20:06:40.436Z"
   },
   {
    "duration": 4,
    "start_time": "2025-04-14T20:06:40.448Z"
   },
   {
    "duration": 27,
    "start_time": "2025-04-14T20:06:40.453Z"
   },
   {
    "duration": 9,
    "start_time": "2025-04-14T20:06:40.482Z"
   },
   {
    "duration": 10,
    "start_time": "2025-04-14T20:06:40.492Z"
   },
   {
    "duration": 8,
    "start_time": "2025-04-14T20:06:40.503Z"
   },
   {
    "duration": 28,
    "start_time": "2025-04-14T20:06:40.512Z"
   },
   {
    "duration": 19,
    "start_time": "2025-04-14T20:06:40.543Z"
   },
   {
    "duration": 192,
    "start_time": "2025-04-14T20:06:40.564Z"
   },
   {
    "duration": 148,
    "start_time": "2025-04-14T20:06:40.757Z"
   },
   {
    "duration": 305,
    "start_time": "2025-04-14T20:06:40.907Z"
   },
   {
    "duration": 254,
    "start_time": "2025-04-14T20:06:41.214Z"
   },
   {
    "duration": 13,
    "start_time": "2025-04-14T20:06:41.470Z"
   },
   {
    "duration": 227,
    "start_time": "2025-04-14T20:06:41.485Z"
   },
   {
    "duration": 25,
    "start_time": "2025-04-14T20:06:41.714Z"
   },
   {
    "duration": 15,
    "start_time": "2025-04-14T20:06:41.741Z"
   },
   {
    "duration": 14,
    "start_time": "2025-04-14T20:06:41.757Z"
   },
   {
    "duration": 233,
    "start_time": "2025-04-14T20:06:41.772Z"
   },
   {
    "duration": 247,
    "start_time": "2025-04-14T20:06:42.007Z"
   },
   {
    "duration": 224,
    "start_time": "2025-04-14T20:06:42.256Z"
   },
   {
    "duration": 307,
    "start_time": "2025-04-14T20:06:42.482Z"
   },
   {
    "duration": 63,
    "start_time": "2025-04-14T20:06:42.791Z"
   },
   {
    "duration": 9,
    "start_time": "2025-04-14T20:06:42.856Z"
   },
   {
    "duration": 6,
    "start_time": "2025-04-14T20:06:42.867Z"
   },
   {
    "duration": 9,
    "start_time": "2025-04-14T20:06:42.875Z"
   },
   {
    "duration": 3,
    "start_time": "2025-04-14T20:06:42.886Z"
   },
   {
    "duration": 4,
    "start_time": "2025-04-14T20:06:49.491Z"
   },
   {
    "duration": 221,
    "start_time": "2025-04-14T20:07:10.841Z"
   },
   {
    "duration": 1374,
    "start_time": "2025-04-14T20:07:15.319Z"
   },
   {
    "duration": 93,
    "start_time": "2025-04-14T20:07:21.305Z"
   },
   {
    "duration": 1347,
    "start_time": "2025-04-14T20:07:25.177Z"
   },
   {
    "duration": 1405,
    "start_time": "2025-04-14T20:10:48.038Z"
   },
   {
    "duration": 1452,
    "start_time": "2025-04-14T20:11:09.263Z"
   },
   {
    "duration": 1439,
    "start_time": "2025-04-14T20:11:32.042Z"
   },
   {
    "duration": 1532,
    "start_time": "2025-04-14T20:11:41.803Z"
   },
   {
    "duration": 1579,
    "start_time": "2025-04-14T20:12:04.466Z"
   },
   {
    "duration": 1229,
    "start_time": "2025-04-14T20:12:25.544Z"
   },
   {
    "duration": 1713,
    "start_time": "2025-04-14T20:13:05.850Z"
   },
   {
    "duration": 1074,
    "start_time": "2025-04-14T20:13:54.116Z"
   },
   {
    "duration": 87,
    "start_time": "2025-04-14T20:13:55.192Z"
   },
   {
    "duration": 8,
    "start_time": "2025-04-14T20:13:55.281Z"
   },
   {
    "duration": 13,
    "start_time": "2025-04-14T20:13:55.291Z"
   },
   {
    "duration": 6,
    "start_time": "2025-04-14T20:13:55.306Z"
   },
   {
    "duration": 26,
    "start_time": "2025-04-14T20:13:55.313Z"
   },
   {
    "duration": 11,
    "start_time": "2025-04-14T20:13:55.340Z"
   },
   {
    "duration": 5,
    "start_time": "2025-04-14T20:13:55.352Z"
   },
   {
    "duration": 6,
    "start_time": "2025-04-14T20:13:55.358Z"
   },
   {
    "duration": 7,
    "start_time": "2025-04-14T20:13:55.365Z"
   },
   {
    "duration": 8,
    "start_time": "2025-04-14T20:13:55.374Z"
   },
   {
    "duration": 7,
    "start_time": "2025-04-14T20:13:55.383Z"
   },
   {
    "duration": 46,
    "start_time": "2025-04-14T20:13:55.391Z"
   },
   {
    "duration": 5,
    "start_time": "2025-04-14T20:13:55.440Z"
   },
   {
    "duration": 201,
    "start_time": "2025-04-14T20:13:55.447Z"
   },
   {
    "duration": 147,
    "start_time": "2025-04-14T20:13:55.650Z"
   },
   {
    "duration": 335,
    "start_time": "2025-04-14T20:13:55.799Z"
   },
   {
    "duration": 265,
    "start_time": "2025-04-14T20:13:56.135Z"
   },
   {
    "duration": 36,
    "start_time": "2025-04-14T20:13:56.401Z"
   },
   {
    "duration": 254,
    "start_time": "2025-04-14T20:13:56.438Z"
   },
   {
    "duration": 11,
    "start_time": "2025-04-14T20:13:56.693Z"
   },
   {
    "duration": 29,
    "start_time": "2025-04-14T20:13:56.706Z"
   },
   {
    "duration": 13,
    "start_time": "2025-04-14T20:13:56.736Z"
   },
   {
    "duration": 215,
    "start_time": "2025-04-14T20:13:56.751Z"
   },
   {
    "duration": 231,
    "start_time": "2025-04-14T20:13:56.968Z"
   },
   {
    "duration": 221,
    "start_time": "2025-04-14T20:13:57.201Z"
   },
   {
    "duration": 291,
    "start_time": "2025-04-14T20:13:57.424Z"
   },
   {
    "duration": 60,
    "start_time": "2025-04-14T20:13:57.716Z"
   },
   {
    "duration": 6,
    "start_time": "2025-04-14T20:13:57.777Z"
   },
   {
    "duration": 13,
    "start_time": "2025-04-14T20:13:57.785Z"
   },
   {
    "duration": 11,
    "start_time": "2025-04-14T20:13:57.799Z"
   },
   {
    "duration": 1087,
    "start_time": "2025-04-14T20:14:14.198Z"
   },
   {
    "duration": 85,
    "start_time": "2025-04-14T20:14:15.287Z"
   },
   {
    "duration": 8,
    "start_time": "2025-04-14T20:14:15.374Z"
   },
   {
    "duration": 24,
    "start_time": "2025-04-14T20:14:15.383Z"
   },
   {
    "duration": 6,
    "start_time": "2025-04-14T20:14:15.409Z"
   },
   {
    "duration": 13,
    "start_time": "2025-04-14T20:14:15.416Z"
   },
   {
    "duration": 10,
    "start_time": "2025-04-14T20:14:15.434Z"
   },
   {
    "duration": 4,
    "start_time": "2025-04-14T20:14:15.446Z"
   },
   {
    "duration": 7,
    "start_time": "2025-04-14T20:14:15.451Z"
   },
   {
    "duration": 7,
    "start_time": "2025-04-14T20:14:15.459Z"
   },
   {
    "duration": 7,
    "start_time": "2025-04-14T20:14:15.468Z"
   },
   {
    "duration": 7,
    "start_time": "2025-04-14T20:14:15.477Z"
   },
   {
    "duration": 5,
    "start_time": "2025-04-14T20:14:15.485Z"
   },
   {
    "duration": 45,
    "start_time": "2025-04-14T20:14:15.493Z"
   },
   {
    "duration": 192,
    "start_time": "2025-04-14T20:14:15.539Z"
   },
   {
    "duration": 143,
    "start_time": "2025-04-14T20:14:15.733Z"
   },
   {
    "duration": 305,
    "start_time": "2025-04-14T20:14:15.878Z"
   },
   {
    "duration": 240,
    "start_time": "2025-04-14T20:14:16.184Z"
   },
   {
    "duration": 11,
    "start_time": "2025-04-14T20:14:16.425Z"
   },
   {
    "duration": 263,
    "start_time": "2025-04-14T20:14:16.438Z"
   },
   {
    "duration": 11,
    "start_time": "2025-04-14T20:14:16.702Z"
   },
   {
    "duration": 26,
    "start_time": "2025-04-14T20:14:16.715Z"
   },
   {
    "duration": 13,
    "start_time": "2025-04-14T20:14:16.743Z"
   },
   {
    "duration": 222,
    "start_time": "2025-04-14T20:14:16.758Z"
   },
   {
    "duration": 238,
    "start_time": "2025-04-14T20:14:16.981Z"
   },
   {
    "duration": 226,
    "start_time": "2025-04-14T20:14:17.221Z"
   },
   {
    "duration": 296,
    "start_time": "2025-04-14T20:14:17.448Z"
   },
   {
    "duration": 48,
    "start_time": "2025-04-14T20:14:17.745Z"
   },
   {
    "duration": 7,
    "start_time": "2025-04-14T20:14:17.795Z"
   },
   {
    "duration": 32,
    "start_time": "2025-04-14T20:14:17.804Z"
   },
   {
    "duration": 8,
    "start_time": "2025-04-14T20:14:17.838Z"
   },
   {
    "duration": 1321,
    "start_time": "2025-04-14T20:14:17.847Z"
   },
   {
    "duration": 1308,
    "start_time": "2025-04-14T20:14:24.928Z"
   },
   {
    "duration": 1040,
    "start_time": "2025-04-14T20:15:34.951Z"
   },
   {
    "duration": 88,
    "start_time": "2025-04-14T20:15:35.992Z"
   },
   {
    "duration": 9,
    "start_time": "2025-04-14T20:15:36.081Z"
   },
   {
    "duration": 14,
    "start_time": "2025-04-14T20:15:36.091Z"
   },
   {
    "duration": 9,
    "start_time": "2025-04-14T20:15:36.107Z"
   },
   {
    "duration": 19,
    "start_time": "2025-04-14T20:15:36.117Z"
   },
   {
    "duration": 11,
    "start_time": "2025-04-14T20:15:36.138Z"
   },
   {
    "duration": 7,
    "start_time": "2025-04-14T20:15:36.151Z"
   },
   {
    "duration": 8,
    "start_time": "2025-04-14T20:15:36.160Z"
   },
   {
    "duration": 10,
    "start_time": "2025-04-14T20:15:36.170Z"
   },
   {
    "duration": 8,
    "start_time": "2025-04-14T20:15:36.181Z"
   },
   {
    "duration": 45,
    "start_time": "2025-04-14T20:15:36.191Z"
   },
   {
    "duration": 79,
    "start_time": "2025-04-14T20:15:36.238Z"
   },
   {
    "duration": 4,
    "start_time": "2025-04-14T20:15:36.320Z"
   },
   {
    "duration": 178,
    "start_time": "2025-04-14T20:15:36.325Z"
   },
   {
    "duration": 173,
    "start_time": "2025-04-14T20:15:36.504Z"
   },
   {
    "duration": 314,
    "start_time": "2025-04-14T20:15:36.678Z"
   },
   {
    "duration": 251,
    "start_time": "2025-04-14T20:15:36.993Z"
   },
   {
    "duration": 13,
    "start_time": "2025-04-14T20:15:37.246Z"
   },
   {
    "duration": 233,
    "start_time": "2025-04-14T20:15:37.260Z"
   },
   {
    "duration": 13,
    "start_time": "2025-04-14T20:15:37.494Z"
   },
   {
    "duration": 31,
    "start_time": "2025-04-14T20:15:37.509Z"
   },
   {
    "duration": 14,
    "start_time": "2025-04-14T20:15:37.541Z"
   },
   {
    "duration": 217,
    "start_time": "2025-04-14T20:15:37.556Z"
   },
   {
    "duration": 234,
    "start_time": "2025-04-14T20:15:37.774Z"
   },
   {
    "duration": 211,
    "start_time": "2025-04-14T20:15:38.009Z"
   },
   {
    "duration": 287,
    "start_time": "2025-04-14T20:15:38.222Z"
   },
   {
    "duration": 56,
    "start_time": "2025-04-14T20:15:38.510Z"
   },
   {
    "duration": 7,
    "start_time": "2025-04-14T20:15:38.567Z"
   },
   {
    "duration": 7,
    "start_time": "2025-04-14T20:15:38.575Z"
   },
   {
    "duration": 11,
    "start_time": "2025-04-14T20:15:38.583Z"
   },
   {
    "duration": 282,
    "start_time": "2025-04-14T20:15:38.596Z"
   },
   {
    "duration": 2651,
    "start_time": "2025-04-14T20:16:43.990Z"
   },
   {
    "duration": 194,
    "start_time": "2025-04-14T20:16:49.621Z"
   },
   {
    "duration": 192,
    "start_time": "2025-04-14T20:16:59.856Z"
   },
   {
    "duration": 189,
    "start_time": "2025-04-14T20:17:17.146Z"
   },
   {
    "duration": 188,
    "start_time": "2025-04-14T20:17:21.501Z"
   },
   {
    "duration": 326,
    "start_time": "2025-04-14T20:17:24.231Z"
   },
   {
    "duration": 497,
    "start_time": "2025-04-14T20:18:02.138Z"
   },
   {
    "duration": 1767,
    "start_time": "2025-04-14T20:18:22.624Z"
   },
   {
    "duration": 860,
    "start_time": "2025-04-14T20:18:34.781Z"
   },
   {
    "duration": 1797,
    "start_time": "2025-04-14T20:18:45.788Z"
   },
   {
    "duration": 3666,
    "start_time": "2025-04-14T20:19:04.515Z"
   },
   {
    "duration": 1969,
    "start_time": "2025-04-14T20:19:11.317Z"
   },
   {
    "duration": 1362,
    "start_time": "2025-04-14T20:20:47.788Z"
   },
   {
    "duration": 1965,
    "start_time": "2025-04-14T20:20:57.621Z"
   },
   {
    "duration": 2236,
    "start_time": "2025-04-14T20:21:02.652Z"
   },
   {
    "duration": 1571,
    "start_time": "2025-04-14T20:21:07.579Z"
   },
   {
    "duration": 1375,
    "start_time": "2025-04-14T20:22:14.860Z"
   },
   {
    "duration": 2165,
    "start_time": "2025-04-14T20:22:50.184Z"
   },
   {
    "duration": 137,
    "start_time": "2025-04-14T20:25:27.769Z"
   },
   {
    "duration": 1088,
    "start_time": "2025-04-14T20:26:28.609Z"
   },
   {
    "duration": 84,
    "start_time": "2025-04-14T20:26:29.698Z"
   },
   {
    "duration": 9,
    "start_time": "2025-04-14T20:26:29.784Z"
   },
   {
    "duration": 18,
    "start_time": "2025-04-14T20:26:29.794Z"
   },
   {
    "duration": 6,
    "start_time": "2025-04-14T20:26:29.814Z"
   },
   {
    "duration": 19,
    "start_time": "2025-04-14T20:26:29.821Z"
   },
   {
    "duration": 10,
    "start_time": "2025-04-14T20:26:29.841Z"
   },
   {
    "duration": 4,
    "start_time": "2025-04-14T20:26:29.853Z"
   },
   {
    "duration": 12,
    "start_time": "2025-04-14T20:26:29.859Z"
   },
   {
    "duration": 15,
    "start_time": "2025-04-14T20:26:29.873Z"
   },
   {
    "duration": 8,
    "start_time": "2025-04-14T20:26:29.889Z"
   },
   {
    "duration": 10,
    "start_time": "2025-04-14T20:26:29.899Z"
   },
   {
    "duration": 27,
    "start_time": "2025-04-14T20:26:29.911Z"
   },
   {
    "duration": 4,
    "start_time": "2025-04-14T20:26:29.940Z"
   },
   {
    "duration": 191,
    "start_time": "2025-04-14T20:26:29.946Z"
   },
   {
    "duration": 141,
    "start_time": "2025-04-14T20:26:30.138Z"
   },
   {
    "duration": 299,
    "start_time": "2025-04-14T20:26:30.281Z"
   },
   {
    "duration": 254,
    "start_time": "2025-04-14T20:26:30.582Z"
   },
   {
    "duration": 11,
    "start_time": "2025-04-14T20:26:30.837Z"
   },
   {
    "duration": 298,
    "start_time": "2025-04-14T20:26:30.849Z"
   },
   {
    "duration": 11,
    "start_time": "2025-04-14T20:26:31.148Z"
   },
   {
    "duration": 41,
    "start_time": "2025-04-14T20:26:31.161Z"
   },
   {
    "duration": 13,
    "start_time": "2025-04-14T20:26:31.203Z"
   },
   {
    "duration": 190,
    "start_time": "2025-04-14T20:26:31.217Z"
   },
   {
    "duration": 239,
    "start_time": "2025-04-14T20:26:31.408Z"
   },
   {
    "duration": 211,
    "start_time": "2025-04-14T20:26:31.649Z"
   },
   {
    "duration": 284,
    "start_time": "2025-04-14T20:26:31.862Z"
   },
   {
    "duration": 47,
    "start_time": "2025-04-14T20:26:32.148Z"
   },
   {
    "duration": 7,
    "start_time": "2025-04-14T20:26:32.196Z"
   },
   {
    "duration": 32,
    "start_time": "2025-04-14T20:26:32.204Z"
   },
   {
    "duration": 9,
    "start_time": "2025-04-14T20:26:32.237Z"
   },
   {
    "duration": 154,
    "start_time": "2025-04-14T20:26:32.247Z"
   },
   {
    "duration": 118,
    "start_time": "2025-04-14T20:27:05.235Z"
   },
   {
    "duration": 135,
    "start_time": "2025-04-14T20:27:13.915Z"
   },
   {
    "duration": 1569,
    "start_time": "2025-04-14T20:28:43.387Z"
   },
   {
    "duration": 146,
    "start_time": "2025-04-14T20:32:37.510Z"
   },
   {
    "duration": 1617,
    "start_time": "2025-04-14T20:34:15.520Z"
   },
   {
    "duration": 89,
    "start_time": "2025-04-14T20:39:47.636Z"
   },
   {
    "duration": 3,
    "start_time": "2025-04-14T20:39:57.315Z"
   },
   {
    "duration": 4,
    "start_time": "2025-04-14T20:40:15.780Z"
   },
   {
    "duration": 133,
    "start_time": "2025-04-14T20:40:33.873Z"
   },
   {
    "duration": 126,
    "start_time": "2025-04-14T20:42:08.349Z"
   },
   {
    "duration": 4,
    "start_time": "2025-04-14T20:43:01.252Z"
   },
   {
    "duration": 300,
    "start_time": "2025-04-14T20:43:15.358Z"
   },
   {
    "duration": 1675,
    "start_time": "2025-04-14T20:43:36.034Z"
   },
   {
    "duration": 1089,
    "start_time": "2025-04-14T20:44:56.532Z"
   },
   {
    "duration": 99,
    "start_time": "2025-04-14T20:44:57.623Z"
   },
   {
    "duration": 9,
    "start_time": "2025-04-14T20:44:57.725Z"
   },
   {
    "duration": 14,
    "start_time": "2025-04-14T20:44:57.736Z"
   },
   {
    "duration": 6,
    "start_time": "2025-04-14T20:44:57.751Z"
   },
   {
    "duration": 14,
    "start_time": "2025-04-14T20:44:57.758Z"
   },
   {
    "duration": 10,
    "start_time": "2025-04-14T20:44:57.774Z"
   },
   {
    "duration": 4,
    "start_time": "2025-04-14T20:44:57.785Z"
   },
   {
    "duration": 7,
    "start_time": "2025-04-14T20:44:57.790Z"
   },
   {
    "duration": 37,
    "start_time": "2025-04-14T20:44:57.798Z"
   },
   {
    "duration": 9,
    "start_time": "2025-04-14T20:44:57.837Z"
   },
   {
    "duration": 12,
    "start_time": "2025-04-14T20:44:57.847Z"
   },
   {
    "duration": 5,
    "start_time": "2025-04-14T20:44:57.862Z"
   },
   {
    "duration": 3,
    "start_time": "2025-04-14T20:44:57.869Z"
   },
   {
    "duration": 209,
    "start_time": "2025-04-14T20:44:57.873Z"
   },
   {
    "duration": 138,
    "start_time": "2025-04-14T20:44:58.083Z"
   },
   {
    "duration": 312,
    "start_time": "2025-04-14T20:44:58.223Z"
   },
   {
    "duration": 251,
    "start_time": "2025-04-14T20:44:58.537Z"
   },
   {
    "duration": 11,
    "start_time": "2025-04-14T20:44:58.790Z"
   },
   {
    "duration": 222,
    "start_time": "2025-04-14T20:44:58.803Z"
   },
   {
    "duration": 16,
    "start_time": "2025-04-14T20:44:59.026Z"
   },
   {
    "duration": 16,
    "start_time": "2025-04-14T20:44:59.044Z"
   },
   {
    "duration": 14,
    "start_time": "2025-04-14T20:44:59.061Z"
   },
   {
    "duration": 240,
    "start_time": "2025-04-14T20:44:59.077Z"
   },
   {
    "duration": 233,
    "start_time": "2025-04-14T20:44:59.318Z"
   },
   {
    "duration": 215,
    "start_time": "2025-04-14T20:44:59.553Z"
   },
   {
    "duration": 288,
    "start_time": "2025-04-14T20:44:59.769Z"
   },
   {
    "duration": 52,
    "start_time": "2025-04-14T20:45:00.058Z"
   },
   {
    "duration": 25,
    "start_time": "2025-04-14T20:45:00.111Z"
   },
   {
    "duration": 20,
    "start_time": "2025-04-14T20:45:00.138Z"
   },
   {
    "duration": 41,
    "start_time": "2025-04-14T20:45:00.160Z"
   },
   {
    "duration": 1594,
    "start_time": "2025-04-14T20:45:00.202Z"
   },
   {
    "duration": 3,
    "start_time": "2025-04-14T20:45:01.798Z"
   },
   {
    "duration": 71,
    "start_time": "2025-04-14T20:45:01.802Z"
   },
   {
    "duration": 135,
    "start_time": "2025-04-14T20:46:32.206Z"
   },
   {
    "duration": 126,
    "start_time": "2025-04-14T20:47:09.712Z"
   },
   {
    "duration": 1243,
    "start_time": "2025-04-14T20:48:33.946Z"
   },
   {
    "duration": 88,
    "start_time": "2025-04-14T20:48:35.191Z"
   },
   {
    "duration": 10,
    "start_time": "2025-04-14T20:48:35.280Z"
   },
   {
    "duration": 32,
    "start_time": "2025-04-14T20:48:35.291Z"
   },
   {
    "duration": 6,
    "start_time": "2025-04-14T20:48:35.325Z"
   },
   {
    "duration": 11,
    "start_time": "2025-04-14T20:48:35.332Z"
   },
   {
    "duration": 11,
    "start_time": "2025-04-14T20:48:35.344Z"
   },
   {
    "duration": 5,
    "start_time": "2025-04-14T20:48:35.356Z"
   },
   {
    "duration": 10,
    "start_time": "2025-04-14T20:48:35.362Z"
   },
   {
    "duration": 10,
    "start_time": "2025-04-14T20:48:35.373Z"
   },
   {
    "duration": 15,
    "start_time": "2025-04-14T20:48:35.385Z"
   },
   {
    "duration": 51,
    "start_time": "2025-04-14T20:48:35.401Z"
   },
   {
    "duration": 7,
    "start_time": "2025-04-14T20:48:35.454Z"
   },
   {
    "duration": 18,
    "start_time": "2025-04-14T20:48:35.463Z"
   },
   {
    "duration": 216,
    "start_time": "2025-04-14T20:48:35.483Z"
   },
   {
    "duration": 158,
    "start_time": "2025-04-14T20:48:35.701Z"
   },
   {
    "duration": 308,
    "start_time": "2025-04-14T20:48:35.860Z"
   },
   {
    "duration": 242,
    "start_time": "2025-04-14T20:48:36.170Z"
   },
   {
    "duration": 11,
    "start_time": "2025-04-14T20:48:36.414Z"
   },
   {
    "duration": 380,
    "start_time": "2025-04-14T20:48:36.426Z"
   },
   {
    "duration": 11,
    "start_time": "2025-04-14T20:48:36.808Z"
   },
   {
    "duration": 26,
    "start_time": "2025-04-14T20:48:36.821Z"
   },
   {
    "duration": 13,
    "start_time": "2025-04-14T20:48:36.848Z"
   },
   {
    "duration": 230,
    "start_time": "2025-04-14T20:48:36.862Z"
   },
   {
    "duration": 236,
    "start_time": "2025-04-14T20:48:37.094Z"
   },
   {
    "duration": 214,
    "start_time": "2025-04-14T20:48:37.334Z"
   },
   {
    "duration": 290,
    "start_time": "2025-04-14T20:48:37.549Z"
   },
   {
    "duration": 49,
    "start_time": "2025-04-14T20:48:37.840Z"
   },
   {
    "duration": 7,
    "start_time": "2025-04-14T20:48:37.891Z"
   },
   {
    "duration": 6,
    "start_time": "2025-04-14T20:48:37.899Z"
   },
   {
    "duration": 35,
    "start_time": "2025-04-14T20:48:37.907Z"
   },
   {
    "duration": 1572,
    "start_time": "2025-04-14T20:48:37.944Z"
   },
   {
    "duration": 4,
    "start_time": "2025-04-14T20:48:39.518Z"
   },
   {
    "duration": 134,
    "start_time": "2025-04-14T20:48:39.523Z"
   },
   {
    "duration": 50,
    "start_time": "2025-04-14T20:54:21.470Z"
   },
   {
    "duration": 1352,
    "start_time": "2025-04-14T21:14:44.125Z"
   },
   {
    "duration": 97,
    "start_time": "2025-04-14T21:14:45.480Z"
   },
   {
    "duration": 11,
    "start_time": "2025-04-14T21:14:45.579Z"
   },
   {
    "duration": 16,
    "start_time": "2025-04-14T21:14:45.591Z"
   },
   {
    "duration": 6,
    "start_time": "2025-04-14T21:14:45.609Z"
   },
   {
    "duration": 17,
    "start_time": "2025-04-14T21:14:45.617Z"
   },
   {
    "duration": 41,
    "start_time": "2025-04-14T21:14:45.636Z"
   },
   {
    "duration": 5,
    "start_time": "2025-04-14T21:14:45.679Z"
   },
   {
    "duration": 7,
    "start_time": "2025-04-14T21:14:45.686Z"
   },
   {
    "duration": 9,
    "start_time": "2025-04-14T21:14:45.694Z"
   },
   {
    "duration": 9,
    "start_time": "2025-04-14T21:14:45.705Z"
   },
   {
    "duration": 8,
    "start_time": "2025-04-14T21:14:45.716Z"
   },
   {
    "duration": 6,
    "start_time": "2025-04-14T21:14:45.726Z"
   },
   {
    "duration": 5,
    "start_time": "2025-04-14T21:14:45.777Z"
   },
   {
    "duration": 215,
    "start_time": "2025-04-14T21:14:45.783Z"
   },
   {
    "duration": 174,
    "start_time": "2025-04-14T21:14:45.999Z"
   },
   {
    "duration": 362,
    "start_time": "2025-04-14T21:14:46.176Z"
   },
   {
    "duration": 487,
    "start_time": "2025-04-14T21:14:46.540Z"
   },
   {
    "duration": 13,
    "start_time": "2025-04-14T21:14:47.070Z"
   },
   {
    "duration": 518,
    "start_time": "2025-04-14T21:14:47.086Z"
   },
   {
    "duration": 71,
    "start_time": "2025-04-14T21:14:47.605Z"
   },
   {
    "duration": 17,
    "start_time": "2025-04-14T21:14:47.678Z"
   },
   {
    "duration": 16,
    "start_time": "2025-04-14T21:14:47.697Z"
   },
   {
    "duration": 374,
    "start_time": "2025-04-14T21:14:47.771Z"
   },
   {
    "duration": 256,
    "start_time": "2025-04-14T21:14:48.147Z"
   },
   {
    "duration": 227,
    "start_time": "2025-04-14T21:14:48.405Z"
   },
   {
    "duration": 346,
    "start_time": "2025-04-14T21:14:48.634Z"
   },
   {
    "duration": 56,
    "start_time": "2025-04-14T21:14:48.982Z"
   },
   {
    "duration": 32,
    "start_time": "2025-04-14T21:14:49.041Z"
   },
   {
    "duration": 6,
    "start_time": "2025-04-14T21:14:49.074Z"
   },
   {
    "duration": 10,
    "start_time": "2025-04-14T21:14:49.082Z"
   },
   {
    "duration": 1643,
    "start_time": "2025-04-14T21:14:49.094Z"
   },
   {
    "duration": 4,
    "start_time": "2025-04-14T21:14:50.739Z"
   },
   {
    "duration": 145,
    "start_time": "2025-04-14T21:14:50.746Z"
   },
   {
    "duration": 3,
    "start_time": "2025-04-14T21:25:51.392Z"
   },
   {
    "duration": 32,
    "start_time": "2025-04-14T21:26:01.342Z"
   },
   {
    "duration": 42,
    "start_time": "2025-04-14T21:26:10.477Z"
   },
   {
    "duration": 29,
    "start_time": "2025-04-14T21:26:12.818Z"
   },
   {
    "duration": 18,
    "start_time": "2025-04-14T21:26:40.537Z"
   },
   {
    "duration": 19,
    "start_time": "2025-04-14T21:26:42.091Z"
   },
   {
    "duration": 14,
    "start_time": "2025-04-14T21:26:49.319Z"
   },
   {
    "duration": 27,
    "start_time": "2025-04-14T21:27:10.065Z"
   },
   {
    "duration": 18,
    "start_time": "2025-04-14T21:27:11.312Z"
   },
   {
    "duration": 16,
    "start_time": "2025-04-14T21:27:20.714Z"
   },
   {
    "duration": 17,
    "start_time": "2025-04-14T21:27:22.238Z"
   },
   {
    "duration": 9,
    "start_time": "2025-04-14T21:30:42.310Z"
   },
   {
    "duration": 14,
    "start_time": "2025-04-14T21:30:44.118Z"
   },
   {
    "duration": 4,
    "start_time": "2025-04-14T21:30:45.695Z"
   },
   {
    "duration": 12,
    "start_time": "2025-04-14T21:30:47.137Z"
   },
   {
    "duration": 5,
    "start_time": "2025-04-14T21:31:12.027Z"
   },
   {
    "duration": 9,
    "start_time": "2025-04-14T21:31:16.081Z"
   },
   {
    "duration": 7,
    "start_time": "2025-04-14T21:31:45.767Z"
   },
   {
    "duration": 9,
    "start_time": "2025-04-14T21:31:56.446Z"
   },
   {
    "duration": 108,
    "start_time": "2025-04-14T21:32:01.917Z"
   },
   {
    "duration": 11,
    "start_time": "2025-04-14T21:32:04.009Z"
   },
   {
    "duration": 11,
    "start_time": "2025-04-14T21:32:20.796Z"
   },
   {
    "duration": 12,
    "start_time": "2025-04-14T21:32:25.500Z"
   },
   {
    "duration": 9,
    "start_time": "2025-04-14T21:32:27.392Z"
   },
   {
    "duration": 5,
    "start_time": "2025-04-14T21:32:28.769Z"
   },
   {
    "duration": 6,
    "start_time": "2025-04-14T21:32:29.094Z"
   },
   {
    "duration": 7,
    "start_time": "2025-04-14T21:32:29.537Z"
   },
   {
    "duration": 9,
    "start_time": "2025-04-14T21:32:30.069Z"
   },
   {
    "duration": 7,
    "start_time": "2025-04-14T21:32:31.178Z"
   },
   {
    "duration": 6,
    "start_time": "2025-04-14T21:32:31.546Z"
   },
   {
    "duration": 4,
    "start_time": "2025-04-14T21:32:33.071Z"
   },
   {
    "duration": 97,
    "start_time": "2025-04-14T21:32:43.412Z"
   },
   {
    "duration": 21,
    "start_time": "2025-04-14T21:32:52.764Z"
   },
   {
    "duration": 182,
    "start_time": "2025-04-14T21:32:55.608Z"
   },
   {
    "duration": 18,
    "start_time": "2025-04-14T21:33:03.029Z"
   },
   {
    "duration": 181,
    "start_time": "2025-04-14T21:33:26.365Z"
   },
   {
    "duration": 186,
    "start_time": "2025-04-14T21:33:44.966Z"
   },
   {
    "duration": 161,
    "start_time": "2025-04-14T21:34:28.723Z"
   },
   {
    "duration": 18651,
    "start_time": "2025-04-14T21:34:53.346Z"
   },
   {
    "duration": 14,
    "start_time": "2025-04-14T21:35:12.113Z"
   },
   {
    "duration": 167,
    "start_time": "2025-04-14T21:35:29.659Z"
   },
   {
    "duration": 176,
    "start_time": "2025-04-14T21:36:00.249Z"
   },
   {
    "duration": 121,
    "start_time": "2025-04-14T21:36:15.343Z"
   },
   {
    "duration": 172,
    "start_time": "2025-04-14T21:36:22.753Z"
   },
   {
    "duration": 190,
    "start_time": "2025-04-14T21:37:06.450Z"
   },
   {
    "duration": 165,
    "start_time": "2025-04-14T21:37:35.842Z"
   },
   {
    "duration": 173,
    "start_time": "2025-04-14T21:37:45.195Z"
   },
   {
    "duration": 139,
    "start_time": "2025-04-14T21:38:02.628Z"
   },
   {
    "duration": 125,
    "start_time": "2025-04-14T21:38:30.496Z"
   },
   {
    "duration": 126,
    "start_time": "2025-04-14T21:39:12.361Z"
   },
   {
    "duration": 598,
    "start_time": "2025-04-14T21:40:14.921Z"
   },
   {
    "duration": 1076,
    "start_time": "2025-04-14T21:41:44.391Z"
   },
   {
    "duration": 202,
    "start_time": "2025-04-14T21:42:58.077Z"
   },
   {
    "duration": 131,
    "start_time": "2025-04-14T21:43:43.466Z"
   },
   {
    "duration": 127,
    "start_time": "2025-04-14T21:43:58.764Z"
   },
   {
    "duration": 90,
    "start_time": "2025-04-14T21:44:15.175Z"
   },
   {
    "duration": 128,
    "start_time": "2025-04-14T21:44:17.868Z"
   },
   {
    "duration": 131,
    "start_time": "2025-04-14T21:44:37.345Z"
   },
   {
    "duration": 136,
    "start_time": "2025-04-14T21:44:40.779Z"
   },
   {
    "duration": 133,
    "start_time": "2025-04-14T21:44:57.768Z"
   },
   {
    "duration": 149,
    "start_time": "2025-04-14T21:45:10.353Z"
   },
   {
    "duration": 199,
    "start_time": "2025-04-14T21:45:29.724Z"
   },
   {
    "duration": 139,
    "start_time": "2025-04-14T21:45:32.607Z"
   },
   {
    "duration": 138,
    "start_time": "2025-04-14T21:45:40.578Z"
   },
   {
    "duration": 140,
    "start_time": "2025-04-14T21:45:57.515Z"
   },
   {
    "duration": 285,
    "start_time": "2025-04-14T21:46:00.912Z"
   },
   {
    "duration": 213,
    "start_time": "2025-04-14T21:46:11.512Z"
   },
   {
    "duration": 11,
    "start_time": "2025-04-14T21:46:12.187Z"
   },
   {
    "duration": 16,
    "start_time": "2025-04-14T21:46:22.863Z"
   },
   {
    "duration": 237,
    "start_time": "2025-04-14T21:46:45.487Z"
   },
   {
    "duration": 240,
    "start_time": "2025-04-14T21:46:48.681Z"
   },
   {
    "duration": 232,
    "start_time": "2025-04-14T21:46:58.177Z"
   },
   {
    "duration": 175,
    "start_time": "2025-04-14T21:47:09.700Z"
   },
   {
    "duration": 210,
    "start_time": "2025-04-14T21:47:12.015Z"
   },
   {
    "duration": 180,
    "start_time": "2025-04-14T21:47:49.350Z"
   },
   {
    "duration": 208,
    "start_time": "2025-04-14T21:47:52.765Z"
   },
   {
    "duration": 6485,
    "start_time": "2025-04-14T21:47:58.338Z"
   },
   {
    "duration": 209,
    "start_time": "2025-04-14T21:48:10.475Z"
   },
   {
    "duration": 16,
    "start_time": "2025-04-14T21:48:17.075Z"
   },
   {
    "duration": 12,
    "start_time": "2025-04-14T21:48:49.138Z"
   },
   {
    "duration": 13,
    "start_time": "2025-04-14T21:48:55.715Z"
   },
   {
    "duration": 343,
    "start_time": "2025-04-14T21:49:15.463Z"
   },
   {
    "duration": 203,
    "start_time": "2025-04-14T21:49:23.110Z"
   },
   {
    "duration": 219,
    "start_time": "2025-04-14T21:49:27.318Z"
   },
   {
    "duration": 11,
    "start_time": "2025-04-14T21:49:32.305Z"
   },
   {
    "duration": 218,
    "start_time": "2025-04-14T21:51:09.197Z"
   },
   {
    "duration": 12,
    "start_time": "2025-04-14T21:51:28.674Z"
   },
   {
    "duration": 11,
    "start_time": "2025-04-14T21:51:35.125Z"
   },
   {
    "duration": 113,
    "start_time": "2025-04-14T21:53:52.525Z"
   },
   {
    "duration": 104,
    "start_time": "2025-04-14T21:56:10.256Z"
   },
   {
    "duration": 193,
    "start_time": "2025-04-14T21:56:38.559Z"
   },
   {
    "duration": 197,
    "start_time": "2025-04-14T21:56:48.569Z"
   },
   {
    "duration": 114,
    "start_time": "2025-04-14T21:57:09.936Z"
   },
   {
    "duration": 16,
    "start_time": "2025-04-14T22:00:32.884Z"
   },
   {
    "duration": 15,
    "start_time": "2025-04-14T22:01:14.681Z"
   },
   {
    "duration": 211,
    "start_time": "2025-04-14T22:01:35.960Z"
   },
   {
    "duration": 196,
    "start_time": "2025-04-14T22:02:01.943Z"
   },
   {
    "duration": 2769,
    "start_time": "2025-04-14T22:02:10.505Z"
   },
   {
    "duration": 201,
    "start_time": "2025-04-14T22:02:20.420Z"
   },
   {
    "duration": 195,
    "start_time": "2025-04-14T22:02:31.251Z"
   },
   {
    "duration": 205,
    "start_time": "2025-04-14T22:02:49.453Z"
   },
   {
    "duration": 168,
    "start_time": "2025-04-14T22:03:03.474Z"
   },
   {
    "duration": 204,
    "start_time": "2025-04-14T22:03:05.890Z"
   },
   {
    "duration": 175,
    "start_time": "2025-04-14T22:03:15.062Z"
   },
   {
    "duration": 210,
    "start_time": "2025-04-14T22:03:17.136Z"
   },
   {
    "duration": 284,
    "start_time": "2025-04-14T22:04:08.959Z"
   },
   {
    "duration": 427,
    "start_time": "2025-04-14T22:04:20.140Z"
   },
   {
    "duration": 286,
    "start_time": "2025-04-14T22:04:29.798Z"
   },
   {
    "duration": 304,
    "start_time": "2025-04-14T22:04:42.286Z"
   },
   {
    "duration": 6,
    "start_time": "2025-04-14T22:08:20.772Z"
   },
   {
    "duration": 52,
    "start_time": "2025-04-14T22:08:59.404Z"
   },
   {
    "duration": 58,
    "start_time": "2025-04-14T22:10:05.682Z"
   },
   {
    "duration": 6,
    "start_time": "2025-04-14T22:12:56.461Z"
   },
   {
    "duration": 7,
    "start_time": "2025-04-14T22:15:18.557Z"
   },
   {
    "duration": 4,
    "start_time": "2025-04-14T22:16:29.537Z"
   },
   {
    "duration": 7,
    "start_time": "2025-04-14T22:17:40.610Z"
   },
   {
    "duration": 9,
    "start_time": "2025-04-14T22:19:42.258Z"
   },
   {
    "duration": 1668,
    "start_time": "2025-04-14T22:20:16.430Z"
   },
   {
    "duration": 3,
    "start_time": "2025-04-14T22:20:18.900Z"
   },
   {
    "duration": 124,
    "start_time": "2025-04-14T22:20:19.722Z"
   },
   {
    "duration": 35,
    "start_time": "2025-04-14T22:33:40.300Z"
   },
   {
    "duration": 38,
    "start_time": "2025-04-14T22:34:19.963Z"
   },
   {
    "duration": 47,
    "start_time": "2025-04-14T22:34:33.192Z"
   },
   {
    "duration": 1291,
    "start_time": "2025-04-15T08:13:52.886Z"
   },
   {
    "duration": 20,
    "start_time": "2025-04-15T08:13:54.180Z"
   },
   {
    "duration": 25,
    "start_time": "2025-04-15T08:13:54.203Z"
   },
   {
    "duration": 31,
    "start_time": "2025-04-15T08:13:54.231Z"
   },
   {
    "duration": 25,
    "start_time": "2025-04-15T08:13:54.264Z"
   },
   {
    "duration": 16,
    "start_time": "2025-04-15T08:13:54.292Z"
   },
   {
    "duration": 17,
    "start_time": "2025-04-15T08:13:54.310Z"
   },
   {
    "duration": 12,
    "start_time": "2025-04-15T08:13:54.329Z"
   },
   {
    "duration": 16,
    "start_time": "2025-04-15T08:13:54.371Z"
   },
   {
    "duration": 7,
    "start_time": "2025-04-15T08:13:54.391Z"
   },
   {
    "duration": 16,
    "start_time": "2025-04-15T08:13:54.400Z"
   },
   {
    "duration": 15,
    "start_time": "2025-04-15T08:13:54.418Z"
   },
   {
    "duration": 13,
    "start_time": "2025-04-15T08:13:54.470Z"
   },
   {
    "duration": 6,
    "start_time": "2025-04-15T08:13:54.484Z"
   },
   {
    "duration": 11,
    "start_time": "2025-04-15T08:13:54.492Z"
   },
   {
    "duration": 12,
    "start_time": "2025-04-15T08:13:54.505Z"
   },
   {
    "duration": 11,
    "start_time": "2025-04-15T08:13:54.519Z"
   },
   {
    "duration": 41,
    "start_time": "2025-04-15T08:13:54.531Z"
   },
   {
    "duration": 7,
    "start_time": "2025-04-15T08:13:54.574Z"
   },
   {
    "duration": 6,
    "start_time": "2025-04-15T08:13:54.582Z"
   },
   {
    "duration": 252,
    "start_time": "2025-04-15T08:13:54.589Z"
   },
   {
    "duration": 184,
    "start_time": "2025-04-15T08:13:54.843Z"
   },
   {
    "duration": 372,
    "start_time": "2025-04-15T08:13:55.029Z"
   },
   {
    "duration": 264,
    "start_time": "2025-04-15T08:13:55.403Z"
   },
   {
    "duration": 155,
    "start_time": "2025-04-15T08:13:55.669Z"
   },
   {
    "duration": 283,
    "start_time": "2025-04-15T08:13:55.827Z"
   },
   {
    "duration": 174,
    "start_time": "2025-04-15T08:13:56.112Z"
   },
   {
    "duration": 19,
    "start_time": "2025-04-15T08:13:56.291Z"
   },
   {
    "duration": 82,
    "start_time": "2025-04-15T08:13:56.312Z"
   },
   {
    "duration": 474,
    "start_time": "2025-04-15T08:13:56.396Z"
   },
   {
    "duration": 375,
    "start_time": "2025-04-15T08:13:56.873Z"
   },
   {
    "duration": 385,
    "start_time": "2025-04-15T08:13:57.250Z"
   },
   {
    "duration": 390,
    "start_time": "2025-04-15T08:13:57.638Z"
   },
   {
    "duration": 117,
    "start_time": "2025-04-15T08:13:58.030Z"
   },
   {
    "duration": 0,
    "start_time": "2025-04-15T08:13:58.149Z"
   },
   {
    "duration": 0,
    "start_time": "2025-04-15T08:13:58.151Z"
   },
   {
    "duration": 0,
    "start_time": "2025-04-15T08:13:58.152Z"
   },
   {
    "duration": 0,
    "start_time": "2025-04-15T08:13:58.153Z"
   },
   {
    "duration": 0,
    "start_time": "2025-04-15T08:13:58.155Z"
   },
   {
    "duration": 0,
    "start_time": "2025-04-15T08:13:58.171Z"
   },
   {
    "duration": 0,
    "start_time": "2025-04-15T08:13:58.172Z"
   },
   {
    "duration": 0,
    "start_time": "2025-04-15T09:38:35.829Z"
   },
   {
    "duration": 0,
    "start_time": "2025-04-15T09:38:35.831Z"
   },
   {
    "duration": 0,
    "start_time": "2025-04-15T09:38:35.878Z"
   },
   {
    "duration": 3,
    "start_time": "2025-04-15T13:53:51.262Z"
   },
   {
    "duration": 18,
    "start_time": "2025-04-15T13:53:52.508Z"
   },
   {
    "duration": 20,
    "start_time": "2025-04-15T13:53:52.873Z"
   },
   {
    "duration": 33,
    "start_time": "2025-04-15T13:53:55.118Z"
   },
   {
    "duration": 19,
    "start_time": "2025-04-15T13:53:55.409Z"
   },
   {
    "duration": 16,
    "start_time": "2025-04-15T13:53:56.016Z"
   },
   {
    "duration": 16,
    "start_time": "2025-04-15T13:53:56.613Z"
   },
   {
    "duration": 12,
    "start_time": "2025-04-15T13:54:01.067Z"
   },
   {
    "duration": 15,
    "start_time": "2025-04-15T13:54:02.177Z"
   },
   {
    "duration": 5,
    "start_time": "2025-04-15T13:54:02.721Z"
   },
   {
    "duration": 13,
    "start_time": "2025-04-15T13:54:02.981Z"
   },
   {
    "duration": 13,
    "start_time": "2025-04-15T13:54:03.500Z"
   },
   {
    "duration": 16,
    "start_time": "2025-04-15T13:54:06.406Z"
   },
   {
    "duration": 7,
    "start_time": "2025-04-15T13:54:06.779Z"
   },
   {
    "duration": 9,
    "start_time": "2025-04-15T13:54:07.075Z"
   },
   {
    "duration": 10,
    "start_time": "2025-04-15T13:54:07.484Z"
   },
   {
    "duration": 14,
    "start_time": "2025-04-15T13:54:07.966Z"
   },
   {
    "duration": 9,
    "start_time": "2025-04-15T13:54:08.487Z"
   },
   {
    "duration": 8,
    "start_time": "2025-04-15T13:54:09.992Z"
   },
   {
    "duration": 5,
    "start_time": "2025-04-15T13:54:10.659Z"
   },
   {
    "duration": 193,
    "start_time": "2025-04-15T13:54:14.640Z"
   },
   {
    "duration": 159,
    "start_time": "2025-04-15T13:54:20.967Z"
   },
   {
    "duration": 346,
    "start_time": "2025-04-15T13:54:28.166Z"
   },
   {
    "duration": 21048,
    "start_time": "2025-04-15T13:55:30.190Z"
   },
   {
    "duration": 66,
    "start_time": "2025-04-15T13:58:19.740Z"
   },
   {
    "duration": 257,
    "start_time": "2025-04-15T13:58:33.306Z"
   },
   {
    "duration": 236,
    "start_time": "2025-04-15T13:58:47.286Z"
   },
   {
    "duration": 573,
    "start_time": "2025-04-15T13:59:33.418Z"
   },
   {
    "duration": 216,
    "start_time": "2025-04-15T13:59:37.050Z"
   },
   {
    "duration": 231,
    "start_time": "2025-04-15T13:59:42.657Z"
   },
   {
    "duration": 215,
    "start_time": "2025-04-15T13:59:46.253Z"
   },
   {
    "duration": 289,
    "start_time": "2025-04-15T13:59:54.663Z"
   },
   {
    "duration": 161,
    "start_time": "2025-04-15T13:59:57.645Z"
   },
   {
    "duration": 219,
    "start_time": "2025-04-15T14:00:00.983Z"
   },
   {
    "duration": 205,
    "start_time": "2025-04-15T14:00:19.882Z"
   },
   {
    "duration": 209,
    "start_time": "2025-04-15T14:00:23.840Z"
   },
   {
    "duration": 362,
    "start_time": "2025-04-15T14:00:36.572Z"
   },
   {
    "duration": 220,
    "start_time": "2025-04-15T14:00:52.578Z"
   },
   {
    "duration": 229,
    "start_time": "2025-04-15T14:01:38.119Z"
   },
   {
    "duration": 73,
    "start_time": "2025-04-15T14:01:41.869Z"
   },
   {
    "duration": 209,
    "start_time": "2025-04-15T14:01:44.486Z"
   },
   {
    "duration": 215,
    "start_time": "2025-04-15T14:01:48.254Z"
   },
   {
    "duration": 209,
    "start_time": "2025-04-15T14:01:52.064Z"
   },
   {
    "duration": 216,
    "start_time": "2025-04-15T14:01:55.566Z"
   },
   {
    "duration": 924,
    "start_time": "2025-04-15T14:02:11.270Z"
   },
   {
    "duration": 225,
    "start_time": "2025-04-15T14:02:19.604Z"
   },
   {
    "duration": 19,
    "start_time": "2025-04-15T14:03:18.169Z"
   },
   {
    "duration": 18,
    "start_time": "2025-04-15T14:03:26.815Z"
   },
   {
    "duration": 792,
    "start_time": "2025-04-15T14:03:41.728Z"
   },
   {
    "duration": 211,
    "start_time": "2025-04-15T14:03:59.835Z"
   },
   {
    "duration": 442,
    "start_time": "2025-04-15T14:04:02.930Z"
   },
   {
    "duration": 266,
    "start_time": "2025-04-15T14:04:13.148Z"
   },
   {
    "duration": 274,
    "start_time": "2025-04-15T14:04:16.357Z"
   },
   {
    "duration": 279,
    "start_time": "2025-04-15T14:04:33.127Z"
   },
   {
    "duration": 130,
    "start_time": "2025-04-15T14:04:43.990Z"
   },
   {
    "duration": 11,
    "start_time": "2025-04-15T14:05:07.041Z"
   },
   {
    "duration": 102,
    "start_time": "2025-04-15T14:05:24.834Z"
   },
   {
    "duration": 103,
    "start_time": "2025-04-15T14:06:18.988Z"
   },
   {
    "duration": 104,
    "start_time": "2025-04-15T14:06:23.920Z"
   },
   {
    "duration": 11,
    "start_time": "2025-04-15T14:07:28.556Z"
   },
   {
    "duration": 218,
    "start_time": "2025-04-15T14:07:35.509Z"
   },
   {
    "duration": 273,
    "start_time": "2025-04-15T14:11:37.474Z"
   },
   {
    "duration": 280,
    "start_time": "2025-04-15T14:11:48.258Z"
   },
   {
    "duration": 774,
    "start_time": "2025-04-15T14:11:54.991Z"
   },
   {
    "duration": 404,
    "start_time": "2025-04-15T14:11:59.232Z"
   },
   {
    "duration": 106,
    "start_time": "2025-04-15T14:12:23.678Z"
   },
   {
    "duration": 210,
    "start_time": "2025-04-15T14:13:32.086Z"
   },
   {
    "duration": 154,
    "start_time": "2025-04-15T14:13:36.805Z"
   },
   {
    "duration": 271,
    "start_time": "2025-04-15T14:14:44.405Z"
   },
   {
    "duration": 158,
    "start_time": "2025-04-15T14:15:57.493Z"
   },
   {
    "duration": 205,
    "start_time": "2025-04-15T14:16:13.686Z"
   },
   {
    "duration": 269,
    "start_time": "2025-04-15T14:16:18.281Z"
   },
   {
    "duration": 331,
    "start_time": "2025-04-15T14:16:22.706Z"
   },
   {
    "duration": 137,
    "start_time": "2025-04-15T14:16:31.947Z"
   },
   {
    "duration": 18,
    "start_time": "2025-04-15T14:22:54.333Z"
   },
   {
    "duration": 48,
    "start_time": "2025-04-15T14:22:56.086Z"
   },
   {
    "duration": 400,
    "start_time": "2025-04-15T14:23:26.927Z"
   },
   {
    "duration": 382,
    "start_time": "2025-04-15T14:23:37.268Z"
   },
   {
    "duration": 346,
    "start_time": "2025-04-15T14:24:14.430Z"
   },
   {
    "duration": 491,
    "start_time": "2025-04-15T14:24:25.113Z"
   },
   {
    "duration": 378,
    "start_time": "2025-04-15T14:24:31.256Z"
   },
   {
    "duration": 343,
    "start_time": "2025-04-15T14:24:38.510Z"
   },
   {
    "duration": 490,
    "start_time": "2025-04-15T14:25:14.772Z"
   },
   {
    "duration": 374,
    "start_time": "2025-04-15T14:25:58.630Z"
   },
   {
    "duration": 319,
    "start_time": "2025-04-15T14:26:07.181Z"
   },
   {
    "duration": 316,
    "start_time": "2025-04-15T14:26:28.201Z"
   },
   {
    "duration": 504,
    "start_time": "2025-04-15T14:26:50.543Z"
   },
   {
    "duration": 304,
    "start_time": "2025-04-15T14:27:43.648Z"
   },
   {
    "duration": 344,
    "start_time": "2025-04-15T14:29:39.422Z"
   },
   {
    "duration": 357,
    "start_time": "2025-04-15T14:29:56.921Z"
   },
   {
    "duration": 519,
    "start_time": "2025-04-15T14:30:05.413Z"
   },
   {
    "duration": 316,
    "start_time": "2025-04-15T14:30:12.134Z"
   },
   {
    "duration": 8,
    "start_time": "2025-04-15T14:31:58.530Z"
   },
   {
    "duration": 9,
    "start_time": "2025-04-15T14:32:18.079Z"
   },
   {
    "duration": 11,
    "start_time": "2025-04-15T14:32:25.249Z"
   },
   {
    "duration": 39,
    "start_time": "2025-04-15T14:33:42.439Z"
   },
   {
    "duration": 6,
    "start_time": "2025-04-15T14:33:44.086Z"
   },
   {
    "duration": 23,
    "start_time": "2025-04-15T14:34:14.183Z"
   },
   {
    "duration": 23,
    "start_time": "2025-04-15T14:35:06.924Z"
   },
   {
    "duration": 8,
    "start_time": "2025-04-15T14:35:10.342Z"
   },
   {
    "duration": 7,
    "start_time": "2025-04-15T14:35:12.433Z"
   },
   {
    "duration": 10,
    "start_time": "2025-04-15T14:35:14.850Z"
   },
   {
    "duration": 1718,
    "start_time": "2025-04-15T14:35:19.432Z"
   },
   {
    "duration": 4,
    "start_time": "2025-04-15T14:35:23.012Z"
   },
   {
    "duration": 140,
    "start_time": "2025-04-15T14:35:23.891Z"
   },
   {
    "duration": 1322,
    "start_time": "2025-04-15T16:43:51.222Z"
   },
   {
    "duration": 31,
    "start_time": "2025-04-15T16:43:52.547Z"
   },
   {
    "duration": 31,
    "start_time": "2025-04-15T16:43:52.580Z"
   },
   {
    "duration": 31,
    "start_time": "2025-04-15T16:43:52.613Z"
   },
   {
    "duration": 37,
    "start_time": "2025-04-15T16:43:52.648Z"
   },
   {
    "duration": 17,
    "start_time": "2025-04-15T16:43:52.687Z"
   },
   {
    "duration": 18,
    "start_time": "2025-04-15T16:43:52.706Z"
   },
   {
    "duration": 13,
    "start_time": "2025-04-15T16:43:52.726Z"
   },
   {
    "duration": 18,
    "start_time": "2025-04-15T16:43:52.770Z"
   },
   {
    "duration": 5,
    "start_time": "2025-04-15T16:43:52.790Z"
   },
   {
    "duration": 17,
    "start_time": "2025-04-15T16:43:52.797Z"
   },
   {
    "duration": 13,
    "start_time": "2025-04-15T16:43:52.816Z"
   },
   {
    "duration": 51,
    "start_time": "2025-04-15T16:43:52.831Z"
   },
   {
    "duration": 7,
    "start_time": "2025-04-15T16:43:52.886Z"
   },
   {
    "duration": 8,
    "start_time": "2025-04-15T16:43:52.895Z"
   },
   {
    "duration": 11,
    "start_time": "2025-04-15T16:43:52.905Z"
   },
   {
    "duration": 60,
    "start_time": "2025-04-15T16:43:52.918Z"
   },
   {
    "duration": 8,
    "start_time": "2025-04-15T16:43:52.979Z"
   },
   {
    "duration": 11,
    "start_time": "2025-04-15T16:43:52.990Z"
   },
   {
    "duration": 6,
    "start_time": "2025-04-15T16:43:53.003Z"
   },
   {
    "duration": 281,
    "start_time": "2025-04-15T16:43:53.010Z"
   },
   {
    "duration": 208,
    "start_time": "2025-04-15T16:43:53.294Z"
   },
   {
    "duration": 388,
    "start_time": "2025-04-15T16:43:53.504Z"
   },
   {
    "duration": 337,
    "start_time": "2025-04-15T16:43:53.895Z"
   },
   {
    "duration": 132,
    "start_time": "2025-04-15T16:43:54.235Z"
   },
   {
    "duration": 246,
    "start_time": "2025-04-15T16:43:54.371Z"
   },
   {
    "duration": 221,
    "start_time": "2025-04-15T16:43:54.619Z"
   },
   {
    "duration": 32,
    "start_time": "2025-04-15T16:43:54.842Z"
   },
   {
    "duration": 58,
    "start_time": "2025-04-15T16:43:54.876Z"
   },
   {
    "duration": 441,
    "start_time": "2025-04-15T16:43:54.936Z"
   },
   {
    "duration": 404,
    "start_time": "2025-04-15T16:43:55.379Z"
   },
   {
    "duration": 477,
    "start_time": "2025-04-15T16:43:55.785Z"
   },
   {
    "duration": 482,
    "start_time": "2025-04-15T16:43:56.265Z"
   },
   {
    "duration": 3,
    "start_time": "2025-04-15T16:43:56.750Z"
   },
   {
    "duration": 63,
    "start_time": "2025-04-15T16:43:56.756Z"
   },
   {
    "duration": 8,
    "start_time": "2025-04-15T16:43:56.821Z"
   },
   {
    "duration": 52,
    "start_time": "2025-04-15T16:43:56.830Z"
   },
   {
    "duration": 9,
    "start_time": "2025-04-15T16:43:56.884Z"
   },
   {
    "duration": 9,
    "start_time": "2025-04-15T16:43:56.895Z"
   },
   {
    "duration": 13,
    "start_time": "2025-04-15T16:43:56.906Z"
   },
   {
    "duration": 1994,
    "start_time": "2025-04-15T16:43:56.925Z"
   },
   {
    "duration": 4,
    "start_time": "2025-04-15T16:43:58.921Z"
   },
   {
    "duration": 172,
    "start_time": "2025-04-15T16:43:58.927Z"
   }
  ],
  "kernelspec": {
   "display_name": "Python 3 (ipykernel)",
   "language": "python",
   "name": "python3"
  },
  "language_info": {
   "codemirror_mode": {
    "name": "ipython",
    "version": 3
   },
   "file_extension": ".py",
   "mimetype": "text/x-python",
   "name": "python",
   "nbconvert_exporter": "python",
   "pygments_lexer": "ipython3",
   "version": "3.9.5"
  },
  "toc": {
   "base_numbering": 1,
   "nav_menu": {},
   "number_sections": true,
   "sideBar": true,
   "skip_h1_title": true,
   "title_cell": "Table of Contents",
   "title_sidebar": "Contents",
   "toc_cell": false,
   "toc_position": {},
   "toc_section_display": true,
   "toc_window_display": true
  }
 },
 "nbformat": 4,
 "nbformat_minor": 5
}
