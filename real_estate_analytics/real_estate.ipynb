{
 "cells": [
  {
   "cell_type": "markdown",
   "metadata": {
    "id": "-VFbjcb3Awb7"
   },
   "source": [
    "# Исследование объявлений о продаже квартир\n",
    "\n",
    "В вашем распоряжении данные сервиса XXX — архив объявлений о продаже квартир в Санкт-Петербурге и соседних населённых пунктах за несколько лет. Вам нужно научиться определять рыночную стоимость объектов недвижимости. Для этого проведите исследовательский анализ данных и установите параметры, влияющие на цену объектов. Это позволит построить автоматизированную систему: она отследит аномалии и мошенническую деятельность.\n",
    "\n",
    "По каждой квартире на продажу доступны два вида данных. Первые вписаны пользователем, вторые — получены автоматически на основе картографических данных. Например, расстояние до центра, аэропорта и других объектов — эти данные автоматически получены из геосервисов. Количество парков и водоёмов также заполняется без участия пользователя."
   ]
  },
  {
   "cell_type": "markdown",
   "metadata": {
    "id": "aeFLH07FAwb9"
   },
   "source": [
    "### Откройте файл с данными и изучите общую информацию"
   ]
  },
  {
   "cell_type": "code",
   "execution_count": 64,
   "metadata": {
    "id": "7MZxY65pAwb9"
   },
   "outputs": [],
   "source": [
    "import pandas as pd\n",
    "import matplotlib.pyplot as plt"
   ]
  },
  {
   "cell_type": "code",
   "execution_count": null,
   "metadata": {},
   "outputs": [],
   "source": [
    "data = pd.read_csv('/datasets/real_estate_data.csv', sep='\\t')"
   ]
  },
  {
   "cell_type": "markdown",
   "metadata": {},
   "source": [
    "Проверим общую информацию по таблице:"
   ]
  },
  {
   "cell_type": "code",
   "execution_count": 2,
   "metadata": {},
   "outputs": [
    {
     "data": {
      "text/html": [
       "<div>\n",
       "<style scoped>\n",
       "    .dataframe tbody tr th:only-of-type {\n",
       "        vertical-align: middle;\n",
       "    }\n",
       "\n",
       "    .dataframe tbody tr th {\n",
       "        vertical-align: top;\n",
       "    }\n",
       "\n",
       "    .dataframe thead th {\n",
       "        text-align: right;\n",
       "    }\n",
       "</style>\n",
       "<table border=\"1\" class=\"dataframe\">\n",
       "  <thead>\n",
       "    <tr style=\"text-align: right;\">\n",
       "      <th></th>\n",
       "      <th>total_images</th>\n",
       "      <th>last_price</th>\n",
       "      <th>total_area</th>\n",
       "      <th>first_day_exposition</th>\n",
       "      <th>rooms</th>\n",
       "      <th>ceiling_height</th>\n",
       "      <th>floors_total</th>\n",
       "      <th>living_area</th>\n",
       "      <th>floor</th>\n",
       "      <th>is_apartment</th>\n",
       "      <th>...</th>\n",
       "      <th>kitchen_area</th>\n",
       "      <th>balcony</th>\n",
       "      <th>locality_name</th>\n",
       "      <th>airports_nearest</th>\n",
       "      <th>cityCenters_nearest</th>\n",
       "      <th>parks_around3000</th>\n",
       "      <th>parks_nearest</th>\n",
       "      <th>ponds_around3000</th>\n",
       "      <th>ponds_nearest</th>\n",
       "      <th>days_exposition</th>\n",
       "    </tr>\n",
       "  </thead>\n",
       "  <tbody>\n",
       "    <tr>\n",
       "      <th>0</th>\n",
       "      <td>20</td>\n",
       "      <td>13000000.0</td>\n",
       "      <td>108.00</td>\n",
       "      <td>2019-03-07T00:00:00</td>\n",
       "      <td>3</td>\n",
       "      <td>2.70</td>\n",
       "      <td>16.0</td>\n",
       "      <td>51.00</td>\n",
       "      <td>8</td>\n",
       "      <td>NaN</td>\n",
       "      <td>...</td>\n",
       "      <td>25.00</td>\n",
       "      <td>NaN</td>\n",
       "      <td>Санкт-Петербург</td>\n",
       "      <td>18863.0</td>\n",
       "      <td>16028.0</td>\n",
       "      <td>1.0</td>\n",
       "      <td>482.0</td>\n",
       "      <td>2.0</td>\n",
       "      <td>755.0</td>\n",
       "      <td>NaN</td>\n",
       "    </tr>\n",
       "    <tr>\n",
       "      <th>1</th>\n",
       "      <td>7</td>\n",
       "      <td>3350000.0</td>\n",
       "      <td>40.40</td>\n",
       "      <td>2018-12-04T00:00:00</td>\n",
       "      <td>1</td>\n",
       "      <td>NaN</td>\n",
       "      <td>11.0</td>\n",
       "      <td>18.60</td>\n",
       "      <td>1</td>\n",
       "      <td>NaN</td>\n",
       "      <td>...</td>\n",
       "      <td>11.00</td>\n",
       "      <td>2.0</td>\n",
       "      <td>посёлок Шушары</td>\n",
       "      <td>12817.0</td>\n",
       "      <td>18603.0</td>\n",
       "      <td>0.0</td>\n",
       "      <td>NaN</td>\n",
       "      <td>0.0</td>\n",
       "      <td>NaN</td>\n",
       "      <td>81.0</td>\n",
       "    </tr>\n",
       "    <tr>\n",
       "      <th>2</th>\n",
       "      <td>10</td>\n",
       "      <td>5196000.0</td>\n",
       "      <td>56.00</td>\n",
       "      <td>2015-08-20T00:00:00</td>\n",
       "      <td>2</td>\n",
       "      <td>NaN</td>\n",
       "      <td>5.0</td>\n",
       "      <td>34.30</td>\n",
       "      <td>4</td>\n",
       "      <td>NaN</td>\n",
       "      <td>...</td>\n",
       "      <td>8.30</td>\n",
       "      <td>0.0</td>\n",
       "      <td>Санкт-Петербург</td>\n",
       "      <td>21741.0</td>\n",
       "      <td>13933.0</td>\n",
       "      <td>1.0</td>\n",
       "      <td>90.0</td>\n",
       "      <td>2.0</td>\n",
       "      <td>574.0</td>\n",
       "      <td>558.0</td>\n",
       "    </tr>\n",
       "    <tr>\n",
       "      <th>3</th>\n",
       "      <td>0</td>\n",
       "      <td>64900000.0</td>\n",
       "      <td>159.00</td>\n",
       "      <td>2015-07-24T00:00:00</td>\n",
       "      <td>3</td>\n",
       "      <td>NaN</td>\n",
       "      <td>14.0</td>\n",
       "      <td>NaN</td>\n",
       "      <td>9</td>\n",
       "      <td>NaN</td>\n",
       "      <td>...</td>\n",
       "      <td>NaN</td>\n",
       "      <td>0.0</td>\n",
       "      <td>Санкт-Петербург</td>\n",
       "      <td>28098.0</td>\n",
       "      <td>6800.0</td>\n",
       "      <td>2.0</td>\n",
       "      <td>84.0</td>\n",
       "      <td>3.0</td>\n",
       "      <td>234.0</td>\n",
       "      <td>424.0</td>\n",
       "    </tr>\n",
       "    <tr>\n",
       "      <th>4</th>\n",
       "      <td>2</td>\n",
       "      <td>10000000.0</td>\n",
       "      <td>100.00</td>\n",
       "      <td>2018-06-19T00:00:00</td>\n",
       "      <td>2</td>\n",
       "      <td>3.03</td>\n",
       "      <td>14.0</td>\n",
       "      <td>32.00</td>\n",
       "      <td>13</td>\n",
       "      <td>NaN</td>\n",
       "      <td>...</td>\n",
       "      <td>41.00</td>\n",
       "      <td>NaN</td>\n",
       "      <td>Санкт-Петербург</td>\n",
       "      <td>31856.0</td>\n",
       "      <td>8098.0</td>\n",
       "      <td>2.0</td>\n",
       "      <td>112.0</td>\n",
       "      <td>1.0</td>\n",
       "      <td>48.0</td>\n",
       "      <td>121.0</td>\n",
       "    </tr>\n",
       "    <tr>\n",
       "      <th>5</th>\n",
       "      <td>10</td>\n",
       "      <td>2890000.0</td>\n",
       "      <td>30.40</td>\n",
       "      <td>2018-09-10T00:00:00</td>\n",
       "      <td>1</td>\n",
       "      <td>NaN</td>\n",
       "      <td>12.0</td>\n",
       "      <td>14.40</td>\n",
       "      <td>5</td>\n",
       "      <td>NaN</td>\n",
       "      <td>...</td>\n",
       "      <td>9.10</td>\n",
       "      <td>NaN</td>\n",
       "      <td>городской посёлок Янино-1</td>\n",
       "      <td>NaN</td>\n",
       "      <td>NaN</td>\n",
       "      <td>NaN</td>\n",
       "      <td>NaN</td>\n",
       "      <td>NaN</td>\n",
       "      <td>NaN</td>\n",
       "      <td>55.0</td>\n",
       "    </tr>\n",
       "    <tr>\n",
       "      <th>6</th>\n",
       "      <td>6</td>\n",
       "      <td>3700000.0</td>\n",
       "      <td>37.30</td>\n",
       "      <td>2017-11-02T00:00:00</td>\n",
       "      <td>1</td>\n",
       "      <td>NaN</td>\n",
       "      <td>26.0</td>\n",
       "      <td>10.60</td>\n",
       "      <td>6</td>\n",
       "      <td>NaN</td>\n",
       "      <td>...</td>\n",
       "      <td>14.40</td>\n",
       "      <td>1.0</td>\n",
       "      <td>посёлок Парголово</td>\n",
       "      <td>52996.0</td>\n",
       "      <td>19143.0</td>\n",
       "      <td>0.0</td>\n",
       "      <td>NaN</td>\n",
       "      <td>0.0</td>\n",
       "      <td>NaN</td>\n",
       "      <td>155.0</td>\n",
       "    </tr>\n",
       "    <tr>\n",
       "      <th>7</th>\n",
       "      <td>5</td>\n",
       "      <td>7915000.0</td>\n",
       "      <td>71.60</td>\n",
       "      <td>2019-04-18T00:00:00</td>\n",
       "      <td>2</td>\n",
       "      <td>NaN</td>\n",
       "      <td>24.0</td>\n",
       "      <td>NaN</td>\n",
       "      <td>22</td>\n",
       "      <td>NaN</td>\n",
       "      <td>...</td>\n",
       "      <td>18.90</td>\n",
       "      <td>2.0</td>\n",
       "      <td>Санкт-Петербург</td>\n",
       "      <td>23982.0</td>\n",
       "      <td>11634.0</td>\n",
       "      <td>0.0</td>\n",
       "      <td>NaN</td>\n",
       "      <td>0.0</td>\n",
       "      <td>NaN</td>\n",
       "      <td>NaN</td>\n",
       "    </tr>\n",
       "    <tr>\n",
       "      <th>8</th>\n",
       "      <td>20</td>\n",
       "      <td>2900000.0</td>\n",
       "      <td>33.16</td>\n",
       "      <td>2018-05-23T00:00:00</td>\n",
       "      <td>1</td>\n",
       "      <td>NaN</td>\n",
       "      <td>27.0</td>\n",
       "      <td>15.43</td>\n",
       "      <td>26</td>\n",
       "      <td>NaN</td>\n",
       "      <td>...</td>\n",
       "      <td>8.81</td>\n",
       "      <td>NaN</td>\n",
       "      <td>посёлок Мурино</td>\n",
       "      <td>NaN</td>\n",
       "      <td>NaN</td>\n",
       "      <td>NaN</td>\n",
       "      <td>NaN</td>\n",
       "      <td>NaN</td>\n",
       "      <td>NaN</td>\n",
       "      <td>189.0</td>\n",
       "    </tr>\n",
       "    <tr>\n",
       "      <th>9</th>\n",
       "      <td>18</td>\n",
       "      <td>5400000.0</td>\n",
       "      <td>61.00</td>\n",
       "      <td>2017-02-26T00:00:00</td>\n",
       "      <td>3</td>\n",
       "      <td>2.50</td>\n",
       "      <td>9.0</td>\n",
       "      <td>43.60</td>\n",
       "      <td>7</td>\n",
       "      <td>NaN</td>\n",
       "      <td>...</td>\n",
       "      <td>6.50</td>\n",
       "      <td>2.0</td>\n",
       "      <td>Санкт-Петербург</td>\n",
       "      <td>50898.0</td>\n",
       "      <td>15008.0</td>\n",
       "      <td>0.0</td>\n",
       "      <td>NaN</td>\n",
       "      <td>0.0</td>\n",
       "      <td>NaN</td>\n",
       "      <td>289.0</td>\n",
       "    </tr>\n",
       "    <tr>\n",
       "      <th>10</th>\n",
       "      <td>5</td>\n",
       "      <td>5050000.0</td>\n",
       "      <td>39.60</td>\n",
       "      <td>2017-11-16T00:00:00</td>\n",
       "      <td>1</td>\n",
       "      <td>2.67</td>\n",
       "      <td>12.0</td>\n",
       "      <td>20.30</td>\n",
       "      <td>3</td>\n",
       "      <td>NaN</td>\n",
       "      <td>...</td>\n",
       "      <td>8.50</td>\n",
       "      <td>NaN</td>\n",
       "      <td>Санкт-Петербург</td>\n",
       "      <td>38357.0</td>\n",
       "      <td>13878.0</td>\n",
       "      <td>1.0</td>\n",
       "      <td>310.0</td>\n",
       "      <td>2.0</td>\n",
       "      <td>553.0</td>\n",
       "      <td>137.0</td>\n",
       "    </tr>\n",
       "    <tr>\n",
       "      <th>11</th>\n",
       "      <td>9</td>\n",
       "      <td>3300000.0</td>\n",
       "      <td>44.00</td>\n",
       "      <td>2018-08-27T00:00:00</td>\n",
       "      <td>2</td>\n",
       "      <td>NaN</td>\n",
       "      <td>5.0</td>\n",
       "      <td>31.00</td>\n",
       "      <td>4</td>\n",
       "      <td>False</td>\n",
       "      <td>...</td>\n",
       "      <td>6.00</td>\n",
       "      <td>1.0</td>\n",
       "      <td>Ломоносов</td>\n",
       "      <td>48252.0</td>\n",
       "      <td>51677.0</td>\n",
       "      <td>0.0</td>\n",
       "      <td>NaN</td>\n",
       "      <td>0.0</td>\n",
       "      <td>NaN</td>\n",
       "      <td>7.0</td>\n",
       "    </tr>\n",
       "    <tr>\n",
       "      <th>12</th>\n",
       "      <td>10</td>\n",
       "      <td>3890000.0</td>\n",
       "      <td>54.00</td>\n",
       "      <td>2016-06-30T00:00:00</td>\n",
       "      <td>2</td>\n",
       "      <td>NaN</td>\n",
       "      <td>5.0</td>\n",
       "      <td>30.00</td>\n",
       "      <td>5</td>\n",
       "      <td>NaN</td>\n",
       "      <td>...</td>\n",
       "      <td>9.00</td>\n",
       "      <td>0.0</td>\n",
       "      <td>Сертолово</td>\n",
       "      <td>NaN</td>\n",
       "      <td>NaN</td>\n",
       "      <td>NaN</td>\n",
       "      <td>NaN</td>\n",
       "      <td>NaN</td>\n",
       "      <td>NaN</td>\n",
       "      <td>90.0</td>\n",
       "    </tr>\n",
       "    <tr>\n",
       "      <th>13</th>\n",
       "      <td>20</td>\n",
       "      <td>3550000.0</td>\n",
       "      <td>42.80</td>\n",
       "      <td>2017-07-01T00:00:00</td>\n",
       "      <td>2</td>\n",
       "      <td>2.56</td>\n",
       "      <td>5.0</td>\n",
       "      <td>27.00</td>\n",
       "      <td>5</td>\n",
       "      <td>NaN</td>\n",
       "      <td>...</td>\n",
       "      <td>5.20</td>\n",
       "      <td>1.0</td>\n",
       "      <td>Петергоф</td>\n",
       "      <td>37868.0</td>\n",
       "      <td>33058.0</td>\n",
       "      <td>1.0</td>\n",
       "      <td>294.0</td>\n",
       "      <td>3.0</td>\n",
       "      <td>298.0</td>\n",
       "      <td>366.0</td>\n",
       "    </tr>\n",
       "    <tr>\n",
       "      <th>14</th>\n",
       "      <td>1</td>\n",
       "      <td>4400000.0</td>\n",
       "      <td>36.00</td>\n",
       "      <td>2016-06-23T00:00:00</td>\n",
       "      <td>1</td>\n",
       "      <td>NaN</td>\n",
       "      <td>6.0</td>\n",
       "      <td>17.00</td>\n",
       "      <td>1</td>\n",
       "      <td>NaN</td>\n",
       "      <td>...</td>\n",
       "      <td>8.00</td>\n",
       "      <td>0.0</td>\n",
       "      <td>Пушкин</td>\n",
       "      <td>20782.0</td>\n",
       "      <td>30759.0</td>\n",
       "      <td>0.0</td>\n",
       "      <td>NaN</td>\n",
       "      <td>1.0</td>\n",
       "      <td>96.0</td>\n",
       "      <td>203.0</td>\n",
       "    </tr>\n",
       "    <tr>\n",
       "      <th>15</th>\n",
       "      <td>16</td>\n",
       "      <td>4650000.0</td>\n",
       "      <td>39.00</td>\n",
       "      <td>2017-11-18T00:00:00</td>\n",
       "      <td>1</td>\n",
       "      <td>NaN</td>\n",
       "      <td>14.0</td>\n",
       "      <td>20.50</td>\n",
       "      <td>5</td>\n",
       "      <td>NaN</td>\n",
       "      <td>...</td>\n",
       "      <td>7.60</td>\n",
       "      <td>1.0</td>\n",
       "      <td>Санкт-Петербург</td>\n",
       "      <td>12900.0</td>\n",
       "      <td>14259.0</td>\n",
       "      <td>1.0</td>\n",
       "      <td>590.0</td>\n",
       "      <td>1.0</td>\n",
       "      <td>296.0</td>\n",
       "      <td>19.0</td>\n",
       "    </tr>\n",
       "    <tr>\n",
       "      <th>16</th>\n",
       "      <td>11</td>\n",
       "      <td>6700000.0</td>\n",
       "      <td>82.00</td>\n",
       "      <td>2017-11-23T00:00:00</td>\n",
       "      <td>3</td>\n",
       "      <td>3.05</td>\n",
       "      <td>5.0</td>\n",
       "      <td>55.60</td>\n",
       "      <td>1</td>\n",
       "      <td>NaN</td>\n",
       "      <td>...</td>\n",
       "      <td>9.00</td>\n",
       "      <td>NaN</td>\n",
       "      <td>Санкт-Петербург</td>\n",
       "      <td>22108.0</td>\n",
       "      <td>10698.0</td>\n",
       "      <td>3.0</td>\n",
       "      <td>420.0</td>\n",
       "      <td>0.0</td>\n",
       "      <td>NaN</td>\n",
       "      <td>397.0</td>\n",
       "    </tr>\n",
       "    <tr>\n",
       "      <th>17</th>\n",
       "      <td>6</td>\n",
       "      <td>4180000.0</td>\n",
       "      <td>36.00</td>\n",
       "      <td>2016-09-09T00:00:00</td>\n",
       "      <td>1</td>\n",
       "      <td>NaN</td>\n",
       "      <td>17.0</td>\n",
       "      <td>16.50</td>\n",
       "      <td>7</td>\n",
       "      <td>NaN</td>\n",
       "      <td>...</td>\n",
       "      <td>11.00</td>\n",
       "      <td>1.0</td>\n",
       "      <td>Санкт-Петербург</td>\n",
       "      <td>33564.0</td>\n",
       "      <td>14616.0</td>\n",
       "      <td>0.0</td>\n",
       "      <td>NaN</td>\n",
       "      <td>1.0</td>\n",
       "      <td>859.0</td>\n",
       "      <td>571.0</td>\n",
       "    </tr>\n",
       "    <tr>\n",
       "      <th>18</th>\n",
       "      <td>8</td>\n",
       "      <td>3250000.0</td>\n",
       "      <td>31.00</td>\n",
       "      <td>2017-01-27T00:00:00</td>\n",
       "      <td>1</td>\n",
       "      <td>2.50</td>\n",
       "      <td>5.0</td>\n",
       "      <td>19.40</td>\n",
       "      <td>2</td>\n",
       "      <td>NaN</td>\n",
       "      <td>...</td>\n",
       "      <td>5.60</td>\n",
       "      <td>1.0</td>\n",
       "      <td>Санкт-Петербург</td>\n",
       "      <td>44060.0</td>\n",
       "      <td>10842.0</td>\n",
       "      <td>1.0</td>\n",
       "      <td>759.0</td>\n",
       "      <td>0.0</td>\n",
       "      <td>NaN</td>\n",
       "      <td>168.0</td>\n",
       "    </tr>\n",
       "    <tr>\n",
       "      <th>19</th>\n",
       "      <td>16</td>\n",
       "      <td>14200000.0</td>\n",
       "      <td>121.00</td>\n",
       "      <td>2019-01-09T00:00:00</td>\n",
       "      <td>3</td>\n",
       "      <td>2.75</td>\n",
       "      <td>16.0</td>\n",
       "      <td>76.00</td>\n",
       "      <td>8</td>\n",
       "      <td>NaN</td>\n",
       "      <td>...</td>\n",
       "      <td>12.00</td>\n",
       "      <td>NaN</td>\n",
       "      <td>Санкт-Петербург</td>\n",
       "      <td>38900.0</td>\n",
       "      <td>12843.0</td>\n",
       "      <td>0.0</td>\n",
       "      <td>NaN</td>\n",
       "      <td>0.0</td>\n",
       "      <td>NaN</td>\n",
       "      <td>97.0</td>\n",
       "    </tr>\n",
       "  </tbody>\n",
       "</table>\n",
       "<p>20 rows × 22 columns</p>\n",
       "</div>"
      ],
      "text/plain": [
       "    total_images  last_price  total_area first_day_exposition  rooms  \\\n",
       "0             20  13000000.0      108.00  2019-03-07T00:00:00      3   \n",
       "1              7   3350000.0       40.40  2018-12-04T00:00:00      1   \n",
       "2             10   5196000.0       56.00  2015-08-20T00:00:00      2   \n",
       "3              0  64900000.0      159.00  2015-07-24T00:00:00      3   \n",
       "4              2  10000000.0      100.00  2018-06-19T00:00:00      2   \n",
       "5             10   2890000.0       30.40  2018-09-10T00:00:00      1   \n",
       "6              6   3700000.0       37.30  2017-11-02T00:00:00      1   \n",
       "7              5   7915000.0       71.60  2019-04-18T00:00:00      2   \n",
       "8             20   2900000.0       33.16  2018-05-23T00:00:00      1   \n",
       "9             18   5400000.0       61.00  2017-02-26T00:00:00      3   \n",
       "10             5   5050000.0       39.60  2017-11-16T00:00:00      1   \n",
       "11             9   3300000.0       44.00  2018-08-27T00:00:00      2   \n",
       "12            10   3890000.0       54.00  2016-06-30T00:00:00      2   \n",
       "13            20   3550000.0       42.80  2017-07-01T00:00:00      2   \n",
       "14             1   4400000.0       36.00  2016-06-23T00:00:00      1   \n",
       "15            16   4650000.0       39.00  2017-11-18T00:00:00      1   \n",
       "16            11   6700000.0       82.00  2017-11-23T00:00:00      3   \n",
       "17             6   4180000.0       36.00  2016-09-09T00:00:00      1   \n",
       "18             8   3250000.0       31.00  2017-01-27T00:00:00      1   \n",
       "19            16  14200000.0      121.00  2019-01-09T00:00:00      3   \n",
       "\n",
       "    ceiling_height  floors_total  living_area  floor is_apartment  ...  \\\n",
       "0             2.70          16.0        51.00      8          NaN  ...   \n",
       "1              NaN          11.0        18.60      1          NaN  ...   \n",
       "2              NaN           5.0        34.30      4          NaN  ...   \n",
       "3              NaN          14.0          NaN      9          NaN  ...   \n",
       "4             3.03          14.0        32.00     13          NaN  ...   \n",
       "5              NaN          12.0        14.40      5          NaN  ...   \n",
       "6              NaN          26.0        10.60      6          NaN  ...   \n",
       "7              NaN          24.0          NaN     22          NaN  ...   \n",
       "8              NaN          27.0        15.43     26          NaN  ...   \n",
       "9             2.50           9.0        43.60      7          NaN  ...   \n",
       "10            2.67          12.0        20.30      3          NaN  ...   \n",
       "11             NaN           5.0        31.00      4        False  ...   \n",
       "12             NaN           5.0        30.00      5          NaN  ...   \n",
       "13            2.56           5.0        27.00      5          NaN  ...   \n",
       "14             NaN           6.0        17.00      1          NaN  ...   \n",
       "15             NaN          14.0        20.50      5          NaN  ...   \n",
       "16            3.05           5.0        55.60      1          NaN  ...   \n",
       "17             NaN          17.0        16.50      7          NaN  ...   \n",
       "18            2.50           5.0        19.40      2          NaN  ...   \n",
       "19            2.75          16.0        76.00      8          NaN  ...   \n",
       "\n",
       "    kitchen_area  balcony              locality_name  airports_nearest  \\\n",
       "0          25.00      NaN            Санкт-Петербург           18863.0   \n",
       "1          11.00      2.0             посёлок Шушары           12817.0   \n",
       "2           8.30      0.0            Санкт-Петербург           21741.0   \n",
       "3            NaN      0.0            Санкт-Петербург           28098.0   \n",
       "4          41.00      NaN            Санкт-Петербург           31856.0   \n",
       "5           9.10      NaN  городской посёлок Янино-1               NaN   \n",
       "6          14.40      1.0          посёлок Парголово           52996.0   \n",
       "7          18.90      2.0            Санкт-Петербург           23982.0   \n",
       "8           8.81      NaN             посёлок Мурино               NaN   \n",
       "9           6.50      2.0            Санкт-Петербург           50898.0   \n",
       "10          8.50      NaN            Санкт-Петербург           38357.0   \n",
       "11          6.00      1.0                  Ломоносов           48252.0   \n",
       "12          9.00      0.0                  Сертолово               NaN   \n",
       "13          5.20      1.0                   Петергоф           37868.0   \n",
       "14          8.00      0.0                     Пушкин           20782.0   \n",
       "15          7.60      1.0            Санкт-Петербург           12900.0   \n",
       "16          9.00      NaN            Санкт-Петербург           22108.0   \n",
       "17         11.00      1.0            Санкт-Петербург           33564.0   \n",
       "18          5.60      1.0            Санкт-Петербург           44060.0   \n",
       "19         12.00      NaN            Санкт-Петербург           38900.0   \n",
       "\n",
       "   cityCenters_nearest  parks_around3000  parks_nearest  ponds_around3000  \\\n",
       "0              16028.0               1.0          482.0               2.0   \n",
       "1              18603.0               0.0            NaN               0.0   \n",
       "2              13933.0               1.0           90.0               2.0   \n",
       "3               6800.0               2.0           84.0               3.0   \n",
       "4               8098.0               2.0          112.0               1.0   \n",
       "5                  NaN               NaN            NaN               NaN   \n",
       "6              19143.0               0.0            NaN               0.0   \n",
       "7              11634.0               0.0            NaN               0.0   \n",
       "8                  NaN               NaN            NaN               NaN   \n",
       "9              15008.0               0.0            NaN               0.0   \n",
       "10             13878.0               1.0          310.0               2.0   \n",
       "11             51677.0               0.0            NaN               0.0   \n",
       "12                 NaN               NaN            NaN               NaN   \n",
       "13             33058.0               1.0          294.0               3.0   \n",
       "14             30759.0               0.0            NaN               1.0   \n",
       "15             14259.0               1.0          590.0               1.0   \n",
       "16             10698.0               3.0          420.0               0.0   \n",
       "17             14616.0               0.0            NaN               1.0   \n",
       "18             10842.0               1.0          759.0               0.0   \n",
       "19             12843.0               0.0            NaN               0.0   \n",
       "\n",
       "    ponds_nearest  days_exposition  \n",
       "0           755.0              NaN  \n",
       "1             NaN             81.0  \n",
       "2           574.0            558.0  \n",
       "3           234.0            424.0  \n",
       "4            48.0            121.0  \n",
       "5             NaN             55.0  \n",
       "6             NaN            155.0  \n",
       "7             NaN              NaN  \n",
       "8             NaN            189.0  \n",
       "9             NaN            289.0  \n",
       "10          553.0            137.0  \n",
       "11            NaN              7.0  \n",
       "12            NaN             90.0  \n",
       "13          298.0            366.0  \n",
       "14           96.0            203.0  \n",
       "15          296.0             19.0  \n",
       "16            NaN            397.0  \n",
       "17          859.0            571.0  \n",
       "18            NaN            168.0  \n",
       "19            NaN             97.0  \n",
       "\n",
       "[20 rows x 22 columns]"
      ]
     },
     "execution_count": 2,
     "metadata": {},
     "output_type": "execute_result"
    }
   ],
   "source": [
    "data.head(20)"
   ]
  },
  {
   "cell_type": "code",
   "execution_count": 3,
   "metadata": {},
   "outputs": [
    {
     "name": "stdout",
     "output_type": "stream",
     "text": [
      "<class 'pandas.core.frame.DataFrame'>\n",
      "RangeIndex: 23699 entries, 0 to 23698\n",
      "Data columns (total 22 columns):\n",
      " #   Column                Non-Null Count  Dtype  \n",
      "---  ------                --------------  -----  \n",
      " 0   total_images          23699 non-null  int64  \n",
      " 1   last_price            23699 non-null  float64\n",
      " 2   total_area            23699 non-null  float64\n",
      " 3   first_day_exposition  23699 non-null  object \n",
      " 4   rooms                 23699 non-null  int64  \n",
      " 5   ceiling_height        14504 non-null  float64\n",
      " 6   floors_total          23613 non-null  float64\n",
      " 7   living_area           21796 non-null  float64\n",
      " 8   floor                 23699 non-null  int64  \n",
      " 9   is_apartment          2775 non-null   object \n",
      " 10  studio                23699 non-null  bool   \n",
      " 11  open_plan             23699 non-null  bool   \n",
      " 12  kitchen_area          21421 non-null  float64\n",
      " 13  balcony               12180 non-null  float64\n",
      " 14  locality_name         23650 non-null  object \n",
      " 15  airports_nearest      18157 non-null  float64\n",
      " 16  cityCenters_nearest   18180 non-null  float64\n",
      " 17  parks_around3000      18181 non-null  float64\n",
      " 18  parks_nearest         8079 non-null   float64\n",
      " 19  ponds_around3000      18181 non-null  float64\n",
      " 20  ponds_nearest         9110 non-null   float64\n",
      " 21  days_exposition       20518 non-null  float64\n",
      "dtypes: bool(2), float64(14), int64(3), object(3)\n",
      "memory usage: 3.7+ MB\n"
     ]
    }
   ],
   "source": [
    "data.info()"
   ]
  },
  {
   "cell_type": "code",
   "execution_count": 4,
   "metadata": {},
   "outputs": [
    {
     "data": {
      "text/plain": [
       "array([[<AxesSubplot:title={'center':'total_images'}>,\n",
       "        <AxesSubplot:title={'center':'last_price'}>,\n",
       "        <AxesSubplot:title={'center':'total_area'}>,\n",
       "        <AxesSubplot:title={'center':'rooms'}>],\n",
       "       [<AxesSubplot:title={'center':'ceiling_height'}>,\n",
       "        <AxesSubplot:title={'center':'floors_total'}>,\n",
       "        <AxesSubplot:title={'center':'living_area'}>,\n",
       "        <AxesSubplot:title={'center':'floor'}>],\n",
       "       [<AxesSubplot:title={'center':'kitchen_area'}>,\n",
       "        <AxesSubplot:title={'center':'balcony'}>,\n",
       "        <AxesSubplot:title={'center':'airports_nearest'}>,\n",
       "        <AxesSubplot:title={'center':'cityCenters_nearest'}>],\n",
       "       [<AxesSubplot:title={'center':'parks_around3000'}>,\n",
       "        <AxesSubplot:title={'center':'parks_nearest'}>,\n",
       "        <AxesSubplot:title={'center':'ponds_around3000'}>,\n",
       "        <AxesSubplot:title={'center':'ponds_nearest'}>],\n",
       "       [<AxesSubplot:title={'center':'days_exposition'}>, <AxesSubplot:>,\n",
       "        <AxesSubplot:>, <AxesSubplot:>]], dtype=object)"
      ]
     },
     "execution_count": 4,
     "metadata": {},
     "output_type": "execute_result"
    },
    {
     "data": {
      "image/png": "[encoded data removed]",
      "text/plain": [
       "<Figure size 1080x1440 with 20 Axes>"
      ]
     },
     "metadata": {
      "needs_background": "light"
     },
     "output_type": "display_data"
    }
   ],
   "source": [
    "data.hist(figsize=(15, 20))"
   ]
  },
  {
   "cell_type": "markdown",
   "metadata": {},
   "source": [
    "Из общей информации следует, что всего строк данных 23699, некоторые поля нуждаются в приведении к нормальному виду. Также есть пустые/незаполненные поля. Преимущественно поля, типа float64. На графиках видны выбросы. Данные нуждаются в предобработке."
   ]
  },
  {
   "cell_type": "markdown",
   "metadata": {
    "id": "-O5NtivEAwb9"
   },
   "source": [
    "### Выполните предобработку данных"
   ]
  },
  {
   "cell_type": "code",
   "execution_count": 5,
   "metadata": {},
   "outputs": [],
   "source": [
    "data = data.rename(columns={'cityCenters_nearest':'city_centers_nearest', 'parks_around3000': 'parks_around_3000', 'ponds_around3000':'ponds_around_3000'})"
   ]
  },
  {
   "cell_type": "code",
   "execution_count": 11,
   "metadata": {},
   "outputs": [
    {
     "data": {
      "text/plain": [
       "is_apartment            20924\n",
       "parks_nearest           15620\n",
       "ponds_nearest           14589\n",
       "balcony                 11519\n",
       "ceiling_height           9195\n",
       "airports_nearest         5542\n",
       "city_centers_nearest     5519\n",
       "ponds_around_3000        5518\n",
       "parks_around_3000        5518\n",
       "days_exposition          3181\n",
       "kitchen_area             2278\n",
       "living_area              1903\n",
       "floors_total               86\n",
       "locality_name              49\n",
       "total_images                0\n",
       "last_price                  0\n",
       "studio                      0\n",
       "floor                       0\n",
       "rooms                       0\n",
       "first_day_exposition        0\n",
       "total_area                  0\n",
       "open_plan                   0\n",
       "dtype: int64"
      ]
     },
     "execution_count": 11,
     "metadata": {},
     "output_type": "execute_result"
    }
   ],
   "source": [
    "data.isna().sum().sort_values(ascending=False)"
   ]
  },
  {
   "cell_type": "markdown",
   "metadata": {},
   "source": [
    "Пустые значения у признака апартаментов ставим по умолчанию False:"
   ]
  },
  {
   "cell_type": "code",
   "execution_count": 12,
   "metadata": {
    "id": "7v3vAeTuAwb-"
   },
   "outputs": [
    {
     "data": {
      "text/plain": [
       "total_images                0\n",
       "last_price                  0\n",
       "total_area                  0\n",
       "first_day_exposition        0\n",
       "rooms                       0\n",
       "ceiling_height           9195\n",
       "floors_total               86\n",
       "living_area              1903\n",
       "floor                       0\n",
       "is_apartment                0\n",
       "studio                      0\n",
       "open_plan                   0\n",
       "kitchen_area             2278\n",
       "balcony                 11519\n",
       "locality_name              49\n",
       "airports_nearest         5542\n",
       "city_centers_nearest     5519\n",
       "parks_around_3000        5518\n",
       "parks_nearest           15620\n",
       "ponds_around_3000        5518\n",
       "ponds_nearest           14589\n",
       "days_exposition          3181\n",
       "dtype: int64"
      ]
     },
     "execution_count": 12,
     "metadata": {},
     "output_type": "execute_result"
    }
   ],
   "source": [
    "data['is_apartment'] = data['is_apartment'].fillna(False)\n",
    "data.isna().sum().sort_values(ascending=False)"
   ]
  },
  {
   "cell_type": "code",
   "execution_count": 13,
   "metadata": {},
   "outputs": [
    {
     "data": {
      "text/plain": [
       "2.65"
      ]
     },
     "execution_count": 13,
     "metadata": {},
     "output_type": "execute_result"
    }
   ],
   "source": [
    "data['ceiling_height'].median()"
   ]
  },
  {
   "cell_type": "markdown",
   "metadata": {},
   "source": [
    "Медиана высоты потолков составляет 2.65, что соответствует ГОСТу и не испортит наши данные."
   ]
  },
  {
   "cell_type": "code",
   "execution_count": 14,
   "metadata": {},
   "outputs": [
    {
     "data": {
      "text/plain": [
       "total_images                0\n",
       "last_price                  0\n",
       "total_area                  0\n",
       "first_day_exposition        0\n",
       "rooms                       0\n",
       "ceiling_height              0\n",
       "floors_total               86\n",
       "living_area              1903\n",
       "floor                       0\n",
       "is_apartment                0\n",
       "studio                      0\n",
       "open_plan                   0\n",
       "kitchen_area             2278\n",
       "balcony                 11519\n",
       "locality_name              49\n",
       "airports_nearest         5542\n",
       "city_centers_nearest     5519\n",
       "parks_around_3000        5518\n",
       "parks_nearest           15620\n",
       "ponds_around_3000        5518\n",
       "ponds_nearest           14589\n",
       "days_exposition          3181\n",
       "dtype: int64"
      ]
     },
     "execution_count": 14,
     "metadata": {},
     "output_type": "execute_result"
    }
   ],
   "source": [
    "data['ceiling_height'] = data['ceiling_height'].fillna(data['ceiling_height'].median())\n",
    "data.isna().sum().sort_values(ascending=False)"
   ]
  },
  {
   "cell_type": "code",
   "execution_count": 15,
   "metadata": {},
   "outputs": [
    {
     "data": {
      "text/plain": [
       "9.0"
      ]
     },
     "execution_count": 15,
     "metadata": {},
     "output_type": "execute_result"
    }
   ],
   "source": [
    "data['floors_total'].median()"
   ]
  },
  {
   "cell_type": "markdown",
   "metadata": {},
   "source": [
    "Медиана количества этажей равна 9. В Санкт-Петербурге дома, преимущественно, 9-ти и 14-ти этажные. Следовательно значение подходит нашим данным."
   ]
  },
  {
   "cell_type": "code",
   "execution_count": 16,
   "metadata": {},
   "outputs": [],
   "source": [
    "data['floors_total'] = data['floors_total'].fillna(9.0)"
   ]
  },
  {
   "cell_type": "code",
   "execution_count": 17,
   "metadata": {},
   "outputs": [
    {
     "data": {
      "text/plain": [
       "30.0"
      ]
     },
     "execution_count": 17,
     "metadata": {},
     "output_type": "execute_result"
    }
   ],
   "source": [
    "# Мог использовать describe() для выбора между медианой или средним, но сообразил про это только на 4м задании.\n",
    "data['living_area'].median()"
   ]
  },
  {
   "cell_type": "code",
   "execution_count": 18,
   "metadata": {},
   "outputs": [
    {
     "data": {
      "text/plain": [
       "34.0"
      ]
     },
     "execution_count": 18,
     "metadata": {},
     "output_type": "execute_result"
    }
   ],
   "source": [
    "data['living_area'].mean().round()"
   ]
  },
  {
   "cell_type": "markdown",
   "metadata": {},
   "source": [
    "Так как по статистике на одного человека приемлемая жилая площадь - 33 кв.м., то нам больше подходит среднее значение. Применим его:"
   ]
  },
  {
   "cell_type": "code",
   "execution_count": 19,
   "metadata": {},
   "outputs": [
    {
     "data": {
      "text/plain": [
       "total_images                0\n",
       "last_price                  0\n",
       "total_area                  0\n",
       "first_day_exposition        0\n",
       "rooms                       0\n",
       "ceiling_height              0\n",
       "floors_total                0\n",
       "living_area                 0\n",
       "floor                       0\n",
       "is_apartment                0\n",
       "studio                      0\n",
       "open_plan                   0\n",
       "kitchen_area             2278\n",
       "balcony                 11519\n",
       "locality_name              49\n",
       "airports_nearest         5542\n",
       "city_centers_nearest     5519\n",
       "parks_around_3000        5518\n",
       "parks_nearest           15620\n",
       "ponds_around_3000        5518\n",
       "ponds_nearest           14589\n",
       "days_exposition          3181\n",
       "dtype: int64"
      ]
     },
     "execution_count": 19,
     "metadata": {},
     "output_type": "execute_result"
    }
   ],
   "source": [
    "data['living_area'] = data['living_area'].fillna(data['living_area'].mean().round())\n",
    "data.isna().sum().sort_values(ascending=False)"
   ]
  },
  {
   "cell_type": "code",
   "execution_count": 20,
   "metadata": {},
   "outputs": [
    {
     "data": {
      "text/plain": [
       "9.1"
      ]
     },
     "execution_count": 20,
     "metadata": {},
     "output_type": "execute_result"
    }
   ],
   "source": [
    "data['kitchen_area'].median()"
   ]
  },
  {
   "cell_type": "markdown",
   "metadata": {},
   "source": [
    "Медиана также, не навредит данным и подходит по общей статистике."
   ]
  },
  {
   "cell_type": "code",
   "execution_count": 21,
   "metadata": {},
   "outputs": [
    {
     "data": {
      "text/plain": [
       "total_images                0\n",
       "last_price                  0\n",
       "total_area                  0\n",
       "first_day_exposition        0\n",
       "rooms                       0\n",
       "ceiling_height              0\n",
       "floors_total                0\n",
       "living_area                 0\n",
       "floor                       0\n",
       "is_apartment                0\n",
       "studio                      0\n",
       "open_plan                   0\n",
       "kitchen_area                0\n",
       "balcony                 11519\n",
       "locality_name              49\n",
       "airports_nearest         5542\n",
       "city_centers_nearest     5519\n",
       "parks_around_3000        5518\n",
       "parks_nearest           15620\n",
       "ponds_around_3000        5518\n",
       "ponds_nearest           14589\n",
       "days_exposition          3181\n",
       "dtype: int64"
      ]
     },
     "execution_count": 21,
     "metadata": {},
     "output_type": "execute_result"
    }
   ],
   "source": [
    "data['kitchen_area'] = data['kitchen_area'].fillna(data['kitchen_area'].median())\n",
    "data.isna().sum().sort_values(ascending=False)"
   ]
  },
  {
   "cell_type": "markdown",
   "metadata": {},
   "source": [
    "Так как число балконов могли, попросту, не указывать, то релевантно приравнять пустые значения к 0."
   ]
  },
  {
   "cell_type": "code",
   "execution_count": 25,
   "metadata": {},
   "outputs": [
    {
     "data": {
      "text/plain": [
       "parks_nearest           15620\n",
       "ponds_nearest           14589\n",
       "airports_nearest         5542\n",
       "city_centers_nearest     5519\n",
       "ponds_around_3000        5518\n",
       "parks_around_3000        5518\n",
       "days_exposition          3181\n",
       "locality_name              49\n",
       "last_price                  0\n",
       "balcony                     0\n",
       "kitchen_area                0\n",
       "total_images                0\n",
       "studio                      0\n",
       "is_apartment                0\n",
       "floor                       0\n",
       "living_area                 0\n",
       "floors_total                0\n",
       "ceiling_height              0\n",
       "rooms                       0\n",
       "first_day_exposition        0\n",
       "total_area                  0\n",
       "open_plan                   0\n",
       "dtype: int64"
      ]
     },
     "execution_count": 25,
     "metadata": {},
     "output_type": "execute_result"
    }
   ],
   "source": [
    "data['balcony'] = data['balcony'].fillna(0)\n",
    "data.isna().sum().sort_values(ascending=False)"
   ]
  },
  {
   "cell_type": "code",
   "execution_count": 46,
   "metadata": {},
   "outputs": [
    {
     "data": {
      "text/plain": [
       "array(['unknown', 'Агалатово', 'Александровская', 'Алексеевка', 'Аннино',\n",
       "       'Аро', 'Барышево', 'Батово', 'Бегуницы', 'Белогорка', 'Белоостров',\n",
       "       'Бокситогорск', 'Большая Вруда', 'Большая Ижора',\n",
       "       'Большая Пустомержа', 'Большие Колпаны', 'Большое Рейзино',\n",
       "       'Большой Сабск', 'Бор', 'Борисова Грива', 'Бугры', 'Будогощь',\n",
       "       'Ваганово', 'Важины', 'Вартемяги', 'Вахнова Кара', 'Вещево',\n",
       "       'Виллози', 'Вознесенье', 'Возрождение', 'Войсковицы', 'Войскорово',\n",
       "       'Володарское', 'Волосово', 'Волхов', 'Всеволожск', 'Выборг',\n",
       "       'Вырица', 'Выскатка', 'Высокоключевой', 'Высоцк', 'Гаврилово',\n",
       "       'Гарболово', 'Гатчина', 'Гладкое', 'Глажево', 'Глебычево',\n",
       "       'Глинка', 'Гончарово', 'Горбунки', 'Гостилицы', 'Громово',\n",
       "       'Дзержинского', 'Дружная Горка', 'Дружноселье', 'Дубровка',\n",
       "       'Елизаветино', 'Ефимовский', 'Жилгородок', 'Жилпоселок', 'Житково',\n",
       "       'Заводской', 'Заклинье', 'Заневка', 'Запорожское', 'Зеленогорск',\n",
       "       'Зимитицы', 'Ивангород', 'Извара', 'Ильичево', 'Иссад', 'Калитино',\n",
       "       'Каложицы', 'Кальтино', 'Каменногорск', 'Камышовка', 'Каськово',\n",
       "       'Келози', 'Кивеннапа Север', 'Кикерино', 'Кингисепп',\n",
       "       'Кингисеппский', 'Кипень', 'Кириши', 'Кировск', 'Кирпичное',\n",
       "       'Кисельня', 'Кобралово', 'Кобринское', 'Колпино', 'Колтуши',\n",
       "       'Коммунар', 'Кондратьево', 'Копорье', 'Коркино', 'Корнево',\n",
       "       'Коробицыно', 'Котельский', 'Котлы', 'Красная Долина',\n",
       "       'Красное Село', 'Красносельское', 'Красный Бор', 'Кривко',\n",
       "       'Кронштадт', 'Кудрово', 'Кузнечное', 'Кузьмолово', 'Кузьмоловский',\n",
       "       'Курковицы', 'Куровицы', 'Куттузи', 'Лаврики', 'Лаголово',\n",
       "       'Лампово', 'Лебяжье', 'Левашово', 'Ленинское', 'Лесколово',\n",
       "       'Лесная Поляна', 'Лесное', 'Лесогорский', 'Лисий Нос',\n",
       "       'Лодейное Поле', 'Ломоносов', 'Лопухинка', 'Луга', 'Лужайка',\n",
       "       'Лукаши', 'Лупполово', 'Любань', 'Малая Романовка', 'Малое Верево',\n",
       "       'Малое Карлино', 'Малые Колпаны', 'Мануйлово', 'Мга', 'Мельниково',\n",
       "       'Меньково', 'Металлострой', 'Мины', 'Мистолово', 'Мичуринское',\n",
       "       'Молодежное', 'Молодцово', 'Мурино', 'Мыза-Ивановка', 'Назия',\n",
       "       'Ненимяки', 'Нижние Осельки', 'Нижняя', 'Низино', 'Никольский',\n",
       "       'Никольское', 'Новая Ладога', 'Новая Ропша', 'Новогорелово',\n",
       "       'Новое Девяткино', 'Новолисино', 'Новоселье', 'Новый Свет',\n",
       "       'Новый Учхоз', 'Нурма', 'Оредеж', 'Оржицы', 'Отрадное', 'Павлово',\n",
       "       'Павловск', 'Пансионат Зеленый Бор', 'Парголово', 'Парицы', 'Паша',\n",
       "       'Пельгора', 'Пеники', 'Первомайское', 'Перово', 'Песочный',\n",
       "       'Петергоф', 'Петро-Славянка', 'Петровское', 'Пижма', 'Пикалево',\n",
       "       'Пикколово', 'Платформа 69-й километр', 'Плодовое', 'Плоское',\n",
       "       'Победа', 'Подпорожье', 'Поляны', 'Понтонный', 'Почап', 'Починок',\n",
       "       'Приветнинское', 'Пригородный', 'Приладожский', 'Приморск',\n",
       "       'Приозерск', 'Пудомяги', 'Пудость', 'Пустынка', 'Путилово',\n",
       "       'Пушкин', 'Пушное', 'Пчева', 'Пчевжа', 'Рабитицы', 'Разбегаево',\n",
       "       'Раздолье', 'Разметелево', 'Рапполово', 'Рахья', 'Реброво',\n",
       "       'Репино', 'Рождествено', 'Романовка', 'Ромашки', 'Ропша', 'Рощино',\n",
       "       'Русско', 'Русско-Высоцкое', 'Рябово', 'Садко', 'Санкт-Петербург',\n",
       "       'Саперное', 'Саперный', 'Светогорск', 'Свирь', 'Свирьстрой',\n",
       "       'Севастьяново', 'Селезнево', 'Сельцо', 'Семиозерье', 'Семрино',\n",
       "       'Серебрянский', 'Сертолово', 'Сестрорецк', 'Сиверский', 'Сижно',\n",
       "       'Синявино', 'Сланцы', 'Снегиревка', 'Советский', 'Совхозный',\n",
       "       'Сосново', 'Сосновый Бор', 'Старая', 'Старая Ладога',\n",
       "       'Старая Малукса', 'Старая Пустошь', 'Старое Хинколово',\n",
       "       'Старополье', 'Старосиверская', 'Старые Бегуницы', 'Стеклянный',\n",
       "       'Стрельна', 'Суйда', 'Сумино', 'Суоранда', 'Суходолье', 'Счастье',\n",
       "       'Сяськелево', 'Сясьстрой', 'Тайцы', 'Тарасово', 'Тельмана',\n",
       "       'Терволово', 'Терпилицы', 'Тесово-4', 'Тихвин', 'Тихковицы',\n",
       "       'Тойворово', 'Токсово', 'Торковичи', 'Торосово', 'Торошковичи',\n",
       "       'Торфяное', 'Тосно', 'Трубников Бор', 'Углово', 'Ульяновка',\n",
       "       'Усть-Ижора', 'Усть-Луга', 'Ушаки', 'Фалилеево', 'Федоровское',\n",
       "       'Форносово', 'Форт Красная Горка', 'Хапо-Ое', 'Хязельки',\n",
       "       'Цвелодубово', 'Цвылево', 'Чудской Бор', 'Шлиссельбург',\n",
       "       'Шпаньково', 'Шугозеро', 'Шум', 'Шушары', 'Щеглово', 'Юкки',\n",
       "       'Ялгино', 'Яльгелево', 'Ям-Тесово', 'Янино-1', 'имени Морозова',\n",
       "       'имени Свердлова'], dtype=object)"
      ]
     },
     "execution_count": 46,
     "metadata": {},
     "output_type": "execute_result"
    }
   ],
   "source": [
    "data['locality_name'].sort_values().unique()"
   ]
  },
  {
   "cell_type": "markdown",
   "metadata": {},
   "source": [
    "Значения поля locality_name необходимо почистить от неявных дубликатов. Необходимо заменить букву ё на е. И удалить все приставки с обозначением типа населенных пунктов. Название населенных пунктов nan заменим на unknown, так как оно лучше подходит по типу."
   ]
  },
  {
   "cell_type": "code",
   "execution_count": 47,
   "metadata": {},
   "outputs": [
    {
     "data": {
      "text/plain": [
       "parks_nearest           15620\n",
       "ponds_nearest           14589\n",
       "airports_nearest         5542\n",
       "city_centers_nearest     5519\n",
       "ponds_around_3000        5518\n",
       "parks_around_3000        5518\n",
       "days_exposition          3181\n",
       "last_price                  0\n",
       "locality_name               0\n",
       "balcony                     0\n",
       "kitchen_area                0\n",
       "total_images                0\n",
       "studio                      0\n",
       "is_apartment                0\n",
       "floor                       0\n",
       "living_area                 0\n",
       "floors_total                0\n",
       "ceiling_height              0\n",
       "rooms                       0\n",
       "first_day_exposition        0\n",
       "total_area                  0\n",
       "open_plan                   0\n",
       "dtype: int64"
      ]
     },
     "execution_count": 47,
     "metadata": {},
     "output_type": "execute_result"
    }
   ],
   "source": [
    "data['locality_name'] = (\n",
    "    data['locality_name']\n",
    "    .str.replace('ё', 'е')\n",
    "    .replace(['поселок ','при железнодорожной станции ', 'платформа ', 'садоводческое некоммерческое товарищество ',\n",
    "             'садовое товарищество ', 'станции ', 'село ', 'пансионат ', 'городского типа ',\n",
    "             'деревня ', 'городской поселок ', 'коттеджный ', 'городской '], '', regex=True)\n",
    ")\n",
    "data['locality_name'] = data['locality_name'].fillna('unknown')\n",
    "data.isna().sum().sort_values(ascending=False)"
   ]
  },
  {
   "cell_type": "markdown",
   "metadata": {},
   "source": [
    "Проверим данные на полные явные дубликаты:"
   ]
  },
  {
   "cell_type": "code",
   "execution_count": 48,
   "metadata": {},
   "outputs": [
    {
     "data": {
      "text/plain": [
       "total_images            0\n",
       "last_price              0\n",
       "total_area              0\n",
       "first_day_exposition    0\n",
       "rooms                   0\n",
       "ceiling_height          0\n",
       "floors_total            0\n",
       "living_area             0\n",
       "floor                   0\n",
       "is_apartment            0\n",
       "studio                  0\n",
       "open_plan               0\n",
       "kitchen_area            0\n",
       "balcony                 0\n",
       "locality_name           0\n",
       "airports_nearest        0\n",
       "city_centers_nearest    0\n",
       "parks_around_3000       0\n",
       "parks_nearest           0\n",
       "ponds_around_3000       0\n",
       "ponds_nearest           0\n",
       "days_exposition         0\n",
       "dtype: int64"
      ]
     },
     "execution_count": 48,
     "metadata": {},
     "output_type": "execute_result"
    }
   ],
   "source": [
    "data[data.duplicated()].count()"
   ]
  },
  {
   "cell_type": "markdown",
   "metadata": {},
   "source": [
    "Полных дубликатов не найдено.\n",
    "Так как релевантного значения для замены нет и у поля locality_name тип строки, который не будет влиять на вычисления, то пустые значения оставляем как есть"
   ]
  },
  {
   "cell_type": "code",
   "execution_count": 49,
   "metadata": {},
   "outputs": [
    {
     "data": {
      "text/plain": [
       "28793.67219254282"
      ]
     },
     "execution_count": 49,
     "metadata": {},
     "output_type": "execute_result"
    }
   ],
   "source": [
    "data['airports_nearest'].mean()"
   ]
  },
  {
   "cell_type": "markdown",
   "metadata": {},
   "source": [
    "Для расстояния до ближайшего аэропорта и до центра будет достаточно среднего значения на замену"
   ]
  },
  {
   "cell_type": "code",
   "execution_count": 50,
   "metadata": {},
   "outputs": [
    {
     "data": {
      "text/plain": [
       "total_images                0\n",
       "last_price                  0\n",
       "total_area                  0\n",
       "first_day_exposition        0\n",
       "rooms                       0\n",
       "ceiling_height              0\n",
       "floors_total                0\n",
       "living_area                 0\n",
       "floor                       0\n",
       "is_apartment                0\n",
       "studio                      0\n",
       "open_plan                   0\n",
       "kitchen_area                0\n",
       "balcony                     0\n",
       "locality_name               0\n",
       "airports_nearest            0\n",
       "city_centers_nearest     5519\n",
       "parks_around_3000        5518\n",
       "parks_nearest           15620\n",
       "ponds_around_3000        5518\n",
       "ponds_nearest           14589\n",
       "days_exposition          3181\n",
       "dtype: int64"
      ]
     },
     "execution_count": 50,
     "metadata": {},
     "output_type": "execute_result"
    }
   ],
   "source": [
    "data['airports_nearest'] = data['airports_nearest'].fillna(data['airports_nearest'].mean())\n",
    "data.isna().sum()"
   ]
  },
  {
   "cell_type": "code",
   "execution_count": 51,
   "metadata": {},
   "outputs": [
    {
     "data": {
      "text/plain": [
       "total_images                0\n",
       "last_price                  0\n",
       "total_area                  0\n",
       "first_day_exposition        0\n",
       "rooms                       0\n",
       "ceiling_height              0\n",
       "floors_total                0\n",
       "living_area                 0\n",
       "floor                       0\n",
       "is_apartment                0\n",
       "studio                      0\n",
       "open_plan                   0\n",
       "kitchen_area                0\n",
       "balcony                     0\n",
       "locality_name               0\n",
       "airports_nearest            0\n",
       "city_centers_nearest        0\n",
       "parks_around_3000        5518\n",
       "parks_nearest           15620\n",
       "ponds_around_3000        5518\n",
       "ponds_nearest           14589\n",
       "days_exposition          3181\n",
       "dtype: int64"
      ]
     },
     "execution_count": 51,
     "metadata": {},
     "output_type": "execute_result"
    }
   ],
   "source": [
    "data['city_centers_nearest'] = data['city_centers_nearest'].fillna(data['city_centers_nearest'].mean())\n",
    "data.isna().sum()"
   ]
  },
  {
   "cell_type": "markdown",
   "metadata": {},
   "source": [
    "Если не было указано парков, то принимаем число 0 за заполнение пустого значения, так как вполне вероятно, что значение не заполнялось, если парков не было по близости."
   ]
  },
  {
   "cell_type": "code",
   "execution_count": 52,
   "metadata": {},
   "outputs": [],
   "source": [
    "data['parks_around_3000'] = data['parks_around_3000'].fillna(0)"
   ]
  },
  {
   "cell_type": "code",
   "execution_count": 53,
   "metadata": {},
   "outputs": [
    {
     "data": {
      "text/plain": [
       "total_images                0\n",
       "last_price                  0\n",
       "total_area                  0\n",
       "first_day_exposition        0\n",
       "rooms                       0\n",
       "ceiling_height              0\n",
       "floors_total                0\n",
       "living_area                 0\n",
       "floor                       0\n",
       "is_apartment                0\n",
       "studio                      0\n",
       "open_plan                   0\n",
       "kitchen_area                0\n",
       "balcony                     0\n",
       "locality_name               0\n",
       "airports_nearest            0\n",
       "city_centers_nearest        0\n",
       "parks_around_3000           0\n",
       "parks_nearest               0\n",
       "ponds_around_3000        5518\n",
       "ponds_nearest           14589\n",
       "days_exposition          3181\n",
       "dtype: int64"
      ]
     },
     "execution_count": 53,
     "metadata": {},
     "output_type": "execute_result"
    }
   ],
   "source": [
    "data['parks_nearest'] = data['parks_nearest'].fillna(0)\n",
    "data.isna().sum()"
   ]
  },
  {
   "cell_type": "markdown",
   "metadata": {},
   "source": [
    "Проделаем тоже самое с водоемами:"
   ]
  },
  {
   "cell_type": "code",
   "execution_count": 54,
   "metadata": {},
   "outputs": [
    {
     "data": {
      "text/plain": [
       "total_images               0\n",
       "last_price                 0\n",
       "total_area                 0\n",
       "first_day_exposition       0\n",
       "rooms                      0\n",
       "ceiling_height             0\n",
       "floors_total               0\n",
       "living_area                0\n",
       "floor                      0\n",
       "is_apartment               0\n",
       "studio                     0\n",
       "open_plan                  0\n",
       "kitchen_area               0\n",
       "balcony                    0\n",
       "locality_name              0\n",
       "airports_nearest           0\n",
       "city_centers_nearest       0\n",
       "parks_around_3000          0\n",
       "parks_nearest              0\n",
       "ponds_around_3000          0\n",
       "ponds_nearest              0\n",
       "days_exposition         3181\n",
       "dtype: int64"
      ]
     },
     "execution_count": 54,
     "metadata": {},
     "output_type": "execute_result"
    }
   ],
   "source": [
    "data['ponds_around_3000'] = data['ponds_around_3000'].fillna(0)\n",
    "data['ponds_nearest'] = data['ponds_nearest'].fillna(0)\n",
    "data.isna().sum()"
   ]
  },
  {
   "cell_type": "markdown",
   "metadata": {},
   "source": [
    "Так как публикацию могли снять по разным причинам, ровно как и забыть убрать объявление(или некорректное заявление), то среднее значение не подойдет, следовательно возьмем медиану от days_exposition."
   ]
  },
  {
   "cell_type": "code",
   "execution_count": 55,
   "metadata": {},
   "outputs": [
    {
     "data": {
      "text/plain": [
       "total_images            0\n",
       "last_price              0\n",
       "total_area              0\n",
       "first_day_exposition    0\n",
       "rooms                   0\n",
       "ceiling_height          0\n",
       "floors_total            0\n",
       "living_area             0\n",
       "floor                   0\n",
       "is_apartment            0\n",
       "studio                  0\n",
       "open_plan               0\n",
       "kitchen_area            0\n",
       "balcony                 0\n",
       "locality_name           0\n",
       "airports_nearest        0\n",
       "city_centers_nearest    0\n",
       "parks_around_3000       0\n",
       "parks_nearest           0\n",
       "ponds_around_3000       0\n",
       "ponds_nearest           0\n",
       "days_exposition         0\n",
       "dtype: int64"
      ]
     },
     "execution_count": 55,
     "metadata": {},
     "output_type": "execute_result"
    }
   ],
   "source": [
    "data['days_exposition'] = data['days_exposition'].fillna(data['days_exposition'].median())\n",
    "data.isna().sum()"
   ]
  },
  {
   "cell_type": "markdown",
   "metadata": {},
   "source": [
    "Причина появления пропусков - скорее всего, большинство значений было не обязательно к вводу. В таком случае, в случае, когда значение было равно 0 - значение не проставлялось человеком. Например - парки в радиусе 3км.\n",
    "Возможно некоторые поля были необязательны к вводу и были пропущены неумышленно.\n",
    "Также могли быть пропуски по каким либо техническим причинам, в таких полях как, например living_area."
   ]
  },
  {
   "cell_type": "markdown",
   "metadata": {},
   "source": [
    "Изменим типы данных колонок 'floors_total', 'balcony', 'parks_around_3000', 'ponds_around_3000', 'days_exposition' с float64 на int64, так как эти значения не могут быть числом с плавающей точкой, они исчисляются целыми числами. Также необходимо перевести first_day_exposition для дальнейшей работы с датами"
   ]
  },
  {
   "cell_type": "code",
   "execution_count": 56,
   "metadata": {},
   "outputs": [
    {
     "name": "stdout",
     "output_type": "stream",
     "text": [
      "<class 'pandas.core.frame.DataFrame'>\n",
      "RangeIndex: 23699 entries, 0 to 23698\n",
      "Data columns (total 22 columns):\n",
      " #   Column                Non-Null Count  Dtype         \n",
      "---  ------                --------------  -----         \n",
      " 0   total_images          23699 non-null  int64         \n",
      " 1   last_price            23699 non-null  float64       \n",
      " 2   total_area            23699 non-null  float64       \n",
      " 3   first_day_exposition  23699 non-null  datetime64[ns]\n",
      " 4   rooms                 23699 non-null  int64         \n",
      " 5   ceiling_height        23699 non-null  float64       \n",
      " 6   floors_total          23699 non-null  int64         \n",
      " 7   living_area           23699 non-null  float64       \n",
      " 8   floor                 23699 non-null  int64         \n",
      " 9   is_apartment          23699 non-null  bool          \n",
      " 10  studio                23699 non-null  bool          \n",
      " 11  open_plan             23699 non-null  bool          \n",
      " 12  kitchen_area          23699 non-null  float64       \n",
      " 13  balcony               23699 non-null  int64         \n",
      " 14  locality_name         23699 non-null  object        \n",
      " 15  airports_nearest      23699 non-null  float64       \n",
      " 16  city_centers_nearest  23699 non-null  float64       \n",
      " 17  parks_around_3000     23699 non-null  int64         \n",
      " 18  parks_nearest         23699 non-null  float64       \n",
      " 19  ponds_around_3000     23699 non-null  int64         \n",
      " 20  ponds_nearest         23699 non-null  float64       \n",
      " 21  days_exposition       23699 non-null  int64         \n",
      "dtypes: bool(3), datetime64[ns](1), float64(9), int64(8), object(1)\n",
      "memory usage: 3.5+ MB\n"
     ]
    }
   ],
   "source": [
    "\n",
    "for field in ['floors_total', 'balcony', 'parks_around_3000', 'ponds_around_3000', 'days_exposition']:\n",
    "    try:\n",
    "        data[field] = data[field].astype('int')\n",
    "    except:\n",
    "        print(f'Не удалось привести {field} к типу int')\n",
    "\n",
    "        \n",
    "try:\n",
    "    data['first_day_exposition'] = pd.to_datetime(data['first_day_exposition'], format='%Y-%m-%dT%H:%M:%S')\n",
    "except:\n",
    "    print('не удалось привести first_day_exposition к типу datetime')\n",
    "data.info()"
   ]
  },
  {
   "cell_type": "code",
   "execution_count": 57,
   "metadata": {},
   "outputs": [
    {
     "data": {
      "text/plain": [
       "array([[<AxesSubplot:title={'center':'total_images'}>,\n",
       "        <AxesSubplot:title={'center':'last_price'}>,\n",
       "        <AxesSubplot:title={'center':'total_area'}>,\n",
       "        <AxesSubplot:title={'center':'first_day_exposition'}>],\n",
       "       [<AxesSubplot:title={'center':'rooms'}>,\n",
       "        <AxesSubplot:title={'center':'ceiling_height'}>,\n",
       "        <AxesSubplot:title={'center':'floors_total'}>,\n",
       "        <AxesSubplot:title={'center':'living_area'}>],\n",
       "       [<AxesSubplot:title={'center':'floor'}>,\n",
       "        <AxesSubplot:title={'center':'kitchen_area'}>,\n",
       "        <AxesSubplot:title={'center':'balcony'}>,\n",
       "        <AxesSubplot:title={'center':'airports_nearest'}>],\n",
       "       [<AxesSubplot:title={'center':'city_centers_nearest'}>,\n",
       "        <AxesSubplot:title={'center':'parks_around_3000'}>,\n",
       "        <AxesSubplot:title={'center':'parks_nearest'}>,\n",
       "        <AxesSubplot:title={'center':'ponds_around_3000'}>],\n",
       "       [<AxesSubplot:title={'center':'ponds_nearest'}>,\n",
       "        <AxesSubplot:title={'center':'days_exposition'}>, <AxesSubplot:>,\n",
       "        <AxesSubplot:>]], dtype=object)"
      ]
     },
     "execution_count": 57,
     "metadata": {},
     "output_type": "execute_result"
    },
    {
     "data": {
      "image/png": "[encoded data removed]",
      "text/plain": [
       "<Figure size 1080x1440 with 20 Axes>"
      ]
     },
     "metadata": {
      "needs_background": "light"
     },
     "output_type": "display_data"
    }
   ],
   "source": [
    "data.hist(figsize=(15, 20))"
   ]
  },
  {
   "cell_type": "markdown",
   "metadata": {
    "id": "QCcvyY6YAwb-"
   },
   "source": [
    "### Добавьте в таблицу новые столбцы"
   ]
  },
  {
   "cell_type": "markdown",
   "metadata": {
    "id": "Z8eJek3IAwb-"
   },
   "source": [
    "Рассчитаем и добавим следующие столбцы, которые помогут для дальнейшего исследования:\n",
    "- цена одного квадратного метра\n",
    "- день недели публикации объявления (0 — понедельник, 1 — вторник и так далее)\n",
    "- месяц публикации объявления\n",
    "- год публикации объявления\n",
    "- тип этажа квартиры (значения — «первый», «последний», «другой»)\n",
    "- расстояние до центра города в километрах"
   ]
  },
  {
   "cell_type": "code",
   "execution_count": 58,
   "metadata": {},
   "outputs": [],
   "source": [
    "def categorize_floor(row):\n",
    "    if row['floor'] == 1:\n",
    "        return 'первый'\n",
    "    elif row['floor'] == row['floors_total']:\n",
    "        return 'последний'\n",
    "    return 'другой'"
   ]
  },
  {
   "cell_type": "markdown",
   "metadata": {},
   "source": [
    "Так как чаще всего встречаются дом 9 и 14 этажей, но в нашей выборке 15ти этажных домов больше, чем 14, то принимаем 15 этаж как последний"
   ]
  },
  {
   "cell_type": "code",
   "execution_count": 59,
   "metadata": {},
   "outputs": [],
   "source": [
    "data['one_square_meter'] = (data['last_price'] / data['total_area']).round(2)\n",
    "data['weekday_exposition'] = data['first_day_exposition'].dt.weekday\n",
    "data['month_exposition'] = data['first_day_exposition'].dt.month\n",
    "data['year_exposition'] = data['first_day_exposition'].dt.year\n",
    "data['floor_type'] = data.apply(categorize_floor, axis=1)\n",
    "data['city_centers_nearest_km'] = (data['city_centers_nearest'] / 1000).round().astype('int')"
   ]
  },
  {
   "cell_type": "code",
   "execution_count": 60,
   "metadata": {},
   "outputs": [
    {
     "data": {
      "text/html": [
       "<div>\n",
       "<style scoped>\n",
       "    .dataframe tbody tr th:only-of-type {\n",
       "        vertical-align: middle;\n",
       "    }\n",
       "\n",
       "    .dataframe tbody tr th {\n",
       "        vertical-align: top;\n",
       "    }\n",
       "\n",
       "    .dataframe thead th {\n",
       "        text-align: right;\n",
       "    }\n",
       "</style>\n",
       "<table border=\"1\" class=\"dataframe\">\n",
       "  <thead>\n",
       "    <tr style=\"text-align: right;\">\n",
       "      <th></th>\n",
       "      <th>total_images</th>\n",
       "      <th>last_price</th>\n",
       "      <th>total_area</th>\n",
       "      <th>first_day_exposition</th>\n",
       "      <th>rooms</th>\n",
       "      <th>ceiling_height</th>\n",
       "      <th>floors_total</th>\n",
       "      <th>living_area</th>\n",
       "      <th>floor</th>\n",
       "      <th>is_apartment</th>\n",
       "      <th>...</th>\n",
       "      <th>parks_nearest</th>\n",
       "      <th>ponds_around_3000</th>\n",
       "      <th>ponds_nearest</th>\n",
       "      <th>days_exposition</th>\n",
       "      <th>one_square_meter</th>\n",
       "      <th>weekday_exposition</th>\n",
       "      <th>month_exposition</th>\n",
       "      <th>year_exposition</th>\n",
       "      <th>floor_type</th>\n",
       "      <th>city_centers_nearest_km</th>\n",
       "    </tr>\n",
       "  </thead>\n",
       "  <tbody>\n",
       "    <tr>\n",
       "      <th>0</th>\n",
       "      <td>20</td>\n",
       "      <td>13000000.0</td>\n",
       "      <td>108.00</td>\n",
       "      <td>2019-03-07</td>\n",
       "      <td>3</td>\n",
       "      <td>2.70</td>\n",
       "      <td>16</td>\n",
       "      <td>51.00</td>\n",
       "      <td>8</td>\n",
       "      <td>False</td>\n",
       "      <td>...</td>\n",
       "      <td>482.0</td>\n",
       "      <td>2</td>\n",
       "      <td>755.0</td>\n",
       "      <td>95</td>\n",
       "      <td>120370.37</td>\n",
       "      <td>3</td>\n",
       "      <td>3</td>\n",
       "      <td>2019</td>\n",
       "      <td>другой</td>\n",
       "      <td>16</td>\n",
       "    </tr>\n",
       "    <tr>\n",
       "      <th>1</th>\n",
       "      <td>7</td>\n",
       "      <td>3350000.0</td>\n",
       "      <td>40.40</td>\n",
       "      <td>2018-12-04</td>\n",
       "      <td>1</td>\n",
       "      <td>2.65</td>\n",
       "      <td>11</td>\n",
       "      <td>18.60</td>\n",
       "      <td>1</td>\n",
       "      <td>False</td>\n",
       "      <td>...</td>\n",
       "      <td>0.0</td>\n",
       "      <td>0</td>\n",
       "      <td>0.0</td>\n",
       "      <td>81</td>\n",
       "      <td>82920.79</td>\n",
       "      <td>1</td>\n",
       "      <td>12</td>\n",
       "      <td>2018</td>\n",
       "      <td>первый</td>\n",
       "      <td>19</td>\n",
       "    </tr>\n",
       "    <tr>\n",
       "      <th>2</th>\n",
       "      <td>10</td>\n",
       "      <td>5196000.0</td>\n",
       "      <td>56.00</td>\n",
       "      <td>2015-08-20</td>\n",
       "      <td>2</td>\n",
       "      <td>2.65</td>\n",
       "      <td>5</td>\n",
       "      <td>34.30</td>\n",
       "      <td>4</td>\n",
       "      <td>False</td>\n",
       "      <td>...</td>\n",
       "      <td>90.0</td>\n",
       "      <td>2</td>\n",
       "      <td>574.0</td>\n",
       "      <td>558</td>\n",
       "      <td>92785.71</td>\n",
       "      <td>3</td>\n",
       "      <td>8</td>\n",
       "      <td>2015</td>\n",
       "      <td>другой</td>\n",
       "      <td>14</td>\n",
       "    </tr>\n",
       "    <tr>\n",
       "      <th>3</th>\n",
       "      <td>0</td>\n",
       "      <td>64900000.0</td>\n",
       "      <td>159.00</td>\n",
       "      <td>2015-07-24</td>\n",
       "      <td>3</td>\n",
       "      <td>2.65</td>\n",
       "      <td>14</td>\n",
       "      <td>34.00</td>\n",
       "      <td>9</td>\n",
       "      <td>False</td>\n",
       "      <td>...</td>\n",
       "      <td>84.0</td>\n",
       "      <td>3</td>\n",
       "      <td>234.0</td>\n",
       "      <td>424</td>\n",
       "      <td>408176.10</td>\n",
       "      <td>4</td>\n",
       "      <td>7</td>\n",
       "      <td>2015</td>\n",
       "      <td>другой</td>\n",
       "      <td>7</td>\n",
       "    </tr>\n",
       "    <tr>\n",
       "      <th>4</th>\n",
       "      <td>2</td>\n",
       "      <td>10000000.0</td>\n",
       "      <td>100.00</td>\n",
       "      <td>2018-06-19</td>\n",
       "      <td>2</td>\n",
       "      <td>3.03</td>\n",
       "      <td>14</td>\n",
       "      <td>32.00</td>\n",
       "      <td>13</td>\n",
       "      <td>False</td>\n",
       "      <td>...</td>\n",
       "      <td>112.0</td>\n",
       "      <td>1</td>\n",
       "      <td>48.0</td>\n",
       "      <td>121</td>\n",
       "      <td>100000.00</td>\n",
       "      <td>1</td>\n",
       "      <td>6</td>\n",
       "      <td>2018</td>\n",
       "      <td>другой</td>\n",
       "      <td>8</td>\n",
       "    </tr>\n",
       "    <tr>\n",
       "      <th>5</th>\n",
       "      <td>10</td>\n",
       "      <td>2890000.0</td>\n",
       "      <td>30.40</td>\n",
       "      <td>2018-09-10</td>\n",
       "      <td>1</td>\n",
       "      <td>2.65</td>\n",
       "      <td>12</td>\n",
       "      <td>14.40</td>\n",
       "      <td>5</td>\n",
       "      <td>False</td>\n",
       "      <td>...</td>\n",
       "      <td>0.0</td>\n",
       "      <td>0</td>\n",
       "      <td>0.0</td>\n",
       "      <td>55</td>\n",
       "      <td>95065.79</td>\n",
       "      <td>0</td>\n",
       "      <td>9</td>\n",
       "      <td>2018</td>\n",
       "      <td>другой</td>\n",
       "      <td>14</td>\n",
       "    </tr>\n",
       "    <tr>\n",
       "      <th>6</th>\n",
       "      <td>6</td>\n",
       "      <td>3700000.0</td>\n",
       "      <td>37.30</td>\n",
       "      <td>2017-11-02</td>\n",
       "      <td>1</td>\n",
       "      <td>2.65</td>\n",
       "      <td>26</td>\n",
       "      <td>10.60</td>\n",
       "      <td>6</td>\n",
       "      <td>False</td>\n",
       "      <td>...</td>\n",
       "      <td>0.0</td>\n",
       "      <td>0</td>\n",
       "      <td>0.0</td>\n",
       "      <td>155</td>\n",
       "      <td>99195.71</td>\n",
       "      <td>3</td>\n",
       "      <td>11</td>\n",
       "      <td>2017</td>\n",
       "      <td>другой</td>\n",
       "      <td>19</td>\n",
       "    </tr>\n",
       "    <tr>\n",
       "      <th>7</th>\n",
       "      <td>5</td>\n",
       "      <td>7915000.0</td>\n",
       "      <td>71.60</td>\n",
       "      <td>2019-04-18</td>\n",
       "      <td>2</td>\n",
       "      <td>2.65</td>\n",
       "      <td>24</td>\n",
       "      <td>34.00</td>\n",
       "      <td>22</td>\n",
       "      <td>False</td>\n",
       "      <td>...</td>\n",
       "      <td>0.0</td>\n",
       "      <td>0</td>\n",
       "      <td>0.0</td>\n",
       "      <td>95</td>\n",
       "      <td>110544.69</td>\n",
       "      <td>3</td>\n",
       "      <td>4</td>\n",
       "      <td>2019</td>\n",
       "      <td>другой</td>\n",
       "      <td>12</td>\n",
       "    </tr>\n",
       "    <tr>\n",
       "      <th>8</th>\n",
       "      <td>20</td>\n",
       "      <td>2900000.0</td>\n",
       "      <td>33.16</td>\n",
       "      <td>2018-05-23</td>\n",
       "      <td>1</td>\n",
       "      <td>2.65</td>\n",
       "      <td>27</td>\n",
       "      <td>15.43</td>\n",
       "      <td>26</td>\n",
       "      <td>False</td>\n",
       "      <td>...</td>\n",
       "      <td>0.0</td>\n",
       "      <td>0</td>\n",
       "      <td>0.0</td>\n",
       "      <td>189</td>\n",
       "      <td>87454.76</td>\n",
       "      <td>2</td>\n",
       "      <td>5</td>\n",
       "      <td>2018</td>\n",
       "      <td>другой</td>\n",
       "      <td>14</td>\n",
       "    </tr>\n",
       "    <tr>\n",
       "      <th>9</th>\n",
       "      <td>18</td>\n",
       "      <td>5400000.0</td>\n",
       "      <td>61.00</td>\n",
       "      <td>2017-02-26</td>\n",
       "      <td>3</td>\n",
       "      <td>2.50</td>\n",
       "      <td>9</td>\n",
       "      <td>43.60</td>\n",
       "      <td>7</td>\n",
       "      <td>False</td>\n",
       "      <td>...</td>\n",
       "      <td>0.0</td>\n",
       "      <td>0</td>\n",
       "      <td>0.0</td>\n",
       "      <td>289</td>\n",
       "      <td>88524.59</td>\n",
       "      <td>6</td>\n",
       "      <td>2</td>\n",
       "      <td>2017</td>\n",
       "      <td>другой</td>\n",
       "      <td>15</td>\n",
       "    </tr>\n",
       "    <tr>\n",
       "      <th>10</th>\n",
       "      <td>5</td>\n",
       "      <td>5050000.0</td>\n",
       "      <td>39.60</td>\n",
       "      <td>2017-11-16</td>\n",
       "      <td>1</td>\n",
       "      <td>2.67</td>\n",
       "      <td>12</td>\n",
       "      <td>20.30</td>\n",
       "      <td>3</td>\n",
       "      <td>False</td>\n",
       "      <td>...</td>\n",
       "      <td>310.0</td>\n",
       "      <td>2</td>\n",
       "      <td>553.0</td>\n",
       "      <td>137</td>\n",
       "      <td>127525.25</td>\n",
       "      <td>3</td>\n",
       "      <td>11</td>\n",
       "      <td>2017</td>\n",
       "      <td>другой</td>\n",
       "      <td>14</td>\n",
       "    </tr>\n",
       "    <tr>\n",
       "      <th>11</th>\n",
       "      <td>9</td>\n",
       "      <td>3300000.0</td>\n",
       "      <td>44.00</td>\n",
       "      <td>2018-08-27</td>\n",
       "      <td>2</td>\n",
       "      <td>2.65</td>\n",
       "      <td>5</td>\n",
       "      <td>31.00</td>\n",
       "      <td>4</td>\n",
       "      <td>False</td>\n",
       "      <td>...</td>\n",
       "      <td>0.0</td>\n",
       "      <td>0</td>\n",
       "      <td>0.0</td>\n",
       "      <td>7</td>\n",
       "      <td>75000.00</td>\n",
       "      <td>0</td>\n",
       "      <td>8</td>\n",
       "      <td>2018</td>\n",
       "      <td>другой</td>\n",
       "      <td>52</td>\n",
       "    </tr>\n",
       "    <tr>\n",
       "      <th>12</th>\n",
       "      <td>10</td>\n",
       "      <td>3890000.0</td>\n",
       "      <td>54.00</td>\n",
       "      <td>2016-06-30</td>\n",
       "      <td>2</td>\n",
       "      <td>2.65</td>\n",
       "      <td>5</td>\n",
       "      <td>30.00</td>\n",
       "      <td>5</td>\n",
       "      <td>False</td>\n",
       "      <td>...</td>\n",
       "      <td>0.0</td>\n",
       "      <td>0</td>\n",
       "      <td>0.0</td>\n",
       "      <td>90</td>\n",
       "      <td>72037.04</td>\n",
       "      <td>3</td>\n",
       "      <td>6</td>\n",
       "      <td>2016</td>\n",
       "      <td>последний</td>\n",
       "      <td>14</td>\n",
       "    </tr>\n",
       "    <tr>\n",
       "      <th>13</th>\n",
       "      <td>20</td>\n",
       "      <td>3550000.0</td>\n",
       "      <td>42.80</td>\n",
       "      <td>2017-07-01</td>\n",
       "      <td>2</td>\n",
       "      <td>2.56</td>\n",
       "      <td>5</td>\n",
       "      <td>27.00</td>\n",
       "      <td>5</td>\n",
       "      <td>False</td>\n",
       "      <td>...</td>\n",
       "      <td>294.0</td>\n",
       "      <td>3</td>\n",
       "      <td>298.0</td>\n",
       "      <td>366</td>\n",
       "      <td>82943.93</td>\n",
       "      <td>5</td>\n",
       "      <td>7</td>\n",
       "      <td>2017</td>\n",
       "      <td>последний</td>\n",
       "      <td>33</td>\n",
       "    </tr>\n",
       "    <tr>\n",
       "      <th>14</th>\n",
       "      <td>1</td>\n",
       "      <td>4400000.0</td>\n",
       "      <td>36.00</td>\n",
       "      <td>2016-06-23</td>\n",
       "      <td>1</td>\n",
       "      <td>2.65</td>\n",
       "      <td>6</td>\n",
       "      <td>17.00</td>\n",
       "      <td>1</td>\n",
       "      <td>False</td>\n",
       "      <td>...</td>\n",
       "      <td>0.0</td>\n",
       "      <td>1</td>\n",
       "      <td>96.0</td>\n",
       "      <td>203</td>\n",
       "      <td>122222.22</td>\n",
       "      <td>3</td>\n",
       "      <td>6</td>\n",
       "      <td>2016</td>\n",
       "      <td>первый</td>\n",
       "      <td>31</td>\n",
       "    </tr>\n",
       "    <tr>\n",
       "      <th>15</th>\n",
       "      <td>16</td>\n",
       "      <td>4650000.0</td>\n",
       "      <td>39.00</td>\n",
       "      <td>2017-11-18</td>\n",
       "      <td>1</td>\n",
       "      <td>2.65</td>\n",
       "      <td>14</td>\n",
       "      <td>20.50</td>\n",
       "      <td>5</td>\n",
       "      <td>False</td>\n",
       "      <td>...</td>\n",
       "      <td>590.0</td>\n",
       "      <td>1</td>\n",
       "      <td>296.0</td>\n",
       "      <td>19</td>\n",
       "      <td>119230.77</td>\n",
       "      <td>5</td>\n",
       "      <td>11</td>\n",
       "      <td>2017</td>\n",
       "      <td>другой</td>\n",
       "      <td>14</td>\n",
       "    </tr>\n",
       "    <tr>\n",
       "      <th>16</th>\n",
       "      <td>11</td>\n",
       "      <td>6700000.0</td>\n",
       "      <td>82.00</td>\n",
       "      <td>2017-11-23</td>\n",
       "      <td>3</td>\n",
       "      <td>3.05</td>\n",
       "      <td>5</td>\n",
       "      <td>55.60</td>\n",
       "      <td>1</td>\n",
       "      <td>False</td>\n",
       "      <td>...</td>\n",
       "      <td>420.0</td>\n",
       "      <td>0</td>\n",
       "      <td>0.0</td>\n",
       "      <td>397</td>\n",
       "      <td>81707.32</td>\n",
       "      <td>3</td>\n",
       "      <td>11</td>\n",
       "      <td>2017</td>\n",
       "      <td>первый</td>\n",
       "      <td>11</td>\n",
       "    </tr>\n",
       "    <tr>\n",
       "      <th>17</th>\n",
       "      <td>6</td>\n",
       "      <td>4180000.0</td>\n",
       "      <td>36.00</td>\n",
       "      <td>2016-09-09</td>\n",
       "      <td>1</td>\n",
       "      <td>2.65</td>\n",
       "      <td>17</td>\n",
       "      <td>16.50</td>\n",
       "      <td>7</td>\n",
       "      <td>False</td>\n",
       "      <td>...</td>\n",
       "      <td>0.0</td>\n",
       "      <td>1</td>\n",
       "      <td>859.0</td>\n",
       "      <td>571</td>\n",
       "      <td>116111.11</td>\n",
       "      <td>4</td>\n",
       "      <td>9</td>\n",
       "      <td>2016</td>\n",
       "      <td>другой</td>\n",
       "      <td>15</td>\n",
       "    </tr>\n",
       "    <tr>\n",
       "      <th>18</th>\n",
       "      <td>8</td>\n",
       "      <td>3250000.0</td>\n",
       "      <td>31.00</td>\n",
       "      <td>2017-01-27</td>\n",
       "      <td>1</td>\n",
       "      <td>2.50</td>\n",
       "      <td>5</td>\n",
       "      <td>19.40</td>\n",
       "      <td>2</td>\n",
       "      <td>False</td>\n",
       "      <td>...</td>\n",
       "      <td>759.0</td>\n",
       "      <td>0</td>\n",
       "      <td>0.0</td>\n",
       "      <td>168</td>\n",
       "      <td>104838.71</td>\n",
       "      <td>4</td>\n",
       "      <td>1</td>\n",
       "      <td>2017</td>\n",
       "      <td>другой</td>\n",
       "      <td>11</td>\n",
       "    </tr>\n",
       "    <tr>\n",
       "      <th>19</th>\n",
       "      <td>16</td>\n",
       "      <td>14200000.0</td>\n",
       "      <td>121.00</td>\n",
       "      <td>2019-01-09</td>\n",
       "      <td>3</td>\n",
       "      <td>2.75</td>\n",
       "      <td>16</td>\n",
       "      <td>76.00</td>\n",
       "      <td>8</td>\n",
       "      <td>False</td>\n",
       "      <td>...</td>\n",
       "      <td>0.0</td>\n",
       "      <td>0</td>\n",
       "      <td>0.0</td>\n",
       "      <td>97</td>\n",
       "      <td>117355.37</td>\n",
       "      <td>2</td>\n",
       "      <td>1</td>\n",
       "      <td>2019</td>\n",
       "      <td>другой</td>\n",
       "      <td>13</td>\n",
       "    </tr>\n",
       "  </tbody>\n",
       "</table>\n",
       "<p>20 rows × 28 columns</p>\n",
       "</div>"
      ],
      "text/plain": [
       "    total_images  last_price  total_area first_day_exposition  rooms  \\\n",
       "0             20  13000000.0      108.00           2019-03-07      3   \n",
       "1              7   3350000.0       40.40           2018-12-04      1   \n",
       "2             10   5196000.0       56.00           2015-08-20      2   \n",
       "3              0  64900000.0      159.00           2015-07-24      3   \n",
       "4              2  10000000.0      100.00           2018-06-19      2   \n",
       "5             10   2890000.0       30.40           2018-09-10      1   \n",
       "6              6   3700000.0       37.30           2017-11-02      1   \n",
       "7              5   7915000.0       71.60           2019-04-18      2   \n",
       "8             20   2900000.0       33.16           2018-05-23      1   \n",
       "9             18   5400000.0       61.00           2017-02-26      3   \n",
       "10             5   5050000.0       39.60           2017-11-16      1   \n",
       "11             9   3300000.0       44.00           2018-08-27      2   \n",
       "12            10   3890000.0       54.00           2016-06-30      2   \n",
       "13            20   3550000.0       42.80           2017-07-01      2   \n",
       "14             1   4400000.0       36.00           2016-06-23      1   \n",
       "15            16   4650000.0       39.00           2017-11-18      1   \n",
       "16            11   6700000.0       82.00           2017-11-23      3   \n",
       "17             6   4180000.0       36.00           2016-09-09      1   \n",
       "18             8   3250000.0       31.00           2017-01-27      1   \n",
       "19            16  14200000.0      121.00           2019-01-09      3   \n",
       "\n",
       "    ceiling_height  floors_total  living_area  floor  is_apartment  ...  \\\n",
       "0             2.70            16        51.00      8         False  ...   \n",
       "1             2.65            11        18.60      1         False  ...   \n",
       "2             2.65             5        34.30      4         False  ...   \n",
       "3             2.65            14        34.00      9         False  ...   \n",
       "4             3.03            14        32.00     13         False  ...   \n",
       "5             2.65            12        14.40      5         False  ...   \n",
       "6             2.65            26        10.60      6         False  ...   \n",
       "7             2.65            24        34.00     22         False  ...   \n",
       "8             2.65            27        15.43     26         False  ...   \n",
       "9             2.50             9        43.60      7         False  ...   \n",
       "10            2.67            12        20.30      3         False  ...   \n",
       "11            2.65             5        31.00      4         False  ...   \n",
       "12            2.65             5        30.00      5         False  ...   \n",
       "13            2.56             5        27.00      5         False  ...   \n",
       "14            2.65             6        17.00      1         False  ...   \n",
       "15            2.65            14        20.50      5         False  ...   \n",
       "16            3.05             5        55.60      1         False  ...   \n",
       "17            2.65            17        16.50      7         False  ...   \n",
       "18            2.50             5        19.40      2         False  ...   \n",
       "19            2.75            16        76.00      8         False  ...   \n",
       "\n",
       "    parks_nearest  ponds_around_3000  ponds_nearest  days_exposition  \\\n",
       "0           482.0                  2          755.0               95   \n",
       "1             0.0                  0            0.0               81   \n",
       "2            90.0                  2          574.0              558   \n",
       "3            84.0                  3          234.0              424   \n",
       "4           112.0                  1           48.0              121   \n",
       "5             0.0                  0            0.0               55   \n",
       "6             0.0                  0            0.0              155   \n",
       "7             0.0                  0            0.0               95   \n",
       "8             0.0                  0            0.0              189   \n",
       "9             0.0                  0            0.0              289   \n",
       "10          310.0                  2          553.0              137   \n",
       "11            0.0                  0            0.0                7   \n",
       "12            0.0                  0            0.0               90   \n",
       "13          294.0                  3          298.0              366   \n",
       "14            0.0                  1           96.0              203   \n",
       "15          590.0                  1          296.0               19   \n",
       "16          420.0                  0            0.0              397   \n",
       "17            0.0                  1          859.0              571   \n",
       "18          759.0                  0            0.0              168   \n",
       "19            0.0                  0            0.0               97   \n",
       "\n",
       "   one_square_meter  weekday_exposition  month_exposition  year_exposition  \\\n",
       "0         120370.37                   3                 3             2019   \n",
       "1          82920.79                   1                12             2018   \n",
       "2          92785.71                   3                 8             2015   \n",
       "3         408176.10                   4                 7             2015   \n",
       "4         100000.00                   1                 6             2018   \n",
       "5          95065.79                   0                 9             2018   \n",
       "6          99195.71                   3                11             2017   \n",
       "7         110544.69                   3                 4             2019   \n",
       "8          87454.76                   2                 5             2018   \n",
       "9          88524.59                   6                 2             2017   \n",
       "10        127525.25                   3                11             2017   \n",
       "11         75000.00                   0                 8             2018   \n",
       "12         72037.04                   3                 6             2016   \n",
       "13         82943.93                   5                 7             2017   \n",
       "14        122222.22                   3                 6             2016   \n",
       "15        119230.77                   5                11             2017   \n",
       "16         81707.32                   3                11             2017   \n",
       "17        116111.11                   4                 9             2016   \n",
       "18        104838.71                   4                 1             2017   \n",
       "19        117355.37                   2                 1             2019   \n",
       "\n",
       "    floor_type  city_centers_nearest_km  \n",
       "0       другой                       16  \n",
       "1       первый                       19  \n",
       "2       другой                       14  \n",
       "3       другой                        7  \n",
       "4       другой                        8  \n",
       "5       другой                       14  \n",
       "6       другой                       19  \n",
       "7       другой                       12  \n",
       "8       другой                       14  \n",
       "9       другой                       15  \n",
       "10      другой                       14  \n",
       "11      другой                       52  \n",
       "12   последний                       14  \n",
       "13   последний                       33  \n",
       "14      первый                       31  \n",
       "15      другой                       14  \n",
       "16      первый                       11  \n",
       "17      другой                       15  \n",
       "18      другой                       11  \n",
       "19      другой                       13  \n",
       "\n",
       "[20 rows x 28 columns]"
      ]
     },
     "execution_count": 60,
     "metadata": {},
     "output_type": "execute_result"
    }
   ],
   "source": [
    "data.head(20)"
   ]
  },
  {
   "cell_type": "markdown",
   "metadata": {
    "id": "pPyxrKWTAwb-"
   },
   "source": [
    "### Проведите исследовательский анализ данных"
   ]
  },
  {
   "cell_type": "code",
   "execution_count": 74,
   "metadata": {
    "id": "V2f0D3kLAwb-"
   },
   "outputs": [
    {
     "name": "stdout",
     "output_type": "stream",
     "text": [
      "12.0 900.0\n",
      "23699\n",
      "21756\n"
     ]
    },
    {
     "data": {
      "image/png": "[encoded data removed]",
      "text/plain": [
       "<Figure size 432x288 with 1 Axes>"
      ]
     },
     "metadata": {
      "needs_background": "light"
     },
     "output_type": "display_data"
    }
   ],
   "source": [
    "print(data['total_area'].min(), data['total_area'].max())\n",
    "print(data['total_area'].count())\n",
    "print(data[(data['total_area'] < 100) & (data['total_area'] > 20)]['total_area'].count())\n",
    "plt.hist(data[(data['total_area'] < 100) & (data['total_area'] > 20)]['total_area'])\n",
    "plt.grid()\n",
    "plt.title('Зависимость квартир от общей площади')\n",
    "plt.xlabel('Квадратные метры')\n",
    "plt.ylabel('Количество квартир')\n",
    "good_data = data[(data['total_area'] < 100) & (data['total_area'] > 20)]"
   ]
  },
  {
   "cell_type": "markdown",
   "metadata": {},
   "source": [
    "**total_area**: для устранения аномалии были удалены данные выше 100 кв.м. и меьше 20 кв.м. Тем самым график стал больше похож на распределение Пуассона."
   ]
  },
  {
   "cell_type": "code",
   "execution_count": 75,
   "metadata": {},
   "outputs": [
    {
     "name": "stdout",
     "output_type": "stream",
     "text": [
      "2.0 88.0\n",
      "21756\n"
     ]
    },
    {
     "data": {
      "text/plain": [
       "Text(0, 0.5, 'Количество квартир')"
      ]
     },
     "execution_count": 75,
     "metadata": {},
     "output_type": "execute_result"
    },
    {
     "data": {
      "image/png": "[encoded data removed]",
      "text/plain": [
       "<Figure size 432x288 with 1 Axes>"
      ]
     },
     "metadata": {
      "needs_background": "light"
     },
     "output_type": "display_data"
    }
   ],
   "source": [
    "print(good_data['living_area'].min(), good_data['living_area'].max())\n",
    "print(good_data['living_area'].count())\n",
    "good_data = good_data.query('living_area > 20 and living_area < 60')\n",
    "#print(data[(data['living_area'] > 22) & (data['living_area'] < 50)]['living_area'].count())\n",
    "#data[(data['living_area'] > 22) & (data['living_area'] < 50)]['living_area'].hist()\n",
    "#data = data[(data['living_area'] > 10) & (data['living_area'] < 50)]\n",
    "#data['living_area'].hist()\n",
    "plt.hist(good_data['living_area'])\n",
    "plt.grid()\n",
    "plt.title('Зависимость квартир от жилой площади')\n",
    "plt.xlabel('Квадратные метры')\n",
    "plt.ylabel('Количество квартир')"
   ]
  },
  {
   "cell_type": "markdown",
   "metadata": {},
   "source": [
    "**living_area**: для устранения аномалий были удалены данные выше 60 и меньше 20 кв.м."
   ]
  },
  {
   "cell_type": "code",
   "execution_count": 76,
   "metadata": {},
   "outputs": [
    {
     "name": "stdout",
     "output_type": "stream",
     "text": [
      "2.0 49.4\n",
      "14738\n",
      "14169\n"
     ]
    },
    {
     "data": {
      "text/plain": [
       "Text(0, 0.5, 'Количество квартир')"
      ]
     },
     "execution_count": 76,
     "metadata": {},
     "output_type": "execute_result"
    },
    {
     "data": {
      "image/png": "[encoded data removed]",
      "text/plain": [
       "<Figure size 432x288 with 1 Axes>"
      ]
     },
     "metadata": {
      "needs_background": "light"
     },
     "output_type": "display_data"
    }
   ],
   "source": [
    "print(good_data['kitchen_area'].min(), good_data['kitchen_area'].max())\n",
    "print(good_data['kitchen_area'].count())\n",
    "good_data = good_data.query('kitchen_area < 18')\n",
    "print(good_data['kitchen_area'].count())\n",
    "plt.hist(good_data['kitchen_area'])\n",
    "plt.grid()\n",
    "plt.title('Зависимость квартир от площади кухни')\n",
    "plt.xlabel('Квадратные метры')\n",
    "plt.ylabel('Количество квартир')"
   ]
  },
  {
   "cell_type": "markdown",
   "metadata": {},
   "source": [
    "**kitchen_area**: для устранения аномалий были удалены данные меньше 18 кв.м."
   ]
  },
  {
   "cell_type": "code",
   "execution_count": 77,
   "metadata": {},
   "outputs": [
    {
     "name": "stdout",
     "output_type": "stream",
     "text": [
      "430000.0 40000000.0\n",
      "14169\n"
     ]
    },
    {
     "data": {
      "text/plain": [
       "Text(0, 0.5, 'Количество квартир')"
      ]
     },
     "execution_count": 77,
     "metadata": {},
     "output_type": "execute_result"
    },
    {
     "data": {
      "image/png": "[encoded data removed]",
      "text/plain": [
       "<Figure size 432x288 with 1 Axes>"
      ]
     },
     "metadata": {
      "needs_background": "light"
     },
     "output_type": "display_data"
    }
   ],
   "source": [
    "print(good_data['last_price'].min(), good_data['last_price'].max())\n",
    "print(good_data['last_price'].count())\n",
    "good_data = good_data.query('last_price < 12000000 and last_price > 2000000')\n",
    "plt.hist(good_data['last_price'])\n",
    "plt.grid()\n",
    "plt.title('Зависимость квартир от стоимости')\n",
    "plt.xlabel('Стоимость')\n",
    "plt.ylabel('Количество квартир')"
   ]
  },
  {
   "cell_type": "markdown",
   "metadata": {},
   "source": [
    "**last_price**: для устранения аномалий были удалены данные, без ущерба анализу, больше 12млн рублей и меньше 2млн рублей, так как они не позволяли оценить картину."
   ]
  },
  {
   "cell_type": "code",
   "execution_count": 78,
   "metadata": {},
   "outputs": [
    {
     "data": {
      "text/plain": [
       "Text(0, 0.5, 'Количество квартир')"
      ]
     },
     "execution_count": 78,
     "metadata": {},
     "output_type": "execute_result"
    },
    {
     "data": {
      "image/png": "[encoded data removed]",
      "text/plain": [
       "<Figure size 432x288 with 1 Axes>"
      ]
     },
     "metadata": {
      "needs_background": "light"
     },
     "output_type": "display_data"
    }
   ],
   "source": [
    "#good_data['rooms'].hist(bins=5)\n",
    "#good_data.query('rooms > 0 and rooms < 5')['rooms'].hist(bins=4)\n",
    "good_data = good_data.query('rooms > 0 and rooms < 5')\n",
    "plt.hist(good_data['rooms'], bins=4)\n",
    "plt.grid()\n",
    "plt.title('Зависимость квартир от количества комнат')\n",
    "plt.xlabel('Количество комнат')\n",
    "plt.ylabel('Количество квартир')"
   ]
  },
  {
   "cell_type": "markdown",
   "metadata": {},
   "source": [
    "**rooms**: были найдены аномалии со значением 0 - так как отсутствие комнат невозможно. Также были удалены данные со значением 5, так как их было всего 15 и они не несли в себе информации для анализа."
   ]
  },
  {
   "cell_type": "code",
   "execution_count": 92,
   "metadata": {},
   "outputs": [
    {
     "data": {
      "text/plain": [
       "Text(0, 0.5, 'Количество квартир')"
      ]
     },
     "execution_count": 92,
     "metadata": {},
     "output_type": "execute_result"
    },
    {
     "data": {
      "image/png": "[encoded data removed]",
      "text/plain": [
       "<Figure size 432x288 with 1 Axes>"
      ]
     },
     "metadata": {
      "needs_background": "light"
     },
     "output_type": "display_data"
    }
   ],
   "source": [
    "def normalize_data(height):\n",
    "    if height > 24:\n",
    "        return height / 10\n",
    "    return height\n",
    "\n",
    "good_data['ceiling_height'] = data['ceiling_height'].apply(normalize_data)\n",
    "#good_data.query('ceiling_height > 24')['ceiling_height'] / 10\n",
    "good_data = good_data.query('ceiling_height < 4 and ceiling_height > 2')\n",
    "plt.hist(good_data['ceiling_height'], bins=5)\n",
    "plt.grid()\n",
    "plt.title('Зависимость квартир от высоты потолков')\n",
    "plt.xlabel('Высота потолков')\n",
    "plt.ylabel('Количество квартир')"
   ]
  },
  {
   "cell_type": "markdown",
   "metadata": {},
   "source": [
    "**ceiling_height**: были найдены аномалии в виде потолком больше 24 метров. Данные были поделены на 10, чтобы привести их к метрам. Оставшиеся большие значения были отброшены."
   ]
  },
  {
   "cell_type": "code",
   "execution_count": 100,
   "metadata": {},
   "outputs": [
    {
     "data": {
      "text/plain": [
       "<AxesSubplot:title={'center':'Стоимость по типам этажей'}, ylabel='last_price'>"
      ]
     },
     "execution_count": 100,
     "metadata": {},
     "output_type": "execute_result"
    },
    {
     "data": {
      "image/png": "[encoded data removed]",
      "text/plain": [
       "<Figure size 720x504 with 1 Axes>"
      ]
     },
     "metadata": {},
     "output_type": "display_data"
    }
   ],
   "source": [
    "good_data.pivot_table(index='floor_type', values='last_price', aggfunc='count') \\\n",
    "  .plot.pie(y='last_price', figsize=(10,7), title='Стоимость по типам этажей')"
   ]
  },
  {
   "cell_type": "markdown",
   "metadata": {},
   "source": [
    "**floor_type**: аномалий не найдено"
   ]
  },
  {
   "cell_type": "code",
   "execution_count": 83,
   "metadata": {},
   "outputs": [
    {
     "data": {
      "text/plain": [
       "count    12817.000000\n",
       "mean        10.199267\n",
       "std          6.153437\n",
       "min          1.000000\n",
       "25%          5.000000\n",
       "50%          9.000000\n",
       "75%         13.000000\n",
       "max         60.000000\n",
       "Name: floors_total, dtype: float64"
      ]
     },
     "execution_count": 83,
     "metadata": {},
     "output_type": "execute_result"
    }
   ],
   "source": [
    "good_data['floors_total'].describe()"
   ]
  },
  {
   "cell_type": "code",
   "execution_count": 91,
   "metadata": {},
   "outputs": [
    {
     "data": {
      "text/plain": [
       "Text(0, 0.5, 'Количество квартир')"
      ]
     },
     "execution_count": 91,
     "metadata": {},
     "output_type": "execute_result"
    },
    {
     "data": {
      "image/png": "[encoded data removed]",
      "text/plain": [
       "<Figure size 432x288 with 1 Axes>"
      ]
     },
     "metadata": {
      "needs_background": "light"
     },
     "output_type": "display_data"
    }
   ],
   "source": [
    "plt.hist(good_data['floors_total'], bins=100, range=(1,30))\n",
    "plt.grid()\n",
    "plt.title('Зависимость квартир от количества этажей в доме')\n",
    "plt.xlabel('Количество этажей')\n",
    "plt.ylabel('Количество квартир')"
   ]
  },
  {
   "cell_type": "markdown",
   "metadata": {},
   "source": [
    "**floors_total**: аномалий не найдено"
   ]
  },
  {
   "cell_type": "code",
   "execution_count": 85,
   "metadata": {},
   "outputs": [
    {
     "data": {
      "text/plain": [
       "count    12817.000000\n",
       "mean     14708.173999\n",
       "std       7683.580864\n",
       "min        208.000000\n",
       "25%      11343.000000\n",
       "50%      14191.277833\n",
       "75%      15669.000000\n",
       "max      65968.000000\n",
       "Name: city_centers_nearest, dtype: float64"
      ]
     },
     "execution_count": 85,
     "metadata": {},
     "output_type": "execute_result"
    }
   ],
   "source": [
    "good_data['city_centers_nearest'].describe()"
   ]
  },
  {
   "cell_type": "code",
   "execution_count": 90,
   "metadata": {},
   "outputs": [
    {
     "data": {
      "text/plain": [
       "Text(0, 0.5, 'Количество квартир')"
      ]
     },
     "execution_count": 90,
     "metadata": {},
     "output_type": "execute_result"
    },
    {
     "data": {
      "image/png": "[encoded data removed]",
      "text/plain": [
       "<Figure size 432x288 with 1 Axes>"
      ]
     },
     "metadata": {
      "needs_background": "light"
     },
     "output_type": "display_data"
    }
   ],
   "source": [
    "plt.hist(good_data['city_centers_nearest'], bins=10, range=(0,25000))\n",
    "plt.grid()\n",
    "plt.title('Зависимость квартир от удаленности от центра')\n",
    "plt.xlabel('Расстояние до центра')\n",
    "plt.ylabel('Количество квартир')"
   ]
  },
  {
   "cell_type": "markdown",
   "metadata": {},
   "source": [
    "**city_centers_nearest**: аномалий не найдено"
   ]
  },
  {
   "cell_type": "code",
   "execution_count": 87,
   "metadata": {},
   "outputs": [
    {
     "data": {
      "text/plain": [
       "count    12817.000000\n",
       "mean       165.560662\n",
       "std        298.000157\n",
       "min          0.000000\n",
       "25%          0.000000\n",
       "50%          0.000000\n",
       "75%        306.000000\n",
       "max       3064.000000\n",
       "Name: parks_nearest, dtype: float64"
      ]
     },
     "execution_count": 87,
     "metadata": {},
     "output_type": "execute_result"
    }
   ],
   "source": [
    "good_data['parks_nearest'].describe()"
   ]
  },
  {
   "cell_type": "code",
   "execution_count": 89,
   "metadata": {},
   "outputs": [
    {
     "data": {
      "text/plain": [
       "Text(0, 0.5, 'Количество квартир')"
      ]
     },
     "execution_count": 89,
     "metadata": {},
     "output_type": "execute_result"
    },
    {
     "data": {
      "image/png": "[encoded data removed]",
      "text/plain": [
       "<Figure size 432x288 with 1 Axes>"
      ]
     },
     "metadata": {
      "needs_background": "light"
     },
     "output_type": "display_data"
    }
   ],
   "source": [
    "plt.hist(good_data['parks_nearest'], bins=20, range=(100,800))\n",
    "plt.grid()\n",
    "plt.title('Зависимость квартир от расстояния до ближайших парков')\n",
    "plt.xlabel('Расстояние до ближайшего парка')\n",
    "plt.ylabel('Количество квартир')"
   ]
  },
  {
   "cell_type": "markdown",
   "metadata": {},
   "source": [
    "**parks_nearest**: аномалий не найдено"
   ]
  },
  {
   "cell_type": "markdown",
   "metadata": {},
   "source": [
    "**Вывод**:\n",
    " \n",
    "   - На рынке самое большое предложение квартир с общей площадью от 28 до 60 кв. метров с максимумом приблизительно 100 кв. метров.\n",
    "    \n",
    "   - Больше всего продают квартир с жилой площадью с 27 кв. м по 36 кв. метров при этом прослеживается спад предложений в средней зоне 36-40 кв. метра.\n",
    "    \n",
    "   - Прослеживается тенденция что больше всего предложений с площадью кухни от 5 метров до 10.\n",
    "    \n",
    "   - Из гисторгаммы следует, что наиболее часто цена объекта составляет 3 - 6 миллниона.\n",
    "    \n",
    "   - Среди предложений больше всего двухкомнатных квартир. С увеличением комнат количество предложений снижается.\n",
    "    \n",
    "   - Среди большинства предложений высота составляет с 2.6 по 2.9 метров.\n",
    "    \n",
    "   - Менее ценными считаются квартиры на \"первом\" и \"последнем\" этаже. На круговой диаграмме заметно, что общее количество предложений \"первого\" и \"последнего\" этажа составляет почти 25% от общего количества.\n",
    "   \n",
    "   - Больше всего предложений о продаже квартир в пятиэтажных домах, а потом в девятиэтажках.\n",
    "    \n",
    "   - Больше всего предложений о продаже в спальных районах на окраинах города, на расстоянии 12000 -15000 метров.\n",
    "    \n",
    "   - Количество предложений не сильно зависит от расстояния до ближайшего парка. Большее расстояние до парка составляет 350 - 550 метров."
   ]
  },
  {
   "cell_type": "markdown",
   "metadata": {},
   "source": [
    "**Исследуем, как быстро продавались квартиры**:"
   ]
  },
  {
   "cell_type": "code",
   "execution_count": 93,
   "metadata": {},
   "outputs": [
    {
     "data": {
      "text/plain": [
       "count    12817.000000\n",
       "mean       163.737614\n",
       "std        201.543882\n",
       "min          1.000000\n",
       "25%         45.000000\n",
       "50%         95.000000\n",
       "75%        190.000000\n",
       "max       1580.000000\n",
       "Name: days_exposition, dtype: float64"
      ]
     },
     "execution_count": 93,
     "metadata": {},
     "output_type": "execute_result"
    }
   ],
   "source": [
    "good_data['days_exposition'].describe()"
   ]
  },
  {
   "cell_type": "code",
   "execution_count": 94,
   "metadata": {},
   "outputs": [
    {
     "data": {
      "text/plain": [
       "Text(0, 0.5, 'Количество квартир')"
      ]
     },
     "execution_count": 94,
     "metadata": {},
     "output_type": "execute_result"
    },
    {
     "data": {
      "image/png": "[encoded data removed]",
      "text/plain": [
       "<Figure size 432x288 with 1 Axes>"
      ]
     },
     "metadata": {
      "needs_background": "light"
     },
     "output_type": "display_data"
    }
   ],
   "source": [
    "plt.hist(good_data['days_exposition'], bins=10, range=(0,250))\n",
    "plt.grid()\n",
    "plt.title('Зависимость квартир от срока объявления')\n",
    "plt.xlabel('Количество дней объявления')\n",
    "plt.ylabel('Количество квартир')"
   ]
  },
  {
   "cell_type": "markdown",
   "metadata": {},
   "source": [
    "Среднее значение продажи составляет 163 дня, при этом медианное значение составляет 95 дней, оно более точно характеризует среднее время продажи, так как не зависит от аномалий. Следовательно в среднем продажа квартиры занимает 3-5 месяца.\n",
    "\n",
    "Быстрыми продажами можно считать продажи состоявшиеся за 30-50 дней, а необычно долгие продажи более 232 дня."
   ]
  },
  {
   "cell_type": "markdown",
   "metadata": {},
   "source": [
    "**Исследуем факторы, которые больше всего влияют на общую(полную) стоимость объекта**:"
   ]
  },
  {
   "cell_type": "code",
   "execution_count": 95,
   "metadata": {},
   "outputs": [
    {
     "data": {
      "text/html": [
       "<div>\n",
       "<style scoped>\n",
       "    .dataframe tbody tr th:only-of-type {\n",
       "        vertical-align: middle;\n",
       "    }\n",
       "\n",
       "    .dataframe tbody tr th {\n",
       "        vertical-align: top;\n",
       "    }\n",
       "\n",
       "    .dataframe thead th {\n",
       "        text-align: right;\n",
       "    }\n",
       "</style>\n",
       "<table border=\"1\" class=\"dataframe\">\n",
       "  <thead>\n",
       "    <tr style=\"text-align: right;\">\n",
       "      <th></th>\n",
       "      <th>kitchen_area</th>\n",
       "      <th>last_price</th>\n",
       "      <th>living_area</th>\n",
       "      <th>rooms</th>\n",
       "      <th>total_area</th>\n",
       "    </tr>\n",
       "  </thead>\n",
       "  <tbody>\n",
       "    <tr>\n",
       "      <th>kitchen_area</th>\n",
       "      <td>1.000000</td>\n",
       "      <td>0.757466</td>\n",
       "      <td>-0.123600</td>\n",
       "      <td>-0.735299</td>\n",
       "      <td>0.725033</td>\n",
       "    </tr>\n",
       "    <tr>\n",
       "      <th>last_price</th>\n",
       "      <td>0.757466</td>\n",
       "      <td>1.000000</td>\n",
       "      <td>0.231158</td>\n",
       "      <td>-0.382764</td>\n",
       "      <td>0.949648</td>\n",
       "    </tr>\n",
       "    <tr>\n",
       "      <th>living_area</th>\n",
       "      <td>-0.123600</td>\n",
       "      <td>0.231158</td>\n",
       "      <td>1.000000</td>\n",
       "      <td>0.064388</td>\n",
       "      <td>0.235272</td>\n",
       "    </tr>\n",
       "    <tr>\n",
       "      <th>rooms</th>\n",
       "      <td>-0.735299</td>\n",
       "      <td>-0.382764</td>\n",
       "      <td>0.064388</td>\n",
       "      <td>1.000000</td>\n",
       "      <td>-0.243643</td>\n",
       "    </tr>\n",
       "    <tr>\n",
       "      <th>total_area</th>\n",
       "      <td>0.725033</td>\n",
       "      <td>0.949648</td>\n",
       "      <td>0.235272</td>\n",
       "      <td>-0.243643</td>\n",
       "      <td>1.000000</td>\n",
       "    </tr>\n",
       "  </tbody>\n",
       "</table>\n",
       "</div>"
      ],
      "text/plain": [
       "              kitchen_area  last_price  living_area     rooms  total_area\n",
       "kitchen_area      1.000000    0.757466    -0.123600 -0.735299    0.725033\n",
       "last_price        0.757466    1.000000     0.231158 -0.382764    0.949648\n",
       "living_area      -0.123600    0.231158     1.000000  0.064388    0.235272\n",
       "rooms            -0.735299   -0.382764     0.064388  1.000000   -0.243643\n",
       "total_area        0.725033    0.949648     0.235272 -0.243643    1.000000"
      ]
     },
     "execution_count": 95,
     "metadata": {},
     "output_type": "execute_result"
    }
   ],
   "source": [
    "good_data.pivot_table(index='floor', values=['last_price','total_area','living_area','kitchen_area','rooms']).corr()"
   ]
  },
  {
   "cell_type": "code",
   "execution_count": 106,
   "metadata": {},
   "outputs": [
    {
     "data": {
      "text/plain": [
       "<AxesSubplot:title={'center':'Зависимость стоимости от общей площади квартир'}, xlabel='total_area'>"
      ]
     },
     "execution_count": 106,
     "metadata": {},
     "output_type": "execute_result"
    },
    {
     "data": {
      "image/png": "[encoded data removed]",
      "text/plain": [
       "<Figure size 360x360 with 1 Axes>"
      ]
     },
     "metadata": {
      "needs_background": "light"
     },
     "output_type": "display_data"
    }
   ],
   "source": [
    "good_data.pivot_table(index='total_area', values='last_price') \\\n",
    "    .plot(grid=True, style='o', figsize=(5, 5), title='Зависимость стоимости от общей площади квартир')"
   ]
  },
  {
   "cell_type": "code",
   "execution_count": 105,
   "metadata": {},
   "outputs": [
    {
     "data": {
      "text/plain": [
       "<AxesSubplot:title={'center':'Зависимость стоимости от жилой площади квартир'}, xlabel='living_area'>"
      ]
     },
     "execution_count": 105,
     "metadata": {},
     "output_type": "execute_result"
    },
    {
     "data": {
      "image/png": "[encoded data removed]",
      "text/plain": [
       "<Figure size 360x360 with 1 Axes>"
      ]
     },
     "metadata": {
      "needs_background": "light"
     },
     "output_type": "display_data"
    }
   ],
   "source": [
    "good_data.pivot_table(index='living_area', values='last_price') \\\n",
    "    .plot(grid=True, style='o', figsize=(5, 5), title='Зависимость стоимости от жилой площади квартир')"
   ]
  },
  {
   "cell_type": "code",
   "execution_count": 104,
   "metadata": {},
   "outputs": [
    {
     "data": {
      "text/plain": [
       "<AxesSubplot:title={'center':'Зависимость стоимости от площади кухни квартир'}, xlabel='kitchen_area'>"
      ]
     },
     "execution_count": 104,
     "metadata": {},
     "output_type": "execute_result"
    },
    {
     "data": {
      "image/png": "[encoded data removed]",
      "text/plain": [
       "<Figure size 360x360 with 1 Axes>"
      ]
     },
     "metadata": {
      "needs_background": "light"
     },
     "output_type": "display_data"
    }
   ],
   "source": [
    "good_data.pivot_table(index='kitchen_area', values='last_price') \\\n",
    "    .plot(grid=True, style='o', figsize=(5, 5), title='Зависимость стоимости от площади кухни квартир')"
   ]
  },
  {
   "cell_type": "code",
   "execution_count": 103,
   "metadata": {},
   "outputs": [
    {
     "data": {
      "text/plain": [
       "<AxesSubplot:title={'center':'Зависимость стоимости от количества комнат'}, xlabel='rooms'>"
      ]
     },
     "execution_count": 103,
     "metadata": {},
     "output_type": "execute_result"
    },
    {
     "data": {
      "image/png": "[encoded data removed]",
      "text/plain": [
       "<Figure size 360x360 with 1 Axes>"
      ]
     },
     "metadata": {
      "needs_background": "light"
     },
     "output_type": "display_data"
    }
   ],
   "source": [
    "good_data.pivot_table(index='rooms', values='last_price') \\\n",
    "    .plot(grid=True, style='o-', figsize=(5, 5), title='Зависимость стоимости от количества комнат')"
   ]
  },
  {
   "cell_type": "code",
   "execution_count": 102,
   "metadata": {},
   "outputs": [
    {
     "data": {
      "text/plain": [
       "<AxesSubplot:title={'center':'Зависимость стоимости от типа этажа'}, xlabel='floor_type'>"
      ]
     },
     "execution_count": 102,
     "metadata": {},
     "output_type": "execute_result"
    },
    {
     "data": {
      "image/png": "[encoded data removed]",
      "text/plain": [
       "<Figure size 720x504 with 1 Axes>"
      ]
     },
     "metadata": {},
     "output_type": "display_data"
    },
    {
     "data": {
      "image/png": "[encoded data removed]",
      "text/plain": [
       "<Figure size 360x360 with 1 Axes>"
      ]
     },
     "metadata": {
      "needs_background": "light"
     },
     "output_type": "display_data"
    }
   ],
   "source": [
    "good_data.pivot_table(index='floor_type', values='last_price', aggfunc='count') \\\n",
    "  .plot.pie(y='last_price', figsize=(10,7), title='Стоимость по типам этажей')\n",
    "good_data.pivot_table(index='floor_type', values='last_price') \\\n",
    "    .plot(grid=True, style='o-', figsize=(5, 5), title='Зависимость стоимости от типа этажа')"
   ]
  },
  {
   "cell_type": "code",
   "execution_count": 108,
   "metadata": {},
   "outputs": [
    {
     "data": {
      "text/plain": [
       "<AxesSubplot:title={'center':'Зависимость цены от дня недели объявления'}, xlabel='weekday_exposition'>"
      ]
     },
     "execution_count": 108,
     "metadata": {},
     "output_type": "execute_result"
    },
    {
     "data": {
      "image/png": "[encoded data removed]",
      "text/plain": [
       "<Figure size 360x360 with 1 Axes>"
      ]
     },
     "metadata": {
      "needs_background": "light"
     },
     "output_type": "display_data"
    }
   ],
   "source": [
    "good_data.pivot_table(index='weekday_exposition', values='last_price') \\\n",
    "    .plot(grid=True, style='o-', figsize=(5, 5), title='Зависимость цены от дня недели объявления')"
   ]
  },
  {
   "cell_type": "code",
   "execution_count": 109,
   "metadata": {},
   "outputs": [
    {
     "data": {
      "text/plain": [
       "<AxesSubplot:title={'center':'Зависимость цены от месяца объявления'}, xlabel='month_exposition'>"
      ]
     },
     "execution_count": 109,
     "metadata": {},
     "output_type": "execute_result"
    },
    {
     "data": {
      "image/png": "[encoded data removed]",
      "text/plain": [
       "<Figure size 360x360 with 1 Axes>"
      ]
     },
     "metadata": {
      "needs_background": "light"
     },
     "output_type": "display_data"
    }
   ],
   "source": [
    "good_data.pivot_table(index='month_exposition', values='last_price') \\\n",
    "    .plot(grid=True, style='o-', figsize=(5, 5), title='Зависимость цены от месяца объявления')"
   ]
  },
  {
   "cell_type": "code",
   "execution_count": 110,
   "metadata": {},
   "outputs": [
    {
     "data": {
      "text/plain": [
       "<AxesSubplot:title={'center':'Зависимость цены от года объявления'}, xlabel='year_exposition'>"
      ]
     },
     "execution_count": 110,
     "metadata": {},
     "output_type": "execute_result"
    },
    {
     "data": {
      "image/png": "[encoded data removed]",
      "text/plain": [
       "<Figure size 360x360 with 1 Axes>"
      ]
     },
     "metadata": {
      "needs_background": "light"
     },
     "output_type": "display_data"
    }
   ],
   "source": [
    "good_data.pivot_table(index='year_exposition', values='last_price') \\\n",
    "    .plot(grid=True, style='o-', figsize=(5, 5), title='Зависимость цены от года объявления')"
   ]
  },
  {
   "cell_type": "markdown",
   "metadata": {},
   "source": [
    "**Вывод**:\n",
    "\n",
    "   - Чем больше общая площадь, тем выше стоимость. На графиках видна высокая корреляция.\n",
    "   \n",
    "   - Число комнат влияет на цену, чем больше комнат, тем больше цена. Самые дорогие квартиры с 3 комнатами. Тем не менее заивисимость ниже, чем у площади, так как бывают квартиры с большими по площади комнатами и квартиры в центре с малым числом комнат, но стоят дороже.\n",
    "   \n",
    "   - Первый и последний этаж влияет на стоимость квартиры - в среднем квартиры на 1-м этаже значительно дешевле. Последний этаж несколько дороже. Наибольшая стоимость у квартир, расположенных на другом этаже.\n"
   ]
  },
  {
   "cell_type": "markdown",
   "metadata": {},
   "source": [
    "**Исследуем среднюю цену одного квадратного метра в 10 населённых пунктах с наибольшим числом объявлений**:"
   ]
  },
  {
   "cell_type": "code",
   "execution_count": 111,
   "metadata": {},
   "outputs": [
    {
     "data": {
      "text/html": [
       "<div>\n",
       "<style scoped>\n",
       "    .dataframe tbody tr th:only-of-type {\n",
       "        vertical-align: middle;\n",
       "    }\n",
       "\n",
       "    .dataframe tbody tr th {\n",
       "        vertical-align: top;\n",
       "    }\n",
       "\n",
       "    .dataframe thead th {\n",
       "        text-align: right;\n",
       "    }\n",
       "</style>\n",
       "<table border=\"1\" class=\"dataframe\">\n",
       "  <thead>\n",
       "    <tr style=\"text-align: right;\">\n",
       "      <th></th>\n",
       "      <th>count</th>\n",
       "      <th>price_square_meter</th>\n",
       "    </tr>\n",
       "    <tr>\n",
       "      <th>locality_name</th>\n",
       "      <th></th>\n",
       "      <th></th>\n",
       "    </tr>\n",
       "  </thead>\n",
       "  <tbody>\n",
       "    <tr>\n",
       "      <th>Санкт-Петербург</th>\n",
       "      <td>8788</td>\n",
       "      <td>102283.60</td>\n",
       "    </tr>\n",
       "    <tr>\n",
       "      <th>Пушкин</th>\n",
       "      <td>219</td>\n",
       "      <td>98765.83</td>\n",
       "    </tr>\n",
       "    <tr>\n",
       "      <th>Кудрово</th>\n",
       "      <td>183</td>\n",
       "      <td>91839.49</td>\n",
       "    </tr>\n",
       "    <tr>\n",
       "      <th>Парголово</th>\n",
       "      <td>141</td>\n",
       "      <td>84811.36</td>\n",
       "    </tr>\n",
       "    <tr>\n",
       "      <th>Мурино</th>\n",
       "      <td>227</td>\n",
       "      <td>79728.30</td>\n",
       "    </tr>\n",
       "    <tr>\n",
       "      <th>Шушары</th>\n",
       "      <td>264</td>\n",
       "      <td>73960.35</td>\n",
       "    </tr>\n",
       "    <tr>\n",
       "      <th>Колпино</th>\n",
       "      <td>230</td>\n",
       "      <td>72171.95</td>\n",
       "    </tr>\n",
       "    <tr>\n",
       "      <th>Гатчина</th>\n",
       "      <td>202</td>\n",
       "      <td>67942.69</td>\n",
       "    </tr>\n",
       "    <tr>\n",
       "      <th>Всеволожск</th>\n",
       "      <td>249</td>\n",
       "      <td>66018.30</td>\n",
       "    </tr>\n",
       "    <tr>\n",
       "      <th>Выборг</th>\n",
       "      <td>152</td>\n",
       "      <td>58289.75</td>\n",
       "    </tr>\n",
       "  </tbody>\n",
       "</table>\n",
       "</div>"
      ],
      "text/plain": [
       "                 count  price_square_meter\n",
       "locality_name                             \n",
       "Санкт-Петербург   8788           102283.60\n",
       "Пушкин             219            98765.83\n",
       "Кудрово            183            91839.49\n",
       "Парголово          141            84811.36\n",
       "Мурино             227            79728.30\n",
       "Шушары             264            73960.35\n",
       "Колпино            230            72171.95\n",
       "Гатчина            202            67942.69\n",
       "Всеволожск         249            66018.30\n",
       "Выборг             152            58289.75"
      ]
     },
     "execution_count": 111,
     "metadata": {},
     "output_type": "execute_result"
    }
   ],
   "source": [
    "mean_price = good_data.pivot_table(index='locality_name', values='last_price', aggfunc=['count'])\n",
    "mean_price.columns = ['count']\n",
    "mean_price = mean_price.sort_values(by='count', ascending=False).head(10)\n",
    "mean_price['price_square_meter'] = good_data.pivot_table(index='locality_name', values='one_square_meter').round(2)\n",
    "mean_price.sort_values(by='price_square_meter', ascending=False)"
   ]
  },
  {
   "cell_type": "markdown",
   "metadata": {},
   "source": [
    "**Вывод**:\n",
    "    Наибольшая средняя стоимость квадратного метра и количество объявлений в Санкт-Петербурге. По количеству объявлений, в остальных пунктах списка от 129 до 264, примерно одинаково, что значительно меньше, чем в самом Санкт-Петербурге(так как сам город сильно больше по плотности застройки и населению). Из топ-10 наименьшая стоимость в Выборге и Всеволожске."
   ]
  },
  {
   "cell_type": "markdown",
   "metadata": {},
   "source": [
    "**Выделим квартиры в Санкт-Петербурге и вычислим их среднюю стоимость на разном удалении от центра**:"
   ]
  },
  {
   "cell_type": "code",
   "execution_count": 112,
   "metadata": {},
   "outputs": [
    {
     "data": {
      "text/plain": [
       "count    8788.000000\n",
       "mean       12.119254\n",
       "std         4.521222\n",
       "min         0.000000\n",
       "25%        10.000000\n",
       "50%        13.000000\n",
       "75%        15.000000\n",
       "max        29.000000\n",
       "Name: city_centers_nearest_km, dtype: float64"
      ]
     },
     "execution_count": 112,
     "metadata": {},
     "output_type": "execute_result"
    }
   ],
   "source": [
    "good_data.query('locality_name == \"Санкт-Петербург\"')['city_centers_nearest_km'].describe()"
   ]
  },
  {
   "cell_type": "code",
   "execution_count": 113,
   "metadata": {},
   "outputs": [
    {
     "data": {
      "text/plain": [
       "<AxesSubplot:title={'center':'Зависимость цены от расстояния до центра по Санкт-Петербургу'}, xlabel='city_centers_nearest_km'>"
      ]
     },
     "execution_count": 113,
     "metadata": {},
     "output_type": "execute_result"
    },
    {
     "data": {
      "image/png": "[encoded data removed]",
      "text/plain": [
       "<Figure size 720x360 with 1 Axes>"
      ]
     },
     "metadata": {
      "needs_background": "light"
     },
     "output_type": "display_data"
    }
   ],
   "source": [
    "(\n",
    "    good_data.query('locality_name == \"Санкт-Петербург\"')\n",
    "    .pivot_table(index='city_centers_nearest_km', values='last_price')\n",
    "    .plot(grid=True, style='o-', xlim=(0,15), figsize=(10, 5), title='Зависимость цены от расстояния до центра по Санкт-Петербургу')\n",
    ")"
   ]
  },
  {
   "cell_type": "code",
   "execution_count": 114,
   "metadata": {},
   "outputs": [
    {
     "data": {
      "text/html": [
       "<div>\n",
       "<style scoped>\n",
       "    .dataframe tbody tr th:only-of-type {\n",
       "        vertical-align: middle;\n",
       "    }\n",
       "\n",
       "    .dataframe tbody tr th {\n",
       "        vertical-align: top;\n",
       "    }\n",
       "\n",
       "    .dataframe thead th {\n",
       "        text-align: right;\n",
       "    }\n",
       "</style>\n",
       "<table border=\"1\" class=\"dataframe\">\n",
       "  <thead>\n",
       "    <tr style=\"text-align: right;\">\n",
       "      <th></th>\n",
       "      <th>last_price</th>\n",
       "    </tr>\n",
       "    <tr>\n",
       "      <th>city_centers_nearest_km</th>\n",
       "      <th></th>\n",
       "    </tr>\n",
       "  </thead>\n",
       "  <tbody>\n",
       "    <tr>\n",
       "      <th>1</th>\n",
       "      <td>8.122577e+06</td>\n",
       "    </tr>\n",
       "    <tr>\n",
       "      <th>2</th>\n",
       "      <td>7.688000e+06</td>\n",
       "    </tr>\n",
       "    <tr>\n",
       "      <th>5</th>\n",
       "      <td>7.517960e+06</td>\n",
       "    </tr>\n",
       "    <tr>\n",
       "      <th>4</th>\n",
       "      <td>7.435343e+06</td>\n",
       "    </tr>\n",
       "    <tr>\n",
       "      <th>6</th>\n",
       "      <td>7.217232e+06</td>\n",
       "    </tr>\n",
       "    <tr>\n",
       "      <th>8</th>\n",
       "      <td>7.042215e+06</td>\n",
       "    </tr>\n",
       "    <tr>\n",
       "      <th>3</th>\n",
       "      <td>6.868477e+06</td>\n",
       "    </tr>\n",
       "    <tr>\n",
       "      <th>7</th>\n",
       "      <td>6.771105e+06</td>\n",
       "    </tr>\n",
       "    <tr>\n",
       "      <th>0</th>\n",
       "      <td>6.480000e+06</td>\n",
       "    </tr>\n",
       "    <tr>\n",
       "      <th>9</th>\n",
       "      <td>5.919444e+06</td>\n",
       "    </tr>\n",
       "    <tr>\n",
       "      <th>13</th>\n",
       "      <td>5.875366e+06</td>\n",
       "    </tr>\n",
       "    <tr>\n",
       "      <th>10</th>\n",
       "      <td>5.842725e+06</td>\n",
       "    </tr>\n",
       "    <tr>\n",
       "      <th>15</th>\n",
       "      <td>5.803255e+06</td>\n",
       "    </tr>\n",
       "    <tr>\n",
       "      <th>14</th>\n",
       "      <td>5.778846e+06</td>\n",
       "    </tr>\n",
       "    <tr>\n",
       "      <th>12</th>\n",
       "      <td>5.732584e+06</td>\n",
       "    </tr>\n",
       "    <tr>\n",
       "      <th>11</th>\n",
       "      <td>5.634195e+06</td>\n",
       "    </tr>\n",
       "  </tbody>\n",
       "</table>\n",
       "</div>"
      ],
      "text/plain": [
       "                           last_price\n",
       "city_centers_nearest_km              \n",
       "1                        8.122577e+06\n",
       "2                        7.688000e+06\n",
       "5                        7.517960e+06\n",
       "4                        7.435343e+06\n",
       "6                        7.217232e+06\n",
       "8                        7.042215e+06\n",
       "3                        6.868477e+06\n",
       "7                        6.771105e+06\n",
       "0                        6.480000e+06\n",
       "9                        5.919444e+06\n",
       "13                       5.875366e+06\n",
       "10                       5.842725e+06\n",
       "15                       5.803255e+06\n",
       "14                       5.778846e+06\n",
       "12                       5.732584e+06\n",
       "11                       5.634195e+06"
      ]
     },
     "execution_count": 114,
     "metadata": {},
     "output_type": "execute_result"
    }
   ],
   "source": [
    "(\n",
    "    good_data.query('locality_name == \"Санкт-Петербург\" and city_centers_nearest_km < 16')\n",
    "    .pivot_table(values='last_price', index='city_centers_nearest_km')\n",
    "    .sort_values('last_price', ascending=False)\n",
    ")"
   ]
  },
  {
   "cell_type": "markdown",
   "metadata": {},
   "source": [
    "**Вывод**: Самые дорогие квартиры в 1км от центра города. Непосредственно в центре квартиры дешевле(вероятно это связано с наибольшей зашумленностью от коммерческих помещений). Чем дальше от центра, тем меньше цены."
   ]
  },
  {
   "cell_type": "markdown",
   "metadata": {
    "id": "h7VpzkIDAwb-"
   },
   "source": [
    "### Напишите общий вывод"
   ]
  },
  {
   "cell_type": "markdown",
   "metadata": {
    "id": "3H4lnp_KAwb-"
   },
   "source": [
    "В процессе исследования объявлений о продаже квартир были выполнены следующие этапы и сделаны выводы:\n",
    "\n",
    "   **Изучили общую информацию о данных**\n",
    "   \n",
    "   _В данных 23699 записи. Есть пропущенные значения и некорректный тип данных. По гисторгаммам видно, что в данных есть аномальные значения._\n",
    "        \n",
    "   **Выполнена предобработка данных**\n",
    "   \n",
    "   _Переименовали название столбца cityCenters_nearest на city_centers_nearest.\n",
    "   Заполнили явные пропуски в таблице, и округлили значения.\n",
    "   Изменили тип данных, в соответствии с данными находящимися в столбцах._\n",
    "   Возможные причины появления пропусков:\n",
    "   - Человеческий фактор.\n",
    "   - Технические сбои.\n",
    "   \n",
    "   \n",
    "   **Добавлены новые столбцы в таблицу**\n",
    "   \n",
    "   - one_square_meterr - цена квадратного метра объекта с точностью до двух знаков после запятой.\n",
    "   - weekday_exposition - день недели публикации объявления (0 — понедельник, 1 — вторник и так далее).\n",
    "   - month_exposition - месяц публикации объявления.\n",
    "   - year_exposition - год публикации объявления.\n",
    "   - floor_type - тип этажа квартиры (значения — «первый», «последний», «другой»).\n",
    "   - city_centers_nearest_km - расстояние до центра города в целых километрах._\n",
    "    \n",
    "    \n",
    "   **Проведен исследовательский анализ данных**\n",
    "   \n",
    "   _На рынке самое большое предложение квартир с общей площадью от 28 до 60 кв. метров с максимумом приблизительно 100 кв. метров._\n",
    "   \n",
    "   _Больше всего продают квартир с жилой площадью с 27 кв. м по 36 кв. метров при этом прослеживается спад предложений в средней зоне 36-40 кв. метра._\n",
    "    \n",
    "   _Прослеживается тенденция что больше всего предложений с площадью кухни от 5 метров до 10._\n",
    "    _Из гисторгаммы следует, что наиболее часто цена объекта составляет 3 - 6 миллниона._\n",
    "    \n",
    "   _Среди предложений больше всего двухкомнатных квартир. С увеличением комнат количество предложений снижается._\n",
    "   _Среди большинства предложений высота составляет с 2.6 по 2.9 метров._\n",
    "    \n",
    "   _Менее ценными считаются квартиры на \"первом\" и \"последнем\" этаже. На круговой диаграмме заметно, что общее количество предложений \"первого\" и \"последнего\" этажа составляет почти 25% от общего количества._\n",
    "    \n",
    "   _Больше всего предложений о продаже квартир в пятиэтажных домах, а потом в девятиэтажках._\n",
    "    \n",
    "   _Больше всего предложений о продаже в спальных районах на окраинах города, на расстоянии 12000 -15000 метров._\n",
    "    \n",
    "   _Количество предложений не сильно зависит от расстояния до ближайшего парка. Большее расстояние до парка составляет 350 - 550 метров_\n",
    "        \n",
    "   **Изучено, как быстро продавались квартиры**\n",
    "   \n",
    "   _Среднее значение продажи составляет 163 дня, при этом медианное значение составляет 95 дней, оно более точно характеризует среднее время продажи, так как не зависит от аномалий. Следовательно в среднем продажа квартиры занимает 3-5 месяца._\n",
    "   \n",
    "   _Быстрыми продажами можно считать продажи состоявшиеся за 30-50 дней, а необычно долгие продажи более 232 дня._\n",
    "   \n",
    "   **Определены факторы, которые больше всего влияют на общую (полную) стоимость объекта**\n",
    "   \n",
    "   _Чем больше общая площадь, тем выше стоимость. На графиках видна высокая корреляция._\n",
    "   \n",
    "   _Число комнат влияет на цену, чем больше комнат, тем больше цена. Самые дорогие квартиры с 3 комнатами. Тем не менее заивисимость ниже, чем у площади, так как бывают квартиры с большими по площади комнатами и квартиры в центре с малым числом комнат, но стоят дороже._\n",
    "   \n",
    "   _Первый и последний этаж влияет на стоимость квартиры - в среднем квартиры на 1-м этаже значительно дешевле. Последний этаж несколько дороже. Наибольшая стоимость у квартир, расположенных на другом этаже._\n",
    "   \n",
    "   **Посчитана средняя цена одного квадратного метра в 10 населённых пунктах с наибольшим числом объявлений**\n",
    "   \n",
    "   _Наибольшая средняя стоимость квадратного метра и количество объявлений в Санкт-Петербурге. По количеству объявлений, в остальных пунктах списка от 129 до 264, примерно одинаково, что значительно меньше, чем в самом Санкт-Петербурге(так как сам город сильно больше по плотности застройки и населению). Из топ-10 наименьшая стоимость в Выборге и Всеволожске._\n",
    "       \n",
    "   **Вычислена средняя стоимость квартиры на разном удалении от центра Санкт-Петербурга**\n",
    "   \n",
    "   _Самые дорогие квартиры в 1км от центра города. Непосредственно в центре квартиры дешевле(вероятно это связано с наибольшей зашумленностью от коммерческих помещений). Чем дальше от центра, тем меньше цены._\n"
   ]
  }
 ],
 "metadata": {
  "ExecuteTimeLog": [
   {
    "duration": 532,
    "start_time": "2025-03-03T16:49:48.978Z"
   },
   {
    "duration": 88,
    "start_time": "2025-03-03T16:50:10.039Z"
   },
   {
    "duration": 87,
    "start_time": "2025-03-03T16:50:21.705Z"
   },
   {
    "duration": 84,
    "start_time": "2025-03-03T16:50:24.041Z"
   },
   {
    "duration": 109,
    "start_time": "2025-03-03T16:50:35.725Z"
   },
   {
    "duration": 90,
    "start_time": "2025-03-03T16:50:46.093Z"
   },
   {
    "duration": 112,
    "start_time": "2025-03-03T16:50:57.482Z"
   },
   {
    "duration": 110,
    "start_time": "2025-03-03T16:51:00.946Z"
   },
   {
    "duration": 105,
    "start_time": "2025-03-03T16:51:42.147Z"
   },
   {
    "duration": 2505,
    "start_time": "2025-03-03T16:52:27.590Z"
   },
   {
    "duration": 17351,
    "start_time": "2025-03-03T16:53:45.502Z"
   },
   {
    "duration": 697,
    "start_time": "2025-03-03T16:54:35.385Z"
   },
   {
    "duration": 678,
    "start_time": "2025-03-03T16:54:51.481Z"
   },
   {
    "duration": 96,
    "start_time": "2025-03-03T16:55:04.554Z"
   },
   {
    "duration": 683,
    "start_time": "2025-03-03T16:55:06.625Z"
   },
   {
    "duration": 1870,
    "start_time": "2025-03-03T16:55:50.457Z"
   },
   {
    "duration": 20,
    "start_time": "2025-03-03T16:58:17.150Z"
   },
   {
    "duration": 1294,
    "start_time": "2025-03-03T17:03:08.163Z"
   },
   {
    "duration": 1535,
    "start_time": "2025-03-03T17:03:13.279Z"
   },
   {
    "duration": 7,
    "start_time": "2025-03-03T17:03:20.564Z"
   },
   {
    "duration": 6,
    "start_time": "2025-03-03T17:03:27.702Z"
   },
   {
    "duration": 18,
    "start_time": "2025-03-03T17:03:41.296Z"
   },
   {
    "duration": 7,
    "start_time": "2025-03-03T17:03:43.885Z"
   },
   {
    "duration": 12,
    "start_time": "2025-03-03T17:03:49.958Z"
   },
   {
    "duration": 13,
    "start_time": "2025-03-03T17:04:04.130Z"
   },
   {
    "duration": 9,
    "start_time": "2025-03-03T17:04:14.692Z"
   },
   {
    "duration": 5,
    "start_time": "2025-03-03T17:04:25.207Z"
   },
   {
    "duration": 380,
    "start_time": "2025-03-03T17:04:30.669Z"
   },
   {
    "duration": 12,
    "start_time": "2025-03-03T17:04:42.755Z"
   },
   {
    "duration": 13,
    "start_time": "2025-03-03T17:05:00.904Z"
   },
   {
    "duration": 16,
    "start_time": "2025-03-03T17:05:04.368Z"
   },
   {
    "duration": 7,
    "start_time": "2025-03-03T17:05:36.913Z"
   },
   {
    "duration": 11,
    "start_time": "2025-03-03T17:05:53.263Z"
   },
   {
    "duration": 50,
    "start_time": "2025-03-03T17:07:15.780Z"
   },
   {
    "duration": 21,
    "start_time": "2025-03-03T17:07:44.045Z"
   },
   {
    "duration": 16,
    "start_time": "2025-03-03T17:08:17.282Z"
   },
   {
    "duration": 2235,
    "start_time": "2025-03-03T17:08:31.639Z"
   },
   {
    "duration": 13,
    "start_time": "2025-03-03T17:14:38.238Z"
   },
   {
    "duration": 5,
    "start_time": "2025-03-03T17:15:33.614Z"
   },
   {
    "duration": 62,
    "start_time": "2025-03-03T17:16:33.554Z"
   },
   {
    "duration": 68,
    "start_time": "2025-03-03T17:17:05.509Z"
   },
   {
    "duration": 10,
    "start_time": "2025-03-03T17:17:19.552Z"
   },
   {
    "duration": 13,
    "start_time": "2025-03-03T17:17:26.636Z"
   },
   {
    "duration": 30,
    "start_time": "2025-03-03T17:18:06.460Z"
   },
   {
    "duration": 10,
    "start_time": "2025-03-03T17:18:13.739Z"
   },
   {
    "duration": 48,
    "start_time": "2025-03-03T17:18:17.872Z"
   },
   {
    "duration": 18,
    "start_time": "2025-03-03T17:18:20.923Z"
   },
   {
    "duration": 9,
    "start_time": "2025-03-03T17:19:23.283Z"
   },
   {
    "duration": 10,
    "start_time": "2025-03-03T17:19:28.556Z"
   },
   {
    "duration": 12,
    "start_time": "2025-03-03T17:19:54.337Z"
   },
   {
    "duration": 7,
    "start_time": "2025-03-03T17:19:58.813Z"
   },
   {
    "duration": 15,
    "start_time": "2025-03-03T17:21:05.217Z"
   },
   {
    "duration": 11,
    "start_time": "2025-03-03T17:21:10.703Z"
   },
   {
    "duration": 11,
    "start_time": "2025-03-03T17:22:14.045Z"
   },
   {
    "duration": 3,
    "start_time": "2025-03-03T17:23:14.949Z"
   },
   {
    "duration": 6,
    "start_time": "2025-03-03T17:24:16.432Z"
   },
   {
    "duration": 7,
    "start_time": "2025-03-03T17:24:53.381Z"
   },
   {
    "duration": 8,
    "start_time": "2025-03-03T17:26:02.101Z"
   },
   {
    "duration": 6,
    "start_time": "2025-03-03T17:26:52.196Z"
   },
   {
    "duration": 7,
    "start_time": "2025-03-03T17:26:54.761Z"
   },
   {
    "duration": 14,
    "start_time": "2025-03-03T17:28:51.472Z"
   },
   {
    "duration": 5,
    "start_time": "2025-03-03T17:29:34.890Z"
   },
   {
    "duration": 6,
    "start_time": "2025-03-03T17:30:18.918Z"
   },
   {
    "duration": 4,
    "start_time": "2025-03-03T17:30:23.939Z"
   },
   {
    "duration": 6,
    "start_time": "2025-03-03T17:30:27.958Z"
   },
   {
    "duration": 6,
    "start_time": "2025-03-03T17:31:06.938Z"
   },
   {
    "duration": 4,
    "start_time": "2025-03-03T17:33:25.165Z"
   },
   {
    "duration": 5,
    "start_time": "2025-03-03T17:33:27.276Z"
   },
   {
    "duration": 12,
    "start_time": "2025-03-03T17:33:34.023Z"
   },
   {
    "duration": 6,
    "start_time": "2025-03-03T17:36:37.951Z"
   },
   {
    "duration": 13,
    "start_time": "2025-03-03T17:37:38.856Z"
   },
   {
    "duration": 11,
    "start_time": "2025-03-03T17:37:40.712Z"
   },
   {
    "duration": 9,
    "start_time": "2025-03-03T17:37:47.352Z"
   },
   {
    "duration": 15,
    "start_time": "2025-03-03T17:37:50.237Z"
   },
   {
    "duration": 10,
    "start_time": "2025-03-03T17:37:51.860Z"
   },
   {
    "duration": 5,
    "start_time": "2025-03-03T17:38:02.885Z"
   },
   {
    "duration": 10,
    "start_time": "2025-03-03T17:38:03.938Z"
   },
   {
    "duration": 104,
    "start_time": "2025-03-03T17:38:12.933Z"
   },
   {
    "duration": 41,
    "start_time": "2025-03-03T17:38:15.916Z"
   },
   {
    "duration": 17,
    "start_time": "2025-03-03T17:38:18.135Z"
   },
   {
    "duration": 2486,
    "start_time": "2025-03-03T17:38:19.741Z"
   },
   {
    "duration": 4,
    "start_time": "2025-03-03T17:38:22.459Z"
   },
   {
    "duration": 10,
    "start_time": "2025-03-03T17:38:24.291Z"
   },
   {
    "duration": 6,
    "start_time": "2025-03-03T17:38:31.251Z"
   },
   {
    "duration": 5,
    "start_time": "2025-03-03T17:38:32.517Z"
   },
   {
    "duration": 5,
    "start_time": "2025-03-03T17:38:34.213Z"
   },
   {
    "duration": 6,
    "start_time": "2025-03-03T17:38:34.846Z"
   },
   {
    "duration": 12,
    "start_time": "2025-03-03T17:38:35.744Z"
   },
   {
    "duration": 4,
    "start_time": "2025-03-03T17:39:12.689Z"
   },
   {
    "duration": 9,
    "start_time": "2025-03-03T17:39:38.874Z"
   },
   {
    "duration": 5,
    "start_time": "2025-03-03T17:39:41.862Z"
   },
   {
    "duration": 6,
    "start_time": "2025-03-03T17:39:46.333Z"
   },
   {
    "duration": 7,
    "start_time": "2025-03-03T17:40:36.352Z"
   },
   {
    "duration": 6,
    "start_time": "2025-03-03T17:40:37.902Z"
   },
   {
    "duration": 5,
    "start_time": "2025-03-03T17:41:50.378Z"
   },
   {
    "duration": 5,
    "start_time": "2025-03-03T17:41:57.379Z"
   },
   {
    "duration": 5,
    "start_time": "2025-03-03T17:42:02.659Z"
   },
   {
    "duration": 5,
    "start_time": "2025-03-03T17:43:04.735Z"
   },
   {
    "duration": 11,
    "start_time": "2025-03-03T17:43:10.914Z"
   },
   {
    "duration": 7,
    "start_time": "2025-03-03T17:43:54.234Z"
   },
   {
    "duration": 8,
    "start_time": "2025-03-03T17:44:00.341Z"
   },
   {
    "duration": 7,
    "start_time": "2025-03-03T17:44:05.107Z"
   },
   {
    "duration": 14,
    "start_time": "2025-03-03T17:45:13.894Z"
   },
   {
    "duration": 5,
    "start_time": "2025-03-03T17:45:59.832Z"
   },
   {
    "duration": 4,
    "start_time": "2025-03-03T17:47:02.221Z"
   },
   {
    "duration": 12,
    "start_time": "2025-03-03T17:47:09.490Z"
   },
   {
    "duration": 4,
    "start_time": "2025-03-03T17:47:38.179Z"
   },
   {
    "duration": 16,
    "start_time": "2025-03-03T17:47:46.570Z"
   },
   {
    "duration": 7,
    "start_time": "2025-03-03T17:48:03.724Z"
   },
   {
    "duration": 12,
    "start_time": "2025-03-03T17:52:22.079Z"
   },
   {
    "duration": 28,
    "start_time": "2025-03-03T17:52:31.831Z"
   },
   {
    "duration": 34,
    "start_time": "2025-03-03T17:59:50.624Z"
   },
   {
    "duration": 435,
    "start_time": "2025-03-03T18:00:30.212Z"
   },
   {
    "duration": 27,
    "start_time": "2025-03-03T18:00:41.354Z"
   },
   {
    "duration": 49,
    "start_time": "2025-03-03T18:00:50.271Z"
   },
   {
    "duration": 31,
    "start_time": "2025-03-03T18:01:34.229Z"
   },
   {
    "duration": 40,
    "start_time": "2025-03-03T18:03:59.122Z"
   },
   {
    "duration": 57,
    "start_time": "2025-03-03T18:04:08.808Z"
   },
   {
    "duration": 39,
    "start_time": "2025-03-03T18:04:24.105Z"
   },
   {
    "duration": 51,
    "start_time": "2025-03-03T18:04:46.420Z"
   },
   {
    "duration": 99,
    "start_time": "2025-03-03T18:04:53.593Z"
   },
   {
    "duration": 41,
    "start_time": "2025-03-03T18:04:58.041Z"
   },
   {
    "duration": 43,
    "start_time": "2025-03-03T18:05:02.540Z"
   },
   {
    "duration": 93,
    "start_time": "2025-03-03T18:05:09.146Z"
   },
   {
    "duration": 37,
    "start_time": "2025-03-03T18:05:38.219Z"
   },
   {
    "duration": 40,
    "start_time": "2025-03-03T18:05:58.501Z"
   },
   {
    "duration": 6,
    "start_time": "2025-03-03T18:15:41.949Z"
   },
   {
    "duration": 5,
    "start_time": "2025-03-03T18:15:50.549Z"
   },
   {
    "duration": 6,
    "start_time": "2025-03-03T18:15:58.482Z"
   },
   {
    "duration": 12,
    "start_time": "2025-03-03T18:20:29.966Z"
   },
   {
    "duration": 7,
    "start_time": "2025-03-03T18:21:00.476Z"
   },
   {
    "duration": 6,
    "start_time": "2025-03-03T18:21:04.995Z"
   },
   {
    "duration": 5,
    "start_time": "2025-03-03T18:21:12.788Z"
   },
   {
    "duration": 10,
    "start_time": "2025-03-03T18:21:56.278Z"
   },
   {
    "duration": 5,
    "start_time": "2025-03-03T18:22:14.360Z"
   },
   {
    "duration": 10,
    "start_time": "2025-03-03T18:23:41.064Z"
   },
   {
    "duration": 13,
    "start_time": "2025-03-03T18:24:07.311Z"
   },
   {
    "duration": 7,
    "start_time": "2025-03-03T18:24:15.565Z"
   },
   {
    "duration": 6,
    "start_time": "2025-03-03T18:24:18.663Z"
   },
   {
    "duration": 11,
    "start_time": "2025-03-03T18:25:18.580Z"
   },
   {
    "duration": 24,
    "start_time": "2025-03-03T18:25:23.145Z"
   },
   {
    "duration": 16,
    "start_time": "2025-03-03T18:25:35.318Z"
   },
   {
    "duration": 40,
    "start_time": "2025-03-03T18:25:43.261Z"
   },
   {
    "duration": 12,
    "start_time": "2025-03-03T18:25:51.263Z"
   },
   {
    "duration": 13,
    "start_time": "2025-03-03T18:25:59.183Z"
   },
   {
    "duration": 11,
    "start_time": "2025-03-03T18:26:06.665Z"
   },
   {
    "duration": 13,
    "start_time": "2025-03-03T18:26:20.542Z"
   },
   {
    "duration": 6,
    "start_time": "2025-03-03T18:27:13.553Z"
   },
   {
    "duration": 8,
    "start_time": "2025-03-03T18:27:35.574Z"
   },
   {
    "duration": 7,
    "start_time": "2025-03-03T18:27:48.487Z"
   },
   {
    "duration": 4,
    "start_time": "2025-03-03T18:28:01.029Z"
   },
   {
    "duration": 6,
    "start_time": "2025-03-03T18:28:04.187Z"
   },
   {
    "duration": 7,
    "start_time": "2025-03-03T18:28:15.030Z"
   },
   {
    "duration": 7,
    "start_time": "2025-03-03T18:28:20.264Z"
   },
   {
    "duration": 7,
    "start_time": "2025-03-03T18:28:28.814Z"
   },
   {
    "duration": 6,
    "start_time": "2025-03-03T18:29:56.617Z"
   },
   {
    "duration": 13,
    "start_time": "2025-03-03T18:30:03.280Z"
   },
   {
    "duration": 5,
    "start_time": "2025-03-03T18:30:56.397Z"
   },
   {
    "duration": 4,
    "start_time": "2025-03-03T18:31:10.653Z"
   },
   {
    "duration": 8,
    "start_time": "2025-03-03T18:31:34.523Z"
   },
   {
    "duration": 19,
    "start_time": "2025-03-03T18:31:45.550Z"
   },
   {
    "duration": 6,
    "start_time": "2025-03-03T18:31:51.026Z"
   },
   {
    "duration": 7,
    "start_time": "2025-03-03T18:32:00.990Z"
   },
   {
    "duration": 20,
    "start_time": "2025-03-03T18:32:06.033Z"
   },
   {
    "duration": 8,
    "start_time": "2025-03-03T18:33:36.122Z"
   },
   {
    "duration": 8,
    "start_time": "2025-03-03T18:33:42.284Z"
   },
   {
    "duration": 8,
    "start_time": "2025-03-03T18:33:49.710Z"
   },
   {
    "duration": 8,
    "start_time": "2025-03-03T18:34:10.837Z"
   },
   {
    "duration": 48,
    "start_time": "2025-03-03T18:34:16.449Z"
   },
   {
    "duration": 93,
    "start_time": "2025-03-03T18:34:38.292Z"
   },
   {
    "duration": 40,
    "start_time": "2025-03-03T18:34:38.854Z"
   },
   {
    "duration": 16,
    "start_time": "2025-03-03T18:34:39.096Z"
   },
   {
    "duration": 2151,
    "start_time": "2025-03-03T18:34:39.374Z"
   },
   {
    "duration": 5,
    "start_time": "2025-03-03T18:34:41.527Z"
   },
   {
    "duration": 75,
    "start_time": "2025-03-03T18:34:41.534Z"
   },
   {
    "duration": 13,
    "start_time": "2025-03-03T18:34:41.620Z"
   },
   {
    "duration": 6,
    "start_time": "2025-03-03T18:34:41.976Z"
   },
   {
    "duration": 12,
    "start_time": "2025-03-03T18:34:42.602Z"
   },
   {
    "duration": 6,
    "start_time": "2025-03-03T18:34:42.815Z"
   },
   {
    "duration": 5,
    "start_time": "2025-03-03T18:34:43.135Z"
   },
   {
    "duration": 6,
    "start_time": "2025-03-03T18:34:43.288Z"
   },
   {
    "duration": 5,
    "start_time": "2025-03-03T18:34:43.418Z"
   },
   {
    "duration": 11,
    "start_time": "2025-03-03T18:34:43.690Z"
   },
   {
    "duration": 5,
    "start_time": "2025-03-03T18:34:43.826Z"
   },
   {
    "duration": 11,
    "start_time": "2025-03-03T18:34:44.094Z"
   },
   {
    "duration": 11,
    "start_time": "2025-03-03T18:34:44.377Z"
   },
   {
    "duration": 7,
    "start_time": "2025-03-03T18:34:44.518Z"
   },
   {
    "duration": 42,
    "start_time": "2025-03-03T18:34:44.820Z"
   },
   {
    "duration": 5,
    "start_time": "2025-03-03T18:34:45.423Z"
   },
   {
    "duration": 11,
    "start_time": "2025-03-03T18:34:46.700Z"
   },
   {
    "duration": 12,
    "start_time": "2025-03-03T18:34:47.061Z"
   },
   {
    "duration": 4,
    "start_time": "2025-03-03T18:34:51.005Z"
   },
   {
    "duration": 9,
    "start_time": "2025-03-03T18:34:56.926Z"
   },
   {
    "duration": 26,
    "start_time": "2025-03-03T18:35:01.449Z"
   },
   {
    "duration": 15,
    "start_time": "2025-03-03T19:00:05.374Z"
   },
   {
    "duration": 13,
    "start_time": "2025-03-03T19:01:37.713Z"
   },
   {
    "duration": 19,
    "start_time": "2025-03-03T19:01:47.286Z"
   },
   {
    "duration": 14,
    "start_time": "2025-03-03T19:02:07.213Z"
   },
   {
    "duration": 11,
    "start_time": "2025-03-03T19:02:16.898Z"
   },
   {
    "duration": 5,
    "start_time": "2025-03-03T19:02:34.578Z"
   },
   {
    "duration": 6,
    "start_time": "2025-03-03T19:02:43.087Z"
   },
   {
    "duration": 5,
    "start_time": "2025-03-03T19:02:46.658Z"
   },
   {
    "duration": 5,
    "start_time": "2025-03-03T19:02:54.268Z"
   },
   {
    "duration": 8,
    "start_time": "2025-03-03T19:02:57.574Z"
   },
   {
    "duration": 6,
    "start_time": "2025-03-03T19:05:08.070Z"
   },
   {
    "duration": 5,
    "start_time": "2025-03-03T19:05:13.474Z"
   },
   {
    "duration": 11,
    "start_time": "2025-03-03T19:05:17.353Z"
   },
   {
    "duration": 60,
    "start_time": "2025-03-03T19:08:12.878Z"
   },
   {
    "duration": 7,
    "start_time": "2025-03-03T19:08:19.483Z"
   },
   {
    "duration": 18,
    "start_time": "2025-03-03T19:19:22.250Z"
   },
   {
    "duration": 1205,
    "start_time": "2025-03-03T19:19:56.841Z"
   },
   {
    "duration": 6,
    "start_time": "2025-03-03T19:20:01.753Z"
   },
   {
    "duration": 3,
    "start_time": "2025-03-03T19:22:18.532Z"
   },
   {
    "duration": 15,
    "start_time": "2025-03-03T19:23:09.227Z"
   },
   {
    "duration": 5,
    "start_time": "2025-03-03T19:23:56.286Z"
   },
   {
    "duration": 84,
    "start_time": "2025-03-03T19:24:07.721Z"
   },
   {
    "duration": 15,
    "start_time": "2025-03-03T19:24:10.122Z"
   },
   {
    "duration": 17,
    "start_time": "2025-03-03T19:25:01.393Z"
   },
   {
    "duration": 17,
    "start_time": "2025-03-03T19:25:14.440Z"
   },
   {
    "duration": 5,
    "start_time": "2025-03-03T19:26:39.258Z"
   },
   {
    "duration": 5,
    "start_time": "2025-03-03T19:27:38.657Z"
   },
   {
    "duration": 4,
    "start_time": "2025-03-03T19:27:45.705Z"
   },
   {
    "duration": 6,
    "start_time": "2025-03-03T19:27:51.498Z"
   },
   {
    "duration": 4,
    "start_time": "2025-03-03T19:28:11.331Z"
   },
   {
    "duration": 5,
    "start_time": "2025-03-03T19:28:23.557Z"
   },
   {
    "duration": 5,
    "start_time": "2025-03-03T19:28:30.859Z"
   },
   {
    "duration": 5,
    "start_time": "2025-03-03T19:28:39.238Z"
   },
   {
    "duration": 4,
    "start_time": "2025-03-03T19:28:41.833Z"
   },
   {
    "duration": 23,
    "start_time": "2025-03-03T19:28:51.352Z"
   },
   {
    "duration": 23,
    "start_time": "2025-03-03T19:30:25.620Z"
   },
   {
    "duration": 7,
    "start_time": "2025-03-03T19:40:30.932Z"
   },
   {
    "duration": 8,
    "start_time": "2025-03-03T19:41:06.498Z"
   },
   {
    "duration": 9,
    "start_time": "2025-03-03T19:41:13.072Z"
   },
   {
    "duration": 4,
    "start_time": "2025-03-03T19:42:04.559Z"
   },
   {
    "duration": 10,
    "start_time": "2025-03-03T19:43:00.433Z"
   },
   {
    "duration": 14,
    "start_time": "2025-03-03T19:43:03.071Z"
   },
   {
    "duration": 11,
    "start_time": "2025-03-03T19:43:07.819Z"
   },
   {
    "duration": 12,
    "start_time": "2025-03-03T19:43:26.172Z"
   },
   {
    "duration": 11,
    "start_time": "2025-03-03T19:43:28.371Z"
   },
   {
    "duration": 13,
    "start_time": "2025-03-03T19:43:42.479Z"
   },
   {
    "duration": 21,
    "start_time": "2025-03-03T19:45:44.018Z"
   },
   {
    "duration": 6,
    "start_time": "2025-03-03T19:46:35.648Z"
   },
   {
    "duration": 8,
    "start_time": "2025-03-03T19:47:08.677Z"
   },
   {
    "duration": 995,
    "start_time": "2025-03-03T19:47:42.922Z"
   },
   {
    "duration": 622,
    "start_time": "2025-03-03T19:48:05.165Z"
   },
   {
    "duration": 14,
    "start_time": "2025-03-03T19:48:15.347Z"
   },
   {
    "duration": 24,
    "start_time": "2025-03-03T19:48:34.014Z"
   },
   {
    "duration": 13,
    "start_time": "2025-03-03T19:48:38.537Z"
   },
   {
    "duration": 10,
    "start_time": "2025-03-03T19:48:42.226Z"
   },
   {
    "duration": 12,
    "start_time": "2025-03-03T19:48:48.156Z"
   },
   {
    "duration": 11,
    "start_time": "2025-03-03T19:49:15.537Z"
   },
   {
    "duration": 8,
    "start_time": "2025-03-03T19:49:40.726Z"
   },
   {
    "duration": 7,
    "start_time": "2025-03-03T19:50:35.724Z"
   },
   {
    "duration": 10,
    "start_time": "2025-03-03T19:50:54.739Z"
   },
   {
    "duration": 11,
    "start_time": "2025-03-03T19:50:56.436Z"
   },
   {
    "duration": 7,
    "start_time": "2025-03-03T19:51:07.434Z"
   },
   {
    "duration": 14,
    "start_time": "2025-03-03T19:51:12.058Z"
   },
   {
    "duration": 6,
    "start_time": "2025-03-03T19:52:27.574Z"
   },
   {
    "duration": 5,
    "start_time": "2025-03-03T19:52:32.009Z"
   },
   {
    "duration": 10,
    "start_time": "2025-03-03T19:58:38.523Z"
   },
   {
    "duration": 10,
    "start_time": "2025-03-03T19:58:42.384Z"
   },
   {
    "duration": 10,
    "start_time": "2025-03-03T19:58:44.411Z"
   },
   {
    "duration": 12,
    "start_time": "2025-03-03T19:58:46.161Z"
   },
   {
    "duration": 10,
    "start_time": "2025-03-03T19:58:50.189Z"
   },
   {
    "duration": 12,
    "start_time": "2025-03-03T19:58:52.423Z"
   },
   {
    "duration": 12,
    "start_time": "2025-03-03T19:58:55.444Z"
   },
   {
    "duration": 10,
    "start_time": "2025-03-03T19:59:00.218Z"
   },
   {
    "duration": 9,
    "start_time": "2025-03-03T19:59:03.464Z"
   },
   {
    "duration": 11,
    "start_time": "2025-03-03T19:59:06.643Z"
   },
   {
    "duration": 9,
    "start_time": "2025-03-03T19:59:08.612Z"
   },
   {
    "duration": 9,
    "start_time": "2025-03-03T19:59:10.658Z"
   },
   {
    "duration": 10,
    "start_time": "2025-03-03T19:59:13.336Z"
   },
   {
    "duration": 9,
    "start_time": "2025-03-03T19:59:15.478Z"
   },
   {
    "duration": 8,
    "start_time": "2025-03-03T19:59:17.352Z"
   },
   {
    "duration": 8,
    "start_time": "2025-03-03T19:59:19.786Z"
   },
   {
    "duration": 9,
    "start_time": "2025-03-03T19:59:23.867Z"
   },
   {
    "duration": 11,
    "start_time": "2025-03-03T19:59:26.250Z"
   },
   {
    "duration": 9,
    "start_time": "2025-03-03T19:59:29.131Z"
   },
   {
    "duration": 9,
    "start_time": "2025-03-03T19:59:32.712Z"
   },
   {
    "duration": 10,
    "start_time": "2025-03-03T19:59:37.089Z"
   },
   {
    "duration": 7,
    "start_time": "2025-03-03T20:04:14.386Z"
   },
   {
    "duration": 10,
    "start_time": "2025-03-03T20:04:24.182Z"
   },
   {
    "duration": 7,
    "start_time": "2025-03-03T20:04:27.651Z"
   },
   {
    "duration": 7,
    "start_time": "2025-03-03T20:04:29.939Z"
   },
   {
    "duration": 7,
    "start_time": "2025-03-03T20:04:32.599Z"
   },
   {
    "duration": 15,
    "start_time": "2025-03-03T20:04:41.138Z"
   },
   {
    "duration": 8,
    "start_time": "2025-03-03T20:09:56.251Z"
   },
   {
    "duration": 3,
    "start_time": "2025-03-03T20:09:59.456Z"
   },
   {
    "duration": 10,
    "start_time": "2025-03-03T20:10:01.502Z"
   },
   {
    "duration": 9,
    "start_time": "2025-03-03T20:10:42.131Z"
   },
   {
    "duration": 13,
    "start_time": "2025-03-03T20:10:48.549Z"
   },
   {
    "duration": 14,
    "start_time": "2025-03-03T20:11:09.221Z"
   },
   {
    "duration": 14,
    "start_time": "2025-03-03T20:11:18.434Z"
   },
   {
    "duration": 31,
    "start_time": "2025-03-03T20:11:47.194Z"
   },
   {
    "duration": 30,
    "start_time": "2025-03-03T20:11:51.059Z"
   },
   {
    "duration": 30,
    "start_time": "2025-03-03T20:11:53.181Z"
   },
   {
    "duration": 30,
    "start_time": "2025-03-03T20:11:55.121Z"
   },
   {
    "duration": 31,
    "start_time": "2025-03-03T20:11:57.072Z"
   },
   {
    "duration": 31,
    "start_time": "2025-03-03T20:11:59.313Z"
   },
   {
    "duration": 46,
    "start_time": "2025-03-03T20:12:01.193Z"
   },
   {
    "duration": 46,
    "start_time": "2025-03-03T20:12:04.766Z"
   },
   {
    "duration": 43,
    "start_time": "2025-03-03T20:12:07.118Z"
   },
   {
    "duration": 45,
    "start_time": "2025-03-03T20:12:09.443Z"
   },
   {
    "duration": 44,
    "start_time": "2025-03-03T20:12:11.585Z"
   },
   {
    "duration": 46,
    "start_time": "2025-03-03T20:12:31.297Z"
   },
   {
    "duration": 46,
    "start_time": "2025-03-03T20:12:36.599Z"
   },
   {
    "duration": 56,
    "start_time": "2025-03-03T20:12:38.882Z"
   },
   {
    "duration": 45,
    "start_time": "2025-03-03T20:12:46.450Z"
   },
   {
    "duration": 45,
    "start_time": "2025-03-03T20:12:49.459Z"
   },
   {
    "duration": 43,
    "start_time": "2025-03-03T20:12:53.489Z"
   },
   {
    "duration": 45,
    "start_time": "2025-03-03T20:13:27.982Z"
   },
   {
    "duration": 45,
    "start_time": "2025-03-03T20:13:30.841Z"
   },
   {
    "duration": 46,
    "start_time": "2025-03-03T20:13:33.392Z"
   },
   {
    "duration": 44,
    "start_time": "2025-03-03T20:13:35.525Z"
   },
   {
    "duration": 43,
    "start_time": "2025-03-03T20:13:38.056Z"
   },
   {
    "duration": 44,
    "start_time": "2025-03-03T20:13:40.538Z"
   },
   {
    "duration": 46,
    "start_time": "2025-03-03T20:13:42.969Z"
   },
   {
    "duration": 44,
    "start_time": "2025-03-03T20:13:45.582Z"
   },
   {
    "duration": 11,
    "start_time": "2025-03-03T20:15:05.273Z"
   },
   {
    "duration": 38,
    "start_time": "2025-03-03T20:15:44.070Z"
   },
   {
    "duration": 9,
    "start_time": "2025-03-03T20:15:47.914Z"
   },
   {
    "duration": 10,
    "start_time": "2025-03-03T20:15:51.490Z"
   },
   {
    "duration": 9,
    "start_time": "2025-03-03T20:15:54.230Z"
   },
   {
    "duration": 11,
    "start_time": "2025-03-03T20:15:56.115Z"
   },
   {
    "duration": 19,
    "start_time": "2025-03-03T20:17:04.907Z"
   },
   {
    "duration": 35,
    "start_time": "2025-03-03T20:17:14.326Z"
   },
   {
    "duration": 19,
    "start_time": "2025-03-03T20:17:39.146Z"
   },
   {
    "duration": 32,
    "start_time": "2025-03-03T20:17:40.898Z"
   },
   {
    "duration": 2537,
    "start_time": "2025-03-03T20:21:43.029Z"
   },
   {
    "duration": 523,
    "start_time": "2025-03-04T17:37:36.128Z"
   },
   {
    "duration": 51,
    "start_time": "2025-03-04T17:37:37.040Z"
   },
   {
    "duration": 17,
    "start_time": "2025-03-04T17:37:37.607Z"
   },
   {
    "duration": 2402,
    "start_time": "2025-03-04T17:37:38.217Z"
   },
   {
    "duration": 7,
    "start_time": "2025-03-04T17:37:40.621Z"
   },
   {
    "duration": 31,
    "start_time": "2025-03-04T17:37:40.629Z"
   },
   {
    "duration": 12,
    "start_time": "2025-03-04T17:37:40.911Z"
   },
   {
    "duration": 6,
    "start_time": "2025-03-04T17:37:41.544Z"
   },
   {
    "duration": 11,
    "start_time": "2025-03-04T17:37:41.976Z"
   },
   {
    "duration": 6,
    "start_time": "2025-03-04T17:37:42.182Z"
   },
   {
    "duration": 4,
    "start_time": "2025-03-04T17:37:42.930Z"
   },
   {
    "duration": 6,
    "start_time": "2025-03-04T17:37:43.087Z"
   },
   {
    "duration": 6,
    "start_time": "2025-03-04T17:37:43.243Z"
   },
   {
    "duration": 11,
    "start_time": "2025-03-04T17:37:43.677Z"
   },
   {
    "duration": 5,
    "start_time": "2025-03-04T17:37:44.023Z"
   },
   {
    "duration": 11,
    "start_time": "2025-03-04T17:37:44.811Z"
   },
   {
    "duration": 10,
    "start_time": "2025-03-04T17:37:45.761Z"
   },
   {
    "duration": 7,
    "start_time": "2025-03-04T17:37:46.442Z"
   },
   {
    "duration": 61,
    "start_time": "2025-03-04T17:37:46.929Z"
   },
   {
    "duration": 5,
    "start_time": "2025-03-04T17:37:47.553Z"
   },
   {
    "duration": 11,
    "start_time": "2025-03-04T17:37:54.661Z"
   },
   {
    "duration": 12,
    "start_time": "2025-03-04T17:37:55.121Z"
   },
   {
    "duration": 3,
    "start_time": "2025-03-04T17:37:56.099Z"
   },
   {
    "duration": 10,
    "start_time": "2025-03-04T17:37:56.501Z"
   },
   {
    "duration": 11,
    "start_time": "2025-03-04T17:37:57.651Z"
   },
   {
    "duration": 13,
    "start_time": "2025-03-04T17:38:01.198Z"
   },
   {
    "duration": 25,
    "start_time": "2025-03-04T17:38:04.215Z"
   },
   {
    "duration": 2196,
    "start_time": "2025-03-04T17:38:05.486Z"
   },
   {
    "duration": 3,
    "start_time": "2025-03-04T17:38:09.688Z"
   },
   {
    "duration": 20,
    "start_time": "2025-03-04T17:38:10.594Z"
   },
   {
    "duration": 33,
    "start_time": "2025-03-04T17:38:12.840Z"
   },
   {
    "duration": 5,
    "start_time": "2025-03-04T17:40:45.654Z"
   },
   {
    "duration": 6,
    "start_time": "2025-03-04T17:41:18.111Z"
   },
   {
    "duration": 5,
    "start_time": "2025-03-04T17:42:27.955Z"
   },
   {
    "duration": 7,
    "start_time": "2025-03-04T17:43:53.021Z"
   },
   {
    "duration": 39,
    "start_time": "2025-03-04T17:43:58.972Z"
   },
   {
    "duration": 8,
    "start_time": "2025-03-04T17:45:19.769Z"
   },
   {
    "duration": 36,
    "start_time": "2025-03-04T17:45:38.591Z"
   },
   {
    "duration": 26,
    "start_time": "2025-03-04T17:48:08.901Z"
   },
   {
    "duration": 117,
    "start_time": "2025-03-04T17:48:26.283Z"
   },
   {
    "duration": 1292,
    "start_time": "2025-03-04T17:48:36.297Z"
   },
   {
    "duration": 852,
    "start_time": "2025-03-04T17:48:43.111Z"
   },
   {
    "duration": 168,
    "start_time": "2025-03-04T17:48:48.231Z"
   },
   {
    "duration": 136,
    "start_time": "2025-03-04T17:48:55.410Z"
   },
   {
    "duration": 8,
    "start_time": "2025-03-04T17:49:18.991Z"
   },
   {
    "duration": 114,
    "start_time": "2025-03-04T17:51:16.767Z"
   },
   {
    "duration": 1908,
    "start_time": "2025-03-04T17:52:39.537Z"
   },
   {
    "duration": 140,
    "start_time": "2025-03-04T17:52:49.620Z"
   },
   {
    "duration": 133,
    "start_time": "2025-03-04T17:53:47.578Z"
   },
   {
    "duration": 152,
    "start_time": "2025-03-04T17:54:06.832Z"
   },
   {
    "duration": 144,
    "start_time": "2025-03-04T17:54:13.133Z"
   },
   {
    "duration": 139,
    "start_time": "2025-03-04T17:54:26.269Z"
   },
   {
    "duration": 133,
    "start_time": "2025-03-04T17:54:33.562Z"
   },
   {
    "duration": 126,
    "start_time": "2025-03-04T17:55:26.010Z"
   },
   {
    "duration": 125,
    "start_time": "2025-03-04T17:55:30.881Z"
   },
   {
    "duration": 128,
    "start_time": "2025-03-04T17:55:43.545Z"
   },
   {
    "duration": 147,
    "start_time": "2025-03-04T17:55:46.828Z"
   },
   {
    "duration": 130,
    "start_time": "2025-03-04T17:56:20.831Z"
   },
   {
    "duration": 159,
    "start_time": "2025-03-04T17:56:27.415Z"
   },
   {
    "duration": 173,
    "start_time": "2025-03-04T17:56:37.004Z"
   },
   {
    "duration": 166,
    "start_time": "2025-03-04T17:57:17.746Z"
   },
   {
    "duration": 146,
    "start_time": "2025-03-04T17:57:28.349Z"
   },
   {
    "duration": 803,
    "start_time": "2025-03-04T17:57:54.836Z"
   },
   {
    "duration": 219,
    "start_time": "2025-03-04T17:58:19.646Z"
   },
   {
    "duration": 151,
    "start_time": "2025-03-04T17:58:38.670Z"
   },
   {
    "duration": 4,
    "start_time": "2025-03-04T18:01:32.192Z"
   },
   {
    "duration": 125,
    "start_time": "2025-03-04T18:01:58.602Z"
   },
   {
    "duration": 2123,
    "start_time": "2025-03-04T18:02:22.037Z"
   },
   {
    "duration": 144,
    "start_time": "2025-03-04T18:02:30.168Z"
   },
   {
    "duration": 140,
    "start_time": "2025-03-04T18:02:36.278Z"
   },
   {
    "duration": 130,
    "start_time": "2025-03-04T18:02:47.318Z"
   },
   {
    "duration": 141,
    "start_time": "2025-03-04T18:03:00.864Z"
   },
   {
    "duration": 143,
    "start_time": "2025-03-04T18:03:15.047Z"
   },
   {
    "duration": 141,
    "start_time": "2025-03-04T18:03:21.778Z"
   },
   {
    "duration": 130,
    "start_time": "2025-03-04T18:03:30.763Z"
   },
   {
    "duration": 133,
    "start_time": "2025-03-04T18:03:34.412Z"
   },
   {
    "duration": 137,
    "start_time": "2025-03-04T18:03:48.890Z"
   },
   {
    "duration": 143,
    "start_time": "2025-03-04T18:04:03.043Z"
   },
   {
    "duration": 153,
    "start_time": "2025-03-04T18:04:31.483Z"
   },
   {
    "duration": 154,
    "start_time": "2025-03-04T18:04:36.992Z"
   },
   {
    "duration": 144,
    "start_time": "2025-03-04T18:04:41.762Z"
   },
   {
    "duration": 146,
    "start_time": "2025-03-04T18:04:44.880Z"
   },
   {
    "duration": 144,
    "start_time": "2025-03-04T18:04:47.696Z"
   },
   {
    "duration": 394,
    "start_time": "2025-03-04T18:04:51.415Z"
   },
   {
    "duration": 162,
    "start_time": "2025-03-04T18:04:55.070Z"
   },
   {
    "duration": 145,
    "start_time": "2025-03-04T18:05:13.037Z"
   },
   {
    "duration": 133,
    "start_time": "2025-03-04T18:05:16.479Z"
   },
   {
    "duration": 134,
    "start_time": "2025-03-04T18:05:25.784Z"
   },
   {
    "duration": 136,
    "start_time": "2025-03-04T18:05:28.612Z"
   },
   {
    "duration": 139,
    "start_time": "2025-03-04T18:05:35.970Z"
   },
   {
    "duration": 214,
    "start_time": "2025-03-04T18:06:22.187Z"
   },
   {
    "duration": 5,
    "start_time": "2025-03-04T18:07:51.536Z"
   },
   {
    "duration": 212,
    "start_time": "2025-03-04T18:08:52.037Z"
   },
   {
    "duration": 222,
    "start_time": "2025-03-04T18:09:21.940Z"
   },
   {
    "duration": 134,
    "start_time": "2025-03-04T18:16:28.740Z"
   },
   {
    "duration": 134,
    "start_time": "2025-03-04T18:16:40.837Z"
   },
   {
    "duration": 127,
    "start_time": "2025-03-04T18:17:06.711Z"
   },
   {
    "duration": 132,
    "start_time": "2025-03-04T18:29:39.461Z"
   },
   {
    "duration": 37,
    "start_time": "2025-03-04T18:30:46.874Z"
   },
   {
    "duration": 25,
    "start_time": "2025-03-04T18:30:59.544Z"
   },
   {
    "duration": 27,
    "start_time": "2025-03-04T18:31:06.207Z"
   },
   {
    "duration": 141,
    "start_time": "2025-03-04T19:19:10.995Z"
   },
   {
    "duration": 1756,
    "start_time": "2025-03-04T19:22:39.050Z"
   },
   {
    "duration": 170,
    "start_time": "2025-03-04T19:22:47.542Z"
   },
   {
    "duration": 131,
    "start_time": "2025-03-04T19:22:58.499Z"
   },
   {
    "duration": 12,
    "start_time": "2025-03-04T19:23:07.532Z"
   },
   {
    "duration": 141,
    "start_time": "2025-03-04T19:23:10.429Z"
   },
   {
    "duration": 138,
    "start_time": "2025-03-04T19:23:47.006Z"
   },
   {
    "duration": 12,
    "start_time": "2025-03-04T19:24:02.250Z"
   },
   {
    "duration": 136,
    "start_time": "2025-03-04T19:24:06.496Z"
   },
   {
    "duration": 445,
    "start_time": "2025-03-04T19:24:11.313Z"
   },
   {
    "duration": 11,
    "start_time": "2025-03-04T19:24:16.955Z"
   },
   {
    "duration": 151,
    "start_time": "2025-03-04T19:25:57.564Z"
   },
   {
    "duration": 8,
    "start_time": "2025-03-04T19:26:45.741Z"
   },
   {
    "duration": 155,
    "start_time": "2025-03-04T19:26:48.687Z"
   },
   {
    "duration": 1758,
    "start_time": "2025-03-04T19:26:56.455Z"
   },
   {
    "duration": 151,
    "start_time": "2025-03-04T19:27:04.088Z"
   },
   {
    "duration": 4,
    "start_time": "2025-03-04T19:29:29.695Z"
   },
   {
    "duration": 6,
    "start_time": "2025-03-04T19:29:42.182Z"
   },
   {
    "duration": 119,
    "start_time": "2025-03-04T19:29:43.998Z"
   },
   {
    "duration": 5,
    "start_time": "2025-03-04T19:30:10.209Z"
   },
   {
    "duration": 5,
    "start_time": "2025-03-04T19:30:34.955Z"
   },
   {
    "duration": 10,
    "start_time": "2025-03-04T19:31:12.738Z"
   },
   {
    "duration": 122,
    "start_time": "2025-03-04T19:31:15.327Z"
   },
   {
    "duration": 133,
    "start_time": "2025-03-04T19:31:38.902Z"
   },
   {
    "duration": 15,
    "start_time": "2025-03-04T19:31:50.394Z"
   },
   {
    "duration": 9,
    "start_time": "2025-03-04T19:31:54.150Z"
   },
   {
    "duration": 10,
    "start_time": "2025-03-04T19:31:56.699Z"
   },
   {
    "duration": 144,
    "start_time": "2025-03-04T19:32:00.979Z"
   },
   {
    "duration": 149,
    "start_time": "2025-03-04T19:32:05.987Z"
   },
   {
    "duration": 129,
    "start_time": "2025-03-04T19:32:11.993Z"
   },
   {
    "duration": 153,
    "start_time": "2025-03-04T19:32:14.987Z"
   },
   {
    "duration": 148,
    "start_time": "2025-03-04T19:32:49.215Z"
   },
   {
    "duration": 157,
    "start_time": "2025-03-04T19:33:01.011Z"
   },
   {
    "duration": 74,
    "start_time": "2025-03-04T19:34:12.961Z"
   },
   {
    "duration": 4,
    "start_time": "2025-03-04T19:34:44.363Z"
   },
   {
    "duration": 9,
    "start_time": "2025-03-04T19:36:55.560Z"
   },
   {
    "duration": 6,
    "start_time": "2025-03-04T19:37:10.260Z"
   },
   {
    "duration": 4,
    "start_time": "2025-03-04T19:37:23.834Z"
   },
   {
    "duration": 145,
    "start_time": "2025-03-04T19:37:46.497Z"
   },
   {
    "duration": 182,
    "start_time": "2025-03-04T19:38:15.120Z"
   },
   {
    "duration": 12,
    "start_time": "2025-03-04T19:38:52.045Z"
   },
   {
    "duration": 157,
    "start_time": "2025-03-04T19:38:59.063Z"
   },
   {
    "duration": 150,
    "start_time": "2025-03-04T19:39:04.302Z"
   },
   {
    "duration": 143,
    "start_time": "2025-03-04T19:39:08.884Z"
   },
   {
    "duration": 12,
    "start_time": "2025-03-04T19:39:14.714Z"
   },
   {
    "duration": 143,
    "start_time": "2025-03-04T19:39:24.203Z"
   },
   {
    "duration": 179,
    "start_time": "2025-03-04T19:39:41.463Z"
   },
   {
    "duration": 172,
    "start_time": "2025-03-04T19:40:53.603Z"
   },
   {
    "duration": 136,
    "start_time": "2025-03-04T19:40:59.488Z"
   },
   {
    "duration": 138,
    "start_time": "2025-03-04T19:41:02.826Z"
   },
   {
    "duration": 15,
    "start_time": "2025-03-04T19:41:14.491Z"
   },
   {
    "duration": 159,
    "start_time": "2025-03-04T19:41:21.480Z"
   },
   {
    "duration": 137,
    "start_time": "2025-03-04T19:41:39.525Z"
   },
   {
    "duration": 4,
    "start_time": "2025-03-04T19:43:46.686Z"
   },
   {
    "duration": 130,
    "start_time": "2025-03-04T19:43:55.307Z"
   },
   {
    "duration": 123,
    "start_time": "2025-03-04T19:47:10.580Z"
   },
   {
    "duration": 469,
    "start_time": "2025-03-04T19:48:09.062Z"
   },
   {
    "duration": 140,
    "start_time": "2025-03-04T19:48:27.593Z"
   },
   {
    "duration": 151,
    "start_time": "2025-03-04T19:48:35.307Z"
   },
   {
    "duration": 146,
    "start_time": "2025-03-04T19:48:57.424Z"
   },
   {
    "duration": 142,
    "start_time": "2025-03-04T19:49:01.678Z"
   },
   {
    "duration": 142,
    "start_time": "2025-03-04T19:49:13.171Z"
   },
   {
    "duration": 163,
    "start_time": "2025-03-04T19:49:23.046Z"
   },
   {
    "duration": 150,
    "start_time": "2025-03-04T19:49:28.798Z"
   },
   {
    "duration": 132,
    "start_time": "2025-03-04T19:49:46.784Z"
   },
   {
    "duration": 131,
    "start_time": "2025-03-04T19:49:49.539Z"
   },
   {
    "duration": 135,
    "start_time": "2025-03-04T19:50:12.628Z"
   },
   {
    "duration": 5,
    "start_time": "2025-03-04T19:52:38.367Z"
   },
   {
    "duration": 9,
    "start_time": "2025-03-04T19:52:50.505Z"
   },
   {
    "duration": 129,
    "start_time": "2025-03-04T19:53:18.423Z"
   },
   {
    "duration": 144,
    "start_time": "2025-03-04T19:54:04.045Z"
   },
   {
    "duration": 158,
    "start_time": "2025-03-04T19:54:08.903Z"
   },
   {
    "duration": 141,
    "start_time": "2025-03-04T19:54:12.061Z"
   },
   {
    "duration": 8,
    "start_time": "2025-03-04T19:56:10.484Z"
   },
   {
    "duration": 123,
    "start_time": "2025-03-04T19:56:22.310Z"
   },
   {
    "duration": 1006,
    "start_time": "2025-03-04T19:56:32.503Z"
   },
   {
    "duration": 127,
    "start_time": "2025-03-04T19:56:42.625Z"
   },
   {
    "duration": 135,
    "start_time": "2025-03-04T19:57:17.378Z"
   },
   {
    "duration": 10,
    "start_time": "2025-03-04T19:57:23.561Z"
   },
   {
    "duration": 172,
    "start_time": "2025-03-04T19:57:31.567Z"
   },
   {
    "duration": 187,
    "start_time": "2025-03-04T19:57:33.223Z"
   },
   {
    "duration": 177,
    "start_time": "2025-03-04T19:57:35.269Z"
   },
   {
    "duration": 149,
    "start_time": "2025-03-04T19:57:37.521Z"
   },
   {
    "duration": 180,
    "start_time": "2025-03-04T19:57:39.520Z"
   },
   {
    "duration": 4,
    "start_time": "2025-03-04T19:57:57.283Z"
   },
   {
    "duration": 10,
    "start_time": "2025-03-04T19:58:01.643Z"
   },
   {
    "duration": 16,
    "start_time": "2025-03-04T20:10:51.577Z"
   },
   {
    "duration": 10,
    "start_time": "2025-03-04T20:11:00.558Z"
   },
   {
    "duration": 9,
    "start_time": "2025-03-04T20:14:57.193Z"
   },
   {
    "duration": 9,
    "start_time": "2025-03-04T20:15:02.221Z"
   },
   {
    "duration": 13,
    "start_time": "2025-03-04T20:16:01.343Z"
   },
   {
    "duration": 132,
    "start_time": "2025-03-04T20:16:07.938Z"
   },
   {
    "duration": 36,
    "start_time": "2025-03-04T20:16:34.863Z"
   },
   {
    "duration": 139,
    "start_time": "2025-03-04T20:16:43.108Z"
   },
   {
    "duration": 132,
    "start_time": "2025-03-04T20:16:55.826Z"
   },
   {
    "duration": 131,
    "start_time": "2025-03-04T20:16:58.912Z"
   },
   {
    "duration": 148,
    "start_time": "2025-03-04T20:17:02.039Z"
   },
   {
    "duration": 144,
    "start_time": "2025-03-04T20:17:06.645Z"
   },
   {
    "duration": 152,
    "start_time": "2025-03-04T20:17:21.450Z"
   },
   {
    "duration": 153,
    "start_time": "2025-03-04T20:17:25.057Z"
   },
   {
    "duration": 143,
    "start_time": "2025-03-04T20:17:30.969Z"
   },
   {
    "duration": 123,
    "start_time": "2025-03-04T20:17:35.303Z"
   },
   {
    "duration": 17,
    "start_time": "2025-03-04T20:17:40.441Z"
   },
   {
    "duration": 133,
    "start_time": "2025-03-04T20:17:43.545Z"
   },
   {
    "duration": 167,
    "start_time": "2025-03-04T20:17:50.651Z"
   },
   {
    "duration": 17,
    "start_time": "2025-03-04T20:18:05.519Z"
   },
   {
    "duration": 14,
    "start_time": "2025-03-04T20:18:30.448Z"
   },
   {
    "duration": 176,
    "start_time": "2025-03-04T20:18:51.230Z"
   },
   {
    "duration": 166,
    "start_time": "2025-03-04T20:18:57.456Z"
   },
   {
    "duration": 4,
    "start_time": "2025-03-04T20:23:26.617Z"
   },
   {
    "duration": 6,
    "start_time": "2025-03-04T20:23:44.151Z"
   },
   {
    "duration": 107,
    "start_time": "2025-03-04T20:23:48.581Z"
   },
   {
    "duration": 111,
    "start_time": "2025-03-04T20:23:53.654Z"
   },
   {
    "duration": 114,
    "start_time": "2025-03-04T20:29:37.688Z"
   },
   {
    "duration": 14,
    "start_time": "2025-03-04T20:29:41.077Z"
   },
   {
    "duration": 300,
    "start_time": "2025-03-04T20:32:43.227Z"
   },
   {
    "duration": 254,
    "start_time": "2025-03-04T20:33:04.122Z"
   },
   {
    "duration": 14,
    "start_time": "2025-03-04T20:33:39.081Z"
   },
   {
    "duration": 9,
    "start_time": "2025-03-04T20:33:55.606Z"
   },
   {
    "duration": 13,
    "start_time": "2025-03-04T20:34:00.295Z"
   },
   {
    "duration": 197,
    "start_time": "2025-03-04T20:34:16.099Z"
   },
   {
    "duration": 201,
    "start_time": "2025-03-04T20:34:25.114Z"
   },
   {
    "duration": 103,
    "start_time": "2025-03-04T20:34:30.010Z"
   },
   {
    "duration": 177,
    "start_time": "2025-03-04T20:34:32.447Z"
   },
   {
    "duration": 173,
    "start_time": "2025-03-04T20:34:42.745Z"
   },
   {
    "duration": 3,
    "start_time": "2025-03-04T20:36:37.645Z"
   },
   {
    "duration": 288,
    "start_time": "2025-03-04T20:36:38.450Z"
   },
   {
    "duration": 1264,
    "start_time": "2025-03-04T20:36:55.767Z"
   },
   {
    "duration": 15,
    "start_time": "2025-03-04T20:37:11.831Z"
   },
   {
    "duration": 14,
    "start_time": "2025-03-04T20:37:17.560Z"
   },
   {
    "duration": 16,
    "start_time": "2025-03-04T20:37:23.508Z"
   },
   {
    "duration": 821,
    "start_time": "2025-03-04T20:37:58.610Z"
   },
   {
    "duration": 310,
    "start_time": "2025-03-04T20:38:27.510Z"
   },
   {
    "duration": 316,
    "start_time": "2025-03-04T20:38:31.583Z"
   },
   {
    "duration": 33,
    "start_time": "2025-03-04T20:38:32.660Z"
   },
   {
    "duration": 158,
    "start_time": "2025-03-04T20:38:38.057Z"
   },
   {
    "duration": 148,
    "start_time": "2025-03-04T20:38:39.281Z"
   },
   {
    "duration": 153,
    "start_time": "2025-03-04T20:38:40.051Z"
   },
   {
    "duration": 139,
    "start_time": "2025-03-04T20:38:40.588Z"
   },
   {
    "duration": 138,
    "start_time": "2025-03-04T20:38:41.138Z"
   },
   {
    "duration": 158,
    "start_time": "2025-03-04T20:38:41.717Z"
   },
   {
    "duration": 156,
    "start_time": "2025-03-04T20:38:42.964Z"
   },
   {
    "duration": 156,
    "start_time": "2025-03-04T20:39:13.354Z"
   },
   {
    "duration": 7,
    "start_time": "2025-03-04T20:39:54.592Z"
   },
   {
    "duration": 9,
    "start_time": "2025-03-04T20:39:58.593Z"
   },
   {
    "duration": 62,
    "start_time": "2025-03-04T20:40:32.533Z"
   },
   {
    "duration": 662,
    "start_time": "2025-03-04T20:40:36.103Z"
   },
   {
    "duration": 261,
    "start_time": "2025-03-04T20:40:44.918Z"
   },
   {
    "duration": 243,
    "start_time": "2025-03-04T20:40:48.401Z"
   },
   {
    "duration": 7,
    "start_time": "2025-03-04T20:41:45.555Z"
   },
   {
    "duration": 9,
    "start_time": "2025-03-04T20:41:49.819Z"
   },
   {
    "duration": 243,
    "start_time": "2025-03-04T20:42:10.995Z"
   },
   {
    "duration": 249,
    "start_time": "2025-03-04T20:42:48.360Z"
   },
   {
    "duration": 235,
    "start_time": "2025-03-04T20:42:53.079Z"
   },
   {
    "duration": 232,
    "start_time": "2025-03-04T20:43:59.038Z"
   },
   {
    "duration": 235,
    "start_time": "2025-03-04T20:44:02.424Z"
   },
   {
    "duration": 351,
    "start_time": "2025-03-04T20:44:20.097Z"
   },
   {
    "duration": 188,
    "start_time": "2025-03-04T20:44:22.904Z"
   },
   {
    "duration": 153,
    "start_time": "2025-03-04T20:44:26.358Z"
   },
   {
    "duration": 129,
    "start_time": "2025-03-04T20:44:29.065Z"
   },
   {
    "duration": 10,
    "start_time": "2025-03-04T20:45:17.309Z"
   },
   {
    "duration": 263,
    "start_time": "2025-03-04T20:45:45.187Z"
   },
   {
    "duration": 189,
    "start_time": "2025-03-04T20:45:49.531Z"
   },
   {
    "duration": 147,
    "start_time": "2025-03-04T20:45:53.196Z"
   },
   {
    "duration": 143,
    "start_time": "2025-03-04T20:46:20.833Z"
   },
   {
    "duration": 156,
    "start_time": "2025-03-04T20:46:23.162Z"
   },
   {
    "duration": 9,
    "start_time": "2025-03-04T21:00:34.195Z"
   },
   {
    "duration": 244,
    "start_time": "2025-03-04T21:01:10.260Z"
   },
   {
    "duration": 193,
    "start_time": "2025-03-04T21:01:13.913Z"
   },
   {
    "duration": 138,
    "start_time": "2025-03-04T21:01:16.609Z"
   },
   {
    "duration": 133,
    "start_time": "2025-03-04T21:01:18.944Z"
   },
   {
    "duration": 143,
    "start_time": "2025-03-04T21:02:47.492Z"
   },
   {
    "duration": 130,
    "start_time": "2025-03-04T21:02:53.209Z"
   },
   {
    "duration": 18,
    "start_time": "2025-03-04T21:08:02.103Z"
   },
   {
    "duration": 59,
    "start_time": "2025-03-04T21:12:52.138Z"
   },
   {
    "duration": 158,
    "start_time": "2025-03-04T21:12:57.194Z"
   },
   {
    "duration": 157,
    "start_time": "2025-03-04T21:13:26.886Z"
   },
   {
    "duration": 162,
    "start_time": "2025-03-04T21:13:48.962Z"
   },
   {
    "duration": 153,
    "start_time": "2025-03-04T21:14:17.180Z"
   },
   {
    "duration": 131,
    "start_time": "2025-03-04T21:15:21.297Z"
   },
   {
    "duration": 116,
    "start_time": "2025-03-04T21:15:27.275Z"
   },
   {
    "duration": 15,
    "start_time": "2025-03-04T21:15:39.956Z"
   },
   {
    "duration": 157,
    "start_time": "2025-03-04T21:16:07.897Z"
   },
   {
    "duration": 85,
    "start_time": "2025-03-04T21:17:11.950Z"
   },
   {
    "duration": 73,
    "start_time": "2025-03-04T21:17:23.521Z"
   },
   {
    "duration": 219,
    "start_time": "2025-03-04T21:17:28.977Z"
   },
   {
    "duration": 13,
    "start_time": "2025-03-04T21:17:42.959Z"
   },
   {
    "duration": 153,
    "start_time": "2025-03-04T21:18:00.212Z"
   },
   {
    "duration": 137,
    "start_time": "2025-03-04T21:18:21.093Z"
   },
   {
    "duration": 156,
    "start_time": "2025-03-04T21:18:29.116Z"
   },
   {
    "duration": 286,
    "start_time": "2025-03-04T21:23:23.756Z"
   },
   {
    "duration": 14,
    "start_time": "2025-03-04T21:26:35.619Z"
   },
   {
    "duration": 10,
    "start_time": "2025-03-04T21:27:05.246Z"
   },
   {
    "duration": 14,
    "start_time": "2025-03-04T21:27:09.786Z"
   },
   {
    "duration": 13,
    "start_time": "2025-03-04T21:27:26.909Z"
   },
   {
    "duration": 17,
    "start_time": "2025-03-04T21:27:53.500Z"
   },
   {
    "duration": 25,
    "start_time": "2025-03-04T21:28:30.387Z"
   },
   {
    "duration": 23,
    "start_time": "2025-03-04T21:28:54.390Z"
   },
   {
    "duration": 1090,
    "start_time": "2025-03-04T21:36:42.855Z"
   },
   {
    "duration": 10,
    "start_time": "2025-03-04T21:37:08.379Z"
   },
   {
    "duration": 11,
    "start_time": "2025-03-04T21:37:16.101Z"
   },
   {
    "duration": 10,
    "start_time": "2025-03-04T21:37:18.294Z"
   },
   {
    "duration": 10,
    "start_time": "2025-03-04T21:37:22.845Z"
   },
   {
    "duration": 9,
    "start_time": "2025-03-04T21:37:25.259Z"
   },
   {
    "duration": 10,
    "start_time": "2025-03-04T21:37:27.475Z"
   },
   {
    "duration": 12,
    "start_time": "2025-03-04T21:37:29.474Z"
   },
   {
    "duration": 13,
    "start_time": "2025-03-04T21:37:33.340Z"
   },
   {
    "duration": 9,
    "start_time": "2025-03-04T21:38:09.582Z"
   },
   {
    "duration": 165,
    "start_time": "2025-03-04T21:38:13.366Z"
   },
   {
    "duration": 14,
    "start_time": "2025-03-04T21:39:04.389Z"
   },
   {
    "duration": 13,
    "start_time": "2025-03-04T21:39:11.431Z"
   },
   {
    "duration": 14,
    "start_time": "2025-03-04T21:39:20.843Z"
   },
   {
    "duration": 17,
    "start_time": "2025-03-04T21:39:24.793Z"
   },
   {
    "duration": 16,
    "start_time": "2025-03-04T21:42:15.652Z"
   },
   {
    "duration": 19,
    "start_time": "2025-03-04T21:42:35.364Z"
   },
   {
    "duration": 17,
    "start_time": "2025-03-04T21:45:14.159Z"
   },
   {
    "duration": 18,
    "start_time": "2025-03-04T21:45:20.095Z"
   },
   {
    "duration": 21,
    "start_time": "2025-03-04T21:45:25.003Z"
   },
   {
    "duration": 3,
    "start_time": "2025-03-04T22:08:23.343Z"
   },
   {
    "duration": 2,
    "start_time": "2025-03-04T22:09:19.680Z"
   },
   {
    "duration": 545,
    "start_time": "2025-03-05T15:35:52.793Z"
   },
   {
    "duration": 43,
    "start_time": "2025-03-05T15:35:53.546Z"
   },
   {
    "duration": 14,
    "start_time": "2025-03-05T15:35:54.471Z"
   },
   {
    "duration": 2341,
    "start_time": "2025-03-05T15:35:58.966Z"
   },
   {
    "duration": 7,
    "start_time": "2025-03-05T15:36:03.758Z"
   },
   {
    "duration": 11,
    "start_time": "2025-03-05T15:36:06.216Z"
   },
   {
    "duration": 71,
    "start_time": "2025-03-05T15:36:16.694Z"
   },
   {
    "duration": 18,
    "start_time": "2025-03-05T15:36:22.748Z"
   },
   {
    "duration": 12,
    "start_time": "2025-03-05T15:36:27.238Z"
   },
   {
    "duration": 12,
    "start_time": "2025-03-05T15:36:29.663Z"
   },
   {
    "duration": 10,
    "start_time": "2025-03-05T15:36:31.862Z"
   },
   {
    "duration": 12,
    "start_time": "2025-03-05T15:36:41.226Z"
   },
   {
    "duration": 6,
    "start_time": "2025-03-05T15:36:41.658Z"
   },
   {
    "duration": 12,
    "start_time": "2025-03-05T15:36:42.864Z"
   },
   {
    "duration": 6,
    "start_time": "2025-03-05T15:36:44.954Z"
   },
   {
    "duration": 4,
    "start_time": "2025-03-05T15:36:45.387Z"
   },
   {
    "duration": 5,
    "start_time": "2025-03-05T15:36:45.657Z"
   },
   {
    "duration": 6,
    "start_time": "2025-03-05T15:36:45.985Z"
   },
   {
    "duration": 10,
    "start_time": "2025-03-05T15:36:52.121Z"
   },
   {
    "duration": 5,
    "start_time": "2025-03-05T15:36:52.613Z"
   },
   {
    "duration": 11,
    "start_time": "2025-03-05T15:36:54.670Z"
   },
   {
    "duration": 10,
    "start_time": "2025-03-05T15:36:56.996Z"
   },
   {
    "duration": 8,
    "start_time": "2025-03-05T15:37:20.380Z"
   },
   {
    "duration": 6,
    "start_time": "2025-03-05T15:37:23.774Z"
   },
   {
    "duration": 10,
    "start_time": "2025-03-05T16:07:23.705Z"
   },
   {
    "duration": 288,
    "start_time": "2025-03-05T16:17:14.095Z"
   },
   {
    "duration": 320,
    "start_time": "2025-03-05T16:17:52.461Z"
   },
   {
    "duration": 338,
    "start_time": "2025-03-05T16:18:21.994Z"
   },
   {
    "duration": 340,
    "start_time": "2025-03-05T16:19:04.684Z"
   },
   {
    "duration": 335,
    "start_time": "2025-03-05T16:21:09.482Z"
   },
   {
    "duration": 344,
    "start_time": "2025-03-05T16:26:28.729Z"
   },
   {
    "duration": 348,
    "start_time": "2025-03-05T16:27:24.599Z"
   },
   {
    "duration": 334,
    "start_time": "2025-03-05T16:27:34.869Z"
   },
   {
    "duration": 320,
    "start_time": "2025-03-05T16:27:49.243Z"
   },
   {
    "duration": 349,
    "start_time": "2025-03-05T16:27:52.376Z"
   },
   {
    "duration": 347,
    "start_time": "2025-03-05T16:28:02.682Z"
   },
   {
    "duration": 364,
    "start_time": "2025-03-05T16:28:13.874Z"
   },
   {
    "duration": 328,
    "start_time": "2025-03-05T16:28:19.593Z"
   },
   {
    "duration": 351,
    "start_time": "2025-03-05T16:28:54.123Z"
   },
   {
    "duration": 300,
    "start_time": "2025-03-05T16:29:36.633Z"
   },
   {
    "duration": 390,
    "start_time": "2025-03-05T16:30:21.273Z"
   },
   {
    "duration": 324,
    "start_time": "2025-03-05T16:30:34.991Z"
   },
   {
    "duration": 376,
    "start_time": "2025-03-05T16:30:41.324Z"
   },
   {
    "duration": 334,
    "start_time": "2025-03-05T16:31:15.410Z"
   },
   {
    "duration": 24,
    "start_time": "2025-03-05T16:32:58.018Z"
   },
   {
    "duration": 20,
    "start_time": "2025-03-05T16:33:18.606Z"
   },
   {
    "duration": 256,
    "start_time": "2025-03-05T16:34:37.830Z"
   },
   {
    "duration": 23,
    "start_time": "2025-03-05T16:34:40.182Z"
   },
   {
    "duration": 5,
    "start_time": "2025-03-05T16:35:20.613Z"
   },
   {
    "duration": 10,
    "start_time": "2025-03-05T16:35:21.304Z"
   },
   {
    "duration": 10,
    "start_time": "2025-03-05T16:35:22.942Z"
   },
   {
    "duration": 4,
    "start_time": "2025-03-05T16:35:23.705Z"
   },
   {
    "duration": 15,
    "start_time": "2025-03-05T16:35:23.996Z"
   },
   {
    "duration": 10,
    "start_time": "2025-03-05T16:35:24.949Z"
   },
   {
    "duration": 10,
    "start_time": "2025-03-05T16:35:25.597Z"
   },
   {
    "duration": 24,
    "start_time": "2025-03-05T16:35:27.549Z"
   },
   {
    "duration": 2200,
    "start_time": "2025-03-05T16:35:29.448Z"
   },
   {
    "duration": 3,
    "start_time": "2025-03-05T16:35:31.650Z"
   },
   {
    "duration": 336,
    "start_time": "2025-03-05T16:35:33.285Z"
   },
   {
    "duration": 32,
    "start_time": "2025-03-05T16:35:34.627Z"
   },
   {
    "duration": 155,
    "start_time": "2025-03-05T16:35:37.335Z"
   },
   {
    "duration": 159,
    "start_time": "2025-03-05T16:38:14.961Z"
   },
   {
    "duration": 17,
    "start_time": "2025-03-05T16:40:54.083Z"
   },
   {
    "duration": 3,
    "start_time": "2025-03-05T16:41:59.765Z"
   },
   {
    "duration": 162,
    "start_time": "2025-03-05T16:43:11.192Z"
   },
   {
    "duration": 247,
    "start_time": "2025-03-05T16:44:33.230Z"
   },
   {
    "duration": 155,
    "start_time": "2025-03-05T16:44:42.466Z"
   },
   {
    "duration": 206,
    "start_time": "2025-03-05T16:44:51.412Z"
   },
   {
    "duration": 160,
    "start_time": "2025-03-05T16:44:58.856Z"
   },
   {
    "duration": 158,
    "start_time": "2025-03-05T16:45:25.249Z"
   },
   {
    "duration": 140,
    "start_time": "2025-03-05T16:45:50.479Z"
   },
   {
    "duration": 145,
    "start_time": "2025-03-05T16:45:58.915Z"
   },
   {
    "duration": 141,
    "start_time": "2025-03-05T16:46:27.254Z"
   },
   {
    "duration": 174,
    "start_time": "2025-03-05T16:47:49.020Z"
   },
   {
    "duration": 172,
    "start_time": "2025-03-05T16:48:00.684Z"
   },
   {
    "duration": 167,
    "start_time": "2025-03-05T16:48:16.318Z"
   },
   {
    "duration": 155,
    "start_time": "2025-03-05T16:48:26.227Z"
   },
   {
    "duration": 155,
    "start_time": "2025-03-05T16:48:36.231Z"
   },
   {
    "duration": 171,
    "start_time": "2025-03-05T16:49:24.406Z"
   },
   {
    "duration": 162,
    "start_time": "2025-03-05T16:50:13.289Z"
   },
   {
    "duration": 152,
    "start_time": "2025-03-05T16:50:22.518Z"
   },
   {
    "duration": 265,
    "start_time": "2025-03-05T16:51:00.288Z"
   },
   {
    "duration": 8,
    "start_time": "2025-03-05T16:51:06.827Z"
   },
   {
    "duration": 255,
    "start_time": "2025-03-05T16:51:44.352Z"
   },
   {
    "duration": 9,
    "start_time": "2025-03-05T16:51:50.159Z"
   },
   {
    "duration": 139,
    "start_time": "2025-03-05T16:52:11.983Z"
   },
   {
    "duration": 9,
    "start_time": "2025-03-05T16:52:15.234Z"
   },
   {
    "duration": 149,
    "start_time": "2025-03-05T16:52:42.474Z"
   },
   {
    "duration": 159,
    "start_time": "2025-03-05T16:52:54.453Z"
   },
   {
    "duration": 164,
    "start_time": "2025-03-05T16:53:03.675Z"
   },
   {
    "duration": 258,
    "start_time": "2025-03-05T16:53:13.384Z"
   },
   {
    "duration": 167,
    "start_time": "2025-03-05T16:53:22.940Z"
   },
   {
    "duration": 9,
    "start_time": "2025-03-05T16:53:54.699Z"
   },
   {
    "duration": 144,
    "start_time": "2025-03-05T16:54:54.226Z"
   },
   {
    "duration": 20,
    "start_time": "2025-03-05T16:54:58.725Z"
   },
   {
    "duration": 161,
    "start_time": "2025-03-05T16:55:50.052Z"
   },
   {
    "duration": 170,
    "start_time": "2025-03-05T16:56:06.430Z"
   },
   {
    "duration": 164,
    "start_time": "2025-03-05T16:57:02.563Z"
   },
   {
    "duration": 169,
    "start_time": "2025-03-05T16:57:39.126Z"
   },
   {
    "duration": 163,
    "start_time": "2025-03-05T16:58:09.676Z"
   },
   {
    "duration": 294,
    "start_time": "2025-03-05T16:58:35.786Z"
   },
   {
    "duration": 406,
    "start_time": "2025-03-05T16:58:40.707Z"
   },
   {
    "duration": 154,
    "start_time": "2025-03-05T16:58:44.659Z"
   },
   {
    "duration": 159,
    "start_time": "2025-03-05T16:58:51.844Z"
   },
   {
    "duration": 171,
    "start_time": "2025-03-05T16:58:55.499Z"
   },
   {
    "duration": 162,
    "start_time": "2025-03-05T16:58:57.556Z"
   },
   {
    "duration": 168,
    "start_time": "2025-03-05T16:59:30.157Z"
   },
   {
    "duration": 164,
    "start_time": "2025-03-05T17:00:30.481Z"
   },
   {
    "duration": 169,
    "start_time": "2025-03-05T17:00:48.609Z"
   },
   {
    "duration": 159,
    "start_time": "2025-03-05T17:00:57.508Z"
   },
   {
    "duration": 23,
    "start_time": "2025-03-05T17:01:06.388Z"
   },
   {
    "duration": 13,
    "start_time": "2025-03-05T17:01:09.321Z"
   },
   {
    "duration": 172,
    "start_time": "2025-03-05T17:01:35.599Z"
   },
   {
    "duration": 18,
    "start_time": "2025-03-05T17:01:40.978Z"
   }
  ],
  "colab": {
   "provenance": []
  },
  "kernelspec": {
   "display_name": "Python 3 (ipykernel)",
   "language": "python",
   "name": "python3"
  },
  "language_info": {
   "codemirror_mode": {
    "name": "ipython",
    "version": 3
   },
   "file_extension": ".py",
   "mimetype": "text/x-python",
   "name": "python",
   "nbconvert_exporter": "python",
   "pygments_lexer": "ipython3",
   "version": "3.9.5"
  },
  "toc": {
   "base_numbering": 1,
   "nav_menu": {},
   "number_sections": true,
   "sideBar": true,
   "skip_h1_title": true,
   "title_cell": "Table of Contents",
   "title_sidebar": "Contents",
   "toc_cell": false,
   "toc_position": {},
   "toc_section_display": true,
   "toc_window_display": false
  }
 },
 "nbformat": 4,
 "nbformat_minor": 1
}
